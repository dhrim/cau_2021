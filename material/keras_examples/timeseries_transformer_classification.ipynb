{
  "nbformat": 4,
  "nbformat_minor": 0,
  "metadata": {
    "colab": {
      "name": "timeseries_transformer_classification",
      "provenance": [],
      "collapsed_sections": [],
      "toc_visible": true
    },
    "kernelspec": {
      "display_name": "Python 3",
      "language": "python",
      "name": "python3"
    },
    "language_info": {
      "codemirror_mode": {
        "name": "ipython",
        "version": 3
      },
      "file_extension": ".py",
      "mimetype": "text/x-python",
      "name": "python",
      "nbconvert_exporter": "python",
      "pygments_lexer": "ipython3",
      "version": "3.7.0"
    },
    "accelerator": "GPU"
  },
  "cells": [
    {
      "cell_type": "markdown",
      "metadata": {
        "id": "0ChRNPgZp62x"
      },
      "source": [
        "# Timeseries classification with a Transformer model\n",
        "\n",
        "copy from https://keras.io/examples/timeseries/timeseries_classification_transformer/\n",
        "\n",
        "Example Key Word : 시계열 데이터, Transformer, 분류"
      ]
    },
    {
      "cell_type": "markdown",
      "metadata": {
        "id": "vbT4WxcqqV0a"
      },
      "source": [
        "Transformer 모델을 시계열 데이터에 적용한 것\n",
        "\n",
        "\n",
        "Timeseries classification from scratch 와 거의 동일하고 오로지 모델만 바꾸었다.\n"
      ]
    },
    {
      "cell_type": "markdown",
      "metadata": {
        "id": "1AazuugCqc5I"
      },
      "source": [
        "# 데이터 준비"
      ]
    },
    {
      "cell_type": "code",
      "metadata": {
        "id": "QqtiKphvp621"
      },
      "source": [
        "import numpy as np\n",
        "\n",
        "\n",
        "def readucr(filename):\n",
        "    data = np.loadtxt(filename, delimiter=\"\\t\")\n",
        "    y = data[:, 0]\n",
        "    x = data[:, 1:]\n",
        "    return x, y.astype(int)\n",
        "\n",
        "\n",
        "root_url = \"https://raw.githubusercontent.com/hfawaz/cd-diagram/master/FordA/\"\n",
        "\n",
        "x_train, y_train = readucr(root_url + \"FordA_TRAIN.tsv\")\n",
        "x_test, y_test = readucr(root_url + \"FordA_TEST.tsv\")\n",
        "\n",
        "x_train = x_train.reshape((x_train.shape[0], x_train.shape[1], 1))\n",
        "x_test = x_test.reshape((x_test.shape[0], x_test.shape[1], 1))\n",
        "\n",
        "n_classes = len(np.unique(y_train))\n",
        "\n",
        "idx = np.random.permutation(len(x_train))\n",
        "x_train = x_train[idx]\n",
        "y_train = y_train[idx]\n",
        "\n",
        "y_train[y_train == -1] = 0\n",
        "y_test[y_test == -1] = 0"
      ],
      "execution_count": 1,
      "outputs": []
    },
    {
      "cell_type": "markdown",
      "metadata": {
        "id": "5AK1vaOzr3GE"
      },
      "source": [
        "# 학습"
      ]
    },
    {
      "cell_type": "markdown",
      "metadata": {
        "id": "T2S149A3qyd5"
      },
      "source": [
        "## 모델 정의"
      ]
    },
    {
      "cell_type": "code",
      "metadata": {
        "id": "czD-KgQxp623"
      },
      "source": [
        "from tensorflow import keras\n",
        "from tensorflow.keras import layers"
      ],
      "execution_count": 2,
      "outputs": []
    },
    {
      "cell_type": "markdown",
      "metadata": {
        "id": "cEqEgG8Zq_DD"
      },
      "source": [
        "transformer encoder 블럭 정의"
      ]
    },
    {
      "cell_type": "code",
      "metadata": {
        "id": "ImLp3vA4p624"
      },
      "source": [
        "\n",
        "def transformer_encoder(inputs, head_size, num_heads, ff_dim, dropout=0):\n",
        "    # Normalization and Attention\n",
        "    x = layers.LayerNormalization(epsilon=1e-6)(inputs)\n",
        "    x = layers.MultiHeadAttention(\n",
        "        key_dim=head_size, num_heads=num_heads, dropout=dropout\n",
        "    )(x, x)\n",
        "    x = layers.Dropout(dropout)(x)\n",
        "    res = x + inputs\n",
        "\n",
        "    # Feed Forward Part\n",
        "    x = layers.LayerNormalization(epsilon=1e-6)(res)\n",
        "    x = layers.Conv1D(filters=ff_dim, kernel_size=1, activation=\"relu\")(x)\n",
        "    x = layers.Dropout(dropout)(x)\n",
        "    x = layers.Conv1D(filters=inputs.shape[-1], kernel_size=1)(x)\n",
        "    return x + res\n"
      ],
      "execution_count": 4,
      "outputs": []
    },
    {
      "cell_type": "markdown",
      "metadata": {
        "id": "A2NNUBuUrKzQ"
      },
      "source": [
        "transformer encoder 블럭을 쌓아서 전체 모델을 정의한다."
      ]
    },
    {
      "cell_type": "code",
      "metadata": {
        "id": "_29cLPQfp626"
      },
      "source": [
        "def build_model(\n",
        "    input_shape,\n",
        "    head_size,\n",
        "    num_heads,\n",
        "    ff_dim,\n",
        "    num_transformer_blocks,\n",
        "    mlp_units,\n",
        "    dropout=0,\n",
        "    mlp_dropout=0,\n",
        "):\n",
        "    inputs = keras.Input(shape=input_shape)\n",
        "    x = inputs\n",
        "    for _ in range(num_transformer_blocks):\n",
        "        x = transformer_encoder(x, head_size, num_heads, ff_dim, dropout)\n",
        "\n",
        "    # flatten() 대신 GloabalAveragePooling1D()를 사용하였다.\n",
        "    x = layers.GlobalAveragePooling1D(data_format=\"channels_first\")(x)\n",
        "    for dim in mlp_units:\n",
        "        x = layers.Dense(dim, activation=\"relu\")(x)\n",
        "        x = layers.Dropout(mlp_dropout)(x)\n",
        "    outputs = layers.Dense(n_classes, activation=\"softmax\")(x)\n",
        "    return keras.Model(inputs, outputs)\n"
      ],
      "execution_count": 5,
      "outputs": []
    },
    {
      "cell_type": "code",
      "metadata": {
        "id": "FT4dQifjrscE"
      },
      "source": [
        "input_shape = x_train.shape[1:]\n",
        "\n",
        "model = build_model(\n",
        "    input_shape,\n",
        "    head_size=256,\n",
        "    num_heads=4,\n",
        "    ff_dim=4,\n",
        "    num_transformer_blocks=4,\n",
        "    mlp_units=[128],\n",
        "    mlp_dropout=0.4,\n",
        "    dropout=0.25,\n",
        ")"
      ],
      "execution_count": 10,
      "outputs": []
    },
    {
      "cell_type": "markdown",
      "metadata": {
        "id": "9aKOXPPnr8oZ"
      },
      "source": [
        "## 컴파일"
      ]
    },
    {
      "cell_type": "code",
      "metadata": {
        "id": "geLIdNdMr7dx",
        "outputId": "512e3edb-054f-495e-af67-18d3db554f5e",
        "colab": {
          "base_uri": "https://localhost:8080/"
        }
      },
      "source": [
        "model.compile(\n",
        "    loss=\"sparse_categorical_crossentropy\",\n",
        "    optimizer=keras.optimizers.Adam(learning_rate=1e-4),\n",
        "    metrics=[\"sparse_categorical_accuracy\"],\n",
        ")\n",
        "model.summary()\n"
      ],
      "execution_count": 11,
      "outputs": [
        {
          "output_type": "stream",
          "text": [
            "Model: \"model_1\"\n",
            "__________________________________________________________________________________________________\n",
            "Layer (type)                    Output Shape         Param #     Connected to                     \n",
            "==================================================================================================\n",
            "input_2 (InputLayer)            [(None, 500, 1)]     0                                            \n",
            "__________________________________________________________________________________________________\n",
            "layer_normalization_8 (LayerNor (None, 500, 1)       2           input_2[0][0]                    \n",
            "__________________________________________________________________________________________________\n",
            "multi_head_attention_4 (MultiHe (None, 500, 1)       7169        layer_normalization_8[0][0]      \n",
            "                                                                 layer_normalization_8[0][0]      \n",
            "__________________________________________________________________________________________________\n",
            "dropout_9 (Dropout)             (None, 500, 1)       0           multi_head_attention_4[0][0]     \n",
            "__________________________________________________________________________________________________\n",
            "tf.__operators__.add_8 (TFOpLam (None, 500, 1)       0           dropout_9[0][0]                  \n",
            "                                                                 input_2[0][0]                    \n",
            "__________________________________________________________________________________________________\n",
            "layer_normalization_9 (LayerNor (None, 500, 1)       2           tf.__operators__.add_8[0][0]     \n",
            "__________________________________________________________________________________________________\n",
            "conv1d_8 (Conv1D)               (None, 500, 4)       8           layer_normalization_9[0][0]      \n",
            "__________________________________________________________________________________________________\n",
            "dropout_10 (Dropout)            (None, 500, 4)       0           conv1d_8[0][0]                   \n",
            "__________________________________________________________________________________________________\n",
            "conv1d_9 (Conv1D)               (None, 500, 1)       5           dropout_10[0][0]                 \n",
            "__________________________________________________________________________________________________\n",
            "tf.__operators__.add_9 (TFOpLam (None, 500, 1)       0           conv1d_9[0][0]                   \n",
            "                                                                 tf.__operators__.add_8[0][0]     \n",
            "__________________________________________________________________________________________________\n",
            "layer_normalization_10 (LayerNo (None, 500, 1)       2           tf.__operators__.add_9[0][0]     \n",
            "__________________________________________________________________________________________________\n",
            "multi_head_attention_5 (MultiHe (None, 500, 1)       7169        layer_normalization_10[0][0]     \n",
            "                                                                 layer_normalization_10[0][0]     \n",
            "__________________________________________________________________________________________________\n",
            "dropout_11 (Dropout)            (None, 500, 1)       0           multi_head_attention_5[0][0]     \n",
            "__________________________________________________________________________________________________\n",
            "tf.__operators__.add_10 (TFOpLa (None, 500, 1)       0           dropout_11[0][0]                 \n",
            "                                                                 tf.__operators__.add_9[0][0]     \n",
            "__________________________________________________________________________________________________\n",
            "layer_normalization_11 (LayerNo (None, 500, 1)       2           tf.__operators__.add_10[0][0]    \n",
            "__________________________________________________________________________________________________\n",
            "conv1d_10 (Conv1D)              (None, 500, 4)       8           layer_normalization_11[0][0]     \n",
            "__________________________________________________________________________________________________\n",
            "dropout_12 (Dropout)            (None, 500, 4)       0           conv1d_10[0][0]                  \n",
            "__________________________________________________________________________________________________\n",
            "conv1d_11 (Conv1D)              (None, 500, 1)       5           dropout_12[0][0]                 \n",
            "__________________________________________________________________________________________________\n",
            "tf.__operators__.add_11 (TFOpLa (None, 500, 1)       0           conv1d_11[0][0]                  \n",
            "                                                                 tf.__operators__.add_10[0][0]    \n",
            "__________________________________________________________________________________________________\n",
            "layer_normalization_12 (LayerNo (None, 500, 1)       2           tf.__operators__.add_11[0][0]    \n",
            "__________________________________________________________________________________________________\n",
            "multi_head_attention_6 (MultiHe (None, 500, 1)       7169        layer_normalization_12[0][0]     \n",
            "                                                                 layer_normalization_12[0][0]     \n",
            "__________________________________________________________________________________________________\n",
            "dropout_13 (Dropout)            (None, 500, 1)       0           multi_head_attention_6[0][0]     \n",
            "__________________________________________________________________________________________________\n",
            "tf.__operators__.add_12 (TFOpLa (None, 500, 1)       0           dropout_13[0][0]                 \n",
            "                                                                 tf.__operators__.add_11[0][0]    \n",
            "__________________________________________________________________________________________________\n",
            "layer_normalization_13 (LayerNo (None, 500, 1)       2           tf.__operators__.add_12[0][0]    \n",
            "__________________________________________________________________________________________________\n",
            "conv1d_12 (Conv1D)              (None, 500, 4)       8           layer_normalization_13[0][0]     \n",
            "__________________________________________________________________________________________________\n",
            "dropout_14 (Dropout)            (None, 500, 4)       0           conv1d_12[0][0]                  \n",
            "__________________________________________________________________________________________________\n",
            "conv1d_13 (Conv1D)              (None, 500, 1)       5           dropout_14[0][0]                 \n",
            "__________________________________________________________________________________________________\n",
            "tf.__operators__.add_13 (TFOpLa (None, 500, 1)       0           conv1d_13[0][0]                  \n",
            "                                                                 tf.__operators__.add_12[0][0]    \n",
            "__________________________________________________________________________________________________\n",
            "layer_normalization_14 (LayerNo (None, 500, 1)       2           tf.__operators__.add_13[0][0]    \n",
            "__________________________________________________________________________________________________\n",
            "multi_head_attention_7 (MultiHe (None, 500, 1)       7169        layer_normalization_14[0][0]     \n",
            "                                                                 layer_normalization_14[0][0]     \n",
            "__________________________________________________________________________________________________\n",
            "dropout_15 (Dropout)            (None, 500, 1)       0           multi_head_attention_7[0][0]     \n",
            "__________________________________________________________________________________________________\n",
            "tf.__operators__.add_14 (TFOpLa (None, 500, 1)       0           dropout_15[0][0]                 \n",
            "                                                                 tf.__operators__.add_13[0][0]    \n",
            "__________________________________________________________________________________________________\n",
            "layer_normalization_15 (LayerNo (None, 500, 1)       2           tf.__operators__.add_14[0][0]    \n",
            "__________________________________________________________________________________________________\n",
            "conv1d_14 (Conv1D)              (None, 500, 4)       8           layer_normalization_15[0][0]     \n",
            "__________________________________________________________________________________________________\n",
            "dropout_16 (Dropout)            (None, 500, 4)       0           conv1d_14[0][0]                  \n",
            "__________________________________________________________________________________________________\n",
            "conv1d_15 (Conv1D)              (None, 500, 1)       5           dropout_16[0][0]                 \n",
            "__________________________________________________________________________________________________\n",
            "tf.__operators__.add_15 (TFOpLa (None, 500, 1)       0           conv1d_15[0][0]                  \n",
            "                                                                 tf.__operators__.add_14[0][0]    \n",
            "__________________________________________________________________________________________________\n",
            "global_average_pooling1d_1 (Glo (None, 500)          0           tf.__operators__.add_15[0][0]    \n",
            "__________________________________________________________________________________________________\n",
            "dense_2 (Dense)                 (None, 128)          64128       global_average_pooling1d_1[0][0] \n",
            "__________________________________________________________________________________________________\n",
            "dropout_17 (Dropout)            (None, 128)          0           dense_2[0][0]                    \n",
            "__________________________________________________________________________________________________\n",
            "dense_3 (Dense)                 (None, 2)            258         dropout_17[0][0]                 \n",
            "==================================================================================================\n",
            "Total params: 93,130\n",
            "Trainable params: 93,130\n",
            "Non-trainable params: 0\n",
            "__________________________________________________________________________________________________\n"
          ],
          "name": "stdout"
        }
      ]
    },
    {
      "cell_type": "markdown",
      "metadata": {
        "id": "MoqjGoscp626"
      },
      "source": [
        "## 학습 실행"
      ]
    },
    {
      "cell_type": "code",
      "metadata": {
        "id": "NxqI3y8yp627",
        "outputId": "1da38fa6-4e19-4913-d1af-25c68fe64a99",
        "colab": {
          "base_uri": "https://localhost:8080/"
        }
      },
      "source": [
        "callbacks = [keras.callbacks.EarlyStopping(patience=10, restore_best_weights=True)]\n",
        "\n",
        "model.fit(\n",
        "    x_train,\n",
        "    y_train,\n",
        "    validation_split=0.2,\n",
        "    epochs=200,\n",
        "    batch_size=128,\n",
        "    callbacks=callbacks,\n",
        ")"
      ],
      "execution_count": 12,
      "outputs": [
        {
          "output_type": "stream",
          "text": [
            "Epoch 1/200\n",
            "23/23 [==============================] - 27s 1s/step - loss: 1.0886 - sparse_categorical_accuracy: 0.5184 - val_loss: 0.7760 - val_sparse_categorical_accuracy: 0.5492\n",
            "Epoch 2/200\n",
            "23/23 [==============================] - 25s 1s/step - loss: 0.9776 - sparse_categorical_accuracy: 0.5299 - val_loss: 0.6986 - val_sparse_categorical_accuracy: 0.5964\n",
            "Epoch 3/200\n",
            "23/23 [==============================] - 24s 1s/step - loss: 0.8754 - sparse_categorical_accuracy: 0.5736 - val_loss: 0.6517 - val_sparse_categorical_accuracy: 0.6283\n",
            "Epoch 4/200\n",
            "23/23 [==============================] - 23s 1s/step - loss: 0.8189 - sparse_categorical_accuracy: 0.5816 - val_loss: 0.6229 - val_sparse_categorical_accuracy: 0.6560\n",
            "Epoch 5/200\n",
            "23/23 [==============================] - 24s 1s/step - loss: 0.7812 - sparse_categorical_accuracy: 0.6083 - val_loss: 0.5996 - val_sparse_categorical_accuracy: 0.6852\n",
            "Epoch 6/200\n",
            "23/23 [==============================] - 24s 1s/step - loss: 0.7499 - sparse_categorical_accuracy: 0.6250 - val_loss: 0.5841 - val_sparse_categorical_accuracy: 0.6893\n",
            "Epoch 7/200\n",
            "23/23 [==============================] - 24s 1s/step - loss: 0.6981 - sparse_categorical_accuracy: 0.6438 - val_loss: 0.5705 - val_sparse_categorical_accuracy: 0.7018\n",
            "Epoch 8/200\n",
            "23/23 [==============================] - 24s 1s/step - loss: 0.6870 - sparse_categorical_accuracy: 0.6569 - val_loss: 0.5610 - val_sparse_categorical_accuracy: 0.7129\n",
            "Epoch 9/200\n",
            "23/23 [==============================] - 24s 1s/step - loss: 0.6572 - sparse_categorical_accuracy: 0.6681 - val_loss: 0.5526 - val_sparse_categorical_accuracy: 0.7254\n",
            "Epoch 10/200\n",
            "23/23 [==============================] - 24s 1s/step - loss: 0.6704 - sparse_categorical_accuracy: 0.6597 - val_loss: 0.5449 - val_sparse_categorical_accuracy: 0.7282\n",
            "Epoch 11/200\n",
            "23/23 [==============================] - 24s 1s/step - loss: 0.6444 - sparse_categorical_accuracy: 0.6701 - val_loss: 0.5406 - val_sparse_categorical_accuracy: 0.7240\n",
            "Epoch 12/200\n",
            "23/23 [==============================] - 24s 1s/step - loss: 0.6209 - sparse_categorical_accuracy: 0.6903 - val_loss: 0.5364 - val_sparse_categorical_accuracy: 0.7379\n",
            "Epoch 13/200\n",
            "23/23 [==============================] - 24s 1s/step - loss: 0.6065 - sparse_categorical_accuracy: 0.6983 - val_loss: 0.5341 - val_sparse_categorical_accuracy: 0.7254\n",
            "Epoch 14/200\n",
            "23/23 [==============================] - 24s 1s/step - loss: 0.5855 - sparse_categorical_accuracy: 0.7069 - val_loss: 0.5269 - val_sparse_categorical_accuracy: 0.7448\n",
            "Epoch 15/200\n",
            "23/23 [==============================] - 24s 1s/step - loss: 0.5905 - sparse_categorical_accuracy: 0.7115 - val_loss: 0.5204 - val_sparse_categorical_accuracy: 0.7462\n",
            "Epoch 16/200\n",
            "23/23 [==============================] - 24s 1s/step - loss: 0.5589 - sparse_categorical_accuracy: 0.7191 - val_loss: 0.5168 - val_sparse_categorical_accuracy: 0.7406\n",
            "Epoch 17/200\n",
            "23/23 [==============================] - 24s 1s/step - loss: 0.5608 - sparse_categorical_accuracy: 0.7201 - val_loss: 0.5108 - val_sparse_categorical_accuracy: 0.7420\n",
            "Epoch 18/200\n",
            "23/23 [==============================] - 24s 1s/step - loss: 0.5415 - sparse_categorical_accuracy: 0.7337 - val_loss: 0.5066 - val_sparse_categorical_accuracy: 0.7448\n",
            "Epoch 19/200\n",
            "23/23 [==============================] - 24s 1s/step - loss: 0.5445 - sparse_categorical_accuracy: 0.7240 - val_loss: 0.5037 - val_sparse_categorical_accuracy: 0.7448\n",
            "Epoch 20/200\n",
            "23/23 [==============================] - 24s 1s/step - loss: 0.5291 - sparse_categorical_accuracy: 0.7451 - val_loss: 0.4992 - val_sparse_categorical_accuracy: 0.7531\n",
            "Epoch 21/200\n",
            "23/23 [==============================] - 24s 1s/step - loss: 0.5476 - sparse_categorical_accuracy: 0.7361 - val_loss: 0.4959 - val_sparse_categorical_accuracy: 0.7531\n",
            "Epoch 22/200\n",
            "23/23 [==============================] - 24s 1s/step - loss: 0.5321 - sparse_categorical_accuracy: 0.7337 - val_loss: 0.4897 - val_sparse_categorical_accuracy: 0.7531\n",
            "Epoch 23/200\n",
            "23/23 [==============================] - 24s 1s/step - loss: 0.5165 - sparse_categorical_accuracy: 0.7451 - val_loss: 0.4871 - val_sparse_categorical_accuracy: 0.7545\n",
            "Epoch 24/200\n",
            "23/23 [==============================] - 24s 1s/step - loss: 0.4861 - sparse_categorical_accuracy: 0.7597 - val_loss: 0.4835 - val_sparse_categorical_accuracy: 0.7573\n",
            "Epoch 25/200\n",
            "23/23 [==============================] - 24s 1s/step - loss: 0.4961 - sparse_categorical_accuracy: 0.7628 - val_loss: 0.4816 - val_sparse_categorical_accuracy: 0.7559\n",
            "Epoch 26/200\n",
            "23/23 [==============================] - 24s 1s/step - loss: 0.4861 - sparse_categorical_accuracy: 0.7677 - val_loss: 0.4785 - val_sparse_categorical_accuracy: 0.7642\n",
            "Epoch 27/200\n",
            "23/23 [==============================] - 24s 1s/step - loss: 0.4963 - sparse_categorical_accuracy: 0.7625 - val_loss: 0.4762 - val_sparse_categorical_accuracy: 0.7628\n",
            "Epoch 28/200\n",
            "23/23 [==============================] - 24s 1s/step - loss: 0.4648 - sparse_categorical_accuracy: 0.7785 - val_loss: 0.4711 - val_sparse_categorical_accuracy: 0.7642\n",
            "Epoch 29/200\n",
            "23/23 [==============================] - 24s 1s/step - loss: 0.4632 - sparse_categorical_accuracy: 0.7819 - val_loss: 0.4686 - val_sparse_categorical_accuracy: 0.7656\n",
            "Epoch 30/200\n",
            "23/23 [==============================] - 24s 1s/step - loss: 0.4570 - sparse_categorical_accuracy: 0.7865 - val_loss: 0.4677 - val_sparse_categorical_accuracy: 0.7684\n",
            "Epoch 31/200\n",
            "23/23 [==============================] - 24s 1s/step - loss: 0.4511 - sparse_categorical_accuracy: 0.7934 - val_loss: 0.4656 - val_sparse_categorical_accuracy: 0.7684\n",
            "Epoch 32/200\n",
            "23/23 [==============================] - 24s 1s/step - loss: 0.4427 - sparse_categorical_accuracy: 0.7951 - val_loss: 0.4647 - val_sparse_categorical_accuracy: 0.7670\n",
            "Epoch 33/200\n",
            "23/23 [==============================] - 24s 1s/step - loss: 0.4404 - sparse_categorical_accuracy: 0.7941 - val_loss: 0.4604 - val_sparse_categorical_accuracy: 0.7767\n",
            "Epoch 34/200\n",
            "23/23 [==============================] - 24s 1s/step - loss: 0.4531 - sparse_categorical_accuracy: 0.7896 - val_loss: 0.4579 - val_sparse_categorical_accuracy: 0.7753\n",
            "Epoch 35/200\n",
            "23/23 [==============================] - 24s 1s/step - loss: 0.4299 - sparse_categorical_accuracy: 0.8014 - val_loss: 0.4572 - val_sparse_categorical_accuracy: 0.7781\n",
            "Epoch 36/200\n",
            "23/23 [==============================] - 24s 1s/step - loss: 0.4209 - sparse_categorical_accuracy: 0.8115 - val_loss: 0.4546 - val_sparse_categorical_accuracy: 0.7822\n",
            "Epoch 37/200\n",
            "23/23 [==============================] - 24s 1s/step - loss: 0.4421 - sparse_categorical_accuracy: 0.7927 - val_loss: 0.4504 - val_sparse_categorical_accuracy: 0.7809\n",
            "Epoch 38/200\n",
            "23/23 [==============================] - 24s 1s/step - loss: 0.4219 - sparse_categorical_accuracy: 0.8083 - val_loss: 0.4477 - val_sparse_categorical_accuracy: 0.7850\n",
            "Epoch 39/200\n",
            "23/23 [==============================] - 24s 1s/step - loss: 0.4080 - sparse_categorical_accuracy: 0.8198 - val_loss: 0.4441 - val_sparse_categorical_accuracy: 0.7850\n",
            "Epoch 40/200\n",
            "23/23 [==============================] - 24s 1s/step - loss: 0.4192 - sparse_categorical_accuracy: 0.8108 - val_loss: 0.4417 - val_sparse_categorical_accuracy: 0.7892\n",
            "Epoch 41/200\n",
            "23/23 [==============================] - 24s 1s/step - loss: 0.4106 - sparse_categorical_accuracy: 0.8135 - val_loss: 0.4397 - val_sparse_categorical_accuracy: 0.7892\n",
            "Epoch 42/200\n",
            "23/23 [==============================] - 24s 1s/step - loss: 0.4044 - sparse_categorical_accuracy: 0.8201 - val_loss: 0.4379 - val_sparse_categorical_accuracy: 0.7920\n",
            "Epoch 43/200\n",
            "23/23 [==============================] - 24s 1s/step - loss: 0.3969 - sparse_categorical_accuracy: 0.8208 - val_loss: 0.4361 - val_sparse_categorical_accuracy: 0.7989\n",
            "Epoch 44/200\n",
            "23/23 [==============================] - 24s 1s/step - loss: 0.3926 - sparse_categorical_accuracy: 0.8205 - val_loss: 0.4350 - val_sparse_categorical_accuracy: 0.7947\n",
            "Epoch 45/200\n",
            "23/23 [==============================] - 24s 1s/step - loss: 0.3721 - sparse_categorical_accuracy: 0.8368 - val_loss: 0.4329 - val_sparse_categorical_accuracy: 0.7989\n",
            "Epoch 46/200\n",
            "23/23 [==============================] - 24s 1s/step - loss: 0.3940 - sparse_categorical_accuracy: 0.8184 - val_loss: 0.4285 - val_sparse_categorical_accuracy: 0.8058\n",
            "Epoch 47/200\n",
            "23/23 [==============================] - 24s 1s/step - loss: 0.3750 - sparse_categorical_accuracy: 0.8385 - val_loss: 0.4276 - val_sparse_categorical_accuracy: 0.8031\n",
            "Epoch 48/200\n",
            "23/23 [==============================] - 24s 1s/step - loss: 0.3800 - sparse_categorical_accuracy: 0.8295 - val_loss: 0.4264 - val_sparse_categorical_accuracy: 0.8044\n",
            "Epoch 49/200\n",
            "23/23 [==============================] - 24s 1s/step - loss: 0.3714 - sparse_categorical_accuracy: 0.8399 - val_loss: 0.4223 - val_sparse_categorical_accuracy: 0.8128\n",
            "Epoch 50/200\n",
            "23/23 [==============================] - 24s 1s/step - loss: 0.3796 - sparse_categorical_accuracy: 0.8396 - val_loss: 0.4209 - val_sparse_categorical_accuracy: 0.8086\n",
            "Epoch 51/200\n",
            "23/23 [==============================] - 24s 1s/step - loss: 0.3645 - sparse_categorical_accuracy: 0.8441 - val_loss: 0.4186 - val_sparse_categorical_accuracy: 0.8086\n",
            "Epoch 52/200\n",
            "23/23 [==============================] - 24s 1s/step - loss: 0.3679 - sparse_categorical_accuracy: 0.8441 - val_loss: 0.4182 - val_sparse_categorical_accuracy: 0.8100\n",
            "Epoch 53/200\n",
            "23/23 [==============================] - 24s 1s/step - loss: 0.3609 - sparse_categorical_accuracy: 0.8507 - val_loss: 0.4133 - val_sparse_categorical_accuracy: 0.8183\n",
            "Epoch 54/200\n",
            "23/23 [==============================] - 24s 1s/step - loss: 0.3601 - sparse_categorical_accuracy: 0.8441 - val_loss: 0.4175 - val_sparse_categorical_accuracy: 0.8169\n",
            "Epoch 55/200\n",
            "23/23 [==============================] - 24s 1s/step - loss: 0.3563 - sparse_categorical_accuracy: 0.8451 - val_loss: 0.4117 - val_sparse_categorical_accuracy: 0.8169\n",
            "Epoch 56/200\n",
            "23/23 [==============================] - 24s 1s/step - loss: 0.3454 - sparse_categorical_accuracy: 0.8503 - val_loss: 0.4101 - val_sparse_categorical_accuracy: 0.8183\n",
            "Epoch 57/200\n",
            "23/23 [==============================] - 24s 1s/step - loss: 0.3303 - sparse_categorical_accuracy: 0.8608 - val_loss: 0.4100 - val_sparse_categorical_accuracy: 0.8155\n",
            "Epoch 58/200\n",
            "23/23 [==============================] - 24s 1s/step - loss: 0.3432 - sparse_categorical_accuracy: 0.8580 - val_loss: 0.4086 - val_sparse_categorical_accuracy: 0.8169\n",
            "Epoch 59/200\n",
            "23/23 [==============================] - 24s 1s/step - loss: 0.3460 - sparse_categorical_accuracy: 0.8514 - val_loss: 0.4053 - val_sparse_categorical_accuracy: 0.8183\n",
            "Epoch 60/200\n",
            "23/23 [==============================] - 24s 1s/step - loss: 0.3245 - sparse_categorical_accuracy: 0.8670 - val_loss: 0.4025 - val_sparse_categorical_accuracy: 0.8266\n",
            "Epoch 61/200\n",
            "23/23 [==============================] - 24s 1s/step - loss: 0.3336 - sparse_categorical_accuracy: 0.8611 - val_loss: 0.4036 - val_sparse_categorical_accuracy: 0.8252\n",
            "Epoch 62/200\n",
            "23/23 [==============================] - 24s 1s/step - loss: 0.3180 - sparse_categorical_accuracy: 0.8674 - val_loss: 0.4028 - val_sparse_categorical_accuracy: 0.8211\n",
            "Epoch 63/200\n",
            "23/23 [==============================] - 24s 1s/step - loss: 0.3317 - sparse_categorical_accuracy: 0.8604 - val_loss: 0.4021 - val_sparse_categorical_accuracy: 0.8280\n",
            "Epoch 64/200\n",
            "23/23 [==============================] - 24s 1s/step - loss: 0.3227 - sparse_categorical_accuracy: 0.8656 - val_loss: 0.4008 - val_sparse_categorical_accuracy: 0.8266\n",
            "Epoch 65/200\n",
            "23/23 [==============================] - 24s 1s/step - loss: 0.3198 - sparse_categorical_accuracy: 0.8628 - val_loss: 0.3979 - val_sparse_categorical_accuracy: 0.8280\n",
            "Epoch 66/200\n",
            "23/23 [==============================] - 24s 1s/step - loss: 0.3139 - sparse_categorical_accuracy: 0.8698 - val_loss: 0.3961 - val_sparse_categorical_accuracy: 0.8308\n",
            "Epoch 67/200\n",
            "23/23 [==============================] - 24s 1s/step - loss: 0.3172 - sparse_categorical_accuracy: 0.8694 - val_loss: 0.3976 - val_sparse_categorical_accuracy: 0.8239\n",
            "Epoch 68/200\n",
            "23/23 [==============================] - 24s 1s/step - loss: 0.3100 - sparse_categorical_accuracy: 0.8729 - val_loss: 0.3936 - val_sparse_categorical_accuracy: 0.8322\n",
            "Epoch 69/200\n",
            "23/23 [==============================] - 24s 1s/step - loss: 0.3122 - sparse_categorical_accuracy: 0.8691 - val_loss: 0.3923 - val_sparse_categorical_accuracy: 0.8252\n",
            "Epoch 70/200\n",
            "23/23 [==============================] - 24s 1s/step - loss: 0.3115 - sparse_categorical_accuracy: 0.8740 - val_loss: 0.3908 - val_sparse_categorical_accuracy: 0.8363\n",
            "Epoch 71/200\n",
            "23/23 [==============================] - 24s 1s/step - loss: 0.3062 - sparse_categorical_accuracy: 0.8743 - val_loss: 0.3882 - val_sparse_categorical_accuracy: 0.8336\n",
            "Epoch 72/200\n",
            "23/23 [==============================] - 24s 1s/step - loss: 0.2910 - sparse_categorical_accuracy: 0.8865 - val_loss: 0.3907 - val_sparse_categorical_accuracy: 0.8322\n",
            "Epoch 73/200\n",
            "23/23 [==============================] - 24s 1s/step - loss: 0.3004 - sparse_categorical_accuracy: 0.8764 - val_loss: 0.3894 - val_sparse_categorical_accuracy: 0.8350\n",
            "Epoch 74/200\n",
            "23/23 [==============================] - 24s 1s/step - loss: 0.2935 - sparse_categorical_accuracy: 0.8896 - val_loss: 0.3849 - val_sparse_categorical_accuracy: 0.8419\n",
            "Epoch 75/200\n",
            "23/23 [==============================] - 24s 1s/step - loss: 0.3057 - sparse_categorical_accuracy: 0.8753 - val_loss: 0.3861 - val_sparse_categorical_accuracy: 0.8322\n",
            "Epoch 76/200\n",
            "23/23 [==============================] - 24s 1s/step - loss: 0.2852 - sparse_categorical_accuracy: 0.8927 - val_loss: 0.3830 - val_sparse_categorical_accuracy: 0.8405\n",
            "Epoch 77/200\n",
            "23/23 [==============================] - 24s 1s/step - loss: 0.2927 - sparse_categorical_accuracy: 0.8826 - val_loss: 0.3842 - val_sparse_categorical_accuracy: 0.8294\n",
            "Epoch 78/200\n",
            "23/23 [==============================] - 24s 1s/step - loss: 0.2887 - sparse_categorical_accuracy: 0.8875 - val_loss: 0.3820 - val_sparse_categorical_accuracy: 0.8350\n",
            "Epoch 79/200\n",
            "23/23 [==============================] - 24s 1s/step - loss: 0.2990 - sparse_categorical_accuracy: 0.8760 - val_loss: 0.3806 - val_sparse_categorical_accuracy: 0.8294\n",
            "Epoch 80/200\n",
            "23/23 [==============================] - 24s 1s/step - loss: 0.2912 - sparse_categorical_accuracy: 0.8806 - val_loss: 0.3794 - val_sparse_categorical_accuracy: 0.8377\n",
            "Epoch 81/200\n",
            "23/23 [==============================] - 24s 1s/step - loss: 0.2910 - sparse_categorical_accuracy: 0.8799 - val_loss: 0.3764 - val_sparse_categorical_accuracy: 0.8433\n",
            "Epoch 82/200\n",
            "23/23 [==============================] - 24s 1s/step - loss: 0.2741 - sparse_categorical_accuracy: 0.8896 - val_loss: 0.3758 - val_sparse_categorical_accuracy: 0.8419\n",
            "Epoch 83/200\n",
            "23/23 [==============================] - 24s 1s/step - loss: 0.2840 - sparse_categorical_accuracy: 0.8861 - val_loss: 0.3759 - val_sparse_categorical_accuracy: 0.8391\n",
            "Epoch 84/200\n",
            "23/23 [==============================] - 24s 1s/step - loss: 0.2724 - sparse_categorical_accuracy: 0.8962 - val_loss: 0.3749 - val_sparse_categorical_accuracy: 0.8391\n",
            "Epoch 85/200\n",
            "23/23 [==============================] - 24s 1s/step - loss: 0.2738 - sparse_categorical_accuracy: 0.8896 - val_loss: 0.3725 - val_sparse_categorical_accuracy: 0.8447\n",
            "Epoch 86/200\n",
            "23/23 [==============================] - 24s 1s/step - loss: 0.2749 - sparse_categorical_accuracy: 0.8917 - val_loss: 0.3721 - val_sparse_categorical_accuracy: 0.8405\n",
            "Epoch 87/200\n",
            "23/23 [==============================] - 24s 1s/step - loss: 0.2758 - sparse_categorical_accuracy: 0.8899 - val_loss: 0.3759 - val_sparse_categorical_accuracy: 0.8419\n",
            "Epoch 88/200\n",
            "23/23 [==============================] - 24s 1s/step - loss: 0.2636 - sparse_categorical_accuracy: 0.8983 - val_loss: 0.3715 - val_sparse_categorical_accuracy: 0.8433\n",
            "Epoch 89/200\n",
            "23/23 [==============================] - 24s 1s/step - loss: 0.2677 - sparse_categorical_accuracy: 0.8955 - val_loss: 0.3740 - val_sparse_categorical_accuracy: 0.8433\n",
            "Epoch 90/200\n",
            "23/23 [==============================] - 24s 1s/step - loss: 0.2686 - sparse_categorical_accuracy: 0.8951 - val_loss: 0.3723 - val_sparse_categorical_accuracy: 0.8391\n",
            "Epoch 91/200\n",
            "23/23 [==============================] - 24s 1s/step - loss: 0.2698 - sparse_categorical_accuracy: 0.9014 - val_loss: 0.3714 - val_sparse_categorical_accuracy: 0.8377\n",
            "Epoch 92/200\n",
            "23/23 [==============================] - 24s 1s/step - loss: 0.2555 - sparse_categorical_accuracy: 0.9045 - val_loss: 0.3692 - val_sparse_categorical_accuracy: 0.8419\n",
            "Epoch 93/200\n",
            "23/23 [==============================] - 24s 1s/step - loss: 0.2501 - sparse_categorical_accuracy: 0.9069 - val_loss: 0.3673 - val_sparse_categorical_accuracy: 0.8488\n",
            "Epoch 94/200\n",
            "23/23 [==============================] - 24s 1s/step - loss: 0.2627 - sparse_categorical_accuracy: 0.8986 - val_loss: 0.3667 - val_sparse_categorical_accuracy: 0.8460\n",
            "Epoch 95/200\n",
            "23/23 [==============================] - 24s 1s/step - loss: 0.2657 - sparse_categorical_accuracy: 0.8979 - val_loss: 0.3666 - val_sparse_categorical_accuracy: 0.8419\n",
            "Epoch 96/200\n",
            "23/23 [==============================] - 24s 1s/step - loss: 0.2543 - sparse_categorical_accuracy: 0.9024 - val_loss: 0.3673 - val_sparse_categorical_accuracy: 0.8447\n",
            "Epoch 97/200\n",
            "23/23 [==============================] - 24s 1s/step - loss: 0.2636 - sparse_categorical_accuracy: 0.8941 - val_loss: 0.3660 - val_sparse_categorical_accuracy: 0.8474\n",
            "Epoch 98/200\n",
            "23/23 [==============================] - 24s 1s/step - loss: 0.2643 - sparse_categorical_accuracy: 0.8986 - val_loss: 0.3636 - val_sparse_categorical_accuracy: 0.8474\n",
            "Epoch 99/200\n",
            "23/23 [==============================] - 24s 1s/step - loss: 0.2563 - sparse_categorical_accuracy: 0.8951 - val_loss: 0.3620 - val_sparse_categorical_accuracy: 0.8488\n",
            "Epoch 100/200\n",
            "23/23 [==============================] - 24s 1s/step - loss: 0.2561 - sparse_categorical_accuracy: 0.8910 - val_loss: 0.3602 - val_sparse_categorical_accuracy: 0.8516\n",
            "Epoch 101/200\n",
            "23/23 [==============================] - 24s 1s/step - loss: 0.2535 - sparse_categorical_accuracy: 0.9045 - val_loss: 0.3587 - val_sparse_categorical_accuracy: 0.8516\n",
            "Epoch 102/200\n",
            "23/23 [==============================] - 24s 1s/step - loss: 0.2561 - sparse_categorical_accuracy: 0.8990 - val_loss: 0.3608 - val_sparse_categorical_accuracy: 0.8530\n",
            "Epoch 103/200\n",
            "23/23 [==============================] - 24s 1s/step - loss: 0.2519 - sparse_categorical_accuracy: 0.9132 - val_loss: 0.3603 - val_sparse_categorical_accuracy: 0.8488\n",
            "Epoch 104/200\n",
            "23/23 [==============================] - 24s 1s/step - loss: 0.2536 - sparse_categorical_accuracy: 0.9031 - val_loss: 0.3562 - val_sparse_categorical_accuracy: 0.8571\n",
            "Epoch 105/200\n",
            "23/23 [==============================] - 24s 1s/step - loss: 0.2500 - sparse_categorical_accuracy: 0.9024 - val_loss: 0.3570 - val_sparse_categorical_accuracy: 0.8585\n",
            "Epoch 106/200\n",
            "23/23 [==============================] - 24s 1s/step - loss: 0.2451 - sparse_categorical_accuracy: 0.9059 - val_loss: 0.3551 - val_sparse_categorical_accuracy: 0.8599\n",
            "Epoch 107/200\n",
            "23/23 [==============================] - 24s 1s/step - loss: 0.2460 - sparse_categorical_accuracy: 0.9104 - val_loss: 0.3528 - val_sparse_categorical_accuracy: 0.8599\n",
            "Epoch 108/200\n",
            "23/23 [==============================] - 24s 1s/step - loss: 0.2374 - sparse_categorical_accuracy: 0.9066 - val_loss: 0.3563 - val_sparse_categorical_accuracy: 0.8516\n",
            "Epoch 109/200\n",
            "23/23 [==============================] - 24s 1s/step - loss: 0.2430 - sparse_categorical_accuracy: 0.9059 - val_loss: 0.3527 - val_sparse_categorical_accuracy: 0.8558\n",
            "Epoch 110/200\n",
            "23/23 [==============================] - 24s 1s/step - loss: 0.2385 - sparse_categorical_accuracy: 0.9073 - val_loss: 0.3532 - val_sparse_categorical_accuracy: 0.8558\n",
            "Epoch 111/200\n",
            "23/23 [==============================] - 24s 1s/step - loss: 0.2461 - sparse_categorical_accuracy: 0.9017 - val_loss: 0.3527 - val_sparse_categorical_accuracy: 0.8571\n",
            "Epoch 112/200\n",
            "23/23 [==============================] - 24s 1s/step - loss: 0.2386 - sparse_categorical_accuracy: 0.9094 - val_loss: 0.3514 - val_sparse_categorical_accuracy: 0.8599\n",
            "Epoch 113/200\n",
            "23/23 [==============================] - 24s 1s/step - loss: 0.2365 - sparse_categorical_accuracy: 0.9139 - val_loss: 0.3531 - val_sparse_categorical_accuracy: 0.8516\n",
            "Epoch 114/200\n",
            "23/23 [==============================] - 24s 1s/step - loss: 0.2321 - sparse_categorical_accuracy: 0.9104 - val_loss: 0.3505 - val_sparse_categorical_accuracy: 0.8530\n",
            "Epoch 115/200\n",
            "23/23 [==============================] - 24s 1s/step - loss: 0.2243 - sparse_categorical_accuracy: 0.9194 - val_loss: 0.3493 - val_sparse_categorical_accuracy: 0.8585\n",
            "Epoch 116/200\n",
            "23/23 [==============================] - 24s 1s/step - loss: 0.2236 - sparse_categorical_accuracy: 0.9194 - val_loss: 0.3505 - val_sparse_categorical_accuracy: 0.8571\n",
            "Epoch 117/200\n",
            "23/23 [==============================] - 24s 1s/step - loss: 0.2367 - sparse_categorical_accuracy: 0.9146 - val_loss: 0.3506 - val_sparse_categorical_accuracy: 0.8502\n",
            "Epoch 118/200\n",
            "23/23 [==============================] - 24s 1s/step - loss: 0.2300 - sparse_categorical_accuracy: 0.9073 - val_loss: 0.3505 - val_sparse_categorical_accuracy: 0.8585\n",
            "Epoch 119/200\n",
            "23/23 [==============================] - 24s 1s/step - loss: 0.2345 - sparse_categorical_accuracy: 0.9094 - val_loss: 0.3506 - val_sparse_categorical_accuracy: 0.8544\n",
            "Epoch 120/200\n",
            "23/23 [==============================] - 24s 1s/step - loss: 0.2249 - sparse_categorical_accuracy: 0.9184 - val_loss: 0.3501 - val_sparse_categorical_accuracy: 0.8544\n",
            "Epoch 121/200\n",
            "23/23 [==============================] - 24s 1s/step - loss: 0.2219 - sparse_categorical_accuracy: 0.9174 - val_loss: 0.3472 - val_sparse_categorical_accuracy: 0.8585\n",
            "Epoch 122/200\n",
            "23/23 [==============================] - 24s 1s/step - loss: 0.2204 - sparse_categorical_accuracy: 0.9153 - val_loss: 0.3496 - val_sparse_categorical_accuracy: 0.8502\n",
            "Epoch 123/200\n",
            "23/23 [==============================] - 24s 1s/step - loss: 0.2176 - sparse_categorical_accuracy: 0.9201 - val_loss: 0.3475 - val_sparse_categorical_accuracy: 0.8530\n",
            "Epoch 124/200\n",
            "23/23 [==============================] - 24s 1s/step - loss: 0.2192 - sparse_categorical_accuracy: 0.9267 - val_loss: 0.3464 - val_sparse_categorical_accuracy: 0.8558\n",
            "Epoch 125/200\n",
            "23/23 [==============================] - 24s 1s/step - loss: 0.2215 - sparse_categorical_accuracy: 0.9181 - val_loss: 0.3485 - val_sparse_categorical_accuracy: 0.8585\n",
            "Epoch 126/200\n",
            "23/23 [==============================] - 24s 1s/step - loss: 0.2119 - sparse_categorical_accuracy: 0.9205 - val_loss: 0.3468 - val_sparse_categorical_accuracy: 0.8613\n",
            "Epoch 127/200\n",
            "23/23 [==============================] - 24s 1s/step - loss: 0.2143 - sparse_categorical_accuracy: 0.9163 - val_loss: 0.3454 - val_sparse_categorical_accuracy: 0.8627\n",
            "Epoch 128/200\n",
            "23/23 [==============================] - 24s 1s/step - loss: 0.2143 - sparse_categorical_accuracy: 0.9205 - val_loss: 0.3440 - val_sparse_categorical_accuracy: 0.8655\n",
            "Epoch 129/200\n",
            "23/23 [==============================] - 24s 1s/step - loss: 0.2097 - sparse_categorical_accuracy: 0.9219 - val_loss: 0.3451 - val_sparse_categorical_accuracy: 0.8613\n",
            "Epoch 130/200\n",
            "23/23 [==============================] - 24s 1s/step - loss: 0.2106 - sparse_categorical_accuracy: 0.9153 - val_loss: 0.3446 - val_sparse_categorical_accuracy: 0.8641\n",
            "Epoch 131/200\n",
            "23/23 [==============================] - 24s 1s/step - loss: 0.2045 - sparse_categorical_accuracy: 0.9212 - val_loss: 0.3433 - val_sparse_categorical_accuracy: 0.8585\n",
            "Epoch 132/200\n",
            "23/23 [==============================] - 24s 1s/step - loss: 0.2135 - sparse_categorical_accuracy: 0.9208 - val_loss: 0.3419 - val_sparse_categorical_accuracy: 0.8613\n",
            "Epoch 133/200\n",
            "23/23 [==============================] - 24s 1s/step - loss: 0.2101 - sparse_categorical_accuracy: 0.9167 - val_loss: 0.3429 - val_sparse_categorical_accuracy: 0.8655\n",
            "Epoch 134/200\n",
            "23/23 [==============================] - 24s 1s/step - loss: 0.2105 - sparse_categorical_accuracy: 0.9243 - val_loss: 0.3463 - val_sparse_categorical_accuracy: 0.8613\n",
            "Epoch 135/200\n",
            "23/23 [==============================] - 24s 1s/step - loss: 0.2093 - sparse_categorical_accuracy: 0.9187 - val_loss: 0.3429 - val_sparse_categorical_accuracy: 0.8613\n",
            "Epoch 136/200\n",
            "23/23 [==============================] - 24s 1s/step - loss: 0.2124 - sparse_categorical_accuracy: 0.9194 - val_loss: 0.3427 - val_sparse_categorical_accuracy: 0.8669\n",
            "Epoch 137/200\n",
            "23/23 [==============================] - 24s 1s/step - loss: 0.2006 - sparse_categorical_accuracy: 0.9247 - val_loss: 0.3423 - val_sparse_categorical_accuracy: 0.8571\n",
            "Epoch 138/200\n",
            "23/23 [==============================] - 24s 1s/step - loss: 0.2025 - sparse_categorical_accuracy: 0.9233 - val_loss: 0.3410 - val_sparse_categorical_accuracy: 0.8613\n",
            "Epoch 139/200\n",
            "23/23 [==============================] - 24s 1s/step - loss: 0.2029 - sparse_categorical_accuracy: 0.9267 - val_loss: 0.3395 - val_sparse_categorical_accuracy: 0.8558\n",
            "Epoch 140/200\n",
            "23/23 [==============================] - 24s 1s/step - loss: 0.2036 - sparse_categorical_accuracy: 0.9236 - val_loss: 0.3391 - val_sparse_categorical_accuracy: 0.8613\n",
            "Epoch 141/200\n",
            "23/23 [==============================] - 24s 1s/step - loss: 0.2051 - sparse_categorical_accuracy: 0.9257 - val_loss: 0.3371 - val_sparse_categorical_accuracy: 0.8627\n",
            "Epoch 142/200\n",
            "23/23 [==============================] - 24s 1s/step - loss: 0.1967 - sparse_categorical_accuracy: 0.9233 - val_loss: 0.3394 - val_sparse_categorical_accuracy: 0.8571\n",
            "Epoch 143/200\n",
            "23/23 [==============================] - 24s 1s/step - loss: 0.1998 - sparse_categorical_accuracy: 0.9281 - val_loss: 0.3373 - val_sparse_categorical_accuracy: 0.8571\n",
            "Epoch 144/200\n",
            "23/23 [==============================] - 24s 1s/step - loss: 0.1954 - sparse_categorical_accuracy: 0.9299 - val_loss: 0.3397 - val_sparse_categorical_accuracy: 0.8613\n",
            "Epoch 145/200\n",
            "23/23 [==============================] - 24s 1s/step - loss: 0.1975 - sparse_categorical_accuracy: 0.9278 - val_loss: 0.3355 - val_sparse_categorical_accuracy: 0.8641\n",
            "Epoch 146/200\n",
            "23/23 [==============================] - 24s 1s/step - loss: 0.2023 - sparse_categorical_accuracy: 0.9243 - val_loss: 0.3384 - val_sparse_categorical_accuracy: 0.8599\n",
            "Epoch 147/200\n",
            "23/23 [==============================] - 24s 1s/step - loss: 0.1862 - sparse_categorical_accuracy: 0.9361 - val_loss: 0.3368 - val_sparse_categorical_accuracy: 0.8627\n",
            "Epoch 148/200\n",
            "23/23 [==============================] - 24s 1s/step - loss: 0.1989 - sparse_categorical_accuracy: 0.9288 - val_loss: 0.3362 - val_sparse_categorical_accuracy: 0.8613\n",
            "Epoch 149/200\n",
            "23/23 [==============================] - 24s 1s/step - loss: 0.2082 - sparse_categorical_accuracy: 0.9219 - val_loss: 0.3344 - val_sparse_categorical_accuracy: 0.8585\n",
            "Epoch 150/200\n",
            "23/23 [==============================] - 24s 1s/step - loss: 0.2028 - sparse_categorical_accuracy: 0.9264 - val_loss: 0.3302 - val_sparse_categorical_accuracy: 0.8627\n",
            "Epoch 151/200\n",
            "23/23 [==============================] - 24s 1s/step - loss: 0.1977 - sparse_categorical_accuracy: 0.9253 - val_loss: 0.3321 - val_sparse_categorical_accuracy: 0.8682\n",
            "Epoch 152/200\n",
            "23/23 [==============================] - 24s 1s/step - loss: 0.1955 - sparse_categorical_accuracy: 0.9257 - val_loss: 0.3352 - val_sparse_categorical_accuracy: 0.8682\n",
            "Epoch 153/200\n",
            "23/23 [==============================] - 24s 1s/step - loss: 0.1862 - sparse_categorical_accuracy: 0.9358 - val_loss: 0.3337 - val_sparse_categorical_accuracy: 0.8641\n",
            "Epoch 154/200\n",
            "23/23 [==============================] - 24s 1s/step - loss: 0.1930 - sparse_categorical_accuracy: 0.9295 - val_loss: 0.3314 - val_sparse_categorical_accuracy: 0.8613\n",
            "Epoch 155/200\n",
            "23/23 [==============================] - 24s 1s/step - loss: 0.1883 - sparse_categorical_accuracy: 0.9278 - val_loss: 0.3310 - val_sparse_categorical_accuracy: 0.8696\n",
            "Epoch 156/200\n",
            "23/23 [==============================] - 24s 1s/step - loss: 0.1941 - sparse_categorical_accuracy: 0.9288 - val_loss: 0.3311 - val_sparse_categorical_accuracy: 0.8599\n",
            "Epoch 157/200\n",
            "23/23 [==============================] - 24s 1s/step - loss: 0.1892 - sparse_categorical_accuracy: 0.9274 - val_loss: 0.3323 - val_sparse_categorical_accuracy: 0.8669\n",
            "Epoch 158/200\n",
            "23/23 [==============================] - 24s 1s/step - loss: 0.1963 - sparse_categorical_accuracy: 0.9299 - val_loss: 0.3287 - val_sparse_categorical_accuracy: 0.8655\n",
            "Epoch 159/200\n",
            "23/23 [==============================] - 24s 1s/step - loss: 0.1849 - sparse_categorical_accuracy: 0.9368 - val_loss: 0.3285 - val_sparse_categorical_accuracy: 0.8627\n",
            "Epoch 160/200\n",
            "23/23 [==============================] - 24s 1s/step - loss: 0.1838 - sparse_categorical_accuracy: 0.9347 - val_loss: 0.3314 - val_sparse_categorical_accuracy: 0.8682\n",
            "Epoch 161/200\n",
            "23/23 [==============================] - 24s 1s/step - loss: 0.1795 - sparse_categorical_accuracy: 0.9406 - val_loss: 0.3309 - val_sparse_categorical_accuracy: 0.8627\n",
            "Epoch 162/200\n",
            "23/23 [==============================] - 24s 1s/step - loss: 0.1905 - sparse_categorical_accuracy: 0.9233 - val_loss: 0.3304 - val_sparse_categorical_accuracy: 0.8613\n",
            "Epoch 163/200\n",
            "23/23 [==============================] - 24s 1s/step - loss: 0.1814 - sparse_categorical_accuracy: 0.9347 - val_loss: 0.3317 - val_sparse_categorical_accuracy: 0.8669\n",
            "Epoch 164/200\n",
            "23/23 [==============================] - 24s 1s/step - loss: 0.1911 - sparse_categorical_accuracy: 0.9267 - val_loss: 0.3322 - val_sparse_categorical_accuracy: 0.8655\n",
            "Epoch 165/200\n",
            "23/23 [==============================] - 24s 1s/step - loss: 0.1833 - sparse_categorical_accuracy: 0.9375 - val_loss: 0.3315 - val_sparse_categorical_accuracy: 0.8627\n",
            "Epoch 166/200\n",
            "23/23 [==============================] - 24s 1s/step - loss: 0.1746 - sparse_categorical_accuracy: 0.9354 - val_loss: 0.3311 - val_sparse_categorical_accuracy: 0.8655\n",
            "Epoch 167/200\n",
            "23/23 [==============================] - 24s 1s/step - loss: 0.1741 - sparse_categorical_accuracy: 0.9382 - val_loss: 0.3329 - val_sparse_categorical_accuracy: 0.8558\n",
            "Epoch 168/200\n",
            "23/23 [==============================] - 24s 1s/step - loss: 0.1830 - sparse_categorical_accuracy: 0.9292 - val_loss: 0.3305 - val_sparse_categorical_accuracy: 0.8599\n",
            "Epoch 169/200\n",
            "23/23 [==============================] - 24s 1s/step - loss: 0.1826 - sparse_categorical_accuracy: 0.9285 - val_loss: 0.3295 - val_sparse_categorical_accuracy: 0.8613\n"
          ],
          "name": "stdout"
        },
        {
          "output_type": "execute_result",
          "data": {
            "text/plain": [
              "<tensorflow.python.keras.callbacks.History at 0x7f73dc0ef250>"
            ]
          },
          "metadata": {
            "tags": []
          },
          "execution_count": 12
        }
      ]
    },
    {
      "cell_type": "code",
      "metadata": {
        "id": "62zvi7Le75VO",
        "outputId": "57ddea9c-040e-4864-b187-c4ca547f3beb",
        "colab": {
          "base_uri": "https://localhost:8080/",
          "height": 265
        }
      },
      "source": [
        "import matplotlib.pyplot as plt\n",
        "\n",
        "plt.plot(model.history.history['loss'])\n",
        "plt.plot(model.history.history['val_loss'])\n",
        "plt.show()"
      ],
      "execution_count": 14,
      "outputs": [
        {
          "output_type": "display_data",
          "data": {
            "image/png": "[encoded data removed]",
            "text/plain": [
              "<Figure size 432x288 with 1 Axes>"
            ]
          },
          "metadata": {
            "tags": [],
            "needs_background": "light"
          }
        }
      ]
    },
    {
      "cell_type": "markdown",
      "metadata": {
        "id": "KfVSBGARrlWI"
      },
      "source": [
        "# 평가"
      ]
    },
    {
      "cell_type": "code",
      "metadata": {
        "id": "t32GuCFvrlwv",
        "outputId": "1fd244ab-f70c-40f6-bb07-3c0bdd9ba93f",
        "colab": {
          "base_uri": "https://localhost:8080/"
        }
      },
      "source": [
        "model.evaluate(x_test, y_test, verbose=1)"
      ],
      "execution_count": 15,
      "outputs": [
        {
          "output_type": "stream",
          "text": [
            "42/42 [==============================] - 3s 80ms/step - loss: 0.3337 - sparse_categorical_accuracy: 0.8424\n"
          ],
          "name": "stdout"
        },
        {
          "output_type": "execute_result",
          "data": {
            "text/plain": [
              "[0.33368781208992004, 0.842424213886261]"
            ]
          },
          "metadata": {
            "tags": []
          },
          "execution_count": 15
        }
      ]
    },
    {
      "cell_type": "code",
      "metadata": {
        "id": "5-QrQcD_8DjM"
      },
      "source": [
        ""
      ],
      "execution_count": null,
      "outputs": []
    }
  ]
}