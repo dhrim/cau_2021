{
  "nbformat": 4,
  "nbformat_minor": 0,
  "metadata": {
    "colab": {
      "name": "template_text_sequence_data_prediction.ipynb",
      "provenance": [],
      "collapsed_sections": []
    },
    "kernelspec": {
      "name": "python3",
      "display_name": "Python 3"
    },
    "language_info": {
      "name": "python"
    },
    "accelerator": "GPU"
  },
  "cells": [
    {
      "cell_type": "markdown",
      "metadata": {
        "id": "mZAFnuGfwqy-"
      },
      "source": [
        "# 텍스트 순차열 데이터 예측 Template"
      ]
    },
    {
      "cell_type": "markdown",
      "metadata": {
        "id": "Hb0EOx6OyNIw"
      },
      "source": [
        "# 데이터 준비"
      ]
    },
    {
      "cell_type": "code",
      "metadata": {
        "id": "VBfCpbwh0h9R"
      },
      "source": [
        "import numpy as np\n",
        "import matplotlib.pyplot as plt\n"
      ],
      "execution_count": 1,
      "outputs": []
    },
    {
      "cell_type": "markdown",
      "metadata": {
        "id": "B5AtaEi6yPhX"
      },
      "source": [
        "## 기반 문자열 생성"
      ]
    },
    {
      "cell_type": "code",
      "metadata": {
        "id": "V6wKtOwFwqXM"
      },
      "source": [
        "BASE_STRING = \"abcde12345\"\n",
        "text_data = BASE_STRING*10\n",
        "CATEGORY_NUM = len(BASE_STRING)"
      ],
      "execution_count": 2,
      "outputs": []
    },
    {
      "cell_type": "code",
      "metadata": {
        "id": "NRl4H3Zrgjso",
        "outputId": "6cf6b031-12b0-4165-a13b-7aa65eb9bdf2",
        "colab": {
          "base_uri": "https://localhost:8080/"
        }
      },
      "source": [
        "print(text_data)"
      ],
      "execution_count": 3,
      "outputs": [
        {
          "output_type": "stream",
          "text": [
            "abcde12345abcde12345abcde12345abcde12345abcde12345abcde12345abcde12345abcde12345abcde12345abcde12345\n"
          ],
          "name": "stdout"
        }
      ]
    },
    {
      "cell_type": "code",
      "metadata": {
        "id": "6RAkHiJbxNfE"
      },
      "source": [
        "SEQUENCE_LENGTH = 5\n",
        "OFFSET = 1"
      ],
      "execution_count": 4,
      "outputs": []
    },
    {
      "cell_type": "markdown",
      "metadata": {
        "id": "f-z-YNfNDBn5"
      },
      "source": [
        "## 입출력 데이터 생성\n",
        "\n",
        "'abcde12345abcde'의 문자열로 다음의 입출력 데이터를 생성한다.\n",
        "```\n",
        "'abcde' -> '1'\n",
        "'bcde1' -> '2'\n",
        "'cde12' -> '3'\n",
        "'de123' -> '4'\n",
        "...\n",
        "'5abcd' -> 'e'\n",
        "```"
      ]
    },
    {
      "cell_type": "code",
      "metadata": {
        "id": "yYxpmUQtwqTY"
      },
      "source": [
        "raw_x = []\n",
        "raw_y = []\n",
        "\n",
        "for i in range(len(text_data)):\n",
        "  if i+SEQUENCE_LENGTH+OFFSET >= len(text_data): break\n",
        "  raw_x.append(text_data[i:i+SEQUENCE_LENGTH])\n",
        "  raw_y.append(text_data[i+SEQUENCE_LENGTH+OFFSET-1])\n",
        "#            0         1         2      \n",
        "#            012345678901234567890123456789\n",
        "# textdata = abcde12345abcde12345abcde12345\n",
        "#               i = 3\n",
        "#               <-x->   = [3:8] = 'de123'\n",
        "#                    y  = [8]   = '4'\n"
      ],
      "execution_count": 5,
      "outputs": []
    },
    {
      "cell_type": "code",
      "metadata": {
        "colab": {
          "base_uri": "https://localhost:8080/"
        },
        "id": "15RBiNi9wqQU",
        "outputId": "0be7cf17-d23f-4171-e302-f6d8c2e32fd2"
      },
      "source": [
        "print(len(raw_x))\n",
        "# len(raw_x) = 94 = len(text_data) - SEQUENCE_LENGTH - OFFSET = 100 - 5 - 1"
      ],
      "execution_count": 6,
      "outputs": [
        {
          "output_type": "stream",
          "text": [
            "94\n"
          ],
          "name": "stdout"
        }
      ]
    },
    {
      "cell_type": "markdown",
      "metadata": {
        "id": "S7eFX6jIyrnx"
      },
      "source": [
        "## 데이터를 2차원 벡터화 하기\n",
        "\n",
        "RNN은 2차원 데이터를 입력으로 받는다. 1차원 문자열의 각 문자를 one-hot 인코딩하여 2차원 데이터로 만드렁 준다.<br>\n",
        "입력 데이터와 출력 데이터를 다음의 형태로 준비한다.<br>\n",
        "입력 데이터\n",
        "```\n",
        "문자열 'abc12'을 인코딩한\n",
        "[[0. 0. 0. 0. 0. 1. 0. 0. 0. 0.]\n",
        " [0. 0. 0. 0. 0. 0. 1. 0. 0. 0.]\n",
        " [0. 0. 0. 0. 0. 0. 0. 1. 0. 0.]\n",
        " [1. 0. 0. 0. 0. 0. 0. 0. 0. 0.]\n",
        " [0. 1. 0. 0. 0. 0. 0. 0. 0. 0.]]\n",
        "```\n",
        "\n",
        "출력 데이터\n",
        "```\n",
        "문자열 '3'을 인코딩한\n",
        " [0. 0. 1. 0. 0. 0. 0. 0. 0. 0.]]\n",
        "```\n",
        "\n"
      ]
    },
    {
      "cell_type": "markdown",
      "metadata": {
        "id": "4jO8skDb7p3f"
      },
      "source": [
        "인코딩 디코딩을 위한 유틸 클래스 CharacterTable"
      ]
    },
    {
      "cell_type": "code",
      "metadata": {
        "id": "-atmjECTwqNi"
      },
      "source": [
        "class CharacterTable:\n",
        "    \"\"\" 특정 문자열 집합을 가지고:\n",
        "    + one-hot 인코딩\n",
        "    + one-hot된 혹은 숫자로 인코딩된 값을 원 무자열로 디코딩\n",
        "    + softmax 같은 확율 벡터를 원 문자열로 디코딩\n",
        "    \"\"\"\n",
        "\n",
        "    def __init__(self, chars):\n",
        "        \"\"\"문자 테이블을 초기화\n",
        "        # Arguments\n",
        "            chars: 입력에 사용되는 문자들\n",
        "        \"\"\"\n",
        "        self.chars = sorted(set(chars))\n",
        "        self.char_indices = dict((c, i) for i, c in enumerate(self.chars))\n",
        "        # self.char_indices = { ' ': 0, \n",
        "        #                       '+': 1,\n",
        "        #                       '0': 2, \n",
        "        #                       '1': 3, \n",
        "        #                       ...\n",
        "        #                       '9': 11}\n",
        "        self.indices_char = dict((i, c) for i, c in enumerate(self.chars))\n",
        "        # self.indices_char = { 0: ' ', \n",
        "        #                       1: '+', \n",
        "        #                       2: '0', \n",
        "        #                       3: '1', \n",
        "        #                       ...\n",
        "        #                       11: '9'}\n",
        "\n",
        "    def encode(self, C):\n",
        "        \"\"\"전달된 문자열 C를 One-hot 인코딩 한다.\n",
        "        # Arguments\n",
        "            C: 인코딩할 문자열. 예 ' 123+45'\n",
        "        \"\"\"\n",
        "        x = np.zeros((len(C), len(self.chars)))\n",
        "        for i, c in enumerate(C): # 각 자리 문자마다\n",
        "            x[i, self.char_indices[c]] = 1 # 각 줄의 index만 1로 만든다. one-hot encoding한다.\n",
        "\n",
        "        # 반환되는 x는 num_rows의 행이고, 각 행은 각 문자에 대한 one-hot 인코딩된 값이다.\n",
        "        return x\n",
        "\n",
        "    def decode(self, x, calc_argmax=True):\n",
        "        \"\"\"전달된 벡터값 혹은 2D 배열을 해당 문자열로 디코딩한다.\n",
        "        # Arguments\n",
        "            x: 벡터 혹은 one-hot 인코딩된 2D 배열 혹은 softmax된 확률 2D 배열 \n",
        "               혹은 calc_argmax=False일 때는 문자 인덱스 벡터\n",
        "            calc_argmax: 최대 값의 index 값을 찾을 지 여부. default는 True\n",
        "        \"\"\"\n",
        "\n",
        "        # one-hot 인코딩 혹은 softmax 값이면 최대 index를 구한다.\n",
        "        if calc_argmax:\n",
        "            # x = [ [0 0 0 0 1 0 0 0 0 0 0 0]\n",
        "            #       [0 0 0 0 0 1 0 0 0 0 0 0]\n",
        "            #       [0 0 0 0 0 0 1 0 0 0 0 0]]\n",
        "            x = x.argmax(axis=-1)\n",
        "            # x = [ 4 5 6 ]\n",
        "        return \"\".join(self.indices_char[x] for x in x)\n"
      ],
      "execution_count": 7,
      "outputs": []
    },
    {
      "cell_type": "code",
      "metadata": {
        "id": "MW8bFIwAwqKa"
      },
      "source": [
        "ctable = CharacterTable(BASE_STRING)"
      ],
      "execution_count": 8,
      "outputs": []
    },
    {
      "cell_type": "markdown",
      "metadata": {
        "id": "I_fJZA7b7Y-e"
      },
      "source": [
        "다음은 인코딩, 디코딩 예이다."
      ]
    },
    {
      "cell_type": "code",
      "metadata": {
        "id": "vwm40AA-r4tt",
        "colab": {
          "base_uri": "https://localhost:8080/"
        },
        "outputId": "4ba88e44-22a8-4ded-bdc9-42210598809c"
      },
      "source": [
        "# 원 문자열\n",
        "org_str = 'abc12'\n",
        "print(f\"org_str='{org_str}'\")\n",
        "\n",
        "# 인코딩된 값\n",
        "encoded = ctable.encode(org_str)\n",
        "# [[0. 0. 0. 0. 0. 1. 0. 0. 0. 0.]    <==== 'a'\n",
        "#  [0. 0. 0. 0. 0. 0. 1. 0. 0. 0.]    <==== 'b'\n",
        "#  [0. 0. 0. 0. 0. 0. 0. 1. 0. 0.]    <==== 'c'\n",
        "#  [1. 0. 0. 0. 0. 0. 0. 0. 0. 0.]    <==== '1'\n",
        "#  [0. 1. 0. 0. 0. 0. 0. 0. 0. 0.]]   <==== '2'\n",
        "print(f\"encoded=\\n{encoded}\")\n",
        "print(f\"encoded.shape={encoded.shape}\")\n",
        "\n",
        "# 다시 디코딩해서 원복한 값\n",
        "decoded = ctable.decode(encoded)\n",
        "print(f\"decoded='{decoded}'\")"
      ],
      "execution_count": 9,
      "outputs": [
        {
          "output_type": "stream",
          "text": [
            "org_str='abc12'\n",
            "encoded=\n",
            "[[0. 0. 0. 0. 0. 1. 0. 0. 0. 0.]\n",
            " [0. 0. 0. 0. 0. 0. 1. 0. 0. 0.]\n",
            " [0. 0. 0. 0. 0. 0. 0. 1. 0. 0.]\n",
            " [1. 0. 0. 0. 0. 0. 0. 0. 0. 0.]\n",
            " [0. 1. 0. 0. 0. 0. 0. 0. 0. 0.]]\n",
            "encoded.shape=(5, 10)\n",
            "decoded='abc12'\n"
          ],
          "name": "stdout"
        }
      ]
    },
    {
      "cell_type": "code",
      "metadata": {
        "colab": {
          "base_uri": "https://localhost:8080/"
        },
        "id": "4mg54AkZ3boa",
        "outputId": "8ee80baf-31e5-404f-e3f2-4b165a0ce789"
      },
      "source": [
        "print(\"Vectorization...\")\n",
        "\n",
        "x = np.zeros((len(raw_x), len(raw_x[0]), CATEGORY_NUM), dtype=np.bool)\n",
        "y = np.zeros((len(raw_y), len(raw_y[0]), CATEGORY_NUM), dtype=np.bool)\n",
        "for i, sentence in enumerate(raw_x):\n",
        "    x[i] = ctable.encode(sentence)\n",
        "for i, sentence in enumerate(raw_y):\n",
        "    y[i] = ctable.encode(sentence)\n",
        "\n",
        "print(x.shape)\n",
        "print(y.shape)\n",
        "\n",
        "shuffled_index = np.arange(len(x))\n",
        "np.random.shuffle(shuffled_index)\n",
        "x = x[shuffled_index]\n",
        "y = y[shuffled_index]\n",
        "\n",
        "\n",
        "split_at = int(len(x)*0.9)\n",
        "(train_x, test_x) = x[:split_at], x[split_at:]\n",
        "(train_y, test_y) = y[:split_at], y[split_at:]\n",
        "\n",
        "print(\"Training Data:\")\n",
        "print(train_x.shape)\n",
        "print(train_y.shape)\n",
        "\n",
        "print(\"Test Data:\")\n",
        "print(test_x.shape)\n",
        "print(test_y.shape)\n"
      ],
      "execution_count": 15,
      "outputs": [
        {
          "output_type": "stream",
          "text": [
            "Vectorization...\n",
            "(94, 5, 10)\n",
            "(94, 1, 10)\n",
            "Training Data:\n",
            "(84, 5, 10)\n",
            "(84, 1, 10)\n",
            "Test Data:\n",
            "(10, 5, 10)\n",
            "(10, 1, 10)\n"
          ],
          "name": "stdout"
        }
      ]
    },
    {
      "cell_type": "markdown",
      "metadata": {
        "id": "lMq2Om3w8qNy"
      },
      "source": [
        "준비된 데이터는 다음과 같습니다."
      ]
    },
    {
      "cell_type": "code",
      "metadata": {
        "id": "41UcKyn-q5Ez",
        "colab": {
          "base_uri": "https://localhost:8080/"
        },
        "outputId": "3122d751-57ca-43fe-b749-08560d7bfedd"
      },
      "source": [
        "print(\"train_x[0]\\n\", train_x[0].astype(np.int))\n",
        "print()\n",
        "print(\"train_y[0]\\n\", train_y[0].astype(np.int))"
      ],
      "execution_count": 16,
      "outputs": [
        {
          "output_type": "stream",
          "text": [
            "train_x[0]\n",
            " [[0 0 0 1 0 0 0 0 0 0]\n",
            " [0 0 0 0 1 0 0 0 0 0]\n",
            " [0 0 0 0 0 1 0 0 0 0]\n",
            " [0 0 0 0 0 0 1 0 0 0]\n",
            " [0 0 0 0 0 0 0 1 0 0]]\n",
            "\n",
            "train_y[0]\n",
            " [[0 0 0 0 0 0 0 0 1 0]]\n"
          ],
          "name": "stdout"
        }
      ]
    },
    {
      "cell_type": "markdown",
      "metadata": {
        "id": "wa-gM3Nq84XK"
      },
      "source": [
        "준비된 데이터는 인코딩된 값들입니다. 디코딩에서 본 원 문자열은 다음과 같습니다."
      ]
    },
    {
      "cell_type": "code",
      "metadata": {
        "id": "zw_RFfJvrGFM",
        "colab": {
          "base_uri": "https://localhost:8080/"
        },
        "outputId": "975fb5fd-1428-460f-b02b-adef2e4eefe7"
      },
      "source": [
        "for i in range(10):\n",
        "  print(\"'\"+ctable.decode(train_x[i])+\"' -> '\"+ctable.decode(train_y[i])+\"'\")"
      ],
      "execution_count": 17,
      "outputs": [
        {
          "output_type": "stream",
          "text": [
            "'45abc' -> 'd'\n",
            "'bcde1' -> '2'\n",
            "'45abc' -> 'd'\n",
            "'de123' -> '4'\n",
            "'cde12' -> '3'\n",
            "'e1234' -> '5'\n",
            "'bcde1' -> '2'\n",
            "'5abcd' -> 'e'\n",
            "'5abcd' -> 'e'\n",
            "'12345' -> 'a'\n"
          ],
          "name": "stdout"
        }
      ]
    },
    {
      "cell_type": "markdown",
      "metadata": {
        "id": "0-mHtIAk_qU9"
      },
      "source": [
        "# Template"
      ]
    },
    {
      "cell_type": "markdown",
      "metadata": {
        "id": "k3CG02lDAI73"
      },
      "source": [
        "## LSTM"
      ]
    },
    {
      "cell_type": "code",
      "metadata": {
        "colab": {
          "base_uri": "https://localhost:8080/",
          "height": 806
        },
        "id": "GEffW4RR3bgJ",
        "outputId": "7d7baae4-e8ab-428d-a047-a858862310d3"
      },
      "source": [
        "from tensorflow import keras\n",
        "from tensorflow.keras.layers import Dense, RepeatVector, Flatten\n",
        "from tensorflow.keras.layers import Bidirectional, LSTM, GRU\n",
        "\n",
        "input_shape = train_x.shape[1:]\n",
        "# input_shape = (5,10)\n",
        "\n",
        "\n",
        "model = keras.Sequential()\n",
        "model.add(LSTM(128, input_shape=input_shape))\n",
        "model.add(RepeatVector(1))\n",
        "model.add(Dense(CATEGORY_NUM, activation=\"softmax\"))\n",
        "model.compile(loss=\"categorical_crossentropy\", optimizer=\"adam\", metrics=[\"accuracy\"])\n",
        "model.summary()\n",
        "\n",
        "history = model.fit(train_x, train_y, epochs=100, verbose=0, validation_split=0.1, batch_size=128)\n",
        "\n",
        "\n",
        "plt.plot(history.history['loss'])\n",
        "plt.plot(history.history['val_loss'])\n",
        "plt.show()\n",
        "\n",
        "\n",
        "\n",
        "loss, acc = model.evaluate(test_x, test_y)\n",
        "print(\"loss=\", loss)\n",
        "print(\"acc=\", acc)\n",
        "\n",
        "\n",
        "\n",
        "y_ = model.predict(test_x)\n",
        "predicted = np.argmax(y_, axis=-1)\n",
        "test_y_index = np.argmax(test_y, axis=-1)\n",
        "\n",
        "plt.plot(test_y_index, \"o\")\n",
        "plt.plot(predicted, \".\")\n",
        "plt.show()"
      ],
      "execution_count": 18,
      "outputs": [
        {
          "output_type": "stream",
          "text": [
            "Model: \"sequential\"\n",
            "_________________________________________________________________\n",
            "Layer (type)                 Output Shape              Param #   \n",
            "=================================================================\n",
            "lstm (LSTM)                  (None, 128)               71168     \n",
            "_________________________________________________________________\n",
            "repeat_vector (RepeatVector) (None, 1, 128)            0         \n",
            "_________________________________________________________________\n",
            "dense (Dense)                (None, 1, 10)             1290      \n",
            "=================================================================\n",
            "Total params: 72,458\n",
            "Trainable params: 72,458\n",
            "Non-trainable params: 0\n",
            "_________________________________________________________________\n"
          ],
          "name": "stdout"
        },
        {
          "output_type": "display_data",
          "data": {
            "image/png": "[encoded data removed]",
            "text/plain": [
              "<Figure size 432x288 with 1 Axes>"
            ]
          },
          "metadata": {
            "needs_background": "light"
          }
        },
        {
          "output_type": "stream",
          "text": [
            "1/1 [==============================] - 0s 16ms/step - loss: 0.0205 - accuracy: 1.0000\n",
            "loss= 0.02045532502233982\n",
            "acc= 1.0\n"
          ],
          "name": "stdout"
        },
        {
          "output_type": "display_data",
          "data": {
            "image/png": "[encoded data removed]",
            "text/plain": [
              "<Figure size 432x288 with 1 Axes>"
            ]
          },
          "metadata": {
            "needs_background": "light"
          }
        }
      ]
    },
    {
      "cell_type": "markdown",
      "metadata": {
        "id": "M1sV7tBtAWEz"
      },
      "source": [
        "## GRU"
      ]
    },
    {
      "cell_type": "code",
      "metadata": {
        "colab": {
          "base_uri": "https://localhost:8080/",
          "height": 819
        },
        "id": "usltj8hI3bdL",
        "outputId": "c3e360ef-66ec-4c1a-8993-d44600315d6c"
      },
      "source": [
        "from tensorflow import keras\n",
        "from tensorflow.keras.layers import Dense, RepeatVector, Flatten\n",
        "from tensorflow.keras.layers import Bidirectional, LSTM, GRU\n",
        "\n",
        "input_shape = train_x.shape[1:]\n",
        "# input_shape = (5,10)\n",
        "\n",
        "model = keras.Sequential()\n",
        "model.add(GRU(128, input_shape=input_shape))\n",
        "model.add(RepeatVector(1))\n",
        "model.add(Dense(CATEGORY_NUM, activation=\"softmax\"))\n",
        "model.compile(loss=\"categorical_crossentropy\", optimizer=\"adam\", metrics=[\"accuracy\"])\n",
        "model.summary()\n",
        "\n",
        "history = model.fit(train_x, train_y, epochs=100, verbose=0, validation_split=0.1, batch_size=128)\n",
        "\n",
        "\n",
        "plt.plot(history.history['loss'])\n",
        "plt.plot(history.history['val_loss'])\n",
        "plt.show()\n",
        "\n",
        "\n",
        "\n",
        "loss, acc = model.evaluate(test_x, test_y)\n",
        "print(\"loss=\", loss)\n",
        "print(\"acc=\", acc)\n",
        "\n",
        "\n",
        "\n",
        "y_ = model.predict(test_x)\n",
        "predicted = np.argmax(y_, axis=-1)\n",
        "test_y_index = np.argmax(test_y, axis=-1)\n",
        "\n",
        "plt.plot(test_y_index, \"o\")\n",
        "plt.plot(predicted, \".\")\n",
        "plt.show()"
      ],
      "execution_count": null,
      "outputs": [
        {
          "output_type": "stream",
          "text": [
            "Model: \"sequential_1\"\n",
            "_________________________________________________________________\n",
            "Layer (type)                 Output Shape              Param #   \n",
            "=================================================================\n",
            "gru (GRU)                    (None, 128)               53760     \n",
            "_________________________________________________________________\n",
            "repeat_vector_1 (RepeatVecto (None, 1, 128)            0         \n",
            "_________________________________________________________________\n",
            "dense_1 (Dense)              (None, 1, 10)             1290      \n",
            "=================================================================\n",
            "Total params: 55,050\n",
            "Trainable params: 55,050\n",
            "Non-trainable params: 0\n",
            "_________________________________________________________________\n"
          ],
          "name": "stdout"
        },
        {
          "output_type": "display_data",
          "data": {
            "image/png": "[encoded data removed]",
            "text/plain": [
              "<Figure size 432x288 with 1 Axes>"
            ]
          },
          "metadata": {
            "needs_background": "light"
          }
        },
        {
          "output_type": "stream",
          "text": [
            "1/1 [==============================] - 0s 15ms/step - loss: 0.0080 - accuracy: 1.0000\n",
            "loss= 0.008012698031961918\n",
            "acc= 1.0\n"
          ],
          "name": "stdout"
        },
        {
          "output_type": "display_data",
          "data": {
            "image/png": "[encoded data removed]",
            "text/plain": [
              "<Figure size 432x288 with 1 Axes>"
            ]
          },
          "metadata": {
            "needs_background": "light"
          }
        }
      ]
    },
    {
      "cell_type": "markdown",
      "metadata": {
        "id": "jCBiKCg9AeHT"
      },
      "source": [
        "## Bidirectional + LSTM"
      ]
    },
    {
      "cell_type": "code",
      "metadata": {
        "id": "azGH_FDbwqHT",
        "colab": {
          "base_uri": "https://localhost:8080/",
          "height": 819
        },
        "outputId": "0e471b5e-f73b-41ab-d09b-44970f7ebfa8"
      },
      "source": [
        "from tensorflow import keras\n",
        "from tensorflow.keras.layers import Dense, RepeatVector, Flatten\n",
        "from tensorflow.keras.layers import Bidirectional, LSTM, GRU\n",
        "\n",
        "input_shape = train_x.shape[1:]\n",
        "# input_shape = (5,10)\n",
        "\n",
        "model = keras.Sequential()\n",
        "model.add(Bidirectional(LSTM(128), input_shape=input_shape))\n",
        "model.add(RepeatVector(1))\n",
        "model.add(Dense(CATEGORY_NUM, activation=\"softmax\"))\n",
        "model.compile(loss=\"categorical_crossentropy\", optimizer=\"adam\", metrics=[\"accuracy\"])\n",
        "model.summary()\n",
        "\n",
        "history = model.fit(train_x, train_y, epochs=100, verbose=0, validation_split=0.1, batch_size=128)\n",
        "\n",
        "\n",
        "plt.plot(history.history['loss'])\n",
        "plt.plot(history.history['val_loss'])\n",
        "plt.show()\n",
        "\n",
        "\n",
        "\n",
        "loss, acc = model.evaluate(test_x, test_y)\n",
        "print(\"loss=\", loss)\n",
        "print(\"acc=\", acc)\n",
        "\n",
        "\n",
        "\n",
        "y_ = model.predict(test_x)\n",
        "predicted = np.argmax(y_, axis=-1)\n",
        "test_y_index = np.argmax(test_y, axis=-1)\n",
        "\n",
        "plt.plot(test_y_index, \"o\")\n",
        "plt.plot(predicted, \".\")\n",
        "plt.show()"
      ],
      "execution_count": null,
      "outputs": [
        {
          "output_type": "stream",
          "text": [
            "Model: \"sequential_2\"\n",
            "_________________________________________________________________\n",
            "Layer (type)                 Output Shape              Param #   \n",
            "=================================================================\n",
            "bidirectional (Bidirectional (None, 256)               142336    \n",
            "_________________________________________________________________\n",
            "repeat_vector_2 (RepeatVecto (None, 1, 256)            0         \n",
            "_________________________________________________________________\n",
            "dense_2 (Dense)              (None, 1, 10)             2570      \n",
            "=================================================================\n",
            "Total params: 144,906\n",
            "Trainable params: 144,906\n",
            "Non-trainable params: 0\n",
            "_________________________________________________________________\n"
          ],
          "name": "stdout"
        },
        {
          "output_type": "display_data",
          "data": {
            "image/png": "[encoded data removed]",
            "text/plain": [
              "<Figure size 432x288 with 1 Axes>"
            ]
          },
          "metadata": {
            "needs_background": "light"
          }
        },
        {
          "output_type": "stream",
          "text": [
            "1/1 [==============================] - 0s 15ms/step - loss: 0.0037 - accuracy: 1.0000\n",
            "loss= 0.0037450515665113926\n",
            "acc= 1.0\n"
          ],
          "name": "stdout"
        },
        {
          "output_type": "display_data",
          "data": {
            "image/png": "[encoded data removed]",
            "text/plain": [
              "<Figure size 432x288 with 1 Axes>"
            ]
          },
          "metadata": {
            "needs_background": "light"
          }
        }
      ]
    },
    {
      "cell_type": "markdown",
      "metadata": {
        "id": "TfY_p_SJA5Rf"
      },
      "source": [
        "## Bidirectional + GRU"
      ]
    },
    {
      "cell_type": "code",
      "metadata": {
        "id": "OcjycCe8wqEH",
        "colab": {
          "base_uri": "https://localhost:8080/",
          "height": 819
        },
        "outputId": "dc8ed707-de34-488b-dd1d-2fff1edc23fa"
      },
      "source": [
        "from tensorflow import keras\n",
        "from tensorflow.keras.layers import Dense, RepeatVector, Flatten\n",
        "from tensorflow.keras.layers import Bidirectional, LSTM, GRU\n",
        "\n",
        "input_shape = train_x.shape[1:]\n",
        "# input_shape = (5,10)\n",
        "\n",
        "model = keras.Sequential()\n",
        "model.add(Bidirectional(GRU(128), input_shape=input_shape))\n",
        "model.add(RepeatVector(1))\n",
        "model.add(Dense(CATEGORY_NUM, activation=\"softmax\"))\n",
        "model.compile(loss=\"categorical_crossentropy\", optimizer=\"adam\", metrics=[\"accuracy\"])\n",
        "model.summary()\n",
        "\n",
        "history = model.fit(train_x, train_y, epochs=100, verbose=0, validation_split=0.1, batch_size=128)\n",
        "\n",
        "\n",
        "plt.plot(history.history['loss'])\n",
        "plt.plot(history.history['val_loss'])\n",
        "plt.show()\n",
        "\n",
        "\n",
        "\n",
        "loss, acc = model.evaluate(test_x, test_y)\n",
        "print(\"loss=\", loss)\n",
        "print(\"acc=\", acc)\n",
        "\n",
        "\n",
        "\n",
        "y_ = model.predict(test_x)\n",
        "predicted = np.argmax(y_, axis=-1)\n",
        "test_y_index = np.argmax(test_y, axis=-1)\n",
        "\n",
        "plt.plot(test_y_index, \"o\")\n",
        "plt.plot(predicted, \".\")\n",
        "plt.show()"
      ],
      "execution_count": null,
      "outputs": [
        {
          "output_type": "stream",
          "text": [
            "Model: \"sequential_3\"\n",
            "_________________________________________________________________\n",
            "Layer (type)                 Output Shape              Param #   \n",
            "=================================================================\n",
            "bidirectional_1 (Bidirection (None, 256)               107520    \n",
            "_________________________________________________________________\n",
            "repeat_vector_3 (RepeatVecto (None, 1, 256)            0         \n",
            "_________________________________________________________________\n",
            "dense_3 (Dense)              (None, 1, 10)             2570      \n",
            "=================================================================\n",
            "Total params: 110,090\n",
            "Trainable params: 110,090\n",
            "Non-trainable params: 0\n",
            "_________________________________________________________________\n"
          ],
          "name": "stdout"
        },
        {
          "output_type": "display_data",
          "data": {
            "image/png": "[encoded data removed]",
            "text/plain": [
              "<Figure size 432x288 with 1 Axes>"
            ]
          },
          "metadata": {
            "needs_background": "light"
          }
        },
        {
          "output_type": "stream",
          "text": [
            "1/1 [==============================] - 0s 16ms/step - loss: 0.0026 - accuracy: 1.0000\n",
            "loss= 0.002641375409439206\n",
            "acc= 1.0\n"
          ],
          "name": "stdout"
        },
        {
          "output_type": "display_data",
          "data": {
            "image/png": "[encoded data removed]",
            "text/plain": [
              "<Figure size 432x288 with 1 Axes>"
            ]
          },
          "metadata": {
            "needs_background": "light"
          }
        }
      ]
    },
    {
      "cell_type": "markdown",
      "metadata": {
        "id": "P3aO3WEwA-lR"
      },
      "source": [
        "## stacked"
      ]
    },
    {
      "cell_type": "code",
      "metadata": {
        "id": "xIYi9GUDwqA6",
        "colab": {
          "base_uri": "https://localhost:8080/",
          "height": 893
        },
        "outputId": "86877aab-bfbd-4995-853e-4d320e74eaed"
      },
      "source": [
        "from tensorflow import keras\n",
        "from tensorflow.keras.layers import Dense, RepeatVector, Flatten\n",
        "from tensorflow.keras.layers import Bidirectional, LSTM, GRU\n",
        "\n",
        "input_shape = train_x.shape[1:]\n",
        "# input_shape = (5,10)\n",
        "\n",
        "model = keras.Sequential()\n",
        "model.add(LSTM(128, input_shape=input_shape, return_sequences=True))\n",
        "model.add(LSTM(128))\n",
        "model.add(RepeatVector(1))\n",
        "model.add(Dense(CATEGORY_NUM, activation=\"softmax\"))\n",
        "model.compile(loss=\"categorical_crossentropy\", optimizer=\"adam\", metrics=[\"accuracy\"])\n",
        "model.summary()\n",
        "\n",
        "history = model.fit(train_x, train_y, epochs=100, verbose=0, validation_split=0.1, batch_size=128)\n",
        "\n",
        "\n",
        "plt.plot(history.history['loss'])\n",
        "plt.plot(history.history['val_loss'])\n",
        "plt.show()\n",
        "\n",
        "\n",
        "\n",
        "loss, acc = model.evaluate(test_x, test_y)\n",
        "print(\"loss=\", loss)\n",
        "print(\"acc=\", acc)\n",
        "\n",
        "\n",
        "\n",
        "y_ = model.predict(test_x)\n",
        "predicted = np.argmax(y_, axis=-1)\n",
        "test_y_index = np.argmax(test_y, axis=-1)\n",
        "\n",
        "plt.plot(test_y_index, \"o\")\n",
        "plt.plot(predicted, \".\")\n",
        "plt.show()"
      ],
      "execution_count": null,
      "outputs": [
        {
          "output_type": "stream",
          "text": [
            "Model: \"sequential_4\"\n",
            "_________________________________________________________________\n",
            "Layer (type)                 Output Shape              Param #   \n",
            "=================================================================\n",
            "lstm_2 (LSTM)                (None, 5, 128)            71168     \n",
            "_________________________________________________________________\n",
            "lstm_3 (LSTM)                (None, 128)               131584    \n",
            "_________________________________________________________________\n",
            "repeat_vector_4 (RepeatVecto (None, 1, 128)            0         \n",
            "_________________________________________________________________\n",
            "dense_4 (Dense)              (None, 1, 10)             1290      \n",
            "=================================================================\n",
            "Total params: 204,042\n",
            "Trainable params: 204,042\n",
            "Non-trainable params: 0\n",
            "_________________________________________________________________\n"
          ],
          "name": "stdout"
        },
        {
          "output_type": "display_data",
          "data": {
            "image/png": "[encoded data removed]",
            "text/plain": [
              "<Figure size 432x288 with 1 Axes>"
            ]
          },
          "metadata": {
            "needs_background": "light"
          }
        },
        {
          "output_type": "stream",
          "text": [
            "1/1 [==============================] - 0s 15ms/step - loss: 0.0056 - accuracy: 1.0000\n",
            "loss= 0.005600697360932827\n",
            "acc= 1.0\n",
            "WARNING:tensorflow:5 out of the last 5 calls to <function Model.make_predict_function.<locals>.predict_function at 0x7fa7ee3efc20> triggered tf.function retracing. Tracing is expensive and the excessive number of tracings could be due to (1) creating @tf.function repeatedly in a loop, (2) passing tensors with different shapes, (3) passing Python objects instead of tensors. For (1), please define your @tf.function outside of the loop. For (2), @tf.function has experimental_relax_shapes=True option that relaxes argument shapes that can avoid unnecessary retracing. For (3), please refer to https://www.tensorflow.org/guide/function#controlling_retracing and https://www.tensorflow.org/api_docs/python/tf/function for  more details.\n"
          ],
          "name": "stdout"
        },
        {
          "output_type": "display_data",
          "data": {
            "image/png": "[encoded data removed]",
            "text/plain": [
              "<Figure size 432x288 with 1 Axes>"
            ]
          },
          "metadata": {
            "needs_background": "light"
          }
        }
      ]
    },
    {
      "cell_type": "markdown",
      "metadata": {
        "id": "kDUU5YAZksVp"
      },
      "source": [
        "## CNN"
      ]
    },
    {
      "cell_type": "code",
      "metadata": {
        "id": "8fCNcgo4k0hA",
        "colab": {
          "base_uri": "https://localhost:8080/",
          "height": 945
        },
        "outputId": "0327df40-2156-4474-ff94-6cd160cc4f68"
      },
      "source": [
        "from tensorflow import keras\n",
        "from tensorflow.keras.layers import Dense, RepeatVector, Flatten\n",
        "from tensorflow.keras.layers import Bidirectional, LSTM, GRU\n",
        "from tensorflow.keras.layers import Conv2D, MaxPooling2D, Conv1D, MaxPooling1D, Input, Reshape\n",
        "\n",
        "input_shape = train_x.shape[1:]\n",
        "# input_shape = (5,10)\n",
        "\n",
        "model = keras.Sequential()\n",
        "model.add(Conv1D(32, 3, padding=\"same\", input_shape=input_shape))\n",
        "model.add(Conv1D(32, 3, padding=\"same\"))\n",
        "model.add(MaxPooling1D())\n",
        "model.add(Conv1D(32, 3, padding=\"same\"))\n",
        "model.add(Conv1D(32, 3, padding=\"same\"))\n",
        "model.add(MaxPooling1D())\n",
        "model.add(Dense(CATEGORY_NUM, activation=\"softmax\"))\n",
        "model.compile(loss=\"categorical_crossentropy\", optimizer=\"adam\", metrics=[\"accuracy\"])\n",
        "model.summary()\n",
        "\n",
        "history = model.fit(train_x, train_y, epochs=100, verbose=0, validation_split=0.1, batch_size=128)\n",
        "\n",
        "\n",
        "plt.plot(history.history['loss'])\n",
        "plt.plot(history.history['val_loss'])\n",
        "plt.show()\n",
        "\n",
        "\n",
        "\n",
        "loss, acc = model.evaluate(test_x, test_y)\n",
        "print(\"loss=\", loss)\n",
        "print(\"acc=\", acc)\n",
        "\n",
        "\n",
        "\n",
        "y_ = model.predict(test_x)\n",
        "predicted = np.argmax(y_, axis=-1)\n",
        "test_y_index = np.argmax(test_y, axis=-1)\n",
        "\n",
        "plt.plot(test_y_index, \"o\")\n",
        "plt.plot(predicted, \".\")\n",
        "plt.show()"
      ],
      "execution_count": 19,
      "outputs": [
        {
          "output_type": "stream",
          "text": [
            "Model: \"sequential_1\"\n",
            "_________________________________________________________________\n",
            "Layer (type)                 Output Shape              Param #   \n",
            "=================================================================\n",
            "conv1d (Conv1D)              (None, 5, 32)             992       \n",
            "_________________________________________________________________\n",
            "conv1d_1 (Conv1D)            (None, 5, 32)             3104      \n",
            "_________________________________________________________________\n",
            "max_pooling1d (MaxPooling1D) (None, 2, 32)             0         \n",
            "_________________________________________________________________\n",
            "conv1d_2 (Conv1D)            (None, 2, 32)             3104      \n",
            "_________________________________________________________________\n",
            "conv1d_3 (Conv1D)            (None, 2, 32)             3104      \n",
            "_________________________________________________________________\n",
            "max_pooling1d_1 (MaxPooling1 (None, 1, 32)             0         \n",
            "_________________________________________________________________\n",
            "dense_1 (Dense)              (None, 1, 10)             330       \n",
            "=================================================================\n",
            "Total params: 10,634\n",
            "Trainable params: 10,634\n",
            "Non-trainable params: 0\n",
            "_________________________________________________________________\n"
          ],
          "name": "stdout"
        },
        {
          "output_type": "display_data",
          "data": {
            "image/png": "[encoded data removed]",
            "text/plain": [
              "<Figure size 432x288 with 1 Axes>"
            ]
          },
          "metadata": {
            "needs_background": "light"
          }
        },
        {
          "output_type": "stream",
          "text": [
            "1/1 [==============================] - 0s 44ms/step - loss: 0.0030 - accuracy: 1.0000\n",
            "loss= 0.0030273578595370054\n",
            "acc= 1.0\n"
          ],
          "name": "stdout"
        },
        {
          "output_type": "display_data",
          "data": {
            "image/png": "[encoded data removed]",
            "text/plain": [
              "<Figure size 432x288 with 1 Axes>"
            ]
          },
          "metadata": {
            "needs_background": "light"
          }
        }
      ]
    },
    {
      "cell_type": "markdown",
      "metadata": {
        "id": "FUjeezafksMt"
      },
      "source": [
        "## CNN + LSTM"
      ]
    },
    {
      "cell_type": "code",
      "metadata": {
        "id": "QSc7dlgXk1Y5",
        "colab": {
          "base_uri": "https://localhost:8080/",
          "height": 891
        },
        "outputId": "412de08a-6453-4267-9de8-110e4adfa374"
      },
      "source": [
        "from tensorflow import keras\n",
        "from tensorflow.keras.layers import Dense, RepeatVector, Flatten\n",
        "from tensorflow.keras.layers import Bidirectional, LSTM, GRU\n",
        "from tensorflow.keras.layers import Conv2D, MaxPooling2D, Conv1D, MaxPooling1D, Input, Reshape\n",
        "\n",
        "input_shape = train_x.shape[1:]\n",
        "# input_shape = (5,10)\n",
        "\n",
        "model = keras.Sequential()\n",
        "model.add(Conv1D(32, 3, padding=\"same\", input_shape=input_shape))\n",
        "model.add(Conv1D(32, 3, padding=\"same\"))\n",
        "model.add(LSTM(128))\n",
        "model.add(RepeatVector(1))\n",
        "model.add(Dense(CATEGORY_NUM, activation=\"softmax\"))\n",
        "model.compile(loss=\"categorical_crossentropy\", optimizer=\"adam\", metrics=[\"accuracy\"])\n",
        "model.summary()\n",
        "\n",
        "history = model.fit(train_x, train_y, epochs=100, verbose=0, validation_split=0.1, batch_size=128)\n",
        "\n",
        "\n",
        "plt.plot(history.history['loss'])\n",
        "plt.plot(history.history['val_loss'])\n",
        "plt.show()\n",
        "\n",
        "\n",
        "\n",
        "loss, acc = model.evaluate(test_x, test_y)\n",
        "print(\"loss=\", loss)\n",
        "print(\"acc=\", acc)\n",
        "\n",
        "\n",
        "\n",
        "y_ = model.predict(test_x)\n",
        "predicted = np.argmax(y_, axis=-1)\n",
        "test_y_index = np.argmax(test_y, axis=-1)\n",
        "\n",
        "plt.plot(test_y_index, \"o\")\n",
        "plt.plot(predicted, \".\")\n",
        "plt.show()"
      ],
      "execution_count": null,
      "outputs": [
        {
          "output_type": "stream",
          "text": [
            "Model: \"sequential_11\"\n",
            "_________________________________________________________________\n",
            "Layer (type)                 Output Shape              Param #   \n",
            "=================================================================\n",
            "conv1d_22 (Conv1D)           (None, 5, 32)             992       \n",
            "_________________________________________________________________\n",
            "conv1d_23 (Conv1D)           (None, 5, 32)             3104      \n",
            "_________________________________________________________________\n",
            "lstm_5 (LSTM)                (None, 128)               82432     \n",
            "_________________________________________________________________\n",
            "repeat_vector_8 (RepeatVecto (None, 1, 128)            0         \n",
            "_________________________________________________________________\n",
            "dense_7 (Dense)              (None, 1, 10)             1290      \n",
            "=================================================================\n",
            "Total params: 87,818\n",
            "Trainable params: 87,818\n",
            "Non-trainable params: 0\n",
            "_________________________________________________________________\n"
          ],
          "name": "stdout"
        },
        {
          "output_type": "display_data",
          "data": {
            "image/png": "[encoded data removed]",
            "text/plain": [
              "<Figure size 432x288 with 1 Axes>"
            ]
          },
          "metadata": {
            "needs_background": "light"
          }
        },
        {
          "output_type": "stream",
          "text": [
            "1/1 [==============================] - 0s 15ms/step - loss: 0.0061 - accuracy: 1.0000\n",
            "loss= 0.006077046971768141\n",
            "acc= 1.0\n"
          ],
          "name": "stdout"
        },
        {
          "output_type": "display_data",
          "data": {
            "image/png": "[encoded data removed]",
            "text/plain": [
              "<Figure size 432x288 with 1 Axes>"
            ]
          },
          "metadata": {
            "needs_background": "light"
          }
        }
      ]
    },
    {
      "cell_type": "code",
      "metadata": {
        "id": "emE8KhR9BF-Z"
      },
      "source": [
        ""
      ],
      "execution_count": null,
      "outputs": []
    }
  ]
}