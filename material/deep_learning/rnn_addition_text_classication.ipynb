{
  "nbformat": 4,
  "nbformat_minor": 0,
  "metadata": {
    "colab": {
      "name": "rnn_addition_text_classication.ipynb",
      "provenance": [],
      "collapsed_sections": []
    },
    "kernelspec": {
      "display_name": "Python 3",
      "language": "python",
      "name": "python3"
    },
    "language_info": {
      "codemirror_mode": {
        "name": "ipython",
        "version": 3
      },
      "file_extension": ".py",
      "mimetype": "text/x-python",
      "name": "python",
      "nbconvert_exporter": "python",
      "pygments_lexer": "ipython3",
      "version": "3.7.0"
    },
    "accelerator": "GPU"
  },
  "cells": [
    {
      "cell_type": "markdown",
      "metadata": {
        "id": "ou-ygxNfo-Ec"
      },
      "source": [
        "## 셋업\n"
      ]
    },
    {
      "cell_type": "code",
      "metadata": {
        "id": "d8X6ncVagzaf"
      },
      "source": [
        "import numpy as np\n",
        "import matplotlib.pyplot as plt\n",
        "\n",
        "from tensorflow import keras\n",
        "from tensorflow.keras.layers import LSTM, Input, Dense, Flatten, Bidirectional"
      ],
      "execution_count": 145,
      "outputs": []
    },
    {
      "cell_type": "code",
      "metadata": {
        "id": "M5OvBIiWo-Ec"
      },
      "source": [
        "\n",
        "TRAINING_SIZE = 50000   # 학습 데이터의 갯수\n",
        "DIGITS = 3              # 덧셈에 사용될 숫자 자리수\n",
        "REVERSE = True          # 입력 문자열의 역순 여부. \n",
        "# DEV :\n",
        "REVERSE = False          # 입력 문자열의 역순 여부. \n",
        "\n",
        "# 입력 문자열의 최대 길이.\n",
        "#      = 숫자길이 '+'   숫자길이 '='  정답숫자길이\n",
        "MAXLEN = DIGITS +  1  + DIGITS +  1 + (DIGITS+1)\n"
      ],
      "execution_count": 146,
      "outputs": []
    },
    {
      "cell_type": "markdown",
      "metadata": {
        "id": "bYKxRgPOJHFo"
      },
      "source": [
        "# 데이터"
      ]
    },
    {
      "cell_type": "markdown",
      "metadata": {
        "id": "6dQt0G10o-Eg"
      },
      "source": [
        "## 입력 문제와 정답여부 생성\n"
      ]
    },
    {
      "cell_type": "code",
      "metadata": {
        "id": "COsdmY5vo-Eg",
        "colab": {
          "base_uri": "https://localhost:8080/"
        },
        "outputId": "f6c52497-417a-42fb-fdc8-78eff1ee803c"
      },
      "source": [
        "MAX_ERROR = 10\n",
        "chars = \"0123456789+= \"\n",
        "\n",
        "questions = []\n",
        "expecteds = []\n",
        "\n",
        "while len(questions) < TRAINING_SIZE:\n",
        "\n",
        "    a = np.random.randint(1000)\n",
        "    b = np.random.randint(1000)\n",
        "    # a = 123\n",
        "    # b = 45\n",
        "\n",
        "    error = np.random.randint(2)\n",
        "    # error = 1\n",
        "\n",
        "    s = a+b+error\n",
        "    # s = 123+45+1 = 169\n",
        "\n",
        "    q = \"{}+{}={}\".format(a, b, s)\n",
        "    # q = '123+45=169'\n",
        "\n",
        "    query = q.ljust(MAXLEN, ' ')\n",
        "    # query = '123+45=169  '\n",
        "\n",
        "    if REVERSE:\n",
        "        query = query[::-1]\n",
        "        # query = ' 961=54+321'\n",
        "\n",
        "    correct = 1 - error\n",
        "    questions.append(query)\n",
        "    expecteds.append(correct)\n",
        "\n",
        "print(\"Total questions:\", len(questions))\n"
      ],
      "execution_count": 147,
      "outputs": [
        {
          "output_type": "stream",
          "text": [
            "Total questions: 50000\n"
          ],
          "name": "stdout"
        }
      ]
    },
    {
      "cell_type": "code",
      "metadata": {
        "colab": {
          "base_uri": "https://localhost:8080/"
        },
        "id": "AfXrMCrKeRi1",
        "outputId": "6602ed41-d6f7-47c4-a115-c94ce2524250"
      },
      "source": [
        "for i in range(10):\n",
        "  print(\"'\"+questions[i]+\"' --->\", expecteds[i])"
      ],
      "execution_count": 148,
      "outputs": [
        {
          "output_type": "stream",
          "text": [
            "'5+764=770   ' ---> 0\n",
            "'817+286=1103' ---> 1\n",
            "'591+622=1214' ---> 0\n",
            "'76+893=969  ' ---> 1\n",
            "'284+484=768 ' ---> 1\n",
            "'618+20=639  ' ---> 0\n",
            "'325+947=1273' ---> 0\n",
            "'427+983=1411' ---> 0\n",
            "'806+228=1034' ---> 1\n",
            "'658+509=1168' ---> 0\n"
          ],
          "name": "stdout"
        }
      ]
    },
    {
      "cell_type": "markdown",
      "metadata": {
        "id": "S7eFX6jIyrnx"
      },
      "source": [
        "## 데이터를 벡터화 하기"
      ]
    },
    {
      "cell_type": "markdown",
      "metadata": {
        "id": "4jO8skDb7p3f"
      },
      "source": [
        "인코딩 디코딩을 위한 유틸 클래스 CharacterTable"
      ]
    },
    {
      "cell_type": "code",
      "metadata": {
        "id": "Sqn4LUtHyi46"
      },
      "source": [
        "class CharacterTable:\n",
        "\n",
        "    # ' ', '+', '0', '1', '2', '3', '4', '5', '6', '7', '8', '9', '='\n",
        "    #  0    1    2    3    4    5    6    7    8    9    10   11   12\n",
        "\n",
        "    def __init__(self, chars):\n",
        "        self.chars = sorted(set(chars))\n",
        "        self.char_indices = dict((c, i) for i, c in enumerate(self.chars)) # '+' ->  1\n",
        "        self.indices_char = dict((i, c) for i, c in enumerate(self.chars)) #  1  -> '+'\n",
        "\n",
        "    def encode(self, C, num_rows=MAXLEN):\n",
        "        x = np.zeros((num_rows, len(self.chars)))\n",
        "        for i, c in enumerate(C): # 각 자리 문자마다\n",
        "            x[i, self.char_indices[c]] = 1 # 각 줄의 index만 1로 만든다. one-hot encoding한다.\n",
        "        return x\n",
        "\n",
        "    def decode(self, x):\n",
        "        x = x.argmax(axis=-1)\n",
        "        return \"\".join(self.indices_char[x] for x in x)\n"
      ],
      "execution_count": 149,
      "outputs": []
    },
    {
      "cell_type": "code",
      "metadata": {
        "id": "kVYzei1I7XZb"
      },
      "source": [
        "ctable = CharacterTable(chars)"
      ],
      "execution_count": 150,
      "outputs": []
    },
    {
      "cell_type": "markdown",
      "metadata": {
        "id": "I_fJZA7b7Y-e"
      },
      "source": [
        "다음은 인코딩, 디코딩 예이다."
      ]
    },
    {
      "cell_type": "code",
      "metadata": {
        "id": "vwm40AA-r4tt",
        "colab": {
          "base_uri": "https://localhost:8080/"
        },
        "outputId": "63868e4b-28fc-4e42-9851-57d5b999d4c6"
      },
      "source": [
        "# 원 문자열\n",
        "org_str = '  655=123+45'\n",
        "print(f\"org_str='{org_str}'\")\n",
        "\n",
        "# 인코딩된 값\n",
        "encoded = ctable.encode(org_str)\n",
        "# [[1. 0. 0. 0. 0. 0. 0. 0. 0. 0. 0. 0. 0.]   ' '\n",
        "#  [1. 0. 0. 0. 0. 0. 0. 0. 0. 0. 0. 0. 0.]   ' '\n",
        "#  [0. 0. 0. 0. 0. 0. 0. 0. 1. 0. 0. 0. 0.]   '6'\n",
        "#  [0. 0. 0. 0. 0. 0. 0. 1. 0. 0. 0. 0. 0.]   '5'\n",
        "#  [0. 0. 0. 0. 0. 0. 0. 1. 0. 0. 0. 0. 0.]   '5'\n",
        "#  [0. 0. 0. 0. 0. 0. 0. 0. 0. 0. 0. 0. 1.]   '='\n",
        "#  [0. 0. 0. 1. 0. 0. 0. 0. 0. 0. 0. 0. 0.]   '1'\n",
        "#  [0. 0. 0. 0. 1. 0. 0. 0. 0. 0. 0. 0. 0.]   '2'\n",
        "#  [0. 0. 0. 0. 0. 1. 0. 0. 0. 0. 0. 0. 0.]   '3'\n",
        "#  [0. 1. 0. 0. 0. 0. 0. 0. 0. 0. 0. 0. 0.]   '+'\n",
        "#  [0. 0. 0. 0. 0. 0. 1. 0. 0. 0. 0. 0. 0.]   '4'\n",
        "#  [0. 0. 0. 0. 0. 0. 0. 1. 0. 0. 0. 0. 0.]]  '5'\n",
        "print(f\"encoded=\\n{encoded}\")\n",
        "print(f\"encoded.shape={encoded.shape}\")\n",
        "\n",
        "# 다시 디코딩해서 원복한 값\n",
        "decoded = ctable.decode(encoded)\n",
        "print(f\"decoded='{decoded}'\")"
      ],
      "execution_count": 151,
      "outputs": [
        {
          "output_type": "stream",
          "text": [
            "org_str='  655=123+45'\n",
            "encoded=\n",
            "[[1. 0. 0. 0. 0. 0. 0. 0. 0. 0. 0. 0. 0.]\n",
            " [1. 0. 0. 0. 0. 0. 0. 0. 0. 0. 0. 0. 0.]\n",
            " [0. 0. 0. 0. 0. 0. 0. 0. 1. 0. 0. 0. 0.]\n",
            " [0. 0. 0. 0. 0. 0. 0. 1. 0. 0. 0. 0. 0.]\n",
            " [0. 0. 0. 0. 0. 0. 0. 1. 0. 0. 0. 0. 0.]\n",
            " [0. 0. 0. 0. 0. 0. 0. 0. 0. 0. 0. 0. 1.]\n",
            " [0. 0. 0. 1. 0. 0. 0. 0. 0. 0. 0. 0. 0.]\n",
            " [0. 0. 0. 0. 1. 0. 0. 0. 0. 0. 0. 0. 0.]\n",
            " [0. 0. 0. 0. 0. 1. 0. 0. 0. 0. 0. 0. 0.]\n",
            " [0. 1. 0. 0. 0. 0. 0. 0. 0. 0. 0. 0. 0.]\n",
            " [0. 0. 0. 0. 0. 0. 1. 0. 0. 0. 0. 0. 0.]\n",
            " [0. 0. 0. 0. 0. 0. 0. 1. 0. 0. 0. 0. 0.]]\n",
            "encoded.shape=(12, 13)\n",
            "decoded='  655=123+45'\n"
          ],
          "name": "stdout"
        }
      ]
    },
    {
      "cell_type": "code",
      "metadata": {
        "id": "d1QHj3MDo-Ej",
        "colab": {
          "base_uri": "https://localhost:8080/"
        },
        "outputId": "5ee31ee3-b698-4d2e-ce78-af17180800be"
      },
      "source": [
        "# DIGITS = 3\n",
        "# MAXLEN = DIGITS + 1 + DIGITS + 1 + (DIGITS+1)\n",
        "# chars = '0123456789+='\n",
        "x = np.zeros((len(questions), MAXLEN, len(chars)))\n",
        "for i, sentence in enumerate(questions):\n",
        "    x[i] = ctable.encode(sentence)\n",
        "\n",
        "y = np.array(expecteds)\n",
        "print(x.shape)\n",
        "print(y.shape)"
      ],
      "execution_count": 152,
      "outputs": [
        {
          "output_type": "stream",
          "text": [
            "(50000, 12, 13)\n",
            "(50000,)\n"
          ],
          "name": "stdout"
        }
      ]
    },
    {
      "cell_type": "code",
      "metadata": {
        "colab": {
          "base_uri": "https://localhost:8080/"
        },
        "id": "fJ9cKoW7OlWc",
        "outputId": "5e97da10-c3f7-434f-8a5c-51bfcc69d13f"
      },
      "source": [
        "split_at = int(len(x)*0.9)\n",
        "(train_x, test_x) = x[:split_at], x[split_at:]\n",
        "(train_y, test_y) = y[:split_at], y[split_at:]\n",
        "\n",
        "print(\"Training Data:\")\n",
        "print(train_x.shape)\n",
        "print(train_y.shape)\n",
        "\n",
        "print(\"Test Data:\")\n",
        "print(test_x.shape)\n",
        "print(test_y.shape)\n"
      ],
      "execution_count": 153,
      "outputs": [
        {
          "output_type": "stream",
          "text": [
            "Training Data:\n",
            "(45000, 12, 13)\n",
            "(45000,)\n",
            "Test Data:\n",
            "(5000, 12, 13)\n",
            "(5000,)\n"
          ],
          "name": "stdout"
        }
      ]
    },
    {
      "cell_type": "code",
      "metadata": {
        "id": "41UcKyn-q5Ez",
        "colab": {
          "base_uri": "https://localhost:8080/"
        },
        "outputId": "e516c76a-9eb7-4330-a2ae-9eb32a7bfc75"
      },
      "source": [
        "print(\"train_x[0]\\n\", train_x[0])\n",
        "print()\n",
        "print(\"train_y[0]\\n\", train_y[0])"
      ],
      "execution_count": 154,
      "outputs": [
        {
          "output_type": "stream",
          "text": [
            "train_x[0]\n",
            " [[0. 0. 0. 0. 0. 0. 0. 1. 0. 0. 0. 0. 0.]\n",
            " [0. 1. 0. 0. 0. 0. 0. 0. 0. 0. 0. 0. 0.]\n",
            " [0. 0. 0. 0. 0. 0. 0. 0. 0. 1. 0. 0. 0.]\n",
            " [0. 0. 0. 0. 0. 0. 0. 0. 1. 0. 0. 0. 0.]\n",
            " [0. 0. 0. 0. 0. 0. 1. 0. 0. 0. 0. 0. 0.]\n",
            " [0. 0. 0. 0. 0. 0. 0. 0. 0. 0. 0. 0. 1.]\n",
            " [0. 0. 0. 0. 0. 0. 0. 0. 0. 1. 0. 0. 0.]\n",
            " [0. 0. 0. 0. 0. 0. 0. 0. 0. 1. 0. 0. 0.]\n",
            " [0. 0. 1. 0. 0. 0. 0. 0. 0. 0. 0. 0. 0.]\n",
            " [1. 0. 0. 0. 0. 0. 0. 0. 0. 0. 0. 0. 0.]\n",
            " [1. 0. 0. 0. 0. 0. 0. 0. 0. 0. 0. 0. 0.]\n",
            " [1. 0. 0. 0. 0. 0. 0. 0. 0. 0. 0. 0. 0.]]\n",
            "\n",
            "train_y[0]\n",
            " 0\n"
          ],
          "name": "stdout"
        }
      ]
    },
    {
      "cell_type": "markdown",
      "metadata": {
        "id": "wa-gM3Nq84XK"
      },
      "source": [
        "준비된 데이터는 인코딩된 값들입니다. 디코딩에서 본 원 문자열은 다음과 같습니다."
      ]
    },
    {
      "cell_type": "code",
      "metadata": {
        "id": "zw_RFfJvrGFM",
        "colab": {
          "base_uri": "https://localhost:8080/"
        },
        "outputId": "9c655c2c-fd08-49ca-c677-a53e4027d17b"
      },
      "source": [
        "for i in range(10):\n",
        "  print(\"'\"+ctable.decode(train_x[i])+\"' -> \"+str(train_y[i]))"
      ],
      "execution_count": 155,
      "outputs": [
        {
          "output_type": "stream",
          "text": [
            "'5+764=770   ' -> 0\n",
            "'817+286=1103' -> 1\n",
            "'591+622=1214' -> 0\n",
            "'76+893=969  ' -> 1\n",
            "'284+484=768 ' -> 1\n",
            "'618+20=639  ' -> 0\n",
            "'325+947=1273' -> 0\n",
            "'427+983=1411' -> 0\n",
            "'806+228=1034' -> 1\n",
            "'658+509=1168' -> 0\n"
          ],
          "name": "stdout"
        }
      ]
    },
    {
      "cell_type": "markdown",
      "metadata": {
        "id": "i2liXf2Yo-En"
      },
      "source": [
        "# 학습\n"
      ]
    },
    {
      "cell_type": "markdown",
      "metadata": {
        "id": "LP8Vw2aNtzPn"
      },
      "source": [
        "## 모델 정의\n"
      ]
    },
    {
      "cell_type": "code",
      "metadata": {
        "id": "GUr-sqkoo-En",
        "colab": {
          "base_uri": "https://localhost:8080/"
        },
        "outputId": "c9930024-7a9a-4438-bc1a-108b1a776d0f"
      },
      "source": [
        "input_shape = (MAXLEN, len(chars))\n",
        "model = keras.Sequential()\n",
        "model.add(Input(input_shape))\n",
        "# model.add(LSTM(128, dropout=0.1))\n",
        "model.add(LSTM(128))\n",
        "model.add(Dense(20))\n",
        "model.add(Dense(2, activation=\"softmax\"))\n",
        "model.compile(loss=\"sparse_categorical_crossentropy\", optimizer=\"adam\", metrics=[\"accuracy\"])\n",
        "model.summary()\n"
      ],
      "execution_count": 156,
      "outputs": [
        {
          "output_type": "stream",
          "text": [
            "Model: \"sequential_24\"\n",
            "_________________________________________________________________\n",
            "Layer (type)                 Output Shape              Param #   \n",
            "=================================================================\n",
            "lstm_50 (LSTM)               (None, 128)               72704     \n",
            "_________________________________________________________________\n",
            "dense_43 (Dense)             (None, 20)                2580      \n",
            "_________________________________________________________________\n",
            "dense_44 (Dense)             (None, 2)                 42        \n",
            "=================================================================\n",
            "Total params: 75,326\n",
            "Trainable params: 75,326\n",
            "Non-trainable params: 0\n",
            "_________________________________________________________________\n"
          ],
          "name": "stdout"
        }
      ]
    },
    {
      "cell_type": "markdown",
      "metadata": {
        "id": "3vbuEEjVPGvX"
      },
      "source": [
        "## 학습 실행"
      ]
    },
    {
      "cell_type": "code",
      "metadata": {
        "colab": {
          "base_uri": "https://localhost:8080/"
        },
        "id": "noFAS9bNPJuu",
        "outputId": "6d2f59da-3638-4ae6-f5c7-d4ff819775e5"
      },
      "source": [
        "history = model.fit(train_x, train_y, epochs=100, batch_size=128, validation_split=0.1)"
      ],
      "execution_count": 157,
      "outputs": [
        {
          "output_type": "stream",
          "text": [
            "Epoch 1/100\n",
            "317/317 [==============================] - 3s 6ms/step - loss: 0.6938 - accuracy: 0.5024 - val_loss: 0.6933 - val_accuracy: 0.5020\n",
            "Epoch 2/100\n",
            "317/317 [==============================] - 1s 4ms/step - loss: 0.6933 - accuracy: 0.5054 - val_loss: 0.6940 - val_accuracy: 0.5004\n",
            "Epoch 3/100\n",
            "317/317 [==============================] - 1s 4ms/step - loss: 0.6932 - accuracy: 0.5032 - val_loss: 0.6935 - val_accuracy: 0.5029\n",
            "Epoch 4/100\n",
            "317/317 [==============================] - 1s 4ms/step - loss: 0.6931 - accuracy: 0.5058 - val_loss: 0.6937 - val_accuracy: 0.5002\n",
            "Epoch 5/100\n",
            "317/317 [==============================] - 1s 4ms/step - loss: 0.6930 - accuracy: 0.5082 - val_loss: 0.6933 - val_accuracy: 0.4993\n",
            "Epoch 6/100\n",
            "317/317 [==============================] - 1s 5ms/step - loss: 0.6929 - accuracy: 0.5077 - val_loss: 0.6936 - val_accuracy: 0.5038\n",
            "Epoch 7/100\n",
            "317/317 [==============================] - 1s 4ms/step - loss: 0.6930 - accuracy: 0.5100 - val_loss: 0.6934 - val_accuracy: 0.4942\n",
            "Epoch 8/100\n",
            "317/317 [==============================] - 1s 4ms/step - loss: 0.6930 - accuracy: 0.5076 - val_loss: 0.6935 - val_accuracy: 0.4987\n",
            "Epoch 9/100\n",
            "317/317 [==============================] - 1s 5ms/step - loss: 0.6928 - accuracy: 0.5101 - val_loss: 0.6937 - val_accuracy: 0.4967\n",
            "Epoch 10/100\n",
            "317/317 [==============================] - 1s 4ms/step - loss: 0.6929 - accuracy: 0.5091 - val_loss: 0.6938 - val_accuracy: 0.4989\n",
            "Epoch 11/100\n",
            "317/317 [==============================] - 1s 4ms/step - loss: 0.6928 - accuracy: 0.5105 - val_loss: 0.6941 - val_accuracy: 0.4984\n",
            "Epoch 12/100\n",
            "317/317 [==============================] - 1s 4ms/step - loss: 0.6928 - accuracy: 0.5108 - val_loss: 0.6940 - val_accuracy: 0.4947\n",
            "Epoch 13/100\n",
            "317/317 [==============================] - 1s 4ms/step - loss: 0.6926 - accuracy: 0.5127 - val_loss: 0.6938 - val_accuracy: 0.4927\n",
            "Epoch 14/100\n",
            "317/317 [==============================] - 1s 5ms/step - loss: 0.6928 - accuracy: 0.5136 - val_loss: 0.6937 - val_accuracy: 0.4951\n",
            "Epoch 15/100\n",
            "317/317 [==============================] - 1s 4ms/step - loss: 0.6926 - accuracy: 0.5112 - val_loss: 0.6943 - val_accuracy: 0.4924\n",
            "Epoch 16/100\n",
            "317/317 [==============================] - 1s 4ms/step - loss: 0.6926 - accuracy: 0.5140 - val_loss: 0.6940 - val_accuracy: 0.4929\n",
            "Epoch 17/100\n",
            "317/317 [==============================] - 1s 4ms/step - loss: 0.6925 - accuracy: 0.5144 - val_loss: 0.6942 - val_accuracy: 0.4962\n",
            "Epoch 18/100\n",
            "317/317 [==============================] - 1s 4ms/step - loss: 0.6923 - accuracy: 0.5162 - val_loss: 0.6948 - val_accuracy: 0.4980\n",
            "Epoch 19/100\n",
            "317/317 [==============================] - 1s 4ms/step - loss: 0.6919 - accuracy: 0.5202 - val_loss: 0.6944 - val_accuracy: 0.4984\n",
            "Epoch 20/100\n",
            "317/317 [==============================] - 1s 4ms/step - loss: 0.6910 - accuracy: 0.5241 - val_loss: 0.6941 - val_accuracy: 0.5022\n",
            "Epoch 21/100\n",
            "317/317 [==============================] - 1s 5ms/step - loss: 0.6840 - accuracy: 0.5446 - val_loss: 0.6540 - val_accuracy: 0.6022\n",
            "Epoch 22/100\n",
            "317/317 [==============================] - 1s 4ms/step - loss: 0.4274 - accuracy: 0.7801 - val_loss: 0.0880 - val_accuracy: 0.9889\n",
            "Epoch 23/100\n",
            "317/317 [==============================] - 1s 4ms/step - loss: 0.2613 - accuracy: 0.8601 - val_loss: 0.0390 - val_accuracy: 0.9967\n",
            "Epoch 24/100\n",
            "317/317 [==============================] - 1s 4ms/step - loss: 0.2332 - accuracy: 0.8608 - val_loss: 0.0330 - val_accuracy: 0.9964\n",
            "Epoch 25/100\n",
            "317/317 [==============================] - 1s 4ms/step - loss: 0.2244 - accuracy: 0.8628 - val_loss: 0.0225 - val_accuracy: 0.9978\n",
            "Epoch 26/100\n",
            "317/317 [==============================] - 1s 4ms/step - loss: 0.2185 - accuracy: 0.8644 - val_loss: 0.0235 - val_accuracy: 0.9978\n",
            "Epoch 27/100\n",
            "317/317 [==============================] - 1s 4ms/step - loss: 0.2177 - accuracy: 0.8618 - val_loss: 0.0192 - val_accuracy: 0.9987\n",
            "Epoch 28/100\n",
            "317/317 [==============================] - 1s 4ms/step - loss: 0.2104 - accuracy: 0.8650 - val_loss: 0.0155 - val_accuracy: 0.9993\n",
            "Epoch 29/100\n",
            "317/317 [==============================] - 1s 4ms/step - loss: 0.2098 - accuracy: 0.8635 - val_loss: 0.0141 - val_accuracy: 0.9982\n",
            "Epoch 30/100\n",
            "317/317 [==============================] - 1s 4ms/step - loss: 0.2064 - accuracy: 0.8663 - val_loss: 0.0127 - val_accuracy: 0.9991\n",
            "Epoch 31/100\n",
            "317/317 [==============================] - 1s 4ms/step - loss: 0.2044 - accuracy: 0.8663 - val_loss: 0.0184 - val_accuracy: 0.9996\n",
            "Epoch 32/100\n",
            "317/317 [==============================] - 1s 4ms/step - loss: 0.2066 - accuracy: 0.8647 - val_loss: 0.0136 - val_accuracy: 0.9993\n",
            "Epoch 33/100\n",
            "317/317 [==============================] - 1s 4ms/step - loss: 0.2019 - accuracy: 0.8663 - val_loss: 0.0107 - val_accuracy: 0.9991\n",
            "Epoch 34/100\n",
            "317/317 [==============================] - 1s 4ms/step - loss: 0.1997 - accuracy: 0.8652 - val_loss: 0.0104 - val_accuracy: 0.9991\n",
            "Epoch 35/100\n",
            "317/317 [==============================] - 1s 5ms/step - loss: 0.2007 - accuracy: 0.8674 - val_loss: 0.0098 - val_accuracy: 0.9996\n",
            "Epoch 36/100\n",
            "317/317 [==============================] - 1s 4ms/step - loss: 0.2005 - accuracy: 0.8659 - val_loss: 0.0106 - val_accuracy: 0.9993\n",
            "Epoch 37/100\n",
            "317/317 [==============================] - 1s 4ms/step - loss: 0.2001 - accuracy: 0.8642 - val_loss: 0.0072 - val_accuracy: 0.9993\n",
            "Epoch 38/100\n",
            "317/317 [==============================] - 1s 4ms/step - loss: 0.2014 - accuracy: 0.8641 - val_loss: 0.0079 - val_accuracy: 0.9998\n",
            "Epoch 39/100\n",
            "317/317 [==============================] - 1s 5ms/step - loss: 0.1987 - accuracy: 0.8650 - val_loss: 0.0047 - val_accuracy: 1.0000\n",
            "Epoch 40/100\n",
            "317/317 [==============================] - 1s 4ms/step - loss: 0.1954 - accuracy: 0.8692 - val_loss: 0.0056 - val_accuracy: 0.9998\n",
            "Epoch 41/100\n",
            "317/317 [==============================] - 1s 4ms/step - loss: 0.2008 - accuracy: 0.8655 - val_loss: 0.0040 - val_accuracy: 0.9996\n",
            "Epoch 42/100\n",
            "317/317 [==============================] - 1s 4ms/step - loss: 0.1995 - accuracy: 0.8659 - val_loss: 0.0050 - val_accuracy: 0.9998\n",
            "Epoch 43/100\n",
            "317/317 [==============================] - 1s 4ms/step - loss: 0.1980 - accuracy: 0.8663 - val_loss: 0.0048 - val_accuracy: 0.9998\n",
            "Epoch 44/100\n",
            "317/317 [==============================] - 1s 4ms/step - loss: 0.1997 - accuracy: 0.8641 - val_loss: 0.0041 - val_accuracy: 1.0000\n",
            "Epoch 45/100\n",
            "317/317 [==============================] - 1s 4ms/step - loss: 0.1999 - accuracy: 0.8634 - val_loss: 0.0090 - val_accuracy: 1.0000\n",
            "Epoch 46/100\n",
            "317/317 [==============================] - 1s 4ms/step - loss: 0.1946 - accuracy: 0.8689 - val_loss: 0.0051 - val_accuracy: 0.9998\n",
            "Epoch 47/100\n",
            "317/317 [==============================] - 1s 4ms/step - loss: 0.1954 - accuracy: 0.8671 - val_loss: 0.0071 - val_accuracy: 0.9998\n",
            "Epoch 48/100\n",
            "317/317 [==============================] - 1s 4ms/step - loss: 0.1974 - accuracy: 0.8662 - val_loss: 0.0041 - val_accuracy: 0.9998\n",
            "Epoch 49/100\n",
            "317/317 [==============================] - 1s 4ms/step - loss: 0.1961 - accuracy: 0.8666 - val_loss: 0.0034 - val_accuracy: 1.0000\n",
            "Epoch 50/100\n",
            "317/317 [==============================] - 1s 4ms/step - loss: 0.1960 - accuracy: 0.8663 - val_loss: 0.0037 - val_accuracy: 1.0000\n",
            "Epoch 51/100\n",
            "317/317 [==============================] - 1s 4ms/step - loss: 0.1974 - accuracy: 0.8658 - val_loss: 0.0036 - val_accuracy: 1.0000\n",
            "Epoch 52/100\n",
            "317/317 [==============================] - 1s 4ms/step - loss: 0.1955 - accuracy: 0.8666 - val_loss: 0.0044 - val_accuracy: 1.0000\n",
            "Epoch 53/100\n",
            "317/317 [==============================] - 1s 4ms/step - loss: 0.1969 - accuracy: 0.8658 - val_loss: 0.0029 - val_accuracy: 1.0000\n",
            "Epoch 54/100\n",
            "317/317 [==============================] - 1s 5ms/step - loss: 0.1953 - accuracy: 0.8662 - val_loss: 0.0042 - val_accuracy: 1.0000\n",
            "Epoch 55/100\n",
            "317/317 [==============================] - 1s 4ms/step - loss: 0.1947 - accuracy: 0.8677 - val_loss: 0.0037 - val_accuracy: 1.0000\n",
            "Epoch 56/100\n",
            "317/317 [==============================] - 1s 4ms/step - loss: 0.1970 - accuracy: 0.8644 - val_loss: 0.0065 - val_accuracy: 0.9998\n",
            "Epoch 57/100\n",
            "317/317 [==============================] - 1s 5ms/step - loss: 0.1947 - accuracy: 0.8674 - val_loss: 0.0031 - val_accuracy: 0.9998\n",
            "Epoch 58/100\n",
            "317/317 [==============================] - 1s 4ms/step - loss: 0.1942 - accuracy: 0.8656 - val_loss: 0.0021 - val_accuracy: 1.0000\n",
            "Epoch 59/100\n",
            "317/317 [==============================] - 1s 4ms/step - loss: 0.1928 - accuracy: 0.8664 - val_loss: 0.0025 - val_accuracy: 1.0000\n",
            "Epoch 60/100\n",
            "317/317 [==============================] - 1s 4ms/step - loss: 0.1940 - accuracy: 0.8673 - val_loss: 0.0022 - val_accuracy: 1.0000\n",
            "Epoch 61/100\n",
            "317/317 [==============================] - 1s 5ms/step - loss: 0.1923 - accuracy: 0.8696 - val_loss: 0.0019 - val_accuracy: 1.0000\n",
            "Epoch 62/100\n",
            "317/317 [==============================] - 1s 4ms/step - loss: 0.1939 - accuracy: 0.8686 - val_loss: 0.0048 - val_accuracy: 1.0000\n",
            "Epoch 63/100\n",
            "317/317 [==============================] - 1s 4ms/step - loss: 0.1946 - accuracy: 0.8672 - val_loss: 0.0021 - val_accuracy: 1.0000\n",
            "Epoch 64/100\n",
            "317/317 [==============================] - 1s 4ms/step - loss: 0.1945 - accuracy: 0.8672 - val_loss: 0.0022 - val_accuracy: 1.0000\n",
            "Epoch 65/100\n",
            "317/317 [==============================] - 1s 4ms/step - loss: 0.1928 - accuracy: 0.8686 - val_loss: 0.0015 - val_accuracy: 1.0000\n",
            "Epoch 66/100\n",
            "317/317 [==============================] - 1s 5ms/step - loss: 0.1936 - accuracy: 0.8689 - val_loss: 0.0029 - val_accuracy: 1.0000\n",
            "Epoch 67/100\n",
            "317/317 [==============================] - 1s 4ms/step - loss: 0.1949 - accuracy: 0.8654 - val_loss: 0.0013 - val_accuracy: 1.0000\n",
            "Epoch 68/100\n",
            "317/317 [==============================] - 1s 4ms/step - loss: 0.1918 - accuracy: 0.8673 - val_loss: 0.0021 - val_accuracy: 0.9998\n",
            "Epoch 69/100\n",
            "317/317 [==============================] - 1s 4ms/step - loss: 0.1924 - accuracy: 0.8696 - val_loss: 0.0025 - val_accuracy: 1.0000\n",
            "Epoch 70/100\n",
            "317/317 [==============================] - 1s 4ms/step - loss: 0.1927 - accuracy: 0.8701 - val_loss: 0.0013 - val_accuracy: 1.0000\n",
            "Epoch 71/100\n",
            "317/317 [==============================] - 1s 5ms/step - loss: 0.1931 - accuracy: 0.8671 - val_loss: 0.0022 - val_accuracy: 1.0000\n",
            "Epoch 72/100\n",
            "317/317 [==============================] - 1s 4ms/step - loss: 0.1938 - accuracy: 0.8670 - val_loss: 0.0022 - val_accuracy: 1.0000\n",
            "Epoch 73/100\n",
            "317/317 [==============================] - 1s 4ms/step - loss: 0.1930 - accuracy: 0.8667 - val_loss: 0.0029 - val_accuracy: 1.0000\n",
            "Epoch 74/100\n",
            "317/317 [==============================] - 1s 4ms/step - loss: 0.1920 - accuracy: 0.8702 - val_loss: 0.0052 - val_accuracy: 0.9998\n",
            "Epoch 75/100\n",
            "317/317 [==============================] - 1s 5ms/step - loss: 0.1933 - accuracy: 0.8667 - val_loss: 0.0023 - val_accuracy: 0.9998\n",
            "Epoch 76/100\n",
            "317/317 [==============================] - 1s 4ms/step - loss: 0.1919 - accuracy: 0.8684 - val_loss: 0.0024 - val_accuracy: 1.0000\n",
            "Epoch 77/100\n",
            "317/317 [==============================] - 1s 5ms/step - loss: 0.1929 - accuracy: 0.8659 - val_loss: 0.0016 - val_accuracy: 1.0000\n",
            "Epoch 78/100\n",
            "317/317 [==============================] - 1s 4ms/step - loss: 0.1922 - accuracy: 0.8681 - val_loss: 0.0011 - val_accuracy: 1.0000\n",
            "Epoch 79/100\n",
            "317/317 [==============================] - 1s 5ms/step - loss: 0.1934 - accuracy: 0.8671 - val_loss: 0.0020 - val_accuracy: 1.0000\n",
            "Epoch 80/100\n",
            "317/317 [==============================] - 1s 4ms/step - loss: 0.1934 - accuracy: 0.8666 - val_loss: 0.0019 - val_accuracy: 1.0000\n",
            "Epoch 81/100\n",
            "317/317 [==============================] - 1s 4ms/step - loss: 0.1952 - accuracy: 0.8651 - val_loss: 0.0023 - val_accuracy: 1.0000\n",
            "Epoch 82/100\n",
            "317/317 [==============================] - 1s 5ms/step - loss: 0.1909 - accuracy: 0.8689 - val_loss: 0.0027 - val_accuracy: 1.0000\n",
            "Epoch 83/100\n",
            "317/317 [==============================] - 1s 4ms/step - loss: 0.1931 - accuracy: 0.8666 - val_loss: 0.0015 - val_accuracy: 1.0000\n",
            "Epoch 84/100\n",
            "317/317 [==============================] - 2s 5ms/step - loss: 0.1912 - accuracy: 0.8665 - val_loss: 0.0010 - val_accuracy: 1.0000\n",
            "Epoch 85/100\n",
            "317/317 [==============================] - 1s 4ms/step - loss: 0.1913 - accuracy: 0.8690 - val_loss: 0.0020 - val_accuracy: 1.0000\n",
            "Epoch 86/100\n",
            "317/317 [==============================] - 1s 4ms/step - loss: 0.1937 - accuracy: 0.8668 - val_loss: 0.0016 - val_accuracy: 1.0000\n",
            "Epoch 87/100\n",
            "317/317 [==============================] - 1s 4ms/step - loss: 0.1928 - accuracy: 0.8680 - val_loss: 9.9422e-04 - val_accuracy: 1.0000\n",
            "Epoch 88/100\n",
            "317/317 [==============================] - 1s 4ms/step - loss: 0.1886 - accuracy: 0.8716 - val_loss: 0.0019 - val_accuracy: 1.0000\n",
            "Epoch 89/100\n",
            "317/317 [==============================] - 1s 4ms/step - loss: 0.1910 - accuracy: 0.8700 - val_loss: 0.0023 - val_accuracy: 1.0000\n",
            "Epoch 90/100\n",
            "317/317 [==============================] - 1s 4ms/step - loss: 0.1899 - accuracy: 0.8706 - val_loss: 0.0013 - val_accuracy: 1.0000\n",
            "Epoch 91/100\n",
            "317/317 [==============================] - 1s 4ms/step - loss: 0.1895 - accuracy: 0.8706 - val_loss: 0.0013 - val_accuracy: 1.0000\n",
            "Epoch 92/100\n",
            "317/317 [==============================] - 1s 5ms/step - loss: 0.1938 - accuracy: 0.8666 - val_loss: 9.8405e-04 - val_accuracy: 1.0000\n",
            "Epoch 93/100\n",
            "317/317 [==============================] - 1s 4ms/step - loss: 0.1893 - accuracy: 0.8703 - val_loss: 0.0015 - val_accuracy: 1.0000\n",
            "Epoch 94/100\n",
            "317/317 [==============================] - 1s 5ms/step - loss: 0.1934 - accuracy: 0.8654 - val_loss: 0.0017 - val_accuracy: 1.0000\n",
            "Epoch 95/100\n",
            "317/317 [==============================] - 1s 5ms/step - loss: 0.1934 - accuracy: 0.8667 - val_loss: 0.0017 - val_accuracy: 0.9998\n",
            "Epoch 96/100\n",
            "317/317 [==============================] - 1s 4ms/step - loss: 0.1901 - accuracy: 0.8700 - val_loss: 0.0022 - val_accuracy: 1.0000\n",
            "Epoch 97/100\n",
            "317/317 [==============================] - 1s 5ms/step - loss: 0.1902 - accuracy: 0.8685 - val_loss: 0.0013 - val_accuracy: 1.0000\n",
            "Epoch 98/100\n",
            "317/317 [==============================] - 1s 4ms/step - loss: 0.1939 - accuracy: 0.8661 - val_loss: 0.0013 - val_accuracy: 1.0000\n",
            "Epoch 99/100\n",
            "317/317 [==============================] - 1s 5ms/step - loss: 0.1876 - accuracy: 0.8722 - val_loss: 0.0017 - val_accuracy: 1.0000\n",
            "Epoch 100/100\n",
            "317/317 [==============================] - 1s 4ms/step - loss: 0.1899 - accuracy: 0.8700 - val_loss: 0.0016 - val_accuracy: 1.0000\n"
          ],
          "name": "stdout"
        }
      ]
    },
    {
      "cell_type": "code",
      "metadata": {
        "colab": {
          "base_uri": "https://localhost:8080/",
          "height": 265
        },
        "id": "vRGy9SEnkYMj",
        "outputId": "a1962973-e590-47ac-e4b3-9d0abf1fd836"
      },
      "source": [
        "plt.plot(history.history['loss'])\n",
        "plt.plot(history.history['val_loss'])\n",
        "plt.show()"
      ],
      "execution_count": 158,
      "outputs": [
        {
          "output_type": "display_data",
          "data": {
            "image/png": "[encoded data removed]",
            "text/plain": [
              "<Figure size 432x288 with 1 Axes>"
            ]
          },
          "metadata": {
            "needs_background": "light"
          }
        }
      ]
    },
    {
      "cell_type": "code",
      "metadata": {
        "colab": {
          "base_uri": "https://localhost:8080/",
          "height": 265
        },
        "id": "iUSZGgdXkua3",
        "outputId": "adfee5fc-e2ca-42f6-bfab-45690a3ae89e"
      },
      "source": [
        "plt.plot(history.history['accuracy'])\n",
        "plt.plot(history.history['val_accuracy'])\n",
        "plt.show()"
      ],
      "execution_count": 159,
      "outputs": [
        {
          "output_type": "display_data",
          "data": {
            "image/png": "[encoded data removed]",
            "text/plain": [
              "<Figure size 432x288 with 1 Axes>"
            ]
          },
          "metadata": {
            "needs_background": "light"
          }
        }
      ]
    },
    {
      "cell_type": "markdown",
      "metadata": {
        "id": "1t4BgbHrPSqT"
      },
      "source": [
        "# 평가"
      ]
    },
    {
      "cell_type": "code",
      "metadata": {
        "colab": {
          "base_uri": "https://localhost:8080/"
        },
        "id": "DglLNai3knXR",
        "outputId": "594e30af-2cad-4c27-9271-37799cf13e29"
      },
      "source": [
        "loss, acc = model.evaluate(test_x, test_y)\n",
        "print(\"loss =\", loss)\n",
        "print(\"acc =\", acc)"
      ],
      "execution_count": 172,
      "outputs": [
        {
          "output_type": "stream",
          "text": [
            "157/157 [==============================] - 0s 2ms/step - loss: 0.0018 - accuracy: 1.0000\n",
            "loss = 0.0018088670913130045\n",
            "acc = 1.0\n"
          ],
          "name": "stdout"
        }
      ]
    },
    {
      "cell_type": "code",
      "metadata": {
        "colab": {
          "base_uri": "https://localhost:8080/"
        },
        "id": "wH3JDyPqPPj2",
        "outputId": "7b0e1072-dea8-4903-acde-b70bfd8926e3"
      },
      "source": [
        "y_ = model.predict(test_x)\n",
        "predicted = np.argmax(y_, axis=-1)\n",
        "for i in range(10):\n",
        "  print(\"'\"+ctable.decode(test_x[i])+\"'  ----> \", predicted[i])\n",
        "\n",
        "\n"
      ],
      "execution_count": 176,
      "outputs": [
        {
          "output_type": "stream",
          "text": [
            "'241+130=371 '  ---->  1\n",
            "'328+345=674 '  ---->  0\n",
            "'984+931=1916'  ---->  0\n",
            "'878+173=1052'  ---->  0\n",
            "'737+367=1104'  ---->  1\n",
            "'715+289=1005'  ---->  0\n",
            "'891+939=1831'  ---->  0\n",
            "'462+337=800 '  ---->  0\n",
            "'78+911=990  '  ---->  0\n",
            "'833+959=1793'  ---->  0\n"
          ],
          "name": "stdout"
        }
      ]
    },
    {
      "cell_type": "code",
      "metadata": {
        "id": "YgSK50N0QWLG"
      },
      "source": [
        ""
      ],
      "execution_count": 161,
      "outputs": []
    }
  ]
}