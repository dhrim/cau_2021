{
  "nbformat": 4,
  "nbformat_minor": 0,
  "metadata": {
    "colab": {
      "name": "rnn_addition_text_classication.ipynb",
      "provenance": [],
      "collapsed_sections": []
    },
    "kernelspec": {
      "display_name": "Python 3",
      "language": "python",
      "name": "python3"
    },
    "language_info": {
      "codemirror_mode": {
        "name": "ipython",
        "version": 3
      },
      "file_extension": ".py",
      "mimetype": "text/x-python",
      "name": "python",
      "nbconvert_exporter": "python",
      "pygments_lexer": "ipython3",
      "version": "3.7.0"
    },
    "accelerator": "GPU"
  },
  "cells": [
    {
      "cell_type": "markdown",
      "metadata": {
        "id": "ou-ygxNfo-Ec"
      },
      "source": [
        "## 셋업\n"
      ]
    },
    {
      "cell_type": "code",
      "metadata": {
        "id": "d8X6ncVagzaf"
      },
      "source": [
        "import numpy as np\n",
        "import matplotlib.pyplot as plt\n",
        "\n",
        "from tensorflow import keras\n",
        "from tensorflow.keras.layers import LSTM, Input, Dense, Flatten, Bidirectional"
      ],
      "execution_count": 1,
      "outputs": []
    },
    {
      "cell_type": "code",
      "metadata": {
        "id": "M5OvBIiWo-Ec"
      },
      "source": [
        "\n",
        "TRAINING_SIZE = 50000   # 데이터의 갯수\n",
        "DIGITS = 3              # 덧셈에 사용될 숫자 자리수\n",
        "REVERSE = True          # 입력 문자열의 역순 여부. \n",
        "\n",
        "# 입력 문자열의 최대 길이.\n",
        "#      = 숫자길이 '+'   숫자길이 '='  정답숫자길이\n",
        "MAXLEN = DIGITS +  1  + DIGITS +  1 + (DIGITS+1)\n"
      ],
      "execution_count": 2,
      "outputs": []
    },
    {
      "cell_type": "markdown",
      "metadata": {
        "id": "bYKxRgPOJHFo"
      },
      "source": [
        "# 데이터"
      ]
    },
    {
      "cell_type": "markdown",
      "metadata": {
        "id": "6dQt0G10o-Eg"
      },
      "source": [
        "## 입력 문제와 정답여부 생성\n"
      ]
    },
    {
      "cell_type": "code",
      "metadata": {
        "id": "COsdmY5vo-Eg",
        "colab": {
          "base_uri": "https://localhost:8080/"
        },
        "outputId": "ed1c1e74-3752-4c82-9a9b-b4e872f5c11f"
      },
      "source": [
        "MAX_ERROR = 10\n",
        "chars = \"0123456789+= \"\n",
        "\n",
        "questions = []\n",
        "expecteds = []\n",
        "\n",
        "while len(questions) < TRAINING_SIZE:\n",
        "\n",
        "    a = np.random.randint(1000)\n",
        "    b = np.random.randint(1000)\n",
        "    # a = 123\n",
        "    # b = 45\n",
        "\n",
        "    error = np.random.randint(2)\n",
        "    # error = 1\n",
        "\n",
        "    s = a+b+error\n",
        "    # s = 123+45+1 = 169\n",
        "\n",
        "    q = \"{}+{}={}\".format(a, b, s)\n",
        "    # q = '123+45=169'\n",
        "\n",
        "    query = q.ljust(MAXLEN, ' ')\n",
        "    # query = '123+45=169  '\n",
        "\n",
        "    if REVERSE:\n",
        "        query = query[::-1]\n",
        "        # query = ' 961=54+321'\n",
        "\n",
        "    correct = 1 - error\n",
        "    questions.append(query)\n",
        "    expecteds.append(correct)\n",
        "\n",
        "print(\"Total questions:\", len(questions))\n"
      ],
      "execution_count": 3,
      "outputs": [
        {
          "output_type": "stream",
          "text": [
            "Total questions: 50000\n"
          ],
          "name": "stdout"
        }
      ]
    },
    {
      "cell_type": "code",
      "metadata": {
        "colab": {
          "base_uri": "https://localhost:8080/"
        },
        "id": "AfXrMCrKeRi1",
        "outputId": "a35de73f-55cd-401f-defa-d974bd7c8421"
      },
      "source": [
        "for i in range(10):\n",
        "  print(\"'\"+questions[i]+\"' --->\", expecteds[i])"
      ],
      "execution_count": 4,
      "outputs": [
        {
          "output_type": "stream",
          "text": [
            "'  586=795+88' ---> 1\n",
            "'9401=052+997' ---> 1\n",
            "' 8401=35+499' ---> 0\n",
            "'6321=959+672' ---> 0\n",
            "'0911=228+763' ---> 0\n",
            "'  636=16+575' ---> 1\n",
            "' 297=791+495' ---> 0\n",
            "'9621=756+216' ---> 1\n",
            "'  922=802+12' ---> 1\n",
            "'8521=235+627' ---> 1\n"
          ],
          "name": "stdout"
        }
      ]
    },
    {
      "cell_type": "markdown",
      "metadata": {
        "id": "S7eFX6jIyrnx"
      },
      "source": [
        "## 데이터를 벡터화 하기"
      ]
    },
    {
      "cell_type": "markdown",
      "metadata": {
        "id": "4jO8skDb7p3f"
      },
      "source": [
        "인코딩 디코딩을 위한 유틸 클래스 CharacterTable"
      ]
    },
    {
      "cell_type": "code",
      "metadata": {
        "id": "Sqn4LUtHyi46"
      },
      "source": [
        "class CharacterTable:\n",
        "\n",
        "    # ' ', '+', '0', '1', '2', '3', '4', '5', '6', '7', '8', '9', '='\n",
        "    #  0    1    2    3    4    5    6    7    8    9    10   11   12\n",
        "\n",
        "    def __init__(self, chars):\n",
        "        self.chars = sorted(set(chars))\n",
        "        self.char_indices = dict((c, i) for i, c in enumerate(self.chars)) # '+' ->  1\n",
        "        self.indices_char = dict((i, c) for i, c in enumerate(self.chars)) #  1  -> '+'\n",
        "\n",
        "    def encode(self, C, num_rows=MAXLEN):\n",
        "        x = np.zeros((num_rows, len(self.chars)))\n",
        "        for i, c in enumerate(C): # 각 자리 문자마다\n",
        "            x[i, self.char_indices[c]] = 1 # 각 줄의 index만 1로 만든다. one-hot encoding한다.\n",
        "        return x\n",
        "\n",
        "    def decode(self, x):\n",
        "        x = x.argmax(axis=-1)\n",
        "        return \"\".join(self.indices_char[x] for x in x)\n"
      ],
      "execution_count": 5,
      "outputs": []
    },
    {
      "cell_type": "code",
      "metadata": {
        "id": "kVYzei1I7XZb"
      },
      "source": [
        "ctable = CharacterTable(chars)"
      ],
      "execution_count": 6,
      "outputs": []
    },
    {
      "cell_type": "markdown",
      "metadata": {
        "id": "I_fJZA7b7Y-e"
      },
      "source": [
        "다음은 인코딩, 디코딩 예이다."
      ]
    },
    {
      "cell_type": "code",
      "metadata": {
        "id": "vwm40AA-r4tt",
        "colab": {
          "base_uri": "https://localhost:8080/"
        },
        "outputId": "bd980b6c-493b-4354-ba70-14984d0648c3"
      },
      "source": [
        "# 원 문자열\n",
        "org_str = '  655=123+45'\n",
        "print(f\"org_str='{org_str}'\")\n",
        "\n",
        "# 인코딩된 값\n",
        "encoded = ctable.encode(org_str)\n",
        "# [[1. 0. 0. 0. 0. 0. 0. 0. 0. 0. 0. 0. 0.]   ' '\n",
        "#  [1. 0. 0. 0. 0. 0. 0. 0. 0. 0. 0. 0. 0.]   ' '\n",
        "#  [0. 0. 0. 0. 0. 0. 0. 0. 1. 0. 0. 0. 0.]   '6'\n",
        "#  [0. 0. 0. 0. 0. 0. 0. 1. 0. 0. 0. 0. 0.]   '5'\n",
        "#  [0. 0. 0. 0. 0. 0. 0. 1. 0. 0. 0. 0. 0.]   '5'\n",
        "#  [0. 0. 0. 0. 0. 0. 0. 0. 0. 0. 0. 0. 1.]   '='\n",
        "#  [0. 0. 0. 1. 0. 0. 0. 0. 0. 0. 0. 0. 0.]   '1'\n",
        "#  [0. 0. 0. 0. 1. 0. 0. 0. 0. 0. 0. 0. 0.]   '2'\n",
        "#  [0. 0. 0. 0. 0. 1. 0. 0. 0. 0. 0. 0. 0.]   '3'\n",
        "#  [0. 1. 0. 0. 0. 0. 0. 0. 0. 0. 0. 0. 0.]   '+'\n",
        "#  [0. 0. 0. 0. 0. 0. 1. 0. 0. 0. 0. 0. 0.]   '4'\n",
        "#  [0. 0. 0. 0. 0. 0. 0. 1. 0. 0. 0. 0. 0.]]  '5'\n",
        "print(f\"encoded=\\n{encoded}\")\n",
        "print(f\"encoded.shape={encoded.shape}\")\n",
        "\n",
        "# 다시 디코딩해서 원복한 값\n",
        "decoded = ctable.decode(encoded)\n",
        "print(f\"decoded='{decoded}'\")"
      ],
      "execution_count": 7,
      "outputs": [
        {
          "output_type": "stream",
          "text": [
            "org_str='  655=123+45'\n",
            "encoded=\n",
            "[[1. 0. 0. 0. 0. 0. 0. 0. 0. 0. 0. 0. 0.]\n",
            " [1. 0. 0. 0. 0. 0. 0. 0. 0. 0. 0. 0. 0.]\n",
            " [0. 0. 0. 0. 0. 0. 0. 0. 1. 0. 0. 0. 0.]\n",
            " [0. 0. 0. 0. 0. 0. 0. 1. 0. 0. 0. 0. 0.]\n",
            " [0. 0. 0. 0. 0. 0. 0. 1. 0. 0. 0. 0. 0.]\n",
            " [0. 0. 0. 0. 0. 0. 0. 0. 0. 0. 0. 0. 1.]\n",
            " [0. 0. 0. 1. 0. 0. 0. 0. 0. 0. 0. 0. 0.]\n",
            " [0. 0. 0. 0. 1. 0. 0. 0. 0. 0. 0. 0. 0.]\n",
            " [0. 0. 0. 0. 0. 1. 0. 0. 0. 0. 0. 0. 0.]\n",
            " [0. 1. 0. 0. 0. 0. 0. 0. 0. 0. 0. 0. 0.]\n",
            " [0. 0. 0. 0. 0. 0. 1. 0. 0. 0. 0. 0. 0.]\n",
            " [0. 0. 0. 0. 0. 0. 0. 1. 0. 0. 0. 0. 0.]]\n",
            "encoded.shape=(12, 13)\n",
            "decoded='  655=123+45'\n"
          ],
          "name": "stdout"
        }
      ]
    },
    {
      "cell_type": "code",
      "metadata": {
        "id": "d1QHj3MDo-Ej",
        "colab": {
          "base_uri": "https://localhost:8080/"
        },
        "outputId": "fb04d71e-be40-43f3-ce86-e261775eb713"
      },
      "source": [
        "# DIGITS = 3\n",
        "# MAXLEN = DIGITS + 1 + DIGITS + 1 + (DIGITS+1)\n",
        "# chars = '0123456789+='\n",
        "x = np.zeros((len(questions), MAXLEN, len(chars)))\n",
        "for i, sentence in enumerate(questions):\n",
        "    x[i] = ctable.encode(sentence)\n",
        "\n",
        "y = np.array(expecteds)\n",
        "print(x.shape)\n",
        "print(y.shape)"
      ],
      "execution_count": 8,
      "outputs": [
        {
          "output_type": "stream",
          "text": [
            "(50000, 12, 13)\n",
            "(50000,)\n"
          ],
          "name": "stdout"
        }
      ]
    },
    {
      "cell_type": "code",
      "metadata": {
        "colab": {
          "base_uri": "https://localhost:8080/"
        },
        "id": "fJ9cKoW7OlWc",
        "outputId": "ccb92704-e8ba-4c29-c7e3-6271d1762826"
      },
      "source": [
        "split_at = int(len(x)*0.9)\n",
        "(train_x, test_x) = x[:split_at], x[split_at:]\n",
        "(train_y, test_y) = y[:split_at], y[split_at:]\n",
        "\n",
        "print(\"Training Data:\")\n",
        "print(train_x.shape)\n",
        "print(train_y.shape)\n",
        "\n",
        "print(\"Test Data:\")\n",
        "print(test_x.shape)\n",
        "print(test_y.shape)\n"
      ],
      "execution_count": 9,
      "outputs": [
        {
          "output_type": "stream",
          "text": [
            "Training Data:\n",
            "(45000, 12, 13)\n",
            "(45000,)\n",
            "Test Data:\n",
            "(5000, 12, 13)\n",
            "(5000,)\n"
          ],
          "name": "stdout"
        }
      ]
    },
    {
      "cell_type": "code",
      "metadata": {
        "id": "41UcKyn-q5Ez",
        "colab": {
          "base_uri": "https://localhost:8080/"
        },
        "outputId": "9fd616d4-b1ff-4fb2-8dfb-ce32a92919d3"
      },
      "source": [
        "print(\"train_x[0]\\n\", train_x[0])\n",
        "print()\n",
        "print(\"train_y[0]\\n\", train_y[0])"
      ],
      "execution_count": 10,
      "outputs": [
        {
          "output_type": "stream",
          "text": [
            "train_x[0]\n",
            " [[1. 0. 0. 0. 0. 0. 0. 0. 0. 0. 0. 0. 0.]\n",
            " [1. 0. 0. 0. 0. 0. 0. 0. 0. 0. 0. 0. 0.]\n",
            " [0. 0. 0. 0. 0. 0. 0. 1. 0. 0. 0. 0. 0.]\n",
            " [0. 0. 0. 0. 0. 0. 0. 0. 0. 0. 1. 0. 0.]\n",
            " [0. 0. 0. 0. 0. 0. 0. 0. 1. 0. 0. 0. 0.]\n",
            " [0. 0. 0. 0. 0. 0. 0. 0. 0. 0. 0. 0. 1.]\n",
            " [0. 0. 0. 0. 0. 0. 0. 0. 0. 1. 0. 0. 0.]\n",
            " [0. 0. 0. 0. 0. 0. 0. 0. 0. 0. 0. 1. 0.]\n",
            " [0. 0. 0. 0. 0. 0. 0. 1. 0. 0. 0. 0. 0.]\n",
            " [0. 1. 0. 0. 0. 0. 0. 0. 0. 0. 0. 0. 0.]\n",
            " [0. 0. 0. 0. 0. 0. 0. 0. 0. 0. 1. 0. 0.]\n",
            " [0. 0. 0. 0. 0. 0. 0. 0. 0. 0. 1. 0. 0.]]\n",
            "\n",
            "train_y[0]\n",
            " 1\n"
          ],
          "name": "stdout"
        }
      ]
    },
    {
      "cell_type": "markdown",
      "metadata": {
        "id": "wa-gM3Nq84XK"
      },
      "source": [
        "준비된 데이터는 인코딩된 값들입니다. 디코딩에서 본 원 문자열은 다음과 같습니다."
      ]
    },
    {
      "cell_type": "code",
      "metadata": {
        "id": "zw_RFfJvrGFM",
        "colab": {
          "base_uri": "https://localhost:8080/"
        },
        "outputId": "28714271-c619-4cae-a7f3-204ed14cc12b"
      },
      "source": [
        "for i in range(10):\n",
        "  print(\"'\"+ctable.decode(train_x[i])+\"' -> \"+str(train_y[i]))"
      ],
      "execution_count": 11,
      "outputs": [
        {
          "output_type": "stream",
          "text": [
            "'  586=795+88' -> 1\n",
            "'9401=052+997' -> 1\n",
            "' 8401=35+499' -> 0\n",
            "'6321=959+672' -> 0\n",
            "'0911=228+763' -> 0\n",
            "'  636=16+575' -> 1\n",
            "' 297=791+495' -> 0\n",
            "'9621=756+216' -> 1\n",
            "'  922=802+12' -> 1\n",
            "'8521=235+627' -> 1\n"
          ],
          "name": "stdout"
        }
      ]
    },
    {
      "cell_type": "markdown",
      "metadata": {
        "id": "i2liXf2Yo-En"
      },
      "source": [
        "# 학습\n"
      ]
    },
    {
      "cell_type": "markdown",
      "metadata": {
        "id": "LP8Vw2aNtzPn"
      },
      "source": [
        "## 모델 정의\n"
      ]
    },
    {
      "cell_type": "code",
      "metadata": {
        "id": "GUr-sqkoo-En",
        "colab": {
          "base_uri": "https://localhost:8080/"
        },
        "outputId": "6f113b9e-f899-461c-c93a-f42f64c9b440"
      },
      "source": [
        "input_shape = (MAXLEN, len(chars))\n",
        "model = keras.Sequential()\n",
        "model.add(Input(input_shape))\n",
        "model.add(LSTM(128))\n",
        "model.add(Dense(20))\n",
        "model.add(Dense(2, activation=\"softmax\"))\n",
        "model.compile(loss=\"sparse_categorical_crossentropy\", optimizer=\"adam\", metrics=[\"accuracy\"])\n",
        "model.summary()\n"
      ],
      "execution_count": 16,
      "outputs": [
        {
          "output_type": "stream",
          "text": [
            "Model: \"sequential_2\"\n",
            "_________________________________________________________________\n",
            "Layer (type)                 Output Shape              Param #   \n",
            "=================================================================\n",
            "lstm_2 (LSTM)                (None, 128)               72704     \n",
            "_________________________________________________________________\n",
            "dense_4 (Dense)              (None, 20)                2580      \n",
            "_________________________________________________________________\n",
            "dense_5 (Dense)              (None, 2)                 42        \n",
            "=================================================================\n",
            "Total params: 75,326\n",
            "Trainable params: 75,326\n",
            "Non-trainable params: 0\n",
            "_________________________________________________________________\n"
          ],
          "name": "stdout"
        }
      ]
    },
    {
      "cell_type": "markdown",
      "metadata": {
        "id": "3vbuEEjVPGvX"
      },
      "source": [
        "## 학습 실행"
      ]
    },
    {
      "cell_type": "code",
      "metadata": {
        "colab": {
          "base_uri": "https://localhost:8080/"
        },
        "id": "noFAS9bNPJuu",
        "outputId": "efc5d2ac-c5f7-4eaf-f474-c9247ff172c2"
      },
      "source": [
        "history = model.fit(train_x, train_y, epochs=30, batch_size=128, validation_split=0.1)"
      ],
      "execution_count": 17,
      "outputs": [
        {
          "output_type": "stream",
          "text": [
            "Epoch 1/30\n",
            "317/317 [==============================] - 3s 5ms/step - loss: 0.6938 - accuracy: 0.5027 - val_loss: 0.6938 - val_accuracy: 0.4887\n",
            "Epoch 2/30\n",
            "317/317 [==============================] - 1s 4ms/step - loss: 0.6934 - accuracy: 0.5049 - val_loss: 0.6937 - val_accuracy: 0.4971\n",
            "Epoch 3/30\n",
            "317/317 [==============================] - 1s 4ms/step - loss: 0.6932 - accuracy: 0.5045 - val_loss: 0.6939 - val_accuracy: 0.4936\n",
            "Epoch 4/30\n",
            "317/317 [==============================] - 1s 4ms/step - loss: 0.6930 - accuracy: 0.5083 - val_loss: 0.6937 - val_accuracy: 0.4971\n",
            "Epoch 5/30\n",
            "317/317 [==============================] - 1s 4ms/step - loss: 0.6931 - accuracy: 0.5101 - val_loss: 0.6939 - val_accuracy: 0.4916\n",
            "Epoch 6/30\n",
            "317/317 [==============================] - 1s 4ms/step - loss: 0.6931 - accuracy: 0.5072 - val_loss: 0.6937 - val_accuracy: 0.4933\n",
            "Epoch 7/30\n",
            "317/317 [==============================] - 1s 4ms/step - loss: 0.6930 - accuracy: 0.5079 - val_loss: 0.6938 - val_accuracy: 0.4929\n",
            "Epoch 8/30\n",
            "317/317 [==============================] - 1s 4ms/step - loss: 0.6930 - accuracy: 0.5083 - val_loss: 0.6939 - val_accuracy: 0.4940\n",
            "Epoch 9/30\n",
            "317/317 [==============================] - 1s 4ms/step - loss: 0.6929 - accuracy: 0.5124 - val_loss: 0.6947 - val_accuracy: 0.4862\n",
            "Epoch 10/30\n",
            "317/317 [==============================] - 1s 4ms/step - loss: 0.6929 - accuracy: 0.5111 - val_loss: 0.6940 - val_accuracy: 0.4858\n",
            "Epoch 11/30\n",
            "317/317 [==============================] - 1s 4ms/step - loss: 0.6928 - accuracy: 0.5123 - val_loss: 0.6941 - val_accuracy: 0.4933\n",
            "Epoch 12/30\n",
            "317/317 [==============================] - 1s 4ms/step - loss: 0.6927 - accuracy: 0.5114 - val_loss: 0.6948 - val_accuracy: 0.4940\n",
            "Epoch 13/30\n",
            "317/317 [==============================] - 1s 4ms/step - loss: 0.6927 - accuracy: 0.5154 - val_loss: 0.6944 - val_accuracy: 0.4933\n",
            "Epoch 14/30\n",
            "317/317 [==============================] - 1s 4ms/step - loss: 0.6927 - accuracy: 0.5142 - val_loss: 0.6947 - val_accuracy: 0.4911\n",
            "Epoch 15/30\n",
            "317/317 [==============================] - 1s 4ms/step - loss: 0.6924 - accuracy: 0.5172 - val_loss: 0.6945 - val_accuracy: 0.4936\n",
            "Epoch 16/30\n",
            "317/317 [==============================] - 1s 4ms/step - loss: 0.6917 - accuracy: 0.5178 - val_loss: 0.6932 - val_accuracy: 0.4929\n",
            "Epoch 17/30\n",
            "317/317 [==============================] - 1s 4ms/step - loss: 0.6325 - accuracy: 0.5847 - val_loss: 0.2676 - val_accuracy: 0.8676\n",
            "Epoch 18/30\n",
            "317/317 [==============================] - 1s 4ms/step - loss: 0.0387 - accuracy: 0.9835 - val_loss: 0.0117 - val_accuracy: 0.9956\n",
            "Epoch 19/30\n",
            "317/317 [==============================] - 1s 4ms/step - loss: 0.0092 - accuracy: 0.9962 - val_loss: 0.0067 - val_accuracy: 0.9971\n",
            "Epoch 20/30\n",
            "317/317 [==============================] - 1s 4ms/step - loss: 0.0061 - accuracy: 0.9975 - val_loss: 0.0084 - val_accuracy: 0.9971\n",
            "Epoch 21/30\n",
            "317/317 [==============================] - 1s 4ms/step - loss: 0.0030 - accuracy: 0.9991 - val_loss: 0.0038 - val_accuracy: 0.9978\n",
            "Epoch 22/30\n",
            "317/317 [==============================] - 1s 4ms/step - loss: 0.0017 - accuracy: 0.9995 - val_loss: 0.0011 - val_accuracy: 0.9998\n",
            "Epoch 23/30\n",
            "317/317 [==============================] - 1s 4ms/step - loss: 9.7692e-04 - accuracy: 0.9997 - val_loss: 0.0012 - val_accuracy: 1.0000\n",
            "Epoch 24/30\n",
            "317/317 [==============================] - 1s 4ms/step - loss: 4.0082e-04 - accuracy: 1.0000 - val_loss: 4.8447e-04 - val_accuracy: 1.0000\n",
            "Epoch 25/30\n",
            "317/317 [==============================] - 1s 4ms/step - loss: 1.4950e-04 - accuracy: 1.0000 - val_loss: 2.1009e-04 - val_accuracy: 1.0000\n",
            "Epoch 26/30\n",
            "317/317 [==============================] - 1s 5ms/step - loss: 9.0826e-05 - accuracy: 1.0000 - val_loss: 1.8764e-04 - val_accuracy: 1.0000\n",
            "Epoch 27/30\n",
            "317/317 [==============================] - 1s 4ms/step - loss: 6.1747e-05 - accuracy: 1.0000 - val_loss: 1.5984e-04 - val_accuracy: 1.0000\n",
            "Epoch 28/30\n",
            "317/317 [==============================] - 1s 4ms/step - loss: 4.4513e-05 - accuracy: 1.0000 - val_loss: 1.1181e-04 - val_accuracy: 1.0000\n",
            "Epoch 29/30\n",
            "317/317 [==============================] - 1s 4ms/step - loss: 3.3838e-05 - accuracy: 1.0000 - val_loss: 9.1176e-05 - val_accuracy: 1.0000\n",
            "Epoch 30/30\n",
            "317/317 [==============================] - 1s 4ms/step - loss: 2.5088e-05 - accuracy: 1.0000 - val_loss: 7.4166e-05 - val_accuracy: 1.0000\n"
          ],
          "name": "stdout"
        }
      ]
    },
    {
      "cell_type": "code",
      "metadata": {
        "colab": {
          "base_uri": "https://localhost:8080/",
          "height": 265
        },
        "id": "vRGy9SEnkYMj",
        "outputId": "6a53f890-e20f-4b4b-d0f7-7a3c6c108d27"
      },
      "source": [
        "plt.plot(history.history['loss'])\n",
        "plt.plot(history.history['val_loss'])\n",
        "plt.show()"
      ],
      "execution_count": 18,
      "outputs": [
        {
          "output_type": "display_data",
          "data": {
            "image/png": "[encoded data removed]",
            "text/plain": [
              "<Figure size 432x288 with 1 Axes>"
            ]
          },
          "metadata": {
            "needs_background": "light"
          }
        }
      ]
    },
    {
      "cell_type": "code",
      "metadata": {
        "colab": {
          "base_uri": "https://localhost:8080/",
          "height": 265
        },
        "id": "iUSZGgdXkua3",
        "outputId": "d1212f89-e345-4060-ad0a-5c581fed0631"
      },
      "source": [
        "plt.plot(history.history['accuracy'])\n",
        "plt.plot(history.history['val_accuracy'])\n",
        "plt.show()"
      ],
      "execution_count": 19,
      "outputs": [
        {
          "output_type": "display_data",
          "data": {
            "image/png": "[encoded data removed]",
            "text/plain": [
              "<Figure size 432x288 with 1 Axes>"
            ]
          },
          "metadata": {
            "needs_background": "light"
          }
        }
      ]
    },
    {
      "cell_type": "markdown",
      "metadata": {
        "id": "1t4BgbHrPSqT"
      },
      "source": [
        "# 평가"
      ]
    },
    {
      "cell_type": "code",
      "metadata": {
        "colab": {
          "base_uri": "https://localhost:8080/"
        },
        "id": "DglLNai3knXR",
        "outputId": "8b8bb2ea-cdd1-484b-9e99-18eed2e48b02"
      },
      "source": [
        "loss, acc = model.evaluate(test_x, test_y)\n",
        "print(\"loss =\", loss)\n",
        "print(\"acc =\", acc)"
      ],
      "execution_count": 20,
      "outputs": [
        {
          "output_type": "stream",
          "text": [
            "157/157 [==============================] - 0s 2ms/step - loss: 5.7734e-04 - accuracy: 0.9996\n",
            "loss = 0.0005773439770564437\n",
            "acc = 0.9995999932289124\n"
          ],
          "name": "stdout"
        }
      ]
    },
    {
      "cell_type": "code",
      "metadata": {
        "colab": {
          "base_uri": "https://localhost:8080/"
        },
        "id": "wH3JDyPqPPj2",
        "outputId": "e36dca4f-5118-427c-a1d4-447fb07f7cc8"
      },
      "source": [
        "y_ = model.predict(test_x)\n",
        "predicted = np.argmax(y_, axis=-1)\n",
        "for i in range(10):\n",
        "  print(\"'\"+ctable.decode(test_x[i])+\"'  ----> \", predicted[i])\n",
        "\n",
        "\n"
      ],
      "execution_count": 21,
      "outputs": [
        {
          "output_type": "stream",
          "text": [
            "' 357=755+691'  ---->  1\n",
            "'1101=061+058'  ---->  0\n",
            "'7681=059+619'  ---->  0\n",
            "'8031=747+165'  ---->  1\n",
            "'  603=252+45'  ---->  1\n",
            "' 579=882+686'  ---->  0\n",
            "'  281=16+121'  ---->  1\n",
            "'3731=935+338'  ---->  0\n",
            "'0301=438+591'  ---->  0\n",
            "'2421=408+834'  ---->  1\n"
          ],
          "name": "stdout"
        }
      ]
    },
    {
      "cell_type": "code",
      "metadata": {
        "id": "YgSK50N0QWLG"
      },
      "source": [
        ""
      ],
      "execution_count": 21,
      "outputs": []
    }
  ]
}