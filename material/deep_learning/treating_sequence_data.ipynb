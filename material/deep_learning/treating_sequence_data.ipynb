{
  "nbformat": 4,
  "nbformat_minor": 0,
  "metadata": {
    "colab": {
      "name": "treating_sequence_data.ipynb",
      "provenance": [],
      "collapsed_sections": []
    },
    "kernelspec": {
      "display_name": "Python 3",
      "name": "python3"
    },
    "language_info": {
      "name": "python"
    }
  },
  "cells": [
    {
      "cell_type": "markdown",
      "metadata": {
        "id": "3dmaAhE6c02q"
      },
      "source": [
        "# 순차열 데이터 처리\n",
        "\n",
        "순차열 데이터는 정형 데이터로 변형해서 처리한다."
      ]
    },
    {
      "cell_type": "markdown",
      "metadata": {
        "id": "KnTJOWBnOcDU"
      },
      "source": [
        "순차열 데이터가 다음과 같을 때\n",
        "```\n",
        "0  1  2  3  4  5  6  7  8  9 10 11 12 13 14 15 16 17 18 19\n",
        "<---- x ---->  y          : [0 1 2 3 4] -> 5\n",
        "   <---- x ---->  y       : [1 2 3 4 5] -> 6\n",
        "      <---- x ---->  y    : [2 3 4 5 6] -> 7\n",
        "         <---- x ---->  y : [3 4 5 6 7] -> 8\n",
        "```\n",
        "x는 길이 5이고, y는 x 다음 값으로 샘플링한다.\n",
        "\n",
        "결국 다음 순차열 데이터로\n",
        "```\n",
        "0 1 2 3 4 5 6 7 8 9 \n",
        "```\n",
        "\n",
        "다음과 같은 데이터로 정형 데이터를 생성한다.\n",
        "```\n",
        "0 1 2 3 4, 5\n",
        "1 2 3 4 5, 6\n",
        "2 3 4 5 6, 7\n",
        "3 4 5 6 7, 8\n",
        "4 5 6 7 8, 9\n",
        "```"
      ]
    },
    {
      "cell_type": "markdown",
      "metadata": {
        "id": "gbMiOVWvoSNV"
      },
      "source": [
        "## 수작업에 의한"
      ]
    },
    {
      "cell_type": "code",
      "metadata": {
        "colab": {
          "base_uri": "https://localhost:8080/"
        },
        "id": "sl_cK5lqoU5g",
        "outputId": "d876b9bb-0227-4d9f-8f45-975bfab468a0"
      },
      "source": [
        "import numpy as np\n",
        "\n",
        "series = np.arange(20)\n",
        "print(series)"
      ],
      "execution_count": null,
      "outputs": [
        {
          "output_type": "stream",
          "text": [
            "[ 0  1  2  3  4  5  6  7  8  9 10 11 12 13 14 15 16 17 18 19]\n"
          ],
          "name": "stdout"
        }
      ]
    },
    {
      "cell_type": "code",
      "metadata": {
        "colab": {
          "base_uri": "https://localhost:8080/"
        },
        "id": "2-T6eWcOoWWx",
        "outputId": "75be39e4-a7a5-4a62-b7c3-ae9f2b8faea5"
      },
      "source": [
        "a_data_length = 5\n",
        "\n",
        "x = []\n",
        "y = []\n",
        "for i in range(len(series)):\n",
        "  if i+a_data_length+1 > len(series): break\n",
        "  a_data = series[i:i+a_data_length]\n",
        "  x.append(a_data)\n",
        "  y.append(series[i+a_data_length])\n",
        "\n",
        "x = np.array(x)\n",
        "y = np.array(y)\n",
        "\n",
        "print(x)\n",
        "print(y)"
      ],
      "execution_count": null,
      "outputs": [
        {
          "output_type": "stream",
          "text": [
            "[[ 0  1  2  3  4]\n",
            " [ 1  2  3  4  5]\n",
            " [ 2  3  4  5  6]\n",
            " [ 3  4  5  6  7]\n",
            " [ 4  5  6  7  8]\n",
            " [ 5  6  7  8  9]\n",
            " [ 6  7  8  9 10]\n",
            " [ 7  8  9 10 11]\n",
            " [ 8  9 10 11 12]\n",
            " [ 9 10 11 12 13]\n",
            " [10 11 12 13 14]\n",
            " [11 12 13 14 15]\n",
            " [12 13 14 15 16]\n",
            " [13 14 15 16 17]\n",
            " [14 15 16 17 18]]\n",
            "[ 5  6  7  8  9 10 11 12 13 14 15 16 17 18 19]\n"
          ],
          "name": "stdout"
        }
      ]
    },
    {
      "cell_type": "markdown",
      "metadata": {
        "id": "zzMe4V8doPgJ"
      },
      "source": [
        "## TimeseriesGenerator에 의한"
      ]
    },
    {
      "cell_type": "code",
      "metadata": {
        "colab": {
          "base_uri": "https://localhost:8080/"
        },
        "id": "bZkNHGlQDtFY",
        "outputId": "a85ade63-33fb-43c2-aade-32282f5e21fc"
      },
      "source": [
        "import numpy as np\n",
        "\n",
        "series = np.arange(20)\n",
        "print(series)"
      ],
      "execution_count": null,
      "outputs": [
        {
          "output_type": "stream",
          "text": [
            "[ 0  1  2  3  4  5  6  7  8  9 10 11 12 13 14 15 16 17 18 19]\n"
          ],
          "name": "stdout"
        }
      ]
    },
    {
      "cell_type": "code",
      "metadata": {
        "colab": {
          "base_uri": "https://localhost:8080/"
        },
        "id": "_0Kg5ITdN_5a",
        "outputId": "39b63709-4cee-4471-8a23-3cff5b3f39cf"
      },
      "source": [
        "from tensorflow.keras.preprocessing.sequence import TimeseriesGenerator\n",
        "\n",
        "BIG_ENOUGH = len(series)+999\n",
        "generator = TimeseriesGenerator(series, series, length=5, batch_size=BIG_ENOUGH)\n",
        "\n",
        "x, y = generator[0]\n",
        "print(x.shape)\n",
        "print(y.shape)\n",
        "\n",
        "print(x)\n",
        "print(y)"
      ],
      "execution_count": null,
      "outputs": [
        {
          "output_type": "stream",
          "text": [
            "(15, 5)\n",
            "(15,)\n",
            "[[ 0  1  2  3  4]\n",
            " [ 1  2  3  4  5]\n",
            " [ 2  3  4  5  6]\n",
            " [ 3  4  5  6  7]\n",
            " [ 4  5  6  7  8]\n",
            " [ 5  6  7  8  9]\n",
            " [ 6  7  8  9 10]\n",
            " [ 7  8  9 10 11]\n",
            " [ 8  9 10 11 12]\n",
            " [ 9 10 11 12 13]\n",
            " [10 11 12 13 14]\n",
            " [11 12 13 14 15]\n",
            " [12 13 14 15 16]\n",
            " [13 14 15 16 17]\n",
            " [14 15 16 17 18]]\n",
            "[ 5  6  7  8  9 10 11 12 13 14 15 16 17 18 19]\n"
          ],
          "name": "stdout"
        }
      ]
    },
    {
      "cell_type": "markdown",
      "metadata": {
        "id": "Ia4HpKVwq0xI"
      },
      "source": [
        "# TimeseriesGenerator 옵션들"
      ]
    },
    {
      "cell_type": "markdown",
      "metadata": {
        "id": "fJ6lwtHmqaUp"
      },
      "source": [
        "## batch_size"
      ]
    },
    {
      "cell_type": "code",
      "metadata": {
        "colab": {
          "base_uri": "https://localhost:8080/"
        },
        "id": "Aa2T1DBTrDMP",
        "outputId": "a0dc95cb-b0f8-4e21-99c1-0a793c4e9484"
      },
      "source": [
        "import numpy as np\n",
        "\n",
        "series = np.arange(20)\n",
        "print(series)"
      ],
      "execution_count": null,
      "outputs": [
        {
          "output_type": "stream",
          "text": [
            "[ 0  1  2  3  4  5  6  7  8  9 10 11 12 13 14 15 16 17 18 19]\n"
          ],
          "name": "stdout"
        }
      ]
    },
    {
      "cell_type": "code",
      "metadata": {
        "colab": {
          "base_uri": "https://localhost:8080/"
        },
        "id": "oieOQa6bqBkW",
        "outputId": "c899553e-57ae-4d82-b52a-f6bba52c6733"
      },
      "source": [
        "from tensorflow.keras.preprocessing.sequence import TimeseriesGenerator\n",
        "\n",
        "generator = TimeseriesGenerator(series, series, length=5, batch_size=4)\n",
        "\n",
        "print(\"generator[0]\")\n",
        "x, y = generator[0]\n",
        "print(\"x.shape =\",x.shape)\n",
        "print(\"y.shape =\",y.shape)\n",
        "\n",
        "print(x)\n",
        "print(y)\n",
        "print(\"\\n\")\n",
        "\n",
        "\n",
        "\n",
        "print(\"generator[1]\")\n",
        "x, y = generator[1]\n",
        "print(\"x.shape =\",x.shape)\n",
        "print(\"y.shape =\",y.shape)\n",
        "\n",
        "print(x)\n",
        "print(y)\n"
      ],
      "execution_count": null,
      "outputs": [
        {
          "output_type": "stream",
          "text": [
            "generator[0]\n",
            "x.shape = (4, 5)\n",
            "y.shape = (4,)\n",
            "[[0 1 2 3 4]\n",
            " [1 2 3 4 5]\n",
            " [2 3 4 5 6]\n",
            " [3 4 5 6 7]]\n",
            "[5 6 7 8]\n",
            "\n",
            "\n",
            "generator[1]\n",
            "x.shape = (4, 5)\n",
            "y.shape = (4,)\n",
            "[[ 4  5  6  7  8]\n",
            " [ 5  6  7  8  9]\n",
            " [ 6  7  8  9 10]\n",
            " [ 7  8  9 10 11]]\n",
            "[ 9 10 11 12]\n"
          ],
          "name": "stdout"
        }
      ]
    },
    {
      "cell_type": "markdown",
      "metadata": {
        "id": "2YJeWOJyqd_2"
      },
      "source": [
        "## shuffle=True"
      ]
    },
    {
      "cell_type": "code",
      "metadata": {
        "colab": {
          "base_uri": "https://localhost:8080/"
        },
        "id": "p8nP7E5LrGSa",
        "outputId": "794058c4-b45b-4c35-f3e0-b7b3519ee321"
      },
      "source": [
        "import numpy as np\n",
        "\n",
        "series = np.arange(20)\n",
        "print(series)"
      ],
      "execution_count": null,
      "outputs": [
        {
          "output_type": "stream",
          "text": [
            "[ 0  1  2  3  4  5  6  7  8  9 10 11 12 13 14 15 16 17 18 19]\n"
          ],
          "name": "stdout"
        }
      ]
    },
    {
      "cell_type": "code",
      "metadata": {
        "colab": {
          "base_uri": "https://localhost:8080/"
        },
        "id": "jGc5XlblqhBO",
        "outputId": "468429f8-21f3-4e8f-a68f-94824db5145a"
      },
      "source": [
        "from tensorflow.keras.preprocessing.sequence import TimeseriesGenerator\n",
        "\n",
        "# generator = TimeseriesGenerator(series, series, length=5, batch_size=4)\n",
        "generator = TimeseriesGenerator(series, series, length=5, batch_size=4, shuffle=True)\n",
        "\n",
        "print(\"generator[0]\")\n",
        "x, y = generator[0]\n",
        "print(\"x.shape =\",x.shape)\n",
        "print(\"y.shape =\",y.shape)\n",
        "\n",
        "print(x)\n",
        "print(y)\n",
        "print(\"\\n\")\n"
      ],
      "execution_count": null,
      "outputs": [
        {
          "output_type": "stream",
          "text": [
            "generator[0]\n",
            "x.shape = (4, 5)\n",
            "y.shape = (4,)\n",
            "[[10 11 12 13 14]\n",
            " [ 8  9 10 11 12]\n",
            " [ 6  7  8  9 10]\n",
            " [11 12 13 14 15]]\n",
            "[15 13 11 16]\n",
            "\n",
            "\n"
          ],
          "name": "stdout"
        }
      ]
    },
    {
      "cell_type": "markdown",
      "metadata": {
        "id": "CG6eD4KirJAg"
      },
      "source": [
        "## sampling_rate"
      ]
    },
    {
      "cell_type": "code",
      "metadata": {
        "colab": {
          "base_uri": "https://localhost:8080/"
        },
        "id": "CeKETJlUrIgb",
        "outputId": "103f39c8-8b75-453f-cbdd-83a8aeb5c364"
      },
      "source": [
        "import numpy as np\n",
        "\n",
        "series = np.arange(20)\n",
        "print(series)"
      ],
      "execution_count": null,
      "outputs": [
        {
          "output_type": "stream",
          "text": [
            "[ 0  1  2  3  4  5  6  7  8  9 10 11 12 13 14 15 16 17 18 19]\n"
          ],
          "name": "stdout"
        }
      ]
    },
    {
      "cell_type": "code",
      "metadata": {
        "colab": {
          "base_uri": "https://localhost:8080/"
        },
        "id": "J8wLmBYjrNrt",
        "outputId": "7007f5cd-cb36-4482-ac88-8dac2d8df73a"
      },
      "source": [
        "from tensorflow.keras.preprocessing.sequence import TimeseriesGenerator\n",
        "\n",
        "# generator = TimeseriesGenerator(series, series, length=5, batch_size=4)\n",
        "generator = TimeseriesGenerator(series, series, length=5, batch_size=4, sampling_rate=2)\n",
        "\n",
        "print(\"generator[0]\")\n",
        "x, y = generator[0]\n",
        "print(\"x.shape =\",x.shape)\n",
        "print(\"y.shape =\",y.shape)\n",
        "\n",
        "print(x)\n",
        "print(y)\n",
        "print(\"\\n\")\n"
      ],
      "execution_count": null,
      "outputs": [
        {
          "output_type": "stream",
          "text": [
            "generator[0]\n",
            "x.shape = (4, 3)\n",
            "y.shape = (4,)\n",
            "[[0 2 4]\n",
            " [1 3 5]\n",
            " [2 4 6]\n",
            " [3 5 7]]\n",
            "[5 6 7 8]\n",
            "\n",
            "\n"
          ],
          "name": "stdout"
        }
      ]
    },
    {
      "cell_type": "markdown",
      "metadata": {
        "id": "zuNKFoZCreK_"
      },
      "source": [
        "## stride"
      ]
    },
    {
      "cell_type": "code",
      "metadata": {
        "colab": {
          "base_uri": "https://localhost:8080/"
        },
        "id": "IlIDs510rg6n",
        "outputId": "775bb439-7c5a-48a1-c4a9-b0395cc9778f"
      },
      "source": [
        "import numpy as np\n",
        "\n",
        "series = np.arange(20)\n",
        "print(series)"
      ],
      "execution_count": null,
      "outputs": [
        {
          "output_type": "stream",
          "text": [
            "[ 0  1  2  3  4  5  6  7  8  9 10 11 12 13 14 15 16 17 18 19]\n"
          ],
          "name": "stdout"
        }
      ]
    },
    {
      "cell_type": "code",
      "metadata": {
        "colab": {
          "base_uri": "https://localhost:8080/"
        },
        "id": "mw1KZuT9rg6o",
        "outputId": "47e81c7b-b87f-4bd0-8e0f-0f181933ae6b"
      },
      "source": [
        "from tensorflow.keras.preprocessing.sequence import TimeseriesGenerator\n",
        "\n",
        "# generator = TimeseriesGenerator(series, series, length=5, batch_size=4)\n",
        "generator = TimeseriesGenerator(series, series, length=5, batch_size=4, stride=2)\n",
        "\n",
        "print(\"generator[0]\")\n",
        "x, y = generator[0]\n",
        "print(\"x.shape =\",x.shape)\n",
        "print(\"y.shape =\",y.shape)\n",
        "\n",
        "print(x)\n",
        "print(y)\n",
        "print(\"\\n\")\n"
      ],
      "execution_count": null,
      "outputs": [
        {
          "output_type": "stream",
          "text": [
            "generator[0]\n",
            "x.shape = (4, 5)\n",
            "y.shape = (4,)\n",
            "[[ 0  1  2  3  4]\n",
            " [ 2  3  4  5  6]\n",
            " [ 4  5  6  7  8]\n",
            " [ 6  7  8  9 10]]\n",
            "[ 5  7  9 11]\n",
            "\n",
            "\n"
          ],
          "name": "stdout"
        }
      ]
    },
    {
      "cell_type": "markdown",
      "metadata": {
        "id": "rWWsZYqnrvv6"
      },
      "source": [
        "## start_index, end_index"
      ]
    },
    {
      "cell_type": "code",
      "metadata": {
        "colab": {
          "base_uri": "https://localhost:8080/"
        },
        "id": "PT7xfiasr1iV",
        "outputId": "763d2d06-6c9b-4be1-ba70-36b7a4cfc51f"
      },
      "source": [
        "import numpy as np\n",
        "\n",
        "series = np.arange(20)\n",
        "print(series)"
      ],
      "execution_count": null,
      "outputs": [
        {
          "output_type": "stream",
          "text": [
            "[ 0  1  2  3  4  5  6  7  8  9 10 11 12 13 14 15 16 17 18 19]\n"
          ],
          "name": "stdout"
        }
      ]
    },
    {
      "cell_type": "code",
      "metadata": {
        "colab": {
          "base_uri": "https://localhost:8080/"
        },
        "id": "R1X4ubl5r1iW",
        "outputId": "e3b83a1e-6605-4e92-8c1b-13b6656ecc12"
      },
      "source": [
        "from tensorflow.keras.preprocessing.sequence import TimeseriesGenerator\n",
        "\n",
        "BIG_ENOUGH = len(series)+999\n",
        "# generator = TimeseriesGenerator(series, series, length=5, batch_size=4)\n",
        "train_generator = TimeseriesGenerator(series, series, length=5, batch_size=BIG_ENOUGH, end_index=12)\n",
        "test_generator = TimeseriesGenerator(series, series, length=5, batch_size=BIG_ENOUGH, start_index=12)\n",
        "\n",
        "print(\"train_generator[0]\")\n",
        "x, y = train_generator[0]\n",
        "print(\"x.shape =\",x.shape)\n",
        "print(\"y.shape =\",y.shape)\n",
        "\n",
        "print(x)\n",
        "print(y)\n",
        "print(\"\\n\")\n",
        "\n",
        "\n",
        "print(\"test_generator[0]\")\n",
        "x, y = test_generator[0]\n",
        "print(\"x.shape =\",x.shape)\n",
        "print(\"y.shape =\",y.shape)\n",
        "\n",
        "print(x)\n",
        "print(y)\n",
        "print(\"\\n\")\n"
      ],
      "execution_count": null,
      "outputs": [
        {
          "output_type": "stream",
          "text": [
            "train_generator[0]\n",
            "x.shape = (8, 5)\n",
            "y.shape = (8,)\n",
            "[[ 0  1  2  3  4]\n",
            " [ 1  2  3  4  5]\n",
            " [ 2  3  4  5  6]\n",
            " [ 3  4  5  6  7]\n",
            " [ 4  5  6  7  8]\n",
            " [ 5  6  7  8  9]\n",
            " [ 6  7  8  9 10]\n",
            " [ 7  8  9 10 11]]\n",
            "[ 5  6  7  8  9 10 11 12]\n",
            "\n",
            "\n",
            "test_generator[0]\n",
            "x.shape = (3, 5)\n",
            "y.shape = (3,)\n",
            "[[12 13 14 15 16]\n",
            " [13 14 15 16 17]\n",
            " [14 15 16 17 18]]\n",
            "[17 18 19]\n",
            "\n",
            "\n"
          ],
          "name": "stdout"
        }
      ]
    },
    {
      "cell_type": "markdown",
      "metadata": {
        "id": "zIxCXaVMsa3P"
      },
      "source": [
        "## target"
      ]
    },
    {
      "cell_type": "code",
      "metadata": {
        "colab": {
          "base_uri": "https://localhost:8080/"
        },
        "id": "CuIWQerMsh8t",
        "outputId": "cb646eb3-67c6-4e44-b0cd-07de1f4f6053"
      },
      "source": [
        "import numpy as np\n",
        "\n",
        "series = np.arange(20)\n",
        "print(series)"
      ],
      "execution_count": null,
      "outputs": [
        {
          "output_type": "stream",
          "text": [
            "[ 0  1  2  3  4  5  6  7  8  9 10 11 12 13 14 15 16 17 18 19]\n"
          ],
          "name": "stdout"
        }
      ]
    },
    {
      "cell_type": "code",
      "metadata": {
        "id": "GEy5jGkFslAM"
      },
      "source": [
        "X_SEQUENCE_LENGTH = 5\n",
        "\n",
        "target = np.empty_like(series)\n",
        "target = (series%2==0).astype(np.int) # is even"
      ],
      "execution_count": null,
      "outputs": []
    },
    {
      "cell_type": "code",
      "metadata": {
        "colab": {
          "base_uri": "https://localhost:8080/"
        },
        "id": "3IrUUxOstAm7",
        "outputId": "1dbe594d-7f40-43b1-e138-c6110f36dbd7"
      },
      "source": [
        "print(series)\n",
        "print(target)"
      ],
      "execution_count": null,
      "outputs": [
        {
          "output_type": "stream",
          "text": [
            "[ 0  1  2  3  4  5  6  7  8  9 10 11 12 13 14 15 16 17 18 19]\n",
            "[1 0 1 0 1 0 1 0 1 0 1 0 1 0 1 0 1 0 1 0]\n"
          ],
          "name": "stdout"
        }
      ]
    },
    {
      "cell_type": "code",
      "metadata": {
        "colab": {
          "base_uri": "https://localhost:8080/"
        },
        "id": "DyauDzOatsw4",
        "outputId": "ce688b25-dd66-4c53-8eb5-f9182c38e88f"
      },
      "source": [
        "from tensorflow.keras.preprocessing.sequence import TimeseriesGenerator\n",
        "\n",
        "# generator = TimeseriesGenerator(series, series, length=5, batch_size=4)\n",
        "generator = TimeseriesGenerator(series, target, length=5, batch_size=4)\n",
        "\n",
        "print(\"generator[0]\")\n",
        "x, y = generator[0]\n",
        "print(\"x.shape =\",x.shape)\n",
        "print(\"y.shape =\",y.shape)\n",
        "\n",
        "print(x)\n",
        "print(y)\n",
        "print(\"\\n\")\n"
      ],
      "execution_count": null,
      "outputs": [
        {
          "output_type": "stream",
          "text": [
            "generator[0]\n",
            "x.shape = (4, 5)\n",
            "y.shape = (4,)\n",
            "[[0 1 2 3 4]\n",
            " [1 2 3 4 5]\n",
            " [2 3 4 5 6]\n",
            " [3 4 5 6 7]]\n",
            "[0 1 0 1]\n",
            "\n",
            "\n"
          ],
          "name": "stdout"
        }
      ]
    },
    {
      "cell_type": "markdown",
      "metadata": {
        "id": "HlvjOIOSuAug"
      },
      "source": [
        "# 다중 순차열 데이터"
      ]
    },
    {
      "cell_type": "code",
      "metadata": {
        "colab": {
          "base_uri": "https://localhost:8080/"
        },
        "id": "PxJV1jJTu7Hg",
        "outputId": "543f5a43-80ef-41e4-f1a8-10a3b0fbd352"
      },
      "source": [
        "import numpy as np\n",
        "\n",
        "series1 = np.arange(20)\n",
        "print(series1)\n",
        "\n",
        "series2 = np.arange(20)*-1\n",
        "print(series2)\n",
        "\n",
        "series = np.stack([series1, series2], axis=1)\n",
        "print(series)"
      ],
      "execution_count": null,
      "outputs": [
        {
          "output_type": "stream",
          "text": [
            "[ 0  1  2  3  4  5  6  7  8  9 10 11 12 13 14 15 16 17 18 19]\n",
            "[  0  -1  -2  -3  -4  -5  -6  -7  -8  -9 -10 -11 -12 -13 -14 -15 -16 -17\n",
            " -18 -19]\n",
            "[[  0   0]\n",
            " [  1  -1]\n",
            " [  2  -2]\n",
            " [  3  -3]\n",
            " [  4  -4]\n",
            " [  5  -5]\n",
            " [  6  -6]\n",
            " [  7  -7]\n",
            " [  8  -8]\n",
            " [  9  -9]\n",
            " [ 10 -10]\n",
            " [ 11 -11]\n",
            " [ 12 -12]\n",
            " [ 13 -13]\n",
            " [ 14 -14]\n",
            " [ 15 -15]\n",
            " [ 16 -16]\n",
            " [ 17 -17]\n",
            " [ 18 -18]\n",
            " [ 19 -19]]\n"
          ],
          "name": "stdout"
        }
      ]
    },
    {
      "cell_type": "code",
      "metadata": {
        "colab": {
          "base_uri": "https://localhost:8080/"
        },
        "id": "P7NinMGov1pd",
        "outputId": "ce47dd05-ef7a-4385-c495-709742c293b5"
      },
      "source": [
        "from tensorflow.keras.preprocessing.sequence import TimeseriesGenerator\n",
        "\n",
        "generator = TimeseriesGenerator(series, series, length=5, batch_size=4)\n",
        "\n",
        "print(\"generator[0]\")\n",
        "x, y = generator[0]\n",
        "print(\"x.shape =\",x.shape)\n",
        "print(\"y.shape =\",y.shape)\n",
        "\n",
        "print(x)\n",
        "print(y)\n",
        "print(\"\\n\")\n"
      ],
      "execution_count": null,
      "outputs": [
        {
          "output_type": "stream",
          "text": [
            "generator[0]\n",
            "x.shape = (4, 5, 2)\n",
            "y.shape = (4, 2)\n",
            "[[[ 0  0]\n",
            "  [ 1 -1]\n",
            "  [ 2 -2]\n",
            "  [ 3 -3]\n",
            "  [ 4 -4]]\n",
            "\n",
            " [[ 1 -1]\n",
            "  [ 2 -2]\n",
            "  [ 3 -3]\n",
            "  [ 4 -4]\n",
            "  [ 5 -5]]\n",
            "\n",
            " [[ 2 -2]\n",
            "  [ 3 -3]\n",
            "  [ 4 -4]\n",
            "  [ 5 -5]\n",
            "  [ 6 -6]]\n",
            "\n",
            " [[ 3 -3]\n",
            "  [ 4 -4]\n",
            "  [ 5 -5]\n",
            "  [ 6 -6]\n",
            "  [ 7 -7]]]\n",
            "[[ 5 -5]\n",
            " [ 6 -6]\n",
            " [ 7 -7]\n",
            " [ 8 -8]]\n",
            "\n",
            "\n"
          ],
          "name": "stdout"
        }
      ]
    },
    {
      "cell_type": "markdown",
      "metadata": {
        "id": "S3JnBu8xdERY"
      },
      "source": [
        "# sine 데이터 예"
      ]
    },
    {
      "cell_type": "code",
      "metadata": {
        "id": "IlfhRplJdDHw"
      },
      "source": [
        "import numpy as np\n",
        "\n",
        "series = np.arange(0,100,0.1)\n",
        "series = np.sin(series)"
      ],
      "execution_count": null,
      "outputs": []
    },
    {
      "cell_type": "code",
      "metadata": {
        "colab": {
          "base_uri": "https://localhost:8080/",
          "height": 265
        },
        "id": "4r9mZ0QodSwi",
        "outputId": "58556132-0dbf-41da-f438-36b27ca6a82b"
      },
      "source": [
        "import matplotlib.pyplot as plt\n",
        "plt.plot(series)\n",
        "plt.show()"
      ],
      "execution_count": null,
      "outputs": [
        {
          "output_type": "display_data",
          "data": {
            "image/png": "[encoded data removed]",
            "text/plain": [
              "<Figure size 432x288 with 1 Axes>"
            ]
          },
          "metadata": {
            "tags": [],
            "needs_background": "light"
          }
        }
      ]
    },
    {
      "cell_type": "code",
      "metadata": {
        "colab": {
          "base_uri": "https://localhost:8080/",
          "height": 265
        },
        "id": "Pzbj8Vundwh5",
        "outputId": "1a9f0926-13ca-4592-b303-fd47b6939646"
      },
      "source": [
        "from tensorflow.keras.preprocessing.sequence import TimeseriesGenerator\n",
        "\n",
        "split_index = int(len(series)*0.8)\n",
        "generator = TimeseriesGenerator(series, series, length=30, batch_size=128, \n",
        "                                shuffle=True, end_index=split_index)\n",
        "\n",
        "test_generator = TimeseriesGenerator(series, series, length=30, batch_size=128, \n",
        "                                     shuffle=False, start_index=split_index)\n",
        "\n",
        "x, y = generator[0]\n",
        "plt.plot(x[0])\n",
        "plt.plot([len(x[0])+1], y[0], 'o')\n",
        "plt.plot(x[1])\n",
        "plt.plot([len(x[1])+1], y[1], 'o')\n",
        "plt.show()"
      ],
      "execution_count": null,
      "outputs": [
        {
          "output_type": "display_data",
          "data": {
            "image/png": "[encoded data removed]",
            "text/plain": [
              "<Figure size 432x288 with 1 Axes>"
            ]
          },
          "metadata": {
            "tags": [],
            "needs_background": "light"
          }
        }
      ]
    },
    {
      "cell_type": "markdown",
      "metadata": {
        "id": "LJdZ8wopgk_J"
      },
      "source": [
        "## by DNN"
      ]
    },
    {
      "cell_type": "code",
      "metadata": {
        "colab": {
          "base_uri": "https://localhost:8080/"
        },
        "id": "ATiEaxxvjPkU",
        "outputId": "7aadd55e-d79e-49af-f9c3-78d7850370fb"
      },
      "source": [
        "from tensorflow.keras.models import Sequential\n",
        "from tensorflow.keras.layers import Dense, Input\n",
        "\n",
        "model = Sequential()\n",
        "model.add(Input((30,)))\n",
        "model.add(Dense(10, activation='relu'))\n",
        "model.add(Dense(1))\n",
        "model.compile(optimizer='adam', loss='mse', metrics=['mape'])\n",
        "\n",
        "model.fit(generator, steps_per_epoch=1, epochs=500, verbose=0)\n"
      ],
      "execution_count": null,
      "outputs": [
        {
          "output_type": "stream",
          "text": [
            "WARNING:tensorflow:Please add `keras.layers.InputLayer` instead of `keras.Input` to Sequential model. `keras.Input` is intended to be used by Functional model.\n"
          ],
          "name": "stdout"
        },
        {
          "output_type": "execute_result",
          "data": {
            "text/plain": [
              "<keras.callbacks.History at 0x7f7848674410>"
            ]
          },
          "metadata": {
            "tags": []
          },
          "execution_count": 24
        }
      ]
    },
    {
      "cell_type": "code",
      "metadata": {
        "colab": {
          "base_uri": "https://localhost:8080/",
          "height": 298
        },
        "id": "E_SEVDWCjXFV",
        "outputId": "88ac3df5-ccc1-4ba9-f0e9-0422caa59b1d"
      },
      "source": [
        "loss, mape = model.evaluate(test_generator)\n",
        "print(\"mape=\", mape)\n",
        "\n",
        "x, y = test_generator[0]\n",
        "y_ = model.predict(x)\n",
        "plt.plot(y, 'o', label='target')\n",
        "plt.plot(y_, label='predicted')\n",
        "plt.legend()\n",
        "plt.show()"
      ],
      "execution_count": null,
      "outputs": [
        {
          "output_type": "stream",
          "text": [
            "2/2 [==============================] - 1s 9ms/step - loss: 6.5440e-04 - mape: 0.0174\n",
            "mape= 0.017354222014546394\n"
          ],
          "name": "stdout"
        },
        {
          "output_type": "display_data",
          "data": {
            "image/png": "[encoded data removed]",
            "text/plain": [
              "<Figure size 432x288 with 1 Axes>"
            ]
          },
          "metadata": {
            "tags": [],
            "needs_background": "light"
          }
        }
      ]
    },
    {
      "cell_type": "markdown",
      "metadata": {
        "id": "mwSggfcAjMP7"
      },
      "source": [
        "## by LSTM"
      ]
    },
    {
      "cell_type": "code",
      "metadata": {
        "colab": {
          "base_uri": "https://localhost:8080/"
        },
        "id": "ke1ePiHld-Ta",
        "outputId": "5c96f7e2-5a30-40bd-e389-d51e5ca2c4a1"
      },
      "source": [
        "from tensorflow.keras.models import Sequential\n",
        "from tensorflow.keras.layers import Dense, Input, Reshape, LSTM\n",
        "\n",
        "model = Sequential()\n",
        "model.add(Input((30,)))\n",
        "model.add(Reshape((30,1)))\n",
        "model.add(LSTM(100, activation='relu'))\n",
        "model.add(Dense(1))\n",
        "model.compile(optimizer='adam', loss='mse', metrics=['mape'])\n",
        "\n",
        "model.fit(generator, steps_per_epoch=1, epochs=500, verbose=0)\n"
      ],
      "execution_count": null,
      "outputs": [
        {
          "output_type": "stream",
          "text": [
            "WARNING:tensorflow:Please add `keras.layers.InputLayer` instead of `keras.Input` to Sequential model. `keras.Input` is intended to be used by Functional model.\n"
          ],
          "name": "stdout"
        },
        {
          "output_type": "execute_result",
          "data": {
            "text/plain": [
              "<keras.callbacks.History at 0x7f7844be8d50>"
            ]
          },
          "metadata": {
            "tags": []
          },
          "execution_count": 26
        }
      ]
    },
    {
      "cell_type": "code",
      "metadata": {
        "colab": {
          "base_uri": "https://localhost:8080/",
          "height": 298
        },
        "id": "dE-4jTAOhgZE",
        "outputId": "334ff314-fdb0-4b95-dcb2-927c2532a079"
      },
      "source": [
        "loss, mape = model.evaluate(test_generator)\n",
        "print(\"mape=\", mape)\n",
        "\n",
        "x, y = test_generator[0]\n",
        "y_ = model.predict(x)\n",
        "plt.plot(y, 'o', label='target')\n",
        "plt.plot(y_, label='predicted')\n",
        "plt.legend()\n",
        "plt.show()"
      ],
      "execution_count": null,
      "outputs": [
        {
          "output_type": "stream",
          "text": [
            "2/2 [==============================] - 1s 14ms/step - loss: 1.3420e-05 - mape: 0.0029\n",
            "mape= 0.0028781502041965723\n"
          ],
          "name": "stdout"
        },
        {
          "output_type": "display_data",
          "data": {
            "image/png": "[encoded data removed]",
            "text/plain": [
              "<Figure size 432x288 with 1 Axes>"
            ]
          },
          "metadata": {
            "tags": [],
            "needs_background": "light"
          }
        }
      ]
    },
    {
      "cell_type": "code",
      "metadata": {
        "id": "DuXhs5kBCLxp"
      },
      "source": [
        ""
      ],
      "execution_count": null,
      "outputs": []
    },
    {
      "cell_type": "markdown",
      "metadata": {
        "id": "BndUOql7IZxz"
      },
      "source": [
        "# x와 y 사이의 offset\n",
        "\n",
        "순차열 데이터가 다음과 같을 때\n",
        "\n",
        "```\n",
        "0  1  2  3  4  5  6  7  8  9 10 11 12 13 14 15 16 17 18 19\n",
        "<---- x ---->  <-offset->  y          : [0 1 2 3 4] -> 9\n",
        "   <---- x ---->  <-offset-> y        : [1 2 3 4 5] -> 10\n",
        "      <---- x ---->  <-offset-> y     : [2 3 4 5 6] -> 11\n",
        "         <---- x ---->  <-offset-> y  : [3 4 5 6 7] -> 12\n",
        "```\n",
        "x는 길이 5이고, y는 offset 5 후의 값으로 샘플링한다."
      ]
    },
    {
      "cell_type": "code",
      "metadata": {
        "colab": {
          "base_uri": "https://localhost:8080/"
        },
        "id": "STab50_hJQdd",
        "outputId": "46b44f79-8af8-4b2b-dbf3-401098192d94"
      },
      "source": [
        "import numpy as np\n",
        "\n",
        "series = np.arange(20)\n",
        "print(series)"
      ],
      "execution_count": null,
      "outputs": [
        {
          "output_type": "stream",
          "text": [
            "[ 0  1  2  3  4  5  6  7  8  9 10 11 12 13 14 15 16 17 18 19]\n"
          ],
          "name": "stdout"
        }
      ]
    },
    {
      "cell_type": "code",
      "metadata": {
        "id": "5pXK9-pjJQde"
      },
      "source": [
        "OFFSET = 5\n",
        "\n",
        "target = series.copy()\n",
        "target = np.roll(target, -(OFFSET-1))\n",
        "\n",
        "# target 뒤쪽에 rolling되어 적용하면 안될 값들 0,1,2,3 값들이 있다.\n",
        "# [ 0  1  2  3  4  5  6  7  8  9 10 11 12 13 14 15 16 17 18 19]\n",
        "# [ 4  5  6  7  8  9 10 11 12 13 14 15 16 17 18 19  0  1  2  3]\n",
        "#\n",
        "# 이를 잘라낸다.\n",
        "# [ 0  1  2  3  4  5  6  7  8  9 10 11 12 13 14 15]\n",
        "# [ 4  5  6  7  8  9 10 11 12 13 14 15 16 17 18 19]\n",
        "\n",
        "# 결과적으로 배열의 길이자 짧아 진다\n",
        "series = series[:-(OFFSET-1)]\n",
        "target = target[:-(OFFSET-1)]\n"
      ],
      "execution_count": null,
      "outputs": []
    },
    {
      "cell_type": "code",
      "metadata": {
        "colab": {
          "base_uri": "https://localhost:8080/"
        },
        "id": "btE8KDW-KbLl",
        "outputId": "b2e3400f-6946-49bf-a7ca-3a203317b011"
      },
      "source": [
        "print(series)\n",
        "print(target)"
      ],
      "execution_count": null,
      "outputs": [
        {
          "output_type": "stream",
          "text": [
            "[ 0  1  2  3  4  5  6  7  8  9 10 11 12 13 14 15]\n",
            "[ 4  5  6  7  8  9 10 11 12 13 14 15 16 17 18 19]\n"
          ],
          "name": "stdout"
        }
      ]
    },
    {
      "cell_type": "code",
      "metadata": {
        "colab": {
          "base_uri": "https://localhost:8080/"
        },
        "id": "iFHMNBkSI-fQ",
        "outputId": "91272384-0396-47fb-d1ca-4cd8f147fb93"
      },
      "source": [
        "from tensorflow.keras.preprocessing.sequence import TimeseriesGenerator\n",
        "\n",
        "BIG_ENOUGH = len(series)+999\n",
        "# generator = TimeseriesGenerator(series, series, length=5, batch_size=4)\n",
        "generator = TimeseriesGenerator(series, target, length=5, batch_size=BIG_ENOUGH)\n",
        "\n",
        "print(\"generator[0]\")\n",
        "x, y = generator[0]\n",
        "print(\"x.shape =\",x.shape)\n",
        "print(\"y.shape =\",y.shape)\n",
        "\n",
        "print(x)\n",
        "print(y)\n",
        "print(\"\\n\")\n"
      ],
      "execution_count": null,
      "outputs": [
        {
          "output_type": "stream",
          "text": [
            "generator[0]\n",
            "x.shape = (11, 5)\n",
            "y.shape = (11,)\n",
            "[[ 0  1  2  3  4]\n",
            " [ 1  2  3  4  5]\n",
            " [ 2  3  4  5  6]\n",
            " [ 3  4  5  6  7]\n",
            " [ 4  5  6  7  8]\n",
            " [ 5  6  7  8  9]\n",
            " [ 6  7  8  9 10]\n",
            " [ 7  8  9 10 11]\n",
            " [ 8  9 10 11 12]\n",
            " [ 9 10 11 12 13]\n",
            " [10 11 12 13 14]]\n",
            "[ 9 10 11 12 13 14 15 16 17 18 19]\n",
            "\n",
            "\n"
          ],
          "name": "stdout"
        }
      ]
    },
    {
      "cell_type": "code",
      "metadata": {
        "id": "mflcOE9CLZjF"
      },
      "source": [
        ""
      ],
      "execution_count": null,
      "outputs": []
    },
    {
      "cell_type": "markdown",
      "metadata": {
        "id": "MxFt22bUQt0Q"
      },
      "source": [
        "# 참고 - timeseries_dataset_from_array"
      ]
    },
    {
      "cell_type": "code",
      "metadata": {
        "colab": {
          "base_uri": "https://localhost:8080/"
        },
        "id": "uXBVTazTRTM2",
        "outputId": "d1dcf085-f1af-4faa-eaf6-58a70579c756"
      },
      "source": [
        "import numpy as np\n",
        "\n",
        "series = np.arange(20)\n",
        "print(series)"
      ],
      "execution_count": null,
      "outputs": [
        {
          "output_type": "stream",
          "text": [
            "[ 0  1  2  3  4  5  6  7  8  9 10 11 12 13 14 15 16 17 18 19]\n"
          ],
          "name": "stdout"
        }
      ]
    },
    {
      "cell_type": "code",
      "metadata": {
        "colab": {
          "base_uri": "https://localhost:8080/"
        },
        "id": "dwysoyI3QuTQ",
        "outputId": "864df5b3-fb4d-4651-97aa-87914b62166e"
      },
      "source": [
        "from tensorflow.keras.preprocessing import timeseries_dataset_from_array\n",
        "\n",
        "BIG_ENOUGH = len(series)+999\n",
        "\n",
        "dataset = timeseries_dataset_from_array(\n",
        "    series,\n",
        "    series,\n",
        "    sequence_length=5,\n",
        "    batch_size=BIG_ENOUGH,\n",
        ")\n",
        "\n",
        "for batch in dataset:\n",
        "\n",
        "  x, y = batch\n",
        "  print(x.shape)\n",
        "  print(y.shape)\n",
        "\n",
        "  print(x)\n",
        "  print(y)\n",
        "\n",
        "  break;\n"
      ],
      "execution_count": null,
      "outputs": [
        {
          "output_type": "stream",
          "text": [
            "(16, 5)\n",
            "(16,)\n",
            "tf.Tensor(\n",
            "[[ 0  1  2  3  4]\n",
            " [ 1  2  3  4  5]\n",
            " [ 2  3  4  5  6]\n",
            " [ 3  4  5  6  7]\n",
            " [ 4  5  6  7  8]\n",
            " [ 5  6  7  8  9]\n",
            " [ 6  7  8  9 10]\n",
            " [ 7  8  9 10 11]\n",
            " [ 8  9 10 11 12]\n",
            " [ 9 10 11 12 13]\n",
            " [10 11 12 13 14]\n",
            " [11 12 13 14 15]\n",
            " [12 13 14 15 16]\n",
            " [13 14 15 16 17]\n",
            " [14 15 16 17 18]\n",
            " [15 16 17 18 19]], shape=(16, 5), dtype=int64)\n",
            "tf.Tensor([ 0  1  2  3  4  5  6  7  8  9 10 11 12 13 14 15], shape=(16,), dtype=int64)\n"
          ],
          "name": "stdout"
        }
      ]
    },
    {
      "cell_type": "markdown",
      "metadata": {
        "id": "0uyaxFA6aDuS"
      },
      "source": [
        "반환 타입이 numpy array가 아니라 tf.Tensor이다.\n",
        "\n",
        "그리고 y의 값이 [0 1 2 3 4] -> 5가 아닌 0이다."
      ]
    },
    {
      "cell_type": "code",
      "metadata": {
        "id": "HmyrLGFXaLjf"
      },
      "source": [
        ""
      ],
      "execution_count": null,
      "outputs": []
    }
  ]
}