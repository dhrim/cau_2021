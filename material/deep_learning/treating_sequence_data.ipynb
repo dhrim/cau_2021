{
  "nbformat": 4,
  "nbformat_minor": 0,
  "metadata": {
    "colab": {
      "name": "treating_sequence_data.ipynb",
      "provenance": [],
      "collapsed_sections": []
    },
    "kernelspec": {
      "display_name": "Python 3",
      "name": "python3"
    },
    "language_info": {
      "name": "python"
    }
  },
  "cells": [
    {
      "cell_type": "markdown",
      "metadata": {
        "id": "3dmaAhE6c02q"
      },
      "source": [
        "# 순차열 데이터 처리\n",
        "\n",
        "순차열 데이터는 정형 데이터로 변형해서 처리한다."
      ]
    },
    {
      "cell_type": "markdown",
      "metadata": {
        "id": "KnTJOWBnOcDU"
      },
      "source": [
        "순차열 데이터가 다음과 같을 때\n",
        "```\n",
        "0  1  2  3  4  5  6  7  8  9 10 11 12 13 14 15 16 17 18 19\n",
        "<---- x ---->  y          : [0 1 2 3 4] -> 5\n",
        "   <---- x ---->  y       : [1 2 3 4 5] -> 6\n",
        "      <---- x ---->  y    : [2 3 4 5 6] -> 7\n",
        "         <---- x ---->  y : [3 4 5 6 7] -> 8\n",
        "```\n",
        "x는 길이 5이고, y는 x 다음 값으로 샘플링한다.\n",
        "\n",
        "결국 다음 순차열 데이터로\n",
        "```\n",
        "0 1 2 3 4 5 6 7 8 9 \n",
        "```\n",
        "\n",
        "다음과 같은 데이터로 정형 데이터를 생성한다.\n",
        "```\n",
        "0 1 2 3 4, 5\n",
        "1 2 3 4 5, 6\n",
        "2 3 4 5 6, 7\n",
        "3 4 5 6 7, 8\n",
        "4 5 6 7 8, 9\n",
        "```"
      ]
    },
    {
      "cell_type": "markdown",
      "metadata": {
        "id": "gbMiOVWvoSNV"
      },
      "source": [
        "## 수작업에 의한"
      ]
    },
    {
      "cell_type": "code",
      "metadata": {
        "colab": {
          "base_uri": "https://localhost:8080/"
        },
        "id": "sl_cK5lqoU5g",
        "outputId": "a9e99d23-d6a9-4e53-fcaf-3e3e9af94290"
      },
      "source": [
        "import numpy as np\n",
        "\n",
        "series = np.arange(20)\n",
        "print(series)"
      ],
      "execution_count": 1,
      "outputs": [
        {
          "output_type": "stream",
          "name": "stdout",
          "text": [
            "[ 0  1  2  3  4  5  6  7  8  9 10 11 12 13 14 15 16 17 18 19]\n"
          ]
        }
      ]
    },
    {
      "cell_type": "code",
      "metadata": {
        "colab": {
          "base_uri": "https://localhost:8080/"
        },
        "id": "2-T6eWcOoWWx",
        "outputId": "ad609d52-21a3-40dd-cedf-5f9b6ff37890"
      },
      "source": [
        "a_data_length = 5\n",
        "\n",
        "x = []\n",
        "y = []\n",
        "for i in range(len(series)):\n",
        "  if i+a_data_length+1 > len(series): break\n",
        "  a_data = series[i:i+a_data_length]\n",
        "  x.append(a_data)\n",
        "  y.append(series[i+a_data_length])\n",
        "\n",
        "x = np.array(x)\n",
        "y = np.array(y)\n",
        "\n",
        "print(x)\n",
        "print(y)"
      ],
      "execution_count": 2,
      "outputs": [
        {
          "output_type": "stream",
          "name": "stdout",
          "text": [
            "[[ 0  1  2  3  4]\n",
            " [ 1  2  3  4  5]\n",
            " [ 2  3  4  5  6]\n",
            " [ 3  4  5  6  7]\n",
            " [ 4  5  6  7  8]\n",
            " [ 5  6  7  8  9]\n",
            " [ 6  7  8  9 10]\n",
            " [ 7  8  9 10 11]\n",
            " [ 8  9 10 11 12]\n",
            " [ 9 10 11 12 13]\n",
            " [10 11 12 13 14]\n",
            " [11 12 13 14 15]\n",
            " [12 13 14 15 16]\n",
            " [13 14 15 16 17]\n",
            " [14 15 16 17 18]]\n",
            "[ 5  6  7  8  9 10 11 12 13 14 15 16 17 18 19]\n"
          ]
        }
      ]
    },
    {
      "cell_type": "markdown",
      "metadata": {
        "id": "zzMe4V8doPgJ"
      },
      "source": [
        "## TimeseriesGenerator에 의한"
      ]
    },
    {
      "cell_type": "code",
      "metadata": {
        "colab": {
          "base_uri": "https://localhost:8080/"
        },
        "id": "bZkNHGlQDtFY",
        "outputId": "70560c2e-e127-479b-fbd5-310ff3fd7dbb"
      },
      "source": [
        "import numpy as np\n",
        "\n",
        "series = np.arange(20)\n",
        "print(series)"
      ],
      "execution_count": 3,
      "outputs": [
        {
          "output_type": "stream",
          "name": "stdout",
          "text": [
            "[ 0  1  2  3  4  5  6  7  8  9 10 11 12 13 14 15 16 17 18 19]\n"
          ]
        }
      ]
    },
    {
      "cell_type": "code",
      "metadata": {
        "colab": {
          "base_uri": "https://localhost:8080/"
        },
        "id": "_0Kg5ITdN_5a",
        "outputId": "c4b6fe3f-055c-4c6b-9cc0-186982aa182a"
      },
      "source": [
        "from tensorflow.keras.preprocessing.sequence import TimeseriesGenerator\n",
        "\n",
        "BIG_ENOUGH = len(series)+999\n",
        "generator = TimeseriesGenerator(series, series, length=5, batch_size=BIG_ENOUGH)\n",
        "\n",
        "x, y = generator[0]\n",
        "print(x.shape)\n",
        "print(y.shape)\n",
        "\n",
        "print(x)\n",
        "print(y)"
      ],
      "execution_count": 4,
      "outputs": [
        {
          "output_type": "stream",
          "name": "stdout",
          "text": [
            "(15, 5)\n",
            "(15,)\n",
            "[[ 0  1  2  3  4]\n",
            " [ 1  2  3  4  5]\n",
            " [ 2  3  4  5  6]\n",
            " [ 3  4  5  6  7]\n",
            " [ 4  5  6  7  8]\n",
            " [ 5  6  7  8  9]\n",
            " [ 6  7  8  9 10]\n",
            " [ 7  8  9 10 11]\n",
            " [ 8  9 10 11 12]\n",
            " [ 9 10 11 12 13]\n",
            " [10 11 12 13 14]\n",
            " [11 12 13 14 15]\n",
            " [12 13 14 15 16]\n",
            " [13 14 15 16 17]\n",
            " [14 15 16 17 18]]\n",
            "[ 5  6  7  8  9 10 11 12 13 14 15 16 17 18 19]\n"
          ]
        }
      ]
    },
    {
      "cell_type": "markdown",
      "metadata": {
        "id": "Ia4HpKVwq0xI"
      },
      "source": [
        "# TimeseriesGenerator 옵션들"
      ]
    },
    {
      "cell_type": "markdown",
      "metadata": {
        "id": "fJ6lwtHmqaUp"
      },
      "source": [
        "## batch_size"
      ]
    },
    {
      "cell_type": "code",
      "metadata": {
        "colab": {
          "base_uri": "https://localhost:8080/"
        },
        "id": "Aa2T1DBTrDMP",
        "outputId": "c7d68461-40c7-4cec-ccad-68c12e8fab2f"
      },
      "source": [
        "import numpy as np\n",
        "\n",
        "series = np.arange(20)\n",
        "print(series)"
      ],
      "execution_count": 5,
      "outputs": [
        {
          "output_type": "stream",
          "name": "stdout",
          "text": [
            "[ 0  1  2  3  4  5  6  7  8  9 10 11 12 13 14 15 16 17 18 19]\n"
          ]
        }
      ]
    },
    {
      "cell_type": "code",
      "metadata": {
        "colab": {
          "base_uri": "https://localhost:8080/"
        },
        "id": "oieOQa6bqBkW",
        "outputId": "2182242a-f8a9-4de7-8622-de0275d27cf8"
      },
      "source": [
        "from tensorflow.keras.preprocessing.sequence import TimeseriesGenerator\n",
        "\n",
        "generator = TimeseriesGenerator(series, series, length=5, batch_size=4)\n",
        "\n",
        "print(\"generator[0]\")\n",
        "x, y = generator[0]\n",
        "print(\"x.shape =\",x.shape)\n",
        "print(\"y.shape =\",y.shape)\n",
        "\n",
        "print(x)\n",
        "print(y)\n",
        "print(\"\\n\")\n",
        "\n",
        "\n",
        "\n",
        "print(\"generator[1]\")\n",
        "x, y = generator[1]\n",
        "print(\"x.shape =\",x.shape)\n",
        "print(\"y.shape =\",y.shape)\n",
        "\n",
        "print(x)\n",
        "print(y)\n"
      ],
      "execution_count": 6,
      "outputs": [
        {
          "output_type": "stream",
          "name": "stdout",
          "text": [
            "generator[0]\n",
            "x.shape = (4, 5)\n",
            "y.shape = (4,)\n",
            "[[0 1 2 3 4]\n",
            " [1 2 3 4 5]\n",
            " [2 3 4 5 6]\n",
            " [3 4 5 6 7]]\n",
            "[5 6 7 8]\n",
            "\n",
            "\n",
            "generator[1]\n",
            "x.shape = (4, 5)\n",
            "y.shape = (4,)\n",
            "[[ 4  5  6  7  8]\n",
            " [ 5  6  7  8  9]\n",
            " [ 6  7  8  9 10]\n",
            " [ 7  8  9 10 11]]\n",
            "[ 9 10 11 12]\n"
          ]
        }
      ]
    },
    {
      "cell_type": "markdown",
      "metadata": {
        "id": "2YJeWOJyqd_2"
      },
      "source": [
        "## shuffle=True"
      ]
    },
    {
      "cell_type": "code",
      "metadata": {
        "colab": {
          "base_uri": "https://localhost:8080/"
        },
        "id": "p8nP7E5LrGSa",
        "outputId": "d54fd19a-8c85-4d59-8c87-7497406dda78"
      },
      "source": [
        "import numpy as np\n",
        "\n",
        "series = np.arange(20)\n",
        "print(series)"
      ],
      "execution_count": 7,
      "outputs": [
        {
          "output_type": "stream",
          "name": "stdout",
          "text": [
            "[ 0  1  2  3  4  5  6  7  8  9 10 11 12 13 14 15 16 17 18 19]\n"
          ]
        }
      ]
    },
    {
      "cell_type": "code",
      "metadata": {
        "colab": {
          "base_uri": "https://localhost:8080/"
        },
        "id": "jGc5XlblqhBO",
        "outputId": "fcf08f60-7429-4de6-9cfc-2d3e843b7796"
      },
      "source": [
        "from tensorflow.keras.preprocessing.sequence import TimeseriesGenerator\n",
        "\n",
        "# generator = TimeseriesGenerator(series, series, length=5, batch_size=4)\n",
        "generator = TimeseriesGenerator(series, series, length=5, batch_size=4, shuffle=True)\n",
        "\n",
        "print(\"generator[0]\")\n",
        "x, y = generator[0]\n",
        "print(\"x.shape =\",x.shape)\n",
        "print(\"y.shape =\",y.shape)\n",
        "\n",
        "print(x)\n",
        "print(y)\n",
        "print(\"\\n\")\n"
      ],
      "execution_count": 8,
      "outputs": [
        {
          "output_type": "stream",
          "name": "stdout",
          "text": [
            "generator[0]\n",
            "x.shape = (4, 5)\n",
            "y.shape = (4,)\n",
            "[[5 6 7 8 9]\n",
            " [0 1 2 3 4]\n",
            " [0 1 2 3 4]\n",
            " [5 6 7 8 9]]\n",
            "[10  5  5 10]\n",
            "\n",
            "\n"
          ]
        }
      ]
    },
    {
      "cell_type": "markdown",
      "metadata": {
        "id": "CG6eD4KirJAg"
      },
      "source": [
        "## sampling_rate"
      ]
    },
    {
      "cell_type": "code",
      "metadata": {
        "colab": {
          "base_uri": "https://localhost:8080/"
        },
        "id": "CeKETJlUrIgb",
        "outputId": "3cd4a1fd-0f97-4219-f3a0-1242d7fd8030"
      },
      "source": [
        "import numpy as np\n",
        "\n",
        "series = np.arange(20)\n",
        "print(series)"
      ],
      "execution_count": 9,
      "outputs": [
        {
          "output_type": "stream",
          "name": "stdout",
          "text": [
            "[ 0  1  2  3  4  5  6  7  8  9 10 11 12 13 14 15 16 17 18 19]\n"
          ]
        }
      ]
    },
    {
      "cell_type": "code",
      "metadata": {
        "colab": {
          "base_uri": "https://localhost:8080/"
        },
        "id": "J8wLmBYjrNrt",
        "outputId": "352ae202-38d3-48d1-bb9a-27a916f0a105"
      },
      "source": [
        "from tensorflow.keras.preprocessing.sequence import TimeseriesGenerator\n",
        "\n",
        "# generator = TimeseriesGenerator(series, series, length=5, batch_size=4)\n",
        "generator = TimeseriesGenerator(series, series, length=5, batch_size=4, sampling_rate=2)\n",
        "\n",
        "print(\"generator[0]\")\n",
        "x, y = generator[0]\n",
        "print(\"x.shape =\",x.shape)\n",
        "print(\"y.shape =\",y.shape)\n",
        "\n",
        "print(x)\n",
        "print(y)\n",
        "print(\"\\n\")\n"
      ],
      "execution_count": 10,
      "outputs": [
        {
          "output_type": "stream",
          "name": "stdout",
          "text": [
            "generator[0]\n",
            "x.shape = (4, 3)\n",
            "y.shape = (4,)\n",
            "[[0 2 4]\n",
            " [1 3 5]\n",
            " [2 4 6]\n",
            " [3 5 7]]\n",
            "[5 6 7 8]\n",
            "\n",
            "\n"
          ]
        }
      ]
    },
    {
      "cell_type": "markdown",
      "metadata": {
        "id": "zuNKFoZCreK_"
      },
      "source": [
        "## stride"
      ]
    },
    {
      "cell_type": "code",
      "metadata": {
        "colab": {
          "base_uri": "https://localhost:8080/"
        },
        "id": "IlIDs510rg6n",
        "outputId": "35ca59a3-111d-43fd-febf-6283f77e3729"
      },
      "source": [
        "import numpy as np\n",
        "\n",
        "series = np.arange(20)\n",
        "print(series)"
      ],
      "execution_count": 11,
      "outputs": [
        {
          "output_type": "stream",
          "name": "stdout",
          "text": [
            "[ 0  1  2  3  4  5  6  7  8  9 10 11 12 13 14 15 16 17 18 19]\n"
          ]
        }
      ]
    },
    {
      "cell_type": "code",
      "metadata": {
        "colab": {
          "base_uri": "https://localhost:8080/"
        },
        "id": "mw1KZuT9rg6o",
        "outputId": "6e26c30b-9d2a-4d78-8bae-433a75e5e691"
      },
      "source": [
        "from tensorflow.keras.preprocessing.sequence import TimeseriesGenerator\n",
        "\n",
        "# generator = TimeseriesGenerator(series, series, length=5, batch_size=4)\n",
        "generator = TimeseriesGenerator(series, series, length=5, batch_size=4, stride=2)\n",
        "\n",
        "print(\"generator[0]\")\n",
        "x, y = generator[0]\n",
        "print(\"x.shape =\",x.shape)\n",
        "print(\"y.shape =\",y.shape)\n",
        "\n",
        "print(x)\n",
        "print(y)\n",
        "print(\"\\n\")\n"
      ],
      "execution_count": 12,
      "outputs": [
        {
          "output_type": "stream",
          "name": "stdout",
          "text": [
            "generator[0]\n",
            "x.shape = (4, 5)\n",
            "y.shape = (4,)\n",
            "[[ 0  1  2  3  4]\n",
            " [ 2  3  4  5  6]\n",
            " [ 4  5  6  7  8]\n",
            " [ 6  7  8  9 10]]\n",
            "[ 5  7  9 11]\n",
            "\n",
            "\n"
          ]
        }
      ]
    },
    {
      "cell_type": "markdown",
      "metadata": {
        "id": "rWWsZYqnrvv6"
      },
      "source": [
        "## start_index, end_index"
      ]
    },
    {
      "cell_type": "code",
      "metadata": {
        "colab": {
          "base_uri": "https://localhost:8080/"
        },
        "id": "PT7xfiasr1iV",
        "outputId": "69547bf0-1acd-409d-f989-520c61ad62f7"
      },
      "source": [
        "import numpy as np\n",
        "\n",
        "series = np.arange(20)\n",
        "print(series)"
      ],
      "execution_count": 13,
      "outputs": [
        {
          "output_type": "stream",
          "name": "stdout",
          "text": [
            "[ 0  1  2  3  4  5  6  7  8  9 10 11 12 13 14 15 16 17 18 19]\n"
          ]
        }
      ]
    },
    {
      "cell_type": "code",
      "metadata": {
        "colab": {
          "base_uri": "https://localhost:8080/"
        },
        "id": "R1X4ubl5r1iW",
        "outputId": "c390d9a7-824a-4845-c81a-96816654ad6d"
      },
      "source": [
        "from tensorflow.keras.preprocessing.sequence import TimeseriesGenerator\n",
        "\n",
        "BIG_ENOUGH = len(series)+999\n",
        "# generator = TimeseriesGenerator(series, series, length=5, batch_size=4)\n",
        "train_generator = TimeseriesGenerator(series, series, length=5, batch_size=BIG_ENOUGH, end_index=12)\n",
        "test_generator = TimeseriesGenerator(series, series, length=5, batch_size=BIG_ENOUGH, start_index=12)\n",
        "\n",
        "print(\"train_generator[0]\")\n",
        "x, y = train_generator[0]\n",
        "print(\"x.shape =\",x.shape)\n",
        "print(\"y.shape =\",y.shape)\n",
        "\n",
        "print(x)\n",
        "print(y)\n",
        "print(\"\\n\")\n",
        "\n",
        "\n",
        "print(\"test_generator[0]\")\n",
        "x, y = test_generator[0]\n",
        "print(\"x.shape =\",x.shape)\n",
        "print(\"y.shape =\",y.shape)\n",
        "\n",
        "print(x)\n",
        "print(y)\n",
        "print(\"\\n\")\n"
      ],
      "execution_count": 14,
      "outputs": [
        {
          "output_type": "stream",
          "name": "stdout",
          "text": [
            "train_generator[0]\n",
            "x.shape = (8, 5)\n",
            "y.shape = (8,)\n",
            "[[ 0  1  2  3  4]\n",
            " [ 1  2  3  4  5]\n",
            " [ 2  3  4  5  6]\n",
            " [ 3  4  5  6  7]\n",
            " [ 4  5  6  7  8]\n",
            " [ 5  6  7  8  9]\n",
            " [ 6  7  8  9 10]\n",
            " [ 7  8  9 10 11]]\n",
            "[ 5  6  7  8  9 10 11 12]\n",
            "\n",
            "\n",
            "test_generator[0]\n",
            "x.shape = (3, 5)\n",
            "y.shape = (3,)\n",
            "[[12 13 14 15 16]\n",
            " [13 14 15 16 17]\n",
            " [14 15 16 17 18]]\n",
            "[17 18 19]\n",
            "\n",
            "\n"
          ]
        }
      ]
    },
    {
      "cell_type": "markdown",
      "metadata": {
        "id": "zIxCXaVMsa3P"
      },
      "source": [
        "## target"
      ]
    },
    {
      "cell_type": "code",
      "metadata": {
        "colab": {
          "base_uri": "https://localhost:8080/"
        },
        "id": "CuIWQerMsh8t",
        "outputId": "7ed7c588-36b5-4b12-ec7e-7a045d6ede77"
      },
      "source": [
        "import numpy as np\n",
        "\n",
        "series = np.arange(20)\n",
        "print(series)"
      ],
      "execution_count": 15,
      "outputs": [
        {
          "output_type": "stream",
          "name": "stdout",
          "text": [
            "[ 0  1  2  3  4  5  6  7  8  9 10 11 12 13 14 15 16 17 18 19]\n"
          ]
        }
      ]
    },
    {
      "cell_type": "code",
      "metadata": {
        "id": "GEy5jGkFslAM"
      },
      "source": [
        "X_SEQUENCE_LENGTH = 5\n",
        "\n",
        "target = np.empty_like(series)\n",
        "target = (series%2==0).astype(np.int) # is even"
      ],
      "execution_count": 16,
      "outputs": []
    },
    {
      "cell_type": "code",
      "metadata": {
        "colab": {
          "base_uri": "https://localhost:8080/"
        },
        "id": "3IrUUxOstAm7",
        "outputId": "8b9f225b-b1d1-4ec7-b03c-0a76f15d3ce7"
      },
      "source": [
        "print(series)\n",
        "print(target)"
      ],
      "execution_count": 17,
      "outputs": [
        {
          "output_type": "stream",
          "name": "stdout",
          "text": [
            "[ 0  1  2  3  4  5  6  7  8  9 10 11 12 13 14 15 16 17 18 19]\n",
            "[1 0 1 0 1 0 1 0 1 0 1 0 1 0 1 0 1 0 1 0]\n"
          ]
        }
      ]
    },
    {
      "cell_type": "code",
      "metadata": {
        "colab": {
          "base_uri": "https://localhost:8080/"
        },
        "id": "DyauDzOatsw4",
        "outputId": "b6744ce4-0dbd-4e48-a9b7-5fae7be8f65e"
      },
      "source": [
        "from tensorflow.keras.preprocessing.sequence import TimeseriesGenerator\n",
        "\n",
        "# generator = TimeseriesGenerator(series, series, length=5, batch_size=4)\n",
        "generator = TimeseriesGenerator(series, target, length=5, batch_size=4)\n",
        "\n",
        "print(\"generator[0]\")\n",
        "x, y = generator[0]\n",
        "print(\"x.shape =\",x.shape)\n",
        "print(\"y.shape =\",y.shape)\n",
        "\n",
        "print(x)\n",
        "print(y)\n",
        "print(\"\\n\")\n"
      ],
      "execution_count": 18,
      "outputs": [
        {
          "output_type": "stream",
          "name": "stdout",
          "text": [
            "generator[0]\n",
            "x.shape = (4, 5)\n",
            "y.shape = (4,)\n",
            "[[0 1 2 3 4]\n",
            " [1 2 3 4 5]\n",
            " [2 3 4 5 6]\n",
            " [3 4 5 6 7]]\n",
            "[0 1 0 1]\n",
            "\n",
            "\n"
          ]
        }
      ]
    },
    {
      "cell_type": "markdown",
      "metadata": {
        "id": "HlvjOIOSuAug"
      },
      "source": [
        "# 다중 순차열 데이터"
      ]
    },
    {
      "cell_type": "code",
      "metadata": {
        "colab": {
          "base_uri": "https://localhost:8080/"
        },
        "id": "PxJV1jJTu7Hg",
        "outputId": "2c8d31c3-b7e5-44d6-c0be-901992e06abf"
      },
      "source": [
        "import numpy as np\n",
        "\n",
        "series1 = np.arange(20)\n",
        "print(series1)\n",
        "\n",
        "series2 = np.arange(20)*-1\n",
        "print(series2)\n",
        "\n",
        "series = np.stack([series1, series2], axis=1)\n",
        "print(series)"
      ],
      "execution_count": 19,
      "outputs": [
        {
          "output_type": "stream",
          "name": "stdout",
          "text": [
            "[ 0  1  2  3  4  5  6  7  8  9 10 11 12 13 14 15 16 17 18 19]\n",
            "[  0  -1  -2  -3  -4  -5  -6  -7  -8  -9 -10 -11 -12 -13 -14 -15 -16 -17\n",
            " -18 -19]\n",
            "[[  0   0]\n",
            " [  1  -1]\n",
            " [  2  -2]\n",
            " [  3  -3]\n",
            " [  4  -4]\n",
            " [  5  -5]\n",
            " [  6  -6]\n",
            " [  7  -7]\n",
            " [  8  -8]\n",
            " [  9  -9]\n",
            " [ 10 -10]\n",
            " [ 11 -11]\n",
            " [ 12 -12]\n",
            " [ 13 -13]\n",
            " [ 14 -14]\n",
            " [ 15 -15]\n",
            " [ 16 -16]\n",
            " [ 17 -17]\n",
            " [ 18 -18]\n",
            " [ 19 -19]]\n"
          ]
        }
      ]
    },
    {
      "cell_type": "code",
      "metadata": {
        "colab": {
          "base_uri": "https://localhost:8080/"
        },
        "id": "P7NinMGov1pd",
        "outputId": "98272446-4319-485a-fffb-105617efb37e"
      },
      "source": [
        "from tensorflow.keras.preprocessing.sequence import TimeseriesGenerator\n",
        "\n",
        "generator = TimeseriesGenerator(series, series, length=5, batch_size=4)\n",
        "\n",
        "print(\"generator[0]\")\n",
        "x, y = generator[0]\n",
        "print(\"x.shape =\",x.shape)\n",
        "print(\"y.shape =\",y.shape)\n",
        "\n",
        "print(x)\n",
        "print(y)\n",
        "print(\"\\n\")\n"
      ],
      "execution_count": 20,
      "outputs": [
        {
          "output_type": "stream",
          "name": "stdout",
          "text": [
            "generator[0]\n",
            "x.shape = (4, 5, 2)\n",
            "y.shape = (4, 2)\n",
            "[[[ 0  0]\n",
            "  [ 1 -1]\n",
            "  [ 2 -2]\n",
            "  [ 3 -3]\n",
            "  [ 4 -4]]\n",
            "\n",
            " [[ 1 -1]\n",
            "  [ 2 -2]\n",
            "  [ 3 -3]\n",
            "  [ 4 -4]\n",
            "  [ 5 -5]]\n",
            "\n",
            " [[ 2 -2]\n",
            "  [ 3 -3]\n",
            "  [ 4 -4]\n",
            "  [ 5 -5]\n",
            "  [ 6 -6]]\n",
            "\n",
            " [[ 3 -3]\n",
            "  [ 4 -4]\n",
            "  [ 5 -5]\n",
            "  [ 6 -6]\n",
            "  [ 7 -7]]]\n",
            "[[ 5 -5]\n",
            " [ 6 -6]\n",
            " [ 7 -7]\n",
            " [ 8 -8]]\n",
            "\n",
            "\n"
          ]
        }
      ]
    },
    {
      "cell_type": "markdown",
      "metadata": {
        "id": "S3JnBu8xdERY"
      },
      "source": [
        "# sine 데이터 예"
      ]
    },
    {
      "cell_type": "code",
      "metadata": {
        "id": "IlfhRplJdDHw"
      },
      "source": [
        "import numpy as np\n",
        "\n",
        "series = np.arange(0,100,0.1)\n",
        "series = np.sin(series)"
      ],
      "execution_count": 21,
      "outputs": []
    },
    {
      "cell_type": "code",
      "metadata": {
        "colab": {
          "base_uri": "https://localhost:8080/",
          "height": 265
        },
        "id": "4r9mZ0QodSwi",
        "outputId": "a4317f87-e8fb-40e7-dc9c-4622f8058482"
      },
      "source": [
        "import matplotlib.pyplot as plt\n",
        "plt.plot(series)\n",
        "plt.show()"
      ],
      "execution_count": 22,
      "outputs": [
        {
          "output_type": "display_data",
          "data": {
            "image/png": "[encoded data removed]",
            "text/plain": [
              "<Figure size 432x288 with 1 Axes>"
            ]
          },
          "metadata": {
            "needs_background": "light"
          }
        }
      ]
    },
    {
      "cell_type": "code",
      "metadata": {
        "colab": {
          "base_uri": "https://localhost:8080/",
          "height": 265
        },
        "id": "Pzbj8Vundwh5",
        "outputId": "5be44185-7ee3-4efa-9636-729ef05a6022"
      },
      "source": [
        "from tensorflow.keras.preprocessing.sequence import TimeseriesGenerator\n",
        "\n",
        "split_index = int(len(series)*0.8)\n",
        "generator = TimeseriesGenerator(series, series, length=30, batch_size=128, \n",
        "                                shuffle=True, end_index=split_index)\n",
        "\n",
        "test_generator = TimeseriesGenerator(series, series, length=30, batch_size=128, \n",
        "                                     shuffle=False, start_index=split_index)\n",
        "\n",
        "x, y = generator[0]\n",
        "plt.plot(x[0])\n",
        "plt.plot([len(x[0])+1], y[0], 'o')\n",
        "plt.plot(x[1])\n",
        "plt.plot([len(x[1])+1], y[1], 'o')\n",
        "plt.show()"
      ],
      "execution_count": 23,
      "outputs": [
        {
          "output_type": "display_data",
          "data": {
            "image/png": "[encoded data removed]",
            "text/plain": [
              "<Figure size 432x288 with 1 Axes>"
            ]
          },
          "metadata": {
            "needs_background": "light"
          }
        }
      ]
    },
    {
      "cell_type": "markdown",
      "metadata": {
        "id": "LJdZ8wopgk_J"
      },
      "source": [
        "## by DNN"
      ]
    },
    {
      "cell_type": "code",
      "metadata": {
        "colab": {
          "base_uri": "https://localhost:8080/"
        },
        "id": "ATiEaxxvjPkU",
        "outputId": "59381845-2a64-4a36-bdbf-f097f5f1c595"
      },
      "source": [
        "from tensorflow.keras.models import Sequential\n",
        "from tensorflow.keras.layers import Dense, Input\n",
        "\n",
        "model = Sequential()\n",
        "model.add(Input((30,)))\n",
        "model.add(Dense(10, activation='relu'))\n",
        "model.add(Dense(1))\n",
        "model.compile(optimizer='adam', loss='mse', metrics=['mape'])\n",
        "\n",
        "model.fit(generator, steps_per_epoch=1, epochs=500, verbose=0)\n"
      ],
      "execution_count": 24,
      "outputs": [
        {
          "output_type": "execute_result",
          "data": {
            "text/plain": [
              "<keras.callbacks.History at 0x7f4370cd2050>"
            ]
          },
          "metadata": {},
          "execution_count": 24
        }
      ]
    },
    {
      "cell_type": "code",
      "metadata": {
        "colab": {
          "base_uri": "https://localhost:8080/",
          "height": 301
        },
        "id": "E_SEVDWCjXFV",
        "outputId": "1c6add43-1ef7-47aa-a263-ce58e3a17d9f"
      },
      "source": [
        "loss, mape = model.evaluate(test_generator)\n",
        "print(\"mape=\", mape)\n",
        "\n",
        "x, y = test_generator[0]\n",
        "y_ = model.predict(x)\n",
        "plt.plot(y, 'o', label='target')\n",
        "plt.plot(y_, label='predicted')\n",
        "plt.legend()\n",
        "plt.show()"
      ],
      "execution_count": 25,
      "outputs": [
        {
          "output_type": "stream",
          "name": "stdout",
          "text": [
            "2/2 [==============================] - 0s 8ms/step - loss: 3.9219e-05 - mape: 2.2351\n",
            "mape= 2.235077381134033\n"
          ]
        },
        {
          "output_type": "display_data",
          "data": {
            "image/png": "[encoded data removed]",
            "text/plain": [
              "<Figure size 432x288 with 1 Axes>"
            ]
          },
          "metadata": {
            "needs_background": "light"
          }
        }
      ]
    },
    {
      "cell_type": "markdown",
      "metadata": {
        "id": "mwSggfcAjMP7"
      },
      "source": [
        "## by LSTM"
      ]
    },
    {
      "cell_type": "code",
      "metadata": {
        "colab": {
          "base_uri": "https://localhost:8080/"
        },
        "id": "ke1ePiHld-Ta",
        "outputId": "9eba71cf-9fbb-4ade-ccf7-6d1c04d6ba21"
      },
      "source": [
        "from tensorflow.keras.models import Sequential\n",
        "from tensorflow.keras.layers import Dense, Input, Reshape, LSTM\n",
        "\n",
        "model = Sequential()\n",
        "model.add(Input((30,)))\n",
        "model.add(Reshape((30,1)))\n",
        "model.add(LSTM(100, activation='relu'))\n",
        "model.add(Dense(1))\n",
        "model.compile(optimizer='adam', loss='mse', metrics=['mape'])\n",
        "\n",
        "model.fit(generator, steps_per_epoch=1, epochs=500, verbose=0)\n"
      ],
      "execution_count": 26,
      "outputs": [
        {
          "output_type": "execute_result",
          "data": {
            "text/plain": [
              "<keras.callbacks.History at 0x7f436f2a9710>"
            ]
          },
          "metadata": {},
          "execution_count": 26
        }
      ]
    },
    {
      "cell_type": "code",
      "metadata": {
        "colab": {
          "base_uri": "https://localhost:8080/",
          "height": 301
        },
        "id": "dE-4jTAOhgZE",
        "outputId": "0cc24eb0-775e-49b6-d3ac-33ae1d90bd96"
      },
      "source": [
        "loss, mape = model.evaluate(test_generator)\n",
        "print(\"mape=\", mape)\n",
        "\n",
        "x, y = test_generator[0]\n",
        "y_ = model.predict(x)\n",
        "plt.plot(y, 'o', label='target')\n",
        "plt.plot(y_, label='predicted')\n",
        "plt.legend()\n",
        "plt.show()"
      ],
      "execution_count": 27,
      "outputs": [
        {
          "output_type": "stream",
          "name": "stdout",
          "text": [
            "2/2 [==============================] - 0s 13ms/step - loss: 1.0719e-06 - mape: 0.2488\n",
            "mape= 0.24877184629440308\n"
          ]
        },
        {
          "output_type": "display_data",
          "data": {
            "image/png": "[encoded data removed]",
            "text/plain": [
              "<Figure size 432x288 with 1 Axes>"
            ]
          },
          "metadata": {
            "needs_background": "light"
          }
        }
      ]
    },
    {
      "cell_type": "code",
      "metadata": {
        "id": "DuXhs5kBCLxp"
      },
      "source": [
        ""
      ],
      "execution_count": 27,
      "outputs": []
    },
    {
      "cell_type": "markdown",
      "metadata": {
        "id": "BndUOql7IZxz"
      },
      "source": [
        "# x와 y 사이의 offset\n",
        "\n",
        "순차열 데이터가 다음과 같을 때\n",
        "\n",
        "```\n",
        "0  1  2  3  4  5  6  7  8  9 10 11 12 13 14 15 16 17 18 19\n",
        "<---- x ---->  <-offset->  y          : [0 1 2 3 4] -> 9\n",
        "   <---- x ---->  <-offset-> y        : [1 2 3 4 5] -> 10\n",
        "      <---- x ---->  <-offset-> y     : [2 3 4 5 6] -> 11\n",
        "         <---- x ---->  <-offset-> y  : [3 4 5 6 7] -> 12\n",
        "```\n",
        "x는 길이 5이고, y는 offset 5 후의 값으로 샘플링한다."
      ]
    },
    {
      "cell_type": "code",
      "metadata": {
        "colab": {
          "base_uri": "https://localhost:8080/"
        },
        "id": "STab50_hJQdd",
        "outputId": "e1e80953-010a-4c19-eb07-d6f67160c776"
      },
      "source": [
        "import numpy as np\n",
        "\n",
        "series = np.arange(20)\n",
        "print(series)"
      ],
      "execution_count": 28,
      "outputs": [
        {
          "output_type": "stream",
          "name": "stdout",
          "text": [
            "[ 0  1  2  3  4  5  6  7  8  9 10 11 12 13 14 15 16 17 18 19]\n"
          ]
        }
      ]
    },
    {
      "cell_type": "code",
      "metadata": {
        "id": "5pXK9-pjJQde"
      },
      "source": [
        "OFFSET = 5\n",
        "\n",
        "target = series.copy()\n",
        "target = np.roll(target, -(OFFSET-1))\n",
        "\n",
        "# target 뒤쪽에 rolling되어 적용하면 안될 값들 0,1,2,3 값들이 있다.\n",
        "# [ 0  1  2  3  4  5  6  7  8  9 10 11 12 13 14 15 16 17 18 19]\n",
        "# [ 4  5  6  7  8  9 10 11 12 13 14 15 16 17 18 19  0  1  2  3]\n",
        "#\n",
        "# 이를 잘라낸다.\n",
        "# [ 0  1  2  3  4  5  6  7  8  9 10 11 12 13 14 15]\n",
        "# [ 4  5  6  7  8  9 10 11 12 13 14 15 16 17 18 19]\n",
        "\n",
        "# 결과적으로 배열의 길이자 짧아 진다\n",
        "series = series[:-(OFFSET-1)]\n",
        "target = target[:-(OFFSET-1)]\n"
      ],
      "execution_count": 29,
      "outputs": []
    },
    {
      "cell_type": "code",
      "metadata": {
        "colab": {
          "base_uri": "https://localhost:8080/"
        },
        "id": "btE8KDW-KbLl",
        "outputId": "d720b257-2d3a-46e1-a64f-d430cc39ef9a"
      },
      "source": [
        "print(series)\n",
        "print(target)"
      ],
      "execution_count": 30,
      "outputs": [
        {
          "output_type": "stream",
          "name": "stdout",
          "text": [
            "[ 0  1  2  3  4  5  6  7  8  9 10 11 12 13 14 15]\n",
            "[ 4  5  6  7  8  9 10 11 12 13 14 15 16 17 18 19]\n"
          ]
        }
      ]
    },
    {
      "cell_type": "code",
      "metadata": {
        "colab": {
          "base_uri": "https://localhost:8080/"
        },
        "id": "iFHMNBkSI-fQ",
        "outputId": "d678c6df-1505-4629-d4f7-f39b697647f7"
      },
      "source": [
        "from tensorflow.keras.preprocessing.sequence import TimeseriesGenerator\n",
        "\n",
        "BIG_ENOUGH = len(series)+999\n",
        "# generator = TimeseriesGenerator(series, series, length=5, batch_size=4)\n",
        "generator = TimeseriesGenerator(series, target, length=5, batch_size=BIG_ENOUGH)\n",
        "\n",
        "print(\"generator[0]\")\n",
        "x, y = generator[0]\n",
        "print(\"x.shape =\",x.shape)\n",
        "print(\"y.shape =\",y.shape)\n",
        "\n",
        "print(x)\n",
        "print(y)\n",
        "print(\"\\n\")\n"
      ],
      "execution_count": 31,
      "outputs": [
        {
          "output_type": "stream",
          "name": "stdout",
          "text": [
            "generator[0]\n",
            "x.shape = (11, 5)\n",
            "y.shape = (11,)\n",
            "[[ 0  1  2  3  4]\n",
            " [ 1  2  3  4  5]\n",
            " [ 2  3  4  5  6]\n",
            " [ 3  4  5  6  7]\n",
            " [ 4  5  6  7  8]\n",
            " [ 5  6  7  8  9]\n",
            " [ 6  7  8  9 10]\n",
            " [ 7  8  9 10 11]\n",
            " [ 8  9 10 11 12]\n",
            " [ 9 10 11 12 13]\n",
            " [10 11 12 13 14]]\n",
            "[ 9 10 11 12 13 14 15 16 17 18 19]\n",
            "\n",
            "\n"
          ]
        }
      ]
    },
    {
      "cell_type": "code",
      "metadata": {
        "id": "mflcOE9CLZjF"
      },
      "source": [
        ""
      ],
      "execution_count": 31,
      "outputs": []
    },
    {
      "cell_type": "markdown",
      "metadata": {
        "id": "MxFt22bUQt0Q"
      },
      "source": [
        "# 참고 - timeseries_dataset_from_array"
      ]
    },
    {
      "cell_type": "code",
      "metadata": {
        "colab": {
          "base_uri": "https://localhost:8080/"
        },
        "id": "uXBVTazTRTM2",
        "outputId": "004a1ef8-9a1d-4bb6-be01-a42a337f0a7e"
      },
      "source": [
        "import numpy as np\n",
        "\n",
        "series = np.arange(20)\n",
        "print(series)"
      ],
      "execution_count": 32,
      "outputs": [
        {
          "output_type": "stream",
          "name": "stdout",
          "text": [
            "[ 0  1  2  3  4  5  6  7  8  9 10 11 12 13 14 15 16 17 18 19]\n"
          ]
        }
      ]
    },
    {
      "cell_type": "code",
      "metadata": {
        "colab": {
          "base_uri": "https://localhost:8080/"
        },
        "id": "dwysoyI3QuTQ",
        "outputId": "30f22405-5b78-48d0-ff2a-0dbe34a54ce2"
      },
      "source": [
        "from tensorflow.keras.preprocessing import timeseries_dataset_from_array\n",
        "\n",
        "BIG_ENOUGH = len(series)+999\n",
        "\n",
        "dataset = timeseries_dataset_from_array(\n",
        "    series,\n",
        "    series,\n",
        "    sequence_length=5,\n",
        "    batch_size=BIG_ENOUGH,\n",
        ")\n",
        "\n",
        "for batch in dataset:\n",
        "\n",
        "  x, y = batch\n",
        "  print(x.shape)\n",
        "  print(y.shape)\n",
        "\n",
        "  print(x)\n",
        "  print(y)\n",
        "\n",
        "  break;\n"
      ],
      "execution_count": 33,
      "outputs": [
        {
          "output_type": "stream",
          "name": "stdout",
          "text": [
            "(16, 5)\n",
            "(16,)\n",
            "tf.Tensor(\n",
            "[[ 0  1  2  3  4]\n",
            " [ 1  2  3  4  5]\n",
            " [ 2  3  4  5  6]\n",
            " [ 3  4  5  6  7]\n",
            " [ 4  5  6  7  8]\n",
            " [ 5  6  7  8  9]\n",
            " [ 6  7  8  9 10]\n",
            " [ 7  8  9 10 11]\n",
            " [ 8  9 10 11 12]\n",
            " [ 9 10 11 12 13]\n",
            " [10 11 12 13 14]\n",
            " [11 12 13 14 15]\n",
            " [12 13 14 15 16]\n",
            " [13 14 15 16 17]\n",
            " [14 15 16 17 18]\n",
            " [15 16 17 18 19]], shape=(16, 5), dtype=int64)\n",
            "tf.Tensor([ 0  1  2  3  4  5  6  7  8  9 10 11 12 13 14 15], shape=(16,), dtype=int64)\n"
          ]
        }
      ]
    },
    {
      "cell_type": "markdown",
      "metadata": {
        "id": "0uyaxFA6aDuS"
      },
      "source": [
        "반환 타입이 numpy array가 아니라 tf.Tensor이다.\n",
        "\n",
        "그리고 y의 값이 [0 1 2 3 4] -> 5가 아닌 0이다."
      ]
    },
    {
      "cell_type": "code",
      "metadata": {
        "id": "HmyrLGFXaLjf"
      },
      "source": [
        ""
      ],
      "execution_count": 33,
      "outputs": []
    }
  ]
}