{
  "nbformat": 4,
  "nbformat_minor": 0,
  "metadata": {
    "colab": {
      "name": "template_text_data_sequential_generation.ipynb",
      "provenance": [],
      "collapsed_sections": [],
      "toc_visible": true
    },
    "kernelspec": {
      "display_name": "Python 3",
      "language": "python",
      "name": "python3"
    },
    "language_info": {
      "codemirror_mode": {
        "name": "ipython",
        "version": 3
      },
      "file_extension": ".py",
      "mimetype": "text/x-python",
      "name": "python",
      "nbconvert_exporter": "python",
      "pygments_lexer": "ipython3",
      "version": "3.7.0"
    },
    "accelerator": "GPU"
  },
  "cells": [
    {
      "cell_type": "markdown",
      "metadata": {
        "id": "ou-ygxNfo-Ec"
      },
      "source": [
        "## 셋업\n"
      ]
    },
    {
      "cell_type": "code",
      "metadata": {
        "id": "XKxToZdMYeEv"
      },
      "source": [
        "import numpy as np\n",
        "import matplotlib.pyplot as plt"
      ],
      "execution_count": 1,
      "outputs": []
    },
    {
      "cell_type": "code",
      "metadata": {
        "id": "M5OvBIiWo-Ec"
      },
      "source": [
        "TRAINING_SIZE = 5000   # 데이터의 갯수\n",
        "DIGITS = 2              # 덧셈에 사용될 숫자 자리수\n",
        "REVERSE = True          # 입력 문자열의 역순 여부. \n",
        "\n",
        "# 입력 문자열의 최대 길이.\n",
        "#      = 숫자길이 '+'   숫자길이\n",
        "MAXLEN = DIGITS +  1  + DIGITS\n"
      ],
      "execution_count": 2,
      "outputs": []
    },
    {
      "cell_type": "markdown",
      "metadata": {
        "id": "bYKxRgPOJHFo"
      },
      "source": [
        "# 데이터"
      ]
    },
    {
      "cell_type": "markdown",
      "metadata": {
        "id": "DWfm3GkaX5yH"
      },
      "source": [
        "## 입력 문제와 정답여부 생성\n"
      ]
    },
    {
      "cell_type": "code",
      "metadata": {
        "id": "COsdmY5vo-Eg",
        "colab": {
          "base_uri": "https://localhost:8080/"
        },
        "outputId": "073f1e30-e2ad-4ecd-cef4-f2007937b3d2"
      },
      "source": [
        "chars = \"0123456789+ \"\n",
        "\n",
        "questions = []\n",
        "expecteds = []\n",
        "\n",
        "while len(questions) < TRAINING_SIZE:\n",
        "\n",
        "    a = np.random.randint(10**DIGITS)\n",
        "    b = np.random.randint(10**DIGITS)\n",
        "    # a = 123\n",
        "    # b = 45\n",
        "\n",
        "    q = \"{}+{}\".format(a, b)\n",
        "    # q = '123+45'\n",
        "    ans = str(a+b)\n",
        "    # s = '168' = 123+45\n",
        "\n",
        "\n",
        "    query = q.ljust(MAXLEN, ' ')\n",
        "    # query = '123+45 '\n",
        "    ans = ans.ljust(DIGITS+1, ' ')\n",
        "\n",
        "    if REVERSE:\n",
        "        query = query[::-1]\n",
        "        # query = ' 961=54+321'\n",
        "\n",
        "    questions.append(query)\n",
        "    expecteds.append(ans)\n",
        "\n",
        "print(\"Total questions:\", len(questions))\n"
      ],
      "execution_count": 3,
      "outputs": [
        {
          "output_type": "stream",
          "text": [
            "Total questions: 5000\n"
          ],
          "name": "stdout"
        }
      ]
    },
    {
      "cell_type": "code",
      "metadata": {
        "colab": {
          "base_uri": "https://localhost:8080/"
        },
        "id": "t0CxfZv3YsRG",
        "outputId": "0fecaf8a-8cdd-4187-89fc-22191d043c03"
      },
      "source": [
        "for i in range(10):\n",
        "  print(\"'\"+questions[i]+\"' ---> '\"+expecteds[i]+\"'\")"
      ],
      "execution_count": 4,
      "outputs": [
        {
          "output_type": "stream",
          "text": [
            "'77+07' ---> '147'\n",
            "'98+21' ---> '101'\n",
            "'59+07' ---> '165'\n",
            "'22+09' ---> '112'\n",
            "'17+04' ---> '111'\n",
            "'84+85' ---> '106'\n",
            "'53+56' ---> '100'\n",
            "'28+47' ---> '156'\n",
            "'83+74' ---> '85 '\n",
            "'22+71' ---> '39 '\n"
          ],
          "name": "stdout"
        }
      ]
    },
    {
      "cell_type": "markdown",
      "metadata": {
        "id": "S7eFX6jIyrnx"
      },
      "source": [
        "## 데이터를 벡터화 하기"
      ]
    },
    {
      "cell_type": "markdown",
      "metadata": {
        "id": "4jO8skDb7p3f"
      },
      "source": [
        "인코딩 디코딩을 위한 유틸 클래스 CharacterTable"
      ]
    },
    {
      "cell_type": "code",
      "metadata": {
        "id": "Sqn4LUtHyi46"
      },
      "source": [
        "class CharacterTable:\n",
        "    def __init__(self, chars):\n",
        "        self.chars = sorted(set(chars))\n",
        "        self.char_indices = dict((c, i) for i, c in enumerate(self.chars))\n",
        "        self.indices_char = dict((i, c) for i, c in enumerate(self.chars))\n",
        "\n",
        "    def encode(self, C, num_rows):\n",
        "        x = np.zeros((num_rows, len(self.chars)))\n",
        "        for i, c in enumerate(C): # 각 자리 문자마다\n",
        "            x[i, self.char_indices[c]] = 1 # 각 줄의 index만 1로 만든다. one-hot encoding한다.\n",
        "        return x\n",
        "\n",
        "    def decode(self, x):\n",
        "        x = x.argmax(axis=-1)\n",
        "        return \"\".join(self.indices_char[x] for x in x)\n"
      ],
      "execution_count": 5,
      "outputs": []
    },
    {
      "cell_type": "code",
      "metadata": {
        "id": "kVYzei1I7XZb"
      },
      "source": [
        "ctable = CharacterTable(chars)"
      ],
      "execution_count": 6,
      "outputs": []
    },
    {
      "cell_type": "markdown",
      "metadata": {
        "id": "I_fJZA7b7Y-e"
      },
      "source": [
        "다음은 인코딩, 디코딩 예이다."
      ]
    },
    {
      "cell_type": "code",
      "metadata": {
        "id": "vwm40AA-r4tt",
        "colab": {
          "base_uri": "https://localhost:8080/"
        },
        "outputId": "bb297743-d2e4-4b79-dfa4-d76c99fc6514"
      },
      "source": [
        "# 원 문자열\n",
        "org_str = ' 12+5'\n",
        "print(f\"org_str='{org_str}'\")\n",
        "\n",
        "# 인코딩된 값\n",
        "encoded = ctable.encode(org_str, MAXLEN)\n",
        "# [[1. 0. 0. 0. 0. 0. 0. 0. 0. 0. 0. 0.]      <--- ' '\n",
        "#  [0. 0. 0. 1. 0. 0. 0. 0. 0. 0. 0. 0.]      <--- '1'\n",
        "#  [0. 0. 0. 0. 1. 0. 0. 0. 0. 0. 0. 0.]      <--- '2'\n",
        "#  [0. 0. 0. 0. 0. 1. 0. 0. 0. 0. 0. 0.]      <--- '3'\n",
        "#  [0. 1. 0. 0. 0. 0. 0. 0. 0. 0. 0. 0.]      <--- '+'\n",
        "#  [0. 0. 0. 0. 0. 0. 1. 0. 0. 0. 0. 0.]      <--- '4'\n",
        "#  [0. 0. 0. 0. 0. 0. 0. 1. 0. 0. 0. 0.]]     <--- '5'\n",
        "print(f\"encoded=\\n{encoded}\")\n",
        "print(f\"encoded.shape={encoded.shape}\")\n",
        "\n",
        "# 다시 디코딩해서 원복한 값\n",
        "decoded = ctable.decode(encoded)\n",
        "print(f\"decoded='{decoded}'\")"
      ],
      "execution_count": 7,
      "outputs": [
        {
          "output_type": "stream",
          "text": [
            "org_str=' 12+5'\n",
            "encoded=\n",
            "[[1. 0. 0. 0. 0. 0. 0. 0. 0. 0. 0. 0.]\n",
            " [0. 0. 0. 1. 0. 0. 0. 0. 0. 0. 0. 0.]\n",
            " [0. 0. 0. 0. 1. 0. 0. 0. 0. 0. 0. 0.]\n",
            " [0. 1. 0. 0. 0. 0. 0. 0. 0. 0. 0. 0.]\n",
            " [0. 0. 0. 0. 0. 0. 0. 1. 0. 0. 0. 0.]]\n",
            "encoded.shape=(5, 12)\n",
            "decoded=' 12+5'\n"
          ],
          "name": "stdout"
        }
      ]
    },
    {
      "cell_type": "code",
      "metadata": {
        "id": "d1QHj3MDo-Ej",
        "colab": {
          "base_uri": "https://localhost:8080/"
        },
        "outputId": "ef09001b-3bac-4445-81c2-5c4c9c27a460"
      },
      "source": [
        "print(\"Vectorization...\")\n",
        "\n",
        "x = np.zeros((len(questions), MAXLEN, len(chars)))\n",
        "y = np.zeros((len(questions), DIGITS + 1, len(chars)))\n",
        "for i, sentence in enumerate(questions):\n",
        "    x[i] = ctable.encode(sentence, MAXLEN)\n",
        "for i, sentence in enumerate(expecteds):\n",
        "    y[i] = ctable.encode(sentence, DIGITS + 1)\n",
        "\n",
        "split_at = int(len(x)*0.9)\n",
        "(train_x, test_x) = x[:split_at], x[split_at:]\n",
        "(train_y, test_y) = y[:split_at], y[split_at:]\n",
        "\n",
        "print(\"Training Data:\")\n",
        "print(train_x.shape)\n",
        "print(train_y.shape)\n",
        "\n",
        "print(\"Test Data:\")\n",
        "print(test_x.shape)\n",
        "print(test_y.shape)\n"
      ],
      "execution_count": 8,
      "outputs": [
        {
          "output_type": "stream",
          "text": [
            "Vectorization...\n",
            "Training Data:\n",
            "(4500, 5, 12)\n",
            "(4500, 3, 12)\n",
            "Test Data:\n",
            "(500, 5, 12)\n",
            "(500, 3, 12)\n"
          ],
          "name": "stdout"
        }
      ]
    },
    {
      "cell_type": "code",
      "metadata": {
        "id": "41UcKyn-q5Ez",
        "colab": {
          "base_uri": "https://localhost:8080/"
        },
        "outputId": "8c3b8767-007d-463d-ea3b-d0b1c8ce6efa"
      },
      "source": [
        "print(\"train_x[0]\\n\", train_x[0].astype(np.int))\n",
        "print()\n",
        "print(\"train_y[0]\\n\", train_y[0].astype(np.int))"
      ],
      "execution_count": 9,
      "outputs": [
        {
          "output_type": "stream",
          "text": [
            "train_x[0]\n",
            " [[0 0 0 0 0 0 0 0 0 1 0 0]\n",
            " [0 0 0 0 0 0 0 0 0 1 0 0]\n",
            " [0 1 0 0 0 0 0 0 0 0 0 0]\n",
            " [0 0 1 0 0 0 0 0 0 0 0 0]\n",
            " [0 0 0 0 0 0 0 0 0 1 0 0]]\n",
            "\n",
            "train_y[0]\n",
            " [[0 0 0 1 0 0 0 0 0 0 0 0]\n",
            " [0 0 0 0 0 0 1 0 0 0 0 0]\n",
            " [0 0 0 0 0 0 0 0 0 1 0 0]]\n"
          ],
          "name": "stdout"
        }
      ]
    },
    {
      "cell_type": "code",
      "metadata": {
        "id": "zw_RFfJvrGFM",
        "colab": {
          "base_uri": "https://localhost:8080/"
        },
        "outputId": "048b03b5-ca53-45df-cd51-f12cc7f8b6b0"
      },
      "source": [
        "for i in range(10):\n",
        "  print(\"'\"+ctable.decode(train_x[i])+\"' -> '\"+ctable.decode(train_y[i])+\"'\")"
      ],
      "execution_count": 10,
      "outputs": [
        {
          "output_type": "stream",
          "text": [
            "'77+07' -> '147'\n",
            "'98+21' -> '101'\n",
            "'59+07' -> '165'\n",
            "'22+09' -> '112'\n",
            "'17+04' -> '111'\n",
            "'84+85' -> '106'\n",
            "'53+56' -> '100'\n",
            "'28+47' -> '156'\n",
            "'83+74' -> '85 '\n",
            "'22+71' -> '39 '\n"
          ],
          "name": "stdout"
        }
      ]
    },
    {
      "cell_type": "markdown",
      "metadata": {
        "id": "i2liXf2Yo-En"
      },
      "source": [
        "# Template\n"
      ]
    },
    {
      "cell_type": "markdown",
      "metadata": {
        "id": "yP4uppTDaJdU"
      },
      "source": [
        "## LSTM"
      ]
    },
    {
      "cell_type": "code",
      "metadata": {
        "id": "GUr-sqkoo-En",
        "colab": {
          "base_uri": "https://localhost:8080/",
          "height": 795
        },
        "outputId": "33831446-a9d9-472b-9e1f-06ffdfa37ed1"
      },
      "source": [
        "from tensorflow import keras\n",
        "from tensorflow.keras.layers import Dense, RepeatVector, Flatten\n",
        "from tensorflow.keras.layers import Bidirectional, LSTM, GRU, Input\n",
        "\n",
        "input_shape = train_x.shape[1:]\n",
        "\n",
        "model = keras.Sequential()\n",
        "model.add(Input(input_shape))\n",
        "model.add(LSTM(128))\n",
        "model.add(RepeatVector(DIGITS + 1))\n",
        "model.add(LSTM(128, return_sequences=True))\n",
        "model.add(Dense(len(chars), activation=\"softmax\"))\n",
        "model.compile(loss=\"categorical_crossentropy\", optimizer=\"adam\", metrics=[\"accuracy\"])\n",
        "model.summary()\n",
        "\n",
        "history = model.fit(train_x, train_y, epochs=50, verbose=0, validation_split=0.1, batch_size=128)\n",
        "\n",
        "\n",
        "plt.plot(history.history['loss'])\n",
        "plt.plot(history.history['val_loss'])\n",
        "plt.show()\n",
        "\n",
        "\n",
        "loss, acc = model.evaluate(test_x, test_y)\n",
        "print(\"loss=\", loss)\n",
        "print(\"acc=\", acc)\n",
        "\n",
        "\n",
        "y_ = model.predict(test_x)\n",
        "\n",
        "for i in range(10):\n",
        "  print(\"q: {}, true: {}, predicted: {}\".format( \n",
        "      ctable.decode(test_x[i])[::-1], \n",
        "      ctable.decode(y_[i]), \n",
        "      ctable.decode(test_y[i])\n",
        "      ))"
      ],
      "execution_count": 11,
      "outputs": [
        {
          "output_type": "stream",
          "text": [
            "Model: \"sequential\"\n",
            "_________________________________________________________________\n",
            "Layer (type)                 Output Shape              Param #   \n",
            "=================================================================\n",
            "lstm (LSTM)                  (None, 128)               72192     \n",
            "_________________________________________________________________\n",
            "repeat_vector (RepeatVector) (None, 3, 128)            0         \n",
            "_________________________________________________________________\n",
            "lstm_1 (LSTM)                (None, 3, 128)            131584    \n",
            "_________________________________________________________________\n",
            "dense (Dense)                (None, 3, 12)             1548      \n",
            "=================================================================\n",
            "Total params: 205,324\n",
            "Trainable params: 205,324\n",
            "Non-trainable params: 0\n",
            "_________________________________________________________________\n"
          ],
          "name": "stdout"
        },
        {
          "output_type": "display_data",
          "data": {
            "image/png": "[encoded data removed]",
            "text/plain": [
              "<Figure size 432x288 with 1 Axes>"
            ]
          },
          "metadata": {
            "needs_background": "light"
          }
        },
        {
          "output_type": "stream",
          "text": [
            "16/16 [==============================] - 0s 4ms/step - loss: 0.8190 - accuracy: 0.7180\n",
            "loss= 0.818965494632721\n",
            "acc= 0.7179999947547913\n",
            "q: 94+9 , true: 100, predicted: 103\n",
            "q: 34+65, true: 90 , predicted: 99 \n",
            "q: 44+12, true: 56 , predicted: 56 \n",
            "q: 56+22, true: 78 , predicted: 78 \n",
            "q: 6+55 , true: 54 , predicted: 61 \n",
            "q: 47+69, true: 115, predicted: 116\n",
            "q: 15+93, true: 108, predicted: 108\n",
            "q: 27+43, true: 61 , predicted: 70 \n",
            "q: 1+18 , true: 10 , predicted: 19 \n",
            "q: 13+16, true: 38 , predicted: 29 \n"
          ],
          "name": "stdout"
        }
      ]
    },
    {
      "cell_type": "code",
      "metadata": {
        "id": "B3cDCMQCj3h0"
      },
      "source": [
        ""
      ],
      "execution_count": 11,
      "outputs": []
    },
    {
      "cell_type": "markdown",
      "metadata": {
        "id": "M1sV7tBtAWEz"
      },
      "source": [
        "## GRU"
      ]
    },
    {
      "cell_type": "code",
      "metadata": {
        "colab": {
          "base_uri": "https://localhost:8080/",
          "height": 792
        },
        "id": "Y3EEqdA7m4h3",
        "outputId": "d0856790-78bf-4635-cff5-daf96b00ca55"
      },
      "source": [
        "from tensorflow import keras\n",
        "from tensorflow.keras.layers import Dense, RepeatVector, Flatten\n",
        "from tensorflow.keras.layers import Bidirectional, LSTM, GRU, Input\n",
        "\n",
        "input_shape = train_x.shape[1:]\n",
        "\n",
        "model = keras.Sequential()\n",
        "model.add(Input(input_shape))\n",
        "model.add(GRU(128))\n",
        "model.add(RepeatVector(DIGITS + 1))\n",
        "model.add(GRU(128, return_sequences=True))\n",
        "model.add(Dense(len(chars), activation=\"softmax\"))\n",
        "model.compile(loss=\"categorical_crossentropy\", optimizer=\"adam\", metrics=[\"accuracy\"])\n",
        "model.summary()\n",
        "\n",
        "history = model.fit(train_x, train_y, epochs=50, verbose=0, validation_split=0.1, batch_size=128)\n",
        "\n",
        "\n",
        "plt.plot(history.history['loss'])\n",
        "plt.plot(history.history['val_loss'])\n",
        "plt.show()\n",
        "\n",
        "\n",
        "loss, acc = model.evaluate(test_x, test_y)\n",
        "print(\"loss=\", loss)\n",
        "print(\"acc=\", acc)\n",
        "\n",
        "\n",
        "y_ = model.predict(test_x)\n",
        "\n",
        "for i in range(10):\n",
        "  print(\"q: {}, true: {}, predicted: {}\".format( \n",
        "      ctable.decode(test_x[i])[::-1], \n",
        "      ctable.decode(y_[i]), \n",
        "      ctable.decode(test_y[i])\n",
        "      ))"
      ],
      "execution_count": 12,
      "outputs": [
        {
          "output_type": "stream",
          "text": [
            "Model: \"sequential_1\"\n",
            "_________________________________________________________________\n",
            "Layer (type)                 Output Shape              Param #   \n",
            "=================================================================\n",
            "gru (GRU)                    (None, 128)               54528     \n",
            "_________________________________________________________________\n",
            "repeat_vector_1 (RepeatVecto (None, 3, 128)            0         \n",
            "_________________________________________________________________\n",
            "gru_1 (GRU)                  (None, 3, 128)            99072     \n",
            "_________________________________________________________________\n",
            "dense_1 (Dense)              (None, 3, 12)             1548      \n",
            "=================================================================\n",
            "Total params: 155,148\n",
            "Trainable params: 155,148\n",
            "Non-trainable params: 0\n",
            "_________________________________________________________________\n"
          ],
          "name": "stdout"
        },
        {
          "output_type": "display_data",
          "data": {
            "image/png": "[encoded data removed]",
            "text/plain": [
              "<Figure size 432x288 with 1 Axes>"
            ]
          },
          "metadata": {
            "needs_background": "light"
          }
        },
        {
          "output_type": "stream",
          "text": [
            "16/16 [==============================] - 0s 3ms/step - loss: 0.4764 - accuracy: 0.8540\n",
            "loss= 0.47638633847236633\n",
            "acc= 0.8539999723434448\n",
            "q: 94+9 , true: 102, predicted: 103\n",
            "q: 34+65, true: 190, predicted: 99 \n",
            "q: 44+12, true: 56 , predicted: 56 \n",
            "q: 56+22, true: 78 , predicted: 78 \n",
            "q: 6+55 , true: 54 , predicted: 61 \n",
            "q: 47+69, true: 116, predicted: 116\n",
            "q: 15+93, true: 108, predicted: 108\n",
            "q: 27+43, true: 70 , predicted: 70 \n",
            "q: 1+18 , true: 28 , predicted: 19 \n",
            "q: 13+16, true: 39 , predicted: 29 \n"
          ],
          "name": "stdout"
        }
      ]
    },
    {
      "cell_type": "markdown",
      "metadata": {
        "id": "jCBiKCg9AeHT"
      },
      "source": [
        "## Bidirectional + LSTM"
      ]
    },
    {
      "cell_type": "code",
      "metadata": {
        "colab": {
          "base_uri": "https://localhost:8080/",
          "height": 792
        },
        "id": "ER0YZAxnm6o4",
        "outputId": "41ed3a7f-ce39-45f9-f894-513fe009bb08"
      },
      "source": [
        "from tensorflow import keras\n",
        "from tensorflow.keras.layers import Dense, RepeatVector, Flatten\n",
        "from tensorflow.keras.layers import Bidirectional, LSTM, GRU, Input\n",
        "\n",
        "input_shape = train_x.shape[1:]\n",
        "\n",
        "model = keras.Sequential()\n",
        "model.add(Input(input_shape))\n",
        "model.add(Bidirectional(LSTM(128)))\n",
        "model.add(RepeatVector(DIGITS + 1))\n",
        "model.add(Bidirectional(LSTM(128, return_sequences=True)))\n",
        "model.add(Dense(len(chars), activation=\"softmax\"))\n",
        "model.compile(loss=\"categorical_crossentropy\", optimizer=\"adam\", metrics=[\"accuracy\"])\n",
        "model.summary()\n",
        "\n",
        "history = model.fit(train_x, train_y, epochs=50, verbose=0, validation_split=0.1, batch_size=128)\n",
        "\n",
        "\n",
        "plt.plot(history.history['loss'])\n",
        "plt.plot(history.history['val_loss'])\n",
        "plt.show()\n",
        "\n",
        "\n",
        "loss, acc = model.evaluate(test_x, test_y)\n",
        "print(\"loss=\", loss)\n",
        "print(\"acc=\", acc)\n",
        "\n",
        "\n",
        "y_ = model.predict(test_x)\n",
        "\n",
        "for i in range(10):\n",
        "  print(\"q: {}, true: {}, predicted: {}\".format( \n",
        "      ctable.decode(test_x[i])[::-1], \n",
        "      ctable.decode(y_[i]), \n",
        "      ctable.decode(test_y[i])\n",
        "      ))"
      ],
      "execution_count": 13,
      "outputs": [
        {
          "output_type": "stream",
          "text": [
            "Model: \"sequential_2\"\n",
            "_________________________________________________________________\n",
            "Layer (type)                 Output Shape              Param #   \n",
            "=================================================================\n",
            "bidirectional (Bidirectional (None, 256)               144384    \n",
            "_________________________________________________________________\n",
            "repeat_vector_2 (RepeatVecto (None, 3, 256)            0         \n",
            "_________________________________________________________________\n",
            "bidirectional_1 (Bidirection (None, 3, 256)            394240    \n",
            "_________________________________________________________________\n",
            "dense_2 (Dense)              (None, 3, 12)             3084      \n",
            "=================================================================\n",
            "Total params: 541,708\n",
            "Trainable params: 541,708\n",
            "Non-trainable params: 0\n",
            "_________________________________________________________________\n"
          ],
          "name": "stdout"
        },
        {
          "output_type": "display_data",
          "data": {
            "image/png": "[encoded data removed]",
            "text/plain": [
              "<Figure size 432x288 with 1 Axes>"
            ]
          },
          "metadata": {
            "needs_background": "light"
          }
        },
        {
          "output_type": "stream",
          "text": [
            "16/16 [==============================] - 0s 5ms/step - loss: 0.2183 - accuracy: 0.9520\n",
            "loss= 0.21830615401268005\n",
            "acc= 0.9520000219345093\n",
            "q: 94+9 , true: 103, predicted: 103\n",
            "q: 34+65, true: 99 , predicted: 99 \n",
            "q: 44+12, true: 56 , predicted: 56 \n",
            "q: 56+22, true: 78 , predicted: 78 \n",
            "q: 6+55 , true: 60 , predicted: 61 \n",
            "q: 47+69, true: 116, predicted: 116\n",
            "q: 15+93, true: 108, predicted: 108\n",
            "q: 27+43, true: 70 , predicted: 70 \n",
            "q: 1+18 , true: 18 , predicted: 19 \n",
            "q: 13+16, true: 39 , predicted: 29 \n"
          ],
          "name": "stdout"
        }
      ]
    },
    {
      "cell_type": "markdown",
      "metadata": {
        "id": "TfY_p_SJA5Rf"
      },
      "source": [
        "## Bidirectional + GRU"
      ]
    },
    {
      "cell_type": "code",
      "metadata": {
        "id": "azGH_FDbwqHT",
        "colab": {
          "base_uri": "https://localhost:8080/",
          "height": 792
        },
        "outputId": "2248baa5-896a-4673-a5ca-7e4605d7761f"
      },
      "source": [
        "from tensorflow import keras\n",
        "from tensorflow.keras.layers import Dense, RepeatVector, Flatten\n",
        "from tensorflow.keras.layers import Bidirectional, LSTM, GRU, Input\n",
        "\n",
        "input_shape = train_x.shape[1:]\n",
        "\n",
        "model = keras.Sequential()\n",
        "model.add(Input(input_shape))\n",
        "model.add(Bidirectional(GRU(128)))\n",
        "model.add(RepeatVector(DIGITS + 1))\n",
        "model.add(Bidirectional(GRU(128, return_sequences=True)))\n",
        "model.add(Dense(len(chars), activation=\"softmax\"))\n",
        "model.compile(loss=\"categorical_crossentropy\", optimizer=\"adam\", metrics=[\"accuracy\"])\n",
        "model.summary()\n",
        "\n",
        "history = model.fit(train_x, train_y, epochs=50, verbose=0, validation_split=0.1, batch_size=128)\n",
        "\n",
        "\n",
        "plt.plot(history.history['loss'])\n",
        "plt.plot(history.history['val_loss'])\n",
        "plt.show()\n",
        "\n",
        "\n",
        "loss, acc = model.evaluate(test_x, test_y)\n",
        "print(\"loss=\", loss)\n",
        "print(\"acc=\", acc)\n",
        "\n",
        "\n",
        "y_ = model.predict(test_x)\n",
        "\n",
        "for i in range(10):\n",
        "  print(\"q: {}, true: {}, predicted: {}\".format( \n",
        "      ctable.decode(test_x[i])[::-1], \n",
        "      ctable.decode(y_[i]), \n",
        "      ctable.decode(test_y[i])\n",
        "      ))"
      ],
      "execution_count": 14,
      "outputs": [
        {
          "output_type": "stream",
          "text": [
            "Model: \"sequential_3\"\n",
            "_________________________________________________________________\n",
            "Layer (type)                 Output Shape              Param #   \n",
            "=================================================================\n",
            "bidirectional_2 (Bidirection (None, 256)               109056    \n",
            "_________________________________________________________________\n",
            "repeat_vector_3 (RepeatVecto (None, 3, 256)            0         \n",
            "_________________________________________________________________\n",
            "bidirectional_3 (Bidirection (None, 3, 256)            296448    \n",
            "_________________________________________________________________\n",
            "dense_3 (Dense)              (None, 3, 12)             3084      \n",
            "=================================================================\n",
            "Total params: 408,588\n",
            "Trainable params: 408,588\n",
            "Non-trainable params: 0\n",
            "_________________________________________________________________\n"
          ],
          "name": "stdout"
        },
        {
          "output_type": "display_data",
          "data": {
            "image/png": "[encoded data removed]",
            "text/plain": [
              "<Figure size 432x288 with 1 Axes>"
            ]
          },
          "metadata": {
            "needs_background": "light"
          }
        },
        {
          "output_type": "stream",
          "text": [
            "16/16 [==============================] - 0s 4ms/step - loss: 0.2024 - accuracy: 0.9580\n",
            "loss= 0.2024359405040741\n",
            "acc= 0.9580000042915344\n",
            "q: 94+9 , true: 104, predicted: 103\n",
            "q: 34+65, true: 99 , predicted: 99 \n",
            "q: 44+12, true: 56 , predicted: 56 \n",
            "q: 56+22, true: 78 , predicted: 78 \n",
            "q: 6+55 , true: 62 , predicted: 61 \n",
            "q: 47+69, true: 116, predicted: 116\n",
            "q: 15+93, true: 108, predicted: 108\n",
            "q: 27+43, true: 70 , predicted: 70 \n",
            "q: 1+18 , true: 18 , predicted: 19 \n",
            "q: 13+16, true: 29 , predicted: 29 \n"
          ],
          "name": "stdout"
        }
      ]
    },
    {
      "cell_type": "markdown",
      "metadata": {
        "id": "P3aO3WEwA-lR"
      },
      "source": [
        "## stacked"
      ]
    },
    {
      "cell_type": "code",
      "metadata": {
        "colab": {
          "base_uri": "https://localhost:8080/",
          "height": 868
        },
        "id": "kjlbPMfTm750",
        "outputId": "cb4ef9e6-dd78-4545-8189-275faa0e9380"
      },
      "source": [
        "from tensorflow import keras\n",
        "from tensorflow.keras.layers import Dense, RepeatVector, Flatten\n",
        "from tensorflow.keras.layers import Bidirectional, LSTM, GRU, Input\n",
        "\n",
        "input_shape = train_x.shape[1:]\n",
        "\n",
        "model = keras.Sequential()\n",
        "model.add(Input(input_shape))\n",
        "model.add(LSTM(128, return_sequences=True))\n",
        "model.add(LSTM(128))\n",
        "model.add(RepeatVector(DIGITS + 1))\n",
        "model.add(LSTM(128, return_sequences=True))\n",
        "model.add(LSTM(128, return_sequences=True))\n",
        "model.add(Dense(len(chars), activation=\"softmax\"))\n",
        "model.compile(loss=\"categorical_crossentropy\", optimizer=\"adam\", metrics=[\"accuracy\"])\n",
        "model.summary()\n",
        "\n",
        "history = model.fit(train_x, train_y, epochs=50, verbose=0, validation_split=0.1, batch_size=128)\n",
        "\n",
        "\n",
        "plt.plot(history.history['loss'])\n",
        "plt.plot(history.history['val_loss'])\n",
        "plt.show()\n",
        "\n",
        "\n",
        "loss, acc = model.evaluate(test_x, test_y)\n",
        "print(\"loss=\", loss)\n",
        "print(\"acc=\", acc)\n",
        "\n",
        "\n",
        "y_ = model.predict(test_x)\n",
        "\n",
        "for i in range(10):\n",
        "  print(\"q: {}, true: {}, predicted: {}\".format( \n",
        "      ctable.decode(test_x[i])[::-1], \n",
        "      ctable.decode(y_[i]), \n",
        "      ctable.decode(test_y[i])\n",
        "      ))"
      ],
      "execution_count": 15,
      "outputs": [
        {
          "output_type": "stream",
          "text": [
            "Model: \"sequential_4\"\n",
            "_________________________________________________________________\n",
            "Layer (type)                 Output Shape              Param #   \n",
            "=================================================================\n",
            "lstm_4 (LSTM)                (None, 5, 128)            72192     \n",
            "_________________________________________________________________\n",
            "lstm_5 (LSTM)                (None, 128)               131584    \n",
            "_________________________________________________________________\n",
            "repeat_vector_4 (RepeatVecto (None, 3, 128)            0         \n",
            "_________________________________________________________________\n",
            "lstm_6 (LSTM)                (None, 3, 128)            131584    \n",
            "_________________________________________________________________\n",
            "lstm_7 (LSTM)                (None, 3, 128)            131584    \n",
            "_________________________________________________________________\n",
            "dense_4 (Dense)              (None, 3, 12)             1548      \n",
            "=================================================================\n",
            "Total params: 468,492\n",
            "Trainable params: 468,492\n",
            "Non-trainable params: 0\n",
            "_________________________________________________________________\n"
          ],
          "name": "stdout"
        },
        {
          "output_type": "display_data",
          "data": {
            "image/png": "[encoded data removed]",
            "text/plain": [
              "<Figure size 432x288 with 1 Axes>"
            ]
          },
          "metadata": {
            "needs_background": "light"
          }
        },
        {
          "output_type": "stream",
          "text": [
            "16/16 [==============================] - 0s 4ms/step - loss: 0.9293 - accuracy: 0.6633\n",
            "loss= 0.9292982220649719\n",
            "acc= 0.6633333563804626\n",
            "q: 94+9 , true: 100, predicted: 103\n",
            "q: 34+65, true: 95 , predicted: 99 \n",
            "q: 44+12, true: 59 , predicted: 56 \n",
            "q: 56+22, true: 77 , predicted: 78 \n",
            "q: 6+55 , true: 60 , predicted: 61 \n",
            "q: 47+69, true: 115, predicted: 116\n",
            "q: 15+93, true: 108, predicted: 108\n",
            "q: 27+43, true: 77 , predicted: 70 \n",
            "q: 1+18 , true: 24 , predicted: 19 \n",
            "q: 13+16, true: 34 , predicted: 29 \n"
          ],
          "name": "stdout"
        }
      ]
    },
    {
      "cell_type": "code",
      "metadata": {
        "id": "emE8KhR9BF-Z"
      },
      "source": [
        ""
      ],
      "execution_count": 15,
      "outputs": []
    }
  ]
}