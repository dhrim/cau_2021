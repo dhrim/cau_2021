{
  "nbformat": 4,
  "nbformat_minor": 0,
  "metadata": {
    "colab": {
      "name": "boston_house_price_regression.ipynb",
      "provenance": [],
      "collapsed_sections": []
    },
    "kernelspec": {
      "name": "python3",
      "display_name": "Python 3"
    },
    "language_info": {
      "name": "python"
    }
  },
  "cells": [
    {
      "cell_type": "markdown",
      "metadata": {
        "id": "vdevF3bdzylf"
      },
      "source": [
        "# 문제\n",
        "```\n",
        "1. 데이터들을 normalization\n",
        "    각 feature별로\n",
        "    출력값 \n",
        "2. DNN. 2->1......  13->1\n",
        "3. metric. 'mape'\n",
        "```\n",
        "\n",
        "```\n",
        "요구사항\n",
        "  - train_loss, val_loss 그래프 그리기\n",
        "  - test데이터에 대한 mape 출력\n",
        "\n",
        "  - 오버피팅 완화해서 성능 개선해 보기\n",
        "```"
      ]
    },
    {
      "cell_type": "markdown",
      "metadata": {
        "id": "CBGKFjlkO45b"
      },
      "source": [
        "# importing\n"
      ]
    },
    {
      "cell_type": "code",
      "metadata": {
        "id": "k3u2Jcwey2OG"
      },
      "source": [
        "import numpy as np\n",
        "import matplotlib.pyplot as plt\n",
        "\n",
        "import tensorflow as tf\n",
        "from tensorflow import keras\n",
        "from tensorflow.keras import optimizers\n",
        "from tensorflow.keras.layers import Dense, Flatten, Input\n",
        "\n",
        "import time"
      ],
      "execution_count": 1,
      "outputs": []
    },
    {
      "cell_type": "markdown",
      "metadata": {
        "id": "kGVrxNwVO7L0"
      },
      "source": [
        "# data loading"
      ]
    },
    {
      "cell_type": "code",
      "metadata": {
        "id": "HKyhzxEKyjZH",
        "colab": {
          "base_uri": "https://localhost:8080/"
        },
        "outputId": "01a24378-9358-4efc-fedf-f4b3230b4985"
      },
      "source": [
        "(raw_train_x, raw_train_y), (raw_test_x, raw_test_y) = tf.keras.datasets.boston_housing.load_data()"
      ],
      "execution_count": 2,
      "outputs": [
        {
          "output_type": "stream",
          "name": "stdout",
          "text": [
            "Downloading data from https://storage.googleapis.com/tensorflow/tf-keras-datasets/boston_housing.npz\n",
            "57344/57026 [==============================] - 0s 0us/step\n",
            "65536/57026 [==================================] - 0s 0us/step\n"
          ]
        }
      ]
    },
    {
      "cell_type": "code",
      "metadata": {
        "colab": {
          "base_uri": "https://localhost:8080/"
        },
        "id": "KIebGkT6y5Zr",
        "outputId": "45b111c8-2b39-4282-9595-51d71532337b"
      },
      "source": [
        "print(raw_train_x.shape)\n",
        "print(raw_train_y.shape)\n",
        "print(raw_test_x.shape)\n",
        "print(raw_test_y.shape)\n",
        "      "
      ],
      "execution_count": 3,
      "outputs": [
        {
          "output_type": "stream",
          "name": "stdout",
          "text": [
            "(404, 13)\n",
            "(404,)\n",
            "(102, 13)\n",
            "(102,)\n"
          ]
        }
      ]
    },
    {
      "cell_type": "code",
      "metadata": {
        "colab": {
          "base_uri": "https://localhost:8080/"
        },
        "id": "dUsnwujqzcDx",
        "outputId": "2f61013a-8189-4d4c-b51d-5d2aadf5b731"
      },
      "source": [
        "print(raw_train_x[0])"
      ],
      "execution_count": 4,
      "outputs": [
        {
          "output_type": "stream",
          "name": "stdout",
          "text": [
            "[  1.23247   0.        8.14      0.        0.538     6.142    91.7\n",
            "   3.9769    4.      307.       21.      396.9      18.72   ]\n"
          ]
        }
      ]
    },
    {
      "cell_type": "code",
      "metadata": {
        "colab": {
          "base_uri": "https://localhost:8080/"
        },
        "id": "TUSpa5OjzFOm",
        "outputId": "927179f3-f33c-4d13-ddec-33d7f3ad07a1"
      },
      "source": [
        "print(raw_train_y[:10])"
      ],
      "execution_count": 5,
      "outputs": [
        {
          "output_type": "stream",
          "name": "stdout",
          "text": [
            "[15.2 42.3 50.  21.1 17.7 18.5 11.3 15.6 15.6 14.4]\n"
          ]
        }
      ]
    },
    {
      "cell_type": "markdown",
      "metadata": {
        "id": "w9nlNVp6T6BN"
      },
      "source": [
        "# 데이터 살펴보기"
      ]
    },
    {
      "cell_type": "code",
      "metadata": {
        "colab": {
          "base_uri": "https://localhost:8080/",
          "height": 1000
        },
        "id": "qRjjyTIVR4Xl",
        "outputId": "be048662-aff6-4946-9eb2-1fcc1410a2b2"
      },
      "source": [
        "for i in range(13):\n",
        "  plt.hist(raw_train_x[:,i], bins=100)\n",
        "  plt.show()"
      ],
      "execution_count": 6,
      "outputs": [
        {
          "output_type": "display_data",
          "data": {
            "image/png": "[encoded data removed]",
            "text/plain": [
              "<Figure size 432x288 with 1 Axes>"
            ]
          },
          "metadata": {
            "needs_background": "light"
          }
        },
        {
          "output_type": "display_data",
          "data": {
            "image/png": "[encoded data removed]",
            "text/plain": [
              "<Figure size 432x288 with 1 Axes>"
            ]
          },
          "metadata": {
            "needs_background": "light"
          }
        },
        {
          "output_type": "display_data",
          "data": {
            "image/png": "[encoded data removed]",
            "text/plain": [
              "<Figure size 432x288 with 1 Axes>"
            ]
          },
          "metadata": {
            "needs_background": "light"
          }
        },
        {
          "output_type": "display_data",
          "data": {
            "image/png": "[encoded data removed]",
            "text/plain": [
              "<Figure size 432x288 with 1 Axes>"
            ]
          },
          "metadata": {
            "needs_background": "light"
          }
        },
        {
          "output_type": "display_data",
          "data": {
            "image/png": "[encoded data removed]",
            "text/plain": [
              "<Figure size 432x288 with 1 Axes>"
            ]
          },
          "metadata": {
            "needs_background": "light"
          }
        },
        {
          "output_type": "display_data",
          "data": {
            "image/png": "[encoded data removed]",
            "text/plain": [
              "<Figure size 432x288 with 1 Axes>"
            ]
          },
          "metadata": {
            "needs_background": "light"
          }
        },
        {
          "output_type": "display_data",
          "data": {
            "image/png": "[encoded data removed]",
            "text/plain": [
              "<Figure size 432x288 with 1 Axes>"
            ]
          },
          "metadata": {
            "needs_background": "light"
          }
        },
        {
          "output_type": "display_data",
          "data": {
            "image/png": "[encoded data removed]",
            "text/plain": [
              "<Figure size 432x288 with 1 Axes>"
            ]
          },
          "metadata": {
            "needs_background": "light"
          }
        },
        {
          "output_type": "display_data",
          "data": {
            "image/png": "[encoded data removed]",
            "text/plain": [
              "<Figure size 432x288 with 1 Axes>"
            ]
          },
          "metadata": {
            "needs_background": "light"
          }
        },
        {
          "output_type": "display_data",
          "data": {
            "image/png": "[encoded data removed]",
            "text/plain": [
              "<Figure size 432x288 with 1 Axes>"
            ]
          },
          "metadata": {
            "needs_background": "light"
          }
        },
        {
          "output_type": "display_data",
          "data": {
            "image/png": "[encoded data removed]",
            "text/plain": [
              "<Figure size 432x288 with 1 Axes>"
            ]
          },
          "metadata": {
            "needs_background": "light"
          }
        },
        {
          "output_type": "display_data",
          "data": {
            "image/png": "[encoded data removed]",
            "text/plain": [
              "<Figure size 432x288 with 1 Axes>"
            ]
          },
          "metadata": {
            "needs_background": "light"
          }
        },
        {
          "output_type": "display_data",
          "data": {
            "image/png": "[encoded data removed]",
            "text/plain": [
              "<Figure size 432x288 with 1 Axes>"
            ]
          },
          "metadata": {
            "needs_background": "light"
          }
        }
      ]
    },
    {
      "cell_type": "code",
      "metadata": {
        "colab": {
          "base_uri": "https://localhost:8080/",
          "height": 265
        },
        "id": "upCEPkBCzMnV",
        "outputId": "bf2e3881-5768-430d-8a09-b880df09dee0"
      },
      "source": [
        "plt.hist(raw_train_y, bins=100)\n",
        "plt.show()"
      ],
      "execution_count": 7,
      "outputs": [
        {
          "output_type": "display_data",
          "data": {
            "image/png": "[encoded data removed]",
            "text/plain": [
              "<Figure size 432x288 with 1 Axes>"
            ]
          },
          "metadata": {
            "needs_background": "light"
          }
        }
      ]
    },
    {
      "cell_type": "code",
      "metadata": {
        "id": "15gRPMZ5L18p"
      },
      "source": [
        "import numpy as np\n",
        "import pandas as pd\n",
        "import matplotlib.pyplot as plt\n",
        "\n",
        "import tensorflow as tf\n",
        "from tensorflow import keras"
      ],
      "execution_count": 8,
      "outputs": []
    },
    {
      "cell_type": "code",
      "metadata": {
        "id": "UO4jOl7iL3uw"
      },
      "source": [
        "from tensorflow.keras import optimizers\n",
        "from tensorflow.keras.layers import Dense"
      ],
      "execution_count": 9,
      "outputs": []
    },
    {
      "cell_type": "code",
      "metadata": {
        "id": "CpdPpqIAL5p9"
      },
      "source": [
        "import time"
      ],
      "execution_count": 10,
      "outputs": []
    },
    {
      "cell_type": "code",
      "metadata": {
        "id": "1_TzR5_NMF40"
      },
      "source": [
        ""
      ],
      "execution_count": 10,
      "outputs": []
    },
    {
      "cell_type": "code",
      "metadata": {
        "id": "bDYNByo0T3NT"
      },
      "source": [
        ""
      ],
      "execution_count": 10,
      "outputs": []
    },
    {
      "cell_type": "markdown",
      "metadata": {
        "id": "XRDMxXXoOuFJ"
      },
      "source": [
        "## normalization"
      ]
    },
    {
      "cell_type": "code",
      "metadata": {
        "id": "PeW0ZfJyMFzR"
      },
      "source": [
        "train_x = raw_train_x\n",
        "train_y = raw_train_y\n",
        "test_x = raw_test_x\n",
        "test_y = raw_test_y"
      ],
      "execution_count": 11,
      "outputs": []
    },
    {
      "cell_type": "code",
      "metadata": {
        "colab": {
          "base_uri": "https://localhost:8080/"
        },
        "id": "ggSkckE0NZhM",
        "outputId": "661ce657-3c7c-4ea8-e7af-1c5b9d1754fa"
      },
      "source": [
        "for i in range(13):\n",
        "  target = raw_train_x[:,i]\n",
        "  min = np.min(target)\n",
        "  max = np.max(target)\n",
        "  print(min, max)\n",
        "  train_x[:,i] = (target-min)/(max-min)\n",
        "  print(np.min(train_x[:,i]), np.max(train_x[:,i]))  \n",
        "\n",
        "for i in range(13):\n",
        "  target = raw_test_x[:,i]\n",
        "  min = np.min(target)\n",
        "  max = np.max(target)\n",
        "  print(min, max)\n",
        "  test_x[:,i] = (target-min)/(max-min)\n",
        "  print(np.min(test_x[:,i]), np.max(test_x[:,i]))  "
      ],
      "execution_count": 12,
      "outputs": [
        {
          "output_type": "stream",
          "name": "stdout",
          "text": [
            "0.00632 88.9762\n",
            "0.0 1.0\n",
            "0.0 100.0\n",
            "0.0 1.0\n",
            "0.46 27.74\n",
            "0.0 1.0\n",
            "0.0 1.0\n",
            "0.0 1.0\n",
            "0.385 0.871\n",
            "0.0 1.0\n",
            "3.561 8.725\n",
            "0.0 1.0\n",
            "2.9 100.0\n",
            "0.0 1.0\n",
            "1.1296 10.7103\n",
            "0.0 1.0\n",
            "1.0 24.0\n",
            "0.0 1.0\n",
            "188.0 711.0\n",
            "0.0 1.0\n",
            "12.6 22.0\n",
            "0.0 1.0\n",
            "0.32 396.9\n",
            "0.0 1.0\n",
            "1.73 37.97\n",
            "0.0 1.0\n",
            "0.01311 25.0461\n",
            "0.0 1.0\n",
            "0.0 90.0\n",
            "0.0 1.0\n",
            "1.22 27.74\n",
            "0.0 1.0\n",
            "0.0 1.0\n",
            "0.0 1.0\n",
            "0.392 0.871\n",
            "0.0 1.0\n",
            "4.88 8.78\n",
            "0.0 1.0\n",
            "6.0 100.0\n",
            "0.0 1.0\n",
            "1.4655 12.1265\n",
            "0.0 1.0\n",
            "1.0 24.0\n",
            "0.0 1.0\n",
            "187.0 711.0\n",
            "0.0 1.0\n",
            "13.0 21.2\n",
            "0.0 1.0\n",
            "24.65 396.9\n",
            "0.0 1.0\n",
            "1.92 31.99\n",
            "0.0 1.0\n"
          ]
        }
      ]
    },
    {
      "cell_type": "code",
      "metadata": {
        "colab": {
          "base_uri": "https://localhost:8080/"
        },
        "id": "K-6gOajjOLwp",
        "outputId": "82b8b019-362e-4989-dcde-2eae9f38a783"
      },
      "source": [
        "target = raw_train_y\n",
        "min = np.min(target)\n",
        "max = np.max(target)\n",
        "print(min, max)\n",
        "train_y = (target-min)/(max-min)\n",
        "print(np.min(train_y), np.max(train_y))  \n",
        "\n",
        "target = raw_test_y\n",
        "min = np.min(target)\n",
        "max = np.max(target)\n",
        "print(min, max)\n",
        "test_y = (target-min)/(max-min)\n",
        "print(np.min(test_y), np.max(test_y))  \n",
        "\n"
      ],
      "execution_count": 13,
      "outputs": [
        {
          "output_type": "stream",
          "name": "stdout",
          "text": [
            "5.0 50.0\n",
            "0.0 1.0\n",
            "5.6 50.0\n",
            "0.0 1.0\n"
          ]
        }
      ]
    },
    {
      "cell_type": "markdown",
      "metadata": {
        "id": "Uu8TtVzrPDAT"
      },
      "source": [
        "# 모델 정의"
      ]
    },
    {
      "cell_type": "code",
      "metadata": {
        "colab": {
          "base_uri": "https://localhost:8080/"
        },
        "id": "OiI7h3rsPFPw",
        "outputId": "2064f91a-a3b8-4878-9a40-0cb973a1714a"
      },
      "source": [
        "model = keras.Sequential()\n",
        "model.add(Dense(10, activation='relu', input_shape=(train_x.shape[1],)))\n",
        "model.add(Dense(10, activation='relu'))\n",
        "model.add(Dense(1))\n",
        "\n",
        "model.compile(optimizer=\"Adam\", loss=\"mse\", metrics=[\"mape\"])\n",
        "model.summary()"
      ],
      "execution_count": 14,
      "outputs": [
        {
          "output_type": "stream",
          "name": "stdout",
          "text": [
            "Model: \"sequential\"\n",
            "_________________________________________________________________\n",
            "Layer (type)                 Output Shape              Param #   \n",
            "=================================================================\n",
            "dense (Dense)                (None, 10)                140       \n",
            "_________________________________________________________________\n",
            "dense_1 (Dense)              (None, 10)                110       \n",
            "_________________________________________________________________\n",
            "dense_2 (Dense)              (None, 1)                 11        \n",
            "=================================================================\n",
            "Total params: 261\n",
            "Trainable params: 261\n",
            "Non-trainable params: 0\n",
            "_________________________________________________________________\n"
          ]
        }
      ]
    },
    {
      "cell_type": "markdown",
      "metadata": {
        "id": "C1w9LDDGPFzY"
      },
      "source": [
        "# 학습 실행"
      ]
    },
    {
      "cell_type": "code",
      "metadata": {
        "colab": {
          "base_uri": "https://localhost:8080/"
        },
        "id": "LZIv0iAfzwwm",
        "outputId": "c23b8345-3069-41d3-fc41-350dbdfb51fd"
      },
      "source": [
        "start = time.time()\n",
        "history = model.fit(train_x, train_y, epochs=5000, verbose=0, batch_size=64, validation_split=0.1)\n",
        "print(\"elapsed :\", (time.time() - start))\n"
      ],
      "execution_count": 15,
      "outputs": [
        {
          "output_type": "stream",
          "name": "stdout",
          "text": [
            "elapsed : 122.68436551094055\n"
          ]
        }
      ]
    },
    {
      "cell_type": "code",
      "metadata": {
        "colab": {
          "base_uri": "https://localhost:8080/"
        },
        "id": "byoSG7yOMxKD",
        "outputId": "cb3934a5-0277-4606-d68a-0e53b74ff21c"
      },
      "source": [
        "loss, mape = model.evaluate(test_x, test_y)\n",
        "print(\"loss=\", loss)\n",
        "print(\"mape=\", mape)\n"
      ],
      "execution_count": 16,
      "outputs": [
        {
          "output_type": "stream",
          "name": "stdout",
          "text": [
            "4/4 [==============================] - 0s 3ms/step - loss: 0.0177 - mape: 782008.0000\n",
            "loss= 0.017714228481054306\n",
            "mape= 782008.0\n"
          ]
        }
      ]
    },
    {
      "cell_type": "code",
      "metadata": {
        "colab": {
          "base_uri": "https://localhost:8080/",
          "height": 265
        },
        "id": "3veOUR3OQe6c",
        "outputId": "9e5d0356-2529-48ed-d446-f86db0303e53"
      },
      "source": [
        "plt.plot(history.history['loss'])\n",
        "plt.plot(history.history['val_loss'])\n",
        "plt.show()"
      ],
      "execution_count": 17,
      "outputs": [
        {
          "output_type": "display_data",
          "data": {
            "image/png": "[encoded data removed]",
            "text/plain": [
              "<Figure size 432x288 with 1 Axes>"
            ]
          },
          "metadata": {
            "needs_background": "light"
          }
        }
      ]
    },
    {
      "cell_type": "code",
      "metadata": {
        "colab": {
          "base_uri": "https://localhost:8080/",
          "height": 265
        },
        "id": "87hCxh99M39k",
        "outputId": "94d55b4c-742f-4585-a7f2-e0613fc0f158"
      },
      "source": [
        "plt.plot(history.history['loss'][200:])\n",
        "plt.plot(history.history['val_loss'][200:])\n",
        "plt.show()"
      ],
      "execution_count": 18,
      "outputs": [
        {
          "output_type": "display_data",
          "data": {
            "image/png": "[encoded data removed]",
            "text/plain": [
              "<Figure size 432x288 with 1 Axes>"
            ]
          },
          "metadata": {
            "needs_background": "light"
          }
        }
      ]
    },
    {
      "cell_type": "code",
      "metadata": {
        "colab": {
          "base_uri": "https://localhost:8080/"
        },
        "id": "uQNMBVjdQsuI",
        "outputId": "d7c26e38-4e00-4f8a-bafe-98b430eec18b"
      },
      "source": [
        "start = time.time()\n",
        "history = model.fit(train_x, train_y, epochs=5000, verbose=0, batch_size=64, validation_split=0.1)\n",
        "print(\"elapsed :\", (time.time() - start))"
      ],
      "execution_count": 19,
      "outputs": [
        {
          "output_type": "stream",
          "name": "stdout",
          "text": [
            "elapsed : 124.6626706123352\n"
          ]
        }
      ]
    },
    {
      "cell_type": "code",
      "metadata": {
        "colab": {
          "base_uri": "https://localhost:8080/",
          "height": 265
        },
        "id": "i5tCtd7RQuSS",
        "outputId": "adf1bbcf-7e8c-4c2d-b81f-c2f164c622cc"
      },
      "source": [
        "plt.plot(history.history['loss'])\n",
        "plt.plot(history.history['val_loss'])\n",
        "plt.show()"
      ],
      "execution_count": 20,
      "outputs": [
        {
          "output_type": "display_data",
          "data": {
            "image/png": "[encoded data removed]",
            "text/plain": [
              "<Figure size 432x288 with 1 Axes>"
            ]
          },
          "metadata": {
            "needs_background": "light"
          }
        }
      ]
    },
    {
      "cell_type": "code",
      "metadata": {
        "colab": {
          "base_uri": "https://localhost:8080/"
        },
        "id": "IQUB1L2FQuPb",
        "outputId": "20e0abc4-9169-4a01-cc2c-49a8e37deb15"
      },
      "source": [
        "loss, mape = model.evaluate(test_x, test_y)\n",
        "print(\"loss=\", loss)\n",
        "print(\"mape=\", mape)\n"
      ],
      "execution_count": 21,
      "outputs": [
        {
          "output_type": "stream",
          "name": "stdout",
          "text": [
            "4/4 [==============================] - 0s 3ms/step - loss: 0.0169 - mape: 960445.6250\n",
            "loss= 0.016852175816893578\n",
            "mape= 960445.625\n"
          ]
        }
      ]
    },
    {
      "cell_type": "code",
      "metadata": {
        "colab": {
          "base_uri": "https://localhost:8080/"
        },
        "id": "YT0AhY__QuMf",
        "outputId": "7b381484-8185-40fb-c51f-365eb3606fc3"
      },
      "source": [
        "y_ = model.predict(test_x)\n",
        "\n",
        "for i in range(50):\n",
        "  print(test_y[i], y_[i])\n"
      ],
      "execution_count": 22,
      "outputs": [
        {
          "output_type": "stream",
          "name": "stdout",
          "text": [
            "0.03603603603603605 [0.06141482]\n",
            "0.2972972972972973 [0.26685077]\n",
            "0.30180180180180183 [0.31093037]\n",
            "0.48198198198198194 [0.34740567]\n",
            "0.37387387387387394 [0.34594396]\n",
            "0.42567567567567566 [0.28333545]\n",
            "0.5765765765765766 [0.41965926]\n",
            "0.3896396396396396 [0.33365178]\n",
            "0.3355855855855856 [0.2631094]\n",
            "0.39639639639639646 [0.27135992]\n",
            "0.29279279279279286 [0.25209033]\n",
            "0.20045045045045046 [0.18925868]\n",
            "0.2747747747747748 [0.21601759]\n",
            "1.0 [0.8075156]\n",
            "0.3423423423423424 [0.18255459]\n",
            "0.42117117117117125 [0.2973817]\n",
            "0.41891891891891897 [0.36502382]\n",
            "0.31981981981981983 [0.32458264]\n",
            "0.3040540540540541 [0.22657715]\n",
            "0.3851351351351352 [0.31346977]\n",
            "0.14414414414414414 [0.08299999]\n",
            "0.1036036036036036 [0.17733543]\n",
            "0.32432432432432434 [0.2846079]\n",
            "0.29054054054054057 [0.15058579]\n",
            "0.34459459459459457 [0.29778647]\n",
            "0.3918918918918919 [0.42590576]\n",
            "0.4932432432432432 [0.47269118]\n",
            "0.5518018018018018 [0.36969382]\n",
            "0.08783783783783784 [0.14750563]\n",
            "0.36936936936936937 [0.31928894]\n",
            "0.35135135135135137 [0.3009262]\n",
            "0.19144144144144146 [0.1768106]\n",
            "0.6193693693693694 [0.46554202]\n",
            "0.40090090090090086 [0.34794763]\n",
            "0.3265765765765766 [0.07338063]\n",
            "0.04054054054054056 [-0.08707584]\n",
            "0.22072072072072074 [0.18909489]\n",
            "0.40990990990991 [0.28674257]\n",
            "0.3265765765765766 [0.16750894]\n",
            "0.42567567567567566 [0.39323896]\n",
            "0.6171171171171171 [0.38557726]\n",
            "0.5135135135135135 [0.40677768]\n",
            "0.19144144144144146 [0.14697634]\n",
            "0.9256756756756758 [0.76694393]\n",
            "0.6058558558558559 [0.40271538]\n",
            "0.5405405405405406 [0.34132874]\n",
            "0.5135135135135135 [0.46204346]\n",
            "0.31981981981981983 [0.21019717]\n",
            "0.32882882882882886 [0.3519981]\n",
            "0.4369369369369369 [0.324001]\n"
          ]
        }
      ]
    },
    {
      "cell_type": "code",
      "metadata": {
        "id": "gnBo-wTdMkvU",
        "colab": {
          "base_uri": "https://localhost:8080/",
          "height": 265
        },
        "outputId": "7869d81a-32e9-4095-b59c-1b53d235e336"
      },
      "source": [
        "              \n",
        "y_ = model.predict(test_x)\n",
        "\n",
        "# plt.scatter(test_x,test_y)\n",
        "# plt.scatter(test_x,y_, color=\"r\")\n",
        "plt.scatter(test_x.T[0],test_y)\n",
        "plt.scatter(test_x.T[0],y_, color=\"r\")\n",
        "plt.show()"
      ],
      "execution_count": 23,
      "outputs": [
        {
          "output_type": "display_data",
          "data": {
            "image/png": "[encoded data removed]",
            "text/plain": [
              "<Figure size 432x288 with 1 Axes>"
            ]
          },
          "metadata": {
            "needs_background": "light"
          }
        }
      ]
    },
    {
      "cell_type": "code",
      "metadata": {
        "colab": {
          "base_uri": "https://localhost:8080/",
          "height": 265
        },
        "id": "-McStdWdWtfQ",
        "outputId": "09b744e4-9ff5-4d7b-e22e-95c72f2dd85d"
      },
      "source": [
        "plt.scatter(test_y, y_)\n",
        "plt.show()"
      ],
      "execution_count": 24,
      "outputs": [
        {
          "output_type": "display_data",
          "data": {
            "image/png": "[encoded data removed]",
            "text/plain": [
              "<Figure size 432x288 with 1 Axes>"
            ]
          },
          "metadata": {
            "needs_background": "light"
          }
        }
      ]
    },
    {
      "cell_type": "markdown",
      "metadata": {
        "id": "veWazimTWEnO"
      },
      "source": [
        "참고 : https://www.marktechpost.com/2019/06/17/regression-with-keras-deep-learning-with-keras-part-3/"
      ]
    },
    {
      "cell_type": "code",
      "metadata": {
        "id": "3Hd2Bav8WETG"
      },
      "source": [
        ""
      ],
      "execution_count": 24,
      "outputs": []
    }
  ]
}