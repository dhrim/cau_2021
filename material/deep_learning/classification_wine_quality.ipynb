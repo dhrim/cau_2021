{
  "nbformat": 4,
  "nbformat_minor": 0,
  "metadata": {
    "colab": {
      "name": "classification_wine_quality.ipynb",
      "provenance": [],
      "toc_visible": true
    },
    "kernelspec": {
      "name": "python3",
      "display_name": "Python 3"
    },
    "language_info": {
      "name": "python"
    }
  },
  "cells": [
    {
      "cell_type": "markdown",
      "metadata": {
        "id": "C3CMD0uuUPe7"
      },
      "source": [
        "# 개요\n",
        "\n",
        "Dacon의 대회 https://dacon.io/competitions/open/235610/data 에 대한 풀이"
      ]
    },
    {
      "cell_type": "markdown",
      "metadata": {
        "id": "ZfGzojSgURa8"
      },
      "source": [
        "# 데이터"
      ]
    },
    {
      "cell_type": "markdown",
      "metadata": {
        "id": "g8LFgycIUTBD"
      },
      "source": [
        "## 다운로드"
      ]
    },
    {
      "cell_type": "code",
      "metadata": {
        "colab": {
          "base_uri": "https://localhost:8080/"
        },
        "id": "mIg2d9HcAWGu",
        "outputId": "36e6eab0-ea3f-4b72-f564-d25302dbcf24"
      },
      "source": [
        "!wget https://github.com/dhrim/cau_2021/raw/master/material/deep_learning/data/wine.csv"
      ],
      "execution_count": 1,
      "outputs": [
        {
          "output_type": "stream",
          "name": "stdout",
          "text": [
            "--2021-09-16 05:09:26--  https://github.com/dhrim/cau_2021/raw/master/material/deep_learning/data/wine.csv\n",
            "Resolving github.com (github.com)... 52.192.72.89\n",
            "Connecting to github.com (github.com)|52.192.72.89|:443... connected.\n",
            "HTTP request sent, awaiting response... 302 Found\n",
            "Location: https://raw.githubusercontent.com/dhrim/cau_2021/master/material/deep_learning/data/wine.csv [following]\n",
            "--2021-09-16 05:09:27--  https://raw.githubusercontent.com/dhrim/cau_2021/master/material/deep_learning/data/wine.csv\n",
            "Resolving raw.githubusercontent.com (raw.githubusercontent.com)... 185.199.110.133, 185.199.111.133, 185.199.108.133, ...\n",
            "Connecting to raw.githubusercontent.com (raw.githubusercontent.com)|185.199.110.133|:443... connected.\n",
            "HTTP request sent, awaiting response... 200 OK\n",
            "Length: 418942 (409K) [text/plain]\n",
            "Saving to: ‘wine.csv’\n",
            "\n",
            "wine.csv            100%[===================>] 409.12K  --.-KB/s    in 0.04s   \n",
            "\n",
            "2021-09-16 05:09:27 (9.12 MB/s) - ‘wine.csv’ saved [418942/418942]\n",
            "\n"
          ]
        }
      ]
    },
    {
      "cell_type": "markdown",
      "metadata": {
        "id": "2zmHPLvWUUXr"
      },
      "source": [
        "## 데이터 로딩"
      ]
    },
    {
      "cell_type": "code",
      "metadata": {
        "id": "JJpW6DJEAnVj"
      },
      "source": [
        "import numpy as np\n",
        "import pandas as pd\n",
        "import matplotlib.pyplot as plt"
      ],
      "execution_count": 75,
      "outputs": []
    },
    {
      "cell_type": "code",
      "metadata": {
        "colab": {
          "base_uri": "https://localhost:8080/",
          "height": 240
        },
        "id": "WGKtGKFnAqN5",
        "outputId": "5a36fb19-b5f8-4a8e-8934-9d296a96b6c4"
      },
      "source": [
        "df = pd.read_csv('wine.csv')\n",
        "df.head()"
      ],
      "execution_count": 76,
      "outputs": [
        {
          "output_type": "execute_result",
          "data": {
            "text/html": [
              "<div>\n",
              "<style scoped>\n",
              "    .dataframe tbody tr th:only-of-type {\n",
              "        vertical-align: middle;\n",
              "    }\n",
              "\n",
              "    .dataframe tbody tr th {\n",
              "        vertical-align: top;\n",
              "    }\n",
              "\n",
              "    .dataframe thead th {\n",
              "        text-align: right;\n",
              "    }\n",
              "</style>\n",
              "<table border=\"1\" class=\"dataframe\">\n",
              "  <thead>\n",
              "    <tr style=\"text-align: right;\">\n",
              "      <th></th>\n",
              "      <th>2index</th>\n",
              "      <th>quality</th>\n",
              "      <th>fixed acidity</th>\n",
              "      <th>volatile acidity</th>\n",
              "      <th>citric acid</th>\n",
              "      <th>residual sugar</th>\n",
              "      <th>chlorides</th>\n",
              "      <th>free sulfur dioxide</th>\n",
              "      <th>total sulfur dioxide</th>\n",
              "      <th>density</th>\n",
              "      <th>pH</th>\n",
              "      <th>sulphates</th>\n",
              "      <th>alcohol</th>\n",
              "      <th>type</th>\n",
              "    </tr>\n",
              "  </thead>\n",
              "  <tbody>\n",
              "    <tr>\n",
              "      <th>0</th>\n",
              "      <td>0</td>\n",
              "      <td>5</td>\n",
              "      <td>5.6</td>\n",
              "      <td>0.695</td>\n",
              "      <td>0.06</td>\n",
              "      <td>6.8</td>\n",
              "      <td>0.042</td>\n",
              "      <td>9.0</td>\n",
              "      <td>84.0</td>\n",
              "      <td>0.99432</td>\n",
              "      <td>3.44</td>\n",
              "      <td>0.44</td>\n",
              "      <td>10.2</td>\n",
              "      <td>white</td>\n",
              "    </tr>\n",
              "    <tr>\n",
              "      <th>1</th>\n",
              "      <td>1</td>\n",
              "      <td>5</td>\n",
              "      <td>8.8</td>\n",
              "      <td>0.610</td>\n",
              "      <td>0.14</td>\n",
              "      <td>2.4</td>\n",
              "      <td>0.067</td>\n",
              "      <td>10.0</td>\n",
              "      <td>42.0</td>\n",
              "      <td>0.99690</td>\n",
              "      <td>3.19</td>\n",
              "      <td>0.59</td>\n",
              "      <td>9.5</td>\n",
              "      <td>red</td>\n",
              "    </tr>\n",
              "    <tr>\n",
              "      <th>2</th>\n",
              "      <td>2</td>\n",
              "      <td>5</td>\n",
              "      <td>7.9</td>\n",
              "      <td>0.210</td>\n",
              "      <td>0.39</td>\n",
              "      <td>2.0</td>\n",
              "      <td>0.057</td>\n",
              "      <td>21.0</td>\n",
              "      <td>138.0</td>\n",
              "      <td>0.99176</td>\n",
              "      <td>3.05</td>\n",
              "      <td>0.52</td>\n",
              "      <td>10.9</td>\n",
              "      <td>white</td>\n",
              "    </tr>\n",
              "    <tr>\n",
              "      <th>3</th>\n",
              "      <td>3</td>\n",
              "      <td>6</td>\n",
              "      <td>7.0</td>\n",
              "      <td>0.210</td>\n",
              "      <td>0.31</td>\n",
              "      <td>6.0</td>\n",
              "      <td>0.046</td>\n",
              "      <td>29.0</td>\n",
              "      <td>108.0</td>\n",
              "      <td>0.99390</td>\n",
              "      <td>3.26</td>\n",
              "      <td>0.50</td>\n",
              "      <td>10.8</td>\n",
              "      <td>white</td>\n",
              "    </tr>\n",
              "    <tr>\n",
              "      <th>4</th>\n",
              "      <td>4</td>\n",
              "      <td>6</td>\n",
              "      <td>7.8</td>\n",
              "      <td>0.400</td>\n",
              "      <td>0.26</td>\n",
              "      <td>9.5</td>\n",
              "      <td>0.059</td>\n",
              "      <td>32.0</td>\n",
              "      <td>178.0</td>\n",
              "      <td>0.99550</td>\n",
              "      <td>3.04</td>\n",
              "      <td>0.43</td>\n",
              "      <td>10.9</td>\n",
              "      <td>white</td>\n",
              "    </tr>\n",
              "  </tbody>\n",
              "</table>\n",
              "</div>"
            ],
            "text/plain": [
              "   2index  quality  fixed acidity  ...  sulphates  alcohol   type\n",
              "0       0        5            5.6  ...       0.44     10.2  white\n",
              "1       1        5            8.8  ...       0.59      9.5    red\n",
              "2       2        5            7.9  ...       0.52     10.9  white\n",
              "3       3        6            7.0  ...       0.50     10.8  white\n",
              "4       4        6            7.8  ...       0.43     10.9  white\n",
              "\n",
              "[5 rows x 14 columns]"
            ]
          },
          "metadata": {},
          "execution_count": 76
        }
      ]
    },
    {
      "cell_type": "code",
      "metadata": {
        "colab": {
          "base_uri": "https://localhost:8080/"
        },
        "id": "eIuQ59edTarH",
        "outputId": "01b619cf-92a5-4142-c502-398f06e98462"
      },
      "source": [
        "df.info()"
      ],
      "execution_count": 77,
      "outputs": [
        {
          "output_type": "stream",
          "name": "stdout",
          "text": [
            "<class 'pandas.core.frame.DataFrame'>\n",
            "RangeIndex: 5497 entries, 0 to 5496\n",
            "Data columns (total 14 columns):\n",
            " #   Column                Non-Null Count  Dtype  \n",
            "---  ------                --------------  -----  \n",
            " 0   2index                5497 non-null   int64  \n",
            " 1   quality               5497 non-null   int64  \n",
            " 2   fixed acidity         5497 non-null   float64\n",
            " 3   volatile acidity      5497 non-null   float64\n",
            " 4   citric acid           5497 non-null   float64\n",
            " 5   residual sugar        5497 non-null   float64\n",
            " 6   chlorides             5497 non-null   float64\n",
            " 7   free sulfur dioxide   5497 non-null   float64\n",
            " 8   total sulfur dioxide  5497 non-null   float64\n",
            " 9   density               5497 non-null   float64\n",
            " 10  pH                    5497 non-null   float64\n",
            " 11  sulphates             5497 non-null   float64\n",
            " 12  alcohol               5497 non-null   float64\n",
            " 13  type                  5497 non-null   object \n",
            "dtypes: float64(11), int64(2), object(1)\n",
            "memory usage: 601.4+ KB\n"
          ]
        }
      ]
    },
    {
      "cell_type": "markdown",
      "metadata": {
        "id": "unAity-gUWJd"
      },
      "source": [
        "## 코드성 데이터 인코딩"
      ]
    },
    {
      "cell_type": "markdown",
      "metadata": {
        "id": "TNfwmu7sUX97"
      },
      "source": [
        "type 컬럼이 'white', 'red' 문자열로 되어 있다.\n",
        "\n",
        "type 컬럼의 타입을 category로 변경한다."
      ]
    },
    {
      "cell_type": "code",
      "metadata": {
        "colab": {
          "base_uri": "https://localhost:8080/",
          "height": 240
        },
        "id": "hrd9EVkvTMWE",
        "outputId": "1809c21a-fbfc-40e4-ea76-9a10e17b4527"
      },
      "source": [
        "df['type'] = df['type'].astype('category')\n",
        "df.head()"
      ],
      "execution_count": 78,
      "outputs": [
        {
          "output_type": "execute_result",
          "data": {
            "text/html": [
              "<div>\n",
              "<style scoped>\n",
              "    .dataframe tbody tr th:only-of-type {\n",
              "        vertical-align: middle;\n",
              "    }\n",
              "\n",
              "    .dataframe tbody tr th {\n",
              "        vertical-align: top;\n",
              "    }\n",
              "\n",
              "    .dataframe thead th {\n",
              "        text-align: right;\n",
              "    }\n",
              "</style>\n",
              "<table border=\"1\" class=\"dataframe\">\n",
              "  <thead>\n",
              "    <tr style=\"text-align: right;\">\n",
              "      <th></th>\n",
              "      <th>2index</th>\n",
              "      <th>quality</th>\n",
              "      <th>fixed acidity</th>\n",
              "      <th>volatile acidity</th>\n",
              "      <th>citric acid</th>\n",
              "      <th>residual sugar</th>\n",
              "      <th>chlorides</th>\n",
              "      <th>free sulfur dioxide</th>\n",
              "      <th>total sulfur dioxide</th>\n",
              "      <th>density</th>\n",
              "      <th>pH</th>\n",
              "      <th>sulphates</th>\n",
              "      <th>alcohol</th>\n",
              "      <th>type</th>\n",
              "    </tr>\n",
              "  </thead>\n",
              "  <tbody>\n",
              "    <tr>\n",
              "      <th>0</th>\n",
              "      <td>0</td>\n",
              "      <td>5</td>\n",
              "      <td>5.6</td>\n",
              "      <td>0.695</td>\n",
              "      <td>0.06</td>\n",
              "      <td>6.8</td>\n",
              "      <td>0.042</td>\n",
              "      <td>9.0</td>\n",
              "      <td>84.0</td>\n",
              "      <td>0.99432</td>\n",
              "      <td>3.44</td>\n",
              "      <td>0.44</td>\n",
              "      <td>10.2</td>\n",
              "      <td>white</td>\n",
              "    </tr>\n",
              "    <tr>\n",
              "      <th>1</th>\n",
              "      <td>1</td>\n",
              "      <td>5</td>\n",
              "      <td>8.8</td>\n",
              "      <td>0.610</td>\n",
              "      <td>0.14</td>\n",
              "      <td>2.4</td>\n",
              "      <td>0.067</td>\n",
              "      <td>10.0</td>\n",
              "      <td>42.0</td>\n",
              "      <td>0.99690</td>\n",
              "      <td>3.19</td>\n",
              "      <td>0.59</td>\n",
              "      <td>9.5</td>\n",
              "      <td>red</td>\n",
              "    </tr>\n",
              "    <tr>\n",
              "      <th>2</th>\n",
              "      <td>2</td>\n",
              "      <td>5</td>\n",
              "      <td>7.9</td>\n",
              "      <td>0.210</td>\n",
              "      <td>0.39</td>\n",
              "      <td>2.0</td>\n",
              "      <td>0.057</td>\n",
              "      <td>21.0</td>\n",
              "      <td>138.0</td>\n",
              "      <td>0.99176</td>\n",
              "      <td>3.05</td>\n",
              "      <td>0.52</td>\n",
              "      <td>10.9</td>\n",
              "      <td>white</td>\n",
              "    </tr>\n",
              "    <tr>\n",
              "      <th>3</th>\n",
              "      <td>3</td>\n",
              "      <td>6</td>\n",
              "      <td>7.0</td>\n",
              "      <td>0.210</td>\n",
              "      <td>0.31</td>\n",
              "      <td>6.0</td>\n",
              "      <td>0.046</td>\n",
              "      <td>29.0</td>\n",
              "      <td>108.0</td>\n",
              "      <td>0.99390</td>\n",
              "      <td>3.26</td>\n",
              "      <td>0.50</td>\n",
              "      <td>10.8</td>\n",
              "      <td>white</td>\n",
              "    </tr>\n",
              "    <tr>\n",
              "      <th>4</th>\n",
              "      <td>4</td>\n",
              "      <td>6</td>\n",
              "      <td>7.8</td>\n",
              "      <td>0.400</td>\n",
              "      <td>0.26</td>\n",
              "      <td>9.5</td>\n",
              "      <td>0.059</td>\n",
              "      <td>32.0</td>\n",
              "      <td>178.0</td>\n",
              "      <td>0.99550</td>\n",
              "      <td>3.04</td>\n",
              "      <td>0.43</td>\n",
              "      <td>10.9</td>\n",
              "      <td>white</td>\n",
              "    </tr>\n",
              "  </tbody>\n",
              "</table>\n",
              "</div>"
            ],
            "text/plain": [
              "   2index  quality  fixed acidity  ...  sulphates  alcohol   type\n",
              "0       0        5            5.6  ...       0.44     10.2  white\n",
              "1       1        5            8.8  ...       0.59      9.5    red\n",
              "2       2        5            7.9  ...       0.52     10.9  white\n",
              "3       3        6            7.0  ...       0.50     10.8  white\n",
              "4       4        6            7.8  ...       0.43     10.9  white\n",
              "\n",
              "[5 rows x 14 columns]"
            ]
          },
          "metadata": {},
          "execution_count": 78
        }
      ]
    },
    {
      "cell_type": "code",
      "metadata": {
        "colab": {
          "base_uri": "https://localhost:8080/"
        },
        "id": "lggYfdvLTWXy",
        "outputId": "eebb1435-aefb-46ae-e1ab-3c209712cc65"
      },
      "source": [
        "df.info()"
      ],
      "execution_count": 79,
      "outputs": [
        {
          "output_type": "stream",
          "name": "stdout",
          "text": [
            "<class 'pandas.core.frame.DataFrame'>\n",
            "RangeIndex: 5497 entries, 0 to 5496\n",
            "Data columns (total 14 columns):\n",
            " #   Column                Non-Null Count  Dtype   \n",
            "---  ------                --------------  -----   \n",
            " 0   2index                5497 non-null   int64   \n",
            " 1   quality               5497 non-null   int64   \n",
            " 2   fixed acidity         5497 non-null   float64 \n",
            " 3   volatile acidity      5497 non-null   float64 \n",
            " 4   citric acid           5497 non-null   float64 \n",
            " 5   residual sugar        5497 non-null   float64 \n",
            " 6   chlorides             5497 non-null   float64 \n",
            " 7   free sulfur dioxide   5497 non-null   float64 \n",
            " 8   total sulfur dioxide  5497 non-null   float64 \n",
            " 9   density               5497 non-null   float64 \n",
            " 10  pH                    5497 non-null   float64 \n",
            " 11  sulphates             5497 non-null   float64 \n",
            " 12  alcohol               5497 non-null   float64 \n",
            " 13  type                  5497 non-null   category\n",
            "dtypes: category(1), float64(11), int64(2)\n",
            "memory usage: 563.9 KB\n"
          ]
        }
      ]
    },
    {
      "cell_type": "markdown",
      "metadata": {
        "id": "0FfgMn7MUgSE"
      },
      "source": [
        "컬럼 'type'의 카테고리 인덱스 값으로 새로운 컬럼 'type_code'을 만든다."
      ]
    },
    {
      "cell_type": "code",
      "metadata": {
        "colab": {
          "base_uri": "https://localhost:8080/",
          "height": 260
        },
        "id": "3ML7BNt6TD9X",
        "outputId": "8c968757-70ce-49ab-b1ea-a0dca2a9e219"
      },
      "source": [
        "df['type_code'] = df['type'].cat.codes\n",
        "df.head()"
      ],
      "execution_count": 80,
      "outputs": [
        {
          "output_type": "execute_result",
          "data": {
            "text/html": [
              "<div>\n",
              "<style scoped>\n",
              "    .dataframe tbody tr th:only-of-type {\n",
              "        vertical-align: middle;\n",
              "    }\n",
              "\n",
              "    .dataframe tbody tr th {\n",
              "        vertical-align: top;\n",
              "    }\n",
              "\n",
              "    .dataframe thead th {\n",
              "        text-align: right;\n",
              "    }\n",
              "</style>\n",
              "<table border=\"1\" class=\"dataframe\">\n",
              "  <thead>\n",
              "    <tr style=\"text-align: right;\">\n",
              "      <th></th>\n",
              "      <th>2index</th>\n",
              "      <th>quality</th>\n",
              "      <th>fixed acidity</th>\n",
              "      <th>volatile acidity</th>\n",
              "      <th>citric acid</th>\n",
              "      <th>residual sugar</th>\n",
              "      <th>chlorides</th>\n",
              "      <th>free sulfur dioxide</th>\n",
              "      <th>total sulfur dioxide</th>\n",
              "      <th>density</th>\n",
              "      <th>pH</th>\n",
              "      <th>sulphates</th>\n",
              "      <th>alcohol</th>\n",
              "      <th>type</th>\n",
              "      <th>type_code</th>\n",
              "    </tr>\n",
              "  </thead>\n",
              "  <tbody>\n",
              "    <tr>\n",
              "      <th>0</th>\n",
              "      <td>0</td>\n",
              "      <td>5</td>\n",
              "      <td>5.6</td>\n",
              "      <td>0.695</td>\n",
              "      <td>0.06</td>\n",
              "      <td>6.8</td>\n",
              "      <td>0.042</td>\n",
              "      <td>9.0</td>\n",
              "      <td>84.0</td>\n",
              "      <td>0.99432</td>\n",
              "      <td>3.44</td>\n",
              "      <td>0.44</td>\n",
              "      <td>10.2</td>\n",
              "      <td>white</td>\n",
              "      <td>1</td>\n",
              "    </tr>\n",
              "    <tr>\n",
              "      <th>1</th>\n",
              "      <td>1</td>\n",
              "      <td>5</td>\n",
              "      <td>8.8</td>\n",
              "      <td>0.610</td>\n",
              "      <td>0.14</td>\n",
              "      <td>2.4</td>\n",
              "      <td>0.067</td>\n",
              "      <td>10.0</td>\n",
              "      <td>42.0</td>\n",
              "      <td>0.99690</td>\n",
              "      <td>3.19</td>\n",
              "      <td>0.59</td>\n",
              "      <td>9.5</td>\n",
              "      <td>red</td>\n",
              "      <td>0</td>\n",
              "    </tr>\n",
              "    <tr>\n",
              "      <th>2</th>\n",
              "      <td>2</td>\n",
              "      <td>5</td>\n",
              "      <td>7.9</td>\n",
              "      <td>0.210</td>\n",
              "      <td>0.39</td>\n",
              "      <td>2.0</td>\n",
              "      <td>0.057</td>\n",
              "      <td>21.0</td>\n",
              "      <td>138.0</td>\n",
              "      <td>0.99176</td>\n",
              "      <td>3.05</td>\n",
              "      <td>0.52</td>\n",
              "      <td>10.9</td>\n",
              "      <td>white</td>\n",
              "      <td>1</td>\n",
              "    </tr>\n",
              "    <tr>\n",
              "      <th>3</th>\n",
              "      <td>3</td>\n",
              "      <td>6</td>\n",
              "      <td>7.0</td>\n",
              "      <td>0.210</td>\n",
              "      <td>0.31</td>\n",
              "      <td>6.0</td>\n",
              "      <td>0.046</td>\n",
              "      <td>29.0</td>\n",
              "      <td>108.0</td>\n",
              "      <td>0.99390</td>\n",
              "      <td>3.26</td>\n",
              "      <td>0.50</td>\n",
              "      <td>10.8</td>\n",
              "      <td>white</td>\n",
              "      <td>1</td>\n",
              "    </tr>\n",
              "    <tr>\n",
              "      <th>4</th>\n",
              "      <td>4</td>\n",
              "      <td>6</td>\n",
              "      <td>7.8</td>\n",
              "      <td>0.400</td>\n",
              "      <td>0.26</td>\n",
              "      <td>9.5</td>\n",
              "      <td>0.059</td>\n",
              "      <td>32.0</td>\n",
              "      <td>178.0</td>\n",
              "      <td>0.99550</td>\n",
              "      <td>3.04</td>\n",
              "      <td>0.43</td>\n",
              "      <td>10.9</td>\n",
              "      <td>white</td>\n",
              "      <td>1</td>\n",
              "    </tr>\n",
              "  </tbody>\n",
              "</table>\n",
              "</div>"
            ],
            "text/plain": [
              "   2index  quality  fixed acidity  ...  alcohol   type  type_code\n",
              "0       0        5            5.6  ...     10.2  white          1\n",
              "1       1        5            8.8  ...      9.5    red          0\n",
              "2       2        5            7.9  ...     10.9  white          1\n",
              "3       3        6            7.0  ...     10.8  white          1\n",
              "4       4        6            7.8  ...     10.9  white          1\n",
              "\n",
              "[5 rows x 15 columns]"
            ]
          },
          "metadata": {},
          "execution_count": 80
        }
      ]
    },
    {
      "cell_type": "markdown",
      "metadata": {
        "id": "6JkZKSA-d--S"
      },
      "source": [
        "## 카테고리 인덱스 생성"
      ]
    },
    {
      "cell_type": "markdown",
      "metadata": {
        "id": "uBStwlzWaakb"
      },
      "source": [
        "칼럼 'quality'가 출력으로 사용된다.\n",
        "\n",
        "각 값에 대한 category index를 구하자"
      ]
    },
    {
      "cell_type": "code",
      "metadata": {
        "colab": {
          "base_uri": "https://localhost:8080/",
          "height": 260
        },
        "id": "To0TKCE7aims",
        "outputId": "9c30ad7b-7a7a-4f33-defe-a3cf307a7bc3"
      },
      "source": [
        "df['quality'] = df['quality'].astype('category')\n",
        "df['category_index'] = df['quality'].cat.codes\n",
        "df.head()"
      ],
      "execution_count": 106,
      "outputs": [
        {
          "output_type": "execute_result",
          "data": {
            "text/html": [
              "<div>\n",
              "<style scoped>\n",
              "    .dataframe tbody tr th:only-of-type {\n",
              "        vertical-align: middle;\n",
              "    }\n",
              "\n",
              "    .dataframe tbody tr th {\n",
              "        vertical-align: top;\n",
              "    }\n",
              "\n",
              "    .dataframe thead th {\n",
              "        text-align: right;\n",
              "    }\n",
              "</style>\n",
              "<table border=\"1\" class=\"dataframe\">\n",
              "  <thead>\n",
              "    <tr style=\"text-align: right;\">\n",
              "      <th></th>\n",
              "      <th>2index</th>\n",
              "      <th>quality</th>\n",
              "      <th>fixed acidity</th>\n",
              "      <th>volatile acidity</th>\n",
              "      <th>citric acid</th>\n",
              "      <th>residual sugar</th>\n",
              "      <th>chlorides</th>\n",
              "      <th>free sulfur dioxide</th>\n",
              "      <th>total sulfur dioxide</th>\n",
              "      <th>density</th>\n",
              "      <th>pH</th>\n",
              "      <th>sulphates</th>\n",
              "      <th>alcohol</th>\n",
              "      <th>type</th>\n",
              "      <th>type_code</th>\n",
              "      <th>category_index</th>\n",
              "    </tr>\n",
              "  </thead>\n",
              "  <tbody>\n",
              "    <tr>\n",
              "      <th>0</th>\n",
              "      <td>0</td>\n",
              "      <td>5</td>\n",
              "      <td>5.6</td>\n",
              "      <td>0.695</td>\n",
              "      <td>0.06</td>\n",
              "      <td>6.8</td>\n",
              "      <td>0.042</td>\n",
              "      <td>9.0</td>\n",
              "      <td>84.0</td>\n",
              "      <td>0.99432</td>\n",
              "      <td>3.44</td>\n",
              "      <td>0.44</td>\n",
              "      <td>10.2</td>\n",
              "      <td>white</td>\n",
              "      <td>1</td>\n",
              "      <td>2</td>\n",
              "    </tr>\n",
              "    <tr>\n",
              "      <th>1</th>\n",
              "      <td>1</td>\n",
              "      <td>5</td>\n",
              "      <td>8.8</td>\n",
              "      <td>0.610</td>\n",
              "      <td>0.14</td>\n",
              "      <td>2.4</td>\n",
              "      <td>0.067</td>\n",
              "      <td>10.0</td>\n",
              "      <td>42.0</td>\n",
              "      <td>0.99690</td>\n",
              "      <td>3.19</td>\n",
              "      <td>0.59</td>\n",
              "      <td>9.5</td>\n",
              "      <td>red</td>\n",
              "      <td>0</td>\n",
              "      <td>2</td>\n",
              "    </tr>\n",
              "    <tr>\n",
              "      <th>2</th>\n",
              "      <td>2</td>\n",
              "      <td>5</td>\n",
              "      <td>7.9</td>\n",
              "      <td>0.210</td>\n",
              "      <td>0.39</td>\n",
              "      <td>2.0</td>\n",
              "      <td>0.057</td>\n",
              "      <td>21.0</td>\n",
              "      <td>138.0</td>\n",
              "      <td>0.99176</td>\n",
              "      <td>3.05</td>\n",
              "      <td>0.52</td>\n",
              "      <td>10.9</td>\n",
              "      <td>white</td>\n",
              "      <td>1</td>\n",
              "      <td>2</td>\n",
              "    </tr>\n",
              "    <tr>\n",
              "      <th>3</th>\n",
              "      <td>3</td>\n",
              "      <td>6</td>\n",
              "      <td>7.0</td>\n",
              "      <td>0.210</td>\n",
              "      <td>0.31</td>\n",
              "      <td>6.0</td>\n",
              "      <td>0.046</td>\n",
              "      <td>29.0</td>\n",
              "      <td>108.0</td>\n",
              "      <td>0.99390</td>\n",
              "      <td>3.26</td>\n",
              "      <td>0.50</td>\n",
              "      <td>10.8</td>\n",
              "      <td>white</td>\n",
              "      <td>1</td>\n",
              "      <td>3</td>\n",
              "    </tr>\n",
              "    <tr>\n",
              "      <th>4</th>\n",
              "      <td>4</td>\n",
              "      <td>6</td>\n",
              "      <td>7.8</td>\n",
              "      <td>0.400</td>\n",
              "      <td>0.26</td>\n",
              "      <td>9.5</td>\n",
              "      <td>0.059</td>\n",
              "      <td>32.0</td>\n",
              "      <td>178.0</td>\n",
              "      <td>0.99550</td>\n",
              "      <td>3.04</td>\n",
              "      <td>0.43</td>\n",
              "      <td>10.9</td>\n",
              "      <td>white</td>\n",
              "      <td>1</td>\n",
              "      <td>3</td>\n",
              "    </tr>\n",
              "  </tbody>\n",
              "</table>\n",
              "</div>"
            ],
            "text/plain": [
              "   2index quality  fixed acidity  ...   type  type_code  category_index\n",
              "0       0       5            5.6  ...  white          1               2\n",
              "1       1       5            8.8  ...    red          0               2\n",
              "2       2       5            7.9  ...  white          1               2\n",
              "3       3       6            7.0  ...  white          1               3\n",
              "4       4       6            7.8  ...  white          1               3\n",
              "\n",
              "[5 rows x 16 columns]"
            ]
          },
          "metadata": {},
          "execution_count": 106
        }
      ]
    },
    {
      "cell_type": "code",
      "metadata": {
        "colab": {
          "base_uri": "https://localhost:8080/"
        },
        "id": "UFkHwggZTTU1",
        "outputId": "369bccd9-29e1-4b41-bf8b-c0850c86fc10"
      },
      "source": [
        "df.info()"
      ],
      "execution_count": 88,
      "outputs": [
        {
          "output_type": "stream",
          "name": "stdout",
          "text": [
            "<class 'pandas.core.frame.DataFrame'>\n",
            "RangeIndex: 5497 entries, 0 to 5496\n",
            "Data columns (total 16 columns):\n",
            " #   Column                Non-Null Count  Dtype   \n",
            "---  ------                --------------  -----   \n",
            " 0   2index                5497 non-null   int64   \n",
            " 1   quality               5497 non-null   category\n",
            " 2   fixed acidity         5497 non-null   float64 \n",
            " 3   volatile acidity      5497 non-null   float64 \n",
            " 4   citric acid           5497 non-null   float64 \n",
            " 5   residual sugar        5497 non-null   float64 \n",
            " 6   chlorides             5497 non-null   float64 \n",
            " 7   free sulfur dioxide   5497 non-null   float64 \n",
            " 8   total sulfur dioxide  5497 non-null   float64 \n",
            " 9   density               5497 non-null   float64 \n",
            " 10  pH                    5497 non-null   float64 \n",
            " 11  sulphates             5497 non-null   float64 \n",
            " 12  alcohol               5497 non-null   float64 \n",
            " 13  type                  5497 non-null   category\n",
            " 14  type_code             5497 non-null   int8    \n",
            " 15  category_index        5497 non-null   int8    \n",
            "dtypes: category(2), float64(11), int64(1), int8(2)\n",
            "memory usage: 537.4 KB\n"
          ]
        }
      ]
    },
    {
      "cell_type": "markdown",
      "metadata": {
        "id": "HEN-ZyCBVzI5"
      },
      "source": [
        "## 입출력 분리"
      ]
    },
    {
      "cell_type": "code",
      "metadata": {
        "colab": {
          "base_uri": "https://localhost:8080/"
        },
        "id": "HJgMA7sPbEZu",
        "outputId": "a6f9862a-a662-4055-8be6-d5cbc32ec012"
      },
      "source": [
        "feature_column_names = df.columns.values.tolist()\n",
        "print(feature_column_names)\n",
        "\n",
        "feature_column_names.remove('2index')\n",
        "feature_column_names.remove('quality')\n",
        "feature_column_names.remove('type')\n",
        "feature_column_names.remove('category_index')\n",
        "print(feature_column_names)"
      ],
      "execution_count": 102,
      "outputs": [
        {
          "output_type": "stream",
          "name": "stdout",
          "text": [
            "['2index', 'quality', 'fixed acidity', 'volatile acidity', 'citric acid', 'residual sugar', 'chlorides', 'free sulfur dioxide', 'total sulfur dioxide', 'density', 'pH', 'sulphates', 'alcohol', 'type', 'type_code', 'category_index']\n",
            "['fixed acidity', 'volatile acidity', 'citric acid', 'residual sugar', 'chlorides', 'free sulfur dioxide', 'total sulfur dioxide', 'density', 'pH', 'sulphates', 'alcohol', 'type_code']\n"
          ]
        }
      ]
    },
    {
      "cell_type": "code",
      "metadata": {
        "id": "pWmpo1hldY6p"
      },
      "source": [
        "features_df = df[feature_column_names]\n",
        "category_index_df = df['category_index']"
      ],
      "execution_count": 111,
      "outputs": []
    },
    {
      "cell_type": "code",
      "metadata": {
        "colab": {
          "base_uri": "https://localhost:8080/",
          "height": 240
        },
        "id": "DEOuSBQ4erGS",
        "outputId": "fb1194a4-fab9-44a1-b83b-832fb26eb2c1"
      },
      "source": [
        "features_df.head()"
      ],
      "execution_count": 112,
      "outputs": [
        {
          "output_type": "execute_result",
          "data": {
            "text/html": [
              "<div>\n",
              "<style scoped>\n",
              "    .dataframe tbody tr th:only-of-type {\n",
              "        vertical-align: middle;\n",
              "    }\n",
              "\n",
              "    .dataframe tbody tr th {\n",
              "        vertical-align: top;\n",
              "    }\n",
              "\n",
              "    .dataframe thead th {\n",
              "        text-align: right;\n",
              "    }\n",
              "</style>\n",
              "<table border=\"1\" class=\"dataframe\">\n",
              "  <thead>\n",
              "    <tr style=\"text-align: right;\">\n",
              "      <th></th>\n",
              "      <th>fixed acidity</th>\n",
              "      <th>volatile acidity</th>\n",
              "      <th>citric acid</th>\n",
              "      <th>residual sugar</th>\n",
              "      <th>chlorides</th>\n",
              "      <th>free sulfur dioxide</th>\n",
              "      <th>total sulfur dioxide</th>\n",
              "      <th>density</th>\n",
              "      <th>pH</th>\n",
              "      <th>sulphates</th>\n",
              "      <th>alcohol</th>\n",
              "      <th>type_code</th>\n",
              "    </tr>\n",
              "  </thead>\n",
              "  <tbody>\n",
              "    <tr>\n",
              "      <th>0</th>\n",
              "      <td>5.6</td>\n",
              "      <td>0.695</td>\n",
              "      <td>0.06</td>\n",
              "      <td>6.8</td>\n",
              "      <td>0.042</td>\n",
              "      <td>9.0</td>\n",
              "      <td>84.0</td>\n",
              "      <td>0.99432</td>\n",
              "      <td>3.44</td>\n",
              "      <td>0.44</td>\n",
              "      <td>10.2</td>\n",
              "      <td>1</td>\n",
              "    </tr>\n",
              "    <tr>\n",
              "      <th>1</th>\n",
              "      <td>8.8</td>\n",
              "      <td>0.610</td>\n",
              "      <td>0.14</td>\n",
              "      <td>2.4</td>\n",
              "      <td>0.067</td>\n",
              "      <td>10.0</td>\n",
              "      <td>42.0</td>\n",
              "      <td>0.99690</td>\n",
              "      <td>3.19</td>\n",
              "      <td>0.59</td>\n",
              "      <td>9.5</td>\n",
              "      <td>0</td>\n",
              "    </tr>\n",
              "    <tr>\n",
              "      <th>2</th>\n",
              "      <td>7.9</td>\n",
              "      <td>0.210</td>\n",
              "      <td>0.39</td>\n",
              "      <td>2.0</td>\n",
              "      <td>0.057</td>\n",
              "      <td>21.0</td>\n",
              "      <td>138.0</td>\n",
              "      <td>0.99176</td>\n",
              "      <td>3.05</td>\n",
              "      <td>0.52</td>\n",
              "      <td>10.9</td>\n",
              "      <td>1</td>\n",
              "    </tr>\n",
              "    <tr>\n",
              "      <th>3</th>\n",
              "      <td>7.0</td>\n",
              "      <td>0.210</td>\n",
              "      <td>0.31</td>\n",
              "      <td>6.0</td>\n",
              "      <td>0.046</td>\n",
              "      <td>29.0</td>\n",
              "      <td>108.0</td>\n",
              "      <td>0.99390</td>\n",
              "      <td>3.26</td>\n",
              "      <td>0.50</td>\n",
              "      <td>10.8</td>\n",
              "      <td>1</td>\n",
              "    </tr>\n",
              "    <tr>\n",
              "      <th>4</th>\n",
              "      <td>7.8</td>\n",
              "      <td>0.400</td>\n",
              "      <td>0.26</td>\n",
              "      <td>9.5</td>\n",
              "      <td>0.059</td>\n",
              "      <td>32.0</td>\n",
              "      <td>178.0</td>\n",
              "      <td>0.99550</td>\n",
              "      <td>3.04</td>\n",
              "      <td>0.43</td>\n",
              "      <td>10.9</td>\n",
              "      <td>1</td>\n",
              "    </tr>\n",
              "  </tbody>\n",
              "</table>\n",
              "</div>"
            ],
            "text/plain": [
              "   fixed acidity  volatile acidity  citric acid  ...  sulphates  alcohol  type_code\n",
              "0            5.6             0.695         0.06  ...       0.44     10.2          1\n",
              "1            8.8             0.610         0.14  ...       0.59      9.5          0\n",
              "2            7.9             0.210         0.39  ...       0.52     10.9          1\n",
              "3            7.0             0.210         0.31  ...       0.50     10.8          1\n",
              "4            7.8             0.400         0.26  ...       0.43     10.9          1\n",
              "\n",
              "[5 rows x 12 columns]"
            ]
          },
          "metadata": {},
          "execution_count": 112
        }
      ]
    },
    {
      "cell_type": "code",
      "metadata": {
        "colab": {
          "base_uri": "https://localhost:8080/"
        },
        "id": "edpCS4UjetJA",
        "outputId": "2b00a834-49ad-4e9f-d7a3-54635a9d84d6"
      },
      "source": [
        "features_df.info()"
      ],
      "execution_count": 113,
      "outputs": [
        {
          "output_type": "stream",
          "name": "stdout",
          "text": [
            "<class 'pandas.core.frame.DataFrame'>\n",
            "RangeIndex: 5497 entries, 0 to 5496\n",
            "Data columns (total 12 columns):\n",
            " #   Column                Non-Null Count  Dtype  \n",
            "---  ------                --------------  -----  \n",
            " 0   fixed acidity         5497 non-null   float64\n",
            " 1   volatile acidity      5497 non-null   float64\n",
            " 2   citric acid           5497 non-null   float64\n",
            " 3   residual sugar        5497 non-null   float64\n",
            " 4   chlorides             5497 non-null   float64\n",
            " 5   free sulfur dioxide   5497 non-null   float64\n",
            " 6   total sulfur dioxide  5497 non-null   float64\n",
            " 7   density               5497 non-null   float64\n",
            " 8   pH                    5497 non-null   float64\n",
            " 9   sulphates             5497 non-null   float64\n",
            " 10  alcohol               5497 non-null   float64\n",
            " 11  type_code             5497 non-null   int8   \n",
            "dtypes: float64(11), int8(1)\n",
            "memory usage: 477.9 KB\n"
          ]
        }
      ]
    },
    {
      "cell_type": "code",
      "metadata": {
        "colab": {
          "base_uri": "https://localhost:8080/"
        },
        "id": "gQFTISiPexvP",
        "outputId": "8c18a117-6f35-4594-b213-a04e19b1257f"
      },
      "source": [
        "print(category_index_df.values)"
      ],
      "execution_count": 117,
      "outputs": [
        {
          "output_type": "stream",
          "name": "stdout",
          "text": [
            "[2 2 2 ... 4 2 3]\n"
          ]
        }
      ]
    },
    {
      "cell_type": "markdown",
      "metadata": {
        "id": "a6zZE46BVfo-"
      },
      "source": [
        "## normalization"
      ]
    },
    {
      "cell_type": "markdown",
      "metadata": {
        "id": "ni34gbsHViXl"
      },
      "source": [
        "컬럼 별로 normalization 한다."
      ]
    },
    {
      "cell_type": "code",
      "metadata": {
        "colab": {
          "base_uri": "https://localhost:8080/",
          "height": 240
        },
        "id": "BQTsviumVSuC",
        "outputId": "bc701601-c0b4-485c-c3ca-1b59b8aab354"
      },
      "source": [
        "features_df = (features_df - features_df.min()) / (features_df.max() - features_df.min())\n",
        "features_df.head()"
      ],
      "execution_count": 118,
      "outputs": [
        {
          "output_type": "execute_result",
          "data": {
            "text/html": [
              "<div>\n",
              "<style scoped>\n",
              "    .dataframe tbody tr th:only-of-type {\n",
              "        vertical-align: middle;\n",
              "    }\n",
              "\n",
              "    .dataframe tbody tr th {\n",
              "        vertical-align: top;\n",
              "    }\n",
              "\n",
              "    .dataframe thead th {\n",
              "        text-align: right;\n",
              "    }\n",
              "</style>\n",
              "<table border=\"1\" class=\"dataframe\">\n",
              "  <thead>\n",
              "    <tr style=\"text-align: right;\">\n",
              "      <th></th>\n",
              "      <th>fixed acidity</th>\n",
              "      <th>volatile acidity</th>\n",
              "      <th>citric acid</th>\n",
              "      <th>residual sugar</th>\n",
              "      <th>chlorides</th>\n",
              "      <th>free sulfur dioxide</th>\n",
              "      <th>total sulfur dioxide</th>\n",
              "      <th>density</th>\n",
              "      <th>pH</th>\n",
              "      <th>sulphates</th>\n",
              "      <th>alcohol</th>\n",
              "      <th>type_code</th>\n",
              "    </tr>\n",
              "  </thead>\n",
              "  <tbody>\n",
              "    <tr>\n",
              "      <th>0</th>\n",
              "      <td>0.148760</td>\n",
              "      <td>0.410000</td>\n",
              "      <td>0.036145</td>\n",
              "      <td>0.095092</td>\n",
              "      <td>0.054908</td>\n",
              "      <td>0.027778</td>\n",
              "      <td>0.179724</td>\n",
              "      <td>0.139001</td>\n",
              "      <td>0.551181</td>\n",
              "      <td>0.123596</td>\n",
              "      <td>0.318841</td>\n",
              "      <td>1.0</td>\n",
              "    </tr>\n",
              "    <tr>\n",
              "      <th>1</th>\n",
              "      <td>0.413223</td>\n",
              "      <td>0.353333</td>\n",
              "      <td>0.084337</td>\n",
              "      <td>0.027607</td>\n",
              "      <td>0.096506</td>\n",
              "      <td>0.031250</td>\n",
              "      <td>0.082949</td>\n",
              "      <td>0.188741</td>\n",
              "      <td>0.354331</td>\n",
              "      <td>0.207865</td>\n",
              "      <td>0.217391</td>\n",
              "      <td>0.0</td>\n",
              "    </tr>\n",
              "    <tr>\n",
              "      <th>2</th>\n",
              "      <td>0.338843</td>\n",
              "      <td>0.086667</td>\n",
              "      <td>0.234940</td>\n",
              "      <td>0.021472</td>\n",
              "      <td>0.079867</td>\n",
              "      <td>0.069444</td>\n",
              "      <td>0.304147</td>\n",
              "      <td>0.089647</td>\n",
              "      <td>0.244094</td>\n",
              "      <td>0.168539</td>\n",
              "      <td>0.420290</td>\n",
              "      <td>1.0</td>\n",
              "    </tr>\n",
              "    <tr>\n",
              "      <th>3</th>\n",
              "      <td>0.264463</td>\n",
              "      <td>0.086667</td>\n",
              "      <td>0.186747</td>\n",
              "      <td>0.082822</td>\n",
              "      <td>0.061564</td>\n",
              "      <td>0.097222</td>\n",
              "      <td>0.235023</td>\n",
              "      <td>0.130904</td>\n",
              "      <td>0.409449</td>\n",
              "      <td>0.157303</td>\n",
              "      <td>0.405797</td>\n",
              "      <td>1.0</td>\n",
              "    </tr>\n",
              "    <tr>\n",
              "      <th>4</th>\n",
              "      <td>0.330579</td>\n",
              "      <td>0.213333</td>\n",
              "      <td>0.156627</td>\n",
              "      <td>0.136503</td>\n",
              "      <td>0.083195</td>\n",
              "      <td>0.107639</td>\n",
              "      <td>0.396313</td>\n",
              "      <td>0.161751</td>\n",
              "      <td>0.236220</td>\n",
              "      <td>0.117978</td>\n",
              "      <td>0.420290</td>\n",
              "      <td>1.0</td>\n",
              "    </tr>\n",
              "  </tbody>\n",
              "</table>\n",
              "</div>"
            ],
            "text/plain": [
              "   fixed acidity  volatile acidity  citric acid  ...  sulphates   alcohol  type_code\n",
              "0       0.148760          0.410000     0.036145  ...   0.123596  0.318841        1.0\n",
              "1       0.413223          0.353333     0.084337  ...   0.207865  0.217391        0.0\n",
              "2       0.338843          0.086667     0.234940  ...   0.168539  0.420290        1.0\n",
              "3       0.264463          0.086667     0.186747  ...   0.157303  0.405797        1.0\n",
              "4       0.330579          0.213333     0.156627  ...   0.117978  0.420290        1.0\n",
              "\n",
              "[5 rows x 12 columns]"
            ]
          },
          "metadata": {},
          "execution_count": 118
        }
      ]
    },
    {
      "cell_type": "markdown",
      "metadata": {
        "id": "anUIhcT2WQXy"
      },
      "source": [
        "## numpy로 받기"
      ]
    },
    {
      "cell_type": "code",
      "metadata": {
        "colab": {
          "base_uri": "https://localhost:8080/"
        },
        "id": "2jvYsZeRArlt",
        "outputId": "da49b26d-e77d-4293-a3a2-a0b8910a75ad"
      },
      "source": [
        "x = features_df.values\n",
        "y = category_index_df.values\n",
        "\n",
        "print(x.shape)\n",
        "print(y.shape)\n",
        "\n",
        "print(x[:5])\n",
        "print(y[:5])"
      ],
      "execution_count": 120,
      "outputs": [
        {
          "output_type": "stream",
          "name": "stdout",
          "text": [
            "(5497, 12)\n",
            "(5497,)\n",
            "[[0.14876033 0.41       0.03614458 0.09509202 0.05490849 0.02777778\n",
            "  0.1797235  0.13900135 0.5511811  0.12359551 0.31884058 1.        ]\n",
            " [0.41322314 0.35333333 0.08433735 0.02760736 0.09650582 0.03125\n",
            "  0.08294931 0.18874108 0.35433071 0.20786517 0.2173913  0.        ]\n",
            " [0.33884298 0.08666667 0.23493976 0.02147239 0.07986689 0.06944444\n",
            "  0.30414747 0.08964719 0.24409449 0.16853933 0.42028986 1.        ]\n",
            " [0.26446281 0.08666667 0.18674699 0.08282209 0.06156406 0.09722222\n",
            "  0.23502304 0.13090418 0.40944882 0.15730337 0.4057971  1.        ]\n",
            " [0.33057851 0.21333333 0.15662651 0.13650307 0.08319468 0.10763889\n",
            "  0.39631336 0.16175053 0.23622047 0.11797753 0.42028986 1.        ]]\n",
            "[2 2 2 3 3]\n"
          ]
        }
      ]
    },
    {
      "cell_type": "markdown",
      "metadata": {
        "id": "MzNgWybAWu5L"
      },
      "source": [
        "## train, test 데이터 분리"
      ]
    },
    {
      "cell_type": "code",
      "metadata": {
        "id": "1Z-fPDE0UMqG"
      },
      "source": [
        "from sklearn.model_selection import train_test_split\n",
        "\n",
        "train_x, test_x, train_y, test_y = train_test_split(x, y, test_size=0.2, shuffle=True)"
      ],
      "execution_count": 121,
      "outputs": []
    },
    {
      "cell_type": "code",
      "metadata": {
        "id": "D8HQrCG6Wypb"
      },
      "source": [
        ""
      ],
      "execution_count": 121,
      "outputs": []
    },
    {
      "cell_type": "markdown",
      "metadata": {
        "id": "9ep0szdSWz8q"
      },
      "source": [
        "# 학습"
      ]
    },
    {
      "cell_type": "code",
      "metadata": {
        "id": "K23xNlKHW_ZT"
      },
      "source": [
        "import numpy as np\n",
        "import pandas as pd\n",
        "import matplotlib.pyplot as plt\n",
        "\n",
        "import tensorflow as tf\n",
        "\n",
        "from tensorflow import keras\n",
        "from tensorflow.keras import optimizers\n",
        "from tensorflow.keras.layers import Dense, Input"
      ],
      "execution_count": 122,
      "outputs": []
    },
    {
      "cell_type": "code",
      "metadata": {
        "colab": {
          "base_uri": "https://localhost:8080/"
        },
        "id": "F2sEIwYLYHEe",
        "outputId": "00a8937b-7f49-4e63-aa82-85d305fd3753"
      },
      "source": [
        "input_shape = (x.shape[1])\n",
        "unique_value, each_value_count = np.unique(y, return_counts=True)\n",
        "category_count = len(each_value_count)\n",
        "\n",
        "print(input_shape)\n",
        "print(unique_value)\n",
        "print(each_value_count)\n",
        "print(category_count)"
      ],
      "execution_count": 123,
      "outputs": [
        {
          "output_type": "stream",
          "name": "stdout",
          "text": [
            "12\n",
            "[0 1 2 3 4 5 6]\n",
            "[  26  186 1788 2416  924  152    5]\n",
            "7\n"
          ]
        }
      ]
    },
    {
      "cell_type": "code",
      "metadata": {
        "colab": {
          "base_uri": "https://localhost:8080/"
        },
        "id": "SXvEdvJcXAgS",
        "outputId": "39b0ea8d-579b-4ab4-947c-a706e40bc6a6"
      },
      "source": [
        "model = keras.Sequential()\n",
        "model.add(Input(input_shape))\n",
        "model.add(Dense(10, activation='relu'))\n",
        "model.add(Dense(10, activation='relu'))\n",
        "model.add(Dense(category_count, activation=\"softmax\"))\n",
        "\n",
        "model.compile(optimizer=\"SGD\", loss=\"sparse_categorical_crossentropy\", metrics=[\"acc\"])\n",
        "model.summary()"
      ],
      "execution_count": 124,
      "outputs": [
        {
          "output_type": "stream",
          "name": "stdout",
          "text": [
            "Model: \"sequential_3\"\n",
            "_________________________________________________________________\n",
            "Layer (type)                 Output Shape              Param #   \n",
            "=================================================================\n",
            "dense_9 (Dense)              (None, 10)                130       \n",
            "_________________________________________________________________\n",
            "dense_10 (Dense)             (None, 10)                110       \n",
            "_________________________________________________________________\n",
            "dense_11 (Dense)             (None, 7)                 77        \n",
            "=================================================================\n",
            "Total params: 317\n",
            "Trainable params: 317\n",
            "Non-trainable params: 0\n",
            "_________________________________________________________________\n"
          ]
        }
      ]
    },
    {
      "cell_type": "code",
      "metadata": {
        "id": "IWDY4Qf-XDAV"
      },
      "source": [
        "history = model.fit(train_x, train_y, epochs=1000, verbose=0, batch_size=128, validation_split=0.1)"
      ],
      "execution_count": 125,
      "outputs": []
    },
    {
      "cell_type": "code",
      "metadata": {
        "colab": {
          "base_uri": "https://localhost:8080/",
          "height": 567
        },
        "id": "Kjn70kODW0iG",
        "outputId": "a5786804-22be-410c-fbe9-c521debd1714"
      },
      "source": [
        "\n",
        "plt.plot(history.history['loss'])\n",
        "plt.plot(history.history['val_loss'])\n",
        "plt.show()\n",
        "\n",
        "\n",
        "\n",
        "loss, acc = model.evaluate(test_x, test_y)\n",
        "print(\"loss=\", loss)\n",
        "print(\"acc=\", acc)\n",
        "\n",
        "\n",
        "\n"
      ],
      "execution_count": 126,
      "outputs": [
        {
          "output_type": "display_data",
          "data": {
            "image/png": "[encoded data removed]",
            "text/plain": [
              "<Figure size 432x288 with 1 Axes>"
            ]
          },
          "metadata": {
            "needs_background": "light"
          }
        },
        {
          "output_type": "stream",
          "name": "stdout",
          "text": [
            "35/35 [==============================] - 0s 1ms/step - loss: 1.0594 - acc: 0.5727\n",
            "loss= 1.0593734979629517\n",
            "acc= 0.5727272629737854\n"
          ]
        },
        {
          "output_type": "display_data",
          "data": {
            "image/png": "[encoded data removed]",
            "text/plain": [
              "<Figure size 432x288 with 1 Axes>"
            ]
          },
          "metadata": {
            "needs_background": "light"
          }
        }
      ]
    },
    {
      "cell_type": "code",
      "metadata": {
        "colab": {
          "base_uri": "https://localhost:8080/",
          "height": 265
        },
        "id": "8unDC8_5gLmA",
        "outputId": "f477135b-d3e9-4988-9972-15eb1fc34363"
      },
      "source": [
        "y_ = model.predict(test_x)\n",
        "predicted = np.argmax(y_, axis=-1)\n",
        "\n",
        "plt.figure(figsize=(15,4))\n",
        "plt.plot(test_y, \"o\")\n",
        "plt.plot(predicted, \".\")\n",
        "plt.show()"
      ],
      "execution_count": 128,
      "outputs": [
        {
          "output_type": "display_data",
          "data": {
            "image/png": "[encoded data removed]",
            "text/plain": [
              "<Figure size 1080x288 with 1 Axes>"
            ]
          },
          "metadata": {
            "needs_background": "light"
          }
        }
      ]
    },
    {
      "cell_type": "code",
      "metadata": {
        "id": "adiarfmSgkSo"
      },
      "source": [
        ""
      ],
      "execution_count": null,
      "outputs": []
    },
    {
      "cell_type": "markdown",
      "metadata": {
        "id": "lruunxX1sRSa"
      },
      "source": [
        "# 재시도 - 리샘플링해서"
      ]
    },
    {
      "cell_type": "markdown",
      "metadata": {
        "id": "iVLbgEGwsTf5"
      },
      "source": [
        "카테고리간 비균등이 심하다.\n",
        "\n",
        "최고 퀄리티(카테고리 인덱스 5, 6)가 적고, 최저 퀄리티(카테고리 인덱스 0, 1)이 적다."
      ]
    },
    {
      "cell_type": "code",
      "metadata": {
        "colab": {
          "base_uri": "https://localhost:8080/",
          "height": 266
        },
        "id": "LxQCPUgSsXWe",
        "outputId": "38166bd6-2bb9-4c68-8593-30692e1abebf"
      },
      "source": [
        "plt.hist(y, bins=7)\n",
        "plt.show()"
      ],
      "execution_count": 159,
      "outputs": [
        {
          "output_type": "display_data",
          "data": {
            "image/png": "[encoded data removed]",
            "text/plain": [
              "<Figure size 432x288 with 1 Axes>"
            ]
          },
          "metadata": {
            "needs_background": "light"
          }
        }
      ]
    },
    {
      "cell_type": "code",
      "metadata": {
        "colab": {
          "base_uri": "https://localhost:8080/"
        },
        "id": "of4f6Enwsamb",
        "outputId": "152ccb33-db19-40b5-ed0c-5bad4a95b44c"
      },
      "source": [
        "unique_value, each_value_count = np.unique(y, return_counts=True)\n",
        "print(each_value_count)"
      ],
      "execution_count": 160,
      "outputs": [
        {
          "output_type": "stream",
          "name": "stdout",
          "text": [
            "[  26  186 1788 2416  924  152    5]\n"
          ]
        }
      ]
    },
    {
      "cell_type": "markdown",
      "metadata": {
        "id": "qRsFG5cHR7dM"
      },
      "source": [
        "## 샘플링"
      ]
    },
    {
      "cell_type": "markdown",
      "metadata": {
        "id": "m0BT1rAnsgGp"
      },
      "source": [
        "카테고리별 데이터 갯수 1500가 되도록 다운샘플링, 업샘플링 한다.\n",
        "\n",
        "업샘플링할 경우 최대 5%의로 노이즈를 추가한다."
      ]
    },
    {
      "cell_type": "code",
      "metadata": {
        "id": "_gQNfAml7Hg4"
      },
      "source": [
        "PER_CATEGORY_SAMPLE_COUNT = 200\n",
        "\n",
        "all_resampled_index = []\n",
        "for i in range(category_count):\n",
        "  category_index = np.where(y==i)[0]\n",
        "  sampled_index = np.random.choice(category_index, size=PER_CATEGORY_SAMPLE_COUNT)\n",
        "  all_resampled_index.extend(sampled_index)\n",
        "\n",
        "resampled_x = x[all_resampled_index]\n",
        "resampled_y = y[all_resampled_index]\n"
      ],
      "execution_count": 161,
      "outputs": []
    },
    {
      "cell_type": "code",
      "metadata": {
        "colab": {
          "base_uri": "https://localhost:8080/"
        },
        "id": "Sg6UHu-I7XWX",
        "outputId": "ce1fb839-9bb1-4346-81df-50fff574947d"
      },
      "source": [
        "print(resampled_x.shape)\n",
        "print(resampled_y.shape)"
      ],
      "execution_count": 162,
      "outputs": [
        {
          "output_type": "stream",
          "name": "stdout",
          "text": [
            "(1400, 12)\n",
            "(1400,)\n"
          ]
        }
      ]
    },
    {
      "cell_type": "markdown",
      "metadata": {
        "id": "UUQiie0i9zbI"
      },
      "source": [
        "## train, test 데이터 분리"
      ]
    },
    {
      "cell_type": "code",
      "metadata": {
        "id": "cIMkYN2Y9zbb"
      },
      "source": [
        "from sklearn.model_selection import train_test_split\n",
        "\n",
        "train_x, test_x, train_y, test_y = train_test_split(resampled_x, resampled_y, test_size=0.2, shuffle=True)"
      ],
      "execution_count": 163,
      "outputs": []
    },
    {
      "cell_type": "code",
      "metadata": {
        "id": "CYAXAAop9zbb"
      },
      "source": [
        ""
      ],
      "execution_count": 163,
      "outputs": []
    },
    {
      "cell_type": "markdown",
      "metadata": {
        "id": "XIyQ04AA9zbc"
      },
      "source": [
        "## 학습"
      ]
    },
    {
      "cell_type": "code",
      "metadata": {
        "id": "z8J7G19A9zbc"
      },
      "source": [
        "import numpy as np\n",
        "import pandas as pd\n",
        "import matplotlib.pyplot as plt\n",
        "\n",
        "import tensorflow as tf\n",
        "\n",
        "from tensorflow import keras\n",
        "from tensorflow.keras import optimizers\n",
        "from tensorflow.keras.layers import Dense, Input"
      ],
      "execution_count": 164,
      "outputs": []
    },
    {
      "cell_type": "code",
      "metadata": {
        "colab": {
          "base_uri": "https://localhost:8080/"
        },
        "id": "-cGTTyP29zbc",
        "outputId": "a64ca68f-ce3d-4e3d-cd87-2b377c513cdd"
      },
      "source": [
        "input_shape = (x.shape[1])\n",
        "unique_value, each_value_count = np.unique(y, return_counts=True)\n",
        "category_count = len(each_value_count)\n",
        "\n",
        "print(input_shape)\n",
        "print(unique_value)\n",
        "print(each_value_count)\n",
        "print(category_count)"
      ],
      "execution_count": 165,
      "outputs": [
        {
          "output_type": "stream",
          "name": "stdout",
          "text": [
            "12\n",
            "[0 1 2 3 4 5 6]\n",
            "[  26  186 1788 2416  924  152    5]\n",
            "7\n"
          ]
        }
      ]
    },
    {
      "cell_type": "code",
      "metadata": {
        "colab": {
          "base_uri": "https://localhost:8080/"
        },
        "id": "5R-GH-gx9zbd",
        "outputId": "fb9d074f-296e-4c24-f058-a3a985092241"
      },
      "source": [
        "model = keras.Sequential()\n",
        "model.add(Input(input_shape))\n",
        "model.add(Dense(10, activation='relu'))\n",
        "model.add(Dense(10, activation='relu'))\n",
        "model.add(Dense(category_count, activation=\"softmax\"))\n",
        "\n",
        "model.compile(optimizer=\"SGD\", loss=\"sparse_categorical_crossentropy\", metrics=[\"acc\"])\n",
        "model.summary()"
      ],
      "execution_count": 166,
      "outputs": [
        {
          "output_type": "stream",
          "name": "stdout",
          "text": [
            "Model: \"sequential_5\"\n",
            "_________________________________________________________________\n",
            "Layer (type)                 Output Shape              Param #   \n",
            "=================================================================\n",
            "dense_15 (Dense)             (None, 10)                130       \n",
            "_________________________________________________________________\n",
            "dense_16 (Dense)             (None, 10)                110       \n",
            "_________________________________________________________________\n",
            "dense_17 (Dense)             (None, 7)                 77        \n",
            "=================================================================\n",
            "Total params: 317\n",
            "Trainable params: 317\n",
            "Non-trainable params: 0\n",
            "_________________________________________________________________\n"
          ]
        }
      ]
    },
    {
      "cell_type": "code",
      "metadata": {
        "id": "ml6dcbFT9zbe"
      },
      "source": [
        "history = model.fit(train_x, train_y, epochs=5000, verbose=0, batch_size=128, validation_split=0.1)"
      ],
      "execution_count": 171,
      "outputs": []
    },
    {
      "cell_type": "code",
      "metadata": {
        "colab": {
          "base_uri": "https://localhost:8080/",
          "height": 319
        },
        "id": "CqNbJcKi9zbe",
        "outputId": "7e765d31-8b8b-49ae-d043-d5f9b4fd68ce"
      },
      "source": [
        "plt.plot(history.history['loss'])\n",
        "plt.plot(history.history['val_loss'])\n",
        "plt.show()\n",
        "\n",
        "\n",
        "loss, acc = model.evaluate(test_x, test_y)\n",
        "print(\"loss=\", loss)\n",
        "print(\"acc=\", acc)\n"
      ],
      "execution_count": 172,
      "outputs": [
        {
          "output_type": "display_data",
          "data": {
            "image/png": "[encoded data removed]",
            "text/plain": [
              "<Figure size 432x288 with 1 Axes>"
            ]
          },
          "metadata": {
            "needs_background": "light"
          }
        },
        {
          "output_type": "stream",
          "name": "stdout",
          "text": [
            "9/9 [==============================] - 0s 2ms/step - loss: 1.1744 - acc: 0.5179\n",
            "loss= 1.1744264364242554\n",
            "acc= 0.5178571343421936\n"
          ]
        }
      ]
    },
    {
      "cell_type": "code",
      "metadata": {
        "colab": {
          "base_uri": "https://localhost:8080/",
          "height": 265
        },
        "id": "nWt4_Xa09zbf",
        "outputId": "adcd5240-c33f-4634-90f4-9ae301312966"
      },
      "source": [
        "y_ = model.predict(test_x)\n",
        "predicted = np.argmax(y_, axis=-1)\n",
        "\n",
        "plt.figure(figsize=(15,4))\n",
        "plt.plot(test_y[:200], \"o\")\n",
        "plt.plot(predicted[:200], \".\")\n",
        "plt.show()"
      ],
      "execution_count": 173,
      "outputs": [
        {
          "output_type": "display_data",
          "data": {
            "image/png": "[encoded data removed]",
            "text/plain": [
              "<Figure size 1080x288 with 1 Axes>"
            ]
          },
          "metadata": {
            "needs_background": "light"
          }
        }
      ]
    },
    {
      "cell_type": "code",
      "metadata": {
        "colab": {
          "base_uri": "https://localhost:8080/",
          "height": 265
        },
        "id": "5_bsOwdt-GXm",
        "outputId": "ebe67843-9f55-43f5-9f08-3128d29b74b7"
      },
      "source": [
        "plt.scatter(test_y[:200], predicted[:200])\n",
        "plt.show()"
      ],
      "execution_count": 174,
      "outputs": [
        {
          "output_type": "display_data",
          "data": {
            "image/png": "[encoded data removed]",
            "text/plain": [
              "<Figure size 432x288 with 1 Axes>"
            ]
          },
          "metadata": {
            "needs_background": "light"
          }
        }
      ]
    },
    {
      "cell_type": "code",
      "metadata": {
        "id": "T7iKuCuhJuKJ"
      },
      "source": [
        ""
      ],
      "execution_count": null,
      "outputs": []
    },
    {
      "cell_type": "code",
      "metadata": {
        "id": "Nrcr_K_qK859"
      },
      "source": [
        ""
      ],
      "execution_count": null,
      "outputs": []
    },
    {
      "cell_type": "markdown",
      "metadata": {
        "id": "fglH3w6GK-ZH"
      },
      "source": [
        "# 재시도 - 리샘플링해서, 노이즈 추가"
      ]
    },
    {
      "cell_type": "markdown",
      "metadata": {
        "id": "pVzIxQHVK-ZI"
      },
      "source": [
        "카테고리간 비균등이 심하다.\n",
        "\n",
        "최고 퀄리티(카테고리 인덱스 5, 6)가 적고, 최저 퀄리티(카테고리 인덱스 0, 1)이 적다."
      ]
    },
    {
      "cell_type": "code",
      "metadata": {
        "colab": {
          "base_uri": "https://localhost:8080/",
          "height": 266
        },
        "id": "OCBf30BoK-ZI",
        "outputId": "38166bd6-2bb9-4c68-8593-30692e1abebf"
      },
      "source": [
        "plt.hist(y, bins=7)\n",
        "plt.show()"
      ],
      "execution_count": null,
      "outputs": [
        {
          "output_type": "display_data",
          "data": {
            "image/png": "[encoded data removed]",
            "text/plain": [
              "<Figure size 432x288 with 1 Axes>"
            ]
          },
          "metadata": {
            "needs_background": "light"
          }
        }
      ]
    },
    {
      "cell_type": "code",
      "metadata": {
        "colab": {
          "base_uri": "https://localhost:8080/"
        },
        "id": "mjhPkGzFK-ZJ",
        "outputId": "152ccb33-db19-40b5-ed0c-5bad4a95b44c"
      },
      "source": [
        "unique_value, each_value_count = np.unique(y, return_counts=True)\n",
        "print(each_value_count)"
      ],
      "execution_count": null,
      "outputs": [
        {
          "output_type": "stream",
          "name": "stdout",
          "text": [
            "[  26  186 1788 2416  924  152    5]\n"
          ]
        }
      ]
    },
    {
      "cell_type": "markdown",
      "metadata": {
        "id": "h1ZK8vqiK-ZJ"
      },
      "source": [
        "카테고리별 데이터 갯수 1500가 되도록 다운샘플링, 업샘플링 한다.\n",
        "\n",
        "업샘플링할 경우 최대 5%의로 노이즈를 추가한다."
      ]
    },
    {
      "cell_type": "code",
      "metadata": {
        "id": "kbdjN1qbK-ZK"
      },
      "source": [
        "PER_CATEGORY_SAMPLE_COUNT = 200\n",
        "\n",
        "all_resampled_index = []\n",
        "for i in range(category_count):\n",
        "  category_index = np.where(y==i)[0]\n",
        "  sampled_index = np.random.choice(category_index, size=PER_CATEGORY_SAMPLE_COUNT)\n",
        "  all_resampled_index.extend(sampled_index)\n",
        "\n",
        "resampled_x = x[all_resampled_index]\n",
        "resampled_y = y[all_resampled_index]\n"
      ],
      "execution_count": 192,
      "outputs": []
    },
    {
      "cell_type": "code",
      "metadata": {
        "colab": {
          "base_uri": "https://localhost:8080/"
        },
        "id": "21imCGpMK-ZK",
        "outputId": "d08c50c8-a997-48ed-f549-4d088ec64905"
      },
      "source": [
        "print(resampled_x.shape)\n",
        "print(resampled_y.shape)"
      ],
      "execution_count": 193,
      "outputs": [
        {
          "output_type": "stream",
          "name": "stdout",
          "text": [
            "(1400, 12)\n",
            "(1400,)\n"
          ]
        }
      ]
    },
    {
      "cell_type": "markdown",
      "metadata": {
        "id": "p-M_NAueR2lV"
      },
      "source": [
        "## 노이즈 추가"
      ]
    },
    {
      "cell_type": "code",
      "metadata": {
        "colab": {
          "base_uri": "https://localhost:8080/"
        },
        "id": "dT_-k8VNLPMg",
        "outputId": "ce497539-05f2-4a9d-a8bf-ca9579387b44"
      },
      "source": [
        "noise = np.random.normal(0, 1, resampled_x.shape) * 0.05\n",
        "print(noise.shape)\n",
        "print(noise.min(), noise.max())"
      ],
      "execution_count": 194,
      "outputs": [
        {
          "output_type": "stream",
          "name": "stdout",
          "text": [
            "(1400, 12)\n",
            "-0.1828563269828153 0.20898418280713094\n"
          ]
        }
      ]
    },
    {
      "cell_type": "code",
      "metadata": {
        "id": "4D__EvKILEt8"
      },
      "source": [
        "resampled_x = resampled_x * (1.0 + noise)"
      ],
      "execution_count": 195,
      "outputs": []
    },
    {
      "cell_type": "markdown",
      "metadata": {
        "id": "vFWwrkUvK-ZK"
      },
      "source": [
        "## train, test 데이터 분리"
      ]
    },
    {
      "cell_type": "code",
      "metadata": {
        "id": "1RKuUpMeK-ZK"
      },
      "source": [
        "from sklearn.model_selection import train_test_split\n",
        "\n",
        "train_x, test_x, train_y, test_y = train_test_split(resampled_x, resampled_y, test_size=0.2, shuffle=True)"
      ],
      "execution_count": 196,
      "outputs": []
    },
    {
      "cell_type": "code",
      "metadata": {
        "id": "6kejBw0yK-ZL"
      },
      "source": [
        ""
      ],
      "execution_count": 196,
      "outputs": []
    },
    {
      "cell_type": "markdown",
      "metadata": {
        "id": "K5a14nYvK-ZL"
      },
      "source": [
        "## 학습"
      ]
    },
    {
      "cell_type": "code",
      "metadata": {
        "id": "DrG_3atLK-ZL"
      },
      "source": [
        "import numpy as np\n",
        "import pandas as pd\n",
        "import matplotlib.pyplot as plt\n",
        "\n",
        "import tensorflow as tf\n",
        "\n",
        "from tensorflow import keras\n",
        "from tensorflow.keras import optimizers\n",
        "from tensorflow.keras.layers import Dense, Input"
      ],
      "execution_count": 197,
      "outputs": []
    },
    {
      "cell_type": "code",
      "metadata": {
        "colab": {
          "base_uri": "https://localhost:8080/"
        },
        "id": "DkDykp47K-ZL",
        "outputId": "81d8ea45-c2e1-4acf-af69-30a61bf7afd2"
      },
      "source": [
        "input_shape = (x.shape[1])\n",
        "unique_value, each_value_count = np.unique(y, return_counts=True)\n",
        "category_count = len(each_value_count)\n",
        "\n",
        "print(input_shape)\n",
        "print(unique_value)\n",
        "print(each_value_count)\n",
        "print(category_count)"
      ],
      "execution_count": 198,
      "outputs": [
        {
          "output_type": "stream",
          "name": "stdout",
          "text": [
            "12\n",
            "[0 1 2 3 4 5 6]\n",
            "[  26  186 1788 2416  924  152    5]\n",
            "7\n"
          ]
        }
      ]
    },
    {
      "cell_type": "code",
      "metadata": {
        "colab": {
          "base_uri": "https://localhost:8080/"
        },
        "id": "YElFBYqCK-ZM",
        "outputId": "a7d40714-7d6c-43db-f597-afee9be064a3"
      },
      "source": [
        "model = keras.Sequential()\n",
        "model.add(Input(input_shape))\n",
        "model.add(Dense(10, activation='relu'))\n",
        "model.add(Dense(10, activation='relu'))\n",
        "model.add(Dense(category_count, activation=\"softmax\"))\n",
        "\n",
        "model.compile(optimizer=\"SGD\", loss=\"sparse_categorical_crossentropy\", metrics=[\"acc\"])\n",
        "model.summary()"
      ],
      "execution_count": 199,
      "outputs": [
        {
          "output_type": "stream",
          "name": "stdout",
          "text": [
            "Model: \"sequential_7\"\n",
            "_________________________________________________________________\n",
            "Layer (type)                 Output Shape              Param #   \n",
            "=================================================================\n",
            "dense_21 (Dense)             (None, 10)                130       \n",
            "_________________________________________________________________\n",
            "dense_22 (Dense)             (None, 10)                110       \n",
            "_________________________________________________________________\n",
            "dense_23 (Dense)             (None, 7)                 77        \n",
            "=================================================================\n",
            "Total params: 317\n",
            "Trainable params: 317\n",
            "Non-trainable params: 0\n",
            "_________________________________________________________________\n"
          ]
        }
      ]
    },
    {
      "cell_type": "code",
      "metadata": {
        "id": "_aysE0GZK-ZM"
      },
      "source": [
        "history = model.fit(train_x, train_y, epochs=5000, verbose=0, batch_size=128, validation_split=0.1)"
      ],
      "execution_count": 200,
      "outputs": []
    },
    {
      "cell_type": "code",
      "metadata": {
        "colab": {
          "base_uri": "https://localhost:8080/",
          "height": 322
        },
        "id": "R-ZLqH5gK-ZN",
        "outputId": "b167c975-10fd-4e7e-da76-6cfccaffda33"
      },
      "source": [
        "plt.plot(history.history['loss'])\n",
        "plt.plot(history.history['val_loss'])\n",
        "plt.show()\n",
        "\n",
        "\n",
        "loss, acc = model.evaluate(test_x, test_y)\n",
        "print(\"loss=\", loss)\n",
        "print(\"acc=\", acc)\n"
      ],
      "execution_count": 201,
      "outputs": [
        {
          "output_type": "display_data",
          "data": {
            "image/png": "[encoded data removed]",
            "text/plain": [
              "<Figure size 432x288 with 1 Axes>"
            ]
          },
          "metadata": {
            "needs_background": "light"
          }
        },
        {
          "output_type": "stream",
          "name": "stdout",
          "text": [
            "9/9 [==============================] - 0s 2ms/step - loss: 1.2104 - acc: 0.5071\n",
            "loss= 1.2104291915893555\n",
            "acc= 0.5071428418159485\n"
          ]
        }
      ]
    },
    {
      "cell_type": "code",
      "metadata": {
        "colab": {
          "base_uri": "https://localhost:8080/",
          "height": 265
        },
        "id": "dQLtKJQTK-ZN",
        "outputId": "27693716-229e-4429-9e6b-006c10d4c52d"
      },
      "source": [
        "y_ = model.predict(test_x)\n",
        "predicted = np.argmax(y_, axis=-1)\n",
        "\n",
        "plt.figure(figsize=(15,4))\n",
        "plt.plot(test_y[:200], \"o\")\n",
        "plt.plot(predicted[:200], \".\")\n",
        "plt.show()"
      ],
      "execution_count": 202,
      "outputs": [
        {
          "output_type": "display_data",
          "data": {
            "image/png": "[encoded data removed]",
            "text/plain": [
              "<Figure size 1080x288 with 1 Axes>"
            ]
          },
          "metadata": {
            "needs_background": "light"
          }
        }
      ]
    },
    {
      "cell_type": "code",
      "metadata": {
        "colab": {
          "base_uri": "https://localhost:8080/",
          "height": 265
        },
        "id": "KwggWj4PK-ZN",
        "outputId": "1ba2fd1b-e76e-4fde-ecbd-b1c01e22ad44"
      },
      "source": [
        "plt.scatter(test_y[:200], predicted[:200])\n",
        "plt.show()"
      ],
      "execution_count": 203,
      "outputs": [
        {
          "output_type": "display_data",
          "data": {
            "image/png": "[encoded data removed]",
            "text/plain": [
              "<Figure size 432x288 with 1 Axes>"
            ]
          },
          "metadata": {
            "needs_background": "light"
          }
        }
      ]
    },
    {
      "cell_type": "code",
      "metadata": {
        "id": "WoCYVVYaK-ZO"
      },
      "source": [
        ""
      ],
      "execution_count": null,
      "outputs": []
    }
  ]
}