{
  "nbformat": 4,
  "nbformat_minor": 0,
  "metadata": {
    "colab": {
      "name": "7조 선수연봉예측",
      "provenance": [],
      "collapsed_sections": []
    },
    "kernelspec": {
      "name": "python3",
      "display_name": "Python 3"
    },
    "language_info": {
      "name": "python"
    },
    "accelerator": "GPU"
  },
  "cells": [
    {
      "cell_type": "markdown",
      "metadata": {
        "id": "gEO9RELiF3HY"
      },
      "source": [
        "# 7조 / 축구선수 연봉 예측 모델\n"
      ]
    },
    {
      "cell_type": "markdown",
      "metadata": {
        "id": "sw9r4UQQrR9k"
      },
      "source": [
        "## 데이터 전처리 : 모두 숫자열로\n",
        "- right=0, left=1/\n",
        "GK=0, ST=1 MF=2, DF=3/\n",
        "africa=0, asia=1, europe=2, oceania=3, south america=4\n",
        "\n",
        "- 오류처리 : train_y = train_y[:,:].astype(float) /\n",
        "train_x = train_x[:,:].astype(float) 사용\n"
      ]
    },
    {
      "cell_type": "code",
      "metadata": {
        "id": "Ybz1a10mOIOz"
      },
      "source": [
        "import numpy as np\n",
        "import pandas as pd\n",
        "import matplotlib.pyplot as plt\n",
        "\n",
        "import tensorflow as tf\n",
        "\n",
        "from tensorflow import keras\n",
        "from tensorflow.keras import optimizers\n",
        "from tensorflow.keras.layers import Dense  #(Dense)"
      ],
      "execution_count": null,
      "outputs": []
    },
    {
      "cell_type": "markdown",
      "metadata": {
        "id": "k_GA0xqSXnTD"
      },
      "source": [
        "# 제출한 3개의 csv파일을 드라이브에 올려주시길 바랍니다.\n",
        "- 파일 저장 위치 : /content/drive/MyDrive/cau_temp/\n",
        "- 수업 중에 사용한 폴더를 저장위치로 지정했습니다. 양해 부탁드립니다."
      ]
    },
    {
      "cell_type": "code",
      "metadata": {
        "colab": {
          "base_uri": "https://localhost:8080/"
        },
        "id": "bHltR4f3Fx5-",
        "outputId": "f5055362-c2ef-44da-f058-52e65413950e"
      },
      "source": [
        "from google.colab import drive\n",
        "drive.mount('/content/drive')"
      ],
      "execution_count": null,
      "outputs": [
        {
          "output_type": "stream",
          "text": [
            "Mounted at /content/drive\n"
          ],
          "name": "stdout"
        }
      ]
    },
    {
      "cell_type": "markdown",
      "metadata": {
        "id": "plkRUrnJW60B"
      },
      "source": [
        "# 파일 설명\n",
        "FIFA_test.csv 파일 : 연봉을 예측할 선수들 / \n",
        "FIFA_train.csv 파일 : 학습할 파일 / submission.csv 파일 : FIFA_test 파일의 결과를 저장할 파일"
      ]
    },
    {
      "cell_type": "code",
      "metadata": {
        "id": "Kmef3iDPL_XN"
      },
      "source": [
        "!cp '/content/drive/MyDrive/cau_temp/FIFA_test.csv' ./"
      ],
      "execution_count": null,
      "outputs": []
    },
    {
      "cell_type": "code",
      "metadata": {
        "id": "soPGfPKPg8j_"
      },
      "source": [
        "!cp '/content/drive/MyDrive/cau_temp/FIFA_train.csv' ./"
      ],
      "execution_count": null,
      "outputs": []
    },
    {
      "cell_type": "code",
      "metadata": {
        "id": "1mRpnCUBM6EY"
      },
      "source": [
        "\n",
        "!cp '/content/drive/MyDrive/cau_temp/submission.csv' ./"
      ],
      "execution_count": null,
      "outputs": []
    },
    {
      "cell_type": "code",
      "metadata": {
        "colab": {
          "base_uri": "https://localhost:8080/"
        },
        "id": "4qi5btqnNhpQ",
        "outputId": "04cd626a-7611-4624-90b1-5bf74b97e329"
      },
      "source": [
        "!ls -al"
      ],
      "execution_count": null,
      "outputs": [
        {
          "output_type": "stream",
          "text": [
            "total 640\n",
            "drwxr-xr-x 1 root root   4096 Aug 30 09:28 .\n",
            "drwxr-xr-x 1 root root   4096 Aug 30 09:26 ..\n",
            "drwxr-xr-x 4 root root   4096 Aug 25 13:35 .config\n",
            "drwx------ 5 root root   4096 Aug 30 09:28 drive\n",
            "-rw------- 1 root root 159571 Aug 30 09:28 FIFA_test.csv\n",
            "-rw------- 1 root root 438463 Aug 30 09:28 FIFA_train.csv\n",
            "drwxr-xr-x 1 root root   4096 Aug 25 13:35 sample_data\n",
            "-r-------- 1 root root  31703 Aug 30 09:28 submission.csv\n"
          ],
          "name": "stdout"
        }
      ]
    },
    {
      "cell_type": "code",
      "metadata": {
        "colab": {
          "base_uri": "https://localhost:8080/"
        },
        "id": "66eOFDdJNtAB",
        "outputId": "97b394e5-f629-4f8f-cca3-814017e55837"
      },
      "source": [
        "!head FIFA_train.csv"
      ],
      "execution_count": null,
      "outputs": [
        {
          "output_type": "stream",
          "text": [
            "name,id,continent,age,contract_until,position,prefer_foot,reputation,stat_overall,stat_potential,stat_skill_moves,value\r\n",
            "L. Messi,0,4,31,2021,1,1,5,94,94,4,110500000\r\n",
            "De Gea,3,2,27,2020,0,0,4,91,93,1,72000000\r\n",
            "L. Suárez,7,4,31,2021,1,0,5,91,91,3,80000000\r\n",
            "Sergio Ramos,8,2,32,2020,0,0,4,91,91,3,51000000\r\n",
            "J. Oblak,9,2,25,2021,0,0,3,90,93,1,68000000\r\n",
            "D. Godín,12,4,32,2019,3,0,3,90,90,2,44000000\r\n",
            "David Silva,13,2,32,2020,2,1,4,90,90,4,60000000\r\n",
            "N. Kanté,14,2,27,2023,2,0,3,89,90,2,63000000\r\n",
            "M. ter Stegen,18,2,26,2022,0,0,3,89,92,1,58000000\r\n"
          ],
          "name": "stdout"
        }
      ]
    },
    {
      "cell_type": "code",
      "metadata": {
        "colab": {
          "base_uri": "https://localhost:8080/",
          "height": 202
        },
        "id": "m7XgpHSGNy8M",
        "outputId": "44f8f9e3-3e9f-4300-f6f7-c883d3ba4427"
      },
      "source": [
        "invest=pd.read_csv('FIFA_train.csv')\n",
        "invest.head()\n"
      ],
      "execution_count": null,
      "outputs": [
        {
          "output_type": "execute_result",
          "data": {
            "text/html": [
              "<div>\n",
              "<style scoped>\n",
              "    .dataframe tbody tr th:only-of-type {\n",
              "        vertical-align: middle;\n",
              "    }\n",
              "\n",
              "    .dataframe tbody tr th {\n",
              "        vertical-align: top;\n",
              "    }\n",
              "\n",
              "    .dataframe thead th {\n",
              "        text-align: right;\n",
              "    }\n",
              "</style>\n",
              "<table border=\"1\" class=\"dataframe\">\n",
              "  <thead>\n",
              "    <tr style=\"text-align: right;\">\n",
              "      <th></th>\n",
              "      <th>name</th>\n",
              "      <th>id</th>\n",
              "      <th>continent</th>\n",
              "      <th>age</th>\n",
              "      <th>contract_until</th>\n",
              "      <th>position</th>\n",
              "      <th>prefer_foot</th>\n",
              "      <th>reputation</th>\n",
              "      <th>stat_overall</th>\n",
              "      <th>stat_potential</th>\n",
              "      <th>stat_skill_moves</th>\n",
              "      <th>value</th>\n",
              "    </tr>\n",
              "  </thead>\n",
              "  <tbody>\n",
              "    <tr>\n",
              "      <th>0</th>\n",
              "      <td>L. Messi</td>\n",
              "      <td>0</td>\n",
              "      <td>4</td>\n",
              "      <td>31</td>\n",
              "      <td>2021</td>\n",
              "      <td>1</td>\n",
              "      <td>1</td>\n",
              "      <td>5</td>\n",
              "      <td>94</td>\n",
              "      <td>94</td>\n",
              "      <td>4</td>\n",
              "      <td>110500000</td>\n",
              "    </tr>\n",
              "    <tr>\n",
              "      <th>1</th>\n",
              "      <td>De Gea</td>\n",
              "      <td>3</td>\n",
              "      <td>2</td>\n",
              "      <td>27</td>\n",
              "      <td>2020</td>\n",
              "      <td>0</td>\n",
              "      <td>0</td>\n",
              "      <td>4</td>\n",
              "      <td>91</td>\n",
              "      <td>93</td>\n",
              "      <td>1</td>\n",
              "      <td>72000000</td>\n",
              "    </tr>\n",
              "    <tr>\n",
              "      <th>2</th>\n",
              "      <td>L. Suárez</td>\n",
              "      <td>7</td>\n",
              "      <td>4</td>\n",
              "      <td>31</td>\n",
              "      <td>2021</td>\n",
              "      <td>1</td>\n",
              "      <td>0</td>\n",
              "      <td>5</td>\n",
              "      <td>91</td>\n",
              "      <td>91</td>\n",
              "      <td>3</td>\n",
              "      <td>80000000</td>\n",
              "    </tr>\n",
              "    <tr>\n",
              "      <th>3</th>\n",
              "      <td>Sergio Ramos</td>\n",
              "      <td>8</td>\n",
              "      <td>2</td>\n",
              "      <td>32</td>\n",
              "      <td>2020</td>\n",
              "      <td>0</td>\n",
              "      <td>0</td>\n",
              "      <td>4</td>\n",
              "      <td>91</td>\n",
              "      <td>91</td>\n",
              "      <td>3</td>\n",
              "      <td>51000000</td>\n",
              "    </tr>\n",
              "    <tr>\n",
              "      <th>4</th>\n",
              "      <td>J. Oblak</td>\n",
              "      <td>9</td>\n",
              "      <td>2</td>\n",
              "      <td>25</td>\n",
              "      <td>2021</td>\n",
              "      <td>0</td>\n",
              "      <td>0</td>\n",
              "      <td>3</td>\n",
              "      <td>90</td>\n",
              "      <td>93</td>\n",
              "      <td>1</td>\n",
              "      <td>68000000</td>\n",
              "    </tr>\n",
              "  </tbody>\n",
              "</table>\n",
              "</div>"
            ],
            "text/plain": [
              "           name  id  continent  ...  stat_potential  stat_skill_moves      value\n",
              "0      L. Messi   0          4  ...              94                 4  110500000\n",
              "1        De Gea   3          2  ...              93                 1   72000000\n",
              "2     L. Suárez   7          4  ...              91                 3   80000000\n",
              "3  Sergio Ramos   8          2  ...              91                 3   51000000\n",
              "4      J. Oblak   9          2  ...              93                 1   68000000\n",
              "\n",
              "[5 rows x 12 columns]"
            ]
          },
          "metadata": {},
          "execution_count": 8
        }
      ]
    },
    {
      "cell_type": "code",
      "metadata": {
        "colab": {
          "base_uri": "https://localhost:8080/"
        },
        "id": "s0mn8d6GOElk",
        "outputId": "5f3e8a49-edbf-4dce-ba3f-b5e8c1ca559a"
      },
      "source": [
        "invest.info()"
      ],
      "execution_count": null,
      "outputs": [
        {
          "output_type": "stream",
          "text": [
            "<class 'pandas.core.frame.DataFrame'>\n",
            "RangeIndex: 8932 entries, 0 to 8931\n",
            "Data columns (total 12 columns):\n",
            " #   Column            Non-Null Count  Dtype \n",
            "---  ------            --------------  ----- \n",
            " 0   name              8932 non-null   object\n",
            " 1   id                8932 non-null   int64 \n",
            " 2   continent         8932 non-null   int64 \n",
            " 3   age               8932 non-null   int64 \n",
            " 4   contract_until    8932 non-null   int64 \n",
            " 5   position          8932 non-null   int64 \n",
            " 6   prefer_foot       8932 non-null   int64 \n",
            " 7   reputation        8932 non-null   int64 \n",
            " 8   stat_overall      8932 non-null   int64 \n",
            " 9   stat_potential    8932 non-null   int64 \n",
            " 10  stat_skill_moves  8932 non-null   int64 \n",
            " 11  value             8932 non-null   int64 \n",
            "dtypes: int64(11), object(1)\n",
            "memory usage: 837.5+ KB\n"
          ],
          "name": "stdout"
        }
      ]
    },
    {
      "cell_type": "code",
      "metadata": {
        "colab": {
          "base_uri": "https://localhost:8080/"
        },
        "id": "hzeUmFIlOViX",
        "outputId": "210363be-d9ce-44fe-bc0c-bee6dfe6a68c"
      },
      "source": [
        "data=invest.to_numpy()\n",
        "print(data.shape)\n",
        "print(data[:5])"
      ],
      "execution_count": null,
      "outputs": [
        {
          "output_type": "stream",
          "text": [
            "(8932, 12)\n",
            "[['L. Messi' 0 4 31 2021 1 1 5 94 94 4 110500000]\n",
            " ['De Gea' 3 2 27 2020 0 0 4 91 93 1 72000000]\n",
            " ['L. Suárez' 7 4 31 2021 1 0 5 91 91 3 80000000]\n",
            " ['Sergio Ramos' 8 2 32 2020 0 0 4 91 91 3 51000000]\n",
            " ['J. Oblak' 9 2 25 2021 0 0 3 90 93 1 68000000]]\n"
          ],
          "name": "stdout"
        }
      ]
    },
    {
      "cell_type": "markdown",
      "metadata": {
        "id": "uRMBMToeX8uB"
      },
      "source": [
        "## 7443 = 전체 데이터 8932의 80% 지점"
      ]
    },
    {
      "cell_type": "code",
      "metadata": {
        "colab": {
          "base_uri": "https://localhost:8080/"
        },
        "id": "i1Wca1mdOn2_",
        "outputId": "3b3312cd-5214-4d32-9fad-902ddd1805a8"
      },
      "source": [
        "np.random.shuffle(data)\n",
        "\n",
        "x = data[:,1:11]\n",
        "y = data[:,11:]\n",
        "\n",
        "split_index = 7443\n",
        "\n",
        "train_x, test_x = x[:split_index], x[split_index:]\n",
        "train_y, test_y = y[:split_index], y[split_index:]\n",
        "\n",
        "print(train_x.shape)\n",
        "print(train_y.shape)\n",
        "print(test_x.shape)\n",
        "print(test_y.shape)\n",
        "print(train_x[:5])\n",
        "print(train_y[:5])\n",
        "print(test_x[:5])\n",
        "print(test_y[:5])"
      ],
      "execution_count": null,
      "outputs": [
        {
          "output_type": "stream",
          "text": [
            "(7443, 10)\n",
            "(7443, 1)\n",
            "(1489, 10)\n",
            "(1489, 1)\n",
            "[[13026 0 19 2019 3 0 1 62 72 2]\n",
            " [12016 1 25 2021 2 0 1 63 68 2]\n",
            " [4347 4 34 2021 0 0 1 71 71 1]\n",
            " [15957 2 17 2021 3 0 1 55 73 2]\n",
            " [16582 2 19 2021 0 0 1 52 69 1]]\n",
            "[[425000]\n",
            " [500000]\n",
            " [950000]\n",
            " [160000]\n",
            " [90000]]\n",
            "[[13203 2 26 2019 0 0 1 61 63 1]\n",
            " [3477 0 33 2019 1 0 1 72 72 3]\n",
            " [12243 4 26 2019 1 0 1 63 64 2]\n",
            " [3835 2 23 2021 1 0 1 71 76 3]\n",
            " [1001 0 23 2020 2 0 1 77 81 3]]\n",
            "[[210000]\n",
            " [2000000]\n",
            " [450000]\n",
            " [3200000]\n",
            " [10000000]]\n"
          ],
          "name": "stdout"
        }
      ]
    },
    {
      "cell_type": "code",
      "metadata": {
        "colab": {
          "base_uri": "https://localhost:8080/"
        },
        "id": "TDDCy9G-V8_V",
        "outputId": "047cce9c-f798-4f6f-80be-aacf96024ac4"
      },
      "source": [
        "#normalization\n",
        "min = np.min(y)\n",
        "max = np.max(y)\n",
        "y = (y-min) / (max-min)\n",
        "print(np.min(y), np.max(y))"
      ],
      "execution_count": null,
      "outputs": [
        {
          "output_type": "stream",
          "text": [
            "0.0 1.0\n"
          ],
          "name": "stdout"
        }
      ]
    },
    {
      "cell_type": "code",
      "metadata": {
        "id": "eh43PyKsZmKA"
      },
      "source": [
        "import tensorflow as tf\n",
        "\n",
        "from tensorflow import keras\n",
        "from tensorflow.keras import optimizers\n",
        "from tensorflow.keras.layers import *"
      ],
      "execution_count": null,
      "outputs": []
    },
    {
      "cell_type": "code",
      "metadata": {
        "colab": {
          "base_uri": "https://localhost:8080/"
        },
        "id": "S5gyMNjSW4ey",
        "outputId": "8477eab7-e8bc-4dda-faa7-a643a0ccd952"
      },
      "source": [
        "print(train_x.shape)\n",
        "print(train_x.shape[1])\n",
        "print(train_y.shape)\n",
        "print(train_y.shape[1])"
      ],
      "execution_count": null,
      "outputs": [
        {
          "output_type": "stream",
          "text": [
            "(7443, 10)\n",
            "10\n",
            "(7443, 1)\n",
            "1\n"
          ],
          "name": "stdout"
        }
      ]
    },
    {
      "cell_type": "code",
      "metadata": {
        "id": "ODSO8QNpQWmZ"
      },
      "source": [
        "model = keras.Sequential([\n",
        "    Dense(2000, activation='relu', input_shape=(train_x.shape[1],)),\n",
        "    Dense(2000, activation='relu'),\n",
        "    Dense(train_y.shape[1])\n",
        "])\n",
        "    "
      ],
      "execution_count": null,
      "outputs": []
    },
    {
      "cell_type": "code",
      "metadata": {
        "colab": {
          "base_uri": "https://localhost:8080/"
        },
        "id": "UaHildTCXBoY",
        "outputId": "5192a4f8-af5c-4ccc-ae86-db2cbca98512"
      },
      "source": [
        "model.summary()"
      ],
      "execution_count": null,
      "outputs": [
        {
          "output_type": "stream",
          "text": [
            "Model: \"sequential\"\n",
            "_________________________________________________________________\n",
            "Layer (type)                 Output Shape              Param #   \n",
            "=================================================================\n",
            "dense (Dense)                (None, 2000)              22000     \n",
            "_________________________________________________________________\n",
            "dense_1 (Dense)              (None, 2000)              4002000   \n",
            "_________________________________________________________________\n",
            "dense_2 (Dense)              (None, 1)                 2001      \n",
            "=================================================================\n",
            "Total params: 4,026,001\n",
            "Trainable params: 4,026,001\n",
            "Non-trainable params: 0\n",
            "_________________________________________________________________\n"
          ],
          "name": "stdout"
        }
      ]
    },
    {
      "cell_type": "code",
      "metadata": {
        "id": "7GSP6LyxXD9k"
      },
      "source": [
        "model.compile(optimizer='adam',\n",
        "              loss='mse',\n",
        "              metrics=['mape'])"
      ],
      "execution_count": null,
      "outputs": []
    },
    {
      "cell_type": "code",
      "metadata": {
        "colab": {
          "base_uri": "https://localhost:8080/"
        },
        "id": "WpkLunHQbFig",
        "outputId": "d770d337-15bf-48eb-af99-0f6f9791e1bc"
      },
      "source": [
        "type(train_x)"
      ],
      "execution_count": null,
      "outputs": [
        {
          "output_type": "execute_result",
          "data": {
            "text/plain": [
              "numpy.ndarray"
            ]
          },
          "metadata": {},
          "execution_count": 18
        }
      ]
    },
    {
      "cell_type": "code",
      "metadata": {
        "id": "F1IV96-ua6Qv"
      },
      "source": [
        "train_y = train_y[:,:].astype(float)\n",
        "train_x = train_x[:,:].astype(float)"
      ],
      "execution_count": null,
      "outputs": []
    },
    {
      "cell_type": "code",
      "metadata": {
        "id": "AmD3BTzWvcGr"
      },
      "source": [
        "# copy from https://gist.github.com/stared/dfb4dfaf6d9a8501cd1cc8b8cb806d2e\n",
        "\n",
        "from IPython.display import clear_output\n",
        "from tensorflow.keras.callbacks import Callback\n",
        "\n",
        "class PlotLosses(Callback):\n",
        "\n",
        "  def on_train_begin(self, logs={}):\n",
        "\n",
        "    self.i = 0\n",
        "    self.x = []\n",
        "    self.losses = []\n",
        "    self.val_losses = []\n",
        "\n",
        "    self.fig = plt.figure()\n",
        "\n",
        "    self.logs = []\n",
        "\n",
        "\n",
        "  def on_epoch_end(self, epoch, logs={}):\n",
        "\n",
        "    self.logs.append(logs)\n",
        "    self.x.append(self.i)\n",
        "    self.losses.append(logs.get('loss'))\n",
        "    self.val_losses.append(logs.get('val_loss'))\n",
        "    self.i += 1\n",
        "\n",
        "    clear_output(wait=True)\n",
        "    plt.plot(self.x, self.losses, label=\"loss\")\n",
        "    plt.plot(self.x, self.val_losses, label=\"val_loss\")\n",
        "    plt.legend()\n",
        "    plt.show();\n",
        "    print(\"loss = \", self.losses[-1], \", val_loss = \", self.val_losses[-1])"
      ],
      "execution_count": null,
      "outputs": []
    },
    {
      "cell_type": "code",
      "metadata": {
        "colab": {
          "base_uri": "https://localhost:8080/",
          "height": 292
        },
        "id": "jyUI9FGoXKiy",
        "outputId": "3d626553-a398-4d2c-8391-d742bee13ce9"
      },
      "source": [
        "plot_losses = PlotLosses()\n",
        "history = model.fit(train_x, train_y, epochs=700, verbose=1, batch_size=2048, validation_split=0.1,callbacks=[plot_losses])"
      ],
      "execution_count": null,
      "outputs": [
        {
          "output_type": "display_data",
          "data": {
            "image/png": "[encoded data removed]",
            "text/plain": [
              "<Figure size 432x288 with 1 Axes>"
            ]
          },
          "metadata": {
            "needs_background": "light"
          }
        },
        {
          "output_type": "stream",
          "text": [
            "loss =  2133525790720.0 , val_loss =  2241257537536.0\n"
          ],
          "name": "stdout"
        }
      ]
    },
    {
      "cell_type": "code",
      "metadata": {
        "id": "o9ziQzsTo-hQ"
      },
      "source": [
        "test_y = test_y[:,:].astype(float)\n",
        "test_x = test_x[:,:].astype(float)"
      ],
      "execution_count": null,
      "outputs": []
    },
    {
      "cell_type": "code",
      "metadata": {
        "colab": {
          "base_uri": "https://localhost:8080/"
        },
        "id": "XaxVHkw6oqZY",
        "outputId": "a705f22a-bdb2-4b62-fa1d-dbdd707a9307"
      },
      "source": [
        "loss, mape = model.evaluate(test_x, test_y, batch_size=2048)\n",
        "\n",
        "print(\"loss :\", loss)\n",
        "print(\"mape :\", mape)"
      ],
      "execution_count": null,
      "outputs": [
        {
          "output_type": "stream",
          "text": [
            "1/1 [==============================] - 0s 23ms/step - loss: 1786467188736.0000 - mape: 487537.8438\n",
            "loss : 1786467188736.0\n",
            "mape : 487537.84375\n"
          ],
          "name": "stdout"
        }
      ]
    },
    {
      "cell_type": "code",
      "metadata": {
        "colab": {
          "base_uri": "https://localhost:8080/"
        },
        "id": "Dp4Jrk3bozuv",
        "outputId": "906f633c-c709-479c-9576-b65b13d87d14"
      },
      "source": [
        "y_ = model.predict(test_x)\n",
        "print(y_[:10])"
      ],
      "execution_count": null,
      "outputs": [
        {
          "output_type": "stream",
          "text": [
            "[[  58360.297]\n",
            " [2325544.5  ]\n",
            " [ 137285.89 ]\n",
            " [3456736.   ]\n",
            " [9541124.   ]\n",
            " [ 100476.92 ]\n",
            " [ 958391.3  ]\n",
            " [ 202659.8  ]\n",
            " [5129088.   ]\n",
            " [ 173282.8  ]]\n"
          ],
          "name": "stdout"
        }
      ]
    },
    {
      "cell_type": "markdown",
      "metadata": {
        "id": "nXvcqN4h2w_8"
      },
      "source": [
        "\n",
        "# FIFA_test 파일 예측\n",
        "- 데이터 전처리 : FIFA_train.csv 와 동일하게 처리\n",
        "- 결과를 submission 파일로 저장\n",
        "\n",
        "\n",
        "\n"
      ]
    },
    {
      "cell_type": "code",
      "metadata": {
        "colab": {
          "base_uri": "https://localhost:8080/",
          "height": 202
        },
        "id": "FQibps_p2vSJ",
        "outputId": "70c4140c-a01b-422b-a66f-ef636f25d53d"
      },
      "source": [
        "pay=pd.read_csv('FIFA_test.csv')\n",
        "pay.head()"
      ],
      "execution_count": null,
      "outputs": [
        {
          "output_type": "execute_result",
          "data": {
            "text/html": [
              "<div>\n",
              "<style scoped>\n",
              "    .dataframe tbody tr th:only-of-type {\n",
              "        vertical-align: middle;\n",
              "    }\n",
              "\n",
              "    .dataframe tbody tr th {\n",
              "        vertical-align: top;\n",
              "    }\n",
              "\n",
              "    .dataframe thead th {\n",
              "        text-align: right;\n",
              "    }\n",
              "</style>\n",
              "<table border=\"1\" class=\"dataframe\">\n",
              "  <thead>\n",
              "    <tr style=\"text-align: right;\">\n",
              "      <th></th>\n",
              "      <th>name</th>\n",
              "      <th>id</th>\n",
              "      <th>continent</th>\n",
              "      <th>age</th>\n",
              "      <th>contract_until</th>\n",
              "      <th>position</th>\n",
              "      <th>prefer_foot</th>\n",
              "      <th>reputation</th>\n",
              "      <th>stat_overall</th>\n",
              "      <th>stat_potential</th>\n",
              "      <th>stat_skill_moves</th>\n",
              "    </tr>\n",
              "  </thead>\n",
              "  <tbody>\n",
              "    <tr>\n",
              "      <th>0</th>\n",
              "      <td>Cristiano Ronaldo</td>\n",
              "      <td>1</td>\n",
              "      <td>2</td>\n",
              "      <td>33</td>\n",
              "      <td>2022</td>\n",
              "      <td>1</td>\n",
              "      <td>0</td>\n",
              "      <td>5</td>\n",
              "      <td>94</td>\n",
              "      <td>94</td>\n",
              "      <td>5</td>\n",
              "    </tr>\n",
              "    <tr>\n",
              "      <th>1</th>\n",
              "      <td>Neymar Jr</td>\n",
              "      <td>2</td>\n",
              "      <td>4</td>\n",
              "      <td>26</td>\n",
              "      <td>2022</td>\n",
              "      <td>1</td>\n",
              "      <td>0</td>\n",
              "      <td>5</td>\n",
              "      <td>92</td>\n",
              "      <td>93</td>\n",
              "      <td>5</td>\n",
              "    </tr>\n",
              "    <tr>\n",
              "      <th>2</th>\n",
              "      <td>K. De Bruyne</td>\n",
              "      <td>4</td>\n",
              "      <td>2</td>\n",
              "      <td>27</td>\n",
              "      <td>2023</td>\n",
              "      <td>2</td>\n",
              "      <td>0</td>\n",
              "      <td>4</td>\n",
              "      <td>91</td>\n",
              "      <td>92</td>\n",
              "      <td>4</td>\n",
              "    </tr>\n",
              "    <tr>\n",
              "      <th>3</th>\n",
              "      <td>E. Hazard</td>\n",
              "      <td>5</td>\n",
              "      <td>2</td>\n",
              "      <td>27</td>\n",
              "      <td>2020</td>\n",
              "      <td>1</td>\n",
              "      <td>0</td>\n",
              "      <td>4</td>\n",
              "      <td>91</td>\n",
              "      <td>91</td>\n",
              "      <td>4</td>\n",
              "    </tr>\n",
              "    <tr>\n",
              "      <th>4</th>\n",
              "      <td>L. Modrić</td>\n",
              "      <td>6</td>\n",
              "      <td>2</td>\n",
              "      <td>32</td>\n",
              "      <td>2020</td>\n",
              "      <td>2</td>\n",
              "      <td>0</td>\n",
              "      <td>4</td>\n",
              "      <td>91</td>\n",
              "      <td>91</td>\n",
              "      <td>4</td>\n",
              "    </tr>\n",
              "  </tbody>\n",
              "</table>\n",
              "</div>"
            ],
            "text/plain": [
              "                name  id  ...  stat_potential  stat_skill_moves\n",
              "0  Cristiano Ronaldo   1  ...              94                 5\n",
              "1          Neymar Jr   2  ...              93                 5\n",
              "2       K. De Bruyne   4  ...              92                 4\n",
              "3          E. Hazard   5  ...              91                 4\n",
              "4          L. Modrić   6  ...              91                 4\n",
              "\n",
              "[5 rows x 11 columns]"
            ]
          },
          "metadata": {},
          "execution_count": 25
        }
      ]
    },
    {
      "cell_type": "code",
      "metadata": {
        "id": "xv7ju2vepKgs",
        "colab": {
          "base_uri": "https://localhost:8080/"
        },
        "outputId": "77da2c5c-93ce-4a9b-a7d8-96ebabae1928"
      },
      "source": [
        "data2=pay.to_numpy()\n",
        "print(data2.shape)\n",
        "print(data2[:5])\n",
        "\n",
        "\n",
        "t = data2[:,1:]\n",
        "\n",
        "\n",
        "print(t.shape)\n",
        "print(t[:5])\n",
        "print(t[:,0])"
      ],
      "execution_count": null,
      "outputs": [
        {
          "output_type": "stream",
          "text": [
            "(3828, 11)\n",
            "[['Cristiano Ronaldo' 1 2 33 2022 1 0 5 94 94 5]\n",
            " ['Neymar Jr' 2 4 26 2022 1 0 5 92 93 5]\n",
            " ['K. De Bruyne' 4 2 27 2023 2 0 4 91 92 4]\n",
            " ['E. Hazard' 5 2 27 2020 1 0 4 91 91 4]\n",
            " ['L. Modrić' 6 2 32 2020 2 0 4 91 91 4]]\n",
            "(3828, 10)\n",
            "[[1 2 33 2022 1 0 5 94 94 5]\n",
            " [2 4 26 2022 1 0 5 92 93 5]\n",
            " [4 2 27 2023 2 0 4 91 92 4]\n",
            " [5 2 27 2020 1 0 4 91 91 4]\n",
            " [6 2 32 2020 2 0 4 91 91 4]]\n",
            "[1 2 4 ... 16932 16937 16943]\n"
          ],
          "name": "stdout"
        }
      ]
    },
    {
      "cell_type": "code",
      "metadata": {
        "id": "DpE0xKjo4KRY"
      },
      "source": [
        "t = t[:,:].astype(float)"
      ],
      "execution_count": null,
      "outputs": []
    },
    {
      "cell_type": "code",
      "metadata": {
        "colab": {
          "base_uri": "https://localhost:8080/"
        },
        "id": "yNyBvcR23iLR",
        "outputId": "3b95ada2-4bf7-42bf-de7a-722ca3cea787"
      },
      "source": [
        "y_1 = model.predict(t)\n",
        "print(y_1[:,0])"
      ],
      "execution_count": null,
      "outputs": [
        {
          "output_type": "stream",
          "text": [
            "[6.0449004e+07 6.2899620e+07 6.0819124e+07 ... 8.6249266e+04 7.6454484e+04\n",
            " 4.1497422e+04]\n"
          ],
          "name": "stdout"
        }
      ]
    },
    {
      "cell_type": "code",
      "metadata": {
        "colab": {
          "base_uri": "https://localhost:8080/"
        },
        "id": "OXGN2x12y81h",
        "outputId": "afd8ef26-87ef-4009-f6c1-d4a550ceb50d"
      },
      "source": [
        "(t[:,0])"
      ],
      "execution_count": null,
      "outputs": [
        {
          "output_type": "execute_result",
          "data": {
            "text/plain": [
              "array([1.0000e+00, 2.0000e+00, 4.0000e+00, ..., 1.6932e+04, 1.6937e+04,\n",
              "       1.6943e+04])"
            ]
          },
          "metadata": {},
          "execution_count": 29
        }
      ]
    },
    {
      "cell_type": "code",
      "metadata": {
        "colab": {
          "base_uri": "https://localhost:8080/"
        },
        "id": "fMV5YYF45DFR",
        "outputId": "8357736e-9e77-4d1d-ce1e-bbffed683f0e"
      },
      "source": [
        "print(np.vstack((t[:,0],y_1[:,0])))"
      ],
      "execution_count": null,
      "outputs": [
        {
          "output_type": "stream",
          "text": [
            "[[1.00000000e+00 2.00000000e+00 4.00000000e+00 ... 1.69320000e+04\n",
            "  1.69370000e+04 1.69430000e+04]\n",
            " [6.04490040e+07 6.28996200e+07 6.08191240e+07 ... 8.62492656e+04\n",
            "  7.64544844e+04 4.14974219e+04]]\n"
          ],
          "name": "stdout"
        }
      ]
    },
    {
      "cell_type": "code",
      "metadata": {
        "id": "OQEDvGv31QeO"
      },
      "source": [
        "raw_data=np.vstack((t[:,0],y_1[:,0])).T\n",
        "data3=pd.DataFrame(raw_data[:],columns =['id','value'])"
      ],
      "execution_count": null,
      "outputs": []
    },
    {
      "cell_type": "code",
      "metadata": {
        "id": "Ibr6OqLQ4jar"
      },
      "source": [
        "data3.to_csv('submission.csv') \n"
      ],
      "execution_count": null,
      "outputs": []
    },
    {
      "cell_type": "code",
      "metadata": {
        "id": "9kYlLNqBbVJE",
        "colab": {
          "base_uri": "https://localhost:8080/"
        },
        "outputId": "429c3476-3a82-4f09-cbcb-a85a176c142a"
      },
      "source": [
        "print(submission.csv)"
      ],
      "execution_count": null,
      "outputs": [
        {
          "output_type": "stream",
          "text": [
            "submission.csv\n"
          ],
          "name": "stdout"
        }
      ]
    },
    {
      "cell_type": "code",
      "metadata": {
        "id": "psIG6dFbbYAW",
        "colab": {
          "base_uri": "https://localhost:8080/",
          "height": 202
        },
        "outputId": "4caaf052-7ed3-4654-a59a-f8f3e114adc5"
      },
      "source": [
        "invest=pd.read_csv('submission.csv')\n",
        "invest.head()"
      ],
      "execution_count": null,
      "outputs": [
        {
          "output_type": "execute_result",
          "data": {
            "text/html": [
              "<div>\n",
              "<style scoped>\n",
              "    .dataframe tbody tr th:only-of-type {\n",
              "        vertical-align: middle;\n",
              "    }\n",
              "\n",
              "    .dataframe tbody tr th {\n",
              "        vertical-align: top;\n",
              "    }\n",
              "\n",
              "    .dataframe thead th {\n",
              "        text-align: right;\n",
              "    }\n",
              "</style>\n",
              "<table border=\"1\" class=\"dataframe\">\n",
              "  <thead>\n",
              "    <tr style=\"text-align: right;\">\n",
              "      <th></th>\n",
              "      <th>Unnamed: 0</th>\n",
              "      <th>id</th>\n",
              "      <th>value</th>\n",
              "    </tr>\n",
              "  </thead>\n",
              "  <tbody>\n",
              "    <tr>\n",
              "      <th>0</th>\n",
              "      <td>0</td>\n",
              "      <td>1.0</td>\n",
              "      <td>60449004.0</td>\n",
              "    </tr>\n",
              "    <tr>\n",
              "      <th>1</th>\n",
              "      <td>1</td>\n",
              "      <td>2.0</td>\n",
              "      <td>62899620.0</td>\n",
              "    </tr>\n",
              "    <tr>\n",
              "      <th>2</th>\n",
              "      <td>2</td>\n",
              "      <td>4.0</td>\n",
              "      <td>60819124.0</td>\n",
              "    </tr>\n",
              "    <tr>\n",
              "      <th>3</th>\n",
              "      <td>3</td>\n",
              "      <td>5.0</td>\n",
              "      <td>60596836.0</td>\n",
              "    </tr>\n",
              "    <tr>\n",
              "      <th>4</th>\n",
              "      <td>4</td>\n",
              "      <td>6.0</td>\n",
              "      <td>57660700.0</td>\n",
              "    </tr>\n",
              "  </tbody>\n",
              "</table>\n",
              "</div>"
            ],
            "text/plain": [
              "   Unnamed: 0   id       value\n",
              "0           0  1.0  60449004.0\n",
              "1           1  2.0  62899620.0\n",
              "2           2  4.0  60819124.0\n",
              "3           3  5.0  60596836.0\n",
              "4           4  6.0  57660700.0"
            ]
          },
          "metadata": {},
          "execution_count": 35
        }
      ]
    }
  ]
}