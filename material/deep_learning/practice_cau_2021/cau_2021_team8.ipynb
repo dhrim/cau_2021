{
  "nbformat": 4,
  "nbformat_minor": 0,
  "metadata": {
    "accelerator": "GPU",
    "colab": {
      "name": "8팀_전석규.ipynb",
      "provenance": []
    },
    "kernelspec": {
      "display_name": "Python 3",
      "name": "python3"
    },
    "language_info": {
      "name": "python"
    }
  },
  "cells": [
    {
      "cell_type": "markdown",
      "metadata": {
        "id": "HSHrLmwrRDLz"
      },
      "source": [
        "#기본선언\n"
      ]
    },
    {
      "cell_type": "code",
      "metadata": {
        "id": "Ppxv1TevNOJb"
      },
      "source": [
        "import numpy as np\n",
        "import matplotlib.pyplot as plt\n",
        "import pandas as pd\n",
        "\n",
        "import tensorflow as tf\n",
        "from tensorflow import keras\n",
        "from tensorflow.keras import optimizers\n",
        "from tensorflow.keras.layers import Dense, Flatten, Conv2D, MaxPooling2D, Input, Reshape\n",
        "\n",
        "import time"
      ],
      "execution_count": 2,
      "outputs": []
    },
    {
      "cell_type": "markdown",
      "metadata": {
        "id": "2vFRZGyIRLqc"
      },
      "source": [
        "데이터 가져오기"
      ]
    },
    {
      "cell_type": "code",
      "metadata": {
        "colab": {
          "base_uri": "https://localhost:8080/"
        },
        "id": "o-p62Zf9ROs7",
        "outputId": "84c67ab9-623c-45a6-d66d-67fd3a9f4e89"
      },
      "source": [
        "from google.colab import drive\n",
        "drive.mount('/content/gdrive')\n"
      ],
      "execution_count": null,
      "outputs": [
        {
          "output_type": "stream",
          "text": [
            "Mounted at /content/gdrive\n"
          ],
          "name": "stdout"
        }
      ]
    },
    {
      "cell_type": "code",
      "metadata": {
        "id": "YX-eNOfrWliR"
      },
      "source": [
        "test = '/content/gdrive/MyDrive/235626_컴퓨터 비전 학습 경진대회_data/test.csv'\n",
        "train = '/content/gdrive/MyDrive/235626_컴퓨터 비전 학습 경진대회_data/train.csv'"
      ],
      "execution_count": null,
      "outputs": []
    },
    {
      "cell_type": "markdown",
      "metadata": {
        "id": "W0vykNpxj1pu"
      },
      "source": [
        "#데이터 전처리"
      ]
    },
    {
      "cell_type": "code",
      "metadata": {
        "colab": {
          "base_uri": "https://localhost:8080/",
          "height": 251
        },
        "id": "MexZjabnZMbL",
        "outputId": "3c481c26-7e8f-4165-ab04-53f88ce4c6f3"
      },
      "source": [
        "raw_test = pd.read_csv(test,encoding = 'CP949')\n",
        "raw_train = pd.read_csv(train,encoding = 'CP949')\n",
        "print(type(raw_test))\n",
        "print(type(raw_train))\n",
        "print(raw_test)\n",
        "print(raw_train)"
      ],
      "execution_count": 1,
      "outputs": [
        {
          "output_type": "error",
          "ename": "NameError",
          "evalue": "ignored",
          "traceback": [
            "\u001b[0;31m---------------------------------------------------------------------------\u001b[0m",
            "\u001b[0;31mNameError\u001b[0m                                 Traceback (most recent call last)",
            "\u001b[0;32m<ipython-input-1-0d706268452a>\u001b[0m in \u001b[0;36m<module>\u001b[0;34m()\u001b[0m\n\u001b[0;32m----> 1\u001b[0;31m \u001b[0mraw_test\u001b[0m \u001b[0;34m=\u001b[0m \u001b[0mpd\u001b[0m\u001b[0;34m.\u001b[0m\u001b[0mread_csv\u001b[0m\u001b[0;34m(\u001b[0m\u001b[0mtest\u001b[0m\u001b[0;34m,\u001b[0m\u001b[0mencoding\u001b[0m \u001b[0;34m=\u001b[0m \u001b[0;34m'CP949'\u001b[0m\u001b[0;34m)\u001b[0m\u001b[0;34m\u001b[0m\u001b[0;34m\u001b[0m\u001b[0m\n\u001b[0m\u001b[1;32m      2\u001b[0m \u001b[0mraw_train\u001b[0m \u001b[0;34m=\u001b[0m \u001b[0mpd\u001b[0m\u001b[0;34m.\u001b[0m\u001b[0mread_csv\u001b[0m\u001b[0;34m(\u001b[0m\u001b[0mtrain\u001b[0m\u001b[0;34m,\u001b[0m\u001b[0mencoding\u001b[0m \u001b[0;34m=\u001b[0m \u001b[0;34m'CP949'\u001b[0m\u001b[0;34m)\u001b[0m\u001b[0;34m\u001b[0m\u001b[0;34m\u001b[0m\u001b[0m\n\u001b[1;32m      3\u001b[0m \u001b[0mprint\u001b[0m\u001b[0;34m(\u001b[0m\u001b[0mtype\u001b[0m\u001b[0;34m(\u001b[0m\u001b[0mraw_test\u001b[0m\u001b[0;34m)\u001b[0m\u001b[0;34m)\u001b[0m\u001b[0;34m\u001b[0m\u001b[0;34m\u001b[0m\u001b[0m\n\u001b[1;32m      4\u001b[0m \u001b[0mprint\u001b[0m\u001b[0;34m(\u001b[0m\u001b[0mtype\u001b[0m\u001b[0;34m(\u001b[0m\u001b[0mraw_train\u001b[0m\u001b[0;34m)\u001b[0m\u001b[0;34m)\u001b[0m\u001b[0;34m\u001b[0m\u001b[0;34m\u001b[0m\u001b[0m\n\u001b[1;32m      5\u001b[0m \u001b[0mprint\u001b[0m\u001b[0;34m(\u001b[0m\u001b[0mraw_test\u001b[0m\u001b[0;34m)\u001b[0m\u001b[0;34m\u001b[0m\u001b[0;34m\u001b[0m\u001b[0m\n",
            "\u001b[0;31mNameError\u001b[0m: name 'pd' is not defined"
          ]
        }
      ]
    },
    {
      "cell_type": "code",
      "metadata": {
        "colab": {
          "base_uri": "https://localhost:8080/"
        },
        "id": "qtoSW90LaPKF",
        "outputId": "8096feab-deac-48c5-a062-9936acf4ca5e"
      },
      "source": [
        "print(raw_test)\n",
        "print(raw_train)\n",
        "train_img = raw_train.iloc[:,3:].to_numpy().reshape(-1,28,28)\n",
        "train_img1 = raw_train.iloc[:,3:].to_numpy().reshape(-1,28,28,1)\n",
        "train_digit = raw_train['digit']\n",
        "train_letter = raw_train['letter']\n",
        "test_img = raw_test.iloc[:,2:].to_numpy().reshape(-1,28,28)\n",
        "test_img1 = raw_test.iloc[:,2:].to_numpy().reshape(-1,28,28,1)\n",
        "test_letter = raw_test['letter']\n",
        "train_digit = raw_train['digit']\n",
        "print(type(train_digit))\n",
        "print(type(train_letter))\n",
        "print(type(test_letter))"
      ],
      "execution_count": null,
      "outputs": [
        {
          "output_type": "stream",
          "text": [
            "          id letter  0  1  2  3  4  5  ...  776  777  778  779  780  781  782  783\n",
            "0       2049      L  0  4  0  2  4  2  ...    4    2    2    4    3    4    1    4\n",
            "1       2050      C  4  1  4  0  1  1  ...    2    4    2    4    2    2    1    2\n",
            "2       2051      S  0  4  0  1  3  2  ...    2    0    3    2    3    0    1    4\n",
            "3       2052      K  2  1  3  3  3  4  ...    3    2    4    1    0    4    4    4\n",
            "4       2053      W  1  0  1  1  2  2  ...    1    4    0    2    1    2    3    4\n",
            "...      ...    ... .. .. .. .. .. ..  ...  ...  ...  ...  ...  ...  ...  ...  ...\n",
            "20475  22524      P  1  2  1  1  0  0  ...    3    0    3    0    4    3    1    4\n",
            "20476  22525      S  4  1  1  4  0  0  ...    1    0    0    1    3    1    2    0\n",
            "20477  22526      B  4  2  1  3  2  1  ...    3    4    1    0    3    3    1    1\n",
            "20478  22527      K  1  1  2  3  4  0  ...    0    4    3    3    3    4    4    2\n",
            "20479  22528      S  2  1  0  3  0  3  ...    0    1    4    2    0    2    2    0\n",
            "\n",
            "[20480 rows x 786 columns]\n",
            "        id  digit letter  0  1  2  3  4  ...  776  777  778  779  780  781  782  783\n",
            "0        1      5      L  1  1  1  4  3  ...    0    1    2    4    4    4    3    4\n",
            "1        2      0      B  0  4  0  0  4  ...    0    1    4    1    4    2    1    2\n",
            "2        3      4      L  1  1  2  2  1  ...    3    0    2    0    3    0    2    2\n",
            "3        4      9      D  1  2  0  2  0  ...    2    0    1    4    0    0    1    1\n",
            "4        5      6      A  3  0  2  4  0  ...    3    2    1    3    4    3    1    2\n",
            "...    ...    ...    ... .. .. .. .. ..  ...  ...  ...  ...  ...  ...  ...  ...  ...\n",
            "2043  2044      6      V  2  4  3  4  2  ...    2    0    0    1    3    1    4    0\n",
            "2044  2045      1      L  3  2  2  1  1  ...    4    2    1    2    3    4    1    1\n",
            "2045  2046      9      A  4  0  4  0  2  ...    1    1    3    4    2    2    0    0\n",
            "2046  2047      0      Z  2  3  3  0  3  ...    1    1    0    4    1    4    3    1\n",
            "2047  2048      5      Z  4  2  2  1  3  ...    4    0    4    3    2    4    3    4\n",
            "\n",
            "[2048 rows x 787 columns]\n",
            "<class 'pandas.core.series.Series'>\n",
            "<class 'pandas.core.series.Series'>\n",
            "<class 'pandas.core.series.Series'>\n"
          ],
          "name": "stdout"
        }
      ]
    },
    {
      "cell_type": "markdown",
      "metadata": {
        "id": "ixooK8otjf63"
      },
      "source": [
        "#Normalization"
      ]
    },
    {
      "cell_type": "code",
      "metadata": {
        "colab": {
          "base_uri": "https://localhost:8080/"
        },
        "id": "ln95flrgkHhF",
        "outputId": "479a2b42-4b5c-4bdb-8e0d-251767b7109c"
      },
      "source": [
        "print(train_img.max())\n",
        "print(test_img.max())\n",
        "train = train_img/255\n",
        "train1 = train_img1/255\n",
        "test = test_img/255\n",
        "test1 = test_img1/255\n",
        "print(np.max(train[:,]))\n",
        "print(np.max(test[:,]))\n",
        "print(train.shape)\n",
        "print(test.shape)"
      ],
      "execution_count": null,
      "outputs": [
        {
          "output_type": "stream",
          "text": [
            "255\n",
            "255\n",
            "1.0\n",
            "1.0\n",
            "(2048, 28, 28)\n",
            "(20480, 28, 28)\n"
          ],
          "name": "stdout"
        }
      ]
    },
    {
      "cell_type": "markdown",
      "metadata": {
        "id": "ND5PwdaAtzNH"
      },
      "source": [
        "#특징벡터, 대상벡터 준비"
      ]
    },
    {
      "cell_type": "code",
      "metadata": {
        "colab": {
          "base_uri": "https://localhost:8080/"
        },
        "id": "kX8R9yGjtyiA",
        "outputId": "2ceb6bce-417a-4af4-8565-3ad301a50684"
      },
      "source": [
        "train_X = train_img\n",
        "print(train_digit)\n",
        "print(type(train_digit))\n",
        "print(train_digit.to_numpy())\n",
        "print(type(train_digit.to_numpy()))\n",
        "train_y = train_digit.to_numpy()\n",
        "test_X = test_img\n",
        "print(type(train_X))\n"
      ],
      "execution_count": null,
      "outputs": [
        {
          "output_type": "stream",
          "text": [
            "0       5\n",
            "1       0\n",
            "2       4\n",
            "3       9\n",
            "4       6\n",
            "       ..\n",
            "2043    6\n",
            "2044    1\n",
            "2045    9\n",
            "2046    0\n",
            "2047    5\n",
            "Name: digit, Length: 2048, dtype: int64\n",
            "<class 'pandas.core.series.Series'>\n",
            "[5 0 4 ... 9 0 5]\n",
            "<class 'numpy.ndarray'>\n",
            "<class 'numpy.ndarray'>\n"
          ],
          "name": "stdout"
        }
      ]
    },
    {
      "cell_type": "markdown",
      "metadata": {
        "id": "V8akANcir5_4"
      },
      "source": [
        "#Model 준비"
      ]
    },
    {
      "cell_type": "markdown",
      "metadata": {
        "id": "f71tlITBU3jm"
      },
      "source": [
        "#템플릿 활용"
      ]
    },
    {
      "cell_type": "code",
      "metadata": {
        "colab": {
          "base_uri": "https://localhost:8080/",
          "height": 1000
        },
        "id": "WICyxGUmr9Bg",
        "outputId": "b5f4f2ce-442a-4d00-e913-a9dd66b6bd92"
      },
      "source": [
        "model = keras.Sequential()\n",
        "model.add(Input((28,28)))\n",
        "model.add(Reshape((28,28,1)))\n",
        "model.add(Conv2D(32, (3, 3)))\n",
        "model.add(MaxPooling2D((2, 2)))\n",
        "model.add(Conv2D(64, (3, 3)))\n",
        "model.add(MaxPooling2D((2, 2)))\n",
        "model.add(Flatten())\n",
        "model.add(Dense(10, activation='relu'))\n",
        "model.add(Dense(10, activation='relu'))\n",
        "model.add(Dense(10, activation='softmax'))\n",
        "\n",
        "\n",
        "model.compile(optimizer=\"adam\", loss=\"sparse_categorical_crossentropy\", metrics=[\"accuracy\"])\n",
        "model.summary()\n",
        "\n",
        "\n",
        "model.fit(train_X, train_y, epochs=100, verbose=1, batch_size=128, validation_split=0.1)\n",
        "\n",
        "\n",
        "# loss, acc = model.evaluate(test, test)\n",
        "# print(\"loss=\",loss)\n",
        "# print(\"acc=\",acc)\n",
        "\n",
        "# y_ = model.predict(test)\n",
        "# predicted = np.argmax(y_, axis=1)\n",
        "\n",
        "# print(predicted)\n"
      ],
      "execution_count": null,
      "outputs": [
        {
          "output_type": "stream",
          "text": [
            "Model: \"sequential\"\n",
            "_________________________________________________________________\n",
            "Layer (type)                 Output Shape              Param #   \n",
            "=================================================================\n",
            "reshape (Reshape)            (None, 28, 28, 1)         0         \n",
            "_________________________________________________________________\n",
            "conv2d (Conv2D)              (None, 26, 26, 32)        320       \n",
            "_________________________________________________________________\n",
            "max_pooling2d (MaxPooling2D) (None, 13, 13, 32)        0         \n",
            "_________________________________________________________________\n",
            "conv2d_1 (Conv2D)            (None, 11, 11, 64)        18496     \n",
            "_________________________________________________________________\n",
            "max_pooling2d_1 (MaxPooling2 (None, 5, 5, 64)          0         \n",
            "_________________________________________________________________\n",
            "flatten (Flatten)            (None, 1600)              0         \n",
            "_________________________________________________________________\n",
            "dense (Dense)                (None, 10)                16010     \n",
            "_________________________________________________________________\n",
            "dense_1 (Dense)              (None, 10)                110       \n",
            "_________________________________________________________________\n",
            "dense_2 (Dense)              (None, 10)                110       \n",
            "=================================================================\n",
            "Total params: 35,046\n",
            "Trainable params: 35,046\n",
            "Non-trainable params: 0\n",
            "_________________________________________________________________\n",
            "Epoch 1/100\n",
            "15/15 [==============================] - 16s 26ms/step - loss: 4.0529 - accuracy: 0.0852 - val_loss: 2.3032 - val_accuracy: 0.1024\n",
            "Epoch 2/100\n",
            "15/15 [==============================] - 0s 6ms/step - loss: 2.3019 - accuracy: 0.1107 - val_loss: 2.3034 - val_accuracy: 0.1024\n",
            "Epoch 3/100\n",
            "15/15 [==============================] - 0s 6ms/step - loss: 2.3019 - accuracy: 0.1107 - val_loss: 2.3036 - val_accuracy: 0.1024\n",
            "Epoch 4/100\n",
            "15/15 [==============================] - 0s 6ms/step - loss: 2.3065 - accuracy: 0.1101 - val_loss: 2.3038 - val_accuracy: 0.1024\n",
            "Epoch 5/100\n",
            "15/15 [==============================] - 0s 6ms/step - loss: 2.3017 - accuracy: 0.1107 - val_loss: 2.3040 - val_accuracy: 0.1024\n",
            "Epoch 6/100\n",
            "15/15 [==============================] - 0s 6ms/step - loss: 2.3014 - accuracy: 0.1107 - val_loss: 2.3041 - val_accuracy: 0.1024\n",
            "Epoch 7/100\n",
            "15/15 [==============================] - 0s 6ms/step - loss: 2.3012 - accuracy: 0.1085 - val_loss: 2.3043 - val_accuracy: 0.0829\n",
            "Epoch 8/100\n",
            "15/15 [==============================] - 0s 6ms/step - loss: 2.3011 - accuracy: 0.1172 - val_loss: 2.3045 - val_accuracy: 0.0829\n",
            "Epoch 9/100\n",
            "15/15 [==============================] - 0s 6ms/step - loss: 2.3010 - accuracy: 0.1172 - val_loss: 2.3046 - val_accuracy: 0.0829\n",
            "Epoch 10/100\n",
            "15/15 [==============================] - 0s 6ms/step - loss: 2.3008 - accuracy: 0.1172 - val_loss: 2.3049 - val_accuracy: 0.0829\n",
            "Epoch 11/100\n",
            "15/15 [==============================] - 0s 6ms/step - loss: 2.3006 - accuracy: 0.1172 - val_loss: 2.3052 - val_accuracy: 0.0829\n",
            "Epoch 12/100\n",
            "15/15 [==============================] - 0s 5ms/step - loss: 2.3004 - accuracy: 0.1172 - val_loss: 2.3054 - val_accuracy: 0.0829\n",
            "Epoch 13/100\n",
            "15/15 [==============================] - 0s 5ms/step - loss: 2.3003 - accuracy: 0.1172 - val_loss: 2.3056 - val_accuracy: 0.0829\n",
            "Epoch 14/100\n",
            "15/15 [==============================] - 0s 6ms/step - loss: 2.3002 - accuracy: 0.1172 - val_loss: 2.3059 - val_accuracy: 0.0829\n",
            "Epoch 15/100\n",
            "15/15 [==============================] - 0s 6ms/step - loss: 2.3001 - accuracy: 0.1172 - val_loss: 2.3060 - val_accuracy: 0.0829\n",
            "Epoch 16/100\n",
            "15/15 [==============================] - 0s 6ms/step - loss: 2.3000 - accuracy: 0.1172 - val_loss: 2.3063 - val_accuracy: 0.0829\n",
            "Epoch 17/100\n",
            "15/15 [==============================] - 0s 6ms/step - loss: 2.2999 - accuracy: 0.1172 - val_loss: 2.3066 - val_accuracy: 0.0829\n",
            "Epoch 18/100\n",
            "15/15 [==============================] - 0s 6ms/step - loss: 2.2998 - accuracy: 0.1172 - val_loss: 2.3068 - val_accuracy: 0.0829\n",
            "Epoch 19/100\n",
            "15/15 [==============================] - 0s 5ms/step - loss: 2.2998 - accuracy: 0.1172 - val_loss: 2.3071 - val_accuracy: 0.0829\n",
            "Epoch 20/100\n",
            "15/15 [==============================] - 0s 5ms/step - loss: 2.2997 - accuracy: 0.1172 - val_loss: 2.3073 - val_accuracy: 0.0829\n",
            "Epoch 21/100\n",
            "15/15 [==============================] - 0s 7ms/step - loss: 2.2996 - accuracy: 0.1172 - val_loss: 2.3075 - val_accuracy: 0.0829\n",
            "Epoch 22/100\n",
            "15/15 [==============================] - 0s 6ms/step - loss: 2.2996 - accuracy: 0.1172 - val_loss: 2.3079 - val_accuracy: 0.0829\n",
            "Epoch 23/100\n",
            "15/15 [==============================] - 0s 6ms/step - loss: 2.2995 - accuracy: 0.1172 - val_loss: 2.3081 - val_accuracy: 0.0829\n",
            "Epoch 24/100\n",
            "15/15 [==============================] - 0s 6ms/step - loss: 2.2995 - accuracy: 0.1172 - val_loss: 2.3084 - val_accuracy: 0.0829\n",
            "Epoch 25/100\n",
            "15/15 [==============================] - 0s 6ms/step - loss: 2.2994 - accuracy: 0.1172 - val_loss: 2.3086 - val_accuracy: 0.0829\n",
            "Epoch 26/100\n",
            "15/15 [==============================] - 0s 5ms/step - loss: 2.2994 - accuracy: 0.1172 - val_loss: 2.3089 - val_accuracy: 0.0829\n",
            "Epoch 27/100\n",
            "15/15 [==============================] - 0s 5ms/step - loss: 2.2993 - accuracy: 0.1172 - val_loss: 2.3091 - val_accuracy: 0.0829\n",
            "Epoch 28/100\n",
            "15/15 [==============================] - 0s 5ms/step - loss: 2.2993 - accuracy: 0.1172 - val_loss: 2.3093 - val_accuracy: 0.0829\n",
            "Epoch 29/100\n",
            "15/15 [==============================] - 0s 6ms/step - loss: 2.2992 - accuracy: 0.1172 - val_loss: 2.3096 - val_accuracy: 0.0829\n",
            "Epoch 30/100\n",
            "15/15 [==============================] - 0s 5ms/step - loss: 2.2992 - accuracy: 0.1172 - val_loss: 2.3097 - val_accuracy: 0.0829\n",
            "Epoch 31/100\n",
            "15/15 [==============================] - 0s 5ms/step - loss: 2.2991 - accuracy: 0.1172 - val_loss: 2.3099 - val_accuracy: 0.0829\n",
            "Epoch 32/100\n",
            "15/15 [==============================] - 0s 6ms/step - loss: 2.2991 - accuracy: 0.1172 - val_loss: 2.3101 - val_accuracy: 0.0829\n",
            "Epoch 33/100\n",
            "15/15 [==============================] - 0s 6ms/step - loss: 2.2991 - accuracy: 0.1172 - val_loss: 2.3102 - val_accuracy: 0.0829\n",
            "Epoch 34/100\n",
            "15/15 [==============================] - 0s 5ms/step - loss: 2.2991 - accuracy: 0.1172 - val_loss: 2.3104 - val_accuracy: 0.0829\n",
            "Epoch 35/100\n",
            "15/15 [==============================] - 0s 6ms/step - loss: 2.2991 - accuracy: 0.1172 - val_loss: 2.3106 - val_accuracy: 0.0829\n",
            "Epoch 36/100\n",
            "15/15 [==============================] - 0s 6ms/step - loss: 2.2990 - accuracy: 0.1172 - val_loss: 2.3107 - val_accuracy: 0.0829\n",
            "Epoch 37/100\n",
            "15/15 [==============================] - 0s 6ms/step - loss: 2.2990 - accuracy: 0.1172 - val_loss: 2.3109 - val_accuracy: 0.0829\n",
            "Epoch 38/100\n",
            "15/15 [==============================] - 0s 5ms/step - loss: 2.2990 - accuracy: 0.1172 - val_loss: 2.3111 - val_accuracy: 0.0829\n",
            "Epoch 39/100\n",
            "15/15 [==============================] - 0s 5ms/step - loss: 2.2990 - accuracy: 0.1172 - val_loss: 2.3111 - val_accuracy: 0.0829\n",
            "Epoch 40/100\n",
            "15/15 [==============================] - 0s 6ms/step - loss: 2.2990 - accuracy: 0.1172 - val_loss: 2.3113 - val_accuracy: 0.0829\n",
            "Epoch 41/100\n",
            "15/15 [==============================] - 0s 6ms/step - loss: 2.2990 - accuracy: 0.1172 - val_loss: 2.3113 - val_accuracy: 0.0829\n",
            "Epoch 42/100\n",
            "15/15 [==============================] - 0s 7ms/step - loss: 2.2989 - accuracy: 0.1172 - val_loss: 2.3115 - val_accuracy: 0.0829\n",
            "Epoch 43/100\n",
            "15/15 [==============================] - 0s 6ms/step - loss: 2.2989 - accuracy: 0.1172 - val_loss: 2.3115 - val_accuracy: 0.0829\n",
            "Epoch 44/100\n",
            "15/15 [==============================] - 0s 6ms/step - loss: 2.2989 - accuracy: 0.1172 - val_loss: 2.3117 - val_accuracy: 0.0829\n",
            "Epoch 45/100\n",
            "15/15 [==============================] - 0s 6ms/step - loss: 2.2989 - accuracy: 0.1172 - val_loss: 2.3117 - val_accuracy: 0.0829\n",
            "Epoch 46/100\n",
            "15/15 [==============================] - 0s 6ms/step - loss: 2.2989 - accuracy: 0.1172 - val_loss: 2.3120 - val_accuracy: 0.0829\n",
            "Epoch 47/100\n",
            "15/15 [==============================] - 0s 5ms/step - loss: 2.2989 - accuracy: 0.1172 - val_loss: 2.3121 - val_accuracy: 0.0829\n",
            "Epoch 48/100\n",
            "15/15 [==============================] - 0s 6ms/step - loss: 2.2989 - accuracy: 0.1172 - val_loss: 2.3122 - val_accuracy: 0.0829\n",
            "Epoch 49/100\n",
            "15/15 [==============================] - 0s 7ms/step - loss: 2.2989 - accuracy: 0.1172 - val_loss: 2.3123 - val_accuracy: 0.0829\n",
            "Epoch 50/100\n",
            "15/15 [==============================] - 0s 6ms/step - loss: 2.2989 - accuracy: 0.1172 - val_loss: 2.3125 - val_accuracy: 0.0829\n",
            "Epoch 51/100\n",
            "15/15 [==============================] - 0s 6ms/step - loss: 2.2989 - accuracy: 0.1172 - val_loss: 2.3126 - val_accuracy: 0.0829\n",
            "Epoch 52/100\n",
            "15/15 [==============================] - 0s 5ms/step - loss: 2.2989 - accuracy: 0.1172 - val_loss: 2.3129 - val_accuracy: 0.0829\n",
            "Epoch 53/100\n",
            "15/15 [==============================] - 0s 5ms/step - loss: 2.2988 - accuracy: 0.1172 - val_loss: 2.3128 - val_accuracy: 0.0829\n",
            "Epoch 54/100\n",
            "15/15 [==============================] - 0s 6ms/step - loss: 2.2989 - accuracy: 0.1172 - val_loss: 2.3128 - val_accuracy: 0.0829\n",
            "Epoch 55/100\n",
            "15/15 [==============================] - 0s 6ms/step - loss: 2.2989 - accuracy: 0.1172 - val_loss: 2.3128 - val_accuracy: 0.0829\n",
            "Epoch 56/100\n",
            "15/15 [==============================] - 0s 6ms/step - loss: 2.2988 - accuracy: 0.1172 - val_loss: 2.3129 - val_accuracy: 0.0829\n",
            "Epoch 57/100\n",
            "15/15 [==============================] - 0s 5ms/step - loss: 2.2989 - accuracy: 0.1172 - val_loss: 2.3132 - val_accuracy: 0.0829\n",
            "Epoch 58/100\n",
            "15/15 [==============================] - 0s 7ms/step - loss: 2.2989 - accuracy: 0.1172 - val_loss: 2.3131 - val_accuracy: 0.0829\n",
            "Epoch 59/100\n",
            "15/15 [==============================] - 0s 6ms/step - loss: 2.2988 - accuracy: 0.1172 - val_loss: 2.3133 - val_accuracy: 0.0829\n",
            "Epoch 60/100\n",
            "15/15 [==============================] - 0s 6ms/step - loss: 2.2989 - accuracy: 0.1172 - val_loss: 2.3132 - val_accuracy: 0.0829\n",
            "Epoch 61/100\n",
            "15/15 [==============================] - 0s 6ms/step - loss: 2.2988 - accuracy: 0.1172 - val_loss: 2.3134 - val_accuracy: 0.0829\n",
            "Epoch 62/100\n",
            "15/15 [==============================] - 0s 5ms/step - loss: 2.2988 - accuracy: 0.1172 - val_loss: 2.3134 - val_accuracy: 0.0829\n",
            "Epoch 63/100\n",
            "15/15 [==============================] - 0s 6ms/step - loss: 2.2988 - accuracy: 0.1172 - val_loss: 2.3134 - val_accuracy: 0.0829\n",
            "Epoch 64/100\n",
            "15/15 [==============================] - 0s 5ms/step - loss: 2.2988 - accuracy: 0.1172 - val_loss: 2.3134 - val_accuracy: 0.0829\n",
            "Epoch 65/100\n",
            "15/15 [==============================] - 0s 6ms/step - loss: 2.2988 - accuracy: 0.1172 - val_loss: 2.3134 - val_accuracy: 0.0829\n",
            "Epoch 66/100\n",
            "15/15 [==============================] - 0s 6ms/step - loss: 2.2988 - accuracy: 0.1172 - val_loss: 2.3137 - val_accuracy: 0.0829\n",
            "Epoch 67/100\n",
            "15/15 [==============================] - 0s 6ms/step - loss: 2.2988 - accuracy: 0.1172 - val_loss: 2.3137 - val_accuracy: 0.0829\n",
            "Epoch 68/100\n",
            "15/15 [==============================] - 0s 5ms/step - loss: 2.2988 - accuracy: 0.1172 - val_loss: 2.3137 - val_accuracy: 0.0829\n",
            "Epoch 69/100\n",
            " 1/15 [=>............................] - ETA: 0s - loss: 2.3067 - accuracy: 0.0938"
          ],
          "name": "stdout"
        },
        {
          "output_type": "error",
          "ename": "KeyboardInterrupt",
          "evalue": "ignored",
          "traceback": [
            "\u001b[0;31m---------------------------------------------------------------------------\u001b[0m",
            "\u001b[0;31mKeyboardInterrupt\u001b[0m                         Traceback (most recent call last)",
            "\u001b[0;32m<ipython-input-8-38217809fe68>\u001b[0m in \u001b[0;36m<module>\u001b[0;34m()\u001b[0m\n\u001b[1;32m     16\u001b[0m \u001b[0;34m\u001b[0m\u001b[0m\n\u001b[1;32m     17\u001b[0m \u001b[0;34m\u001b[0m\u001b[0m\n\u001b[0;32m---> 18\u001b[0;31m \u001b[0mmodel\u001b[0m\u001b[0;34m.\u001b[0m\u001b[0mfit\u001b[0m\u001b[0;34m(\u001b[0m\u001b[0mtrain_X\u001b[0m\u001b[0;34m,\u001b[0m \u001b[0mtrain_y\u001b[0m\u001b[0;34m,\u001b[0m \u001b[0mepochs\u001b[0m\u001b[0;34m=\u001b[0m\u001b[0;36m100\u001b[0m\u001b[0;34m,\u001b[0m \u001b[0mverbose\u001b[0m\u001b[0;34m=\u001b[0m\u001b[0;36m1\u001b[0m\u001b[0;34m,\u001b[0m \u001b[0mbatch_size\u001b[0m\u001b[0;34m=\u001b[0m\u001b[0;36m128\u001b[0m\u001b[0;34m,\u001b[0m \u001b[0mvalidation_split\u001b[0m\u001b[0;34m=\u001b[0m\u001b[0;36m0.1\u001b[0m\u001b[0;34m)\u001b[0m\u001b[0;34m\u001b[0m\u001b[0;34m\u001b[0m\u001b[0m\n\u001b[0m\u001b[1;32m     19\u001b[0m \u001b[0;34m\u001b[0m\u001b[0m\n\u001b[1;32m     20\u001b[0m \u001b[0;34m\u001b[0m\u001b[0m\n",
            "\u001b[0;32m/usr/local/lib/python3.7/dist-packages/keras/engine/training.py\u001b[0m in \u001b[0;36mfit\u001b[0;34m(self, x, y, batch_size, epochs, verbose, callbacks, validation_split, validation_data, shuffle, class_weight, sample_weight, initial_epoch, steps_per_epoch, validation_steps, validation_batch_size, validation_freq, max_queue_size, workers, use_multiprocessing)\u001b[0m\n\u001b[1;32m   1182\u001b[0m                 _r=1):\n\u001b[1;32m   1183\u001b[0m               \u001b[0mcallbacks\u001b[0m\u001b[0;34m.\u001b[0m\u001b[0mon_train_batch_begin\u001b[0m\u001b[0;34m(\u001b[0m\u001b[0mstep\u001b[0m\u001b[0;34m)\u001b[0m\u001b[0;34m\u001b[0m\u001b[0;34m\u001b[0m\u001b[0m\n\u001b[0;32m-> 1184\u001b[0;31m               \u001b[0mtmp_logs\u001b[0m \u001b[0;34m=\u001b[0m \u001b[0mself\u001b[0m\u001b[0;34m.\u001b[0m\u001b[0mtrain_function\u001b[0m\u001b[0;34m(\u001b[0m\u001b[0miterator\u001b[0m\u001b[0;34m)\u001b[0m\u001b[0;34m\u001b[0m\u001b[0;34m\u001b[0m\u001b[0m\n\u001b[0m\u001b[1;32m   1185\u001b[0m               \u001b[0;32mif\u001b[0m \u001b[0mdata_handler\u001b[0m\u001b[0;34m.\u001b[0m\u001b[0mshould_sync\u001b[0m\u001b[0;34m:\u001b[0m\u001b[0;34m\u001b[0m\u001b[0;34m\u001b[0m\u001b[0m\n\u001b[1;32m   1186\u001b[0m                 \u001b[0mcontext\u001b[0m\u001b[0;34m.\u001b[0m\u001b[0masync_wait\u001b[0m\u001b[0;34m(\u001b[0m\u001b[0;34m)\u001b[0m\u001b[0;34m\u001b[0m\u001b[0;34m\u001b[0m\u001b[0m\n",
            "\u001b[0;32m/usr/local/lib/python3.7/dist-packages/tensorflow/python/eager/def_function.py\u001b[0m in \u001b[0;36m__call__\u001b[0;34m(self, *args, **kwds)\u001b[0m\n\u001b[1;32m    883\u001b[0m \u001b[0;34m\u001b[0m\u001b[0m\n\u001b[1;32m    884\u001b[0m       \u001b[0;32mwith\u001b[0m \u001b[0mOptionalXlaContext\u001b[0m\u001b[0;34m(\u001b[0m\u001b[0mself\u001b[0m\u001b[0;34m.\u001b[0m\u001b[0m_jit_compile\u001b[0m\u001b[0;34m)\u001b[0m\u001b[0;34m:\u001b[0m\u001b[0;34m\u001b[0m\u001b[0;34m\u001b[0m\u001b[0m\n\u001b[0;32m--> 885\u001b[0;31m         \u001b[0mresult\u001b[0m \u001b[0;34m=\u001b[0m \u001b[0mself\u001b[0m\u001b[0;34m.\u001b[0m\u001b[0m_call\u001b[0m\u001b[0;34m(\u001b[0m\u001b[0;34m*\u001b[0m\u001b[0margs\u001b[0m\u001b[0;34m,\u001b[0m \u001b[0;34m**\u001b[0m\u001b[0mkwds\u001b[0m\u001b[0;34m)\u001b[0m\u001b[0;34m\u001b[0m\u001b[0;34m\u001b[0m\u001b[0m\n\u001b[0m\u001b[1;32m    886\u001b[0m \u001b[0;34m\u001b[0m\u001b[0m\n\u001b[1;32m    887\u001b[0m       \u001b[0mnew_tracing_count\u001b[0m \u001b[0;34m=\u001b[0m \u001b[0mself\u001b[0m\u001b[0;34m.\u001b[0m\u001b[0mexperimental_get_tracing_count\u001b[0m\u001b[0;34m(\u001b[0m\u001b[0;34m)\u001b[0m\u001b[0;34m\u001b[0m\u001b[0;34m\u001b[0m\u001b[0m\n",
            "\u001b[0;32m/usr/local/lib/python3.7/dist-packages/tensorflow/python/eager/def_function.py\u001b[0m in \u001b[0;36m_call\u001b[0;34m(self, *args, **kwds)\u001b[0m\n\u001b[1;32m    915\u001b[0m       \u001b[0;31m# In this case we have created variables on the first call, so we run the\u001b[0m\u001b[0;34m\u001b[0m\u001b[0;34m\u001b[0m\u001b[0;34m\u001b[0m\u001b[0m\n\u001b[1;32m    916\u001b[0m       \u001b[0;31m# defunned version which is guaranteed to never create variables.\u001b[0m\u001b[0;34m\u001b[0m\u001b[0;34m\u001b[0m\u001b[0;34m\u001b[0m\u001b[0m\n\u001b[0;32m--> 917\u001b[0;31m       \u001b[0;32mreturn\u001b[0m \u001b[0mself\u001b[0m\u001b[0;34m.\u001b[0m\u001b[0m_stateless_fn\u001b[0m\u001b[0;34m(\u001b[0m\u001b[0;34m*\u001b[0m\u001b[0margs\u001b[0m\u001b[0;34m,\u001b[0m \u001b[0;34m**\u001b[0m\u001b[0mkwds\u001b[0m\u001b[0;34m)\u001b[0m  \u001b[0;31m# pylint: disable=not-callable\u001b[0m\u001b[0;34m\u001b[0m\u001b[0;34m\u001b[0m\u001b[0m\n\u001b[0m\u001b[1;32m    918\u001b[0m     \u001b[0;32melif\u001b[0m \u001b[0mself\u001b[0m\u001b[0;34m.\u001b[0m\u001b[0m_stateful_fn\u001b[0m \u001b[0;32mis\u001b[0m \u001b[0;32mnot\u001b[0m \u001b[0;32mNone\u001b[0m\u001b[0;34m:\u001b[0m\u001b[0;34m\u001b[0m\u001b[0;34m\u001b[0m\u001b[0m\n\u001b[1;32m    919\u001b[0m       \u001b[0;31m# Release the lock early so that multiple threads can perform the call\u001b[0m\u001b[0;34m\u001b[0m\u001b[0;34m\u001b[0m\u001b[0;34m\u001b[0m\u001b[0m\n",
            "\u001b[0;32m/usr/local/lib/python3.7/dist-packages/tensorflow/python/eager/function.py\u001b[0m in \u001b[0;36m__call__\u001b[0;34m(self, *args, **kwargs)\u001b[0m\n\u001b[1;32m   3038\u001b[0m        filtered_flat_args) = self._maybe_define_function(args, kwargs)\n\u001b[1;32m   3039\u001b[0m     return graph_function._call_flat(\n\u001b[0;32m-> 3040\u001b[0;31m         filtered_flat_args, captured_inputs=graph_function.captured_inputs)  # pylint: disable=protected-access\n\u001b[0m\u001b[1;32m   3041\u001b[0m \u001b[0;34m\u001b[0m\u001b[0m\n\u001b[1;32m   3042\u001b[0m   \u001b[0;34m@\u001b[0m\u001b[0mproperty\u001b[0m\u001b[0;34m\u001b[0m\u001b[0;34m\u001b[0m\u001b[0m\n",
            "\u001b[0;32m/usr/local/lib/python3.7/dist-packages/tensorflow/python/eager/function.py\u001b[0m in \u001b[0;36m_call_flat\u001b[0;34m(self, args, captured_inputs, cancellation_manager)\u001b[0m\n\u001b[1;32m   1962\u001b[0m       \u001b[0;31m# No tape is watching; skip to running the function.\u001b[0m\u001b[0;34m\u001b[0m\u001b[0;34m\u001b[0m\u001b[0;34m\u001b[0m\u001b[0m\n\u001b[1;32m   1963\u001b[0m       return self._build_call_outputs(self._inference_function.call(\n\u001b[0;32m-> 1964\u001b[0;31m           ctx, args, cancellation_manager=cancellation_manager))\n\u001b[0m\u001b[1;32m   1965\u001b[0m     forward_backward = self._select_forward_and_backward_functions(\n\u001b[1;32m   1966\u001b[0m         \u001b[0margs\u001b[0m\u001b[0;34m,\u001b[0m\u001b[0;34m\u001b[0m\u001b[0;34m\u001b[0m\u001b[0m\n",
            "\u001b[0;32m/usr/local/lib/python3.7/dist-packages/tensorflow/python/eager/function.py\u001b[0m in \u001b[0;36mcall\u001b[0;34m(self, ctx, args, cancellation_manager)\u001b[0m\n\u001b[1;32m    594\u001b[0m               \u001b[0minputs\u001b[0m\u001b[0;34m=\u001b[0m\u001b[0margs\u001b[0m\u001b[0;34m,\u001b[0m\u001b[0;34m\u001b[0m\u001b[0;34m\u001b[0m\u001b[0m\n\u001b[1;32m    595\u001b[0m               \u001b[0mattrs\u001b[0m\u001b[0;34m=\u001b[0m\u001b[0mattrs\u001b[0m\u001b[0;34m,\u001b[0m\u001b[0;34m\u001b[0m\u001b[0;34m\u001b[0m\u001b[0m\n\u001b[0;32m--> 596\u001b[0;31m               ctx=ctx)\n\u001b[0m\u001b[1;32m    597\u001b[0m         \u001b[0;32melse\u001b[0m\u001b[0;34m:\u001b[0m\u001b[0;34m\u001b[0m\u001b[0;34m\u001b[0m\u001b[0m\n\u001b[1;32m    598\u001b[0m           outputs = execute.execute_with_cancellation(\n",
            "\u001b[0;32m/usr/local/lib/python3.7/dist-packages/tensorflow/python/eager/execute.py\u001b[0m in \u001b[0;36mquick_execute\u001b[0;34m(op_name, num_outputs, inputs, attrs, ctx, name)\u001b[0m\n\u001b[1;32m     58\u001b[0m     \u001b[0mctx\u001b[0m\u001b[0;34m.\u001b[0m\u001b[0mensure_initialized\u001b[0m\u001b[0;34m(\u001b[0m\u001b[0;34m)\u001b[0m\u001b[0;34m\u001b[0m\u001b[0;34m\u001b[0m\u001b[0m\n\u001b[1;32m     59\u001b[0m     tensors = pywrap_tfe.TFE_Py_Execute(ctx._handle, device_name, op_name,\n\u001b[0;32m---> 60\u001b[0;31m                                         inputs, attrs, num_outputs)\n\u001b[0m\u001b[1;32m     61\u001b[0m   \u001b[0;32mexcept\u001b[0m \u001b[0mcore\u001b[0m\u001b[0;34m.\u001b[0m\u001b[0m_NotOkStatusException\u001b[0m \u001b[0;32mas\u001b[0m \u001b[0me\u001b[0m\u001b[0;34m:\u001b[0m\u001b[0;34m\u001b[0m\u001b[0;34m\u001b[0m\u001b[0m\n\u001b[1;32m     62\u001b[0m     \u001b[0;32mif\u001b[0m \u001b[0mname\u001b[0m \u001b[0;32mis\u001b[0m \u001b[0;32mnot\u001b[0m \u001b[0;32mNone\u001b[0m\u001b[0;34m:\u001b[0m\u001b[0;34m\u001b[0m\u001b[0;34m\u001b[0m\u001b[0m\n",
            "\u001b[0;31mKeyboardInterrupt\u001b[0m: "
          ]
        }
      ]
    },
    {
      "cell_type": "markdown",
      "metadata": {
        "id": "jzjq6eulU7Te"
      },
      "source": [
        "#Dense 조절, 오버피팅 처리방법 사용"
      ]
    },
    {
      "cell_type": "code",
      "metadata": {
        "colab": {
          "base_uri": "https://localhost:8080/",
          "height": 1000
        },
        "id": "hZJe6gCQCEht",
        "outputId": "bc1e7b3b-ee13-4a9b-898b-9b8fc5cc0f20"
      },
      "source": [
        "from tensorflow.keras.layers import Dropout\n",
        "from tensorflow.keras.layers import BatchNormalization\n",
        "from tensorflow.keras.regularizers import l1, l2, L1L2\n",
        "model = keras.Sequential()\n",
        "model.add(Input((28,28)))\n",
        "model.add(Reshape((28,28,1)))\n",
        "model.add(Conv2D(64, (3, 3)))\n",
        "model.add(MaxPooling2D((2, 2)))\n",
        "model.add(Conv2D(128, (3, 3)))\n",
        "model.add(MaxPooling2D((2, 2)))\n",
        "model.add(Flatten())\n",
        "model.add(Dense(100, activation='relu', kernel_regularizer=l2()))\n",
        "model.add(BatchNormalization())\n",
        "model.add(Dropout(0.5))\n",
        "model.add(Dense(100, activation='relu', kernel_regularizer=l2()))\n",
        "model.add(BatchNormalization())\n",
        "model.add(Dropout(0.5))\n",
        "model.add(Dense(10, activation='softmax'))\n",
        "\n",
        "\n",
        "model.compile(optimizer=\"adam\", loss=\"sparse_categorical_crossentropy\", metrics=[\"accuracy\"])\n",
        "model.summary()\n",
        "\n",
        "\n",
        "history = model.fit(train_X, train_y, epochs=100, verbose=1, batch_size=128, validation_split=0.1)\n",
        "\n",
        "\n",
        "plt.plot(history.history['loss'], label='train_loss')\n",
        "plt.plot(history.history['val_loss'], label='test_loss')\n",
        "plt.legend()\n",
        "plt.show()"
      ],
      "execution_count": null,
      "outputs": [
        {
          "output_type": "stream",
          "text": [
            "Model: \"sequential_1\"\n",
            "_________________________________________________________________\n",
            "Layer (type)                 Output Shape              Param #   \n",
            "=================================================================\n",
            "reshape_1 (Reshape)          (None, 28, 28, 1)         0         \n",
            "_________________________________________________________________\n",
            "conv2d_2 (Conv2D)            (None, 26, 26, 64)        640       \n",
            "_________________________________________________________________\n",
            "max_pooling2d_2 (MaxPooling2 (None, 13, 13, 64)        0         \n",
            "_________________________________________________________________\n",
            "conv2d_3 (Conv2D)            (None, 11, 11, 128)       73856     \n",
            "_________________________________________________________________\n",
            "max_pooling2d_3 (MaxPooling2 (None, 5, 5, 128)         0         \n",
            "_________________________________________________________________\n",
            "flatten_1 (Flatten)          (None, 3200)              0         \n",
            "_________________________________________________________________\n",
            "dense_3 (Dense)              (None, 100)               320100    \n",
            "_________________________________________________________________\n",
            "batch_normalization (BatchNo (None, 100)               400       \n",
            "_________________________________________________________________\n",
            "dropout (Dropout)            (None, 100)               0         \n",
            "_________________________________________________________________\n",
            "dense_4 (Dense)              (None, 100)               10100     \n",
            "_________________________________________________________________\n",
            "batch_normalization_1 (Batch (None, 100)               400       \n",
            "_________________________________________________________________\n",
            "dropout_1 (Dropout)          (None, 100)               0         \n",
            "_________________________________________________________________\n",
            "dense_5 (Dense)              (None, 10)                1010      \n",
            "=================================================================\n",
            "Total params: 406,506\n",
            "Trainable params: 406,106\n",
            "Non-trainable params: 400\n",
            "_________________________________________________________________\n",
            "Epoch 1/100\n",
            "15/15 [==============================] - 1s 30ms/step - loss: 6.0539 - accuracy: 0.1384 - val_loss: 10.4825 - val_accuracy: 0.1073\n",
            "Epoch 2/100\n",
            "15/15 [==============================] - 0s 8ms/step - loss: 5.5356 - accuracy: 0.1877 - val_loss: 8.2766 - val_accuracy: 0.1415\n",
            "Epoch 3/100\n",
            "15/15 [==============================] - 0s 9ms/step - loss: 5.1676 - accuracy: 0.1975 - val_loss: 6.6033 - val_accuracy: 0.2293\n",
            "Epoch 4/100\n",
            "15/15 [==============================] - 0s 8ms/step - loss: 4.8915 - accuracy: 0.2165 - val_loss: 5.2803 - val_accuracy: 0.1902\n",
            "Epoch 5/100\n",
            "15/15 [==============================] - 0s 9ms/step - loss: 4.6662 - accuracy: 0.2219 - val_loss: 5.2610 - val_accuracy: 0.1659\n",
            "Epoch 6/100\n",
            "15/15 [==============================] - 0s 8ms/step - loss: 4.4228 - accuracy: 0.2447 - val_loss: 4.6078 - val_accuracy: 0.2049\n",
            "Epoch 7/100\n",
            "15/15 [==============================] - 0s 9ms/step - loss: 4.1636 - accuracy: 0.2599 - val_loss: 4.3341 - val_accuracy: 0.2098\n",
            "Epoch 8/100\n",
            "15/15 [==============================] - 0s 8ms/step - loss: 3.9992 - accuracy: 0.2610 - val_loss: 3.7561 - val_accuracy: 0.2829\n",
            "Epoch 9/100\n",
            "15/15 [==============================] - 0s 8ms/step - loss: 3.8367 - accuracy: 0.2724 - val_loss: 3.5079 - val_accuracy: 0.3122\n",
            "Epoch 10/100\n",
            "15/15 [==============================] - 0s 9ms/step - loss: 3.6089 - accuracy: 0.2908 - val_loss: 3.6310 - val_accuracy: 0.2488\n",
            "Epoch 11/100\n",
            "15/15 [==============================] - 0s 9ms/step - loss: 3.4872 - accuracy: 0.3044 - val_loss: 3.5964 - val_accuracy: 0.2244\n",
            "Epoch 12/100\n",
            "15/15 [==============================] - 0s 9ms/step - loss: 3.2997 - accuracy: 0.3228 - val_loss: 3.2776 - val_accuracy: 0.3073\n",
            "Epoch 13/100\n",
            "15/15 [==============================] - 0s 8ms/step - loss: 3.1604 - accuracy: 0.3511 - val_loss: 3.1833 - val_accuracy: 0.3220\n",
            "Epoch 14/100\n",
            "15/15 [==============================] - 0s 8ms/step - loss: 3.0600 - accuracy: 0.3516 - val_loss: 3.2708 - val_accuracy: 0.2098\n",
            "Epoch 15/100\n",
            "15/15 [==============================] - 0s 8ms/step - loss: 2.9702 - accuracy: 0.3652 - val_loss: 3.4107 - val_accuracy: 0.1561\n",
            "Epoch 16/100\n",
            "15/15 [==============================] - 0s 8ms/step - loss: 2.8609 - accuracy: 0.3858 - val_loss: 3.3801 - val_accuracy: 0.1415\n",
            "Epoch 17/100\n",
            "15/15 [==============================] - 0s 8ms/step - loss: 2.7226 - accuracy: 0.4075 - val_loss: 3.5414 - val_accuracy: 0.1220\n",
            "Epoch 18/100\n",
            "15/15 [==============================] - 0s 9ms/step - loss: 2.6385 - accuracy: 0.4102 - val_loss: 3.5895 - val_accuracy: 0.0976\n",
            "Epoch 19/100\n",
            "15/15 [==============================] - 0s 8ms/step - loss: 2.5742 - accuracy: 0.4324 - val_loss: 3.5181 - val_accuracy: 0.1122\n",
            "Epoch 20/100\n",
            "15/15 [==============================] - 0s 9ms/step - loss: 2.4214 - accuracy: 0.4693 - val_loss: 3.5566 - val_accuracy: 0.1122\n",
            "Epoch 21/100\n",
            "15/15 [==============================] - 0s 8ms/step - loss: 2.3356 - accuracy: 0.4943 - val_loss: 3.6944 - val_accuracy: 0.0976\n",
            "Epoch 22/100\n",
            "15/15 [==============================] - 0s 8ms/step - loss: 2.1970 - accuracy: 0.5279 - val_loss: 3.7052 - val_accuracy: 0.1122\n",
            "Epoch 23/100\n",
            "15/15 [==============================] - 0s 8ms/step - loss: 2.1402 - accuracy: 0.5269 - val_loss: 3.6901 - val_accuracy: 0.1122\n",
            "Epoch 24/100\n",
            "15/15 [==============================] - 0s 8ms/step - loss: 2.0391 - accuracy: 0.5746 - val_loss: 3.7846 - val_accuracy: 0.1317\n",
            "Epoch 25/100\n",
            "15/15 [==============================] - 0s 8ms/step - loss: 1.9442 - accuracy: 0.5990 - val_loss: 3.6285 - val_accuracy: 0.1073\n",
            "Epoch 26/100\n",
            "15/15 [==============================] - 0s 9ms/step - loss: 1.9075 - accuracy: 0.6023 - val_loss: 3.8683 - val_accuracy: 0.1024\n",
            "Epoch 27/100\n",
            "15/15 [==============================] - 0s 8ms/step - loss: 1.8318 - accuracy: 0.6240 - val_loss: 3.5757 - val_accuracy: 0.1024\n",
            "Epoch 28/100\n",
            "15/15 [==============================] - 0s 8ms/step - loss: 1.6733 - accuracy: 0.6717 - val_loss: 3.4717 - val_accuracy: 0.1073\n",
            "Epoch 29/100\n",
            "15/15 [==============================] - 0s 8ms/step - loss: 1.6127 - accuracy: 0.6994 - val_loss: 3.4806 - val_accuracy: 0.1122\n",
            "Epoch 30/100\n",
            "15/15 [==============================] - 0s 8ms/step - loss: 1.5276 - accuracy: 0.7325 - val_loss: 3.3113 - val_accuracy: 0.1415\n",
            "Epoch 31/100\n",
            "15/15 [==============================] - 0s 8ms/step - loss: 1.4220 - accuracy: 0.7591 - val_loss: 3.5369 - val_accuracy: 0.1268\n",
            "Epoch 32/100\n",
            "15/15 [==============================] - 0s 8ms/step - loss: 1.3220 - accuracy: 0.7938 - val_loss: 3.2796 - val_accuracy: 0.1366\n",
            "Epoch 33/100\n",
            "15/15 [==============================] - 0s 8ms/step - loss: 1.2753 - accuracy: 0.8085 - val_loss: 3.5186 - val_accuracy: 0.1415\n",
            "Epoch 34/100\n",
            "15/15 [==============================] - 0s 9ms/step - loss: 1.2083 - accuracy: 0.8231 - val_loss: 3.3084 - val_accuracy: 0.1659\n",
            "Epoch 35/100\n",
            "15/15 [==============================] - 0s 8ms/step - loss: 1.1319 - accuracy: 0.8416 - val_loss: 3.5762 - val_accuracy: 0.1512\n",
            "Epoch 36/100\n",
            "15/15 [==============================] - 0s 8ms/step - loss: 1.1187 - accuracy: 0.8399 - val_loss: 3.2426 - val_accuracy: 0.2049\n",
            "Epoch 37/100\n",
            "15/15 [==============================] - 0s 8ms/step - loss: 1.0552 - accuracy: 0.8730 - val_loss: 3.3153 - val_accuracy: 0.2098\n",
            "Epoch 38/100\n",
            "15/15 [==============================] - 0s 8ms/step - loss: 1.0218 - accuracy: 0.8774 - val_loss: 3.0894 - val_accuracy: 0.2634\n",
            "Epoch 39/100\n",
            "15/15 [==============================] - 0s 8ms/step - loss: 0.9873 - accuracy: 0.8833 - val_loss: 2.9640 - val_accuracy: 0.2878\n",
            "Epoch 40/100\n",
            "15/15 [==============================] - 0s 9ms/step - loss: 0.9507 - accuracy: 0.8893 - val_loss: 2.7613 - val_accuracy: 0.4000\n",
            "Epoch 41/100\n",
            "15/15 [==============================] - 0s 9ms/step - loss: 0.9213 - accuracy: 0.9023 - val_loss: 2.4438 - val_accuracy: 0.4195\n",
            "Epoch 42/100\n",
            "15/15 [==============================] - 0s 8ms/step - loss: 0.8681 - accuracy: 0.9132 - val_loss: 2.9594 - val_accuracy: 0.3415\n",
            "Epoch 43/100\n",
            "15/15 [==============================] - 0s 8ms/step - loss: 0.8538 - accuracy: 0.9061 - val_loss: 2.6097 - val_accuracy: 0.3805\n",
            "Epoch 44/100\n",
            "15/15 [==============================] - 0s 8ms/step - loss: 0.8221 - accuracy: 0.9181 - val_loss: 2.2261 - val_accuracy: 0.4878\n",
            "Epoch 45/100\n",
            "15/15 [==============================] - 0s 8ms/step - loss: 0.8031 - accuracy: 0.9246 - val_loss: 2.6865 - val_accuracy: 0.3659\n",
            "Epoch 46/100\n",
            "15/15 [==============================] - 0s 8ms/step - loss: 0.8004 - accuracy: 0.9246 - val_loss: 2.1524 - val_accuracy: 0.5122\n",
            "Epoch 47/100\n",
            "15/15 [==============================] - 0s 8ms/step - loss: 0.7918 - accuracy: 0.9267 - val_loss: 2.9115 - val_accuracy: 0.3317\n",
            "Epoch 48/100\n",
            "15/15 [==============================] - 0s 8ms/step - loss: 0.7344 - accuracy: 0.9479 - val_loss: 2.1470 - val_accuracy: 0.5024\n",
            "Epoch 49/100\n",
            "15/15 [==============================] - 0s 8ms/step - loss: 0.7064 - accuracy: 0.9485 - val_loss: 2.2180 - val_accuracy: 0.4829\n",
            "Epoch 50/100\n",
            "15/15 [==============================] - 0s 8ms/step - loss: 0.6868 - accuracy: 0.9495 - val_loss: 2.3699 - val_accuracy: 0.4732\n",
            "Epoch 51/100\n",
            "15/15 [==============================] - 0s 8ms/step - loss: 0.6820 - accuracy: 0.9436 - val_loss: 2.2011 - val_accuracy: 0.4683\n",
            "Epoch 52/100\n",
            "15/15 [==============================] - 0s 9ms/step - loss: 0.6761 - accuracy: 0.9436 - val_loss: 2.2373 - val_accuracy: 0.5122\n",
            "Epoch 53/100\n",
            "15/15 [==============================] - 0s 9ms/step - loss: 0.6566 - accuracy: 0.9501 - val_loss: 2.1320 - val_accuracy: 0.4976\n",
            "Epoch 54/100\n",
            "15/15 [==============================] - 0s 9ms/step - loss: 0.6619 - accuracy: 0.9392 - val_loss: 2.3944 - val_accuracy: 0.4878\n",
            "Epoch 55/100\n",
            "15/15 [==============================] - 0s 9ms/step - loss: 0.6584 - accuracy: 0.9354 - val_loss: 2.2116 - val_accuracy: 0.5171\n",
            "Epoch 56/100\n",
            "15/15 [==============================] - 0s 9ms/step - loss: 0.6576 - accuracy: 0.9376 - val_loss: 2.1073 - val_accuracy: 0.5220\n",
            "Epoch 57/100\n",
            "15/15 [==============================] - 0s 9ms/step - loss: 0.6488 - accuracy: 0.9436 - val_loss: 2.2899 - val_accuracy: 0.4976\n",
            "Epoch 58/100\n",
            "15/15 [==============================] - 0s 8ms/step - loss: 0.6563 - accuracy: 0.9425 - val_loss: 2.5208 - val_accuracy: 0.4585\n",
            "Epoch 59/100\n",
            "15/15 [==============================] - 0s 8ms/step - loss: 0.6654 - accuracy: 0.9322 - val_loss: 2.1556 - val_accuracy: 0.5415\n",
            "Epoch 60/100\n",
            "15/15 [==============================] - 0s 8ms/step - loss: 0.6450 - accuracy: 0.9381 - val_loss: 2.6603 - val_accuracy: 0.4390\n",
            "Epoch 61/100\n",
            "15/15 [==============================] - 0s 8ms/step - loss: 0.6468 - accuracy: 0.9403 - val_loss: 2.3590 - val_accuracy: 0.5073\n",
            "Epoch 62/100\n",
            "15/15 [==============================] - 0s 8ms/step - loss: 0.6410 - accuracy: 0.9419 - val_loss: 2.3102 - val_accuracy: 0.4732\n",
            "Epoch 63/100\n",
            "15/15 [==============================] - 0s 8ms/step - loss: 0.6394 - accuracy: 0.9447 - val_loss: 2.3918 - val_accuracy: 0.4927\n",
            "Epoch 64/100\n",
            "15/15 [==============================] - 0s 8ms/step - loss: 0.6536 - accuracy: 0.9381 - val_loss: 2.3003 - val_accuracy: 0.5317\n",
            "Epoch 65/100\n",
            "15/15 [==============================] - 0s 9ms/step - loss: 0.6280 - accuracy: 0.9533 - val_loss: 2.2592 - val_accuracy: 0.5220\n",
            "Epoch 66/100\n",
            "15/15 [==============================] - 0s 9ms/step - loss: 0.6293 - accuracy: 0.9490 - val_loss: 2.3238 - val_accuracy: 0.5220\n",
            "Epoch 67/100\n",
            "15/15 [==============================] - 0s 8ms/step - loss: 0.6327 - accuracy: 0.9474 - val_loss: 2.4866 - val_accuracy: 0.4732\n",
            "Epoch 68/100\n",
            "15/15 [==============================] - 0s 8ms/step - loss: 0.6314 - accuracy: 0.9523 - val_loss: 2.2762 - val_accuracy: 0.5220\n",
            "Epoch 69/100\n",
            "15/15 [==============================] - 0s 8ms/step - loss: 0.5967 - accuracy: 0.9560 - val_loss: 2.2541 - val_accuracy: 0.5268\n",
            "Epoch 70/100\n",
            "15/15 [==============================] - 0s 8ms/step - loss: 0.6081 - accuracy: 0.9474 - val_loss: 2.3351 - val_accuracy: 0.5463\n",
            "Epoch 71/100\n",
            "15/15 [==============================] - 0s 8ms/step - loss: 0.6159 - accuracy: 0.9468 - val_loss: 2.4197 - val_accuracy: 0.5463\n",
            "Epoch 72/100\n",
            "15/15 [==============================] - 0s 9ms/step - loss: 0.6086 - accuracy: 0.9544 - val_loss: 2.3463 - val_accuracy: 0.5366\n",
            "Epoch 73/100\n",
            "15/15 [==============================] - 0s 8ms/step - loss: 0.5976 - accuracy: 0.9566 - val_loss: 2.2744 - val_accuracy: 0.5463\n",
            "Epoch 74/100\n",
            "15/15 [==============================] - 0s 8ms/step - loss: 0.5903 - accuracy: 0.9566 - val_loss: 2.2205 - val_accuracy: 0.5707\n",
            "Epoch 75/100\n",
            "15/15 [==============================] - 0s 8ms/step - loss: 0.5633 - accuracy: 0.9582 - val_loss: 2.2521 - val_accuracy: 0.5220\n",
            "Epoch 76/100\n",
            "15/15 [==============================] - 0s 8ms/step - loss: 0.5304 - accuracy: 0.9669 - val_loss: 2.2400 - val_accuracy: 0.5561\n",
            "Epoch 77/100\n",
            "15/15 [==============================] - 0s 8ms/step - loss: 0.5022 - accuracy: 0.9767 - val_loss: 2.2692 - val_accuracy: 0.5317\n",
            "Epoch 78/100\n",
            "15/15 [==============================] - 0s 8ms/step - loss: 0.5058 - accuracy: 0.9604 - val_loss: 2.1909 - val_accuracy: 0.5220\n",
            "Epoch 79/100\n",
            "15/15 [==============================] - 0s 8ms/step - loss: 0.4922 - accuracy: 0.9680 - val_loss: 2.3762 - val_accuracy: 0.5415\n",
            "Epoch 80/100\n",
            "15/15 [==============================] - 0s 9ms/step - loss: 0.5113 - accuracy: 0.9577 - val_loss: 2.2503 - val_accuracy: 0.5220\n",
            "Epoch 81/100\n",
            "15/15 [==============================] - 0s 8ms/step - loss: 0.5232 - accuracy: 0.9577 - val_loss: 2.4481 - val_accuracy: 0.5512\n",
            "Epoch 82/100\n",
            "15/15 [==============================] - 0s 8ms/step - loss: 0.5248 - accuracy: 0.9555 - val_loss: 2.5463 - val_accuracy: 0.4439\n",
            "Epoch 83/100\n",
            "15/15 [==============================] - 0s 8ms/step - loss: 0.5348 - accuracy: 0.9588 - val_loss: 2.4743 - val_accuracy: 0.4780\n",
            "Epoch 84/100\n",
            "15/15 [==============================] - 0s 8ms/step - loss: 0.5748 - accuracy: 0.9485 - val_loss: 2.4897 - val_accuracy: 0.4878\n",
            "Epoch 85/100\n",
            "15/15 [==============================] - 0s 8ms/step - loss: 0.5609 - accuracy: 0.9571 - val_loss: 2.4805 - val_accuracy: 0.5073\n",
            "Epoch 86/100\n",
            "15/15 [==============================] - 0s 8ms/step - loss: 0.5581 - accuracy: 0.9598 - val_loss: 2.6300 - val_accuracy: 0.4244\n",
            "Epoch 87/100\n",
            "15/15 [==============================] - 0s 8ms/step - loss: 0.5789 - accuracy: 0.9495 - val_loss: 2.6189 - val_accuracy: 0.5171\n",
            "Epoch 88/100\n",
            "15/15 [==============================] - 0s 8ms/step - loss: 0.5801 - accuracy: 0.9495 - val_loss: 2.4862 - val_accuracy: 0.4927\n",
            "Epoch 89/100\n",
            "15/15 [==============================] - 0s 9ms/step - loss: 0.5416 - accuracy: 0.9609 - val_loss: 2.4149 - val_accuracy: 0.5171\n",
            "Epoch 90/100\n",
            "15/15 [==============================] - 0s 8ms/step - loss: 0.4997 - accuracy: 0.9723 - val_loss: 2.4005 - val_accuracy: 0.5561\n",
            "Epoch 91/100\n",
            "15/15 [==============================] - 0s 8ms/step - loss: 0.4990 - accuracy: 0.9653 - val_loss: 2.5008 - val_accuracy: 0.5122\n",
            "Epoch 92/100\n",
            "15/15 [==============================] - 0s 8ms/step - loss: 0.4910 - accuracy: 0.9658 - val_loss: 2.7126 - val_accuracy: 0.4488\n",
            "Epoch 93/100\n",
            "15/15 [==============================] - 0s 8ms/step - loss: 0.4954 - accuracy: 0.9647 - val_loss: 2.3694 - val_accuracy: 0.4878\n",
            "Epoch 94/100\n",
            "15/15 [==============================] - 0s 8ms/step - loss: 0.5237 - accuracy: 0.9523 - val_loss: 2.9699 - val_accuracy: 0.4049\n",
            "Epoch 95/100\n",
            "15/15 [==============================] - 0s 9ms/step - loss: 0.5092 - accuracy: 0.9626 - val_loss: 2.6356 - val_accuracy: 0.4634\n",
            "Epoch 96/100\n",
            "15/15 [==============================] - 0s 8ms/step - loss: 0.5222 - accuracy: 0.9598 - val_loss: 2.5200 - val_accuracy: 0.5122\n",
            "Epoch 97/100\n",
            "15/15 [==============================] - 0s 8ms/step - loss: 0.5239 - accuracy: 0.9598 - val_loss: 3.0019 - val_accuracy: 0.4927\n",
            "Epoch 98/100\n",
            "15/15 [==============================] - 0s 8ms/step - loss: 0.5356 - accuracy: 0.9571 - val_loss: 2.9284 - val_accuracy: 0.4341\n",
            "Epoch 99/100\n",
            "15/15 [==============================] - 0s 9ms/step - loss: 0.5348 - accuracy: 0.9604 - val_loss: 2.4134 - val_accuracy: 0.5561\n",
            "Epoch 100/100\n",
            "15/15 [==============================] - 0s 8ms/step - loss: 0.5275 - accuracy: 0.9577 - val_loss: 2.5732 - val_accuracy: 0.5171\n"
          ],
          "name": "stdout"
        },
        {
          "output_type": "display_data",
          "data": {
            "image/png": "[encoded data removed]",
            "text/plain": [
              "<Figure size 432x288 with 1 Axes>"
            ]
          },
          "metadata": {
            "needs_background": "light"
          }
        }
      ]
    },
    {
      "cell_type": "markdown",
      "metadata": {
        "id": "E-6LwZvoVLPP"
      },
      "source": [
        "#데이터 증강 사용"
      ]
    },
    {
      "cell_type": "code",
      "metadata": {
        "id": "UBLC87-T_79p"
      },
      "source": [
        "from tensorflow.keras.preprocessing.image import ImageDataGenerator"
      ],
      "execution_count": null,
      "outputs": []
    },
    {
      "cell_type": "code",
      "metadata": {
        "id": "32Q-qV119Tdf"
      },
      "source": [
        "from sklearn.model_selection import train_test_split\n",
        "train_X, val_X, train_y, val_y = train_test_split(train_X, train_y, test_size = 0.1, random_state = 1004)"
      ],
      "execution_count": null,
      "outputs": []
    },
    {
      "cell_type": "code",
      "metadata": {
        "id": "OyHHFdKz9TRN"
      },
      "source": [
        "test_image_datagen = ImageDataGenerator(\n",
        "  rescale=1./255\n",
        ")"
      ],
      "execution_count": null,
      "outputs": []
    },
    {
      "cell_type": "code",
      "metadata": {
        "id": "Ncw2hRU2lLQZ"
      },
      "source": [
        "train_image_datagen = ImageDataGenerator(\n",
        "  rescale=1./255, # 일반화\n",
        "  rotation_range=10,  # 랜덤하게 이미지를 회전 (단위: 도, 0-180)\n",
        "  zoom_range=0.1, # 랜덤하게 이미지 확대 (%)\n",
        "  width_shift_range=0.1,  # 랜덤하게 이미지를 수평으로 이동 (%)\n",
        "  height_shift_range=0.1,  # 랜덤하게 이미지를 수직으로 이동 (%)\n",
        ")"
      ],
      "execution_count": null,
      "outputs": []
    },
    {
      "cell_type": "code",
      "metadata": {
        "colab": {
          "base_uri": "https://localhost:8080/"
        },
        "id": "OoghsL8tyNOr",
        "outputId": "45f257d1-fd12-44f6-e7b9-af86049f0063"
      },
      "source": [
        "print(train_X.shape)\n",
        "print(train_y.shape)\n",
        "print(val_X.shape)"
      ],
      "execution_count": null,
      "outputs": [
        {
          "output_type": "stream",
          "text": [
            "(1750, 28, 28)\n",
            "(1750,)\n",
            "(195, 28, 28)\n"
          ],
          "name": "stdout"
        }
      ]
    },
    {
      "cell_type": "code",
      "metadata": {
        "colab": {
          "base_uri": "https://localhost:8080/"
        },
        "id": "ugnJjTx-v2JC",
        "outputId": "894d5f38-a92e-4488-b5ef-69414e597fb4"
      },
      "source": [
        "train_X = train_X.reshape(1750,28,28,1)\n",
        "val_X = val_X.reshape(195,28,28,1)\n",
        "print(train_X.shape)\n",
        "print(type(train_X))\n",
        "print(val_X.shape)"
      ],
      "execution_count": null,
      "outputs": [
        {
          "output_type": "stream",
          "text": [
            "(1750, 28, 28, 1)\n",
            "<class 'numpy.ndarray'>\n",
            "(195, 28, 28, 1)\n"
          ],
          "name": "stdout"
        }
      ]
    },
    {
      "cell_type": "markdown",
      "metadata": {
        "id": "FhW1lQBdVSfP"
      },
      "source": [
        "#Test digit데이터가 없어Train set에서 데이터를 떼어 내 validation set을 만듬"
      ]
    },
    {
      "cell_type": "code",
      "metadata": {
        "id": "_QPiWn-MlK_Q"
      },
      "source": [
        "train_datagen = train_image_datagen.flow(\n",
        "     x=train_X,\n",
        "     y=train_y,\n",
        "     batch_size=256,\n",
        "     shuffle=True\n",
        ")"
      ],
      "execution_count": null,
      "outputs": []
    },
    {
      "cell_type": "code",
      "metadata": {
        "id": "ewAuhEKpHWZ4"
      },
      "source": [
        "test_datagen = test_image_datagen.flow(\n",
        "    x=val_X,\n",
        "    y=val_y,\n",
        "    batch_size=256,\n",
        "    shuffle=False\n",
        ")"
      ],
      "execution_count": null,
      "outputs": []
    },
    {
      "cell_type": "code",
      "metadata": {
        "colab": {
          "base_uri": "https://localhost:8080/",
          "height": 1000
        },
        "id": "w5atX435ywB7",
        "outputId": "479cd94d-0dbc-4058-c42c-cc355e0bcfe5"
      },
      "source": [
        "from tensorflow.keras.layers import Dropout\n",
        "from tensorflow.keras.layers import BatchNormalization\n",
        "from tensorflow.keras.regularizers import l1, l2, L1L2\n",
        "model = keras.Sequential()\n",
        "model.add(Input((28,28)))\n",
        "model.add(Reshape((28,28,1)))\n",
        "model.add(Conv2D(64, (3, 3)))\n",
        "model.add(MaxPooling2D((2, 2)))\n",
        "model.add(Conv2D(128, (3, 3)))\n",
        "model.add(MaxPooling2D((2, 2)))\n",
        "model.add(Flatten())\n",
        "#model.add(Dense(1000, activation='relu'))\n",
        "# model.add(BatchNormalization())\n",
        "# model.add(Dropout(0.3))\n",
        "model.add(Dense(1000, activation='relu'))\n",
        "# model.add(BatchNormalization())\n",
        "# model.add(Dropout(0.3))\n",
        "model.add(Dense(1000, activation='relu'))\n",
        "model.add(Dense(1000, activation='relu'))\n",
        "model.add(Dense(1000, activation='relu'))\n",
        "model.add(BatchNormalization())\n",
        "model.add(Dropout(0.3))\n",
        "model.add(Dense(1000, activation='relu'))\n",
        "model.add(BatchNormalization())\n",
        "model.add(Dropout(0.3))\n",
        "model.add(Dense(10, activation='softmax'))\n",
        "\n",
        "\n",
        "model.compile(optimizer=\"adam\", loss=\"sparse_categorical_crossentropy\", metrics=[\"accuracy\"])\n",
        "model.summary()\n",
        "\n",
        "history = model.fit(train_datagen,\n",
        "          validation_data= test_datagen,\n",
        "          epochs=100)\n",
        "\n",
        "\n",
        "plt.plot(history.history['loss'], label='train_loss')\n",
        "plt.plot(history.history['val_loss'], label='test_loss')\n",
        "plt.legend()\n",
        "plt.show()"
      ],
      "execution_count": null,
      "outputs": [
        {
          "output_type": "stream",
          "text": [
            "Model: \"sequential_4\"\n",
            "_________________________________________________________________\n",
            "Layer (type)                 Output Shape              Param #   \n",
            "=================================================================\n",
            "reshape_4 (Reshape)          (None, 28, 28, 1)         0         \n",
            "_________________________________________________________________\n",
            "conv2d_19 (Conv2D)           (None, 26, 26, 64)        640       \n",
            "_________________________________________________________________\n",
            "max_pooling2d_10 (MaxPooling (None, 13, 13, 64)        0         \n",
            "_________________________________________________________________\n",
            "conv2d_20 (Conv2D)           (None, 11, 11, 128)       73856     \n",
            "_________________________________________________________________\n",
            "max_pooling2d_11 (MaxPooling (None, 5, 5, 128)         0         \n",
            "_________________________________________________________________\n",
            "flatten_4 (Flatten)          (None, 3200)              0         \n",
            "_________________________________________________________________\n",
            "dense_16 (Dense)             (None, 1000)              3201000   \n",
            "_________________________________________________________________\n",
            "dense_17 (Dense)             (None, 1000)              1001000   \n",
            "_________________________________________________________________\n",
            "dense_18 (Dense)             (None, 1000)              1001000   \n",
            "_________________________________________________________________\n",
            "dense_19 (Dense)             (None, 1000)              1001000   \n",
            "_________________________________________________________________\n",
            "batch_normalization_4 (Batch (None, 1000)              4000      \n",
            "_________________________________________________________________\n",
            "dropout_4 (Dropout)          (None, 1000)              0         \n",
            "_________________________________________________________________\n",
            "dense_20 (Dense)             (None, 1000)              1001000   \n",
            "_________________________________________________________________\n",
            "batch_normalization_5 (Batch (None, 1000)              4000      \n",
            "_________________________________________________________________\n",
            "dropout_5 (Dropout)          (None, 1000)              0         \n",
            "_________________________________________________________________\n",
            "dense_21 (Dense)             (None, 10)                10010     \n",
            "=================================================================\n",
            "Total params: 7,297,506\n",
            "Trainable params: 7,293,506\n",
            "Non-trainable params: 4,000\n",
            "_________________________________________________________________\n",
            "Epoch 1/100\n",
            "WARNING:tensorflow:Model was constructed with shape (None, 28, 28) for input KerasTensor(type_spec=TensorSpec(shape=(None, 28, 28), dtype=tf.float32, name='input_5'), name='input_5', description=\"created by layer 'input_5'\"), but it was called on an input with incompatible shape (None, None, None, None).\n",
            "WARNING:tensorflow:Model was constructed with shape (None, 28, 28) for input KerasTensor(type_spec=TensorSpec(shape=(None, 28, 28), dtype=tf.float32, name='input_5'), name='input_5', description=\"created by layer 'input_5'\"), but it was called on an input with incompatible shape (None, None, None, None).\n",
            "7/7 [==============================] - ETA: 0s - loss: 3.2050 - accuracy: 0.1389WARNING:tensorflow:Model was constructed with shape (None, 28, 28) for input KerasTensor(type_spec=TensorSpec(shape=(None, 28, 28), dtype=tf.float32, name='input_5'), name='input_5', description=\"created by layer 'input_5'\"), but it was called on an input with incompatible shape (None, None, None, None).\n",
            "7/7 [==============================] - 1s 99ms/step - loss: 3.2050 - accuracy: 0.1389 - val_loss: 2.3164 - val_accuracy: 0.0974\n",
            "Epoch 2/100\n",
            "7/7 [==============================] - 1s 71ms/step - loss: 2.7328 - accuracy: 0.1503 - val_loss: 3.2234 - val_accuracy: 0.1538\n",
            "Epoch 3/100\n",
            "7/7 [==============================] - 1s 71ms/step - loss: 2.5859 - accuracy: 0.1760 - val_loss: 3.6247 - val_accuracy: 0.0974\n",
            "Epoch 4/100\n",
            "7/7 [==============================] - 1s 73ms/step - loss: 2.4613 - accuracy: 0.1777 - val_loss: 3.3594 - val_accuracy: 0.1795\n",
            "Epoch 5/100\n",
            "7/7 [==============================] - 1s 71ms/step - loss: 2.4454 - accuracy: 0.2046 - val_loss: 3.7218 - val_accuracy: 0.1333\n",
            "Epoch 6/100\n",
            "7/7 [==============================] - 1s 70ms/step - loss: 2.4014 - accuracy: 0.2097 - val_loss: 3.9285 - val_accuracy: 0.1436\n",
            "Epoch 7/100\n",
            "7/7 [==============================] - 1s 71ms/step - loss: 2.3291 - accuracy: 0.2257 - val_loss: 3.4703 - val_accuracy: 0.1795\n",
            "Epoch 8/100\n",
            "7/7 [==============================] - 1s 72ms/step - loss: 2.3407 - accuracy: 0.2211 - val_loss: 3.3914 - val_accuracy: 0.1231\n",
            "Epoch 9/100\n",
            "7/7 [==============================] - 1s 78ms/step - loss: 2.2729 - accuracy: 0.2303 - val_loss: 3.1565 - val_accuracy: 0.1590\n",
            "Epoch 10/100\n",
            "7/7 [==============================] - 1s 80ms/step - loss: 2.2067 - accuracy: 0.2503 - val_loss: 2.7581 - val_accuracy: 0.1641\n",
            "Epoch 11/100\n",
            "7/7 [==============================] - 1s 70ms/step - loss: 2.1685 - accuracy: 0.2737 - val_loss: 2.6134 - val_accuracy: 0.1385\n",
            "Epoch 12/100\n",
            "7/7 [==============================] - 1s 71ms/step - loss: 2.1139 - accuracy: 0.2994 - val_loss: 2.3886 - val_accuracy: 0.1128\n",
            "Epoch 13/100\n",
            "7/7 [==============================] - 1s 70ms/step - loss: 2.1312 - accuracy: 0.2840 - val_loss: 2.1518 - val_accuracy: 0.2359\n",
            "Epoch 14/100\n",
            "7/7 [==============================] - 1s 73ms/step - loss: 2.0956 - accuracy: 0.2943 - val_loss: 2.1431 - val_accuracy: 0.2513\n",
            "Epoch 15/100\n",
            "7/7 [==============================] - 0s 70ms/step - loss: 2.0873 - accuracy: 0.2920 - val_loss: 1.9749 - val_accuracy: 0.2205\n",
            "Epoch 16/100\n",
            "7/7 [==============================] - 1s 70ms/step - loss: 2.0181 - accuracy: 0.3263 - val_loss: 1.9949 - val_accuracy: 0.2923\n",
            "Epoch 17/100\n",
            "7/7 [==============================] - 1s 74ms/step - loss: 1.9754 - accuracy: 0.3331 - val_loss: 2.1271 - val_accuracy: 0.2410\n",
            "Epoch 18/100\n",
            "7/7 [==============================] - 1s 72ms/step - loss: 1.9340 - accuracy: 0.3531 - val_loss: 2.2327 - val_accuracy: 0.1744\n",
            "Epoch 19/100\n",
            "7/7 [==============================] - 0s 70ms/step - loss: 1.8670 - accuracy: 0.3594 - val_loss: 2.2305 - val_accuracy: 0.1333\n",
            "Epoch 20/100\n",
            "7/7 [==============================] - 1s 71ms/step - loss: 1.7946 - accuracy: 0.3783 - val_loss: 2.1449 - val_accuracy: 0.2256\n",
            "Epoch 21/100\n",
            "7/7 [==============================] - 1s 71ms/step - loss: 1.7808 - accuracy: 0.3960 - val_loss: 2.1055 - val_accuracy: 0.2154\n",
            "Epoch 22/100\n",
            "7/7 [==============================] - 0s 69ms/step - loss: 1.7381 - accuracy: 0.4017 - val_loss: 1.9277 - val_accuracy: 0.2821\n",
            "Epoch 23/100\n",
            "7/7 [==============================] - 0s 69ms/step - loss: 1.6817 - accuracy: 0.4400 - val_loss: 1.9059 - val_accuracy: 0.3744\n",
            "Epoch 24/100\n",
            "7/7 [==============================] - 0s 69ms/step - loss: 1.6115 - accuracy: 0.4474 - val_loss: 1.9814 - val_accuracy: 0.2769\n",
            "Epoch 25/100\n",
            "7/7 [==============================] - 1s 73ms/step - loss: 1.6281 - accuracy: 0.4520 - val_loss: 1.9555 - val_accuracy: 0.3231\n",
            "Epoch 26/100\n",
            "7/7 [==============================] - 1s 72ms/step - loss: 1.5514 - accuracy: 0.4749 - val_loss: 1.9459 - val_accuracy: 0.2615\n",
            "Epoch 27/100\n",
            "7/7 [==============================] - 0s 71ms/step - loss: 1.5628 - accuracy: 0.4714 - val_loss: 2.0978 - val_accuracy: 0.2410\n",
            "Epoch 28/100\n",
            "7/7 [==============================] - 0s 70ms/step - loss: 1.4383 - accuracy: 0.5097 - val_loss: 2.0671 - val_accuracy: 0.2410\n",
            "Epoch 29/100\n",
            "7/7 [==============================] - 1s 71ms/step - loss: 1.4719 - accuracy: 0.4966 - val_loss: 2.1816 - val_accuracy: 0.2718\n",
            "Epoch 30/100\n",
            "7/7 [==============================] - 1s 70ms/step - loss: 1.3707 - accuracy: 0.5126 - val_loss: 1.6488 - val_accuracy: 0.4564\n",
            "Epoch 31/100\n",
            "7/7 [==============================] - 1s 71ms/step - loss: 1.3706 - accuracy: 0.5354 - val_loss: 1.7607 - val_accuracy: 0.3795\n",
            "Epoch 32/100\n",
            "7/7 [==============================] - 1s 71ms/step - loss: 1.3087 - accuracy: 0.5354 - val_loss: 1.6364 - val_accuracy: 0.4872\n",
            "Epoch 33/100\n",
            "7/7 [==============================] - 1s 71ms/step - loss: 1.3161 - accuracy: 0.5600 - val_loss: 1.7568 - val_accuracy: 0.4103\n",
            "Epoch 34/100\n",
            "7/7 [==============================] - 0s 69ms/step - loss: 1.2740 - accuracy: 0.5554 - val_loss: 1.8164 - val_accuracy: 0.3282\n",
            "Epoch 35/100\n",
            "7/7 [==============================] - 1s 73ms/step - loss: 1.2413 - accuracy: 0.5737 - val_loss: 1.8610 - val_accuracy: 0.3897\n",
            "Epoch 36/100\n",
            "7/7 [==============================] - 1s 71ms/step - loss: 1.1798 - accuracy: 0.5943 - val_loss: 1.7541 - val_accuracy: 0.4308\n",
            "Epoch 37/100\n",
            "7/7 [==============================] - 1s 74ms/step - loss: 1.2215 - accuracy: 0.5817 - val_loss: 1.6399 - val_accuracy: 0.4359\n",
            "Epoch 38/100\n",
            "7/7 [==============================] - 1s 73ms/step - loss: 1.1700 - accuracy: 0.6040 - val_loss: 1.7355 - val_accuracy: 0.4564\n",
            "Epoch 39/100\n",
            "7/7 [==============================] - 1s 71ms/step - loss: 1.1493 - accuracy: 0.6149 - val_loss: 1.8645 - val_accuracy: 0.3846\n",
            "Epoch 40/100\n",
            "7/7 [==============================] - 1s 75ms/step - loss: 1.1015 - accuracy: 0.6257 - val_loss: 1.5291 - val_accuracy: 0.4308\n",
            "Epoch 41/100\n",
            "7/7 [==============================] - 1s 75ms/step - loss: 1.0895 - accuracy: 0.6343 - val_loss: 1.4178 - val_accuracy: 0.5231\n",
            "Epoch 42/100\n",
            "7/7 [==============================] - 1s 71ms/step - loss: 1.0373 - accuracy: 0.6377 - val_loss: 1.6110 - val_accuracy: 0.4769\n",
            "Epoch 43/100\n",
            "7/7 [==============================] - 1s 71ms/step - loss: 0.9645 - accuracy: 0.6674 - val_loss: 1.4907 - val_accuracy: 0.4923\n",
            "Epoch 44/100\n",
            "7/7 [==============================] - 1s 72ms/step - loss: 1.0346 - accuracy: 0.6606 - val_loss: 1.7104 - val_accuracy: 0.3846\n",
            "Epoch 45/100\n",
            "7/7 [==============================] - 1s 74ms/step - loss: 0.9239 - accuracy: 0.6811 - val_loss: 1.5869 - val_accuracy: 0.4615\n",
            "Epoch 46/100\n",
            "7/7 [==============================] - 1s 72ms/step - loss: 0.9332 - accuracy: 0.6794 - val_loss: 1.4093 - val_accuracy: 0.4974\n",
            "Epoch 47/100\n",
            "7/7 [==============================] - 1s 72ms/step - loss: 0.8851 - accuracy: 0.6994 - val_loss: 1.5862 - val_accuracy: 0.4923\n",
            "Epoch 48/100\n",
            "7/7 [==============================] - 1s 72ms/step - loss: 0.8693 - accuracy: 0.7074 - val_loss: 1.3045 - val_accuracy: 0.5949\n",
            "Epoch 49/100\n",
            "7/7 [==============================] - 1s 71ms/step - loss: 0.8208 - accuracy: 0.7051 - val_loss: 1.6889 - val_accuracy: 0.4615\n",
            "Epoch 50/100\n",
            "7/7 [==============================] - 1s 73ms/step - loss: 0.8235 - accuracy: 0.7229 - val_loss: 1.7407 - val_accuracy: 0.4564\n",
            "Epoch 51/100\n",
            "7/7 [==============================] - 1s 71ms/step - loss: 0.7708 - accuracy: 0.7451 - val_loss: 1.5166 - val_accuracy: 0.5179\n",
            "Epoch 52/100\n",
            "7/7 [==============================] - 1s 71ms/step - loss: 0.7774 - accuracy: 0.7526 - val_loss: 1.4475 - val_accuracy: 0.5385\n",
            "Epoch 53/100\n",
            "7/7 [==============================] - 1s 73ms/step - loss: 0.7523 - accuracy: 0.7394 - val_loss: 1.5191 - val_accuracy: 0.5077\n",
            "Epoch 54/100\n",
            "7/7 [==============================] - 1s 72ms/step - loss: 0.7218 - accuracy: 0.7446 - val_loss: 1.3190 - val_accuracy: 0.5487\n",
            "Epoch 55/100\n",
            "7/7 [==============================] - 1s 74ms/step - loss: 0.7480 - accuracy: 0.7434 - val_loss: 1.4219 - val_accuracy: 0.4974\n",
            "Epoch 56/100\n",
            "7/7 [==============================] - 1s 73ms/step - loss: 0.7274 - accuracy: 0.7509 - val_loss: 1.3327 - val_accuracy: 0.6051\n",
            "Epoch 57/100\n",
            "7/7 [==============================] - 1s 70ms/step - loss: 0.7604 - accuracy: 0.7451 - val_loss: 1.3810 - val_accuracy: 0.5590\n",
            "Epoch 58/100\n",
            "7/7 [==============================] - 1s 74ms/step - loss: 0.7661 - accuracy: 0.7366 - val_loss: 1.6867 - val_accuracy: 0.5333\n",
            "Epoch 59/100\n",
            "7/7 [==============================] - 1s 71ms/step - loss: 0.6967 - accuracy: 0.7646 - val_loss: 1.4884 - val_accuracy: 0.5744\n",
            "Epoch 60/100\n",
            "7/7 [==============================] - 1s 78ms/step - loss: 0.7563 - accuracy: 0.7469 - val_loss: 1.7349 - val_accuracy: 0.4821\n",
            "Epoch 61/100\n",
            "7/7 [==============================] - 1s 72ms/step - loss: 0.7226 - accuracy: 0.7566 - val_loss: 1.3885 - val_accuracy: 0.5231\n",
            "Epoch 62/100\n",
            "7/7 [==============================] - 1s 74ms/step - loss: 0.6653 - accuracy: 0.7697 - val_loss: 1.6947 - val_accuracy: 0.4974\n",
            "Epoch 63/100\n",
            "7/7 [==============================] - 1s 72ms/step - loss: 0.6336 - accuracy: 0.7914 - val_loss: 1.8363 - val_accuracy: 0.5077\n",
            "Epoch 64/100\n",
            "7/7 [==============================] - 1s 73ms/step - loss: 0.6266 - accuracy: 0.7949 - val_loss: 1.3989 - val_accuracy: 0.5795\n",
            "Epoch 65/100\n",
            "7/7 [==============================] - 1s 73ms/step - loss: 0.5754 - accuracy: 0.7983 - val_loss: 1.3591 - val_accuracy: 0.5897\n",
            "Epoch 66/100\n",
            "7/7 [==============================] - 1s 72ms/step - loss: 0.6001 - accuracy: 0.8034 - val_loss: 1.5552 - val_accuracy: 0.5436\n",
            "Epoch 67/100\n",
            "7/7 [==============================] - 1s 70ms/step - loss: 0.5679 - accuracy: 0.8069 - val_loss: 1.3469 - val_accuracy: 0.6154\n",
            "Epoch 68/100\n",
            "7/7 [==============================] - 1s 73ms/step - loss: 0.5215 - accuracy: 0.8109 - val_loss: 1.5974 - val_accuracy: 0.5692\n",
            "Epoch 69/100\n",
            "7/7 [==============================] - 1s 72ms/step - loss: 0.5617 - accuracy: 0.8137 - val_loss: 1.4973 - val_accuracy: 0.6205\n",
            "Epoch 70/100\n",
            "7/7 [==============================] - 1s 72ms/step - loss: 0.5739 - accuracy: 0.8103 - val_loss: 1.5972 - val_accuracy: 0.6103\n",
            "Epoch 71/100\n",
            "7/7 [==============================] - 1s 78ms/step - loss: 0.5139 - accuracy: 0.8217 - val_loss: 1.7108 - val_accuracy: 0.5641\n",
            "Epoch 72/100\n",
            "7/7 [==============================] - 1s 76ms/step - loss: 0.5003 - accuracy: 0.8320 - val_loss: 1.7143 - val_accuracy: 0.5231\n",
            "Epoch 73/100\n",
            "7/7 [==============================] - 1s 74ms/step - loss: 0.4935 - accuracy: 0.8331 - val_loss: 1.6360 - val_accuracy: 0.5897\n",
            "Epoch 74/100\n",
            "7/7 [==============================] - 1s 73ms/step - loss: 0.4645 - accuracy: 0.8394 - val_loss: 2.1168 - val_accuracy: 0.5077\n",
            "Epoch 75/100\n",
            "7/7 [==============================] - 1s 77ms/step - loss: 0.4837 - accuracy: 0.8509 - val_loss: 1.5359 - val_accuracy: 0.5949\n",
            "Epoch 76/100\n",
            "7/7 [==============================] - 1s 74ms/step - loss: 0.4578 - accuracy: 0.8411 - val_loss: 1.7027 - val_accuracy: 0.5949\n",
            "Epoch 77/100\n",
            "7/7 [==============================] - 1s 70ms/step - loss: 0.4652 - accuracy: 0.8451 - val_loss: 2.0463 - val_accuracy: 0.5282\n",
            "Epoch 78/100\n",
            "7/7 [==============================] - 0s 69ms/step - loss: 0.4032 - accuracy: 0.8623 - val_loss: 1.5471 - val_accuracy: 0.6103\n",
            "Epoch 79/100\n",
            "7/7 [==============================] - 1s 75ms/step - loss: 0.3722 - accuracy: 0.8726 - val_loss: 1.5397 - val_accuracy: 0.6205\n",
            "Epoch 80/100\n",
            "7/7 [==============================] - 1s 70ms/step - loss: 0.4017 - accuracy: 0.8594 - val_loss: 1.7095 - val_accuracy: 0.5795\n",
            "Epoch 81/100\n",
            "7/7 [==============================] - 1s 72ms/step - loss: 0.4007 - accuracy: 0.8617 - val_loss: 1.7607 - val_accuracy: 0.5590\n",
            "Epoch 82/100\n",
            "7/7 [==============================] - 1s 72ms/step - loss: 0.3777 - accuracy: 0.8691 - val_loss: 1.7003 - val_accuracy: 0.5487\n",
            "Epoch 83/100\n",
            "7/7 [==============================] - 1s 70ms/step - loss: 0.4143 - accuracy: 0.8577 - val_loss: 1.8038 - val_accuracy: 0.5692\n",
            "Epoch 84/100\n",
            "7/7 [==============================] - 1s 71ms/step - loss: 0.4021 - accuracy: 0.8617 - val_loss: 1.9345 - val_accuracy: 0.5538\n",
            "Epoch 85/100\n",
            "7/7 [==============================] - 1s 73ms/step - loss: 0.3956 - accuracy: 0.8606 - val_loss: 1.8343 - val_accuracy: 0.5641\n",
            "Epoch 86/100\n",
            "7/7 [==============================] - 1s 75ms/step - loss: 0.3820 - accuracy: 0.8817 - val_loss: 2.5018 - val_accuracy: 0.5590\n",
            "Epoch 87/100\n",
            "7/7 [==============================] - 0s 68ms/step - loss: 0.3650 - accuracy: 0.8766 - val_loss: 2.2610 - val_accuracy: 0.5846\n",
            "Epoch 88/100\n",
            "7/7 [==============================] - 1s 72ms/step - loss: 0.3362 - accuracy: 0.8920 - val_loss: 1.6477 - val_accuracy: 0.6410\n",
            "Epoch 89/100\n",
            "7/7 [==============================] - 0s 68ms/step - loss: 0.3362 - accuracy: 0.8874 - val_loss: 1.8371 - val_accuracy: 0.5846\n",
            "Epoch 90/100\n",
            "7/7 [==============================] - 1s 74ms/step - loss: 0.3383 - accuracy: 0.8817 - val_loss: 1.9837 - val_accuracy: 0.5333\n",
            "Epoch 91/100\n",
            "7/7 [==============================] - 1s 71ms/step - loss: 0.3773 - accuracy: 0.8737 - val_loss: 2.2782 - val_accuracy: 0.5231\n",
            "Epoch 92/100\n",
            "7/7 [==============================] - 1s 71ms/step - loss: 0.3260 - accuracy: 0.8943 - val_loss: 1.9897 - val_accuracy: 0.5846\n",
            "Epoch 93/100\n",
            "7/7 [==============================] - 0s 68ms/step - loss: 0.3509 - accuracy: 0.8777 - val_loss: 2.0420 - val_accuracy: 0.5487\n",
            "Epoch 94/100\n",
            "7/7 [==============================] - 1s 72ms/step - loss: 0.2958 - accuracy: 0.8966 - val_loss: 1.9191 - val_accuracy: 0.5692\n",
            "Epoch 95/100\n",
            "7/7 [==============================] - 0s 70ms/step - loss: 0.3526 - accuracy: 0.8909 - val_loss: 2.5659 - val_accuracy: 0.5026\n",
            "Epoch 96/100\n",
            "7/7 [==============================] - 1s 75ms/step - loss: 0.3238 - accuracy: 0.8897 - val_loss: 2.3837 - val_accuracy: 0.5128\n",
            "Epoch 97/100\n",
            "7/7 [==============================] - 1s 73ms/step - loss: 0.3218 - accuracy: 0.8937 - val_loss: 2.3439 - val_accuracy: 0.5436\n",
            "Epoch 98/100\n",
            "7/7 [==============================] - 1s 71ms/step - loss: 0.3035 - accuracy: 0.8989 - val_loss: 1.8806 - val_accuracy: 0.5692\n",
            "Epoch 99/100\n",
            "7/7 [==============================] - 1s 71ms/step - loss: 0.3031 - accuracy: 0.8989 - val_loss: 2.3510 - val_accuracy: 0.5590\n",
            "Epoch 100/100\n",
            "7/7 [==============================] - 1s 70ms/step - loss: 0.3257 - accuracy: 0.8903 - val_loss: 2.2131 - val_accuracy: 0.5231\n"
          ],
          "name": "stdout"
        },
        {
          "output_type": "display_data",
          "data": {
            "image/png": "[encoded data removed]",
            "text/plain": [
              "<Figure size 432x288 with 1 Axes>"
            ]
          },
          "metadata": {
            "needs_background": "light"
          }
        }
      ]
    },
    {
      "cell_type": "markdown",
      "metadata": {
        "id": "4WIjCVAfWAXY"
      },
      "source": [
        "#Loss는 다소 낮아졌지만 Accuracy가 감소함\n",
        "\n",
        "##Train set이 적은데 더 나누어서 그런듯 함"
      ]
    },
    {
      "cell_type": "markdown",
      "metadata": {
        "id": "VpZ_LwabWGoA"
      },
      "source": [
        "#성능 개선 방안\n",
        "\n",
        "##-더 많은 train set을 모은다.\n",
        "###-resnet18등 다른 모델을 적용해 본다."
      ]
    }
  ]
}