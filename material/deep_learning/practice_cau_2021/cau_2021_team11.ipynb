{
  "nbformat": 4,
  "nbformat_minor": 0,
  "metadata": {
    "colab": {
      "name": "cau_2021_team11.ipynb",
      "provenance": [],
      "collapsed_sections": []
    },
    "kernelspec": {
      "name": "python3",
      "display_name": "Python 3"
    },
    "language_info": {
      "name": "python"
    }
  },
  "cells": [
    {
      "cell_type": "markdown",
      "metadata": {
        "id": "GF6wUEODWQtp"
      },
      "source": [
        "# 와인 품질 분류 모델"
      ]
    },
    {
      "cell_type": "markdown",
      "metadata": {
        "id": "1x5hAAGOYxSS"
      },
      "source": [
        "##목차"
      ]
    },
    {
      "cell_type": "markdown",
      "metadata": {
        "id": "m9zTlItFWkW4"
      },
      "source": [
        "- 첫번째 시도 (0.5 정도 성능)\n",
        "- 두번째 시도 (0.7 까지 성능 향상 )\n",
        "- 선형 회귀 방법\n",
        "- 결론"
      ]
    },
    {
      "cell_type": "markdown",
      "metadata": {
        "id": "aLscPhOkWdtC"
      },
      "source": [
        "## 공통 사항 (라이브러리, 데이터 처리)"
      ]
    },
    {
      "cell_type": "markdown",
      "metadata": {
        "id": "jIZVVg-saiud"
      },
      "source": [
        "###라이브러리 설치"
      ]
    },
    {
      "cell_type": "code",
      "metadata": {
        "id": "mr-BveQQVlpA"
      },
      "source": [
        "import numpy as np\n",
        "import pandas as pd\n",
        "import matplotlib.pyplot as plt\n",
        "\n",
        "import tensorflow as tf\n",
        "\n",
        "from matplotlib import pyplot\n",
        "\n",
        "from tensorflow import keras\n",
        "from tensorflow.keras import optimizers\n",
        "from tensorflow.keras.layers import Dense\n",
        "\n",
        "from tensorflow.keras.callbacks import ModelCheckpoint, EarlyStopping, ReduceLROnPlateau"
      ],
      "execution_count": 2,
      "outputs": []
    },
    {
      "cell_type": "markdown",
      "metadata": {
        "id": "xJcZQIz9atNQ"
      },
      "source": [
        "### 데이터 처리"
      ]
    },
    {
      "cell_type": "code",
      "metadata": {
        "colab": {
          "base_uri": "https://localhost:8080/"
        },
        "id": "H9YWIrPOZkwX",
        "outputId": "5bee51b8-bae7-418f-95ff-ea6d9a527d41"
      },
      "source": [
        "!pwd\n",
        "!ls -al\n",
        "!head train.csv\n",
        "!head test.csv"
      ],
      "execution_count": 3,
      "outputs": [
        {
          "output_type": "stream",
          "text": [
            "/content\n",
            "total 500\n",
            "drwxr-xr-x 1 root root   4096 Aug 30 08:20 .\n",
            "drwxr-xr-x 1 root root   4096 Aug 30 08:14 ..\n",
            "drwxr-xr-x 4 root root   4096 Aug 25 13:35 .config\n",
            "drwxr-xr-x 1 root root   4096 Aug 25 13:35 sample_data\n",
            "-rw-r--r-- 1 root root  73676 Aug 30 08:20 test.csv\n",
            "-rw-r--r-- 1 root root 418941 Aug 30 08:20 train.csv\n",
            "index,quality,fixed acidity,volatile acidity,citric acid,residual sugar,chlorides,free sulfur dioxide,total sulfur dioxide,density,pH,sulphates,alcohol,type\n",
            "0,5,5.6,0.695,0.06,6.8,0.042,9.0,84.0,0.9943200000000001,3.44,0.44,10.2,white\n",
            "1,5,8.8,0.61,0.14,2.4,0.067,10.0,42.0,0.9969,3.19,0.59,9.5,red\n",
            "2,5,7.9,0.21,0.39,2.0,0.057,21.0,138.0,0.9917600000000001,3.05,0.52,10.9,white\n",
            "3,6,7.0,0.21,0.31,6.0,0.046,29.0,108.0,0.9939,3.26,0.5,10.8,white\n",
            "4,6,7.8,0.4,0.26,9.5,0.059000000000000004,32.0,178.0,0.9955,3.04,0.43,10.9,white\n",
            "5,6,6.0,0.19,0.37,9.7,0.032,17.0,50.0,0.9932,3.08,0.66,12.0,white\n",
            "6,5,6.1,0.22,0.49,1.5,0.051,18.0,87.0,0.9928,3.3,0.46,9.6,white\n",
            "7,6,7.1,0.38,0.42,11.8,0.040999999999999995,32.0,193.0,0.99624,3.04,0.49,10.0,white\n",
            "8,5,6.8,0.24,0.31,18.3,0.046,40.0,142.0,1.0,3.3,0.41,8.7,white\n",
            "index,fixed acidity,volatile acidity,citric acid,residual sugar,chlorides,free sulfur dioxide,total sulfur dioxide,density,pH,sulphates,alcohol,type\n",
            "0,9.0,0.31,0.48,6.6,0.043,11.0,73.0,0.9938,2.9,0.38,11.6,white\n",
            "1,13.3,0.43,0.58,1.9,0.07,15.0,40.0,1.0004,3.06,0.49,9.0,red\n",
            "2,6.5,0.28,0.27,5.2,0.04,44.0,179.0,0.9948,3.19,0.69,9.4,white\n",
            "3,7.2,0.15,0.39,1.8,0.043,21.0,159.0,0.9948,3.52,0.47,10.0,white\n",
            "4,6.8,0.26,0.26,2.0,0.019,23.5,72.0,0.99041,3.16,0.47,11.8,white\n",
            "5,6.5,0.26,0.28,12.5,0.046,80.0,225.0,0.99685,3.18,0.41,10.0,white\n",
            "6,6.1,0.4,0.16,1.8,0.069,11.0,25.0,0.9955,3.42,0.74,10.1,red\n",
            "7,7.3,0.28,0.42,14.4,0.04,49.0,173.0,0.9994,3.28,0.82,9.0,white\n",
            "8,6.6,0.22,0.23,17.3,0.047,37.0,118.0,0.9990600000000001,3.08,0.46,8.8,white\n"
          ],
          "name": "stdout"
        }
      ]
    },
    {
      "cell_type": "markdown",
      "metadata": {
        "id": "ULdbD-FqbBWM"
      },
      "source": [
        "content 파일 내부에  test.csv, rain.csv 데이터를 넣고, 정상적으로 잘 들어갔는지 확인한다."
      ]
    },
    {
      "cell_type": "code",
      "metadata": {
        "id": "zcrR0x-WbJPJ"
      },
      "source": [
        "train_wine = pd.read_csv(\"train.csv\")\n",
        "test_wine = pd.read_csv(\"test.csv\")"
      ],
      "execution_count": 4,
      "outputs": []
    },
    {
      "cell_type": "markdown",
      "metadata": {
        "id": "iL3YSRXNcrEm"
      },
      "source": [
        "csv 파일을 불러와 각각 train_wine, test_wine로 저장한다."
      ]
    },
    {
      "cell_type": "code",
      "metadata": {
        "id": "f7yFaIsvcqeI"
      },
      "source": [
        "train_data = train_wine.to_numpy()\n",
        "test_data = test_wine.to_numpy()"
      ],
      "execution_count": 5,
      "outputs": []
    },
    {
      "cell_type": "markdown",
      "metadata": {
        "id": "2cDAr2ZObQ_z"
      },
      "source": [
        "Data Frame 형의 train_wine과 test_wine을 numpy로 변환한다."
      ]
    },
    {
      "cell_type": "markdown",
      "metadata": {
        "id": "i-v7seLRcE3D"
      },
      "source": [
        "## 첫번째 시도"
      ]
    },
    {
      "cell_type": "markdown",
      "metadata": {
        "id": "AFmG6n3QmgAO"
      },
      "source": [
        "### type 라벨 숫자변환"
      ]
    },
    {
      "cell_type": "code",
      "metadata": {
        "id": "QS4eL0L2bQUP"
      },
      "source": [
        "for i in range(len(train_data)):\n",
        "  if train_data[i][13] == \"red\":\n",
        "    train_data[i][13] = 1\n",
        "  else:\n",
        "    train_data[i][13] = 2\n",
        "\n",
        "for i in range(len(test_data)):\n",
        "  if test_data[i][12] == \"red\":\n",
        "    test_data[i][12] = 1\n",
        "  else:\n",
        "    test_data[i][12] = 2"
      ],
      "execution_count": 6,
      "outputs": []
    },
    {
      "cell_type": "markdown",
      "metadata": {
        "id": "51W-KEhndE2Z"
      },
      "source": [
        "train_data, test_data의 type 라벨의 값들을 문자열 상태로는 사용할 수 없기 때문에 각 문자열에 값을 매겨 주었다.\n",
        "\n",
        " - \"red\" 는 1\n",
        " - \"white\" 는 2"
      ]
    },
    {
      "cell_type": "code",
      "metadata": {
        "id": "oETYQWKrdMcJ"
      },
      "source": [
        "train_data = train_data.astype(float)\n",
        "test_data = test_data.astype(float)"
      ],
      "execution_count": 7,
      "outputs": []
    },
    {
      "cell_type": "markdown",
      "metadata": {
        "id": "ibONcwgJdWz5"
      },
      "source": [
        "model.fit 과정에서, 아래와 같은 에러가 발생하여 위와 같이 처리했다.\n",
        "\n",
        " - Error : Failed to convert a NumPy array to a Tensor (Unsupported object type float)."
      ]
    },
    {
      "cell_type": "markdown",
      "metadata": {
        "id": "SdwfSeMdmmyB"
      },
      "source": [
        "### 학습을 위한 data 분리"
      ]
    },
    {
      "cell_type": "code",
      "metadata": {
        "colab": {
          "base_uri": "https://localhost:8080/"
        },
        "id": "qBpuNTcZd0cQ",
        "outputId": "a175b0d6-d20b-4af5-f4a3-ece34e8c9017"
      },
      "source": [
        "index = 4000\n",
        "\n",
        "train_x = train_data[:index, 2:14]\n",
        "train_y = train_data[:index, 1:2]\n",
        "\n",
        "test_x = train_data[index:, 2:14]\n",
        "test_y = train_data[index:, 1:2]\n",
        "\n",
        "test = test_data[:, 1:]\n",
        "print(train_x.shape)\n",
        "print(train_y.shape)\n",
        "print(test_x.shape)\n",
        "print(test_y.shape)\n",
        "print(test.shape)"
      ],
      "execution_count": 8,
      "outputs": [
        {
          "output_type": "stream",
          "text": [
            "(4000, 12)\n",
            "(4000, 1)\n",
            "(1497, 12)\n",
            "(1497, 1)\n",
            "(1000, 12)\n"
          ],
          "name": "stdout"
        }
      ]
    },
    {
      "cell_type": "markdown",
      "metadata": {
        "id": "wQjGEfbomwof"
      },
      "source": [
        "### 모델 정의"
      ]
    },
    {
      "cell_type": "markdown",
      "metadata": {
        "id": "si_tOD68fEfL"
      },
      "source": [
        "train_data 내에서 모델을 학습시키기 위한 데이터와 테스틀를 하기 위한 데이터로 나누었다."
      ]
    },
    {
      "cell_type": "code",
      "metadata": {
        "id": "NRQTRH_QfTv9"
      },
      "source": [
        "from IPython.display import clear_output\n",
        "from tensorflow.keras.callbacks import Callback\n",
        "\n",
        "class PlotLosses(Callback):\n",
        "\n",
        "  def on_train_begin(self, logs={}):\n",
        "\n",
        "    self.i = 0\n",
        "    self.x = []\n",
        "    self.losses = []\n",
        "    self.val_losses = []\n",
        "\n",
        "    self.fig = plt.figure()\n",
        "\n",
        "    self.logs = []\n",
        "\n",
        "\n",
        "  def on_epoch_end(self, epoch, logs={}):\n",
        "\n",
        "    self.logs.append(logs)\n",
        "    self.x.append(self.i)\n",
        "    self.losses.append(logs.get('loss'))\n",
        "    self.val_losses.append(logs.get('val_loss'))\n",
        "    self.i += 1\n",
        "\n",
        "    clear_output(wait=True)\n",
        "    plt.plot(self.x, self.losses, label=\"loss\")\n",
        "    plt.plot(self.x, self.val_losses, label=\"val_loss\")\n",
        "    plt.legend()\n",
        "    plt.show();\n",
        "    print(\"loss = \", self.losses[-1], \", val_loss = \", self.val_losses[-1])"
      ],
      "execution_count": 9,
      "outputs": []
    },
    {
      "cell_type": "markdown",
      "metadata": {
        "id": "8dKwwkWsf33a"
      },
      "source": [
        "Loss를 실시간으로 출력하기 위한 클래스 PlotLosses를 정의하였다."
      ]
    },
    {
      "cell_type": "code",
      "metadata": {
        "id": "wtg59iElf4In"
      },
      "source": [
        "model = keras.Sequential([\n",
        "    keras.layers.Dense(32, activation='relu', input_shape=(12,)),\n",
        "    keras.layers.Dense(32, activation='relu'),\n",
        "    keras.layers.Dense(16, activation='relu'),\n",
        "    keras.layers.Dense(16, activation='relu'),\n",
        "    keras.layers.Dense(16, activation='relu'),\n",
        "    keras.layers.Dense(16, activation='relu'),\n",
        "    keras.layers.Dense(16, activation='relu'),\n",
        "    keras.layers.Dense(16, activation='relu'),\n",
        "    keras.layers.Dense(16, activation='relu'),\n",
        "    keras.layers.Dense(16, activation='relu'),\n",
        "    keras.layers.Dense(10, activation='softmax')\n",
        "])"
      ],
      "execution_count": 10,
      "outputs": []
    },
    {
      "cell_type": "code",
      "metadata": {
        "colab": {
          "base_uri": "https://localhost:8080/"
        },
        "id": "KntYQeCfg62O",
        "outputId": "b97eb557-4ad2-42ba-aa1a-12ef78a86bc0"
      },
      "source": [
        "model.compile(optimizer='SGD',\n",
        "              loss='sparse_categorical_crossentropy',\n",
        "              metrics=['accuracy'])\n",
        "model.summary()"
      ],
      "execution_count": 11,
      "outputs": [
        {
          "output_type": "stream",
          "text": [
            "Model: \"sequential\"\n",
            "_________________________________________________________________\n",
            "Layer (type)                 Output Shape              Param #   \n",
            "=================================================================\n",
            "dense (Dense)                (None, 32)                416       \n",
            "_________________________________________________________________\n",
            "dense_1 (Dense)              (None, 32)                1056      \n",
            "_________________________________________________________________\n",
            "dense_2 (Dense)              (None, 16)                528       \n",
            "_________________________________________________________________\n",
            "dense_3 (Dense)              (None, 16)                272       \n",
            "_________________________________________________________________\n",
            "dense_4 (Dense)              (None, 16)                272       \n",
            "_________________________________________________________________\n",
            "dense_5 (Dense)              (None, 16)                272       \n",
            "_________________________________________________________________\n",
            "dense_6 (Dense)              (None, 16)                272       \n",
            "_________________________________________________________________\n",
            "dense_7 (Dense)              (None, 16)                272       \n",
            "_________________________________________________________________\n",
            "dense_8 (Dense)              (None, 16)                272       \n",
            "_________________________________________________________________\n",
            "dense_9 (Dense)              (None, 16)                272       \n",
            "_________________________________________________________________\n",
            "dense_10 (Dense)             (None, 10)                170       \n",
            "=================================================================\n",
            "Total params: 4,074\n",
            "Trainable params: 4,074\n",
            "Non-trainable params: 0\n",
            "_________________________________________________________________\n"
          ],
          "name": "stdout"
        }
      ]
    },
    {
      "cell_type": "markdown",
      "metadata": {
        "id": "r36Vm0O2g8v5"
      },
      "source": [
        "학습시킬 모델을 정의하였다.\n",
        "\n",
        "input node의 개수 는 train_data의 label 개수인 12개이고 output node의 개수는 1~10 까지의 qulity 값으로 총 10개이다."
      ]
    },
    {
      "cell_type": "markdown",
      "metadata": {
        "id": "Hh0c71pjm4ru"
      },
      "source": [
        "### 학습 결과"
      ]
    },
    {
      "cell_type": "code",
      "metadata": {
        "colab": {
          "base_uri": "https://localhost:8080/",
          "height": 548
        },
        "id": "_14GnUSrhVvm",
        "outputId": "35e8cbc5-702e-4afa-b4f3-b6777907fb82"
      },
      "source": [
        "model_check_point = ModelCheckpoint('best_model.h5', monitor='val_loss', mode='min', save_best_only=True)\n",
        "plot_losses = PlotLosses()\n",
        "early_stopping = EarlyStopping(monitor='val_loss', mode='min', verbose=1, patience=50)\n",
        "reduce_lr = ReduceLROnPlateau(monitor='val_loss', factor=0.2, patience=5, min_learning_rate=0.01)\n",
        "\n",
        "callbacks = [model_check_point, plot_losses, reduce_lr, early_stopping]\n",
        "\n",
        "history = model.fit(train_x, train_y, validation_split = 0.1,batch_size=256, epochs=1000, verbose=1, callbacks=callbacks)\n",
        "\n",
        "pyplot.plot(history.history['loss'], label='train_loss')\n",
        "pyplot.plot(history.history['val_loss'], label='test_loss')\n",
        "pyplot.legend()\n",
        "pyplot.show()"
      ],
      "execution_count": 12,
      "outputs": [
        {
          "output_type": "display_data",
          "data": {
            "image/png": "[encoded data removed]",
            "text/plain": [
              "<Figure size 432x288 with 1 Axes>"
            ]
          },
          "metadata": {
            "needs_background": "light"
          }
        },
        {
          "output_type": "stream",
          "text": [
            "loss =  1.3073679208755493 , val_loss =  1.3231768608093262\n",
            "Epoch 00109: early stopping\n"
          ],
          "name": "stdout"
        },
        {
          "output_type": "display_data",
          "data": {
            "image/png": "[encoded data removed]",
            "text/plain": [
              "<Figure size 432x288 with 1 Axes>"
            ]
          },
          "metadata": {
            "needs_background": "light"
          }
        }
      ]
    },
    {
      "cell_type": "markdown",
      "metadata": {
        "id": "pOrDnw-bhkxO"
      },
      "source": [
        "Loss 실시간 출력, 학습률 조정, early stopping, 모델 저장 기능을 하는 callback들을 모두 담아 model을 학습시켰다.\n",
        "\n",
        "Loss와 validation loss의 변화를 실시간으로 확인할 수 있다."
      ]
    },
    {
      "cell_type": "code",
      "metadata": {
        "colab": {
          "base_uri": "https://localhost:8080/"
        },
        "id": "Sc_dGKsghlLK",
        "outputId": "b0e93c5b-73ff-43a6-ca75-045b43b429b0"
      },
      "source": [
        "loss, acc = model.evaluate(test_x, test_y)\n",
        "print(\"loss=\", loss)\n",
        "print(\"acc=\", acc)"
      ],
      "execution_count": 13,
      "outputs": [
        {
          "output_type": "stream",
          "text": [
            "47/47 [==============================] - 0s 1ms/step - loss: 1.2755 - accuracy: 0.4476\n",
            "loss= 1.2754597663879395\n",
            "acc= 0.4475618004798889\n"
          ],
          "name": "stdout"
        }
      ]
    },
    {
      "cell_type": "markdown",
      "metadata": {
        "id": "T60An1S6h7Va"
      },
      "source": [
        "test_x와 test_y 데이터를 사용하여 모델의 loss와 accuracy를 측정한다."
      ]
    },
    {
      "cell_type": "code",
      "metadata": {
        "colab": {
          "base_uri": "https://localhost:8080/"
        },
        "id": "4u6BIDP6iAGN",
        "outputId": "553792e3-4b58-4209-c641-2a9bf96f2677"
      },
      "source": [
        "y_ = model.predict(test)\n",
        "print(y_)\n",
        "print(np.argmax(y_, axis = 1))"
      ],
      "execution_count": 14,
      "outputs": [
        {
          "output_type": "stream",
          "text": [
            "[[2.5189314e-03 2.3661353e-04 1.2007235e-03 ... 1.8729506e-01\n",
            "  5.6224152e-02 2.4658167e-03]\n",
            " [5.3804717e-03 9.5000770e-04 2.2364340e-03 ... 1.8007632e-01\n",
            "  4.9561545e-02 6.5341415e-03]\n",
            " [2.7359012e-05 1.8538391e-07 7.4337559e-06 ... 1.4065616e-01\n",
            "  2.0670090e-02 2.1676926e-05]\n",
            " ...\n",
            " [1.7408613e-02 5.8093444e-03 9.8049054e-03 ... 1.8307981e-01\n",
            "  7.0796490e-02 2.0298215e-02]\n",
            " [8.6234873e-03 1.9356264e-03 4.0266481e-03 ... 1.8361025e-01\n",
            "  5.8074098e-02 1.0291666e-02]\n",
            " [5.0163839e-05 6.1192213e-07 1.1553770e-05 ... 1.3495494e-01\n",
            "  1.7037231e-02 4.9672737e-05]]\n",
            "[6 6 6 6 6 6 6 6 6 6 6 6 6 6 6 6 6 6 6 6 6 6 6 6 6 6 6 6 6 6 6 6 6 6 6 6 6\n",
            " 6 6 6 6 6 6 6 6 6 6 6 6 6 6 6 6 6 6 6 6 6 6 6 6 6 6 6 6 6 6 6 6 6 6 6 6 6\n",
            " 6 6 6 6 6 6 6 6 6 6 6 6 6 6 6 6 6 6 6 6 6 6 6 6 6 6 6 6 6 6 6 6 6 6 6 6 6\n",
            " 6 6 6 6 6 6 6 6 6 6 6 6 6 6 6 6 6 6 6 6 6 6 6 6 6 6 6 6 6 6 6 6 6 6 6 6 6\n",
            " 6 6 6 6 6 6 6 6 6 6 6 6 6 6 6 6 6 6 6 6 6 6 6 6 6 6 6 6 6 6 6 6 6 6 6 6 6\n",
            " 6 6 6 6 6 6 6 6 6 6 6 6 6 6 6 6 6 6 6 6 6 6 6 6 6 6 6 6 6 6 6 6 6 6 6 6 6\n",
            " 6 6 6 6 6 6 6 6 6 6 6 6 6 6 6 6 6 6 6 6 6 6 6 6 6 6 6 6 6 6 6 6 6 6 6 6 6\n",
            " 6 6 6 6 6 6 6 6 6 6 6 6 6 6 6 6 6 6 6 6 6 6 6 6 6 6 6 6 6 6 6 6 6 6 6 6 6\n",
            " 6 6 6 6 6 6 6 6 6 6 6 6 6 6 6 6 6 6 6 6 6 6 6 6 6 6 6 6 6 6 6 6 6 6 6 6 6\n",
            " 6 6 6 6 6 6 6 6 6 6 6 6 6 6 6 6 6 6 6 6 6 6 6 6 6 6 6 6 6 6 6 6 6 6 6 6 6\n",
            " 6 6 6 6 6 6 6 6 6 6 6 6 6 6 6 6 6 6 6 6 6 6 6 6 6 6 6 6 6 6 6 6 6 6 6 6 6\n",
            " 6 6 6 6 6 6 6 6 6 6 6 6 6 6 6 6 6 6 6 6 6 6 6 6 6 6 6 6 6 6 6 6 6 6 6 6 6\n",
            " 6 6 6 6 6 6 6 6 6 6 6 6 6 6 6 6 6 6 6 6 6 6 6 6 6 6 6 6 6 6 6 6 6 6 6 6 6\n",
            " 6 6 6 6 6 6 6 6 6 6 6 6 6 6 6 6 6 6 6 6 6 6 6 6 6 6 6 6 6 6 6 6 6 6 6 6 6\n",
            " 6 6 6 6 6 6 6 6 6 6 6 6 6 6 6 6 6 6 6 6 6 6 6 6 6 6 6 6 6 6 6 6 6 6 6 6 6\n",
            " 6 6 6 6 6 6 6 6 6 6 6 6 6 6 6 6 6 6 6 6 6 6 6 6 6 6 6 6 6 6 6 6 6 6 6 6 6\n",
            " 6 6 6 6 6 6 6 6 6 6 6 6 6 6 6 6 6 6 6 6 6 6 6 6 6 6 6 6 6 6 6 6 6 6 6 6 6\n",
            " 6 6 6 6 6 6 6 6 6 6 6 6 6 6 6 6 6 6 6 6 6 6 6 6 6 6 6 6 6 6 6 6 6 6 6 6 6\n",
            " 6 6 6 6 6 6 6 6 6 6 6 6 6 6 6 6 6 6 6 6 6 6 6 6 6 6 6 6 6 6 6 6 6 6 6 6 6\n",
            " 6 6 6 6 6 6 6 6 6 6 6 6 6 6 6 6 6 6 6 6 6 6 6 6 6 6 6 6 6 6 6 6 6 6 6 6 6\n",
            " 6 6 6 6 6 6 6 6 6 6 6 6 6 6 6 6 6 6 6 6 6 6 6 6 6 6 6 6 6 6 6 6 6 6 6 6 6\n",
            " 6 6 6 6 6 6 6 6 6 6 6 6 6 6 6 6 6 6 6 6 6 6 6 6 6 6 6 6 6 6 6 6 6 6 6 6 6\n",
            " 6 6 6 6 6 6 6 6 6 6 6 6 6 6 6 6 6 6 6 6 6 6 6 6 6 6 6 6 6 6 6 6 6 6 6 6 6\n",
            " 6 6 6 6 6 6 6 6 6 6 6 6 6 6 6 6 6 6 6 6 6 6 6 6 6 6 6 6 6 6 6 6 6 6 6 6 6\n",
            " 6 6 6 6 6 6 6 6 6 6 6 6 6 6 6 6 6 6 6 6 6 6 6 6 6 6 6 6 6 6 6 6 6 6 6 6 6\n",
            " 6 6 6 6 6 6 6 6 6 6 6 6 6 6 6 6 6 6 6 6 6 6 6 6 6 6 6 6 6 6 6 6 6 6 6 6 6\n",
            " 6 6 6 6 6 6 6 6 6 6 6 6 6 6 6 6 6 6 6 6 6 6 6 6 6 6 6 6 6 6 6 6 6 6 6 6 6\n",
            " 6]\n"
          ],
          "name": "stdout"
        }
      ]
    },
    {
      "cell_type": "markdown",
      "metadata": {
        "id": "F_UCRn6HiAgP"
      },
      "source": [
        "학습된 모델을 바탕으로 test 데이터를 넣어 모델이 예측하는 각 와인의 등급을 확인할 수 있다."
      ]
    },
    {
      "cell_type": "markdown",
      "metadata": {
        "id": "9rHvRPnSj7S2"
      },
      "source": [
        "첫번째 시도 결과\n",
        " - 레이어 개수, 노드 개수, 모델 fit 특성 등 다양하게 바꾸어 가며 시도해봤지만 유의마한 차이가 없었고, 0.5 이상의 성능을 얻기 어려웠다.\n",
        " - test 예측 결과가 대부분 5,6 등급으로 나와,\n",
        "   5~7 사이의 와인들일 것이라고 추측할 수 있지만 모델의 성능이 낮아 신뢰할 수 없다."
      ]
    },
    {
      "cell_type": "markdown",
      "metadata": {
        "id": "8LUyw8pylnwW"
      },
      "source": [
        "## 두번째 시도"
      ]
    },
    {
      "cell_type": "markdown",
      "metadata": {
        "id": "0AhMTO1BnFHu"
      },
      "source": [
        "### type 라벨 숫자 변환 및 quality 라벨 분류"
      ]
    },
    {
      "cell_type": "code",
      "metadata": {
        "id": "gT-ruShwlpnI"
      },
      "source": [
        "y = []\n",
        "\n",
        "for i in range(len(train_data)):\n",
        "  if train_data[i][1] <= 5:\n",
        "    y.append(0)\n",
        "  elif train_data[i][1] <= 7:\n",
        "    y.append(1)\n",
        "  else:\n",
        "    y.append(2)\n",
        "  if train_data[i][13] == \"red\":\n",
        "    train_data[i][13] = 1\n",
        "  else:\n",
        "    train_data[i][13] = 2\n",
        "\n",
        "y = np.array(y)\n",
        "\n",
        "for i in range(len(test_data)):\n",
        "  if test_data[i][12] == \"red\":\n",
        "    test_data[i][12] = 1\n",
        "  else:\n",
        "    test_data[i][12] = 2"
      ],
      "execution_count": 15,
      "outputs": []
    },
    {
      "cell_type": "markdown",
      "metadata": {
        "id": "A2H_eQ0_mA4Q"
      },
      "source": [
        "train_data의 quality 라벨의 값들를 범위에 따라 등급을 매기기로 했다.\n",
        "\n",
        "- 품질 3 ~ 5 는 0\n",
        "- 품질 6 ~ 7 은 1\n",
        "- 품질 8 ~ 은 2\n",
        "또한 train_data의 type 라벨의 값들을 문자열 상태로는 사용할 수 없기 때문에 각 문자열에 값을 매겨 주었다.\n",
        "\n",
        "- \"red\" 는 1\n",
        "- \"white\" 는 2"
      ]
    },
    {
      "cell_type": "markdown",
      "metadata": {
        "id": "c9JiUm-1mOM-"
      },
      "source": [
        "이후 학습 과정들은 첫번째 시도와 크게 다르지 않다."
      ]
    },
    {
      "cell_type": "code",
      "metadata": {
        "id": "nRyP5nBGmGRX"
      },
      "source": [
        "train_data = train_data.astype(float)\n",
        "test_data = test_data.astype(float)"
      ],
      "execution_count": 16,
      "outputs": []
    },
    {
      "cell_type": "code",
      "metadata": {
        "id": "cBX9dPLznPSN"
      },
      "source": [
        "index = 4500\n",
        "\n",
        "train_x = train_data[:index, 2:14]\n",
        "train_y = y[:index]\n",
        "\n",
        "test_x = train_data[index:, 2:14]\n",
        "test_y = y[index:]\n",
        "test = test_data[:, 1:]"
      ],
      "execution_count": 17,
      "outputs": []
    },
    {
      "cell_type": "markdown",
      "metadata": {
        "id": "06IBLnDEmYG1"
      },
      "source": [
        "###모델 정의"
      ]
    },
    {
      "cell_type": "code",
      "metadata": {
        "id": "-ECw7miAmZ1Z"
      },
      "source": [
        "from IPython.display import clear_output\n",
        "from tensorflow.keras.callbacks import Callback\n",
        "\n",
        "class PlotLosses(Callback):\n",
        "\n",
        "  def on_train_begin(self, logs={}):\n",
        "\n",
        "    self.i = 0\n",
        "    self.x = []\n",
        "    self.losses = []\n",
        "    self.val_losses = []\n",
        "\n",
        "    self.fig = plt.figure()\n",
        "\n",
        "    self.logs = []\n",
        "\n",
        "\n",
        "  def on_epoch_end(self, epoch, logs={}):\n",
        "\n",
        "    self.logs.append(logs)\n",
        "    self.x.append(self.i)\n",
        "    self.losses.append(logs.get('loss'))\n",
        "    self.val_losses.append(logs.get('val_loss'))\n",
        "    self.i += 1\n",
        "\n",
        "    clear_output(wait=True)\n",
        "    plt.plot(self.x, self.losses, label=\"loss\")\n",
        "    plt.plot(self.x, self.val_losses, label=\"val_loss\")\n",
        "    plt.legend()\n",
        "    plt.show();\n",
        "    print(\"loss = \", self.losses[-1], \", val_loss = \", self.val_losses[-1])"
      ],
      "execution_count": 18,
      "outputs": []
    },
    {
      "cell_type": "markdown",
      "metadata": {
        "id": "_obxK0uNnaX0"
      },
      "source": [
        "학습시킬 모델을 정의하였다.\n",
        "\n",
        "input node의 개수는 train_data의 label 개수인 12개이고,\n",
        "\n",
        " output node의 개수는 앞서 품질의 등급을 매긴 세 등급을 따라 3개이다."
      ]
    },
    {
      "cell_type": "code",
      "metadata": {
        "id": "dPsH8G_Bnb8A"
      },
      "source": [
        "model = keras.Sequential([\n",
        "    keras.layers.Dense(15, activation='relu', input_shape=(12,)),\n",
        "    keras.layers.Dense(15, activation='relu'),\n",
        "    keras.layers.Dense(15, activation='relu'),\n",
        "    keras.layers.Dense(15, activation='relu'),\n",
        "    keras.layers.Dense(15, activation='relu'),\n",
        "    keras.layers.Dense(15, activation='relu'),\n",
        "    keras.layers.Dense(15, activation='relu'),\n",
        "    keras.layers.Dense(15, activation='relu'),\n",
        "    keras.layers.Dense(15, activation='relu'),\n",
        "    keras.layers.Dense(15, activation='relu'),\n",
        "    keras.layers.Dense(3, activation='softmax')\n",
        "])"
      ],
      "execution_count": 19,
      "outputs": []
    },
    {
      "cell_type": "code",
      "metadata": {
        "colab": {
          "base_uri": "https://localhost:8080/"
        },
        "id": "nR2JGAs0njd-",
        "outputId": "94ed7698-8e3d-4b51-a797-67ed3ced4677"
      },
      "source": [
        "model.compile(optimizer='adam',\n",
        "              loss='sparse_categorical_crossentropy',\n",
        "              metrics=['accuracy'])\n",
        "model.summary()"
      ],
      "execution_count": 20,
      "outputs": [
        {
          "output_type": "stream",
          "text": [
            "Model: \"sequential_1\"\n",
            "_________________________________________________________________\n",
            "Layer (type)                 Output Shape              Param #   \n",
            "=================================================================\n",
            "dense_11 (Dense)             (None, 15)                195       \n",
            "_________________________________________________________________\n",
            "dense_12 (Dense)             (None, 15)                240       \n",
            "_________________________________________________________________\n",
            "dense_13 (Dense)             (None, 15)                240       \n",
            "_________________________________________________________________\n",
            "dense_14 (Dense)             (None, 15)                240       \n",
            "_________________________________________________________________\n",
            "dense_15 (Dense)             (None, 15)                240       \n",
            "_________________________________________________________________\n",
            "dense_16 (Dense)             (None, 15)                240       \n",
            "_________________________________________________________________\n",
            "dense_17 (Dense)             (None, 15)                240       \n",
            "_________________________________________________________________\n",
            "dense_18 (Dense)             (None, 15)                240       \n",
            "_________________________________________________________________\n",
            "dense_19 (Dense)             (None, 15)                240       \n",
            "_________________________________________________________________\n",
            "dense_20 (Dense)             (None, 15)                240       \n",
            "_________________________________________________________________\n",
            "dense_21 (Dense)             (None, 3)                 48        \n",
            "=================================================================\n",
            "Total params: 2,403\n",
            "Trainable params: 2,403\n",
            "Non-trainable params: 0\n",
            "_________________________________________________________________\n"
          ],
          "name": "stdout"
        }
      ]
    },
    {
      "cell_type": "markdown",
      "metadata": {
        "id": "66Io6klmoJGR"
      },
      "source": [
        "### 학습 결과"
      ]
    },
    {
      "cell_type": "code",
      "metadata": {
        "colab": {
          "base_uri": "https://localhost:8080/",
          "height": 530
        },
        "id": "__7Vdj5DnkUG",
        "outputId": "3152db46-60c2-4946-9b7a-842260ea8177"
      },
      "source": [
        "model_check_point = ModelCheckpoint('best_model.h5', monitor='val_loss', mode='min', save_best_only=True)\n",
        "plot_losses = PlotLosses()\n",
        "early_stopping = EarlyStopping(monitor='val_loss', mode='min', verbose=1, patience=50)\n",
        "reduce_lr = ReduceLROnPlateau(monitor='val_loss', factor=0.2, patience=5, min_learning_rate=0.001)\n",
        "\n",
        "callbacks = [model_check_point, plot_losses, reduce_lr, early_stopping]\n",
        "\n",
        "history = model.fit(train_x, train_y, validation_split = 0.2, batch_size = 100, epochs=100, verbose=1, callbacks=callbacks)\n",
        "\n",
        "pyplot.plot(history.history['loss'], label='train_loss',)\n",
        "pyplot.plot(history.history['val_loss'], label='test_loss')\n",
        "pyplot.legend()\n",
        "pyplot.show()"
      ],
      "execution_count": 21,
      "outputs": [
        {
          "output_type": "display_data",
          "data": {
            "image/png": "[encoded data removed]",
            "text/plain": [
              "<Figure size 432x288 with 1 Axes>"
            ]
          },
          "metadata": {
            "needs_background": "light"
          }
        },
        {
          "output_type": "stream",
          "text": [
            "loss =  0.6545803546905518 , val_loss =  0.6348679065704346\n"
          ],
          "name": "stdout"
        },
        {
          "output_type": "display_data",
          "data": {
            "image/png": "[encoded data removed]",
            "text/plain": [
              "<Figure size 432x288 with 1 Axes>"
            ]
          },
          "metadata": {
            "needs_background": "light"
          }
        }
      ]
    },
    {
      "cell_type": "code",
      "metadata": {
        "colab": {
          "base_uri": "https://localhost:8080/"
        },
        "id": "6ieijTOsn5o5",
        "outputId": "88cec74c-5f3e-486a-9fd0-e2abd0f2ef75"
      },
      "source": [
        "loss, acc = model.evaluate(test_x, test_y)\n",
        "print(\"loss=\", loss)\n",
        "print(\"acc=\", acc)"
      ],
      "execution_count": 22,
      "outputs": [
        {
          "output_type": "stream",
          "text": [
            "32/32 [==============================] - 0s 2ms/step - loss: 0.6317 - accuracy: 0.6991\n",
            "loss= 0.6316690444946289\n",
            "acc= 0.6990972757339478\n"
          ],
          "name": "stdout"
        }
      ]
    },
    {
      "cell_type": "markdown",
      "metadata": {
        "id": "o4Uywmgin6M2"
      },
      "source": [
        "est_x와 test_y 데이터를 사용하여 모델의 loss와 accuracy를 측정한다."
      ]
    },
    {
      "cell_type": "code",
      "metadata": {
        "colab": {
          "base_uri": "https://localhost:8080/"
        },
        "id": "XSyAriOZnmPV",
        "outputId": "01b3007e-ac29-416f-c5fd-9b360de6e597"
      },
      "source": [
        "y_ = model.predict(test)\n",
        "print(y_)\n",
        "print(np.argmax(y_, axis = 1))"
      ],
      "execution_count": 23,
      "outputs": [
        {
          "output_type": "stream",
          "text": [
            "[[0.60368866 0.38923532 0.00707606]\n",
            " [0.7193651  0.2768281  0.00380673]\n",
            " [0.56719965 0.42001876 0.01278153]\n",
            " ...\n",
            " [0.6052934  0.38654903 0.00815758]\n",
            " [0.24192505 0.7472803  0.01079462]\n",
            " [0.4092553  0.5603943  0.03035043]]\n",
            "[0 0 0 1 1 0 1 0 1 1 0 0 1 1 1 0 1 1 0 0 1 1 0 1 1 0 1 0 0 0 1 1 1 0 0 1 0\n",
            " 1 1 0 1 0 1 1 1 1 1 1 0 0 0 0 1 0 0 0 1 0 1 1 1 1 0 1 1 0 0 0 1 0 1 0 0 0\n",
            " 1 0 0 1 1 1 1 1 0 0 1 0 0 0 1 1 1 1 1 1 1 0 1 1 1 1 0 0 1 0 1 0 1 0 1 1 1\n",
            " 1 1 1 1 1 0 1 1 1 1 1 0 1 1 0 1 1 1 1 0 0 0 0 1 1 0 1 0 0 0 1 1 0 0 0 1 1\n",
            " 1 1 1 1 1 0 1 1 0 1 1 1 0 0 1 1 1 1 1 1 1 0 0 0 1 0 1 1 0 1 0 0 0 0 0 1 0\n",
            " 1 1 1 0 1 1 1 0 1 1 1 1 0 0 0 1 0 1 0 0 1 1 1 1 1 1 0 0 0 0 1 0 1 1 1 1 1\n",
            " 1 1 1 1 1 0 1 0 1 1 1 1 1 1 1 0 1 1 1 1 1 0 1 1 0 1 0 1 0 0 1 1 1 0 1 1 1\n",
            " 0 1 0 0 1 1 0 1 1 1 1 1 0 1 0 1 1 1 1 1 1 1 0 1 1 0 1 1 1 0 0 0 0 0 1 0 1\n",
            " 0 1 0 1 1 1 0 1 0 0 0 1 0 1 0 0 1 0 1 1 0 0 0 1 0 1 0 0 0 0 0 1 1 1 0 1 1\n",
            " 1 0 1 0 1 1 1 1 0 0 1 0 0 0 1 0 0 0 0 0 1 1 0 1 1 1 1 0 0 0 1 1 1 0 0 1 0\n",
            " 1 0 0 1 0 0 0 0 1 1 1 1 1 1 0 1 1 0 1 0 1 0 1 0 0 1 0 1 1 0 1 0 0 1 0 0 1\n",
            " 0 1 0 1 0 1 0 1 1 1 1 0 0 1 1 1 1 0 1 1 1 0 1 1 0 1 1 1 0 1 1 0 0 0 1 1 0\n",
            " 1 0 1 0 0 0 1 1 0 1 0 0 1 0 1 0 1 1 1 0 0 0 1 0 1 0 0 0 1 0 0 1 1 1 1 1 1\n",
            " 1 1 1 1 0 1 1 0 1 1 1 0 1 1 1 1 0 1 1 1 1 1 1 1 1 1 1 0 1 0 0 1 1 0 0 0 1\n",
            " 1 0 0 1 0 1 1 0 1 1 1 1 0 0 1 1 1 1 1 1 0 0 0 0 1 1 1 1 1 1 1 1 1 1 1 1 1\n",
            " 1 0 1 1 1 1 0 0 1 1 1 1 1 1 0 1 0 0 1 1 0 1 0 0 0 1 1 0 0 1 1 1 1 0 1 1 0\n",
            " 1 0 0 0 0 1 0 1 1 1 1 1 0 0 0 1 0 0 1 0 1 1 1 1 0 1 1 1 1 1 0 0 0 1 1 1 1\n",
            " 1 1 0 1 0 0 1 0 1 1 0 0 1 0 1 1 1 1 0 0 0 1 0 1 0 1 0 1 0 1 0 1 1 1 0 1 1\n",
            " 1 0 0 0 1 0 1 1 1 1 0 1 0 1 1 0 1 0 1 1 1 1 0 0 1 0 0 1 1 0 0 1 0 0 1 1 1\n",
            " 1 0 1 0 1 1 1 0 0 0 0 1 1 0 0 1 1 1 1 1 1 1 1 1 1 1 0 0 1 0 1 1 1 0 1 1 0\n",
            " 1 1 0 1 1 0 1 1 1 1 1 0 0 1 1 1 0 1 0 1 1 0 1 1 1 1 0 1 0 1 1 0 1 0 1 0 1\n",
            " 0 1 0 1 1 0 0 0 0 0 1 0 1 1 1 1 1 1 1 1 0 1 0 0 0 1 1 0 1 0 0 1 1 1 1 1 1\n",
            " 1 0 0 0 0 0 0 0 0 0 0 1 0 0 1 1 0 1 1 0 1 1 1 1 0 0 0 0 1 0 1 1 1 1 1 0 0\n",
            " 1 0 1 0 0 1 0 1 1 0 1 0 0 0 1 1 1 1 1 1 1 1 1 0 0 1 1 1 0 0 1 1 0 0 1 1 1\n",
            " 1 0 0 1 1 1 1 0 1 1 1 1 0 1 0 1 1 1 0 0 1 1 0 1 1 1 1 1 1 1 0 0 1 0 0 0 1\n",
            " 1 1 1 0 1 0 0 0 1 0 1 0 0 0 1 0 1 1 0 1 1 1 1 1 0 1 1 1 0 1 1 0 1 1 1 0 0\n",
            " 1 1 0 0 0 0 1 1 1 1 1 1 0 1 1 1 1 0 0 1 1 1 1 1 1 0 1 0 1 1 1 1 1 0 0 0 1\n",
            " 1]\n"
          ],
          "name": "stdout"
        }
      ]
    },
    {
      "cell_type": "markdown",
      "metadata": {
        "id": "clyfke_ooGfI"
      },
      "source": [
        "학습된 모델을 바탕으로 test 데이터를 넣어 모델이 예측하는 각 와인의 등급을 확인할 수 있다."
      ]
    },
    {
      "cell_type": "markdown",
      "metadata": {
        "id": "789a42XqoRaj"
      },
      "source": [
        "두번째 시도 결과\n",
        "\n",
        "- 첫번째 시도에 비해 정확도가 0.2 이상 증가하여 성능이 많이 개선되었다.\n",
        "- 첫번째 시도에서 loss가 약 1.25로 나온 반면에 두번째 시도에서 약 0.63이 나와 loss 측면에서도 기능이 개선된 것을 확인할 수 있었다.\n",
        "- 추후 알고리즘을 개선하여, 구체적인 품질값을 얻을 수 있으면 더 좋을 것이다."
      ]
    },
    {
      "cell_type": "markdown",
      "metadata": {
        "id": "a_dFVcSrpCk2"
      },
      "source": [
        "## 선형회귀 모델 (추가적 시도)"
      ]
    },
    {
      "cell_type": "markdown",
      "metadata": {
        "id": "o59ElYk2qiKR"
      },
      "source": [
        "위의 시도들과 같은 방법으로 데이터를 처리하였다."
      ]
    },
    {
      "cell_type": "code",
      "metadata": {
        "id": "sd_aDj9qpGR9"
      },
      "source": [
        "import numpy as np\n",
        "import pandas as pd\n",
        "import matplotlib.pyplot as plt\n",
        "\n",
        "import tensorflow as tf\n",
        "\n",
        "from matplotlib import pyplot\n",
        "\n",
        "from tensorflow import keras\n",
        "from tensorflow.keras import optimizers\n",
        "from tensorflow.keras.layers import Dense\n",
        "\n",
        "from tensorflow.keras.callbacks import ModelCheckpoint, EarlyStopping, ReduceLROnPlateau"
      ],
      "execution_count": 24,
      "outputs": []
    },
    {
      "cell_type": "code",
      "metadata": {
        "colab": {
          "base_uri": "https://localhost:8080/"
        },
        "id": "sZtP2C4CpWic",
        "outputId": "302cd814-3835-4104-ad4a-37cc22e174fb"
      },
      "source": [
        "!ls -al\n",
        "!head train.csv"
      ],
      "execution_count": 25,
      "outputs": [
        {
          "output_type": "stream",
          "text": [
            "total 624\n",
            "drwxr-xr-x 1 root root   4096 Aug 30 08:20 .\n",
            "drwxr-xr-x 1 root root   4096 Aug 30 08:14 ..\n",
            "-rw-r--r-- 1 root root 126584 Aug 30 08:22 best_model.h5\n",
            "drwxr-xr-x 4 root root   4096 Aug 25 13:35 .config\n",
            "drwxr-xr-x 1 root root   4096 Aug 25 13:35 sample_data\n",
            "-rw-r--r-- 1 root root  73676 Aug 30 08:20 test.csv\n",
            "-rw-r--r-- 1 root root 418941 Aug 30 08:20 train.csv\n",
            "index,quality,fixed acidity,volatile acidity,citric acid,residual sugar,chlorides,free sulfur dioxide,total sulfur dioxide,density,pH,sulphates,alcohol,type\n",
            "0,5,5.6,0.695,0.06,6.8,0.042,9.0,84.0,0.9943200000000001,3.44,0.44,10.2,white\n",
            "1,5,8.8,0.61,0.14,2.4,0.067,10.0,42.0,0.9969,3.19,0.59,9.5,red\n",
            "2,5,7.9,0.21,0.39,2.0,0.057,21.0,138.0,0.9917600000000001,3.05,0.52,10.9,white\n",
            "3,6,7.0,0.21,0.31,6.0,0.046,29.0,108.0,0.9939,3.26,0.5,10.8,white\n",
            "4,6,7.8,0.4,0.26,9.5,0.059000000000000004,32.0,178.0,0.9955,3.04,0.43,10.9,white\n",
            "5,6,6.0,0.19,0.37,9.7,0.032,17.0,50.0,0.9932,3.08,0.66,12.0,white\n",
            "6,5,6.1,0.22,0.49,1.5,0.051,18.0,87.0,0.9928,3.3,0.46,9.6,white\n",
            "7,6,7.1,0.38,0.42,11.8,0.040999999999999995,32.0,193.0,0.99624,3.04,0.49,10.0,white\n",
            "8,5,6.8,0.24,0.31,18.3,0.046,40.0,142.0,1.0,3.3,0.41,8.7,white\n"
          ],
          "name": "stdout"
        }
      ]
    },
    {
      "cell_type": "code",
      "metadata": {
        "id": "Z_KVeTVzpXw2"
      },
      "source": [
        "train_wine = pd.read_csv(\"train.csv\")\n",
        "test_wine = pd.read_csv(\"test.csv\")"
      ],
      "execution_count": 26,
      "outputs": []
    },
    {
      "cell_type": "code",
      "metadata": {
        "id": "99DTGVqEpqVb"
      },
      "source": [
        "train_data = train_wine.to_numpy()\n",
        "test_data = test_wine.to_numpy()"
      ],
      "execution_count": 27,
      "outputs": []
    },
    {
      "cell_type": "code",
      "metadata": {
        "id": "w9hdzg6ipvFA"
      },
      "source": [
        "for i in range(len(train_data)):\n",
        "  if train_data[i][13] == \"red\":\n",
        "    train_data[i][13] = 1\n",
        "  else:\n",
        "    train_data[i][13] = 2\n",
        "\n",
        "for i in range(len(test_data)):\n",
        "  if test_data[i][12] == \"red\":\n",
        "    test_data[i][12] = 1\n",
        "  else:\n",
        "    test_data[i][12] = 2\n"
      ],
      "execution_count": 28,
      "outputs": []
    },
    {
      "cell_type": "code",
      "metadata": {
        "id": "_bpVqgeQqEpw"
      },
      "source": [
        "train_data = train_data.astype(float)\n",
        "test_data = test_data.astype(float)"
      ],
      "execution_count": 29,
      "outputs": []
    },
    {
      "cell_type": "markdown",
      "metadata": {
        "id": "XDUfXQs4q1Eb"
      },
      "source": [
        "선형회귀 모델을 위해 필요한 클래스를 import하고, 데이터를 준비했다.  "
      ]
    },
    {
      "cell_type": "code",
      "metadata": {
        "colab": {
          "base_uri": "https://localhost:8080/"
        },
        "id": "c4xt91hUpyFd",
        "outputId": "0e9eb7be-fdce-491b-e230-a1a6bd86330a"
      },
      "source": [
        "from pandas.core.common import random_state\n",
        "from sklearn.linear_model import LinearRegression\n",
        "model = LinearRegression(fit_intercept=True)\n",
        "\n",
        "X = train_x = train_data[:, 2:14]\n",
        "y = train_y = train_data[:, 1]\n",
        "\n",
        "Y = test_data[:,1:]\n",
        "\n",
        "\n",
        "print(X.shape)\n",
        "print(y.shape)\n",
        "\n",
        "from sklearn.model_selection import train_test_split\n",
        "X_train, X_test, y_train, y_test = train_test_split(X,y,random_state=1)\n",
        "print(X_train.shape)\n",
        "print(X_test.shape)\n",
        "print(y_train.shape)\n",
        "print(y_test.shape)\n",
        "print(Y.shape)\n"
      ],
      "execution_count": 30,
      "outputs": [
        {
          "output_type": "stream",
          "text": [
            "(5497, 12)\n",
            "(5497,)\n",
            "(4122, 12)\n",
            "(1375, 12)\n",
            "(4122,)\n",
            "(1375,)\n",
            "(1000, 12)\n"
          ],
          "name": "stdout"
        }
      ]
    },
    {
      "cell_type": "markdown",
      "metadata": {
        "id": "ZjPN6Selr4HE"
      },
      "source": [
        "학습을 통해, 다중 선형 회귀 방정식의 parameter값들을 얻을 수 있었다.\n",
        "\n",
        "\n",
        "\n"
      ]
    },
    {
      "cell_type": "code",
      "metadata": {
        "colab": {
          "base_uri": "https://localhost:8080/"
        },
        "id": "Si5brN9hp0by",
        "outputId": "205f3148-4d3d-41c0-e5d7-c5f82cfc0c28"
      },
      "source": [
        "model.fit(X_train,y_train)\n",
        "\n",
        "print(model.coef_)"
      ],
      "execution_count": 31,
      "outputs": [
        {
          "output_type": "stream",
          "text": [
            "[ 1.10212217e-01 -1.47446274e+00 -1.88706537e-01  7.13009442e-02\n",
            " -4.73576989e-01  3.27513948e-03 -8.49978997e-04 -1.18923241e+02\n",
            "  5.68056375e-01  8.69070719e-01  2.16023631e-01 -3.67773171e-01]\n"
          ],
          "name": "stdout"
        }
      ]
    },
    {
      "cell_type": "markdown",
      "metadata": {
        "id": "f_yK804LsTg1"
      },
      "source": [
        "학습된 모델에 test data Y를 넣어주었다."
      ]
    },
    {
      "cell_type": "code",
      "metadata": {
        "id": "xnpaO9Oyp6Eq"
      },
      "source": [
        "y_pred = model.predict(Y)"
      ],
      "execution_count": 32,
      "outputs": []
    },
    {
      "cell_type": "markdown",
      "metadata": {
        "id": "QQwWerfYsqIW"
      },
      "source": [
        "예측된 qulity 값을 반올림하여 정수 등급으로 만들었다."
      ]
    },
    {
      "cell_type": "code",
      "metadata": {
        "id": "kl2InexWp7xx"
      },
      "source": [
        "from tensorflow.python.keras.layers.core import Reshape\n",
        "def roundhalf(i):\n",
        "    val = i - int(i)\n",
        "    if val >= 0.5:\n",
        "        return int(i) + 1\n",
        "    else:\n",
        "        return int(i)\n",
        "\n",
        "for i in range(len(y_pred)):\n",
        "    y_pred[i] = roundhalf(y_pred[i])\n",
        "\n",
        "import numpy as np\n",
        "\n",
        "target = np.reshape(y_pred,(1000,))"
      ],
      "execution_count": 33,
      "outputs": []
    },
    {
      "cell_type": "code",
      "metadata": {
        "colab": {
          "base_uri": "https://localhost:8080/"
        },
        "id": "BFXebkewp9HA",
        "outputId": "d73a5490-5580-4735-ad22-2523e13e0377"
      },
      "source": [
        "print(target)\n",
        "print(target.shape)"
      ],
      "execution_count": 34,
      "outputs": [
        {
          "output_type": "stream",
          "text": [
            "[6. 5. 6. 6. 6. 6. 6. 6. 6. 6. 6. 5. 6. 6. 6. 5. 6. 7. 6. 5. 6. 6. 5. 6.\n",
            " 6. 5. 5. 5. 6. 5. 7. 6. 5. 5. 6. 6. 5. 5. 6. 6. 6. 6. 6. 6. 6. 7. 5. 6.\n",
            " 5. 6. 5. 5. 6. 5. 5. 6. 6. 5. 5. 6. 5. 6. 6. 6. 6. 6. 5. 5. 6. 5. 6. 5.\n",
            " 6. 5. 6. 5. 6. 6. 6. 6. 6. 6. 5. 5. 7. 6. 6. 5. 6. 6. 6. 6. 6. 6. 6. 6.\n",
            " 6. 6. 6. 6. 5. 5. 6. 5. 5. 6. 6. 6. 6. 6. 6. 6. 6. 6. 5. 6. 5. 7. 6. 6.\n",
            " 7. 5. 6. 6. 6. 5. 6. 6. 6. 6. 5. 5. 6. 5. 6. 7. 6. 6. 5. 5. 5. 5. 6. 5.\n",
            " 5. 5. 6. 5. 7. 6. 6. 7. 6. 5. 6. 5. 6. 6. 6. 5. 5. 6. 6. 6. 6. 5. 5. 6.\n",
            " 6. 5. 5. 5. 6. 5. 6. 5. 6. 5. 6. 5. 6. 5. 5. 7. 5. 6. 6. 6. 6. 6. 6. 5.\n",
            " 6. 6. 6. 6. 7. 5. 6. 6. 6. 6. 5. 5. 6. 5. 6. 6. 6. 6. 7. 5. 5. 6. 6. 6.\n",
            " 6. 5. 6. 6. 6. 6. 6. 6. 7. 5. 6. 5. 6. 5. 6. 6. 6. 6. 6. 6. 6. 6. 6. 6.\n",
            " 6. 6. 6. 6. 6. 6. 6. 7. 5. 7. 6. 6. 7. 7. 7. 6. 6. 7. 7. 6. 6. 5. 5. 6.\n",
            " 6. 6. 6. 6. 6. 6. 6. 6. 5. 5. 6. 6. 6. 6. 5. 5. 6. 6. 6. 6. 6. 6. 6. 6.\n",
            " 5. 6. 6. 5. 5. 6. 5. 6. 6. 6. 5. 7. 6. 6. 5. 5. 6. 6. 5. 7. 5. 5. 6. 5.\n",
            " 6. 6. 6. 6. 5. 5. 6. 6. 5. 5. 6. 5. 5. 5. 5. 6. 7. 5. 5. 6. 6. 5. 5. 6.\n",
            " 5. 6. 6. 5. 6. 6. 6. 6. 5. 7. 6. 7. 5. 6. 5. 5. 5. 6. 6. 5. 6. 6. 6. 6.\n",
            " 5. 6. 5. 6. 7. 6. 6. 5. 7. 6. 6. 5. 5. 6. 5. 5. 5. 5. 6. 6. 6. 6. 6. 6.\n",
            " 5. 6. 6. 6. 6. 6. 7. 5. 7. 5. 5. 6. 6. 6. 7. 6. 7. 5. 6. 6. 6. 6. 5. 6.\n",
            " 6. 5. 6. 5. 5. 5. 5. 6. 6. 6. 6. 5. 7. 6. 5. 6. 6. 6. 6. 5. 5. 6. 6. 6.\n",
            " 5. 6. 7. 5. 6. 5. 5. 5. 5. 6. 6. 6. 6. 6. 5. 5. 5. 6. 6. 6. 5. 6. 6. 4.\n",
            " 7. 6. 6. 5. 6. 6. 6. 5. 5. 5. 6. 6. 6. 5. 5. 5. 5. 6. 5. 6. 7. 6. 7. 6.\n",
            " 6. 6. 6. 5. 6. 6. 6. 6. 6. 6. 6. 6. 6. 6. 5. 6. 6. 5. 6. 6. 6. 6. 6. 7.\n",
            " 7. 6. 6. 6. 6. 6. 5. 6. 6. 6. 6. 5. 6. 7. 6. 5. 6. 6. 5. 6. 6. 5. 6. 6.\n",
            " 6. 6. 6. 6. 6. 6. 6. 7. 6. 6. 5. 6. 5. 5. 6. 6. 7. 6. 6. 5. 6. 6. 6. 6.\n",
            " 6. 6. 5. 6. 5. 6. 5. 6. 5. 6. 5. 6. 6. 6. 6. 7. 6. 5. 6. 5. 5. 6. 6. 4.\n",
            " 6. 5. 5. 5. 6. 6. 5. 6. 6. 6. 6. 6. 6. 6. 7. 5. 7. 6. 5. 6. 6. 7. 5. 6.\n",
            " 6. 7. 6. 6. 5. 6. 5. 6. 5. 5. 7. 5. 6. 5. 6. 6. 6. 6. 6. 6. 6. 6. 6. 6.\n",
            " 5. 6. 5. 6. 5. 5. 5. 6. 5. 5. 6. 6. 6. 6. 6. 5. 5. 6. 6. 5. 6. 6. 6. 5.\n",
            " 6. 5. 6. 5. 6. 5. 6. 5. 6. 6. 6. 5. 6. 6. 5. 6. 6. 5. 6. 5. 6. 5. 6. 6.\n",
            " 6. 6. 6. 5. 6. 5. 6. 6. 6. 6. 7. 5. 7. 6. 6. 7. 5. 6. 7. 6. 5. 7. 6. 6.\n",
            " 5. 6. 5. 6. 6. 6. 6. 6. 5. 6. 5. 6. 6. 5. 6. 5. 6. 6. 6. 6. 5. 6. 6. 7.\n",
            " 6. 6. 6. 6. 6. 6. 6. 6. 7. 6. 5. 6. 5. 6. 6. 6. 5. 6. 7. 5. 6. 6. 6. 5.\n",
            " 6. 5. 6. 5. 5. 5. 6. 5. 5. 5. 6. 7. 6. 6. 5. 6. 5. 5. 6. 7. 6. 6. 6. 6.\n",
            " 5. 6. 6. 6. 7. 6. 7. 6. 6. 6. 6. 5. 7. 6. 6. 5. 5. 5. 5. 6. 5. 6. 5. 6.\n",
            " 7. 6. 6. 6. 6. 4. 6. 6. 4. 5. 6. 6. 5. 6. 5. 6. 7. 6. 7. 7. 6. 6. 6. 5.\n",
            " 6. 6. 5. 5. 7. 5. 6. 5. 6. 6. 6. 5. 6. 7. 6. 7. 7. 5. 6. 6. 6. 7. 5. 6.\n",
            " 5. 5. 6. 6. 6. 5. 6. 6. 7. 6. 5. 6. 6. 6. 5. 5. 6. 6. 5. 6. 6. 6. 5. 6.\n",
            " 5. 6. 6. 6. 6. 6. 7. 6. 6. 7. 5. 5. 7. 6. 6. 6. 5. 7. 5. 5. 5. 7. 6. 6.\n",
            " 6. 5. 6. 7. 7. 6. 5. 5. 5. 6. 6. 6. 6. 6. 5. 6. 6. 6. 6. 6. 5. 7. 6. 6.\n",
            " 5. 6. 6. 6. 7. 6. 6. 5. 6. 6. 6. 6. 6. 6. 6. 5. 6. 6. 5. 6. 5. 6. 6. 6.\n",
            " 6. 6. 5. 7. 5. 6. 6. 5. 6. 6. 6. 5. 6. 5. 6. 6. 6. 6. 6. 6. 6. 7. 6. 6.\n",
            " 5. 5. 6. 6. 6. 6. 5. 6. 6. 6. 6. 6. 6. 6. 6. 6. 7. 6. 6. 6. 6. 6. 6. 5.\n",
            " 5. 6. 6. 5. 5. 5. 5. 6. 6. 5. 7. 5. 6. 5. 6. 6.]\n",
            "(1000,)\n"
          ],
          "name": "stdout"
        }
      ]
    },
    {
      "cell_type": "markdown",
      "metadata": {
        "id": "J_ax3dAPIKb1"
      },
      "source": [
        "선형 회귀 방법으로 얻은 값을 두번째 시도와 비교하기 위해 0~2 사이 값으로 변환하였다."
      ]
    },
    {
      "cell_type": "code",
      "metadata": {
        "colab": {
          "base_uri": "https://localhost:8080/"
        },
        "id": "nD1boihX0-0Z",
        "outputId": "b740fa7f-dc6a-44c8-8613-3bd5ea2ecd2f"
      },
      "source": [
        "def classify(n):\n",
        "  if n <= 5:\n",
        "    return 0\n",
        "  elif n <= 7:\n",
        "    return 1\n",
        "  else:\n",
        "    return 2\n",
        "\n",
        "target = list(map(classify, target))\n",
        "target = np.asarray(target)\n",
        "print(target)"
      ],
      "execution_count": 35,
      "outputs": [
        {
          "output_type": "stream",
          "text": [
            "[1 0 1 1 1 1 1 1 1 1 1 0 1 1 1 0 1 1 1 0 1 1 0 1 1 0 0 0 1 0 1 1 0 0 1 1 0\n",
            " 0 1 1 1 1 1 1 1 1 0 1 0 1 0 0 1 0 0 1 1 0 0 1 0 1 1 1 1 1 0 0 1 0 1 0 1 0\n",
            " 1 0 1 1 1 1 1 1 0 0 1 1 1 0 1 1 1 1 1 1 1 1 1 1 1 1 0 0 1 0 0 1 1 1 1 1 1\n",
            " 1 1 1 0 1 0 1 1 1 1 0 1 1 1 0 1 1 1 1 0 0 1 0 1 1 1 1 0 0 0 0 1 0 0 0 1 0\n",
            " 1 1 1 1 1 0 1 0 1 1 1 0 0 1 1 1 1 0 0 1 1 0 0 0 1 0 1 0 1 0 1 0 1 0 0 1 0\n",
            " 1 1 1 1 1 1 0 1 1 1 1 1 0 1 1 1 1 0 0 1 0 1 1 1 1 1 0 0 1 1 1 1 0 1 1 1 1\n",
            " 1 1 1 0 1 0 1 0 1 1 1 1 1 1 1 1 1 1 1 1 1 1 1 1 1 1 0 1 1 1 1 1 1 1 1 1 1\n",
            " 1 1 0 0 1 1 1 1 1 1 1 1 1 0 0 1 1 1 1 0 0 1 1 1 1 1 1 1 1 0 1 1 0 0 1 0 1\n",
            " 1 1 0 1 1 1 0 0 1 1 0 1 0 0 1 0 1 1 1 1 0 0 1 1 0 0 1 0 0 0 0 1 1 0 0 1 1\n",
            " 0 0 1 0 1 1 0 1 1 1 1 0 1 1 1 0 1 0 0 0 1 1 0 1 1 1 1 0 1 0 1 1 1 1 0 1 1\n",
            " 1 0 0 1 0 0 0 0 1 1 1 1 1 1 0 1 1 1 1 1 1 0 1 0 0 1 1 1 1 1 1 0 1 1 1 1 0\n",
            " 1 1 0 1 0 0 0 0 1 1 1 1 0 1 1 0 1 1 1 1 0 0 1 1 1 0 1 1 0 1 0 0 0 0 1 1 1\n",
            " 1 1 0 0 0 1 1 1 0 1 1 0 1 1 1 0 1 1 1 0 0 0 1 1 1 0 0 0 0 1 0 1 1 1 1 1 1\n",
            " 1 1 0 1 1 1 1 1 1 1 1 1 1 0 1 1 0 1 1 1 1 1 1 1 1 1 1 1 1 0 1 1 1 1 0 1 1\n",
            " 1 0 1 1 0 1 1 0 1 1 1 1 1 1 1 1 1 1 1 1 0 1 0 0 1 1 1 1 1 0 1 1 1 1 1 1 0\n",
            " 1 0 1 0 1 0 1 0 1 1 1 1 1 1 0 1 0 0 1 1 0 1 0 0 0 1 1 0 1 1 1 1 1 1 1 1 0\n",
            " 1 1 0 1 1 1 0 1 1 1 1 1 0 1 0 1 0 0 1 0 1 0 1 1 1 1 1 1 1 1 1 1 0 1 0 1 0\n",
            " 0 0 1 0 0 1 1 1 1 1 0 0 1 1 0 1 1 1 0 1 0 1 0 1 0 1 0 1 1 1 0 1 1 0 1 1 0\n",
            " 1 0 1 0 1 1 1 1 1 0 1 0 1 1 1 1 1 0 1 1 1 1 0 1 1 1 0 1 1 1 0 1 0 1 1 1 1\n",
            " 1 0 1 0 1 1 0 1 0 1 1 1 1 0 1 1 1 1 1 1 1 1 1 1 1 1 1 0 1 0 1 1 1 0 1 1 0\n",
            " 1 1 1 0 1 0 1 0 0 0 1 0 0 0 1 1 1 1 0 1 0 0 1 1 1 1 1 1 0 1 1 1 1 1 1 1 1\n",
            " 1 1 0 1 1 1 0 0 0 0 1 0 1 0 1 1 1 1 1 1 0 1 1 0 0 1 1 0 1 0 1 1 1 1 1 1 1\n",
            " 1 0 1 1 0 0 1 0 1 0 1 1 1 0 1 1 1 1 1 0 1 1 1 1 0 1 0 0 1 1 1 0 1 1 1 1 0\n",
            " 1 1 1 0 0 1 1 0 1 1 1 0 1 0 1 1 1 1 1 1 1 1 1 0 0 1 1 1 1 0 1 0 0 0 1 1 1\n",
            " 1 0 1 1 1 1 0 0 0 1 1 1 1 1 0 1 1 1 1 1 0 1 1 1 0 1 1 1 1 1 1 0 1 1 1 1 1\n",
            " 1 1 0 1 1 0 1 0 1 1 1 1 1 0 1 0 1 1 0 1 1 1 0 1 0 1 1 1 1 1 1 1 1 1 1 0 0\n",
            " 1 1 1 1 0 1 1 1 1 1 1 1 1 1 1 1 1 1 1 1 1 0 0 1 1 0 0 0 0 1 1 0 1 0 1 0 1\n",
            " 1]\n"
          ],
          "name": "stdout"
        }
      ]
    }
  ]
}