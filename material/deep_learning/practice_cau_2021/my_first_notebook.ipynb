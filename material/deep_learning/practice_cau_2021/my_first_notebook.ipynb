{
  "nbformat": 4,
  "nbformat_minor": 0,
  "metadata": {
    "colab": {
      "name": "my_first_notebook.ipynb",
      "provenance": [],
      "collapsed_sections": []
    },
    "kernelspec": {
      "name": "python3",
      "display_name": "Python 3"
    },
    "language_info": {
      "name": "python"
    }
  },
  "cells": [
    {
      "cell_type": "markdown",
      "metadata": {
        "id": "8ZI9WsKBv6qn"
      },
      "source": [
        "처음 해보는 노트북입니다.\n",
        "\n",
        "과일 리스트\n",
        "*   사과\n",
        "*   배\n",
        "*   귤\n",
        "\n"
      ]
    },
    {
      "cell_type": "code",
      "metadata": {
        "colab": {
          "base_uri": "https://localhost:8080/"
        },
        "id": "YKdZQud0s5wK",
        "outputId": "0555f382-7a32-4c46-8895-89c9a9689e69"
      },
      "source": [
        "print(\"hello world\")"
      ],
      "execution_count": null,
      "outputs": [
        {
          "output_type": "stream",
          "text": [
            "hello world\n"
          ],
          "name": "stdout"
        }
      ]
    },
    {
      "cell_type": "code",
      "metadata": {
        "colab": {
          "base_uri": "https://localhost:8080/"
        },
        "id": "AZfQU3SY3ueh",
        "outputId": "15963469-12ef-436f-e792-9b88e17f14bc"
      },
      "source": [
        "a = 1\n",
        "b = a+2\n",
        "print(b)"
      ],
      "execution_count": 3,
      "outputs": [
        {
          "output_type": "stream",
          "text": [
            "3\n"
          ],
          "name": "stdout"
        }
      ]
    },
    {
      "cell_type": "markdown",
      "metadata": {
        "id": "2B0a-UW54H16"
      },
      "source": [
        "ls 는 list의 약자\n",
        "\n",
        "-a는 all. 숨김파일도 보여줌<br>\n",
        "-l은 long. 길게 많은 정보까지"
      ]
    },
    {
      "cell_type": "code",
      "metadata": {
        "colab": {
          "base_uri": "https://localhost:8080/"
        },
        "id": "RgwoeM5b3W05",
        "outputId": "0b243eda-3689-4b66-cd76-be3d011cf146"
      },
      "source": [
        "!ls -al"
      ],
      "execution_count": 1,
      "outputs": [
        {
          "output_type": "stream",
          "text": [
            "total 16\n",
            "drwxr-xr-x 1 root root 4096 Aug 13 13:35 .\n",
            "drwxr-xr-x 1 root root 4096 Aug 23 06:41 ..\n",
            "drwxr-xr-x 4 root root 4096 Aug 13 13:34 .config\n",
            "drwxr-xr-x 1 root root 4096 Aug 13 13:35 sample_data\n"
          ],
          "name": "stdout"
        }
      ]
    },
    {
      "cell_type": "code",
      "metadata": {
        "colab": {
          "base_uri": "https://localhost:8080/"
        },
        "id": "1Sn_xxQ83ay-",
        "outputId": "bba7a3f9-8b9d-49a2-e27e-70e6b8e4bdd4"
      },
      "source": [
        "!ls"
      ],
      "execution_count": 4,
      "outputs": [
        {
          "output_type": "stream",
          "text": [
            "sample_data\n"
          ],
          "name": "stdout"
        }
      ]
    },
    {
      "cell_type": "markdown",
      "metadata": {
        "id": "loDMI6AF4G4j"
      },
      "source": [
        ""
      ]
    },
    {
      "cell_type": "code",
      "metadata": {
        "colab": {
          "base_uri": "https://localhost:8080/"
        },
        "id": "aesU8uxZ3-eK",
        "outputId": "77c2d216-9153-4b8d-df12-7cc26b9bf92b"
      },
      "source": [
        "!ls -a"
      ],
      "execution_count": 5,
      "outputs": [
        {
          "output_type": "stream",
          "text": [
            ".  ..  .config\tsample_data\n"
          ],
          "name": "stdout"
        }
      ]
    },
    {
      "cell_type": "code",
      "metadata": {
        "colab": {
          "base_uri": "https://localhost:8080/"
        },
        "id": "29C_av4D4DN5",
        "outputId": "8edb999b-1984-4f2c-9ab8-084de9b36374"
      },
      "source": [
        "!ls -l"
      ],
      "execution_count": 6,
      "outputs": [
        {
          "output_type": "stream",
          "text": [
            "total 4\n",
            "drwxr-xr-x 1 root root 4096 Aug 13 13:35 sample_data\n"
          ],
          "name": "stdout"
        }
      ]
    },
    {
      "cell_type": "code",
      "metadata": {
        "colab": {
          "base_uri": "https://localhost:8080/"
        },
        "id": "N0XImGcJ4fLH",
        "outputId": "b0924488-70ae-4432-bbe3-083a00bbdb26"
      },
      "source": [
        "ls -al"
      ],
      "execution_count": 7,
      "outputs": [
        {
          "output_type": "stream",
          "text": [
            "total 16\n",
            "drwxr-xr-x 1 root root 4096 Aug 13 13:35 \u001b[0m\u001b[01;34m.\u001b[0m/\n",
            "drwxr-xr-x 1 root root 4096 Aug 23 06:41 \u001b[01;34m..\u001b[0m/\n",
            "drwxr-xr-x 4 root root 4096 Aug 13 13:34 \u001b[01;34m.config\u001b[0m/\n",
            "drwxr-xr-x 1 root root 4096 Aug 13 13:35 \u001b[01;34msample_data\u001b[0m/\n"
          ],
          "name": "stdout"
        }
      ]
    },
    {
      "cell_type": "code",
      "metadata": {
        "colab": {
          "base_uri": "https://localhost:8080/"
        },
        "id": "TEbzvlyM4fte",
        "outputId": "0b4e0eba-0f02-491d-d4c7-968befbfdcca"
      },
      "source": [
        "!ls-al"
      ],
      "execution_count": 8,
      "outputs": [
        {
          "output_type": "stream",
          "text": [
            "/bin/bash: ls-al: command not found\n"
          ],
          "name": "stdout"
        }
      ]
    },
    {
      "cell_type": "code",
      "metadata": {
        "id": "5mX1swfL4xEv"
      },
      "source": [
        "!ls -al"
      ],
      "execution_count": null,
      "outputs": []
    },
    {
      "cell_type": "code",
      "metadata": {
        "colab": {
          "base_uri": "https://localhost:8080/"
        },
        "id": "F0OgOnib49HO",
        "outputId": "4f02f3c3-1188-4562-fe83-2991ee2b7067"
      },
      "source": [
        "!ls -al sample_data"
      ],
      "execution_count": 9,
      "outputs": [
        {
          "output_type": "stream",
          "text": [
            "total 55512\n",
            "drwxr-xr-x 1 root root     4096 Aug 13 13:35 .\n",
            "drwxr-xr-x 1 root root     4096 Aug 13 13:35 ..\n",
            "-rwxr-xr-x 1 root root     1697 Jan  1  2000 anscombe.json\n",
            "-rw-r--r-- 1 root root   301141 Aug 13 13:35 california_housing_test.csv\n",
            "-rw-r--r-- 1 root root  1706430 Aug 13 13:35 california_housing_train.csv\n",
            "-rw-r--r-- 1 root root 18289443 Aug 13 13:35 mnist_test.csv\n",
            "-rw-r--r-- 1 root root 36523880 Aug 13 13:35 mnist_train_small.csv\n",
            "-rwxr-xr-x 1 root root      930 Jan  1  2000 README.md\n"
          ],
          "name": "stdout"
        }
      ]
    },
    {
      "cell_type": "code",
      "metadata": {
        "colab": {
          "base_uri": "https://localhost:8080/"
        },
        "id": "eCb4Urrx5MyF",
        "outputId": "19a3412b-9fe0-4162-9e76-23d8fe5fad5a"
      },
      "source": [
        "%cd sample_data"
      ],
      "execution_count": 10,
      "outputs": [
        {
          "output_type": "stream",
          "text": [
            "/content/sample_data\n"
          ],
          "name": "stdout"
        }
      ]
    },
    {
      "cell_type": "code",
      "metadata": {
        "colab": {
          "base_uri": "https://localhost:8080/"
        },
        "id": "LrgndoBw5UpX",
        "outputId": "327d7762-6e46-448b-d88c-9873d4ab1597"
      },
      "source": [
        "!ls -al"
      ],
      "execution_count": 11,
      "outputs": [
        {
          "output_type": "stream",
          "text": [
            "total 55512\n",
            "drwxr-xr-x 1 root root     4096 Aug 13 13:35 .\n",
            "drwxr-xr-x 1 root root     4096 Aug 13 13:35 ..\n",
            "-rwxr-xr-x 1 root root     1697 Jan  1  2000 anscombe.json\n",
            "-rw-r--r-- 1 root root   301141 Aug 13 13:35 california_housing_test.csv\n",
            "-rw-r--r-- 1 root root  1706430 Aug 13 13:35 california_housing_train.csv\n",
            "-rw-r--r-- 1 root root 18289443 Aug 13 13:35 mnist_test.csv\n",
            "-rw-r--r-- 1 root root 36523880 Aug 13 13:35 mnist_train_small.csv\n",
            "-rwxr-xr-x 1 root root      930 Jan  1  2000 README.md\n"
          ],
          "name": "stdout"
        }
      ]
    },
    {
      "cell_type": "code",
      "metadata": {
        "colab": {
          "base_uri": "https://localhost:8080/"
        },
        "id": "WQulXDge5UTV",
        "outputId": "3a1e3d6d-d37a-44ba-b445-3d923520ced8"
      },
      "source": [
        "!pwd"
      ],
      "execution_count": 12,
      "outputs": [
        {
          "output_type": "stream",
          "text": [
            "/content/sample_data\n"
          ],
          "name": "stdout"
        }
      ]
    },
    {
      "cell_type": "code",
      "metadata": {
        "colab": {
          "base_uri": "https://localhost:8080/"
        },
        "id": "r5sZjdoT5T-D",
        "outputId": "d6d71388-2642-48db-a7c9-3fe2a7321315"
      },
      "source": [
        "!cat README.md"
      ],
      "execution_count": 13,
      "outputs": [
        {
          "output_type": "stream",
          "text": [
            "This directory includes a few sample datasets to get you started.\n",
            "\n",
            "*   `california_housing_data*.csv` is California housing data from the 1990 US\n",
            "    Census; more information is available at:\n",
            "    https://developers.google.com/machine-learning/crash-course/california-housing-data-description\n",
            "\n",
            "*   `mnist_*.csv` is a small sample of the\n",
            "    [MNIST database](https://en.wikipedia.org/wiki/MNIST_database), which is\n",
            "    described at: http://yann.lecun.com/exdb/mnist/\n",
            "\n",
            "*   `anscombe.json` contains a copy of\n",
            "    [Anscombe's quartet](https://en.wikipedia.org/wiki/Anscombe%27s_quartet); it\n",
            "    was originally described in\n",
            "\n",
            "    Anscombe, F. J. (1973). 'Graphs in Statistical Analysis'. American\n",
            "    Statistician. 27 (1): 17-21. JSTOR 2682899.\n",
            "\n",
            "    and our copy was prepared by the\n",
            "    [vega_datasets library](https://github.com/altair-viz/vega_datasets/blob/4f67bdaad10f45e3549984e17e1b3088c731503d/vega_datasets/_data/anscombe.json).\n"
          ],
          "name": "stdout"
        }
      ]
    },
    {
      "cell_type": "code",
      "metadata": {
        "colab": {
          "base_uri": "https://localhost:8080/"
        },
        "id": "qJnuGtvP6Edc",
        "outputId": "83c7666c-1a4b-4f57-bd82-7c3e692f7eb7"
      },
      "source": [
        "!head README.md"
      ],
      "execution_count": 14,
      "outputs": [
        {
          "output_type": "stream",
          "text": [
            "This directory includes a few sample datasets to get you started.\n",
            "\n",
            "*   `california_housing_data*.csv` is California housing data from the 1990 US\n",
            "    Census; more information is available at:\n",
            "    https://developers.google.com/machine-learning/crash-course/california-housing-data-description\n",
            "\n",
            "*   `mnist_*.csv` is a small sample of the\n",
            "    [MNIST database](https://en.wikipedia.org/wiki/MNIST_database), which is\n",
            "    described at: http://yann.lecun.com/exdb/mnist/\n",
            "\n"
          ],
          "name": "stdout"
        }
      ]
    },
    {
      "cell_type": "code",
      "metadata": {
        "colab": {
          "base_uri": "https://localhost:8080/"
        },
        "id": "3mtDBLeS6HTX",
        "outputId": "a4cd37bb-540a-43c1-acca-b58352c4fbed"
      },
      "source": [
        "!tail README.md"
      ],
      "execution_count": 15,
      "outputs": [
        {
          "output_type": "stream",
          "text": [
            "\n",
            "*   `anscombe.json` contains a copy of\n",
            "    [Anscombe's quartet](https://en.wikipedia.org/wiki/Anscombe%27s_quartet); it\n",
            "    was originally described in\n",
            "\n",
            "    Anscombe, F. J. (1973). 'Graphs in Statistical Analysis'. American\n",
            "    Statistician. 27 (1): 17-21. JSTOR 2682899.\n",
            "\n",
            "    and our copy was prepared by the\n",
            "    [vega_datasets library](https://github.com/altair-viz/vega_datasets/blob/4f67bdaad10f45e3549984e17e1b3088c731503d/vega_datasets/_data/anscombe.json).\n"
          ],
          "name": "stdout"
        }
      ]
    },
    {
      "cell_type": "code",
      "metadata": {
        "colab": {
          "base_uri": "https://localhost:8080/"
        },
        "id": "2JAosEKw6Qbw",
        "outputId": "365866f3-c29a-4234-a09f-328ae259de86"
      },
      "source": [
        "!wc README.md"
      ],
      "execution_count": 16,
      "outputs": [
        {
          "output_type": "stream",
          "text": [
            " 19  80 930 README.md\n"
          ],
          "name": "stdout"
        }
      ]
    },
    {
      "cell_type": "code",
      "metadata": {
        "colab": {
          "base_uri": "https://localhost:8080/"
        },
        "id": "JjheySO76lmF",
        "outputId": "4670fba9-f5f9-47bf-d401-4aa7bd971b7a"
      },
      "source": [
        "!pwd"
      ],
      "execution_count": 17,
      "outputs": [
        {
          "output_type": "stream",
          "text": [
            "/content/sample_data\n"
          ],
          "name": "stdout"
        }
      ]
    },
    {
      "cell_type": "markdown",
      "metadata": {
        "id": "BzoF_EDl-lIp"
      },
      "source": [
        ""
      ]
    },
    {
      "cell_type": "code",
      "metadata": {
        "id": "8jIOrFlq-lyX"
      },
      "source": [
        "!rm -rf dogs-cats.zip"
      ],
      "execution_count": 22,
      "outputs": []
    },
    {
      "cell_type": "code",
      "metadata": {
        "id": "XPpi2UjM-zzh"
      },
      "source": [
        "!ls -al"
      ],
      "execution_count": null,
      "outputs": []
    },
    {
      "cell_type": "code",
      "metadata": {
        "colab": {
          "base_uri": "https://localhost:8080/"
        },
        "id": "IrjXt52M7937",
        "outputId": "b8818a5d-e839-4c1a-91f5-0d9c7cd253ee"
      },
      "source": [
        "!wget https://github.com/dhrim/cau_2021/raw/master/material/deep_learning/dogs-cats.zip"
      ],
      "execution_count": 24,
      "outputs": [
        {
          "output_type": "stream",
          "text": [
            "--2021-08-23 07:49:04--  https://github.com/dhrim/cau_2021/raw/master/material/deep_learning/dogs-cats.zip\n",
            "Resolving github.com (github.com)... 140.82.121.4\n",
            "Connecting to github.com (github.com)|140.82.121.4|:443... connected.\n",
            "HTTP request sent, awaiting response... 302 Found\n",
            "Location: https://raw.githubusercontent.com/dhrim/cau_2021/master/material/deep_learning/dogs-cats.zip [following]\n",
            "--2021-08-23 07:49:04--  https://raw.githubusercontent.com/dhrim/cau_2021/master/material/deep_learning/dogs-cats.zip\n",
            "Resolving raw.githubusercontent.com (raw.githubusercontent.com)... 185.199.108.133, 185.199.109.133, 185.199.110.133, ...\n",
            "Connecting to raw.githubusercontent.com (raw.githubusercontent.com)|185.199.108.133|:443... connected.\n",
            "HTTP request sent, awaiting response... 200 OK\n",
            "Length: 5365069 (5.1M) [application/zip]\n",
            "Saving to: ‘dogs-cats.zip’\n",
            "\n",
            "dogs-cats.zip       100%[===================>]   5.12M  --.-KB/s    in 0.04s   \n",
            "\n",
            "2021-08-23 07:49:05 (133 MB/s) - ‘dogs-cats.zip’ saved [5365069/5365069]\n",
            "\n"
          ],
          "name": "stdout"
        }
      ]
    },
    {
      "cell_type": "code",
      "metadata": {
        "colab": {
          "base_uri": "https://localhost:8080/"
        },
        "id": "xwZ0_cKs9P5s",
        "outputId": "12f072a6-ac97-4d30-c52b-dedaee18e152"
      },
      "source": [
        "!ls -al"
      ],
      "execution_count": 25,
      "outputs": [
        {
          "output_type": "stream",
          "text": [
            "total 60768\n",
            "drwxr-xr-x 1 root root     4096 Aug 23 07:49 .\n",
            "drwxr-xr-x 1 root root     4096 Aug 13 13:35 ..\n",
            "-rwxr-xr-x 1 root root     1697 Jan  1  2000 anscombe.json\n",
            "-rw-r--r-- 1 root root   301141 Aug 13 13:35 california_housing_test.csv\n",
            "-rw-r--r-- 1 root root  1706430 Aug 13 13:35 california_housing_train.csv\n",
            "drwxr-xr-x 2 root root    12288 Jul 26  2019 dogs-cats\n",
            "-rw-r--r-- 1 root root  5365069 Aug 23 07:49 dogs-cats.zip\n",
            "-rw-r--r-- 1 root root 18289443 Aug 13 13:35 mnist_test.csv\n",
            "-rw-r--r-- 1 root root 36523880 Aug 13 13:35 mnist_train_small.csv\n",
            "-rwxr-xr-x 1 root root      930 Jan  1  2000 README.md\n"
          ],
          "name": "stdout"
        }
      ]
    },
    {
      "cell_type": "code",
      "metadata": {
        "colab": {
          "base_uri": "https://localhost:8080/"
        },
        "id": "0Ska4CYj9QpL",
        "outputId": "80fd14ef-44de-41d0-b9d4-663036f0d3c4"
      },
      "source": [
        "!unzip dogs-cats.zip"
      ],
      "execution_count": 20,
      "outputs": [
        {
          "output_type": "stream",
          "text": [
            "Archive:  dogs-cats.zip\n",
            "   creating: dogs-cats/\n",
            "  inflating: dogs-cats/cat.99.jpg    \n",
            "  inflating: dogs-cats/cat.990.jpg   \n",
            "  inflating: dogs-cats/cat.9900.jpg  \n",
            "  inflating: dogs-cats/cat.9901.jpg  \n",
            "  inflating: dogs-cats/cat.9902.jpg  \n",
            "  inflating: dogs-cats/cat.9903.jpg  \n",
            "  inflating: dogs-cats/cat.9904.jpg  \n",
            "  inflating: dogs-cats/cat.9905.jpg  \n",
            "  inflating: dogs-cats/cat.9906.jpg  \n",
            "  inflating: dogs-cats/cat.9907.jpg  \n",
            "  inflating: dogs-cats/cat.9908.jpg  \n",
            "  inflating: dogs-cats/cat.9909.jpg  \n",
            "  inflating: dogs-cats/cat.991.jpg   \n",
            "  inflating: dogs-cats/cat.9910.jpg  \n",
            "  inflating: dogs-cats/cat.9911.jpg  \n",
            "  inflating: dogs-cats/cat.9912.jpg  \n",
            "  inflating: dogs-cats/cat.9913.jpg  \n",
            "  inflating: dogs-cats/cat.9914.jpg  \n",
            "  inflating: dogs-cats/cat.9915.jpg  \n",
            "  inflating: dogs-cats/cat.9916.jpg  \n",
            "  inflating: dogs-cats/cat.9917.jpg  \n",
            "  inflating: dogs-cats/cat.9918.jpg  \n",
            "  inflating: dogs-cats/cat.9919.jpg  \n",
            "  inflating: dogs-cats/cat.992.jpg   \n",
            "  inflating: dogs-cats/cat.9920.jpg  \n",
            "  inflating: dogs-cats/cat.9921.jpg  \n",
            "  inflating: dogs-cats/cat.9922.jpg  \n",
            "  inflating: dogs-cats/cat.9923.jpg  \n",
            "  inflating: dogs-cats/cat.9924.jpg  \n",
            "  inflating: dogs-cats/cat.9925.jpg  \n",
            "  inflating: dogs-cats/cat.9926.jpg  \n",
            "  inflating: dogs-cats/cat.9927.jpg  \n",
            "  inflating: dogs-cats/cat.9928.jpg  \n",
            "  inflating: dogs-cats/cat.9929.jpg  \n",
            "  inflating: dogs-cats/cat.993.jpg   \n",
            "  inflating: dogs-cats/cat.9930.jpg  \n",
            "  inflating: dogs-cats/cat.9931.jpg  \n",
            "  inflating: dogs-cats/cat.9932.jpg  \n",
            "  inflating: dogs-cats/cat.9933.jpg  \n",
            "  inflating: dogs-cats/cat.9934.jpg  \n",
            "  inflating: dogs-cats/cat.9935.jpg  \n",
            "  inflating: dogs-cats/cat.9936.jpg  \n",
            "  inflating: dogs-cats/cat.9937.jpg  \n",
            "  inflating: dogs-cats/cat.9938.jpg  \n",
            "  inflating: dogs-cats/cat.9939.jpg  \n",
            "  inflating: dogs-cats/cat.994.jpg   \n",
            "  inflating: dogs-cats/cat.9940.jpg  \n",
            "  inflating: dogs-cats/cat.9941.jpg  \n",
            "  inflating: dogs-cats/cat.9942.jpg  \n",
            "  inflating: dogs-cats/cat.9943.jpg  \n",
            "  inflating: dogs-cats/cat.9944.jpg  \n",
            "  inflating: dogs-cats/cat.9945.jpg  \n",
            "  inflating: dogs-cats/cat.9946.jpg  \n",
            "  inflating: dogs-cats/cat.9947.jpg  \n",
            "  inflating: dogs-cats/cat.9948.jpg  \n",
            "  inflating: dogs-cats/cat.9949.jpg  \n",
            "  inflating: dogs-cats/cat.995.jpg   \n",
            "  inflating: dogs-cats/cat.9950.jpg  \n",
            "  inflating: dogs-cats/cat.9951.jpg  \n",
            "  inflating: dogs-cats/cat.9952.jpg  \n",
            "  inflating: dogs-cats/cat.9953.jpg  \n",
            "  inflating: dogs-cats/cat.9954.jpg  \n",
            "  inflating: dogs-cats/cat.9955.jpg  \n",
            "  inflating: dogs-cats/cat.9956.jpg  \n",
            "  inflating: dogs-cats/cat.9957.jpg  \n",
            "  inflating: dogs-cats/cat.9958.jpg  \n",
            "  inflating: dogs-cats/cat.9959.jpg  \n",
            "  inflating: dogs-cats/cat.996.jpg   \n",
            "  inflating: dogs-cats/cat.9960.jpg  \n",
            "  inflating: dogs-cats/cat.9961.jpg  \n",
            "  inflating: dogs-cats/cat.9962.jpg  \n",
            "  inflating: dogs-cats/cat.9963.jpg  \n",
            "  inflating: dogs-cats/cat.9964.jpg  \n",
            "  inflating: dogs-cats/cat.9965.jpg  \n",
            "  inflating: dogs-cats/cat.9966.jpg  \n",
            "  inflating: dogs-cats/cat.9967.jpg  \n",
            "  inflating: dogs-cats/cat.9968.jpg  \n",
            "  inflating: dogs-cats/cat.9969.jpg  \n",
            "  inflating: dogs-cats/cat.997.jpg   \n",
            "  inflating: dogs-cats/cat.9970.jpg  \n",
            "  inflating: dogs-cats/cat.9971.jpg  \n",
            "  inflating: dogs-cats/cat.9972.jpg  \n",
            "  inflating: dogs-cats/cat.9973.jpg  \n",
            "  inflating: dogs-cats/cat.9974.jpg  \n",
            "  inflating: dogs-cats/cat.9975.jpg  \n",
            "  inflating: dogs-cats/cat.9976.jpg  \n",
            "  inflating: dogs-cats/cat.9977.jpg  \n",
            "  inflating: dogs-cats/cat.9978.jpg  \n",
            "  inflating: dogs-cats/cat.9979.jpg  \n",
            "  inflating: dogs-cats/cat.998.jpg   \n",
            "  inflating: dogs-cats/cat.9980.jpg  \n",
            "  inflating: dogs-cats/cat.9981.jpg  \n",
            "  inflating: dogs-cats/cat.9982.jpg  \n",
            "  inflating: dogs-cats/cat.9983.jpg  \n",
            "  inflating: dogs-cats/cat.9984.jpg  \n",
            "  inflating: dogs-cats/cat.9985.jpg  \n",
            "  inflating: dogs-cats/cat.9986.jpg  \n",
            "  inflating: dogs-cats/cat.9987.jpg  \n",
            "  inflating: dogs-cats/cat.9988.jpg  \n",
            "  inflating: dogs-cats/cat.9989.jpg  \n",
            "  inflating: dogs-cats/cat.999.jpg   \n",
            "  inflating: dogs-cats/cat.9990.jpg  \n",
            "  inflating: dogs-cats/cat.9991.jpg  \n",
            "  inflating: dogs-cats/cat.9992.jpg  \n",
            "  inflating: dogs-cats/cat.9993.jpg  \n",
            "  inflating: dogs-cats/cat.9994.jpg  \n",
            "  inflating: dogs-cats/cat.9995.jpg  \n",
            "  inflating: dogs-cats/cat.9996.jpg  \n",
            "  inflating: dogs-cats/cat.9997.jpg  \n",
            "  inflating: dogs-cats/cat.9998.jpg  \n",
            "  inflating: dogs-cats/cat.9999.jpg  \n",
            "  inflating: dogs-cats/dog.99.jpg    \n",
            "  inflating: dogs-cats/dog.990.jpg   \n",
            "  inflating: dogs-cats/dog.9900.jpg  \n",
            "  inflating: dogs-cats/dog.9901.jpg  \n",
            "  inflating: dogs-cats/dog.9902.jpg  \n",
            "  inflating: dogs-cats/dog.9903.jpg  \n",
            "  inflating: dogs-cats/dog.9904.jpg  \n",
            "  inflating: dogs-cats/dog.9905.jpg  \n",
            "  inflating: dogs-cats/dog.9906.jpg  \n",
            "  inflating: dogs-cats/dog.9907.jpg  \n",
            "  inflating: dogs-cats/dog.9908.jpg  \n",
            "  inflating: dogs-cats/dog.9909.jpg  \n",
            "  inflating: dogs-cats/dog.991.jpg   \n",
            "  inflating: dogs-cats/dog.9910.jpg  \n",
            "  inflating: dogs-cats/dog.9911.jpg  \n",
            "  inflating: dogs-cats/dog.9912.jpg  \n",
            "  inflating: dogs-cats/dog.9913.jpg  \n",
            "  inflating: dogs-cats/dog.9914.jpg  \n",
            "  inflating: dogs-cats/dog.9915.jpg  \n",
            "  inflating: dogs-cats/dog.9916.jpg  \n",
            "  inflating: dogs-cats/dog.9917.jpg  \n",
            "  inflating: dogs-cats/dog.9918.jpg  \n",
            "  inflating: dogs-cats/dog.9919.jpg  \n",
            "  inflating: dogs-cats/dog.992.jpg   \n",
            "  inflating: dogs-cats/dog.9920.jpg  \n",
            "  inflating: dogs-cats/dog.9921.jpg  \n",
            "  inflating: dogs-cats/dog.9922.jpg  \n",
            "  inflating: dogs-cats/dog.9923.jpg  \n",
            "  inflating: dogs-cats/dog.9924.jpg  \n",
            "  inflating: dogs-cats/dog.9925.jpg  \n",
            "  inflating: dogs-cats/dog.9926.jpg  \n",
            "  inflating: dogs-cats/dog.9927.jpg  \n",
            "  inflating: dogs-cats/dog.9928.jpg  \n",
            "  inflating: dogs-cats/dog.9929.jpg  \n",
            "  inflating: dogs-cats/dog.993.jpg   \n",
            "  inflating: dogs-cats/dog.9930.jpg  \n",
            "  inflating: dogs-cats/dog.9931.jpg  \n",
            "  inflating: dogs-cats/dog.9932.jpg  \n",
            "  inflating: dogs-cats/dog.9933.jpg  \n",
            "  inflating: dogs-cats/dog.9934.jpg  \n",
            "  inflating: dogs-cats/dog.9935.jpg  \n",
            "  inflating: dogs-cats/dog.9936.jpg  \n",
            "  inflating: dogs-cats/dog.9937.jpg  \n",
            "  inflating: dogs-cats/dog.9938.jpg  \n",
            "  inflating: dogs-cats/dog.9939.jpg  \n",
            "  inflating: dogs-cats/dog.994.jpg   \n",
            "  inflating: dogs-cats/dog.9940.jpg  \n",
            "  inflating: dogs-cats/dog.9941.jpg  \n",
            "  inflating: dogs-cats/dog.9942.jpg  \n",
            "  inflating: dogs-cats/dog.9943.jpg  \n",
            "  inflating: dogs-cats/dog.9944.jpg  \n",
            "  inflating: dogs-cats/dog.9945.jpg  \n",
            "  inflating: dogs-cats/dog.9946.jpg  \n",
            "  inflating: dogs-cats/dog.9947.jpg  \n",
            "  inflating: dogs-cats/dog.9948.jpg  \n",
            "  inflating: dogs-cats/dog.9949.jpg  \n",
            "  inflating: dogs-cats/dog.995.jpg   \n",
            "  inflating: dogs-cats/dog.9950.jpg  \n",
            "  inflating: dogs-cats/dog.9951.jpg  \n",
            "  inflating: dogs-cats/dog.9952.jpg  \n",
            "  inflating: dogs-cats/dog.9953.jpg  \n",
            "  inflating: dogs-cats/dog.9954.jpg  \n",
            "  inflating: dogs-cats/dog.9955.jpg  \n",
            "  inflating: dogs-cats/dog.9956.jpg  \n",
            "  inflating: dogs-cats/dog.9957.jpg  \n",
            "  inflating: dogs-cats/dog.9958.jpg  \n",
            "  inflating: dogs-cats/dog.9959.jpg  \n",
            "  inflating: dogs-cats/dog.996.jpg   \n",
            "  inflating: dogs-cats/dog.9960.jpg  \n",
            "  inflating: dogs-cats/dog.9961.jpg  \n",
            "  inflating: dogs-cats/dog.9962.jpg  \n",
            "  inflating: dogs-cats/dog.9963.jpg  \n",
            "  inflating: dogs-cats/dog.9964.jpg  \n",
            "  inflating: dogs-cats/dog.9965.jpg  \n",
            "  inflating: dogs-cats/dog.9966.jpg  \n",
            "  inflating: dogs-cats/dog.9967.jpg  \n",
            "  inflating: dogs-cats/dog.9968.jpg  \n",
            "  inflating: dogs-cats/dog.9969.jpg  \n",
            "  inflating: dogs-cats/dog.997.jpg   \n",
            "  inflating: dogs-cats/dog.9970.jpg  \n",
            "  inflating: dogs-cats/dog.9971.jpg  \n",
            "  inflating: dogs-cats/dog.9972.jpg  \n",
            "  inflating: dogs-cats/dog.9973.jpg  \n",
            "  inflating: dogs-cats/dog.9974.jpg  \n",
            "  inflating: dogs-cats/dog.9975.jpg  \n",
            "  inflating: dogs-cats/dog.9976.jpg  \n",
            "  inflating: dogs-cats/dog.9977.jpg  \n",
            "  inflating: dogs-cats/dog.9978.jpg  \n",
            "  inflating: dogs-cats/dog.9979.jpg  \n",
            "  inflating: dogs-cats/dog.998.jpg   \n",
            "  inflating: dogs-cats/dog.9980.jpg  \n",
            "  inflating: dogs-cats/dog.9981.jpg  \n",
            "  inflating: dogs-cats/dog.9982.jpg  \n",
            "  inflating: dogs-cats/dog.9983.jpg  \n",
            "  inflating: dogs-cats/dog.9984.jpg  \n",
            "  inflating: dogs-cats/dog.9985.jpg  \n",
            "  inflating: dogs-cats/dog.9986.jpg  \n",
            "  inflating: dogs-cats/dog.9987.jpg  \n",
            "  inflating: dogs-cats/dog.9988.jpg  \n",
            "  inflating: dogs-cats/dog.9989.jpg  \n",
            "  inflating: dogs-cats/dog.999.jpg   \n",
            "  inflating: dogs-cats/dog.9990.jpg  \n",
            "  inflating: dogs-cats/dog.9991.jpg  \n",
            "  inflating: dogs-cats/dog.9992.jpg  \n",
            "  inflating: dogs-cats/dog.9993.jpg  \n",
            "  inflating: dogs-cats/dog.9994.jpg  \n",
            "  inflating: dogs-cats/dog.9995.jpg  \n",
            "  inflating: dogs-cats/dog.9996.jpg  \n",
            "  inflating: dogs-cats/dog.9997.jpg  \n",
            "  inflating: dogs-cats/dog.9998.jpg  \n",
            "  inflating: dogs-cats/dog.9999.jpg  \n"
          ],
          "name": "stdout"
        }
      ]
    },
    {
      "cell_type": "code",
      "metadata": {
        "colab": {
          "base_uri": "https://localhost:8080/"
        },
        "id": "a8afaUls9kWl",
        "outputId": "1dc80612-a8da-44f5-b252-a77809727ad8"
      },
      "source": [
        "!ls -al"
      ],
      "execution_count": 21,
      "outputs": [
        {
          "output_type": "stream",
          "text": [
            "total 60768\n",
            "drwxr-xr-x 1 root root     4096 Aug 23 07:42 .\n",
            "drwxr-xr-x 1 root root     4096 Aug 13 13:35 ..\n",
            "-rwxr-xr-x 1 root root     1697 Jan  1  2000 anscombe.json\n",
            "-rw-r--r-- 1 root root   301141 Aug 13 13:35 california_housing_test.csv\n",
            "-rw-r--r-- 1 root root  1706430 Aug 13 13:35 california_housing_train.csv\n",
            "drwxr-xr-x 2 root root    12288 Jul 26  2019 dogs-cats\n",
            "-rw-r--r-- 1 root root  5365069 Aug 23 07:39 dogs-cats.zip\n",
            "-rw-r--r-- 1 root root 18289443 Aug 13 13:35 mnist_test.csv\n",
            "-rw-r--r-- 1 root root 36523880 Aug 13 13:35 mnist_train_small.csv\n",
            "-rwxr-xr-x 1 root root      930 Jan  1  2000 README.md\n"
          ],
          "name": "stdout"
        }
      ]
    },
    {
      "cell_type": "code",
      "metadata": {
        "colab": {
          "base_uri": "https://localhost:8080/"
        },
        "id": "g7wyBgU-AGlA",
        "outputId": "140949b9-a647-46a0-a801-d1ba93ee22cb"
      },
      "source": [
        "!pwd"
      ],
      "execution_count": 26,
      "outputs": [
        {
          "output_type": "stream",
          "text": [
            "/content/sample_data\n"
          ],
          "name": "stdout"
        }
      ]
    },
    {
      "cell_type": "code",
      "metadata": {
        "colab": {
          "base_uri": "https://localhost:8080/"
        },
        "id": "wJGHnB7wF2-y",
        "outputId": "d5d779d6-9769-4ca1-bb36-bdc06910a013"
      },
      "source": [
        "!ls -al"
      ],
      "execution_count": 28,
      "outputs": [
        {
          "output_type": "stream",
          "text": [
            "total 60768\n",
            "drwxr-xr-x 1 root root     4096 Aug 23 07:49 .\n",
            "drwxr-xr-x 1 root root     4096 Aug 13 13:35 ..\n",
            "-rwxr-xr-x 1 root root     1697 Jan  1  2000 anscombe.json\n",
            "-rw-r--r-- 1 root root   301141 Aug 13 13:35 california_housing_test.csv\n",
            "-rw-r--r-- 1 root root  1706430 Aug 13 13:35 california_housing_train.csv\n",
            "drwxr-xr-x 2 root root    12288 Jul 26  2019 dogs-cats\n",
            "-rw-r--r-- 1 root root  5365069 Aug 23 07:49 dogs-cats.zip\n",
            "-rw-r--r-- 1 root root 18289443 Aug 13 13:35 mnist_test.csv\n",
            "-rw-r--r-- 1 root root 36523880 Aug 13 13:35 mnist_train_small.csv\n",
            "-rwxr-xr-x 1 root root      930 Jan  1  2000 README.md\n"
          ],
          "name": "stdout"
        }
      ]
    },
    {
      "cell_type": "code",
      "metadata": {
        "colab": {
          "base_uri": "https://localhost:8080/"
        },
        "id": "FLxO3Ww4AHSy",
        "outputId": "d1697752-be2c-4c61-cb6d-7463727d2865"
      },
      "source": [
        "!ls -al dogs-cats"
      ],
      "execution_count": 27,
      "outputs": [
        {
          "output_type": "stream",
          "text": [
            "total 5720\n",
            "drwxr-xr-x 2 root root 12288 Jul 26  2019 .\n",
            "drwxr-xr-x 1 root root  4096 Aug 23 07:49 ..\n",
            "-rw-r--r-- 1 root root 17045 Sep 20  2013 cat.9900.jpg\n",
            "-rw-r--r-- 1 root root 17979 Sep 20  2013 cat.9901.jpg\n",
            "-rw-r--r-- 1 root root 16193 Sep 20  2013 cat.9902.jpg\n",
            "-rw-r--r-- 1 root root 26382 Sep 20  2013 cat.9903.jpg\n",
            "-rw-r--r-- 1 root root 17361 Sep 20  2013 cat.9904.jpg\n",
            "-rw-r--r-- 1 root root 15849 Sep 20  2013 cat.9905.jpg\n",
            "-rw-r--r-- 1 root root 27199 Sep 20  2013 cat.9906.jpg\n",
            "-rw-r--r-- 1 root root 33825 Sep 20  2013 cat.9907.jpg\n",
            "-rw-r--r-- 1 root root 22812 Sep 20  2013 cat.9908.jpg\n",
            "-rw-r--r-- 1 root root 13007 Sep 20  2013 cat.9909.jpg\n",
            "-rw-r--r-- 1 root root 29216 Sep 20  2013 cat.990.jpg\n",
            "-rw-r--r-- 1 root root 26413 Sep 20  2013 cat.9910.jpg\n",
            "-rw-r--r-- 1 root root  8124 Sep 20  2013 cat.9911.jpg\n",
            "-rw-r--r-- 1 root root 24906 Sep 20  2013 cat.9912.jpg\n",
            "-rw-r--r-- 1 root root 22398 Sep 20  2013 cat.9913.jpg\n",
            "-rw-r--r-- 1 root root 18241 Sep 20  2013 cat.9914.jpg\n",
            "-rw-r--r-- 1 root root 28183 Sep 20  2013 cat.9915.jpg\n",
            "-rw-r--r-- 1 root root 10438 Sep 20  2013 cat.9916.jpg\n",
            "-rw-r--r-- 1 root root 24767 Sep 20  2013 cat.9917.jpg\n",
            "-rw-r--r-- 1 root root 53224 Sep 20  2013 cat.9918.jpg\n",
            "-rw-r--r-- 1 root root 28480 Sep 20  2013 cat.9919.jpg\n",
            "-rw-r--r-- 1 root root 22385 Sep 20  2013 cat.991.jpg\n",
            "-rw-r--r-- 1 root root 41035 Sep 20  2013 cat.9920.jpg\n",
            "-rw-r--r-- 1 root root 25247 Sep 20  2013 cat.9921.jpg\n",
            "-rw-r--r-- 1 root root 25439 Sep 20  2013 cat.9922.jpg\n",
            "-rw-r--r-- 1 root root 23600 Sep 20  2013 cat.9923.jpg\n",
            "-rw-r--r-- 1 root root 14995 Sep 20  2013 cat.9924.jpg\n",
            "-rw-r--r-- 1 root root 10275 Sep 20  2013 cat.9925.jpg\n",
            "-rw-r--r-- 1 root root 14225 Sep 20  2013 cat.9926.jpg\n",
            "-rw-r--r-- 1 root root  4178 Sep 20  2013 cat.9927.jpg\n",
            "-rw-r--r-- 1 root root 23789 Sep 20  2013 cat.9928.jpg\n",
            "-rw-r--r-- 1 root root 12703 Sep 20  2013 cat.9929.jpg\n",
            "-rw-r--r-- 1 root root 25373 Sep 20  2013 cat.992.jpg\n",
            "-rw-r--r-- 1 root root  9914 Sep 20  2013 cat.9930.jpg\n",
            "-rw-r--r-- 1 root root 27683 Sep 20  2013 cat.9931.jpg\n",
            "-rw-r--r-- 1 root root 21373 Sep 20  2013 cat.9932.jpg\n",
            "-rw-r--r-- 1 root root 25296 Sep 20  2013 cat.9933.jpg\n",
            "-rw-r--r-- 1 root root 26324 Sep 20  2013 cat.9934.jpg\n",
            "-rw-r--r-- 1 root root 27700 Sep 20  2013 cat.9935.jpg\n",
            "-rw-r--r-- 1 root root  3744 Sep 20  2013 cat.9936.jpg\n",
            "-rw-r--r-- 1 root root 25671 Sep 20  2013 cat.9937.jpg\n",
            "-rw-r--r-- 1 root root 21928 Sep 20  2013 cat.9938.jpg\n",
            "-rw-r--r-- 1 root root 17307 Sep 20  2013 cat.9939.jpg\n",
            "-rw-r--r-- 1 root root 25919 Sep 20  2013 cat.993.jpg\n",
            "-rw-r--r-- 1 root root 24983 Sep 20  2013 cat.9940.jpg\n",
            "-rw-r--r-- 1 root root 18102 Sep 20  2013 cat.9941.jpg\n",
            "-rw-r--r-- 1 root root 25196 Sep 20  2013 cat.9942.jpg\n",
            "-rw-r--r-- 1 root root 36429 Sep 20  2013 cat.9943.jpg\n",
            "-rw-r--r-- 1 root root 23136 Sep 20  2013 cat.9944.jpg\n",
            "-rw-r--r-- 1 root root  6208 Sep 20  2013 cat.9945.jpg\n",
            "-rw-r--r-- 1 root root 14249 Sep 20  2013 cat.9946.jpg\n",
            "-rw-r--r-- 1 root root 14620 Sep 20  2013 cat.9947.jpg\n",
            "-rw-r--r-- 1 root root 26882 Sep 20  2013 cat.9948.jpg\n",
            "-rw-r--r-- 1 root root 29646 Sep 20  2013 cat.9949.jpg\n",
            "-rw-r--r-- 1 root root 40401 Sep 20  2013 cat.994.jpg\n",
            "-rw-r--r-- 1 root root  9142 Sep 20  2013 cat.9950.jpg\n",
            "-rw-r--r-- 1 root root 17030 Sep 20  2013 cat.9951.jpg\n",
            "-rw-r--r-- 1 root root 20568 Sep 20  2013 cat.9952.jpg\n",
            "-rw-r--r-- 1 root root 22845 Sep 20  2013 cat.9953.jpg\n",
            "-rw-r--r-- 1 root root 21768 Sep 20  2013 cat.9954.jpg\n",
            "-rw-r--r-- 1 root root 33788 Sep 20  2013 cat.9955.jpg\n",
            "-rw-r--r-- 1 root root 19124 Sep 20  2013 cat.9956.jpg\n",
            "-rw-r--r-- 1 root root 25542 Sep 20  2013 cat.9957.jpg\n",
            "-rw-r--r-- 1 root root 33914 Sep 20  2013 cat.9958.jpg\n",
            "-rw-r--r-- 1 root root 34571 Sep 20  2013 cat.9959.jpg\n",
            "-rw-r--r-- 1 root root  6826 Sep 20  2013 cat.995.jpg\n",
            "-rw-r--r-- 1 root root 12238 Sep 20  2013 cat.9960.jpg\n",
            "-rw-r--r-- 1 root root 11053 Sep 20  2013 cat.9961.jpg\n",
            "-rw-r--r-- 1 root root 14923 Sep 20  2013 cat.9962.jpg\n",
            "-rw-r--r-- 1 root root 34770 Sep 20  2013 cat.9963.jpg\n",
            "-rw-r--r-- 1 root root 36823 Sep 20  2013 cat.9964.jpg\n",
            "-rw-r--r-- 1 root root 23457 Sep 20  2013 cat.9965.jpg\n",
            "-rw-r--r-- 1 root root 16320 Sep 20  2013 cat.9966.jpg\n",
            "-rw-r--r-- 1 root root  2206 Sep 20  2013 cat.9967.jpg\n",
            "-rw-r--r-- 1 root root 14987 Sep 20  2013 cat.9968.jpg\n",
            "-rw-r--r-- 1 root root 26140 Sep 20  2013 cat.9969.jpg\n",
            "-rw-r--r-- 1 root root 17296 Sep 20  2013 cat.996.jpg\n",
            "-rw-r--r-- 1 root root 15153 Sep 20  2013 cat.9970.jpg\n",
            "-rw-r--r-- 1 root root 21594 Sep 20  2013 cat.9971.jpg\n",
            "-rw-r--r-- 1 root root 19330 Sep 20  2013 cat.9972.jpg\n",
            "-rw-r--r-- 1 root root 13906 Sep 20  2013 cat.9973.jpg\n",
            "-rw-r--r-- 1 root root 10453 Sep 20  2013 cat.9974.jpg\n",
            "-rw-r--r-- 1 root root 20286 Sep 20  2013 cat.9975.jpg\n",
            "-rw-r--r-- 1 root root  6938 Sep 20  2013 cat.9976.jpg\n",
            "-rw-r--r-- 1 root root 19414 Sep 20  2013 cat.9977.jpg\n",
            "-rw-r--r-- 1 root root  4076 Sep 20  2013 cat.9978.jpg\n",
            "-rw-r--r-- 1 root root 25089 Sep 20  2013 cat.9979.jpg\n",
            "-rw-r--r-- 1 root root 51867 Sep 20  2013 cat.997.jpg\n",
            "-rw-r--r-- 1 root root 29430 Sep 20  2013 cat.9980.jpg\n",
            "-rw-r--r-- 1 root root 28502 Sep 20  2013 cat.9981.jpg\n",
            "-rw-r--r-- 1 root root 29291 Sep 20  2013 cat.9982.jpg\n",
            "-rw-r--r-- 1 root root 13070 Sep 20  2013 cat.9983.jpg\n",
            "-rw-r--r-- 1 root root 30022 Sep 20  2013 cat.9984.jpg\n",
            "-rw-r--r-- 1 root root 24923 Sep 20  2013 cat.9985.jpg\n",
            "-rw-r--r-- 1 root root  9769 Sep 20  2013 cat.9986.jpg\n",
            "-rw-r--r-- 1 root root 16287 Sep 20  2013 cat.9987.jpg\n",
            "-rw-r--r-- 1 root root 29006 Sep 20  2013 cat.9988.jpg\n",
            "-rw-r--r-- 1 root root 45388 Sep 20  2013 cat.9989.jpg\n",
            "-rw-r--r-- 1 root root 19486 Sep 20  2013 cat.998.jpg\n",
            "-rw-r--r-- 1 root root 18204 Sep 20  2013 cat.9990.jpg\n",
            "-rw-r--r-- 1 root root 24297 Sep 20  2013 cat.9991.jpg\n",
            "-rw-r--r-- 1 root root 21956 Sep 20  2013 cat.9992.jpg\n",
            "-rw-r--r-- 1 root root 29133 Sep 20  2013 cat.9993.jpg\n",
            "-rw-r--r-- 1 root root 30029 Sep 20  2013 cat.9994.jpg\n",
            "-rw-r--r-- 1 root root 13785 Sep 20  2013 cat.9995.jpg\n",
            "-rw-r--r-- 1 root root 16855 Sep 20  2013 cat.9996.jpg\n",
            "-rw-r--r-- 1 root root 18575 Sep 20  2013 cat.9997.jpg\n",
            "-rw-r--r-- 1 root root  9937 Sep 20  2013 cat.9998.jpg\n",
            "-rw-r--r-- 1 root root 32621 Sep 20  2013 cat.9999.jpg\n",
            "-rw-r--r-- 1 root root 10559 Sep 20  2013 cat.999.jpg\n",
            "-rw-r--r-- 1 root root  6638 Sep 20  2013 cat.99.jpg\n",
            "-rw-r--r-- 1 root root 26278 Sep 20  2013 dog.9900.jpg\n",
            "-rw-r--r-- 1 root root 34763 Sep 20  2013 dog.9901.jpg\n",
            "-rw-r--r-- 1 root root 31401 Sep 20  2013 dog.9902.jpg\n",
            "-rw-r--r-- 1 root root 32459 Sep 20  2013 dog.9903.jpg\n",
            "-rw-r--r-- 1 root root 28555 Sep 20  2013 dog.9904.jpg\n",
            "-rw-r--r-- 1 root root 24188 Sep 20  2013 dog.9905.jpg\n",
            "-rw-r--r-- 1 root root 15506 Sep 20  2013 dog.9906.jpg\n",
            "-rw-r--r-- 1 root root 45020 Sep 20  2013 dog.9907.jpg\n",
            "-rw-r--r-- 1 root root 33040 Sep 20  2013 dog.9908.jpg\n",
            "-rw-r--r-- 1 root root 51896 Sep 20  2013 dog.9909.jpg\n",
            "-rw-r--r-- 1 root root  2940 Sep 20  2013 dog.990.jpg\n",
            "-rw-r--r-- 1 root root 14959 Sep 20  2013 dog.9910.jpg\n",
            "-rw-r--r-- 1 root root 15144 Sep 20  2013 dog.9911.jpg\n",
            "-rw-r--r-- 1 root root 31928 Sep 20  2013 dog.9912.jpg\n",
            "-rw-r--r-- 1 root root 23164 Sep 20  2013 dog.9913.jpg\n",
            "-rw-r--r-- 1 root root 31894 Sep 20  2013 dog.9914.jpg\n",
            "-rw-r--r-- 1 root root 25287 Sep 20  2013 dog.9915.jpg\n",
            "-rw-r--r-- 1 root root 32921 Sep 20  2013 dog.9916.jpg\n",
            "-rw-r--r-- 1 root root 12543 Sep 20  2013 dog.9917.jpg\n",
            "-rw-r--r-- 1 root root 16410 Sep 20  2013 dog.9918.jpg\n",
            "-rw-r--r-- 1 root root 24819 Sep 20  2013 dog.9919.jpg\n",
            "-rw-r--r-- 1 root root 36806 Sep 20  2013 dog.991.jpg\n",
            "-rw-r--r-- 1 root root 29775 Sep 20  2013 dog.9920.jpg\n",
            "-rw-r--r-- 1 root root 17262 Sep 20  2013 dog.9921.jpg\n",
            "-rw-r--r-- 1 root root 27429 Sep 20  2013 dog.9922.jpg\n",
            "-rw-r--r-- 1 root root 22749 Sep 20  2013 dog.9923.jpg\n",
            "-rw-r--r-- 1 root root 23251 Sep 20  2013 dog.9924.jpg\n",
            "-rw-r--r-- 1 root root 20019 Sep 20  2013 dog.9925.jpg\n",
            "-rw-r--r-- 1 root root 22133 Sep 20  2013 dog.9926.jpg\n",
            "-rw-r--r-- 1 root root 45488 Sep 20  2013 dog.9927.jpg\n",
            "-rw-r--r-- 1 root root 37028 Sep 20  2013 dog.9928.jpg\n",
            "-rw-r--r-- 1 root root 34428 Sep 20  2013 dog.9929.jpg\n",
            "-rw-r--r-- 1 root root 21108 Sep 20  2013 dog.992.jpg\n",
            "-rw-r--r-- 1 root root 35121 Sep 20  2013 dog.9930.jpg\n",
            "-rw-r--r-- 1 root root 38368 Sep 20  2013 dog.9931.jpg\n",
            "-rw-r--r-- 1 root root 30805 Sep 20  2013 dog.9932.jpg\n",
            "-rw-r--r-- 1 root root 31006 Sep 20  2013 dog.9933.jpg\n",
            "-rw-r--r-- 1 root root 19805 Sep 20  2013 dog.9934.jpg\n",
            "-rw-r--r-- 1 root root 10985 Sep 20  2013 dog.9935.jpg\n",
            "-rw-r--r-- 1 root root 23772 Sep 20  2013 dog.9936.jpg\n",
            "-rw-r--r-- 1 root root 13427 Sep 20  2013 dog.9937.jpg\n",
            "-rw-r--r-- 1 root root 21125 Sep 20  2013 dog.9938.jpg\n",
            "-rw-r--r-- 1 root root 27620 Sep 20  2013 dog.9939.jpg\n",
            "-rw-r--r-- 1 root root 26121 Sep 20  2013 dog.993.jpg\n",
            "-rw-r--r-- 1 root root 19706 Sep 20  2013 dog.9940.jpg\n",
            "-rw-r--r-- 1 root root 43029 Sep 20  2013 dog.9941.jpg\n",
            "-rw-r--r-- 1 root root 25335 Sep 20  2013 dog.9942.jpg\n",
            "-rw-r--r-- 1 root root 48300 Sep 20  2013 dog.9943.jpg\n",
            "-rw-r--r-- 1 root root 17332 Sep 20  2013 dog.9944.jpg\n",
            "-rw-r--r-- 1 root root 55680 Sep 20  2013 dog.9945.jpg\n",
            "-rw-r--r-- 1 root root 15263 Sep 20  2013 dog.9946.jpg\n",
            "-rw-r--r-- 1 root root 33756 Sep 20  2013 dog.9947.jpg\n",
            "-rw-r--r-- 1 root root 25730 Sep 20  2013 dog.9948.jpg\n",
            "-rw-r--r-- 1 root root 28577 Sep 20  2013 dog.9949.jpg\n",
            "-rw-r--r-- 1 root root 21285 Sep 20  2013 dog.994.jpg\n",
            "-rw-r--r-- 1 root root 34078 Sep 20  2013 dog.9950.jpg\n",
            "-rw-r--r-- 1 root root 19957 Sep 20  2013 dog.9951.jpg\n",
            "-rw-r--r-- 1 root root 60849 Sep 20  2013 dog.9952.jpg\n",
            "-rw-r--r-- 1 root root 38401 Sep 20  2013 dog.9953.jpg\n",
            "-rw-r--r-- 1 root root 13015 Sep 20  2013 dog.9954.jpg\n",
            "-rw-r--r-- 1 root root 23287 Sep 20  2013 dog.9955.jpg\n",
            "-rw-r--r-- 1 root root  9855 Sep 20  2013 dog.9956.jpg\n",
            "-rw-r--r-- 1 root root 23858 Sep 20  2013 dog.9957.jpg\n",
            "-rw-r--r-- 1 root root 20309 Sep 20  2013 dog.9958.jpg\n",
            "-rw-r--r-- 1 root root 41620 Sep 20  2013 dog.9959.jpg\n",
            "-rw-r--r-- 1 root root 16436 Sep 20  2013 dog.995.jpg\n",
            "-rw-r--r-- 1 root root 27284 Sep 20  2013 dog.9960.jpg\n",
            "-rw-r--r-- 1 root root  9215 Sep 20  2013 dog.9961.jpg\n",
            "-rw-r--r-- 1 root root 48101 Sep 20  2013 dog.9962.jpg\n",
            "-rw-r--r-- 1 root root 17632 Sep 20  2013 dog.9963.jpg\n",
            "-rw-r--r-- 1 root root 40969 Sep 20  2013 dog.9964.jpg\n",
            "-rw-r--r-- 1 root root 20034 Sep 20  2013 dog.9965.jpg\n",
            "-rw-r--r-- 1 root root 18738 Sep 20  2013 dog.9966.jpg\n",
            "-rw-r--r-- 1 root root 22086 Sep 20  2013 dog.9967.jpg\n",
            "-rw-r--r-- 1 root root 23934 Sep 20  2013 dog.9968.jpg\n",
            "-rw-r--r-- 1 root root 13113 Sep 20  2013 dog.9969.jpg\n",
            "-rw-r--r-- 1 root root 17413 Sep 20  2013 dog.996.jpg\n",
            "-rw-r--r-- 1 root root 52382 Sep 20  2013 dog.9970.jpg\n",
            "-rw-r--r-- 1 root root 15658 Sep 20  2013 dog.9971.jpg\n",
            "-rw-r--r-- 1 root root 35096 Sep 20  2013 dog.9972.jpg\n",
            "-rw-r--r-- 1 root root 16987 Sep 20  2013 dog.9973.jpg\n",
            "-rw-r--r-- 1 root root 12053 Sep 20  2013 dog.9974.jpg\n",
            "-rw-r--r-- 1 root root 44233 Sep 20  2013 dog.9975.jpg\n",
            "-rw-r--r-- 1 root root 48637 Sep 20  2013 dog.9976.jpg\n",
            "-rw-r--r-- 1 root root 32927 Sep 20  2013 dog.9977.jpg\n",
            "-rw-r--r-- 1 root root 38430 Sep 20  2013 dog.9978.jpg\n",
            "-rw-r--r-- 1 root root 20862 Sep 20  2013 dog.9979.jpg\n",
            "-rw-r--r-- 1 root root 12173 Sep 20  2013 dog.997.jpg\n",
            "-rw-r--r-- 1 root root 49359 Sep 20  2013 dog.9980.jpg\n",
            "-rw-r--r-- 1 root root 32968 Sep 20  2013 dog.9981.jpg\n",
            "-rw-r--r-- 1 root root 23311 Sep 20  2013 dog.9982.jpg\n",
            "-rw-r--r-- 1 root root 20975 Sep 20  2013 dog.9983.jpg\n",
            "-rw-r--r-- 1 root root 20928 Sep 20  2013 dog.9984.jpg\n",
            "-rw-r--r-- 1 root root 20895 Sep 20  2013 dog.9985.jpg\n",
            "-rw-r--r-- 1 root root 24707 Sep 20  2013 dog.9986.jpg\n",
            "-rw-r--r-- 1 root root 21978 Sep 20  2013 dog.9987.jpg\n",
            "-rw-r--r-- 1 root root 39430 Sep 20  2013 dog.9988.jpg\n",
            "-rw-r--r-- 1 root root 19778 Sep 20  2013 dog.9989.jpg\n",
            "-rw-r--r-- 1 root root 24590 Sep 20  2013 dog.998.jpg\n",
            "-rw-r--r-- 1 root root 36699 Sep 20  2013 dog.9990.jpg\n",
            "-rw-r--r-- 1 root root 35285 Sep 20  2013 dog.9991.jpg\n",
            "-rw-r--r-- 1 root root 11014 Sep 20  2013 dog.9992.jpg\n",
            "-rw-r--r-- 1 root root 18105 Sep 20  2013 dog.9993.jpg\n",
            "-rw-r--r-- 1 root root 22017 Sep 20  2013 dog.9994.jpg\n",
            "-rw-r--r-- 1 root root  4945 Sep 20  2013 dog.9995.jpg\n",
            "-rw-r--r-- 1 root root 14786 Sep 20  2013 dog.9996.jpg\n",
            "-rw-r--r-- 1 root root 47043 Sep 20  2013 dog.9997.jpg\n",
            "-rw-r--r-- 1 root root 35711 Sep 20  2013 dog.9998.jpg\n",
            "-rw-r--r-- 1 root root  3339 Sep 20  2013 dog.9999.jpg\n",
            "-rw-r--r-- 1 root root 28899 Sep 20  2013 dog.999.jpg\n",
            "-rw-r--r-- 1 root root 34392 Sep 20  2013 dog.99.jpg\n"
          ],
          "name": "stdout"
        }
      ]
    },
    {
      "cell_type": "code",
      "metadata": {
        "colab": {
          "base_uri": "https://localhost:8080/"
        },
        "id": "UtlLdZ72FxlZ",
        "outputId": "7a8a43c5-0abd-4939-8b4f-bb6982bc3a4a"
      },
      "source": [
        "!ls -al dogs-cats | wc"
      ],
      "execution_count": 29,
      "outputs": [
        {
          "output_type": "stream",
          "text": [
            "    225    2018   12286\n"
          ],
          "name": "stdout"
        }
      ]
    },
    {
      "cell_type": "code",
      "metadata": {
        "colab": {
          "base_uri": "https://localhost:8080/"
        },
        "id": "1HlrRmSrGOZ1",
        "outputId": "3a43538b-3cab-4dcb-b74b-739f9ede0a13"
      },
      "source": [
        "!ls -al dogs-cats/cat* | wc\n",
        "!ls -al dogs-cats/dog* | wc"
      ],
      "execution_count": 35,
      "outputs": [
        {
          "output_type": "stream",
          "text": [
            "    111     999    7203\n",
            "    111     999    7203\n"
          ],
          "name": "stdout"
        }
      ]
    },
    {
      "cell_type": "code",
      "metadata": {
        "colab": {
          "base_uri": "https://localhost:8080/"
        },
        "id": "NHnz4fbqHWUb",
        "outputId": "327ef86f-79c7-41d8-dee8-f33f1ae41a40"
      },
      "source": [
        "!ls -al dogs-cats | head"
      ],
      "execution_count": 39,
      "outputs": [
        {
          "output_type": "stream",
          "text": [
            "total 5720\n",
            "drwxr-xr-x 2 root root 12288 Jul 26  2019 .\n",
            "drwxr-xr-x 1 root root  4096 Aug 23 07:49 ..\n",
            "-rw-r--r-- 1 root root 17045 Sep 20  2013 cat.9900.jpg\n",
            "-rw-r--r-- 1 root root 17979 Sep 20  2013 cat.9901.jpg\n",
            "-rw-r--r-- 1 root root 16193 Sep 20  2013 cat.9902.jpg\n",
            "-rw-r--r-- 1 root root 26382 Sep 20  2013 cat.9903.jpg\n",
            "-rw-r--r-- 1 root root 17361 Sep 20  2013 cat.9904.jpg\n",
            "-rw-r--r-- 1 root root 15849 Sep 20  2013 cat.9905.jpg\n",
            "-rw-r--r-- 1 root root 27199 Sep 20  2013 cat.9906.jpg\n"
          ],
          "name": "stdout"
        }
      ]
    },
    {
      "cell_type": "code",
      "metadata": {
        "id": "dzI11fv5HWEW"
      },
      "source": [
        ""
      ],
      "execution_count": null,
      "outputs": []
    },
    {
      "cell_type": "code",
      "metadata": {
        "id": "Gr1O0C92GU94"
      },
      "source": [
        "!mkdir data\n",
        "!mkdir data/dog\n",
        "!mkdir data/cat"
      ],
      "execution_count": 40,
      "outputs": []
    },
    {
      "cell_type": "code",
      "metadata": {
        "colab": {
          "base_uri": "https://localhost:8080/"
        },
        "id": "R6tns87dIH-y",
        "outputId": "aab4cafd-2142-47f1-daf9-08b4fc717b3c"
      },
      "source": [
        "!apt install tree"
      ],
      "execution_count": 41,
      "outputs": [
        {
          "output_type": "stream",
          "text": [
            "Reading package lists... Done\n",
            "Building dependency tree       \n",
            "Reading state information... Done\n",
            "The following package was automatically installed and is no longer required:\n",
            "  libnvidia-common-460\n",
            "Use 'apt autoremove' to remove it.\n",
            "The following NEW packages will be installed:\n",
            "  tree\n",
            "0 upgraded, 1 newly installed, 0 to remove and 40 not upgraded.\n",
            "Need to get 40.7 kB of archives.\n",
            "After this operation, 105 kB of additional disk space will be used.\n",
            "Get:1 http://archive.ubuntu.com/ubuntu bionic/universe amd64 tree amd64 1.7.0-5 [40.7 kB]\n",
            "Fetched 40.7 kB in 0s (994 kB/s)\n",
            "Selecting previously unselected package tree.\n",
            "(Reading database ... 148486 files and directories currently installed.)\n",
            "Preparing to unpack .../tree_1.7.0-5_amd64.deb ...\n",
            "Unpacking tree (1.7.0-5) ...\n",
            "Setting up tree (1.7.0-5) ...\n",
            "Processing triggers for man-db (2.8.3-2ubuntu0.1) ...\n"
          ],
          "name": "stdout"
        }
      ]
    },
    {
      "cell_type": "code",
      "metadata": {
        "colab": {
          "base_uri": "https://localhost:8080/"
        },
        "id": "2Q9Dp1fPIaK1",
        "outputId": "25a42e75-08ad-4aa1-e6d6-15cb84a3bc61"
      },
      "source": [
        "!tree data"
      ],
      "execution_count": 42,
      "outputs": [
        {
          "output_type": "stream",
          "text": [
            "data\n",
            "├── cat\n",
            "└── dog\n",
            "\n",
            "2 directories, 0 files\n"
          ],
          "name": "stdout"
        }
      ]
    },
    {
      "cell_type": "code",
      "metadata": {
        "colab": {
          "base_uri": "https://localhost:8080/"
        },
        "id": "m5RdtD6TIfT-",
        "outputId": "475404f7-2610-41b6-c4a4-46f5590a63a9"
      },
      "source": [
        "!tree"
      ],
      "execution_count": 43,
      "outputs": [
        {
          "output_type": "stream",
          "text": [
            ".\n",
            "├── anscombe.json\n",
            "├── california_housing_test.csv\n",
            "├── california_housing_train.csv\n",
            "├── data\n",
            "│   ├── cat\n",
            "│   └── dog\n",
            "├── dogs-cats\n",
            "│   ├── cat.9900.jpg\n",
            "│   ├── cat.9901.jpg\n",
            "│   ├── cat.9902.jpg\n",
            "│   ├── cat.9903.jpg\n",
            "│   ├── cat.9904.jpg\n",
            "│   ├── cat.9905.jpg\n",
            "│   ├── cat.9906.jpg\n",
            "│   ├── cat.9907.jpg\n",
            "│   ├── cat.9908.jpg\n",
            "│   ├── cat.9909.jpg\n",
            "│   ├── cat.990.jpg\n",
            "│   ├── cat.9910.jpg\n",
            "│   ├── cat.9911.jpg\n",
            "│   ├── cat.9912.jpg\n",
            "│   ├── cat.9913.jpg\n",
            "│   ├── cat.9914.jpg\n",
            "│   ├── cat.9915.jpg\n",
            "│   ├── cat.9916.jpg\n",
            "│   ├── cat.9917.jpg\n",
            "│   ├── cat.9918.jpg\n",
            "│   ├── cat.9919.jpg\n",
            "│   ├── cat.991.jpg\n",
            "│   ├── cat.9920.jpg\n",
            "│   ├── cat.9921.jpg\n",
            "│   ├── cat.9922.jpg\n",
            "│   ├── cat.9923.jpg\n",
            "│   ├── cat.9924.jpg\n",
            "│   ├── cat.9925.jpg\n",
            "│   ├── cat.9926.jpg\n",
            "│   ├── cat.9927.jpg\n",
            "│   ├── cat.9928.jpg\n",
            "│   ├── cat.9929.jpg\n",
            "│   ├── cat.992.jpg\n",
            "│   ├── cat.9930.jpg\n",
            "│   ├── cat.9931.jpg\n",
            "│   ├── cat.9932.jpg\n",
            "│   ├── cat.9933.jpg\n",
            "│   ├── cat.9934.jpg\n",
            "│   ├── cat.9935.jpg\n",
            "│   ├── cat.9936.jpg\n",
            "│   ├── cat.9937.jpg\n",
            "│   ├── cat.9938.jpg\n",
            "│   ├── cat.9939.jpg\n",
            "│   ├── cat.993.jpg\n",
            "│   ├── cat.9940.jpg\n",
            "│   ├── cat.9941.jpg\n",
            "│   ├── cat.9942.jpg\n",
            "│   ├── cat.9943.jpg\n",
            "│   ├── cat.9944.jpg\n",
            "│   ├── cat.9945.jpg\n",
            "│   ├── cat.9946.jpg\n",
            "│   ├── cat.9947.jpg\n",
            "│   ├── cat.9948.jpg\n",
            "│   ├── cat.9949.jpg\n",
            "│   ├── cat.994.jpg\n",
            "│   ├── cat.9950.jpg\n",
            "│   ├── cat.9951.jpg\n",
            "│   ├── cat.9952.jpg\n",
            "│   ├── cat.9953.jpg\n",
            "│   ├── cat.9954.jpg\n",
            "│   ├── cat.9955.jpg\n",
            "│   ├── cat.9956.jpg\n",
            "│   ├── cat.9957.jpg\n",
            "│   ├── cat.9958.jpg\n",
            "│   ├── cat.9959.jpg\n",
            "│   ├── cat.995.jpg\n",
            "│   ├── cat.9960.jpg\n",
            "│   ├── cat.9961.jpg\n",
            "│   ├── cat.9962.jpg\n",
            "│   ├── cat.9963.jpg\n",
            "│   ├── cat.9964.jpg\n",
            "│   ├── cat.9965.jpg\n",
            "│   ├── cat.9966.jpg\n",
            "│   ├── cat.9967.jpg\n",
            "│   ├── cat.9968.jpg\n",
            "│   ├── cat.9969.jpg\n",
            "│   ├── cat.996.jpg\n",
            "│   ├── cat.9970.jpg\n",
            "│   ├── cat.9971.jpg\n",
            "│   ├── cat.9972.jpg\n",
            "│   ├── cat.9973.jpg\n",
            "│   ├── cat.9974.jpg\n",
            "│   ├── cat.9975.jpg\n",
            "│   ├── cat.9976.jpg\n",
            "│   ├── cat.9977.jpg\n",
            "│   ├── cat.9978.jpg\n",
            "│   ├── cat.9979.jpg\n",
            "│   ├── cat.997.jpg\n",
            "│   ├── cat.9980.jpg\n",
            "│   ├── cat.9981.jpg\n",
            "│   ├── cat.9982.jpg\n",
            "│   ├── cat.9983.jpg\n",
            "│   ├── cat.9984.jpg\n",
            "│   ├── cat.9985.jpg\n",
            "│   ├── cat.9986.jpg\n",
            "│   ├── cat.9987.jpg\n",
            "│   ├── cat.9988.jpg\n",
            "│   ├── cat.9989.jpg\n",
            "│   ├── cat.998.jpg\n",
            "│   ├── cat.9990.jpg\n",
            "│   ├── cat.9991.jpg\n",
            "│   ├── cat.9992.jpg\n",
            "│   ├── cat.9993.jpg\n",
            "│   ├── cat.9994.jpg\n",
            "│   ├── cat.9995.jpg\n",
            "│   ├── cat.9996.jpg\n",
            "│   ├── cat.9997.jpg\n",
            "│   ├── cat.9998.jpg\n",
            "│   ├── cat.9999.jpg\n",
            "│   ├── cat.999.jpg\n",
            "│   ├── cat.99.jpg\n",
            "│   ├── dog.9900.jpg\n",
            "│   ├── dog.9901.jpg\n",
            "│   ├── dog.9902.jpg\n",
            "│   ├── dog.9903.jpg\n",
            "│   ├── dog.9904.jpg\n",
            "│   ├── dog.9905.jpg\n",
            "│   ├── dog.9906.jpg\n",
            "│   ├── dog.9907.jpg\n",
            "│   ├── dog.9908.jpg\n",
            "│   ├── dog.9909.jpg\n",
            "│   ├── dog.990.jpg\n",
            "│   ├── dog.9910.jpg\n",
            "│   ├── dog.9911.jpg\n",
            "│   ├── dog.9912.jpg\n",
            "│   ├── dog.9913.jpg\n",
            "│   ├── dog.9914.jpg\n",
            "│   ├── dog.9915.jpg\n",
            "│   ├── dog.9916.jpg\n",
            "│   ├── dog.9917.jpg\n",
            "│   ├── dog.9918.jpg\n",
            "│   ├── dog.9919.jpg\n",
            "│   ├── dog.991.jpg\n",
            "│   ├── dog.9920.jpg\n",
            "│   ├── dog.9921.jpg\n",
            "│   ├── dog.9922.jpg\n",
            "│   ├── dog.9923.jpg\n",
            "│   ├── dog.9924.jpg\n",
            "│   ├── dog.9925.jpg\n",
            "│   ├── dog.9926.jpg\n",
            "│   ├── dog.9927.jpg\n",
            "│   ├── dog.9928.jpg\n",
            "│   ├── dog.9929.jpg\n",
            "│   ├── dog.992.jpg\n",
            "│   ├── dog.9930.jpg\n",
            "│   ├── dog.9931.jpg\n",
            "│   ├── dog.9932.jpg\n",
            "│   ├── dog.9933.jpg\n",
            "│   ├── dog.9934.jpg\n",
            "│   ├── dog.9935.jpg\n",
            "│   ├── dog.9936.jpg\n",
            "│   ├── dog.9937.jpg\n",
            "│   ├── dog.9938.jpg\n",
            "│   ├── dog.9939.jpg\n",
            "│   ├── dog.993.jpg\n",
            "│   ├── dog.9940.jpg\n",
            "│   ├── dog.9941.jpg\n",
            "│   ├── dog.9942.jpg\n",
            "│   ├── dog.9943.jpg\n",
            "│   ├── dog.9944.jpg\n",
            "│   ├── dog.9945.jpg\n",
            "│   ├── dog.9946.jpg\n",
            "│   ├── dog.9947.jpg\n",
            "│   ├── dog.9948.jpg\n",
            "│   ├── dog.9949.jpg\n",
            "│   ├── dog.994.jpg\n",
            "│   ├── dog.9950.jpg\n",
            "│   ├── dog.9951.jpg\n",
            "│   ├── dog.9952.jpg\n",
            "│   ├── dog.9953.jpg\n",
            "│   ├── dog.9954.jpg\n",
            "│   ├── dog.9955.jpg\n",
            "│   ├── dog.9956.jpg\n",
            "│   ├── dog.9957.jpg\n",
            "│   ├── dog.9958.jpg\n",
            "│   ├── dog.9959.jpg\n",
            "│   ├── dog.995.jpg\n",
            "│   ├── dog.9960.jpg\n",
            "│   ├── dog.9961.jpg\n",
            "│   ├── dog.9962.jpg\n",
            "│   ├── dog.9963.jpg\n",
            "│   ├── dog.9964.jpg\n",
            "│   ├── dog.9965.jpg\n",
            "│   ├── dog.9966.jpg\n",
            "│   ├── dog.9967.jpg\n",
            "│   ├── dog.9968.jpg\n",
            "│   ├── dog.9969.jpg\n",
            "│   ├── dog.996.jpg\n",
            "│   ├── dog.9970.jpg\n",
            "│   ├── dog.9971.jpg\n",
            "│   ├── dog.9972.jpg\n",
            "│   ├── dog.9973.jpg\n",
            "│   ├── dog.9974.jpg\n",
            "│   ├── dog.9975.jpg\n",
            "│   ├── dog.9976.jpg\n",
            "│   ├── dog.9977.jpg\n",
            "│   ├── dog.9978.jpg\n",
            "│   ├── dog.9979.jpg\n",
            "│   ├── dog.997.jpg\n",
            "│   ├── dog.9980.jpg\n",
            "│   ├── dog.9981.jpg\n",
            "│   ├── dog.9982.jpg\n",
            "│   ├── dog.9983.jpg\n",
            "│   ├── dog.9984.jpg\n",
            "│   ├── dog.9985.jpg\n",
            "│   ├── dog.9986.jpg\n",
            "│   ├── dog.9987.jpg\n",
            "│   ├── dog.9988.jpg\n",
            "│   ├── dog.9989.jpg\n",
            "│   ├── dog.998.jpg\n",
            "│   ├── dog.9990.jpg\n",
            "│   ├── dog.9991.jpg\n",
            "│   ├── dog.9992.jpg\n",
            "│   ├── dog.9993.jpg\n",
            "│   ├── dog.9994.jpg\n",
            "│   ├── dog.9995.jpg\n",
            "│   ├── dog.9996.jpg\n",
            "│   ├── dog.9997.jpg\n",
            "│   ├── dog.9998.jpg\n",
            "│   ├── dog.9999.jpg\n",
            "│   ├── dog.999.jpg\n",
            "│   └── dog.99.jpg\n",
            "├── dogs-cats.zip\n",
            "├── mnist_test.csv\n",
            "├── mnist_train_small.csv\n",
            "└── README.md\n",
            "\n",
            "4 directories, 229 files\n"
          ],
          "name": "stdout"
        }
      ]
    },
    {
      "cell_type": "code",
      "metadata": {
        "colab": {
          "base_uri": "https://localhost:8080/"
        },
        "id": "H-Xav_SaIoMG",
        "outputId": "72692ca5-32af-438a-a97e-3881c40eabbf"
      },
      "source": [
        "!tree -d"
      ],
      "execution_count": 44,
      "outputs": [
        {
          "output_type": "stream",
          "text": [
            ".\n",
            "├── data\n",
            "│   ├── cat\n",
            "│   └── dog\n",
            "└── dogs-cats\n",
            "\n",
            "4 directories\n"
          ],
          "name": "stdout"
        }
      ]
    },
    {
      "cell_type": "code",
      "metadata": {
        "id": "-r-WO9uJIy17"
      },
      "source": [
        "!cp dogs-cats/cat* data/cat/\n",
        "!cp dogs-cats/dog* data/dog/"
      ],
      "execution_count": 45,
      "outputs": []
    },
    {
      "cell_type": "code",
      "metadata": {
        "colab": {
          "base_uri": "https://localhost:8080/"
        },
        "id": "mqf8Dcz0KDnV",
        "outputId": "f8f2a05c-e012-45d3-999b-d699cb35da3b"
      },
      "source": [
        "!ls -al data/cat/*jpg | wc\n",
        "!ls -al data/dog/*jpg | wc"
      ],
      "execution_count": 52,
      "outputs": [
        {
          "output_type": "stream",
          "text": [
            "    111     999    7092\n",
            "    111     999    7092\n"
          ],
          "name": "stdout"
        }
      ]
    },
    {
      "cell_type": "markdown",
      "metadata": {
        "id": "dRj9QZ4bLM31"
      },
      "source": [
        "```\n",
        "data/cat --> data/cats\n",
        "data/dog --> data/dogs\n",
        "```"
      ]
    },
    {
      "cell_type": "code",
      "metadata": {
        "colab": {
          "base_uri": "https://localhost:8080/"
        },
        "id": "fYkJWc-JKliC",
        "outputId": "6497ee66-4245-4c0e-fd1f-67d5f103c382"
      },
      "source": [
        "!mv data/cat data/cats\n",
        "!mv data/dog data/dogs\n",
        "!tree data -d"
      ],
      "execution_count": 53,
      "outputs": [
        {
          "output_type": "stream",
          "text": [
            "data\n",
            "├── cats\n",
            "└── dogs\n",
            "\n",
            "2 directories\n"
          ],
          "name": "stdout"
        }
      ]
    },
    {
      "cell_type": "code",
      "metadata": {
        "colab": {
          "base_uri": "https://localhost:8080/"
        },
        "id": "TqxtxoMSLZix",
        "outputId": "7b773afc-6104-4d74-dab2-ae06a9200da8"
      },
      "source": [
        "!pwd"
      ],
      "execution_count": 54,
      "outputs": [
        {
          "output_type": "stream",
          "text": [
            "/content/sample_data\n"
          ],
          "name": "stdout"
        }
      ]
    },
    {
      "cell_type": "code",
      "metadata": {
        "id": "A6Cpzi8dLrFp"
      },
      "source": [
        "!mkdir -p t1/t2/t3/t4/t5"
      ],
      "execution_count": 55,
      "outputs": []
    },
    {
      "cell_type": "code",
      "metadata": {
        "colab": {
          "base_uri": "https://localhost:8080/"
        },
        "id": "MpYt74CaL7Wh",
        "outputId": "bd3ce598-e6c0-40b6-f7db-f25d75acaa13"
      },
      "source": [
        "!tree -d"
      ],
      "execution_count": 56,
      "outputs": [
        {
          "output_type": "stream",
          "text": [
            ".\n",
            "├── data\n",
            "│   ├── cats\n",
            "│   └── dogs\n",
            "├── dogs-cats\n",
            "└── t1\n",
            "    └── t2\n",
            "        └── t3\n",
            "            └── t4\n",
            "                └── t5\n",
            "\n",
            "9 directories\n"
          ],
          "name": "stdout"
        }
      ]
    },
    {
      "cell_type": "code",
      "metadata": {
        "colab": {
          "base_uri": "https://localhost:8080/"
        },
        "id": "M1qB_11cL84u",
        "outputId": "c90fad81-8a90-433c-ac68-79854831d97c"
      },
      "source": [
        "%cd t1/t2/t3/t4/t5"
      ],
      "execution_count": 57,
      "outputs": [
        {
          "output_type": "stream",
          "text": [
            "/content/sample_data/t1/t2/t3/t4/t5\n"
          ],
          "name": "stdout"
        }
      ]
    },
    {
      "cell_type": "code",
      "metadata": {
        "colab": {
          "base_uri": "https://localhost:8080/"
        },
        "id": "8KUPDl7_L_6B",
        "outputId": "a8e14ed7-3f19-4b83-fb39-038ccee4c06d"
      },
      "source": [
        "!pwd"
      ],
      "execution_count": 58,
      "outputs": [
        {
          "output_type": "stream",
          "text": [
            "/content/sample_data/t1/t2/t3/t4/t5\n"
          ],
          "name": "stdout"
        }
      ]
    },
    {
      "cell_type": "code",
      "metadata": {
        "colab": {
          "base_uri": "https://localhost:8080/"
        },
        "id": "wxyoX_FlMCUx",
        "outputId": "7251b965-2b99-416b-f83f-897eac2f9da1"
      },
      "source": [
        "%cd /content/sample_data/t1/t2/t3/t4"
      ],
      "execution_count": 59,
      "outputs": [
        {
          "output_type": "stream",
          "text": [
            "/content/sample_data/t1/t2/t3/t4\n"
          ],
          "name": "stdout"
        }
      ]
    },
    {
      "cell_type": "code",
      "metadata": {
        "colab": {
          "base_uri": "https://localhost:8080/"
        },
        "id": "_akl1MUXMFMH",
        "outputId": "2641087d-52f9-4522-85bd-8cc7201a9d51"
      },
      "source": [
        "%cd ..\n"
      ],
      "execution_count": 60,
      "outputs": [
        {
          "output_type": "stream",
          "text": [
            "/content/sample_data/t1/t2/t3\n"
          ],
          "name": "stdout"
        }
      ]
    },
    {
      "cell_type": "code",
      "metadata": {
        "colab": {
          "base_uri": "https://localhost:8080/"
        },
        "id": "U_E7i0RkMN9t",
        "outputId": "8ce110b7-f213-4c23-ac18-efe0ee442ae9"
      },
      "source": [
        "%cd .."
      ],
      "execution_count": 61,
      "outputs": [
        {
          "output_type": "stream",
          "text": [
            "/content/sample_data/t1/t2\n"
          ],
          "name": "stdout"
        }
      ]
    },
    {
      "cell_type": "code",
      "metadata": {
        "colab": {
          "base_uri": "https://localhost:8080/"
        },
        "id": "Bo2X41QNMPqg",
        "outputId": "3a7f6345-9f82-4137-d24d-30bee9d39522"
      },
      "source": [
        "%cd .."
      ],
      "execution_count": 62,
      "outputs": [
        {
          "output_type": "stream",
          "text": [
            "/content/sample_data/t1\n"
          ],
          "name": "stdout"
        }
      ]
    },
    {
      "cell_type": "code",
      "metadata": {
        "colab": {
          "base_uri": "https://localhost:8080/"
        },
        "id": "qWJfLP8WMSKI",
        "outputId": "b692d440-d9a6-4d04-f33b-4013829fe0dd"
      },
      "source": [
        "%cd t2"
      ],
      "execution_count": 63,
      "outputs": [
        {
          "output_type": "stream",
          "text": [
            "/content/sample_data/t1/t2\n"
          ],
          "name": "stdout"
        }
      ]
    },
    {
      "cell_type": "code",
      "metadata": {
        "id": "TMUSMYYqMU17"
      },
      "source": [
        ""
      ],
      "execution_count": null,
      "outputs": []
    }
  ]
}