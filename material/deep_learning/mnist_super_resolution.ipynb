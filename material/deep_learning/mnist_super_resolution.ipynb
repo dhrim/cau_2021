{
  "nbformat": 4,
  "nbformat_minor": 0,
  "metadata": {
    "colab": {
      "name": "mnist_super_resolution.ipynb",
      "provenance": []
    },
    "kernelspec": {
      "name": "python3",
      "display_name": "Python 3"
    },
    "accelerator": "GPU"
  },
  "cells": [
    {
      "cell_type": "markdown",
      "metadata": {
        "id": "jLKCaOxfGQg3"
      },
      "source": [
        "modified from https://blog.naver.com/ckdgus1433/221443838135"
      ]
    },
    {
      "cell_type": "code",
      "metadata": {
        "id": "PhlLzK2qzOQU"
      },
      "source": [
        "import matplotlib.pyplot as plt\n",
        "import numpy as np\n",
        "from tensorflow.keras.datasets import mnist\n",
        "from tensorflow.keras.layers import Dense\n",
        "from tensorflow.keras.models import Sequential"
      ],
      "execution_count": 1,
      "outputs": []
    },
    {
      "cell_type": "code",
      "metadata": {
        "id": "HHW1dtOvzOTu",
        "colab": {
          "base_uri": "https://localhost:8080/"
        },
        "outputId": "fe816bd7-5509-49d7-c996-51c720eed93e"
      },
      "source": [
        "# MNIST 로딩 (라벨은 필요없기 때문에 버림)\n",
        "(x_train, _), (x_test, _) = mnist.load_data()"
      ],
      "execution_count": 2,
      "outputs": [
        {
          "output_type": "stream",
          "text": [
            "Downloading data from https://storage.googleapis.com/tensorflow/tf-keras-datasets/mnist.npz\n",
            "11493376/11490434 [==============================] - 0s 0us/step\n",
            "11501568/11490434 [==============================] - 0s 0us/step\n"
          ],
          "name": "stdout"
        }
      ]
    },
    {
      "cell_type": "code",
      "metadata": {
        "id": "E5B1_T2yzONm"
      },
      "source": [
        "# 데이터 정규화 및 Reshape\n",
        "x_train = x_train.astype('float32') / 255.\n",
        "x_test = x_test.astype('float32') / 255."
      ],
      "execution_count": 3,
      "outputs": []
    },
    {
      "cell_type": "code",
      "metadata": {
        "id": "9I4G_rT-zecq",
        "colab": {
          "base_uri": "https://localhost:8080/"
        },
        "outputId": "1351319a-0991-451e-8188-a98cd5b8f7ea"
      },
      "source": [
        "def shrink(data, rows, cols):\n",
        "    return data.reshape(data.shape[0], rows, int(data.shape[1]/rows), cols, int(data.shape[2]/cols)).sum(axis=2).sum(axis=3)\n",
        "\n",
        "reduced_x_train = shrink(x_train, 14, 14)\n",
        "reduced_x_test = shrink(x_test, 14, 14)\n",
        "print(reduced_x_train.shape)\n",
        "print(reduced_x_test.shape)\n"
      ],
      "execution_count": 4,
      "outputs": [
        {
          "output_type": "stream",
          "text": [
            "(60000, 14, 14)\n",
            "(10000, 14, 14)\n"
          ],
          "name": "stdout"
        }
      ]
    },
    {
      "cell_type": "code",
      "metadata": {
        "id": "5jFitrsf13K3",
        "colab": {
          "base_uri": "https://localhost:8080/",
          "height": 241
        },
        "outputId": "8d370583-2267-46f2-89f9-14cd6f4f8f9d"
      },
      "source": [
        "n = 10\n",
        "\n",
        "plt.figure(figsize=(20, 2))\n",
        "for i in range(1,n):\n",
        "    ax = plt.subplot(1, n, i)\n",
        "    plt.imshow(x_train[i])\n",
        "    plt.gray()\n",
        "    ax.get_xaxis().set_visible(False)\n",
        "    ax.get_yaxis().set_visible(False)\n",
        "plt.show()\n",
        "\n",
        "# 해상도 낮아진 이미지 확인\n",
        "plt.figure(figsize=(20, 2))\n",
        "for i in range(1,n):\n",
        "    ax = plt.subplot(1, n, i)\n",
        "    plt.imshow(reduced_x_train[i])\n",
        "    plt.gray()\n",
        "    ax.get_xaxis().set_visible(False)\n",
        "    ax.get_yaxis().set_visible(False)\n",
        "plt.show()"
      ],
      "execution_count": 5,
      "outputs": [
        {
          "output_type": "display_data",
          "data": {
            "image/png": "[encoded data removed]",
            "text/plain": [
              "<Figure size 1440x144 with 9 Axes>"
            ]
          },
          "metadata": {
            "needs_background": "light"
          }
        },
        {
          "output_type": "display_data",
          "data": {
            "image/png": "[encoded data removed]",
            "text/plain": [
              "<Figure size 1440x144 with 9 Axes>"
            ]
          },
          "metadata": {
            "needs_background": "light"
          }
        }
      ]
    },
    {
      "cell_type": "code",
      "metadata": {
        "id": "QtW_31_Q2IG6"
      },
      "source": [
        "reduced_x_train = reduced_x_train.reshape(reduced_x_train.shape[0], 14*14)\n",
        "reduced_x_test = reduced_x_test.reshape(reduced_x_test.shape[0], 14*14)\n",
        "x_train = x_train.reshape(x_train.shape[0], 28*28)\n",
        "x_test = x_test.reshape(x_test.shape[0], 28*28)"
      ],
      "execution_count": 6,
      "outputs": []
    },
    {
      "cell_type": "code",
      "metadata": {
        "id": "gUTop4Mg2z0T",
        "colab": {
          "base_uri": "https://localhost:8080/"
        },
        "outputId": "d783d8cf-db72-499d-eead-bbf7fdc28d2f"
      },
      "source": [
        "print(reduced_x_train.shape)\n",
        "print(x_train.shape)\n",
        "print(reduced_x_test.shape)\n",
        "print(x_test.shape)"
      ],
      "execution_count": 7,
      "outputs": [
        {
          "output_type": "stream",
          "text": [
            "(60000, 196)\n",
            "(60000, 784)\n",
            "(10000, 196)\n",
            "(10000, 784)\n"
          ],
          "name": "stdout"
        }
      ]
    },
    {
      "cell_type": "code",
      "metadata": {
        "id": "Xqt71jtz2fjo",
        "colab": {
          "base_uri": "https://localhost:8080/"
        },
        "outputId": "20b74839-0c5e-47f3-8006-27a3c7129c5f"
      },
      "source": [
        "# 모델 정의\n",
        "model = Sequential()\n",
        "\n",
        "model.add(Dense(128, activation='relu', input_dim=14*14))\n",
        "model.add(Dense(64, activation='relu'))\n",
        "model.add(Dense(32, activation='relu'))\n",
        "model.add(Dense(64, activation='relu'))\n",
        "model.add(Dense(128, activation='relu'))\n",
        "model.add(Dense(784, activation='sigmoid'))\n",
        "\n",
        "model.compile(optimizer='adam', loss='mse')\n",
        "\n",
        "# 모델 학습\n",
        "model.fit(reduced_x_train, x_train, epochs=50, batch_size=256, validation_split=0.1)"
      ],
      "execution_count": 10,
      "outputs": [
        {
          "output_type": "stream",
          "text": [
            "Epoch 1/50\n",
            "211/211 [==============================] - 1s 4ms/step - loss: 0.0640 - val_loss: 0.0370\n",
            "Epoch 2/50\n",
            "211/211 [==============================] - 1s 3ms/step - loss: 0.0322 - val_loss: 0.0283\n",
            "Epoch 3/50\n",
            "211/211 [==============================] - 1s 3ms/step - loss: 0.0258 - val_loss: 0.0231\n",
            "Epoch 4/50\n",
            "211/211 [==============================] - 1s 3ms/step - loss: 0.0214 - val_loss: 0.0196\n",
            "Epoch 5/50\n",
            "211/211 [==============================] - 1s 4ms/step - loss: 0.0189 - val_loss: 0.0178\n",
            "Epoch 6/50\n",
            "211/211 [==============================] - 1s 3ms/step - loss: 0.0172 - val_loss: 0.0163\n",
            "Epoch 7/50\n",
            "211/211 [==============================] - 1s 3ms/step - loss: 0.0161 - val_loss: 0.0155\n",
            "Epoch 8/50\n",
            "211/211 [==============================] - 1s 3ms/step - loss: 0.0152 - val_loss: 0.0145\n",
            "Epoch 9/50\n",
            "211/211 [==============================] - 1s 3ms/step - loss: 0.0144 - val_loss: 0.0140\n",
            "Epoch 10/50\n",
            "211/211 [==============================] - 1s 3ms/step - loss: 0.0139 - val_loss: 0.0135\n",
            "Epoch 11/50\n",
            "211/211 [==============================] - 1s 3ms/step - loss: 0.0134 - val_loss: 0.0132\n",
            "Epoch 12/50\n",
            "211/211 [==============================] - 1s 3ms/step - loss: 0.0130 - val_loss: 0.0128\n",
            "Epoch 13/50\n",
            "211/211 [==============================] - 1s 3ms/step - loss: 0.0127 - val_loss: 0.0124\n",
            "Epoch 14/50\n",
            "211/211 [==============================] - 1s 3ms/step - loss: 0.0123 - val_loss: 0.0121\n",
            "Epoch 15/50\n",
            "211/211 [==============================] - 1s 3ms/step - loss: 0.0120 - val_loss: 0.0118\n",
            "Epoch 16/50\n",
            "211/211 [==============================] - 1s 3ms/step - loss: 0.0117 - val_loss: 0.0116\n",
            "Epoch 17/50\n",
            "211/211 [==============================] - 1s 3ms/step - loss: 0.0114 - val_loss: 0.0114\n",
            "Epoch 18/50\n",
            "211/211 [==============================] - 1s 3ms/step - loss: 0.0112 - val_loss: 0.0112\n",
            "Epoch 19/50\n",
            "211/211 [==============================] - 1s 3ms/step - loss: 0.0110 - val_loss: 0.0111\n",
            "Epoch 20/50\n",
            "211/211 [==============================] - 1s 3ms/step - loss: 0.0109 - val_loss: 0.0110\n",
            "Epoch 21/50\n",
            "211/211 [==============================] - 1s 3ms/step - loss: 0.0107 - val_loss: 0.0108\n",
            "Epoch 22/50\n",
            "211/211 [==============================] - 1s 4ms/step - loss: 0.0106 - val_loss: 0.0107\n",
            "Epoch 23/50\n",
            "211/211 [==============================] - 1s 3ms/step - loss: 0.0105 - val_loss: 0.0105\n",
            "Epoch 24/50\n",
            "211/211 [==============================] - 1s 3ms/step - loss: 0.0103 - val_loss: 0.0104\n",
            "Epoch 25/50\n",
            "211/211 [==============================] - 1s 3ms/step - loss: 0.0102 - val_loss: 0.0102\n",
            "Epoch 26/50\n",
            "211/211 [==============================] - 1s 3ms/step - loss: 0.0101 - val_loss: 0.0102\n",
            "Epoch 27/50\n",
            "211/211 [==============================] - 1s 3ms/step - loss: 0.0100 - val_loss: 0.0100\n",
            "Epoch 28/50\n",
            "211/211 [==============================] - 1s 3ms/step - loss: 0.0099 - val_loss: 0.0100\n",
            "Epoch 29/50\n",
            "211/211 [==============================] - 1s 3ms/step - loss: 0.0098 - val_loss: 0.0099\n",
            "Epoch 30/50\n",
            "211/211 [==============================] - 1s 3ms/step - loss: 0.0097 - val_loss: 0.0098\n",
            "Epoch 31/50\n",
            "211/211 [==============================] - 1s 3ms/step - loss: 0.0096 - val_loss: 0.0097\n",
            "Epoch 32/50\n",
            "211/211 [==============================] - 1s 3ms/step - loss: 0.0096 - val_loss: 0.0096\n",
            "Epoch 33/50\n",
            "211/211 [==============================] - 1s 3ms/step - loss: 0.0095 - val_loss: 0.0095\n",
            "Epoch 34/50\n",
            "211/211 [==============================] - 1s 3ms/step - loss: 0.0094 - val_loss: 0.0096\n",
            "Epoch 35/50\n",
            "211/211 [==============================] - 1s 3ms/step - loss: 0.0093 - val_loss: 0.0094\n",
            "Epoch 36/50\n",
            "211/211 [==============================] - 1s 3ms/step - loss: 0.0092 - val_loss: 0.0093\n",
            "Epoch 37/50\n",
            "211/211 [==============================] - 1s 3ms/step - loss: 0.0091 - val_loss: 0.0091\n",
            "Epoch 38/50\n",
            "211/211 [==============================] - 1s 3ms/step - loss: 0.0090 - val_loss: 0.0092\n",
            "Epoch 39/50\n",
            "211/211 [==============================] - 1s 3ms/step - loss: 0.0089 - val_loss: 0.0090\n",
            "Epoch 40/50\n",
            "211/211 [==============================] - 1s 3ms/step - loss: 0.0089 - val_loss: 0.0090\n",
            "Epoch 41/50\n",
            "211/211 [==============================] - 1s 3ms/step - loss: 0.0088 - val_loss: 0.0090\n",
            "Epoch 42/50\n",
            "211/211 [==============================] - 1s 3ms/step - loss: 0.0088 - val_loss: 0.0088\n",
            "Epoch 43/50\n",
            "211/211 [==============================] - 1s 3ms/step - loss: 0.0087 - val_loss: 0.0088\n",
            "Epoch 44/50\n",
            "211/211 [==============================] - 1s 3ms/step - loss: 0.0087 - val_loss: 0.0088\n",
            "Epoch 45/50\n",
            "211/211 [==============================] - 1s 3ms/step - loss: 0.0086 - val_loss: 0.0087\n",
            "Epoch 46/50\n",
            "211/211 [==============================] - 1s 3ms/step - loss: 0.0086 - val_loss: 0.0087\n",
            "Epoch 47/50\n",
            "211/211 [==============================] - 1s 3ms/step - loss: 0.0085 - val_loss: 0.0087\n",
            "Epoch 48/50\n",
            "211/211 [==============================] - 1s 3ms/step - loss: 0.0085 - val_loss: 0.0087\n",
            "Epoch 49/50\n",
            "211/211 [==============================] - 1s 3ms/step - loss: 0.0085 - val_loss: 0.0087\n",
            "Epoch 50/50\n",
            "211/211 [==============================] - 1s 3ms/step - loss: 0.0084 - val_loss: 0.0085\n"
          ],
          "name": "stdout"
        },
        {
          "output_type": "execute_result",
          "data": {
            "text/plain": [
              "<keras.callbacks.History at 0x7f7ebc736190>"
            ]
          },
          "metadata": {},
          "execution_count": 10
        }
      ]
    },
    {
      "cell_type": "code",
      "metadata": {
        "id": "2y4hQ-VfFxF4",
        "colab": {
          "base_uri": "https://localhost:8080/",
          "height": 359
        },
        "outputId": "0c0371e0-70bc-4738-f834-7e57b0a366de"
      },
      "source": [
        "# 결과 확인\n",
        "super_resolutioned = model.predict(reduced_x_test)\n",
        "\n",
        "n = 10\n",
        "plt.figure(figsize=(20, 6))\n",
        "for i in range(1, n):\n",
        "    # display original\n",
        "    ax = plt.subplot(3, n, i)\n",
        "    plt.imshow(x_test[i].reshape(28,28))\n",
        "    plt.gray()\n",
        "    ax.get_xaxis().set_visible(False)\n",
        "    ax.get_yaxis().set_visible(False)\n",
        "\n",
        "    # display reduced\n",
        "    ax = plt.subplot(3, n, i + n)\n",
        "    plt.imshow(reduced_x_test[i].reshape(14,14))\n",
        "    plt.gray()\n",
        "    ax.get_xaxis().set_visible(False)\n",
        "    ax.get_yaxis().set_visible(False)\n",
        "\n",
        "    # display super resolution\n",
        "    ax = plt.subplot(3, n, i + 2*n)\n",
        "    plt.imshow(super_resolutioned[i].reshape(28,28))\n",
        "    plt.gray()\n",
        "    ax.get_xaxis().set_visible(False)\n",
        "    ax.get_yaxis().set_visible(False)\n",
        "\n",
        "plt.show()"
      ],
      "execution_count": 9,
      "outputs": [
        {
          "output_type": "display_data",
          "data": {
            "image/png": "[encoded data removed]",
            "text/plain": [
              "<Figure size 1440x432 with 27 Axes>"
            ]
          },
          "metadata": {
            "needs_background": "light"
          }
        }
      ]
    },
    {
      "cell_type": "code",
      "metadata": {
        "id": "fTqVK4F6F1S2"
      },
      "source": [
        ""
      ],
      "execution_count": 9,
      "outputs": []
    }
  ]
}