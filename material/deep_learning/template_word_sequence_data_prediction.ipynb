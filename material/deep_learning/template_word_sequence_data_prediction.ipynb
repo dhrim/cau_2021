{
  "nbformat": 4,
  "nbformat_minor": 0,
  "metadata": {
    "interpreter": {
      "hash": "c33212796a18ce172644b359e00d0f030c7bb01214570476ad60cabee251e7cd"
    },
    "kernelspec": {
      "display_name": "Python 3.8.12 64-bit ('py38_tf26': conda)",
      "language": "python",
      "name": "python3"
    },
    "language_info": {
      "codemirror_mode": {
        "name": "ipython",
        "version": 3
      },
      "file_extension": ".py",
      "mimetype": "text/x-python",
      "name": "python",
      "nbconvert_exporter": "python",
      "pygments_lexer": "ipython3",
      "version": "3.8.12"
    },
    "orig_nbformat": 4,
    "colab": {
      "name": "template_word_sequence_data_prediction.ipynb",
      "provenance": [],
      "collapsed_sections": []
    },
    "accelerator": "GPU"
  },
  "cells": [
    {
      "cell_type": "markdown",
      "metadata": {
        "id": "h2T83cSMqzM5"
      },
      "source": [
        "# 텍스트 데이터 예측 Template\n",
        "\n",
        "단어열 중의 단어를 예측.\n",
        "\n",
        "```\n",
        "... there was nothing else ( ??? ) do , so alice soon began ...\n",
        "```\n",
        "\n"
      ]
    },
    {
      "cell_type": "markdown",
      "metadata": {
        "id": "V5khXVLjOp7U"
      },
      "source": [
        "# 데이터\n",
        "\n",
        "데이터 파일을 읽는다.\n",
        "\n",
        "```\n",
        "Alice's Adventures in Wonderland\n",
        "\n",
        "                ALICE'S ADVENTURES IN WONDERLAND\n",
        "\n",
        "                          Lewis Carroll\n",
        "\n",
        "               THE MILLENNIUM FULCRUM EDITION 3.0\n",
        "\n",
        "```\n",
        "\n",
        "<br>\n",
        "\n",
        "대문자를 소문자로 바꾸고 특수 문자 앞뒤에 스페이스를 둔다.\n",
        "\n",
        "```\n",
        "alice ' s adventures in wonderland\n",
        "\n",
        "                alice ' s adventures in wonderland\n",
        "```\n",
        "\n",
        "<br>\n",
        "\n",
        "스페이스를 기준으로 단어들을 분리한다. 특수문자도 단어로 취급한다.\n",
        "\n",
        "```\n",
        "['alice', \"'\", 's', 'adventures', 'in', 'wonderland', '', '', '', '', ...\n",
        "```\n",
        "\n",
        "<br>\n",
        "\n",
        "빈 문자열을 삭제한다.\n",
        "\n",
        "```\n",
        "['alice', \"'\", 's', 'adventures', 'in', 'wonderland', ... \n",
        "```\n",
        "\n",
        "\n",
        "\n",
        "<br>\n",
        "단어 별 사전을 만든다.\n",
        "\n",
        "```\n",
        "{ ',': 0, \n",
        "  \"'\": 1, \n",
        "  'the': 2, \n",
        "  '`': 3, \n",
        "  '.': 4, \n",
        "  'and': 5\n",
        "```\n",
        "\n",
        "<br>\n",
        "\n",
        "문장을 사전 인덱스로 변환.\n",
        "\n",
        "```\n",
        "['alice', \"'\", 's', 'adventures', 'in', 'wonderland', ...\n",
        "[16, 1, 25, 431, 17, 700 ...\n",
        "```\n",
        "\n",
        "<br>\n",
        "\n",
        "전체 21 단어 길이에서 한가운데 단어를 y로 하로 하고 나머지를 x로 샘플링 한다.\n",
        "\n",
        "\n",
        "```\n",
        "encoded = 51   2 52    18  154     345  6   53 0 40 17    200  94\n",
        "raw =     down . there was nothing else to  do , so alice soon began\n",
        "\n",
        "x =     [ 51   2 52    18  154     345  ( ) 53 0 40 17    200  94   ]\n",
        "          down . there was nothing else ( ) do , so alice soon began \n",
        "y =                                     6\n",
        "                                        to\n",
        "```\n",
        "\n"
      ]
    },
    {
      "cell_type": "markdown",
      "metadata": {
        "id": "S85WJqNmOp7W"
      },
      "source": [
        "## 다운로드"
      ]
    },
    {
      "cell_type": "code",
      "metadata": {
        "colab": {
          "base_uri": "https://localhost:8080/"
        },
        "id": "t4kreZWnm_am",
        "outputId": "992cf2df-9a3d-4192-ee87-832728dd257e"
      },
      "source": [
        "!wget https://raw.githubusercontent.com/dhrim/keras_howto_2021/master/data/alice_in_wonderland.txt"
      ],
      "execution_count": 56,
      "outputs": [
        {
          "output_type": "stream",
          "name": "stdout",
          "text": [
            "--2021-11-03 16:29:37--  https://raw.githubusercontent.com/dhrim/keras_howto_2021/master/data/alice_in_wonderland.txt\n",
            "Resolving raw.githubusercontent.com (raw.githubusercontent.com)... 185.199.108.133, 185.199.109.133, 185.199.110.133, ...\n",
            "Connecting to raw.githubusercontent.com (raw.githubusercontent.com)|185.199.108.133|:443... connected.\n",
            "HTTP request sent, awaiting response... 200 OK\n",
            "Length: 172864 (169K) [text/plain]\n",
            "Saving to: ‘alice_in_wonderland.txt’\n",
            "\n",
            "\ralice_in_wonderland   0%[                    ]       0  --.-KB/s               \ralice_in_wonderland 100%[===================>] 168.81K  --.-KB/s    in 0.02s   \n",
            "\n",
            "2021-11-03 16:29:37 (10.5 MB/s) - ‘alice_in_wonderland.txt’ saved [172864/172864]\n",
            "\n"
          ]
        }
      ]
    },
    {
      "cell_type": "markdown",
      "metadata": {
        "id": "5vJjJE-h8d8C"
      },
      "source": [
        "파일 상단 20줄을 보면"
      ]
    },
    {
      "cell_type": "code",
      "metadata": {
        "colab": {
          "base_uri": "https://localhost:8080/"
        },
        "id": "gGELINBgOp7Y",
        "outputId": "d8e61412-9379-47ac-ff24-8dd2c7a96978"
      },
      "source": [
        "!head -n 20 alice_in_wonderland.txt"
      ],
      "execution_count": 57,
      "outputs": [
        {
          "output_type": "stream",
          "name": "stdout",
          "text": [
            "Alice’s Adventures in Wonderland\r\n",
            "\r\n",
            "by Lewis Carroll\r\n",
            "\r\n",
            "CHAPTER I.\r\n",
            "Down the Rabbit-Hole\r\n",
            "\r\n",
            "\r\n",
            "Alice was beginning to get very tired of sitting by her sister on the\r\n",
            "bank, and of having nothing to do: once or twice she had peeped into\r\n",
            "the book her sister was reading, but it had no pictures or\r\n",
            "conversations in it, “and what is the use of a book,” thought Alice\r\n",
            "“without pictures or conversations?”\r\n",
            "\r\n",
            "So she was considering in her own mind (as well as she could, for the\r\n",
            "hot day made her feel very sleepy and stupid), whether the pleasure of\r\n",
            "making a daisy-chain would be worth the trouble of getting up and\r\n",
            "picking the daisies, when suddenly a White Rabbit with pink eyes ran\r\n",
            "close by her.\r\n",
            "\r\n"
          ]
        }
      ]
    },
    {
      "cell_type": "code",
      "metadata": {
        "colab": {
          "base_uri": "https://localhost:8080/"
        },
        "id": "5Zxy_4EhKcGk",
        "outputId": "f14efb35-acac-4600-cda0-4f34eb5d5645"
      },
      "source": [
        "!wc alice_in_wonderland.txt"
      ],
      "execution_count": 58,
      "outputs": [
        {
          "output_type": "stream",
          "name": "stdout",
          "text": [
            "  3710  29378 172864 alice_in_wonderland.txt\n"
          ]
        }
      ]
    },
    {
      "cell_type": "markdown",
      "metadata": {
        "id": "QwflwfYICBoI"
      },
      "source": [
        "## 파일 로딩\n",
        "\n",
        "텍스트 파일을 읽고"
      ]
    },
    {
      "cell_type": "code",
      "metadata": {
        "id": "BrRbrXi-Op7a"
      },
      "source": [
        "def load_raw_text_from_file(file_path):\n",
        "  with open(file_path, 'r', encoding='utf-8') as fp: raw_text = fp.read()\n",
        "  raw_text = raw_text.lower()\n",
        "  return raw_text\n"
      ],
      "execution_count": 123,
      "outputs": []
    },
    {
      "cell_type": "code",
      "metadata": {
        "colab": {
          "base_uri": "https://localhost:8080/"
        },
        "id": "DbzTkn9cCIKe",
        "outputId": "b1c77be3-ff0e-48dc-a158-643ae0f41350"
      },
      "source": [
        "import collections\n",
        "from collections import OrderedDict\n",
        "\n",
        "# 파일을 읽고\n",
        "raw_text = load_raw_text_from_file('alice_in_wonderland.txt')\n",
        "\n",
        "print(\"len(raw_text)=\", len(raw_text))\n",
        "\n",
        "print(raw_text[:100])\n"
      ],
      "execution_count": 124,
      "outputs": [
        {
          "output_type": "stream",
          "name": "stdout",
          "text": [
            "len(raw_text)= 162663\n",
            "alice’s adventures in wonderland\n",
            "\n",
            "by lewis carroll\n",
            "\n",
            "chapter i.\n",
            "down the rabbit-hole\n",
            "\n",
            "\n",
            "alice was begi\n"
          ]
        }
      ]
    },
    {
      "cell_type": "code",
      "metadata": {
        "id": "-B-FVSjOsYoY"
      },
      "source": [
        "VOCA_SIZE = 4000 # 어휘 사전의 크기\n",
        "\n",
        "UNKNOWN = \"UNKNOWN\" # 어휘 사전 외의 단어 처리를 위해"
      ],
      "execution_count": 125,
      "outputs": []
    },
    {
      "cell_type": "markdown",
      "metadata": {
        "id": "hjkLDSNaCSJ0"
      },
      "source": [
        "## 단어 별로 쪼개기\n",
        "\n",
        "스페이스 기준으로 단어들을 분리하기 전에 특수 기호 처리"
      ]
    },
    {
      "cell_type": "code",
      "metadata": {
        "id": "JBPKmQ87CIHw"
      },
      "source": [
        "raw_text = raw_text.replace(\"\\n\", \" \")\n",
        "raw_text = raw_text.replace(\"\\\"\", \" \\\" \")\n",
        "raw_text = raw_text.replace(\"“\", \" “ \")\n",
        "raw_text = raw_text.replace(\"’\", \" ’ \")\n",
        "raw_text = raw_text.replace(\"'\", \" ' \")\n",
        "raw_text = raw_text.replace(\"`\", \" ` \")\n",
        "raw_text = raw_text.replace(\"!\", \" ! \")\n",
        "raw_text = raw_text.replace(\"?\", \" ? \")\n",
        "raw_text = raw_text.replace(\".\", \" . \") \n",
        "raw_text = raw_text.replace(\",\", \" , \")\n",
        "raw_text = raw_text.replace(\":\", \" : \")\n",
        "raw_text = raw_text.replace(\"-\", \" - \")\n",
        "raw_text = raw_text.replace(\";\", \" ; \")\n",
        "raw_text = raw_text.replace(\"[\", \" [ \")\n",
        "raw_text = raw_text.replace(\"]\", \" ] \")\n",
        "raw_text = raw_text.replace(\"(\", \" ( \")\n",
        "raw_text = raw_text.replace(\")\", \" ) \")\n",
        "raw_text = raw_text.replace(\"_\", \" \")"
      ],
      "execution_count": 126,
      "outputs": []
    },
    {
      "cell_type": "code",
      "metadata": {
        "colab": {
          "base_uri": "https://localhost:8080/"
        },
        "id": "541Hd0ESCIE3",
        "outputId": "442d1a28-72d3-41a4-8641-ab38da9e10ae"
      },
      "source": [
        "# 스페이스를 기준으로 단어들로 분리\n",
        "raw_words = raw_text.split(' ')\n",
        "print(\"raw_words =\", raw_words[:10])\n",
        "# raw_words =  ['alice', '’', 's', 'adventures', 'in', 'wonderland', '', 'by', 'lewis', 'carroll' ...\n",
        "\n",
        "\n",
        "# 분리된 단어들에서 빈 문자열 제거\n",
        "raw_words = list(filter((\"\").__ne__, raw_words))   # 빈 문자열 \"\" 삭제\n",
        "\n",
        "\n",
        "# 정리된 단어들 길이\n",
        "print(\"len(raw_words) =\", len(raw_words))"
      ],
      "execution_count": 127,
      "outputs": [
        {
          "output_type": "stream",
          "name": "stdout",
          "text": [
            "raw_words = ['alice', '’', 's', 'adventures', 'in', 'wonderland', '', 'by', 'lewis', 'carroll']\n",
            "len(raw_words) = 38538\n"
          ]
        }
      ]
    },
    {
      "cell_type": "markdown",
      "metadata": {
        "id": "BQKxGfsCC5qQ"
      },
      "source": [
        "## 인코딩"
      ]
    },
    {
      "cell_type": "markdown",
      "metadata": {
        "id": "ALZyB117C887"
      },
      "source": [
        "### 사전 만들기"
      ]
    },
    {
      "cell_type": "code",
      "metadata": {
        "colab": {
          "base_uri": "https://localhost:8080/"
        },
        "id": "46W3RUcWsYgl",
        "outputId": "615a3e0c-27b7-4993-bd23-174a74d25450"
      },
      "source": [
        "# 빈도 순으로 정열\n",
        "counts = collections.Counter(raw_words)\n",
        "sorted_raw_words = sorted(raw_words, key=counts.get, reverse=True)\n",
        "print(\"sorted_raw_words =\", sorted_raw_words[:10])\n",
        "# sorted_raw_words = [',', ',', ',', ',', ',', ',', ',', ',', ',', ','\n",
        "\n",
        "\n",
        "# 단어 중복 삭제\n",
        "sorted_raw_words = list(OrderedDict.fromkeys(sorted_raw_words))\n",
        "print(\"len(sorted_raw_words) =\", len(sorted_raw_words))\n",
        "\n",
        "# voca 크기 이상의 단어는 버린다.\n",
        "sorted_raw_words = sorted_raw_words[:VOCA_SIZE]\n",
        "print(\"len(sorted_raw_words) =\", len(sorted_raw_words))\n",
        "sorted_raw_words.append(UNKNOWN)\n",
        "\n",
        "print(\"sorted_raw_words =\", sorted_raw_words[:20])\n",
        "# sorted_raw_words = [',', 'the', '.', '“', '”', 'and', ... ]\n",
        "\n",
        "word2index = { word:index for index,word in enumerate(sorted_raw_words)}\n",
        "index2word = { index:word for index,word in enumerate(sorted_raw_words)}\n",
        "print(\"word2index =\", word2index)\n",
        "# word2index = {',': 0, 'the': 1, '.': 2, '“': 3, '”': 4, 'and': 5, ... }\n"
      ],
      "execution_count": 128,
      "outputs": [
        {
          "output_type": "stream",
          "name": "stdout",
          "text": [
            "sorted_raw_words = [',', ',', ',', ',', ',', ',', ',', ',', ',', ',']\n",
            "len(sorted_raw_words) = 3235\n",
            "len(sorted_raw_words) = 3235\n",
            "sorted_raw_words = [',', 'the', '.', '“', '”', 'and', 'to', '’', 'a', 'of', 'it', 'she', 'i', 'you', 'said', '!', 'in', 'alice', 'was', 'that']\n",
            "word2index = {',': 0, 'the': 1, '.': 2, '“': 3, '”': 4, 'and': 5, 'to': 6, '’': 7, 'a': 8, 'of': 9, 'it': 10, 'she': 11, 'i': 12, 'you': 13, 'said': 14, '!': 15, 'in': 16, 'alice': 17, 'was': 18, 'that': 19, 'as': 20, 'her': 21, ':': 22, 'with': 23, 'at': 24, 't': 25, '-': 26, 's': 27, 'on': 28, '?': 29, 'all': 30, ';': 31, 'had': 32, 'this': 33, 'for': 34, 'not': 35, 'but': 36, 'be': 37, 'or': 38, 'they': 39, 'so': 40, 'very': 41, 'what': 42, 'little': 43, 'he': 44, 'is': 45, 'out': 46, 'if': 47, 'one': 48, 'up': 49, 'about': 50, 'down': 51, 'there': 52, 'do': 53, 'his': 54, 'no': 55, 'gutenberg': 56, 'then': 57, 'have': 58, 'like': 59, 'were': 60, 'project': 61, 'by': 62, 'would': 63, 'went': 64, 'herself': 65, 'them': 66, 'again': 67, 'know': 68, 'when': 69, 'could': 70, 'any': 71, 'queen': 72, 'thought': 73, 'are': 74, '(': 75, ')': 76, 'off': 77, 'can': 78, 'time': 79, 'your': 80, 'see': 81, 'how': 82, 'into': 83, 'me': 84, 'who': 85, '*': 86, 'king': 87, 'did': 88, 'an': 89, 'm': 90, 'well': 91, 'its': 92, 'don': 93, 'began': 94, 'my': 95, 'now': 96, 'turtle': 97, 'll': 98, 'tm': 99, 'way': 100, 'which': 101, 'hatter': 102, 'mock': 103, 'quite': 104, 'other': 105, 'gryphon': 106, 'must': 107, 'work': 108, 'much': 109, 'some': 110, 'their': 111, 'rabbit': 112, 'just': 113, 'from': 114, 'only': 115, 'think': 116, 'say': 117, 'go': 118, 'first': 119, 'thing': 120, 'more': 121, 'here': 122, 'head': 123, 'voice': 124, 'get': 125, 'such': 126, 'looked': 127, 'never': 128, 'got': 129, '1': 130, 'come': 131, 've': 132, 'after': 133, 'duchess': 134, 'we': 135, 'before': 136, 'round': 137, 'him': 138, 'over': 139, 'mouse': 140, 'came': 141, 'two': 142, 'tone': 143, 'dormouse': 144, 'great': 145, 'why': 146, 're': 147, 'back': 148, 'will': 149, 'oh': 150, 'been': 151, 'cat': 152, 'right': 153, 'nothing': 154, 'found': 155, 'without': 156, 'large': 157, 'long': 158, 'last': 159, 'march': 160, 'works': 161, 'once': 162, 'tell': 163, 'looking': 164, 'moment': 165, 'put': 166, 'hare': 167, 'use': 168, 'made': 169, 'white': 170, 'next': 171, 'things': 172, 'heard': 173, 'd': 174, 'dear': 175, 'look': 176, 'make': 177, 'should': 178, 'replied': 179, 'day': 180, 'eyes': 181, 'upon': 182, 'might': 183, 'door': 184, 'three': 185, 'caterpillar': 186, 'shall': 187, 'seemed': 188, 'going': 189, 'good': 190, 'away': 191, 'than': 192, 'poor': 193, 'may': 194, 'electronic': 195, 'too': 196, 'won': 197, 'course': 198, 'rather': 199, 'soon': 200, 'while': 201, 'same': 202, 'foundation': 203, 'took': 204, 'sure': 205, '—': 206, 'felt': 207, 'half': 208, 'added': 209, 'e': 210, 'getting': 211, 'another': 212, 'please': 213, 'wish': 214, 'ever': 215, 'set': 216, 'yet': 217, 'terms': 218, '\"': 219, 'take': 220, 'under': 221, 'anything': 222, 'let': 223, 'words': 224, 'hand': 225, 'however': 226, 'find': 227, 'minute': 228, 'till': 229, 'old': 230, 'jury': 231, 'even': 232, 'sort': 233, 'cried': 234, 'feet': 235, 'tried': 236, 'end': 237, 'curious': 238, 'being': 239, 'full': 240, 'copyright': 241, 'wonder': 242, 'house': 243, 'eat': 244, 'table': 245, 'something': 246, 'soup': 247, 'court': 248, 'agreement': 249, 'perhaps': 250, 'talking': 251, 'tea': 252, 'question': 253, 'side': 254, 'sat': 255, 'enough': 256, 'these': 257, 'asked': 258, 'where': 259, 'states': 260, 'ran': 261, 'through': 262, 'people': 263, 'am': 264, 'bit': 265, 'turned': 266, 'high': 267, 'indeed': 268, 'because': 269, 'hastily': 270, 'doesn': 271, 'spoke': 272, 'license': 273, 'hear': 274, 'near': 275, 'idea': 276, 'air': 277, 'saying': 278, 'low': 279, 'garden': 280, 'knew': 281, 'gave': 282, 'give': 283, 'used': 284, 'done': 285, 'called': 286, 'us': 287, 'both': 288, 'bill': 289, 'arm': 290, 'donations': 291, 'beginning': 292, 'itself': 293, 'ought': 294, 'seen': 295, 'saw': 296, 'many': 297, 'didn': 298, 'dinah': 299, 'remember': 300, 'certainly': 301, 'read': 302, 'face': 303, 'left': 304, 'anxiously': 305, 'speak': 306, 'change': 307, 'suppose': 308, 'talk': 309, 'better': 310, 'silence': 311, 'footman': 312, 'mad': 313, 'suddenly': 314, 'close': 315, 'wouldn': 316, 'still': 317, 'cats': 318, 'behind': 319, 'trying': 320, 'begin': 321, 'really': 322, 'size': 323, 'game': 324, 'grow': 325, 'life': 326, 'far': 327, 'kept': 328, 'nearly': 329, 'sea': 330, 'dodo': 331, 'whole': 332, 'room': 333, 'gone': 334, 'beautiful': 335, 'baby': 336, 'cook': 337, 'dance': 338, 'united': 339, 'trademark': 340, 'literary': 341, 'archive': 342, 'chapter': 343, 'among': 344, 'else': 345, 'afraid': 346, 'every': 347, 'small': 348, 'finished': 349, 'best': 350, 'hardly': 351, 'makes': 352, 'deal': 353, 'help': 354, 'queer': 355, 'everything': 356, 'try': 357, 'hands': 358, 'our': 359, 'always': 360, 'turning': 361, 'yes': 362, 'keep': 363, 'most': 364, 'pigeon': 365, 'majesty': 366, 'book': 367, 'whether': 368, 'hurried': 369, 'either': 370, 'though': 371, 'glad': 372, 'word': 373, 'ask': 374, 'name': 375, 'those': 376, 'hurry': 377, 'hold': 378, 'waited': 379, 'minutes': 380, 'tears': 381, 'child': 382, 'growing': 383, 'thinking': 384, 'party': 385, 'does': 386, 'wasn': 387, 'turn': 388, 'pig': 389, 'agree': 390, 'copy': 391, 'paragraph': 392, 'f': 393, 'sitting': 394, 'having': 395, 'own': 396, 'mind': 397, 'lessons': 398, 'heads': 399, 'sight': 400, 'walked': 401, 'glass': 402, 'opened': 403, 'few': 404, 'bottle': 405, 'children': 406, 'against': 407, 'pool': 408, 'foot': 409, 'yourself': 410, 'gloves': 411, 'fan': 412, 'different': 413, 'offended': 414, 'creatures': 415, 'explain': 416, 'rest': 417, 'trial': 418, 'mean': 419, 'mouth': 420, 'repeated': 421, 'remarked': 422, 'remark': 423, 'soldiers': 424, 'witness': 425, 'access': 426, 'refund': 427, '3': 428, 'sister': 429, 'opportunity': 430, 'written': 431, 'couldn': 432, 'answer': 433, 'matter': 434, 'hall': 435, 'key': 436, 'rate': 437, 'waiting': 438, 'leave': 439, 'box': 440, 'croquet': 441, 'want': 442, 'mine': 443, 'tail': 444, 'conversation': 445, 'birds': 446, 'continued': 447, 'believe': 448, 'has': 449, 'call': 450, 'law': 451, 'angrily': 452, 'shook': 453, 'reason': 454, 'together': 455, 'place': 456, 'shouted': 457, 'each': 458, 'timidly': 459, 'serpent': 460, 'puzzled': 461, 'tree': 462, 'writing': 463, 'interrupted': 464, 'knave': 465, 'join': 466, 'including': 467, 'laws': 468, 'feel': 469, 'making': 470, 'watch': 471, 'world': 472, 'slowly': 473, 'happen': 474, 'coming': 475, 'noticed': 476, 'top': 477, 'four': 478, 'seem': 479, 'new': 480, 'dry': 481, 'middle': 482, 'except': 483, 'bright': 484, 'marked': 485, 'fact': 486, 'followed': 487, 'person': 488, 'lying': 489, 'kind': 490, 'ready': 491, 'hard': 492, 'changed': 493, 'five': 494, 'live': 495, 'play': 496, 'learn': 497, 'number': 498, 'hadn': 499, 'sentence': 500, 'beg': 501, 'eagerly': 502, 'sit': 503, 'important': 504, 'notice': 505, 'meaning': 506, 'running': 507, 'everybody': 508, 'exactly': 509, '‘i': 510, 'story': 511, 'others': 512, 'nobody': 513, 'window': 514, 'least': 515, 'business': 516, 'appeared': 517, 'mushroom': 518, 'haven': 519, 'free': 520, 'pepper': 521, 'fish': 522, 'days': 523, 'asleep': 524, 'butter': 525, 'hearts': 526, 'gardeners': 527, 'whiting': 528, 'slates': 529, 'associated': 530, 'forth': 531, 'www': 532, 'fee': 533, 'information': 534, 'adventures': 535, 'tired': 536, 'hot': 537, 'pocket': 538, 'deep': 539, 'somebody': 540, 'fall': 541, 'listen': 542, 'manage': 543, 'begun': 544, 'dream': 545, 'wondering': 546, 'golden': 547, 'open': 548, 'larger': 549, 'happened': 550, 'neck': 551, 'drink': 552, '‘': 553, 'almost': 554, 'feeling': 555, 'generally': 556, 'eye': 557, 'surprised': 558, 'shoes': 559, 'myself': 560, 'nonsense': 561, 'distance': 562, 'hair': 563, 'goes': 564, 'repeat': 565, 'frightened': 566, 'chin': 567, 'understand': 568, 'william': 569, 'history': 570, 'subject': 571, 'fetch': 572, 'lory': 573, 'means': 574, 'stood': 575, 'grown': 576, 'wood': 577, 'trees': 578, 'puppy': 579, 'isn': 580, 'state': 581, 'draw': 582, 'silent': 583, 'ground': 584, 'nose': 585, 'cheshire': 586, 'pleased': 587, 'song': 588, 'using': 589, 'bread': 590, 'treacle': 591, 'hedgehog': 592, 'moral': 593, 'lobsters': 594, 'soo—oop': 595, 'tarts': 596, 'evidence': 597, 'ebook': 598, 'u': 599, 'distributing': 600, 'copies': 601, 'ebooks': 602, 'section': 603, 'provide': 604, \"'\": 605, 'stupid': 606, 'trouble': 607, 'late': 608, 'fell': 609, 'nice': 610, 'leaves': 611, 'jumped': 612, 'roof': 613, 'second': 614, 'inches': 615, 'forgotten': 616, 'ten': 617, 'english': 618, 'shan': 619, 'stop': 620, 'himself': 621, 'times': 622, 'seven': 623, 'grin': 624, 'general': 625, 'pardon': 626, 'trembling': 627, 'race': 628, 'politely': 629, 'melancholy': 630, 'liked': 631, 'chorus': 632, 'piece': 633, 'sir': 634, 'executed': 635, 'broken': 636, 'chimney': 637, 'write': 638, 'outside': 639, 'below': 640, 'loud': 641, 'sharp': 642, 'lizard': 643, 'guinea': 644, 'pigs': 645, 'arms': 646, 'father': 647, 'stand': 648, 'youth': 649, 'often': 650, 'sleep': 651, 'sneezing': 652, 'between': 653, 'told': 654, 'ear': 655, 'wow': 656, 'dreadfully': 657, 'sing': 658, 'twinkle': 659, 'exclaimed': 660, 'executioner': 661, 'school': 662, 'lobster': 663, 'part': 664, 'editions': 665, 'received': 666, 'distribute': 667, 'permission': 668, 'charge': 669, 'distribution': 670, 'comply': 671, 'paid': 672, 'tax': 673, 'sleepy': 674, 'across': 675, 'curiosity': 676, 'passed': 677, 'home': 678, 'aloud': 679, 'several': 680, 'walk': 681, 'asking': 682, 'night': 683, 'sometimes': 684, 'walking': 685, 'sadly': 686, 'along': 687, 'shut': 688, 'paper': 689, 'simple': 690, 'cut': 691, 'finger': 692, 'certain': 693, 'nervous': 694, 'altogether': 695, 'fancy': 696, 'remembered': 697, 'happens': 698, 'pair': 699, 'nine': 700, 'until': 701, 'kid': 702, 'dropped': 703, 'usual': 704, 'morning': 705, 'ah': 706, 'wrong': 707, 'sounded': 708, 'strange': 709, 'seems': 710, 'stay': 711, 'sudden': 712, 'alone': 713, 'cause': 714, 'water': 715, 'case': 716, 'swam': 717, 'nearer': 718, 'o': 719, 'speaking': 720, 'shrill': 721, 'angry': 722, 'crowded': 723, 'prizes': 724, 'dare': 725, 'confusion': 726, 'reply': 727, 'finish': 728, 'impatiently': 729, 'sighed': 730, 'temper': 731, 'young': 732, 'particular': 733, 'moved': 734, 'swim': 735, 'doing': 736, 'direction': 737, 'interesting': 738, 'become': 739, 'shouldn': 740, 'taking': 741, 'shriek': 742, 'drew': 743, 'sky': 744, 'instantly': 745, 'surprise': 746, 'height': 747, 'quietly': 748, 'hookah': 749, 'man': 750, 'eggs': 751, 'within': 752, 'meant': 753, 'waving': 754, 'clock': 755, 'rose': 756, 'faces': 757, 'procession': 758, 'rule': 759, 'pack': 760, 'knee': 761, 'whispered': 762, 'flamingo': 763, 'unless': 764, 'tis': 765, 'form': 766, 'cannot': 767, 'protected': 768, 'located': 769, 'compliance': 770, '4': 771, 'medium': 772, 'replacement': 773, 'volunteers': 774, 'limited': 775, 'wonderland': 776, 'hole': 777, 'twice': 778, 'reading': 779, 'pictures': 780, 'worth': 781, 'natural': 782, 'sides': 783, 'fear': 784, 'managed': 785, 'likely': 786, 'true': 787, 'fallen': 788, 'earth': 789, 'sound': 790, 'country': 791, 'girl': 792, 'hope': 793, 'catch': 794, 'bats': 795, 'passage': 796, 'ears': 797, 'tiny': 798, 'alas': 799, 'led': 800, 'shoulders': 801, 'rules': 802, 'taught': 803, 'deeply': 804, 'ventured': 805, 'further': 806, 'reach': 807, 'sharply': 808, 'severely': 809, 'care': 810, 'boots': 811, 'savage': 812, 'violently': 813, 'age': 814, 'mabel': 815, 'besides': 816, 'puzzling': 817, 'twelve': 818, 'capital': 819, 'shrinking': 820, 'escape': 821, 'digging': 822, 'fire': 823, 'paws': 824, 'says': 825, 'pale': 826, 'animals': 827, 'duck': 828, 'tale': 829, 'uncomfortable': 830, 'argument': 831, 'allow': 832, 'wanted': 833, 'frowning': 834, 'solemnly': 835, 'pointing': 836, 'confused': 837, 'thimble': 838, 'short': 839, 'bowed': 840, 'met': 841, 'judge': 842, 'breath': 843, 'easily': 844, 'tongue': 845, 'since': 846, 'vanished': 847, 'mary': 848, 'ann': 849, 'run': 850, 'chance': 851, 'ordered': 852, 'answered': 853, 'yer': 854, 'honour': 855, 'sounds': 856, 'hearing': 857, 'master': 858, 'fellow': 859, 'thank': 860, 'dead': 861, 'doubt': 862, 'lay': 863, 'crowd': 864, 'held': 865, 'plan': 866, 'difficulty': 867, 'stick': 868, 'grass': 869, 'perfectly': 870, 'none': 871, 'questions': 872, 'stuff': 873, 'decidedly': 874, 'thoughtfully': 875, 'green': 876, 'screamed': 877, 'indignantly': 878, 'taken': 879, 'lives': 880, 'otherwise': 881, 'dish': 882, 'kitchen': 883, 'jumping': 884, 'carried': 885, 'hours': 886, 'busily': 887, 'beat': 888, 'verse': 889, 'creature': 890, 'grunted': 891, 'also': 892, 'less': 893, 'explanation': 894, 'fast': 895, 'crumbs': 896, 'shoulder': 897, 'twinkling': 898, 'know—”': 899, 'sigh': 900, 'bottom': 901, 'begins': 902, 'consider': 903, 'arches': 904, 'players': 905, 'removed': 906, 'keeping': 907, 'quadrille': 908, 'sobs': 909, 'porpoise': 910, 'beau—ootiful': 911, 'jurors': 912, 'officers': 913, 'suppressed': 914, 'jurymen': 915, 'verses': 916, 'creating': 917, 'copying': 918, 'following': 919, 'mission': 920, 'phrase': 921, '8': 922, 'c': 923, 'collection': 924, 'individual': 925, 'displaying': 926, 'support': 927, 'freely': 928, 'format': 929, 'status': 930, 'distributed': 931, 'anyone': 932, 'org': 933, 'posted': 934, 'holder': 935, 'fees': 936, 'providing': 937, 'requirements': 938, 'website': 939, 'provided': 940, 'owner': 941, 'damages': 942, 'peeped': 943, 'considering': 944, 'nor': 945, 'dark': 946, 'filled': 947, 'past': 948, 'stairs': 949, 'miles': 950, 'somewhere': 951, 'think—”': 952, 'knowledge': 953, 'grand': 954, 'funny': 955, 'listening': 956, '—but': 957, 'ma': 958, 'miss': 959, 'mice': 960, 'bat': 961, 'hurt': 962, 'lost': 963, 'corner': 964, 'whiskers': 965, 'longer': 966, 'hanging': 967, 'delight': 968, 'telescope': 969, 'impossible': 970, 'hoping': 971, 'printed': 972, 'poison': 973, 'red': 974, 'knife': 975, 'later': 976, 'finding': 977, 'candle': 978, 'decided': 979, 'possibly': 980, 'legs': 981, 'bring': 982, 'fond': 983, 'cake': 984, 'smaller': 985, 'holding': 986, 'remained': 987, 'expecting': 988, 'dull': 989, 'opening': 990, 'dears': 991, 'sending': 992, 'directions': 993, 'love': 994, 'cry': 995, 'pattering': 996, 'muttering': 997, 'timid': 998, 'yesterday': 999, 'sorts': 1000, 'twenty': 1001, 'doth': 1002, 'crossed': 1003, 'hoarse': 1004, 'spread': 1005, 'gently': 1006, 'putting': 1007, 'guess': 1008, 'worse': 1009, 'slipped': 1010, 'salt': 1011, 'french': 1012, 'notion': 1013, 'lesson': 1014, 'show': 1015, 'washing': 1016, 'dogs': 1017, 'dog': 1018, 'throw': 1019, 'passion': 1020, 'shore': 1021, 'eaglet': 1022, 'caucus': 1023, 'fur': 1024, 'cross': 1025, 'sulky': 1026, 'frog': 1027, 'meet': 1028, 'crown': 1029, 'move': 1030, 'immediate': 1031, 'easy': 1032, 'pressed': 1033, 'handed': 1034, 'gravely': 1035, 'speech': 1036, 'cheered': 1037, 'grave': 1038, 'solemn': 1039, 'noise': 1040, 'choked': 1041, 'whisper': 1042, 'sad': 1043, 'sighing': 1044, 'fury': 1045, 'attending': 1046, 'pleaded': 1047, 'joined': 1048, 'pity': 1049, 'crab': 1050, 'venture': 1051, 'carefully': 1052, 'remarking': 1053, 'suit': 1054, 'mentioned': 1055, 'guessed': 1056, 'hunting': 1057, 'mistake': 1058, 'plate': 1059, 'knocking': 1060, 'real': 1061, 'directly': 1062, 'floor': 1063, 'effect': 1064, 'elbow': 1065, 'whatever': 1066, 'stopped': 1067, 'forgetting': 1068, 'crash': 1069, 'pat': 1070, 'em': 1071, 'kick': 1072, 'above': 1073, 'sense': 1074, 'moving': 1075, 'cakes': 1076, 'paw': 1077, 'hungry': 1078, 'picked': 1079, 'edge': 1080, 'immediately': 1081, 'folded': 1082, 'confusing': 1083, 'brought': 1084, 'remarks': 1085, 'pray': 1086, 'follow': 1087, 'shaking': 1088, 'succeeded': 1089, 'serpents': 1090, 'girls': 1091, 'yours': 1092, 'settled': 1093, 'pieces': 1094, 'nibbling': 1095, 'bringing': 1096, 'livery': 1097, 'considered': 1098, '—and': 1099, 'loudly': 1100, 'letter': 1101, 'order': 1102, 'staring': 1103, 'constant': 1104, 'howling': 1105, 'instance': 1106, 'repeating': 1107, 'nursing': 1108, 'courage': 1109, 'grinned': 1110, 'already': 1111, 'growl': 1112, 'faster': 1113, 'advantage': 1114, 'takes': 1115, 'tossing': 1116, 'caught': 1117, 'shaped': 1118, 'proper': 1119, 'sobbing': 1120, 'visit': 1121, 'appear': 1122, 'instead': 1123, 'civil': 1124, 'fun': 1125, 'breathe': 1126, 'cautiously': 1127, 'music': 1128, 'fly': 1129, 'lady': 1130, 'lived': 1131, 'upset': 1132, 'roses': 1133, 'beheaded': 1134, 'watching': 1135, 'checked': 1136, 'themselves': 1137, 'eager': 1138, 'guests': 1139, 'cards': 1140, 'needn': 1141, 'unfortunate': 1142, 'hush': 1143, 'said—”': 1144, 'hedgehogs': 1145, 'tucked': 1146, 'turns': 1147, 'alive': 1148, 'friend': 1149, 'anxious': 1150, 'mustard': 1151, 'hers': 1152, 'cost': 1153, 'week': 1154, 'advance': 1155, 'bound': 1156, 'figure': 1157, 'toes': 1158, 'mark': 1159, 'snail': 1160, 'tails': 1161, 'mouths': 1162, 'obliged': 1163, 'follows': 1164, 'around': 1165, 'owl': 1166, 'panther': 1167, 'permitted': 1168, 'e—e—evening': 1169, 'trumpet': 1170, 'spectacles': 1171, 'slate': 1172, 'verdict': 1173, 'teacup': 1174, 'sent': 1175, 'wrote': 1176, 'list': 1177, 'fit': 1178, 'paying': 1179, 'royalties': 1180, 'complying': 1181, 'derivative': 1182, 'online': 1183, 'return': 1184, 'obtain': 1185, 'entity': 1186, 'future': 1187, 'public': 1188, 'performing': 1189, 'check': 1190, 'links': 1191, '2': 1192, 'paragraphs': 1193, '7': 1194, '9': 1195, 'additional': 1196, '5': 1197, 'official': 1198, 'user': 1199, 'royalty': 1200, 'applicable': 1201, 'donate': 1202, 'payments': 1203, 'money': 1204, 'defect': 1205, 'contact': 1206, 'efforts': 1207, 'defective': 1208, 'equipment': 1209, 'disclaimer': 1210, 'liability': 1211, 'warranties': 1212, 'limitation': 1213, 'bank': 1214, 'conversations': 1215, 'pleasure': 1216, 'picking': 1217, 'remarkable': 1218, 'afterwards': 1219, 'occurred': 1220, 'waistcoat': 1221, 'started': 1222, 'hedge': 1223, 'straight': 1224, 'dipped': 1225, 'falling': 1226, 'plenty': 1227, 'cupboards': 1228, 'shelves': 1229, 'jar': 1230, 'underneath': 1231, 'tumbling': 1232, 'thousand': 1233, 'learnt': 1234, 'showing': 1235, 'latitude': 1236, 'longitude': 1237, 'presently': 1238, 'milk': 1239, 'earnestly': 1240, 'thump': 1241, 'wind': 1242, 'row': 1243, 'doors': 1244, 'legged': 1245, 'locks': 1246, 'longed': 1247, 'beds': 1248, 'flowers': 1249, 'cool': 1250, 'fountains': 1251, 'shutting': 1252, 'label': 1253, 'beautifully': 1254, 'wise': 1255, 'wild': 1256, 'beasts': 1257, 'unpleasant': 1258, 'friends': 1259, 'burn': 1260, 'usually': 1261, 'sooner': 1262, 'taste': 1263, 'mixed': 1264, 'brightened': 1265, 'lovely': 1266, 'crying': 1267, 'advice': 1268, 'playing': 1269, 'curiouser': 1270, 'forgot': 1271, 'bye': 1272, 'presents': 1273, 'struck': 1274, 'ashamed': 1275, 'reaching': 1276, 'trotting': 1277, 'ringlets': 1278, 'knows': 1279, 'and—oh': 1280, 'six': 1281, 'paris': 1282, 'lap': 1283, 'neatly': 1284, 'claws': 1285, 'smiling': 1286, 'jaws': 1287, '‘come': 1288, 'rapidly': 1289, 'narrow': 1290, 'declare': 1291, 'bad': 1292, 'railway': 1293, 'conclusion': 1294, 'wherever': 1295, 'splashing': 1296, 'swimming': 1297, 'wink': 1298, 'conqueror': 1299, 'clear': 1300, 'ago': 1301, 'fright': 1302, 'animal': 1303, 'feelings': 1304, 'quiet': 1305, 'purring': 1306, 'nicely': 1307, 'catching': 1308, 'brown': 1309, 'dinner': 1310, 'them—and': 1311, 'belongs': 1312, 'useful': 1313, 'sorrowful': 1314, 'assembled': 1315, 'wet': 1316, 'older': 1317, 'knowing': 1318, 'authority': 1319, 'ring': 1320, 'whose': 1321, 'morcar': 1322, 'earls': 1323, 'mercia': 1324, 'ugh': 1325, '—i': 1326, 'proceed': 1327, 'archbishop': 1328, '‘it': 1329, 'hurriedly': 1330, 'offer': 1331, 'smile': 1332, 'hour': 1333, 'panting': 1334, 'forehead': 1335, 'position': 1336, 'voices': 1337, 'comfits': 1338, 'luckily': 1339, 'absurd': 1340, 'simply': 1341, 'caused': 1342, 'wasting': 1343, 'humbly': 1344, 'bend': 1345, 'knot': 1346, 'bird': 1347, 'sensation': 1348, 'throat': 1349, 'various': 1350, 'lonely': 1351, 'footsteps': 1352, 'ferrets': 1353, 'nowhere': 1354, 'quick': 1355, 'messages': 1356, 'nurse': 1357, 'ordering': 1358, 'whenever': 1359, 'drunk': 1360, 'stoop': 1361, 'curled': 1362, 'unhappy': 1363, 'fancied': 1364, 'books': 1365, 'trembled': 1366, 'proved': 1367, 'snatch': 1368, 'concluded': 1369, 'cucumber': 1370, 'apples': 1371, 'goose': 1372, 'bear': 1373, 'loose': 1374, '—it': 1375, 'feeble': 1376, 'squeaking': 1377, 'comes': 1378, 'barrowful': 1379, 'shower': 1380, 'pebbles': 1381, 'rattling': 1382, 'hit': 1383, 'produced': 1384, 'delighted': 1385, 'giving': 1386, 'rush': 1387, 'safe': 1388, 'wandered': 1389, 'excellent': 1390, 'smallest': 1391, 'bark': 1392, 'stretching': 1393, 'coaxing': 1394, 'thistle': 1395, 'charges': 1396, 'stretched': 1397, 'tiptoe': 1398, 'smoking': 1399, 'addressed': 1400, 'encouraging': 1401, 'i—i': 1402, 'clearly': 1403, 'contemptuously': 1404, 'anger': 1405, 'unfolded': 1406, 'busy': 1407, 'somersault': 1408, 'sell': 1409, 'weak': 1410, 'lasted': 1411, 'eel': 1412, 'clever': 1413, 'changing': 1414, 'wretched': 1415, 'patiently': 1416, 'chose': 1417, 'yawned': 1418, 'merely': 1419, 'taller': 1420, 'shorter': 1421, 'difficult': 1422, 'broke': 1423, 'nibbled': 1424, 'violent': 1425, 'blow': 1426, 'lefthand': 1427, 'alarm': 1428, 'distant': 1429, 'wandering': 1430, 'beating': 1431, 'roots': 1432, 'doubtfully': 1433, 'changes': 1434, 'telling': 1435, 'tasted': 1436, 'matters': 1437, 'entangled': 1438, 'branches': 1439, 'invitation': 1440, 'laughed': 1441, 'secondly': 1442, 'inside': 1443, 'extraordinary': 1444, '—or': 1445, 'dreadful': 1446, 'muttered': 1447, 'drive': 1448, 'leaning': 1449, 'stirring': 1450, 'cauldron': 1451, 'pause': 1452, 'sneeze': 1453, 'introduce': 1454, 'fix': 1455, 'throwing': 1456, 'plates': 1457, 'dishes': 1458, 'hint': 1459, 'abide': 1460, 'singing': 1461, 'line': 1462, 'boy': 1463, 'sneezes': 1464, 'sang': 1465, 'thoroughly': 1466, 'threw': 1467, 'missed': 1468, 'twist': 1469, 'prevent': 1470, 'neither': 1471, 'carry': 1472, 'ugly': 1473, 'startled': 1474, 'depends': 1475, '—so': 1476, 'denied': 1477, 'invited': 1478, 'became': 1479, 'raving': 1480, 'appearing': 1481, 'giddy': 1482, 'ending': 1483, 'raised': 1484, 'front': 1485, 'cushion': 1486, 'resting': 1487, 'wine': 1488, 'laid': 1489, 'wants': 1490, 'personal': 1491, 'rude': 1492, 'wide': 1493, 'riddles': 1494, 'break': 1495, 'month': 1496, 'uneasily': 1497, 'meekly': 1498, 'cup': 1499, 'tells': 1500, 'year': 1501, 'spoon': 1502, 'concert': 1503, 'given': 1504, '—”': 1505, 'pinch': 1506, 'wash': 1507, 'yawning': 1508, 'wake': 1509, 'pinched': 1510, 'names': 1511, 'ill': 1512, 'ways': 1513, 'living': 1514, 'triumphantly': 1515, 'sh': 1516, 'sulkily': 1517, 'learning': 1518, 'interrupting': 1519, 'rubbing': 1520, 'manner': 1521, 'm—”': 1522, 'closed': 1523, 'flower': 1524, 'painting': 1525, 'flat': 1526, 'carrying': 1527, 'courtiers': 1528, 'ornamented': 1529, 'royal': 1530, 'mostly': 1531, 'crimson': 1532, 'doubtful': 1533, 'lie': 1534, 'smiled': 1535, 'remaining': 1536, 'fine': 1537, 'execution': 1538, '‘what': 1539, 'scream': 1540, 'flamingoes': 1541, 'body': 1542, 'laughing': 1543, 'unrolled': 1544, 'send': 1545, 'parts': 1546, 'quarrelling': 1547, 'stamping': 1548, 'shouting': 1549, 'dispute': 1550, 'search': 1551, 'fight': 1552, 'collected': 1553, 'entirely': 1554, 'disappeared': 1555, 'wildly': 1556, 'tempered': 1557, 'sugar': 1558, 'forget': 1559, 'hasn': 1560, 'tut': 1561, 'experiment': 1562, 'bite': 1563, 'imagine': 1564, 'present': 1565, 'linked': 1566, 'choice': 1567, 'whom': 1568, 'custody': 1569, 'executions': 1570, 'sun': 1571, 'watched': 1572, 'heart': 1573, 'sorrow': 1574, 'heavy': 1575, 'tortoise': 1576, 'proud': 1577, 'relief': 1578, 'regular': 1579, 'drawling': 1580, 'recovered': 1581, 'delightful': 1582, 'turtles': 1583, 'dancing': 1584, 'treading': 1585, 'kindly': 1586, 'thoughts': 1587, 'anywhere': 1588, '[': 1589, 'tones': 1590, ']': 1591, 'persisted': 1592, 'sharing': 1593, 'pie': 1594, 'share': 1595, 'evening': 1596, 'cares': 1597, 'stole': 1598, 'scroll': 1599, 'parchment': 1600, 'wig': 1601, 'pencil': 1602, 'quickly': 1603, 'blew': 1604, 'blasts': 1605, 'summer': 1606, 'remain': 1607, 'reasonable': 1608, 'fashion': 1609, 'singers': 1610, 'deny': 1611, 'miserable': 1612, 'examine': 1613, 'undertone': 1614, 'goldfish': 1615, 'accident': 1616, 'un': 1617, 'note': 1618, 'forty': 1619, 'mile': 1620, 'prisoner': 1621, 'directed': 1622, 'signed': 1623, 'proves': 1624, 'returned': 1625, 'atom': 1626, 'wonderful': 1627, 'teacups': 1628, 'shared': 1629, 'years': 1630, '***': 1631, '*****': 1632, 'file': 1633, '11': 1634, '0': 1635, 'files': 1636, 'formats': 1637, 'owns': 1638, 'protect': 1639, 'concept': 1640, 'registered': 1641, 'purpose': 1642, 'research': 1643, 'redistribution': 1644, 'start': 1645, 'promoting': 1646, 'available': 1647, 'redistributing': 1648, 'intellectual': 1649, 'property': 1650, 'destroy': 1651, 'obtaining': 1652, 'b': 1653, 'domain': 1654, 'based': 1655, 'references': 1656, 'concerning': 1657, 'active': 1658, 'prominently': 1659, 'copied': 1660, 'included': 1661, 'contain': 1662, '6': 1663, 'plain': 1664, 'vanilla': 1665, 'ascii': 1666, 'specified': 1667, 'date': 1668, 'prepare': 1669, 'receipt': 1670, 'physical': 1671, 'accordance': 1672, '90': 1673, 'considerable': 1674, 'effort': 1675, 'computer': 1676, 'damage': 1677, 'warranty': 1678, 'costs': 1679, 'expenses': 1680, 'legal': 1681, 'breach': 1682, 'receive': 1683, 'lieu': 1684, 'electronically': 1685, 'implied': 1686, 'readable': 1687, 'widest': 1688, 'computers': 1689, 'generations': 1690, 'created': 1691, 'page': 1692, 'exempt': 1693, 'federal': 1694, 'contributions': 1695, 'email': 1696, 'solicit': 1697, 'org/donate': 1698, 'accepted': 1699, 'lewis': 1700, 'carroll': 1701, 'daisy': 1702, 'chain': 1703, 'daisies': 1704, 'pink': 1705, 'wondered': 1706, 'actually': 1707, 'flashed': 1708, 'burning': 1709, 'field': 1710, 'fortunately': 1711, 'pop': 1712, 'tunnel': 1713, 'stopping': 1714, 'maps': 1715, 'hung': 1716, 'pegs': 1717, 'labelled': 1718, 'orange': 1719, 'marmalade”': 1720, 'disappointment': 1721, 'empty': 1722, 'drop': 1723, 'killing': 1724, 'brave': 1725, 'centre': 1726, 'schoolroom': 1727, 'practice': 1728, '—yes': 1729, 'distance—but': 1730, 'downward': 1731, 'antipathies': 1732, 'zealand': 1733, 'australia': 1734, 'curtsey': 1735, 'spoke—fancy': 1736, 'curtseying': 1737, 'ignorant': 1738, 'saucer': 1739, 'dreamy': 1740, 'dozing': 1741, 'truth': 1742, 'heap': 1743, 'sticks': 1744, 'overhead': 1745, 'hurrying': 1746, 'lit': 1747, 'lamps': 1748, 'locked': 1749, 'solid': 1750, 'belong': 1751, 'curtain': 1752, 'fifteen': 1753, 'lock': 1754, 'fitted': 1755, 'rat': 1756, 'knelt': 1757, 'loveliest': 1758, 'wander': 1759, 'doorway': 1760, 'lately': 1761, 'telescopes': 1762, 'letters': 1763, 'not”': 1764, 'histories': 1765, 'burnt': 1766, 'eaten': 1767, 'poker': 1768, 'bleeds': 1769, 'disagree': 1770, 'flavour': 1771, 'cherry': 1772, 'tart': 1773, 'custard': 1774, 'pine': 1775, 'apple': 1776, 'roast': 1777, 'turkey': 1778, 'toffee': 1779, 'buttered': 1780, 'toast': 1781, 'shrink': 1782, 'flame': 1783, 'blown': 1784, 'plainly': 1785, 'climb': 1786, 'slippery': 1787, 'advise': 1788, 'seldom': 1789, 'scolded': 1790, 'cheated': 1791, 'pretending': 1792, 'pretend': 1793, 'respectable': 1794, 'me”': 1795, 'currants': 1796, 'creep': 1797, 'ate': 1798, 'eats': 1799, 'common': 1800, 'ii': 1801, 'largest': 1802, 'stockings': 1803, 'able': 1804, 'christmas': 1805, 'planning': 1806, 'carrier': 1807, 'odd': 1808, 'esq': 1809, 'hearthrug': 1810, 'fender': 1811, 'hopeless': 1812, 'shedding': 1813, 'gallons': 1814, 'dried': 1815, 'returning': 1816, 'splendidly': 1817, 'dressed': 1818, 'desperate': 1819, 'sir—”': 1820, 'skurried': 1821, 'darkness': 1822, 'fanning': 1823, 'puzzle': 1824, 'ada': 1825, 'thirteen': 1826, 'is—oh': 1827, 'multiplication': 1828, 'signify': 1829, 'geography': 1830, 'london': 1831, 'rome': 1832, 'rome—no': 1833, 'crocodile': 1834, 'improve': 1835, 'shining': 1836, 'pour': 1837, 'waters': 1838, 'nile': 1839, 'scale': 1840, 'cheerfully': 1841, 'welcome': 1842, 'fishes': 1843, 'poky': 1844, 'toys': 1845, '‘who': 1846, 'burst': 1847, 'measure': 1848, 'avoid': 1849, 'existence': 1850, 'speed': 1851, 'splash': 1852, 'somehow': 1853, 'seaside': 1854, 'coast': 1855, 'bathing': 1856, 'machines': 1857, 'sand': 1858, 'wooden': 1859, 'spades': 1860, 'lodging': 1861, 'houses': 1862, 'station': 1863, 'wept': 1864, 'punished': 1865, 'drowned': 1866, 'walrus': 1867, 'hippopotamus': 1868, 'harm': 1869, 'brother': 1870, 'latin': 1871, 'grammar': 1872, 'mouse—of': 1873, 'mouse—to': 1874, 'mouse—a': 1875, 'mouse—o': 1876, 'inquisitively': 1877, 'daresay': 1878, 'où': 1879, 'est': 1880, 'chatte': 1881, 'leap': 1882, 'quiver': 1883, 'passionate': 1884, 'soothing': 1885, 'lazily': 1886, 'sits': 1887, 'licking': 1888, 'face—and': 1889, 'soft': 1890, 'nurse—and': 1891, 'mice—oh': 1892, 'bristling': 1893, 'family': 1894, 'hated': 1895, 'nasty': 1896, 'vulgar': 1897, 'you—are': 1898, 'fond—of—of': 1899, 'eyed': 1900, 'terrier': 1901, 'curly': 1902, 'things—i': 1903, 'farmer': 1904, 'hundred': 1905, 'pounds': 1906, 'kills': 1907, 'rats': 1908, 'commotion': 1909, 'softly': 1910, 'hate': 1911, 'iii': 1912, 'bank—the': 1913, 'draggled': 1914, 'feathers': 1915, 'clinging': 1916, 'dripping': 1917, 'consultation': 1918, 'familiarly': 1919, 'known': 1920, 'positively': 1921, 'refused': 1922, 'fixed': 1923, 'cold': 1924, 'ahem': 1925, 'driest': 1926, '‘william': 1927, 'favoured': 1928, 'pope': 1929, 'submitted': 1930, 'leaders': 1931, 'accustomed': 1932, 'usurpation': 1933, 'conquest': 1934, 'edwin': 1935, 'northumbria—': 1936, 'shiver': 1937, '‘edwin': 1938, 'northumbria': 1939, 'declared': 1940, 'stigand': 1941, 'patriotic': 1942, 'canterbury': 1943, 'advisable—': 1944, 'crossly': 1945, 'worm': 1946, '‘—found': 1947, 'advisable': 1948, 'edgar': 1949, 'atheling': 1950, 'conduct': 1951, 'moderate': 1952, 'insolence': 1953, 'normans—': 1954, 'rising': 1955, 'meeting': 1956, 'adjourn': 1957, 'adoption': 1958, 'energetic': 1959, 'remedies—”': 1960, 'bent': 1961, 'hide': 1962, 'tittered': 1963, 'audibly': 1964, 'paused': 1965, 'inclined': 1966, 'winter': 1967, 'circle': 1968, 'exact': 1969, 'shape': 1970, 'placed': 1971, 'shakespeare': 1972, 'calling': 1973, 'despair': 1974, 'pulled': 1975, 'prize': 1976, 'presented': 1977, 'acceptance': 1978, 'elegant': 1979, 'laugh': 1980, 'complained': 1981, 'theirs': 1982, 'ones': 1983, 'patted': 1984, 'begged': 1985, 'promised': 1986, 'hate—c': 1987, '‘let': 1988, 'prosecute': 1989, '—come': 1990, 'denial': 1991, 'cur': 1992, '‘such': 1993, 'cunning': 1994, 'condemn': 1995, 'death': 1996, 'fifth': 1997, 'undo': 1998, 'insult': 1999, 'growled': 2000, 'quicker': 2001, 'daughter': 2002, 'lose': 2003, 'snappishly': 2004, 'patience': 2005, 'oyster': 2006, 'addressing': 2007, 'pet': 2008, 'magpie': 2009, 'wrapping': 2010, 'canary': 2011, 'bed': 2012, 'pretexts': 2013, 'spirited': 2014, 'iv': 2015, 'sends': 2016, 'naturedly': 2017, 'seen—everything': 2018, 'completely': 2019, 'pointed': 2020, 'housemaid': 2021, 'finds': 2022, 'gloves—that': 2023, 'neat': 2024, 'brass': 2025, 'w': 2026, 'engraved': 2027, 'upstairs': 2028, 'lest': 2029, 'fancying': 2030, '‘miss': 2031, '‘coming': 2032, 'tidy': 2033, 'hoped': 2034, 'pairs': 2035, 'nevertheless': 2036, 'uncorked': 2037, 'lips': 2038, 'expected': 2039, 'pressing': 2040, 'ceiling': 2041, 'save': 2042, 'enough—i': 2043, 'more—as': 2044, 'door—i': 2045, 'kneel': 2046, 'resource': 2047, 'magic': 2048, 'grew': 2049, 'pleasanter': 2050, 'rabbits': 2051, 'hole—and': 2052, 'yet—and': 2053, 'yet—it': 2054, 'fairy': 2055, 'tales': 2056, 'one—but': 2057, 'comfort': 2058, 'way—never': 2059, 'woman—but': 2060, 'then—always': 2061, 'foolish': 2062, 'inwards': 2063, 'attempt': 2064, 'failure': 2065, 'possible': 2066, 'frame': 2067, 'voice—the': 2068, 's—': 2069, 'pronounced': 2070, 'arrum': 2071, 'fills': 2072, 'whispers': 2073, 'coward': 2074, 'shrieks': 2075, 'frames': 2076, 'pulling': 2077, 'rumbling': 2078, 'cartwheels': 2079, 'ladder': 2080, '—why': 2081, 'other—bill': 2082, 'lad': 2083, '—here': 2084, 'corner—no': 2085, 'tie': 2086, 'first—they': 2087, 'yet—oh': 2088, 'particular—here': 2089, 'rope—will': 2090, '—mind': 2091, 'slate—oh': 2092, 'fancy—who': 2093, '—nay': 2094, '—bill': 2095, 'down—here': 2096, 'shy': 2097, 'fireplace': 2098, 'scratching': 2099, 'scrambling': 2100, 'along—': 2101, 'voices—': 2102, 'head—brandy': 2103, 'now—don': 2104, 'choke': 2105, 'him—how': 2106, 'know—no': 2107, 'ye': 2108, 'now—but': 2109, 'flustered': 2110, 'you—all': 2111, 'jack': 2112, 'rocket': 2113, 'swallowed': 2114, 'thick': 2115, 'arranged': 2116, 'peering': 2117, 'enormous': 2118, 'feebly': 2119, 'touch': 2120, 'whistle': 2121, 'terribly': 2122, 'spite': 2123, 'whereupon': 2124, 'yelp': 2125, 'rushed': 2126, 'worry': 2127, 'dodged': 2128, 'tumbled': 2129, 'heels': 2130, 'cart': 2131, 'horse': 2132, 'trampled': 2133, 'series': 2134, 'forwards': 2135, 'barking': 2136, 'hoarsely': 2137, 'faint': 2138, 'leant': 2139, 'buttercup': 2140, 'fanned': 2141, 'teaching': 2142, 'tricks': 2143, 'if—if': 2144, 'see—how': 2145, 'blades': 2146, 'circumstances': 2147, 'blue': 2148, 'v': 2149, 'languid': 2150, 'shyly': 2151, 'present—at': 2152, 'sternly': 2153, 'sizes': 2154, 'chrysalis—you': 2155, 'know—and': 2156, 'butterfly': 2157, 'irritated': 2158, 'promising': 2159, 'swallowing': 2160, 'wait': 2161, 'puffed': 2162, 'used—and': 2163, 'bee': 2164, 'incessantly': 2165, 'head—': 2166, 'son': 2167, 'feared': 2168, 'injure': 2169, 'brain': 2170, 'uncommonly': 2171, 'fat': 2172, 'door—': 2173, 'sage': 2174, 'grey': 2175, 'limbs': 2176, 'supple': 2177, 'ointment—one': 2178, 'shilling': 2179, 'box—': 2180, 'couple': 2181, 'tougher': 2182, 'suet': 2183, 'bones': 2184, 'beak—': 2185, 'argued': 2186, 'wife': 2187, 'muscular': 2188, 'strength': 2189, 'jaw': 2190, 'steady': 2191, 'balanced': 2192, 'nose—': 2193, 'awfully': 2194, 'airs': 2195, 'altered': 2196, 'contradicted': 2197, 'losing': 2198, 'content': 2199, 'rearing': 2200, 'upright': 2201, 'piteous': 2202, 'crawled': 2203, 'closely': 2204, 'swallow': 2205, 'morsel': 2206, 'immense': 2207, 'length': 2208, 'rise': 2209, 'stalk': 2210, 'result': 2211, 'curving': 2212, 'graceful': 2213, 'zigzag': 2214, 'dive': 2215, 'tops': 2216, 'hiss': 2217, 'flown': 2218, 'wings': 2219, 'subdued': 2220, 'sob': 2221, 'banks': 2222, 'hedges': 2223, 'pleasing': 2224, 'hatching': 2225, 'weeks': 2226, 'sorry': 2227, 'annoyed': 2228, 'highest': 2229, 'raising': 2230, 'needs': 2231, 'wriggling': 2232, 'a—i': 2233, 'a—”': 2234, 'invent': 2235, 'deepest': 2236, 'contempt': 2237, 'denying': 2238, 'egg': 2239, 'truthful': 2240, 'adding': 2241, 'raw': 2242, 'nest': 2243, 'crouched': 2244, 'untwist': 2245, 'garden—how': 2246, 'whoever': 2247, 'frighten': 2248, 'wits': 2249, 'righthand': 2250, 'vi': 2251, 'wood—': 2252, 'judging': 2253, 'rapped': 2254, 'knuckles': 2255, 'footmen': 2256, 'powdered': 2257, 'crept': 2258, 'producing': 2259, 'curls': 2260, 'stupidly': 2261, 'knocked': 2262, 'reasons': 2263, 'within—a': 2264, 'kettle': 2265, 'knock': 2266, 'uncivil': 2267, '—how': 2268, 'tomorrow—”': 2269, 'skimming': 2270, 'grazed': 2271, 'maybe': 2272, 'louder': 2273, 'argue': 2274, 'crazy': 2275, 'variations': 2276, 'whistling': 2277, 'desperately': 2278, 'idiotic': 2279, 'smoke': 2280, 'stool': 2281, 'sneezed': 2282, 'occasionally': 2283, 'alternately': 2284, 'hearth': 2285, 'grinning': 2286, 'manners': 2287, 'grins': 2288, 'violence': 2289, 'baby—the': 2290, 'irons': 2291, 'saucepans': 2292, 'blows': 2293, 'agony': 2294, 'terror': 2295, 'precious': 2296, 'unusually': 2297, 'saucepan': 2298, 'flew': 2299, 'minded': 2300, 'axis—”': 2301, 'axes': 2302, 'chop': 2303, 'glanced': 2304, 'i—”': 2305, 'bother': 2306, 'figures': 2307, 'lullaby': 2308, 'shake': 2309, 'roughly': 2310, 'annoy': 2311, 'teases': 2312, 'howled': 2313, 'enjoy': 2314, 'pleases': 2315, 'flinging': 2316, 'frying': 2317, 'pan': 2318, 'star': 2319, 'snorting': 2320, 'steam': 2321, 'engine': 2322, 'doubling': 2323, 'straightening': 2324, 'tight': 2325, 'undoing': 2326, 'kill': 2327, 'murder': 2328, 'grunt': 2329, 'expressing': 2330, 'snout': 2331, 'extremely': 2332, 'seriously': 2333, 'sobbed': 2334, 'relieved': 2335, 'trot': 2336, 'handsome': 2337, 'them—”': 2338, 'seeing': 2339, 'bough': 2340, 'yards': 2341, 'natured': 2342, 'teeth': 2343, 'treated': 2344, 'respect': 2345, 'puss': 2346, 'wider': 2347, 'where—”': 2348, 'grant': 2349, 'growls': 2350, 'wags': 2351, 'wag': 2352, 'therefore': 2353, 'growling': 2354, 'happening': 2355, 'hatters': 2356, 'mad—at': 2357, 'branch': 2358, 'fig': 2359, 'vanishing': 2360, 'farther': 2361, 'chimneys': 2362, 'thatched': 2363, 'towards': 2364, 'vii': 2365, 'elbows': 2366, 'chair': 2367, 'cutting': 2368, 'severity': 2369, 'raven': 2370, 'desk': 2371, 'least—at': 2372, 'say—that': 2373, 'ravens': 2374, 'desks': 2375, 'fourth': 2376, 'grumbled': 2377, 'gloomily': 2378, 'readily': 2379, 'stays': 2380, 'poured': 2381, 'riddle': 2382, 'slightest': 2383, 'wearily': 2384, 'waste': 2385, 'answers': 2386, 'accounts': 2387, 'then—i': 2388, 'mournfully': 2389, 'quarrelled': 2390, 'march—just': 2391, '‘twinkle': 2392, '‘up': 2393, 'tray': 2394, 'twinkle—': 2395, 'bawled': 2396, '‘he': 2397, 'murdering': 2398, 'mournful': 2399, 'whiles': 2400, 'vote': 2401, 'alarmed': 2402, 'proposal': 2403, 'fellows': 2404, 'sisters': 2405, 'elsie': 2406, 'lacie': 2407, 'tillie': 2408, 'well—”': 2409, 'interest': 2410, 'eating': 2411, 'drinking': 2412, 'opinion': 2413, 'helped': 2414, 'interrupt': 2415, 'consented': 2416, 'sisters—they': 2417, 'promise': 2418, 'clean': 2419, 'unwillingly': 2420, 'jug': 2421, 'offend': 2422, 'well—eh': 2423, 'choosing': 2424, '—well': 2425, 'things—everything': 2426, 'doze': 2427, 'woke': 2428, '—that': 2429, 'traps': 2430, 'moon': 2431, 'memory': 2432, 'muchness—you': 2433, 'muchness”—did': 2434, 'drawing': 2435, 'muchness': 2436, 'rudeness': 2437, 'disgust': 2438, 'teapot': 2439, 'stupidest': 2440, 'leading': 2441, 'today': 2442, 'unlocking': 2443, '—she': 2444, 'viii': 2445, 'entrance': 2446, 'paint': 2447, 'jogged': 2448, 'blame': 2449, 'deserved': 2450, 'spoken': 2451, 'him—it': 2452, 'tulip': 2453, 'onions': 2454, 'flung': 2455, 'brush': 2456, 'unjust': 2457, 'things—”': 2458, 'chanced': 2459, 'afore': 2460, 'to—”': 2461, 'clubs': 2462, 'oblong': 2463, 'corners': 2464, 'diamonds': 2465, 'merrily': 2466, 'couples': 2467, 'kings': 2468, 'queens': 2469, 'recognised': 2470, 'noticing': 2471, 'velvet': 2472, 'processions': 2473, 'opposite': 2474, 'idiot': 2475, 'pattern': 2476, 'backs': 2477, 'glaring': 2478, 'beast': 2479, 'off—”': 2480, 'bowing': 2481, 'humble': 2482, 'trying—”': 2483, 'meanwhile': 2484, 'examining': 2485, 'execute': 2486, 'protection': 2487, 'pot': 2488, 'marched': 2489, 'evidently': 2490, 'roared': 2491, 's—it': 2492, 'peeping': 2493, '—where': 2494, 'boxed': 2495, 'ears—”': 2496, 'laughter': 2497, 'places': 2498, 'thunder': 2499, 'ridges': 2500, 'furrows': 2501, 'balls': 2502, 'mallets': 2503, 'double': 2504, 'chief': 2505, 'managing': 2506, 'comfortably': 2507, 'straightened': 2508, 'expression': 2509, 'bursting': 2510, 'provoking': 2511, 'act': 2512, 'crawling': 2513, 'ridge': 2514, 'furrow': 2515, 'doubled': 2516, 'played': 2517, 'fighting': 2518, 'furious': 2519, 'uneasy': 2520, 'beheading': 2521, 'appearance': 2522, 'nodded': 2523, 'account': 2524, 'someone': 2525, 'fairly': 2526, 'complaining': 2527, 'quarrel': 2528, 'oneself': 2529, 'speak—and': 2530, 'attends': 2531, 'arch': 2532, 'ground—and': 2533, 'croqueted': 2534, 'extremely—”': 2535, '—likely': 2536, 'win': 2537, 'finishing': 2538, 'mine—a': 2539, 'kiss': 2540, 'likes': 2541, 'impertinent': 2542, 'passing': 2543, 'settling': 2544, 'difficulties': 2545, 'screaming': 2546, 'engaged': 2547, 'croqueting': 2548, 'helpless': 2549, 'appealed': 2550, 'settle': 2551, 'arguments': 2552, 'weren': 2553, 'prison': 2554, 'arrow': 2555, 'fading': 2556, 'ix': 2557, 'affectionately': 2558, 'pleasant': 2559, 'hopeful': 2560, 'without—maybe': 2561, 'vinegar': 2562, 'sour—and': 2563, 'camomile': 2564, 'bitter—and—and': 2565, 'barley': 2566, 'sweet': 2567, 'stingy': 2568, 'squeezed': 2569, 'closer': 2570, 'uncomfortably': 2571, 'bore': 2572, 'is—‘oh': 2573, 'minding': 2574, 'is—‘take': 2575, 'morals': 2576, 'waist': 2577, 'is—‘birds': 2578, 'feather': 2579, 'flock': 2580, 'mineral': 2581, 'is—‘the': 2582, 'attended': 2583, 'vegetable': 2584, 'is—‘be': 2585, 'simply—‘never': 2586, 'cheap': 2587, 'birthday': 2588, 'dig': 2589, 'worried': 2590, 'died': 2591, 'favourite': 2592, '‘moral': 2593, 'tremble': 2594, 'thunderstorm': 2595, 'fair': 2596, 'warning': 2597, 'absence': 2598, 'shade': 2599, 'delay': 2600, 'sentenced': 2601, 'company': 2602, 'pardoned': 2603, 'picture': 2604, 'lazy': 2605, 'leaving': 2606, 'rubbed': 2607, 'chuckled': 2608, 'executes': 2609, 'ledge': 2610, 'rock': 2611, 'pitied': 2612, 'hollow': 2613, 'occasional': 2614, 'exclamation': 2615, 'hjckrrh': 2616, 'calmly': 2617, 'turtle—we': 2618, 'tortoise—”': 2619, 'sink': 2620, 'mayn': 2621, 'it—”': 2622, 'educations—in': 2623, 'day—”': 2624, 'extras': 2625, 'learned': 2626, 'ours': 2627, '‘french': 2628, '—extra': 2629, 'afford': 2630, 'inquired': 2631, 'reeling': 2632, 'writhing': 2633, 'arithmetic—ambition': 2634, 'distraction': 2635, 'uglification': 2636, 'derision': 2637, '‘uglification': 2638, 'lifted': 2639, 'uglifying': 2640, 'beautify': 2641, 'means—to—make—anything—prettier': 2642, 'uglify': 2643, 'simpleton': 2644, 'encouraged': 2645, 'mystery': 2646, 'counting': 2647, 'subjects': 2648, 'flappers': 2649, '—mystery': 2650, 'ancient': 2651, 'modern': 2652, 'seaography': 2653, 'drawling—the': 2654, 'conger': 2655, 'fainting': 2656, 'coils': 2657, 'stiff': 2658, 'classics': 2659, 'grief': 2660, 'hid': 2661, 'lessen': 2662, 'eleventh': 2663, 'holiday': 2664, 'twelfth': 2665, 'games': 2666, 'x': 2667, 'flapper': 2668, 'bone': 2669, 'punching': 2670, 'cheeks': 2671, 'sea—”': 2672, 'introduced': 2673, 'lobster—”': 2674, 'tasted—”': 2675, 'never”': 2676, 'shore—”': 2677, 'lines': 2678, 'seals': 2679, 'salmon': 2680, 'cleared': 2681, 'jelly': 2682, 'way—”': 2683, '—you': 2684, 'twice—”': 2685, 'partner': 2686, 'partners—”': 2687, '—change': 2688, 'retire': 2689, 'the—”': 2690, '—as': 2691, 'can—”': 2692, 'capering': 2693, 'yelled': 2694, 'land': 2695, 'dropping': 2696, 'pretty': 2697, 'forepaws': 2698, 'shingle—will': 2699, 'askance—': 2700, 'thanked': 2701, 'scaly': 2702, 'england': 2703, 'france—': 2704, 'beloved': 2705, 'they—you': 2706, 'dinn—”': 2707, 'dinn': 2708, 'mouths—and': 2709, 'is—”': 2710, 'thrown': 2711, 'shiny': 2712, 'blacking': 2713, 'soles': 2714, 'eels': 2715, 'shrimp': 2716, '‘keep': 2717, 'journey': 2718, '‘with': 2719, '‘purpose': 2720, 'adventures—beginning': 2721, 'impatient': 2722, 'explanations': 2723, 'gained': 2724, 'listeners': 2725, 'sluggard': 2726, 'baked': 2727, 'eyelids': 2728, 'trims': 2729, 'belt': 2730, 'buttons': 2731, 'sands': 2732, 'gay': 2733, 'lark': 2734, 'contemptuous': 2735, 'shark': 2736, 'tide': 2737, 'rises': 2738, 'sharks': 2739, 'tremulous': 2740, 'uncommon': 2741, 'explained': 2742, 'disobey': 2743, 'pie—”': 2744, 'crust': 2745, 'gravy': 2746, 'meat': 2747, 'treat': 2748, 'boon': 2749, 'fork': 2750, 'banquet—': 2751, 'hm': 2752, 'accounting': 2753, 'tastes': 2754, 'rich': 2755, 'tureen': 2756, 'dainties': 2757, 'p': 2758, 'ennyworth': 2759, 'pennyworth': 2760, 'beauti—ful': 2761, 'panted': 2762, 'faintly': 2763, 'breeze': 2764, 'xi': 2765, 'seated': 2766, 'throne': 2767, 'arrived': 2768, 'them—all': 2769, 'standing': 2770, 'chains': 2771, 'soldier': 2772, 'guard': 2773, 'them—': 2774, 'refreshments': 2775, 'pass': 2776, 'justice': 2777, 'wore': 2778, 'frontispiece': 2779, 'comfortable': 2780, 'becoming': 2781, 'rightly': 2782, 'men”': 2783, 'indignant': 2784, 'spell': 2785, 'neighbour': 2786, 'muddle': 2787, 'squeaked': 2788, 'juror': 2789, 'herald': 2790, 'accusation': 2791, 'fourteenth': 2792, 'fifteenth': 2793, 'sixteenth': 2794, 'dates': 2795, 'reduced': 2796, 'shillings': 2797, 'pence': 2798, 'hat': 2799, 'stolen': 2800, 'memorandum': 2801, 'fidgeted': 2802, 'spot': 2803, 'encourage': 2804, 'shifting': 2805, 'squeeze': 2806, 'boldly': 2807, 'pace': 2808, 'ridiculous': 2809, 'tea—not': 2810, 'so—and': 2811, 'thin—and': 2812, 'tea—”': 2813, 'dunce': 2814, 'twinkled': 2815, 'that—only': 2816, 'denies': 2817, 'butter—”': 2818, 'speaker': 2819, 'canvas': 2820, 'bag': 2821, 'tied': 2822, 'strings': 2823, 'newspapers': 2824, 'trials': 2825, 'attempts': 2826, 'applause': 2827, 'understood': 2828, 'lower': 2829, 'officer': 2830, 'folding': 2831, 'collar': 2832, 'shrieked': 2833, 'behead': 2834, 'suppress': 2835, 'ache': 2836, 'fumbled': 2837, '—for': 2838, 'xii': 2839, 'flurry': 2840, 'tipped': 2841, 'skirt': 2842, 'upsetting': 2843, 'sprawling': 2844, 'reminding': 2845, 'globe': 2846, 'accidentally': 2847, 'dismay': 2848, 'vague': 2849, 'die': 2850, 'places—': 2851, 'emphasis': 2852, 'haste': 2853, 'downwards': 2854, 'unable': 2855, 'signifies': 2856, 'shock': 2857, 'pencils': 2858, 'diligently': 2859, 'overcome': 2860, 'gazing': 2861, 'respectful': 2862, 'important—unimportant—unimportant—important—”': 2863, 'unimportant': 2864, 'cackled': 2865, 'persons': 2866, 'invented': 2867, 'oldest': 2868, 'to—to': 2869, 'handwriting': 2870, 'queerest': 2871, 'imitated': 2872, 'prove': 2873, 'sign': 2874, 'mischief': 2875, 'honest': 2876, 'clapping': 2877, 'guilt': 2878, 'character': 2879, 'push': 2880, 'involved': 2881, 'affair': 2882, 'trusts': 2883, 'obstacle': 2884, 'ourselves': 2885, 'secret': 2886, 'jury—”': 2887, 'sixpence': 2888, 'attempted': 2889, 'saves': 2890, 'spreading': 2891, 'cardboard': 2892, 'course—‘': 2893, 'clearer': 2894, 'again—‘': 2895, 'fits': 2896, 'furiously': 2897, 'inkstand': 2898, 'ink': 2899, 'trickling': 2900, 'pun': 2901, 'twentieth': 2902, 'first—verdict': 2903, 'purple': 2904, 'flying': 2905, 'brushing': 2906, 'fluttered': 2907, 'kissed': 2908, 'setting': 2909, 'dreaming': 2910, 'dreamed': 2911, 'clasped': 2912, 'hers—she': 2913, 'toss': 2914, 'eyes—and': 2915, 'listened': 2916, 'rustled': 2917, 'by—the': 2918, 'splashed': 2919, 'neighbouring': 2920, 'pool—she': 2921, 'rattle': 2922, 'meal': 2923, 'execution—once': 2924, 'crashed': 2925, 'it—once': 2926, 'choking': 2927, 'believed': 2928, 'reality—the': 2929, 'rustling': 2930, 'rippling': 2931, 'reeds—the': 2932, 'tinkling': 2933, 'sheep': 2934, 'bells': 2935, 'cries': 2936, 'shepherd': 2937, 'boy—and': 2938, 'noises': 2939, 'clamour': 2940, 'farm': 2941, 'yard—while': 2942, 'lowing': 2943, 'cattle': 2944, 'lastly': 2945, 'pictured': 2946, 'woman': 2947, 'riper': 2948, 'loving': 2949, 'childhood': 2950, 'gather': 2951, 'sorrows': 2952, 'joys': 2953, 'remembering': 2954, 'happy': 2955, 'named': 2956, 'txt': 2957, 'zip': 2958, 'https': 2959, '//www': 2960, 'org/1/11/': 2961, 'updated': 2962, 'replace': 2963, 'previous': 2964, 'renamed': 2965, 'print': 2966, 'special': 2967, 'apply': 2968, 'creation': 2969, 'reports': 2970, 'performances': 2971, 'modified': 2972, 'practically': 2973, 'especially': 2974, 'commercial': 2975, 'org/license': 2976, 'indicate': 2977, 'accept': 2978, 'trademark/copyright': 2979, 'cease': 2980, 'possession': 2981, 'lot': 2982, 'preserve': 2983, 'pglaf': 2984, 'compilation': 2985, 'unprotected': 2986, 'claim': 2987, 'attached': 2988, 'govern': 2989, 'countries': 2990, 'addition': 2991, 'downloading': 2992, 'representations': 2993, 'appears': 2994, 'accessed': 2995, 'displayed': 2996, 'performed': 2997, 'viewed': 2998, 'restrictions': 2999, 'whatsoever': 3000, 'derived': 3001, 'texts': 3002, 'indicating': 3003, 'imposed': 3004, 'unlink': 3005, 'detach': 3006, 'remove': 3007, 'containing': 3008, 'display': 3009, 'perform': 3010, 'redistribute': 3011, 'convert': 3012, 'binary': 3013, 'compressed': 3014, 'nonproprietary': 3015, 'proprietary': 3016, 'processing': 3017, 'hypertext': 3018, 'version': 3019, 'expense': 3020, 'exporting': 3021, 'request': 3022, 'original': 3023, 'alternate': 3024, 'include': 3025, 'viewing': 3026, 'pay': 3027, '20%': 3028, 'gross': 3029, 'profits': 3030, 'derive': 3031, 'calculated': 3032, 'method': 3033, 'calculate': 3034, 'taxes': 3035, 'owed': 3036, 'agreed': 3037, '60': 3038, 'legally': 3039, 'required': 3040, 'periodic': 3041, 'returns': 3042, 'address': 3043, 'notifies': 3044, 'mail': 3045, '30': 3046, 's/he': 3047, 'require': 3048, 'possessed': 3049, 'discontinue': 3050, 'discovered': 3051, 'reported': 3052, 'group': 3053, 'manager': 3054, 'employees': 3055, 'expend': 3056, 'identify': 3057, 'transcribe': 3058, 'proofread': 3059, 'despite': 3060, 'stored': 3061, 'defects': 3062, 'incomplete': 3063, 'inaccurate': 3064, 'corrupt': 3065, 'data': 3066, 'transcription': 3067, 'errors': 3068, 'infringement': 3069, 'damaged': 3070, 'disk': 3071, 'virus': 3072, 'codes': 3073, 'described': 3074, 'disclaim': 3075, 'remedies': 3076, 'negligence': 3077, 'strict': 3078, 'contract': 3079, 'distributor': 3080, 'liable': 3081, 'actual': 3082, 'direct': 3083, 'indirect': 3084, 'consequential': 3085, 'punitive': 3086, 'incidental': 3087, 'possibility': 3088, 'discover': 3089, 'receiving': 3090, 'elect': 3091, 'choose': 3092, 'demand': 3093, 'opportunities': 3094, 'problem': 3095, 'express': 3096, 'merchantability': 3097, 'fitness': 3098, 'disclaimers': 3099, 'exclusion': 3100, 'types': 3101, 'violates': 3102, 'interpreted': 3103, 'maximum': 3104, 'invalidity': 3105, 'unenforceability': 3106, 'provision': 3107, 'void': 3108, 'provisions': 3109, 'indemnity': 3110, 'indemnify': 3111, 'agent': 3112, 'employee': 3113, 'production': 3114, 'promotion': 3115, 'harmless': 3116, 'arise': 3117, 'indirectly': 3118, 'occur': 3119, 'alteration': 3120, 'modification': 3121, 'additions': 3122, 'deletions': 3123, 'synonymous': 3124, 'variety': 3125, 'obsolete': 3126, 'aged': 3127, 'exists': 3128, 'hundreds': 3129, 'walks': 3130, 'financial': 3131, 'assistance': 3132, 'need': 3133, 'critical': 3134, 'goals': 3135, 'ensuring': 3136, '2001': 3137, 'secure': 3138, 'permanent': 3139, 'sections': 3140, 'non': 3141, 'profit': 3142, '501': 3143, 'educational': 3144, 'corporation': 3145, 'organized': 3146, 'mississippi': 3147, 'granted': 3148, 'internal': 3149, 'revenue': 3150, 'service': 3151, 'ein': 3152, 'identification': 3153, '64': 3154, '6221541': 3155, 'deductible': 3156, 'extent': 3157, 'office': 3158, '809': 3159, 'north': 3160, '1500': 3161, 'west': 3162, 'lake': 3163, 'city': 3164, 'ut': 3165, '84116': 3166, '801': 3167, '596': 3168, '1887': 3169, 'org/contact': 3170, 'survive': 3171, 'widespread': 3172, 'increasing': 3173, 'licensed': 3174, 'machine': 3175, 'accessible': 3176, 'array': 3177, 'outdated': 3178, '$1': 3179, '$5': 3180, '000': 3181, 'particularly': 3182, 'maintaining': 3183, 'irs': 3184, 'committed': 3185, 'regulating': 3186, 'charities': 3187, 'charitable': 3188, '50': 3189, 'uniform': 3190, 'paperwork': 3191, 'locations': 3192, 'confirmation': 3193, 'determine': 3194, 'solicitation': 3195, 'prohibition': 3196, 'accepting': 3197, 'unsolicited': 3198, 'donors': 3199, 'approach': 3200, 'offers': 3201, 'international': 3202, 'gratefully': 3203, 'statements': 3204, 'treatment': 3205, 'swamp': 3206, 'staff': 3207, 'web': 3208, 'pages': 3209, 'current': 3210, 'donation': 3211, 'methods': 3212, 'addresses': 3213, 'checks': 3214, 'credit': 3215, 'card': 3216, 'professor': 3217, 'michael': 3218, 'hart': 3219, 'originator': 3220, 'library': 3221, 'network': 3222, 'volunteer': 3223, 'confirmed': 3224, 'thus': 3225, 'necessarily': 3226, 'edition': 3227, 'main': 3228, 'pg': 3229, 'facility': 3230, 'includes': 3231, 'produce': 3232, 'subscribe': 3233, 'newsletter': 3234, 'UNKNOWN': 3235}\n"
          ]
        }
      ]
    },
    {
      "cell_type": "markdown",
      "metadata": {
        "id": "phoFIhHJMrFT"
      },
      "source": [
        "### 인코딩 실행\n",
        "문장을 사전 index 번호로 인코딩"
      ]
    },
    {
      "cell_type": "code",
      "metadata": {
        "colab": {
          "base_uri": "https://localhost:8080/"
        },
        "id": "WqVzCEbY0ftW",
        "outputId": "056d9c58-38e5-4735-e887-20486689105c"
      },
      "source": [
        "encoded_words = []\n",
        "for word in raw_words:\n",
        "  if not word in word2index: word = UNKNOWN\n",
        "  encoded_words.append(word2index[word])\n",
        "\n",
        "print(\"raw_words =\", raw_words[:20])\n",
        "# raw_words = ['alice', '’', 's', 'adventures', 'in', ...\n",
        "print(\"encoded_words =\", encoded_words[:20])\n",
        "# encoded_words = [18, 7, 28, 536, 17, 777, ..."
      ],
      "execution_count": 129,
      "outputs": [
        {
          "output_type": "stream",
          "name": "stdout",
          "text": [
            "raw_words = ['alice', '’', 's', 'adventures', 'in', 'wonderland', 'by', 'lewis', 'carroll', 'chapter', 'i', '.', 'down', 'the', 'rabbit', '-', 'hole', 'alice', 'was', 'beginning']\n",
            "encoded_words = [17, 7, 27, 535, 16, 776, 62, 1700, 1701, 343, 12, 2, 51, 1, 112, 26, 777, 17, 18, 292]\n"
          ]
        }
      ]
    },
    {
      "cell_type": "markdown",
      "metadata": {
        "id": "ZtpAodg-DFJZ"
      },
      "source": [
        "## 학습 데이터 샘플링"
      ]
    },
    {
      "cell_type": "code",
      "metadata": {
        "id": "jEGjFxx913dS"
      },
      "source": [
        "WINDOW_SIZE = 12"
      ],
      "execution_count": 130,
      "outputs": []
    },
    {
      "cell_type": "code",
      "metadata": {
        "colab": {
          "base_uri": "https://localhost:8080/"
        },
        "id": "BeF8DxiUsYd8",
        "outputId": "21377c9f-ff43-4a05-a96a-aa8b0bc85261"
      },
      "source": [
        "raw_x = []\n",
        "raw_y = []\n",
        "\n",
        "HALF_WINDOW_SIZE = int(WINDOW_SIZE/2)\n",
        "DO_SHOW_SAMPEL = True\n",
        "\n",
        "#     A B C D E F G H I J K L M N O P Q R S T U V W X Y Z\n",
        "#     <------->( )<------->\n",
        "#\n",
        "# x = A B C D E   G H I J K\n",
        "# y =           F\n",
        "\n",
        "s_x = None\n",
        "s_y = None\n",
        "s = None\n",
        "for i in range(len(encoded_words)):\n",
        "  if i + HALF_WINDOW_SIZE + 1 + HALF_WINDOW_SIZE - 1 >= len(encoded_words): break\n",
        "  a_x = []\n",
        "  a_x.extend(encoded_words[i:i+HALF_WINDOW_SIZE])\n",
        "  a_x.extend(encoded_words[i+HALF_WINDOW_SIZE+1:i+WINDOW_SIZE+1])\n",
        "  raw_x.append(a_x)\n",
        "  raw_y.append(encoded_words[i+HALF_WINDOW_SIZE])\n",
        "  if i==940 and DO_SHOW_SAMPEL:\n",
        "    print(\" \".join(raw_words[i:i+WINDOW_SIZE+1]))\n",
        "    print(raw_words[i+HALF_WINDOW_SIZE])\n",
        "    print(encoded_words[i:i+WINDOW_SIZE+1])\n",
        "    print(raw_x[-1])\n",
        "    print(raw_y[-1])"
      ],
      "execution_count": 131,
      "outputs": [
        {
          "output_type": "stream",
          "name": "stdout",
          "text": [
            "['down', '.', 'there', 'was', 'nothing', 'else']\n",
            "['do', ',', 'so', 'alice', 'soon', 'began']\n",
            "down . there was nothing else to do , so alice soon began\n",
            "to\n",
            "[51, 2, 52, 18, 154, 345, 6, 53, 0, 40, 17, 200, 94]\n",
            "[51, 2, 52, 18, 154, 345, 53, 0, 40, 17, 200, 94]\n",
            "6\n"
          ]
        }
      ]
    },
    {
      "cell_type": "code",
      "metadata": {
        "colab": {
          "base_uri": "https://localhost:8080/"
        },
        "id": "RJAoYyXKK111",
        "outputId": "f06787b7-02b6-4c24-9f0e-bf376d8e3da4"
      },
      "source": [
        "import numpy as np\n",
        "raw_x = np.array(raw_x)\n",
        "raw_y = np.array(raw_y)\n",
        "\n",
        "print(raw_x.shape)\n",
        "print(raw_y.shape)"
      ],
      "execution_count": 132,
      "outputs": [
        {
          "output_type": "stream",
          "name": "stdout",
          "text": [
            "(38526, 12)\n",
            "(38526,)\n"
          ]
        }
      ]
    },
    {
      "cell_type": "markdown",
      "metadata": {
        "id": "9vQtlLc_DOYN"
      },
      "source": [
        "## 학습 / 성능 데이터 나누기"
      ]
    },
    {
      "cell_type": "code",
      "metadata": {
        "id": "rwxSggADLP5F"
      },
      "source": [
        "from sklearn.model_selection import train_test_split\n",
        "\n",
        "train_x, test_x, train_y, test_y = train_test_split(raw_x, raw_y, test_size=0.1, shuffle=True)"
      ],
      "execution_count": 188,
      "outputs": []
    },
    {
      "cell_type": "markdown",
      "metadata": {
        "id": "ii92pPMy8USb"
      },
      "source": [
        "## 준비된 데이터\n",
        "\n",
        "입력 x는 12개 순차열 단어이며, 실제 값은 각 단어의 사전 index 이다.\n",
        "\n",
        "출력 y값 역시 빠진 괄호의 단어에 해당하는 사전 index값을 y로 한다."
      ]
    },
    {
      "cell_type": "code",
      "metadata": {
        "colab": {
          "base_uri": "https://localhost:8080/"
        },
        "id": "T0FgyNSS8MYX",
        "outputId": "db7b6053-0b38-465b-dc92-c9fbd85a1ee5"
      },
      "source": [
        "print(train_x.shape)\n",
        "print(train_y.shape)\n",
        "print(test_x.shape)\n",
        "print(test_y.shape)"
      ],
      "execution_count": 189,
      "outputs": [
        {
          "output_type": "stream",
          "name": "stdout",
          "text": [
            "(34673, 12)\n",
            "(34673,)\n",
            "(3853, 12)\n",
            "(3853,)\n"
          ]
        }
      ]
    },
    {
      "cell_type": "code",
      "metadata": {
        "colab": {
          "base_uri": "https://localhost:8080/"
        },
        "id": "IJPYXsvT8OF3",
        "outputId": "42b5f807-66b3-4e08-9be0-866dcf80f243"
      },
      "source": [
        "print(train_x[:5])\n",
        "print(train_y[:5])"
      ],
      "execution_count": 169,
      "outputs": [
        {
          "output_type": "stream",
          "name": "stdout",
          "text": [
            "[[  69   11   18    8   43 1474 2339    1  586  152  394   28]\n",
            " [ 545   10   32  151    2   36  429  255  317  113   20   11]\n",
            " [  12  178   59    6 1015   13    8   43  484   26 1900 1901]\n",
            " [  57  141    8   43  996    9   28    1  949    2   17  281]\n",
            " [  17 1082   21  358    0    5   22  206    3   13   74  230]]\n",
            "[ 62  21  15 235  94]\n"
          ]
        }
      ]
    },
    {
      "cell_type": "markdown",
      "metadata": {
        "id": "gAqBtyHPDRd5"
      },
      "source": [
        "생성된 데이터를 보면"
      ]
    },
    {
      "cell_type": "code",
      "metadata": {
        "colab": {
          "base_uri": "https://localhost:8080/"
        },
        "id": "zoAKnBOaLWeR",
        "outputId": "1584c08b-dac1-40d9-e2a6-e31d94742700"
      },
      "source": [
        "def decode(x, y, truth=None):\n",
        "  decoded = []\n",
        "  for i in range(HALF_WINDOW_SIZE):\n",
        "    decoded.append(index2word[x[i]])\n",
        "  decoded.append(\"( ??? )\")\n",
        "  for i in range(HALF_WINDOW_SIZE,WINDOW_SIZE):\n",
        "    decoded.append(index2word[x[i]])\n",
        "  decoded.append(\"  PREDICTED={}\".format(index2word[y]))\n",
        "  if truth != None:\n",
        "    decoded.append(\" TRUTH={}\".format(index2word[truth]))\n",
        "  return decoded\n",
        "\n",
        "print(\" \".join(decode(train_x[0], train_y[0], train_y[0])))\n"
      ],
      "execution_count": 134,
      "outputs": [
        {
          "output_type": "stream",
          "name": "stdout",
          "text": [
            "sent to the project gutenberg literary ( ??? ) foundation at the address specified in   PREDICTED=archive\n"
          ]
        }
      ]
    },
    {
      "cell_type": "code",
      "metadata": {
        "id": "xbx2armn8Hon"
      },
      "source": [
        ""
      ],
      "execution_count": null,
      "outputs": []
    },
    {
      "cell_type": "markdown",
      "metadata": {
        "id": "QbzNnmdEU8co"
      },
      "source": [
        "# Template"
      ]
    },
    {
      "cell_type": "code",
      "metadata": {
        "colab": {
          "base_uri": "https://localhost:8080/",
          "height": 1000
        },
        "id": "ZcL5pf_4BfPq",
        "outputId": "9e8cb597-f7bb-43dc-b4ff-71c260af1646"
      },
      "source": [
        "from tensorflow.keras.preprocessing import sequence\n",
        "from tensorflow.keras.models import Sequential\n",
        "from tensorflow.keras.layers import Input, Dense, Dropout, Activation, BatchNormalization\n",
        "from tensorflow.keras.layers import Embedding\n",
        "from tensorflow.keras.layers import Conv1D, GlobalMaxPooling1D, Bidirectional, LSTM\n",
        "from tensorflow.keras.callbacks import ReduceLROnPlateau\n",
        "\n",
        "EMBEDDING_SIZE = 32 # 단어를 임베딩할 벡터 크기\n",
        "\n",
        "model = Sequential()\n",
        "model.add(Input(WINDOW_SIZE))\n",
        "model.add(Embedding(VOCA_SIZE, EMBEDDING_SIZE))\n",
        "model.add(Dropout(0.2))\n",
        "model.add(Bidirectional(LSTM(128)))\n",
        "model.add(BatchNormalization())\n",
        "model.add(Dropout(0.2))\n",
        "model.add(Dense(100, activation=\"relu\"))\n",
        "model.add(BatchNormalization())\n",
        "model.add(Dropout(0.2))\n",
        "model.add(Dense(VOCA_SIZE, activation=\"softmax\"))\n",
        "\n",
        "model.compile(loss='sparse_categorical_crossentropy', optimizer='adam', metrics=['accuracy'])\n",
        "model.summary()\n",
        "\n",
        "history = model.fit(train_x, train_y, batch_size=64, epochs=100, validation_split=0.1)\n",
        "\n",
        "\n",
        "# 성능 그래프 그리기\n",
        "import matplotlib.pyplot as plt\n",
        "\n",
        "plt.plot(history.history['accuracy'], label=\"accuracy\")\n",
        "plt.plot(history.history['val_accuracy'], label=\"val_accuracy\")\n",
        "plt.legend()\n",
        "plt.show()\n",
        "\n",
        "\n",
        "\n",
        "# 평가\n",
        "loss, acc = model.evaluate(test_x, test_y)\n",
        "print(\"loss =\", loss)\n",
        "print(\"acc =\", acc)\n",
        "\n",
        "\n",
        "# 실제 예측\n",
        "y_ = model.predict(test_x)\n",
        "predicted = np.argmax(y_, axis=-1)\n",
        "\n",
        "for i in range(10):\n",
        "  print(\" \".join(decode(test_x[i], predicted[i], test_y[i])))"
      ],
      "execution_count": 193,
      "outputs": [
        {
          "output_type": "stream",
          "name": "stdout",
          "text": [
            "Model: \"sequential_8\"\n",
            "_________________________________________________________________\n",
            "Layer (type)                 Output Shape              Param #   \n",
            "=================================================================\n",
            "embedding_8 (Embedding)      (None, 12, 32)            128000    \n",
            "_________________________________________________________________\n",
            "dropout_28 (Dropout)         (None, 12, 32)            0         \n",
            "_________________________________________________________________\n",
            "bidirectional_4 (Bidirection (None, 256)               164864    \n",
            "_________________________________________________________________\n",
            "batch_normalization_9 (Batch (None, 256)               1024      \n",
            "_________________________________________________________________\n",
            "dropout_29 (Dropout)         (None, 256)               0         \n",
            "_________________________________________________________________\n",
            "dense_16 (Dense)             (None, 100)               25700     \n",
            "_________________________________________________________________\n",
            "batch_normalization_10 (Batc (None, 100)               400       \n",
            "_________________________________________________________________\n",
            "dropout_30 (Dropout)         (None, 100)               0         \n",
            "_________________________________________________________________\n",
            "dense_17 (Dense)             (None, 4000)              404000    \n",
            "=================================================================\n",
            "Total params: 723,988\n",
            "Trainable params: 723,276\n",
            "Non-trainable params: 712\n",
            "_________________________________________________________________\n",
            "Epoch 1/100\n",
            "488/488 [==============================] - 10s 13ms/step - loss: 6.4404 - accuracy: 0.1039 - val_loss: 5.7914 - val_accuracy: 0.1064\n",
            "Epoch 2/100\n",
            "488/488 [==============================] - 5s 10ms/step - loss: 4.8605 - accuracy: 0.2107 - val_loss: 8.2515 - val_accuracy: 0.0559\n",
            "Epoch 3/100\n",
            "488/488 [==============================] - 5s 10ms/step - loss: 4.3034 - accuracy: 0.2602 - val_loss: 8.6219 - val_accuracy: 0.0810\n",
            "Epoch 4/100\n",
            "488/488 [==============================] - 5s 10ms/step - loss: 3.9155 - accuracy: 0.2947 - val_loss: 9.7403 - val_accuracy: 0.0219\n",
            "Epoch 5/100\n",
            "488/488 [==============================] - 5s 10ms/step - loss: 3.6374 - accuracy: 0.3199 - val_loss: 7.8763 - val_accuracy: 0.0678\n",
            "Epoch 6/100\n",
            "488/488 [==============================] - 5s 10ms/step - loss: 3.4174 - accuracy: 0.3373 - val_loss: 5.2906 - val_accuracy: 0.2203\n",
            "Epoch 7/100\n",
            "488/488 [==============================] - 5s 10ms/step - loss: 3.2224 - accuracy: 0.3586 - val_loss: 4.7189 - val_accuracy: 0.2659\n",
            "Epoch 8/100\n",
            "488/488 [==============================] - 5s 10ms/step - loss: 3.0652 - accuracy: 0.3725 - val_loss: 4.4971 - val_accuracy: 0.2811\n",
            "Epoch 9/100\n",
            "488/488 [==============================] - 5s 10ms/step - loss: 2.9087 - accuracy: 0.3914 - val_loss: 5.8457 - val_accuracy: 0.1548\n",
            "Epoch 10/100\n",
            "488/488 [==============================] - 5s 10ms/step - loss: 2.7777 - accuracy: 0.4020 - val_loss: 6.1059 - val_accuracy: 0.1955\n",
            "Epoch 11/100\n",
            "488/488 [==============================] - 5s 10ms/step - loss: 2.6776 - accuracy: 0.4169 - val_loss: 4.8407 - val_accuracy: 0.2895\n",
            "Epoch 12/100\n",
            "488/488 [==============================] - 5s 10ms/step - loss: 2.5694 - accuracy: 0.4302 - val_loss: 4.9860 - val_accuracy: 0.3005\n",
            "Epoch 13/100\n",
            "488/488 [==============================] - 5s 10ms/step - loss: 2.4771 - accuracy: 0.4390 - val_loss: 4.6960 - val_accuracy: 0.3085\n",
            "Epoch 14/100\n",
            "488/488 [==============================] - 5s 10ms/step - loss: 2.3907 - accuracy: 0.4555 - val_loss: 4.7107 - val_accuracy: 0.3074\n",
            "Epoch 15/100\n",
            "488/488 [==============================] - 5s 10ms/step - loss: 2.3008 - accuracy: 0.4681 - val_loss: 4.8083 - val_accuracy: 0.3071\n",
            "Epoch 16/100\n",
            "488/488 [==============================] - 5s 10ms/step - loss: 2.2451 - accuracy: 0.4753 - val_loss: 5.3393 - val_accuracy: 0.2921\n",
            "Epoch 17/100\n",
            "488/488 [==============================] - 5s 10ms/step - loss: 2.1735 - accuracy: 0.4904 - val_loss: 5.1434 - val_accuracy: 0.3097\n",
            "Epoch 18/100\n",
            "488/488 [==============================] - 5s 10ms/step - loss: 2.1253 - accuracy: 0.4954 - val_loss: 4.8659 - val_accuracy: 0.3250\n",
            "Epoch 19/100\n",
            "488/488 [==============================] - 5s 10ms/step - loss: 2.0754 - accuracy: 0.5086 - val_loss: 5.4612 - val_accuracy: 0.2878\n",
            "Epoch 20/100\n",
            "488/488 [==============================] - 5s 10ms/step - loss: 2.0181 - accuracy: 0.5173 - val_loss: 4.7189 - val_accuracy: 0.3423\n",
            "Epoch 21/100\n",
            "488/488 [==============================] - 5s 10ms/step - loss: 1.9739 - accuracy: 0.5207 - val_loss: 5.0377 - val_accuracy: 0.3172\n",
            "Epoch 22/100\n",
            "488/488 [==============================] - 5s 10ms/step - loss: 1.9553 - accuracy: 0.5276 - val_loss: 5.2311 - val_accuracy: 0.3175\n",
            "Epoch 23/100\n",
            "488/488 [==============================] - 5s 10ms/step - loss: 1.8947 - accuracy: 0.5370 - val_loss: 5.1340 - val_accuracy: 0.3117\n",
            "Epoch 24/100\n",
            "488/488 [==============================] - 5s 10ms/step - loss: 1.8576 - accuracy: 0.5438 - val_loss: 4.9375 - val_accuracy: 0.3356\n",
            "Epoch 25/100\n",
            "488/488 [==============================] - 5s 10ms/step - loss: 1.8301 - accuracy: 0.5478 - val_loss: 5.3610 - val_accuracy: 0.2800\n",
            "Epoch 26/100\n",
            "488/488 [==============================] - 5s 10ms/step - loss: 1.8028 - accuracy: 0.5518 - val_loss: 5.0458 - val_accuracy: 0.3253\n",
            "Epoch 27/100\n",
            "488/488 [==============================] - 5s 10ms/step - loss: 1.7761 - accuracy: 0.5582 - val_loss: 5.1243 - val_accuracy: 0.3123\n",
            "Epoch 28/100\n",
            "488/488 [==============================] - 5s 10ms/step - loss: 1.7578 - accuracy: 0.5593 - val_loss: 5.2364 - val_accuracy: 0.3348\n",
            "Epoch 29/100\n",
            "488/488 [==============================] - 5s 10ms/step - loss: 1.7101 - accuracy: 0.5681 - val_loss: 5.1044 - val_accuracy: 0.3405\n",
            "Epoch 30/100\n",
            "488/488 [==============================] - 5s 10ms/step - loss: 1.7051 - accuracy: 0.5704 - val_loss: 5.3367 - val_accuracy: 0.3195\n",
            "Epoch 31/100\n",
            "488/488 [==============================] - 5s 10ms/step - loss: 1.6677 - accuracy: 0.5760 - val_loss: 5.0486 - val_accuracy: 0.3501\n",
            "Epoch 32/100\n",
            "488/488 [==============================] - 5s 10ms/step - loss: 1.6302 - accuracy: 0.5832 - val_loss: 4.9148 - val_accuracy: 0.3486\n",
            "Epoch 33/100\n",
            "488/488 [==============================] - 5s 10ms/step - loss: 1.6179 - accuracy: 0.5857 - val_loss: 5.0248 - val_accuracy: 0.3587\n",
            "Epoch 34/100\n",
            "488/488 [==============================] - 5s 10ms/step - loss: 1.6067 - accuracy: 0.5902 - val_loss: 4.9021 - val_accuracy: 0.3705\n",
            "Epoch 35/100\n",
            "488/488 [==============================] - 5s 10ms/step - loss: 1.5940 - accuracy: 0.5904 - val_loss: 4.9626 - val_accuracy: 0.3472\n",
            "Epoch 36/100\n",
            "488/488 [==============================] - 5s 10ms/step - loss: 1.5624 - accuracy: 0.6003 - val_loss: 4.9246 - val_accuracy: 0.3728\n",
            "Epoch 37/100\n",
            "488/488 [==============================] - 5s 10ms/step - loss: 1.5464 - accuracy: 0.6022 - val_loss: 5.0180 - val_accuracy: 0.3590\n",
            "Epoch 38/100\n",
            "488/488 [==============================] - 5s 10ms/step - loss: 1.5319 - accuracy: 0.6074 - val_loss: 4.9552 - val_accuracy: 0.3625\n",
            "Epoch 39/100\n",
            "488/488 [==============================] - 5s 10ms/step - loss: 1.5147 - accuracy: 0.6055 - val_loss: 5.0555 - val_accuracy: 0.3492\n",
            "Epoch 40/100\n",
            "488/488 [==============================] - 5s 10ms/step - loss: 1.4931 - accuracy: 0.6116 - val_loss: 5.1147 - val_accuracy: 0.3544\n",
            "Epoch 41/100\n",
            "488/488 [==============================] - 5s 10ms/step - loss: 1.4705 - accuracy: 0.6146 - val_loss: 5.0466 - val_accuracy: 0.3749\n",
            "Epoch 42/100\n",
            "488/488 [==============================] - 5s 10ms/step - loss: 1.4562 - accuracy: 0.6186 - val_loss: 5.0421 - val_accuracy: 0.3766\n",
            "Epoch 43/100\n",
            "488/488 [==============================] - 5s 10ms/step - loss: 1.4486 - accuracy: 0.6186 - val_loss: 5.0156 - val_accuracy: 0.3749\n",
            "Epoch 44/100\n",
            "488/488 [==============================] - 5s 10ms/step - loss: 1.4328 - accuracy: 0.6246 - val_loss: 5.0314 - val_accuracy: 0.3734\n",
            "Epoch 45/100\n",
            "488/488 [==============================] - 5s 10ms/step - loss: 1.4241 - accuracy: 0.6251 - val_loss: 4.9259 - val_accuracy: 0.3760\n",
            "Epoch 46/100\n",
            "488/488 [==============================] - 5s 10ms/step - loss: 1.4131 - accuracy: 0.6287 - val_loss: 5.0397 - val_accuracy: 0.3731\n",
            "Epoch 47/100\n",
            "488/488 [==============================] - 5s 10ms/step - loss: 1.3872 - accuracy: 0.6350 - val_loss: 4.9961 - val_accuracy: 0.3772\n",
            "Epoch 48/100\n",
            "488/488 [==============================] - 5s 10ms/step - loss: 1.3674 - accuracy: 0.6330 - val_loss: 5.0444 - val_accuracy: 0.3662\n",
            "Epoch 49/100\n",
            "488/488 [==============================] - 5s 10ms/step - loss: 1.3682 - accuracy: 0.6361 - val_loss: 4.9578 - val_accuracy: 0.3751\n",
            "Epoch 50/100\n",
            "488/488 [==============================] - 5s 10ms/step - loss: 1.3487 - accuracy: 0.6427 - val_loss: 4.9565 - val_accuracy: 0.3723\n",
            "Epoch 51/100\n",
            "488/488 [==============================] - 5s 10ms/step - loss: 1.3354 - accuracy: 0.6439 - val_loss: 5.0985 - val_accuracy: 0.3737\n",
            "Epoch 52/100\n",
            "488/488 [==============================] - 5s 10ms/step - loss: 1.3340 - accuracy: 0.6446 - val_loss: 5.0426 - val_accuracy: 0.3642\n",
            "Epoch 53/100\n",
            "488/488 [==============================] - 5s 10ms/step - loss: 1.3088 - accuracy: 0.6486 - val_loss: 5.0021 - val_accuracy: 0.3800\n",
            "Epoch 54/100\n",
            "488/488 [==============================] - 5s 10ms/step - loss: 1.3119 - accuracy: 0.6480 - val_loss: 4.9773 - val_accuracy: 0.3798\n",
            "Epoch 55/100\n",
            "488/488 [==============================] - 5s 10ms/step - loss: 1.3022 - accuracy: 0.6504 - val_loss: 5.0423 - val_accuracy: 0.3740\n",
            "Epoch 56/100\n",
            "488/488 [==============================] - 5s 10ms/step - loss: 1.2678 - accuracy: 0.6613 - val_loss: 5.0322 - val_accuracy: 0.3734\n",
            "Epoch 57/100\n",
            "488/488 [==============================] - 5s 10ms/step - loss: 1.2667 - accuracy: 0.6597 - val_loss: 5.0296 - val_accuracy: 0.3746\n",
            "Epoch 58/100\n",
            "488/488 [==============================] - 5s 10ms/step - loss: 1.2656 - accuracy: 0.6602 - val_loss: 5.0230 - val_accuracy: 0.3786\n",
            "Epoch 59/100\n",
            "488/488 [==============================] - 5s 10ms/step - loss: 1.2609 - accuracy: 0.6594 - val_loss: 4.9809 - val_accuracy: 0.3795\n",
            "Epoch 60/100\n",
            "488/488 [==============================] - 5s 10ms/step - loss: 1.2367 - accuracy: 0.6668 - val_loss: 4.9811 - val_accuracy: 0.3749\n",
            "Epoch 61/100\n",
            "488/488 [==============================] - 5s 10ms/step - loss: 1.2011 - accuracy: 0.6722 - val_loss: 5.1002 - val_accuracy: 0.3725\n",
            "Epoch 62/100\n",
            "488/488 [==============================] - 5s 10ms/step - loss: 1.2125 - accuracy: 0.6716 - val_loss: 5.1067 - val_accuracy: 0.3829\n",
            "Epoch 63/100\n",
            "488/488 [==============================] - 5s 10ms/step - loss: 1.2077 - accuracy: 0.6704 - val_loss: 5.0936 - val_accuracy: 0.3708\n",
            "Epoch 64/100\n",
            "488/488 [==============================] - 5s 10ms/step - loss: 1.1975 - accuracy: 0.6714 - val_loss: 5.1162 - val_accuracy: 0.3812\n",
            "Epoch 65/100\n",
            "488/488 [==============================] - 5s 10ms/step - loss: 1.1773 - accuracy: 0.6760 - val_loss: 5.0785 - val_accuracy: 0.3691\n",
            "Epoch 66/100\n",
            "488/488 [==============================] - 5s 10ms/step - loss: 1.1703 - accuracy: 0.6827 - val_loss: 5.0654 - val_accuracy: 0.3763\n",
            "Epoch 67/100\n",
            "488/488 [==============================] - 5s 10ms/step - loss: 1.1480 - accuracy: 0.6850 - val_loss: 5.1829 - val_accuracy: 0.3849\n",
            "Epoch 68/100\n",
            "488/488 [==============================] - 5s 10ms/step - loss: 1.1469 - accuracy: 0.6861 - val_loss: 5.1103 - val_accuracy: 0.3841\n",
            "Epoch 69/100\n",
            "488/488 [==============================] - 5s 10ms/step - loss: 1.1401 - accuracy: 0.6878 - val_loss: 5.2116 - val_accuracy: 0.3826\n",
            "Epoch 70/100\n",
            "488/488 [==============================] - 5s 10ms/step - loss: 1.1342 - accuracy: 0.6893 - val_loss: 5.0524 - val_accuracy: 0.3847\n",
            "Epoch 71/100\n",
            "488/488 [==============================] - 5s 10ms/step - loss: 1.1108 - accuracy: 0.6951 - val_loss: 5.1105 - val_accuracy: 0.3829\n",
            "Epoch 72/100\n",
            "488/488 [==============================] - 5s 11ms/step - loss: 1.1218 - accuracy: 0.6931 - val_loss: 5.0983 - val_accuracy: 0.3849\n",
            "Epoch 73/100\n",
            "488/488 [==============================] - 5s 11ms/step - loss: 1.1125 - accuracy: 0.6945 - val_loss: 5.1408 - val_accuracy: 0.3829\n",
            "Epoch 74/100\n",
            "488/488 [==============================] - 5s 10ms/step - loss: 1.0775 - accuracy: 0.7017 - val_loss: 5.1694 - val_accuracy: 0.3838\n",
            "Epoch 75/100\n",
            "488/488 [==============================] - 5s 10ms/step - loss: 1.0809 - accuracy: 0.6991 - val_loss: 5.1794 - val_accuracy: 0.3818\n",
            "Epoch 76/100\n",
            "488/488 [==============================] - 5s 10ms/step - loss: 1.0818 - accuracy: 0.6999 - val_loss: 5.1950 - val_accuracy: 0.3910\n",
            "Epoch 77/100\n",
            "488/488 [==============================] - 5s 10ms/step - loss: 1.0539 - accuracy: 0.7055 - val_loss: 5.1174 - val_accuracy: 0.3991\n",
            "Epoch 78/100\n",
            "488/488 [==============================] - 5s 10ms/step - loss: 1.0497 - accuracy: 0.7068 - val_loss: 5.1175 - val_accuracy: 0.3852\n",
            "Epoch 79/100\n",
            "488/488 [==============================] - 5s 10ms/step - loss: 1.0489 - accuracy: 0.7076 - val_loss: 5.1086 - val_accuracy: 0.3878\n",
            "Epoch 80/100\n",
            "488/488 [==============================] - 5s 10ms/step - loss: 1.0278 - accuracy: 0.7108 - val_loss: 5.1823 - val_accuracy: 0.3844\n",
            "Epoch 81/100\n",
            "488/488 [==============================] - 5s 10ms/step - loss: 1.0342 - accuracy: 0.7125 - val_loss: 5.1678 - val_accuracy: 0.3927\n",
            "Epoch 82/100\n",
            "488/488 [==============================] - 5s 10ms/step - loss: 1.0254 - accuracy: 0.7135 - val_loss: 5.1980 - val_accuracy: 0.3864\n",
            "Epoch 83/100\n",
            "488/488 [==============================] - 5s 10ms/step - loss: 1.0118 - accuracy: 0.7163 - val_loss: 5.1664 - val_accuracy: 0.3927\n",
            "Epoch 84/100\n",
            "488/488 [==============================] - 5s 10ms/step - loss: 0.9973 - accuracy: 0.7216 - val_loss: 5.1893 - val_accuracy: 0.3835\n",
            "Epoch 85/100\n",
            "488/488 [==============================] - 5s 10ms/step - loss: 0.9988 - accuracy: 0.7187 - val_loss: 5.2361 - val_accuracy: 0.3893\n",
            "Epoch 86/100\n",
            "488/488 [==============================] - 5s 10ms/step - loss: 0.9863 - accuracy: 0.7224 - val_loss: 5.1994 - val_accuracy: 0.3858\n",
            "Epoch 87/100\n",
            "488/488 [==============================] - 5s 10ms/step - loss: 0.9803 - accuracy: 0.7288 - val_loss: 5.1895 - val_accuracy: 0.3924\n",
            "Epoch 88/100\n",
            "488/488 [==============================] - 5s 10ms/step - loss: 0.9584 - accuracy: 0.7282 - val_loss: 5.2024 - val_accuracy: 0.3861\n",
            "Epoch 89/100\n",
            "488/488 [==============================] - 5s 10ms/step - loss: 0.9626 - accuracy: 0.7306 - val_loss: 5.2316 - val_accuracy: 0.3789\n",
            "Epoch 90/100\n",
            "488/488 [==============================] - 5s 10ms/step - loss: 0.9495 - accuracy: 0.7331 - val_loss: 5.1627 - val_accuracy: 0.3824\n",
            "Epoch 91/100\n",
            "488/488 [==============================] - 5s 10ms/step - loss: 0.9388 - accuracy: 0.7347 - val_loss: 5.1929 - val_accuracy: 0.3809\n",
            "Epoch 92/100\n",
            "488/488 [==============================] - 5s 10ms/step - loss: 0.9406 - accuracy: 0.7333 - val_loss: 5.2021 - val_accuracy: 0.3757\n",
            "Epoch 93/100\n",
            "488/488 [==============================] - 5s 10ms/step - loss: 0.9496 - accuracy: 0.7324 - val_loss: 5.2733 - val_accuracy: 0.3924\n",
            "Epoch 94/100\n",
            "488/488 [==============================] - 5s 10ms/step - loss: 0.9275 - accuracy: 0.7374 - val_loss: 5.1866 - val_accuracy: 0.3904\n",
            "Epoch 95/100\n",
            "488/488 [==============================] - 5s 10ms/step - loss: 0.9124 - accuracy: 0.7399 - val_loss: 5.2030 - val_accuracy: 0.3806\n",
            "Epoch 96/100\n",
            "488/488 [==============================] - 5s 10ms/step - loss: 0.9067 - accuracy: 0.7410 - val_loss: 5.2378 - val_accuracy: 0.3930\n",
            "Epoch 97/100\n",
            "488/488 [==============================] - 5s 10ms/step - loss: 0.9099 - accuracy: 0.7396 - val_loss: 5.2141 - val_accuracy: 0.3924\n",
            "Epoch 98/100\n",
            "488/488 [==============================] - 5s 10ms/step - loss: 0.8988 - accuracy: 0.7447 - val_loss: 5.1965 - val_accuracy: 0.3936\n",
            "Epoch 99/100\n",
            "488/488 [==============================] - 5s 10ms/step - loss: 0.8935 - accuracy: 0.7452 - val_loss: 5.2883 - val_accuracy: 0.3873\n",
            "Epoch 100/100\n",
            "488/488 [==============================] - 5s 10ms/step - loss: 0.8806 - accuracy: 0.7508 - val_loss: 5.2618 - val_accuracy: 0.3924\n"
          ]
        },
        {
          "output_type": "display_data",
          "data": {
            "image/png": "[encoded data removed]",
            "text/plain": [
              "<Figure size 432x288 with 1 Axes>"
            ]
          },
          "metadata": {
            "needs_background": "light"
          }
        },
        {
          "output_type": "stream",
          "name": "stdout",
          "text": [
            "121/121 [==============================] - 1s 4ms/step - loss: 5.1290 - accuracy: 0.3880\n",
            "loss = 5.129027843475342\n",
            "acc = 0.38800933957099915\n",
            "i ’ ve so often read ( ??? ) the newspapers , at the end   PREDICTED=on  TRUTH=in\n",
            ". alice thought this a very ( ??? ) thing , and she went nearer   PREDICTED=large  TRUTH=curious\n",
            "a long and a sad tale ( ??? ) ” said the mouse , turning   PREDICTED=,  TRUTH=!\n",
            "get hold of anything , but ( ??? ) heard a little shriek and a   PREDICTED=she  TRUTH=she\n",
            "with the permission of the copyright ( ??? ) , your use and distribution must   PREDICTED=holder  TRUTH=holder\n",
            "perhaps not , ” said alice ( ??? ) a soothing tone : “ don   PREDICTED=,  TRUTH=in\n",
            ". ” she got up and ( ??? ) to the table to measure herself   PREDICTED=ran  TRUTH=went\n",
            "little startled by seeing the cheshire ( ??? ) sitting on a bough of a   PREDICTED=down  TRUTH=cat\n",
            "on her face like the three ( ??? ) , but she could not remember   PREDICTED=of  TRUTH=gardeners\n",
            "all liability to you for damages ( ??? ) costs and expenses , including legal   PREDICTED=,  TRUTH=,\n"
          ]
        }
      ]
    },
    {
      "cell_type": "markdown",
      "metadata": {
        "id": "R71R7YWoAzBL"
      },
      "source": [
        "# 오버피팅 처리 안했을 때"
      ]
    },
    {
      "cell_type": "code",
      "metadata": {
        "colab": {
          "base_uri": "https://localhost:8080/",
          "height": 1000
        },
        "id": "wIVE8Drs_VZI",
        "outputId": "b026eb87-eefc-4ba6-aaa7-5768a3f4db83"
      },
      "source": [
        "from tensorflow.keras.preprocessing import sequence\n",
        "from tensorflow.keras.models import Sequential\n",
        "from tensorflow.keras.layers import Input, Dense, Dropout, Activation, BatchNormalization\n",
        "from tensorflow.keras.layers import Embedding\n",
        "from tensorflow.keras.layers import Conv1D, GlobalMaxPooling1D, Bidirectional, LSTM\n",
        "from tensorflow.keras.callbacks import ReduceLROnPlateau\n",
        "\n",
        "EMBEDDING_SIZE = 32 # 단어를 임베딩할 벡터 크기\n",
        "\n",
        "model = Sequential()\n",
        "model.add(Input(WINDOW_SIZE))\n",
        "model.add(Embedding(VOCA_SIZE, EMBEDDING_SIZE))\n",
        "model.add(Bidirectional(LSTM(128)))\n",
        "model.add(Dense(100, activation=\"relu\"))\n",
        "model.add(Dense(VOCA_SIZE, activation=\"softmax\"))\n",
        "\n",
        "model.compile(loss='sparse_categorical_crossentropy', optimizer='adam', metrics=['accuracy'])\n",
        "model.summary()\n",
        "\n",
        "history = model.fit(train_x, train_y, batch_size=64, epochs=50, validation_split=0.1)\n",
        "\n",
        "\n",
        "# 성능 그래프 그리기\n",
        "import matplotlib.pyplot as plt\n",
        "\n",
        "plt.plot(history.history['accuracy'], label=\"accuracy\")\n",
        "plt.plot(history.history['val_accuracy'], label=\"val_accuracy\")\n",
        "plt.legend()\n",
        "plt.show()\n",
        "\n",
        "\n",
        "\n",
        "# 평가\n",
        "loss, acc = model.evaluate(test_x, test_y)\n",
        "print(\"loss =\", loss)\n",
        "print(\"acc =\", acc)\n",
        "\n",
        "\n",
        "# 실제 예측\n",
        "y_ = model.predict(test_x)\n",
        "predicted = np.argmax(y_, axis=-1)\n",
        "\n",
        "for i in range(10):\n",
        "  print(\" \".join(decode(test_x[i], predicted[i], test_y[i])))"
      ],
      "execution_count": 196,
      "outputs": [
        {
          "output_type": "stream",
          "name": "stdout",
          "text": [
            "Model: \"sequential_11\"\n",
            "_________________________________________________________________\n",
            "Layer (type)                 Output Shape              Param #   \n",
            "=================================================================\n",
            "embedding_11 (Embedding)     (None, 12, 32)            128000    \n",
            "_________________________________________________________________\n",
            "bidirectional_7 (Bidirection (None, 256)               164864    \n",
            "_________________________________________________________________\n",
            "dense_22 (Dense)             (None, 100)               25700     \n",
            "_________________________________________________________________\n",
            "dense_23 (Dense)             (None, 4000)              404000    \n",
            "=================================================================\n",
            "Total params: 722,564\n",
            "Trainable params: 722,564\n",
            "Non-trainable params: 0\n",
            "_________________________________________________________________\n",
            "Epoch 1/50\n",
            "488/488 [==============================] - 8s 10ms/step - loss: 6.0892 - accuracy: 0.0651 - val_loss: 5.8713 - val_accuracy: 0.0649\n",
            "Epoch 2/50\n",
            "488/488 [==============================] - 4s 8ms/step - loss: 5.6652 - accuracy: 0.0675 - val_loss: 5.7545 - val_accuracy: 0.0698\n",
            "Epoch 3/50\n",
            "488/488 [==============================] - 4s 8ms/step - loss: 5.4214 - accuracy: 0.0799 - val_loss: 5.5932 - val_accuracy: 0.0848\n",
            "Epoch 4/50\n",
            "488/488 [==============================] - 4s 8ms/step - loss: 5.1091 - accuracy: 0.1176 - val_loss: 5.3837 - val_accuracy: 0.1251\n",
            "Epoch 5/50\n",
            "488/488 [==============================] - 4s 8ms/step - loss: 4.7583 - accuracy: 0.1618 - val_loss: 5.1714 - val_accuracy: 0.1687\n",
            "Epoch 6/50\n",
            "488/488 [==============================] - 4s 8ms/step - loss: 4.4263 - accuracy: 0.2070 - val_loss: 5.0148 - val_accuracy: 0.2024\n",
            "Epoch 7/50\n",
            "488/488 [==============================] - 4s 8ms/step - loss: 4.1052 - accuracy: 0.2442 - val_loss: 4.9782 - val_accuracy: 0.2125\n",
            "Epoch 8/50\n",
            "488/488 [==============================] - 4s 8ms/step - loss: 3.8201 - accuracy: 0.2735 - val_loss: 4.9125 - val_accuracy: 0.2451\n",
            "Epoch 9/50\n",
            "488/488 [==============================] - 4s 8ms/step - loss: 3.5589 - accuracy: 0.3013 - val_loss: 4.9695 - val_accuracy: 0.2630\n",
            "Epoch 10/50\n",
            "488/488 [==============================] - 4s 8ms/step - loss: 3.3240 - accuracy: 0.3247 - val_loss: 4.9689 - val_accuracy: 0.2716\n",
            "Epoch 11/50\n",
            "488/488 [==============================] - 4s 8ms/step - loss: 3.0888 - accuracy: 0.3499 - val_loss: 5.1533 - val_accuracy: 0.2878\n",
            "Epoch 12/50\n",
            "488/488 [==============================] - 4s 8ms/step - loss: 2.8730 - accuracy: 0.3703 - val_loss: 5.2470 - val_accuracy: 0.2884\n",
            "Epoch 13/50\n",
            "488/488 [==============================] - 4s 8ms/step - loss: 2.6548 - accuracy: 0.4020 - val_loss: 5.3993 - val_accuracy: 0.2840\n",
            "Epoch 14/50\n",
            "488/488 [==============================] - 4s 8ms/step - loss: 2.4482 - accuracy: 0.4279 - val_loss: 5.7250 - val_accuracy: 0.2930\n",
            "Epoch 15/50\n",
            "488/488 [==============================] - 4s 8ms/step - loss: 2.2470 - accuracy: 0.4623 - val_loss: 6.0588 - val_accuracy: 0.2909\n",
            "Epoch 16/50\n",
            "488/488 [==============================] - 4s 8ms/step - loss: 2.0546 - accuracy: 0.4962 - val_loss: 6.4287 - val_accuracy: 0.2869\n",
            "Epoch 17/50\n",
            "488/488 [==============================] - 4s 8ms/step - loss: 1.8814 - accuracy: 0.5315 - val_loss: 6.6200 - val_accuracy: 0.2950\n",
            "Epoch 18/50\n",
            "488/488 [==============================] - 4s 8ms/step - loss: 1.7165 - accuracy: 0.5640 - val_loss: 7.2064 - val_accuracy: 0.3019\n",
            "Epoch 19/50\n",
            "488/488 [==============================] - 4s 8ms/step - loss: 1.5649 - accuracy: 0.5954 - val_loss: 7.4937 - val_accuracy: 0.2860\n",
            "Epoch 20/50\n",
            "488/488 [==============================] - 4s 8ms/step - loss: 1.4371 - accuracy: 0.6268 - val_loss: 7.5811 - val_accuracy: 0.2956\n",
            "Epoch 21/50\n",
            "488/488 [==============================] - 4s 8ms/step - loss: 1.3025 - accuracy: 0.6557 - val_loss: 8.1682 - val_accuracy: 0.2941\n",
            "Epoch 22/50\n",
            "488/488 [==============================] - 4s 8ms/step - loss: 1.1963 - accuracy: 0.6780 - val_loss: 8.2381 - val_accuracy: 0.2909\n",
            "Epoch 23/50\n",
            "488/488 [==============================] - 4s 8ms/step - loss: 1.1000 - accuracy: 0.7066 - val_loss: 8.6027 - val_accuracy: 0.2996\n",
            "Epoch 24/50\n",
            "488/488 [==============================] - 4s 8ms/step - loss: 1.0042 - accuracy: 0.7255 - val_loss: 9.0521 - val_accuracy: 0.2921\n",
            "Epoch 25/50\n",
            "488/488 [==============================] - 4s 8ms/step - loss: 0.9195 - accuracy: 0.7461 - val_loss: 9.3324 - val_accuracy: 0.3007\n",
            "Epoch 26/50\n",
            "488/488 [==============================] - 4s 8ms/step - loss: 0.8341 - accuracy: 0.7722 - val_loss: 9.6259 - val_accuracy: 0.2915\n",
            "Epoch 27/50\n",
            "488/488 [==============================] - 4s 8ms/step - loss: 0.7643 - accuracy: 0.7877 - val_loss: 9.8594 - val_accuracy: 0.2976\n",
            "Epoch 28/50\n",
            "488/488 [==============================] - 4s 8ms/step - loss: 0.6945 - accuracy: 0.8074 - val_loss: 10.0008 - val_accuracy: 0.3022\n",
            "Epoch 29/50\n",
            "488/488 [==============================] - 4s 8ms/step - loss: 0.6398 - accuracy: 0.8194 - val_loss: 10.3975 - val_accuracy: 0.2898\n",
            "Epoch 30/50\n",
            "488/488 [==============================] - 4s 8ms/step - loss: 0.5783 - accuracy: 0.8371 - val_loss: 10.5510 - val_accuracy: 0.2837\n",
            "Epoch 31/50\n",
            "488/488 [==============================] - 4s 8ms/step - loss: 0.5302 - accuracy: 0.8509 - val_loss: 11.1375 - val_accuracy: 0.2933\n",
            "Epoch 32/50\n",
            "488/488 [==============================] - 4s 8ms/step - loss: 0.4749 - accuracy: 0.8660 - val_loss: 11.5709 - val_accuracy: 0.2935\n",
            "Epoch 33/50\n",
            "488/488 [==============================] - 4s 8ms/step - loss: 0.4429 - accuracy: 0.8760 - val_loss: 11.6053 - val_accuracy: 0.3019\n",
            "Epoch 34/50\n",
            "488/488 [==============================] - 4s 8ms/step - loss: 0.4084 - accuracy: 0.8844 - val_loss: 11.7750 - val_accuracy: 0.2958\n",
            "Epoch 35/50\n",
            "488/488 [==============================] - 4s 8ms/step - loss: 0.3706 - accuracy: 0.8960 - val_loss: 12.0119 - val_accuracy: 0.2967\n",
            "Epoch 36/50\n",
            "488/488 [==============================] - 4s 8ms/step - loss: 0.3198 - accuracy: 0.9107 - val_loss: 12.2694 - val_accuracy: 0.2921\n",
            "Epoch 37/50\n",
            "488/488 [==============================] - 4s 8ms/step - loss: 0.3021 - accuracy: 0.9142 - val_loss: 12.4167 - val_accuracy: 0.2846\n",
            "Epoch 38/50\n",
            "488/488 [==============================] - 4s 8ms/step - loss: 0.2723 - accuracy: 0.9234 - val_loss: 12.7229 - val_accuracy: 0.2843\n",
            "Epoch 39/50\n",
            "488/488 [==============================] - 4s 8ms/step - loss: 0.2635 - accuracy: 0.9253 - val_loss: 12.8030 - val_accuracy: 0.2823\n",
            "Epoch 40/50\n",
            "488/488 [==============================] - 4s 8ms/step - loss: 0.2353 - accuracy: 0.9363 - val_loss: 13.0998 - val_accuracy: 0.2901\n",
            "Epoch 41/50\n",
            "488/488 [==============================] - 4s 8ms/step - loss: 0.2201 - accuracy: 0.9375 - val_loss: 13.3845 - val_accuracy: 0.2843\n",
            "Epoch 42/50\n",
            "488/488 [==============================] - 4s 8ms/step - loss: 0.1824 - accuracy: 0.9504 - val_loss: 13.9354 - val_accuracy: 0.2979\n",
            "Epoch 43/50\n",
            "488/488 [==============================] - 4s 8ms/step - loss: 0.1768 - accuracy: 0.9524 - val_loss: 13.9827 - val_accuracy: 0.2901\n",
            "Epoch 44/50\n",
            "488/488 [==============================] - 4s 8ms/step - loss: 0.2016 - accuracy: 0.9415 - val_loss: 13.8004 - val_accuracy: 0.2915\n",
            "Epoch 45/50\n",
            "488/488 [==============================] - 4s 8ms/step - loss: 0.1748 - accuracy: 0.9512 - val_loss: 14.2595 - val_accuracy: 0.2886\n",
            "Epoch 46/50\n",
            "488/488 [==============================] - 4s 8ms/step - loss: 0.1598 - accuracy: 0.9563 - val_loss: 14.3986 - val_accuracy: 0.2884\n",
            "Epoch 47/50\n",
            "488/488 [==============================] - 4s 8ms/step - loss: 0.1368 - accuracy: 0.9625 - val_loss: 14.3004 - val_accuracy: 0.2889\n",
            "Epoch 48/50\n",
            "488/488 [==============================] - 4s 8ms/step - loss: 0.1406 - accuracy: 0.9614 - val_loss: 14.7928 - val_accuracy: 0.2872\n",
            "Epoch 49/50\n",
            "488/488 [==============================] - 4s 8ms/step - loss: 0.1367 - accuracy: 0.9625 - val_loss: 15.0802 - val_accuracy: 0.2947\n",
            "Epoch 50/50\n",
            "488/488 [==============================] - 4s 8ms/step - loss: 0.1438 - accuracy: 0.9595 - val_loss: 14.8278 - val_accuracy: 0.2834\n"
          ]
        },
        {
          "output_type": "display_data",
          "data": {
            "image/png": "[encoded data removed]",
            "text/plain": [
              "<Figure size 432x288 with 1 Axes>"
            ]
          },
          "metadata": {
            "needs_background": "light"
          }
        },
        {
          "output_type": "stream",
          "name": "stdout",
          "text": [
            "121/121 [==============================] - 1s 4ms/step - loss: 14.2098 - accuracy: 0.2834\n",
            "loss = 14.209758758544922\n",
            "acc = 0.2834155261516571\n",
            "i ’ ve so often read ( ??? ) the newspapers , at the end   PREDICTED=with  TRUTH=in\n",
            ". alice thought this a very ( ??? ) thing , and she went nearer   PREDICTED=little  TRUTH=curious\n",
            "a long and a sad tale ( ??? ) ” said the mouse , turning   PREDICTED=!  TRUTH=!\n",
            "get hold of anything , but ( ??? ) heard a little shriek and a   PREDICTED=he  TRUTH=she\n",
            "with the permission of the copyright ( ??? ) , your use and distribution must   PREDICTED=trademark  TRUTH=holder\n",
            "perhaps not , ” said alice ( ??? ) a soothing tone : “ don   PREDICTED=in  TRUTH=in\n",
            ". ” she got up and ( ??? ) to the table to measure herself   PREDICTED=see  TRUTH=went\n",
            "little startled by seeing the cheshire ( ??? ) sitting on a bough of a   PREDICTED=thought  TRUTH=cat\n",
            "on her face like the three ( ??? ) , but she could not remember   PREDICTED=dish  TRUTH=gardeners\n",
            "all liability to you for damages ( ??? ) costs and expenses , including legal   PREDICTED=,  TRUTH=,\n"
          ]
        }
      ]
    },
    {
      "cell_type": "code",
      "metadata": {
        "id": "AuCgCAsOA8ZB"
      },
      "source": [
        ""
      ],
      "execution_count": null,
      "outputs": []
    }
  ]
}