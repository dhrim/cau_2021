{
  "nbformat": 4,
  "nbformat_minor": 0,
  "metadata": {
    "kernelspec": {
      "display_name": "Python 3",
      "language": "python",
      "name": "python3"
    },
    "language_info": {
      "codemirror_mode": {
        "name": "ipython",
        "version": 3
      },
      "file_extension": ".py",
      "mimetype": "text/x-python",
      "name": "python",
      "nbconvert_exporter": "python",
      "pygments_lexer": "ipython3",
      "version": "3.7.1"
    },
    "colab": {
      "name": "korean_sentence_relation_classification_with_bert_with_custom_vocab.ipynb",
      "provenance": [],
      "collapsed_sections": [],
      "machine_shape": "hm"
    },
    "accelerator": "GPU"
  },
  "cells": [
    {
      "cell_type": "markdown",
      "metadata": {
        "id": "Pyz8OyCRKRz8"
      },
      "source": [
        "# Bert를 사용한 문장 간 관계 분류\n",
        "\n",
        "2개의 문장을 주고, 3개의 카테고리 중의 하나로 분류한다.\n",
        "\n",
        "연관, 중립, 상반.\n",
        "\n",
        "<br>\n",
        "\n",
        "문장 데이터를 WordPieceTokenizer로 토크나이징하고 \n",
        "\n",
        "결과 토큰들을 vocab 파일로 저장.\n",
        "\n",
        "이후 BertTokenizer가 이 파일을 읽어 처리.\n",
        "\n",
        "<br>\n",
        "\n",
        "pretrained된 bert layer가 아닌 새로 학습한다.\n",
        "\n"
      ]
    },
    {
      "cell_type": "markdown",
      "metadata": {
        "id": "BBC-mz4q4kIr"
      },
      "source": [
        "copy from https://github.com/NLP-kr/tensorflow-ml-nlp-tf2/blob/master/7.PRETRAIN_METHOD/7.2.2.bert_finetune_KorNLI.ipynb"
      ]
    },
    {
      "cell_type": "markdown",
      "metadata": {
        "id": "rFwbg7k1KZrK"
      },
      "source": [
        "# 필요 라이브러리 설치"
      ]
    },
    {
      "cell_type": "code",
      "metadata": {
        "colab": {
          "base_uri": "https://localhost:8080/"
        },
        "id": "GTUt2OoT04Kh",
        "outputId": "d0b6b6fe-6309-4efb-9f3d-f50c8ea5182f"
      },
      "source": [
        "!pip install transformers==3.0.2\n",
        "!pip install sentencepiece"
      ],
      "execution_count": 1,
      "outputs": [
        {
          "output_type": "stream",
          "name": "stdout",
          "text": [
            "Requirement already satisfied: transformers==3.0.2 in /usr/local/lib/python3.7/dist-packages (3.0.2)\n",
            "Requirement already satisfied: tokenizers==0.8.1.rc1 in /usr/local/lib/python3.7/dist-packages (from transformers==3.0.2) (0.8.1rc1)\n",
            "Requirement already satisfied: filelock in /usr/local/lib/python3.7/dist-packages (from transformers==3.0.2) (3.3.2)\n",
            "Requirement already satisfied: numpy in /usr/local/lib/python3.7/dist-packages (from transformers==3.0.2) (1.19.5)\n",
            "Requirement already satisfied: tqdm>=4.27 in /usr/local/lib/python3.7/dist-packages (from transformers==3.0.2) (4.62.3)\n",
            "Requirement already satisfied: regex!=2019.12.17 in /usr/local/lib/python3.7/dist-packages (from transformers==3.0.2) (2019.12.20)\n",
            "Requirement already satisfied: packaging in /usr/local/lib/python3.7/dist-packages (from transformers==3.0.2) (21.2)\n",
            "Requirement already satisfied: sentencepiece!=0.1.92 in /usr/local/lib/python3.7/dist-packages (from transformers==3.0.2) (0.1.96)\n",
            "Requirement already satisfied: sacremoses in /usr/local/lib/python3.7/dist-packages (from transformers==3.0.2) (0.0.46)\n",
            "Requirement already satisfied: requests in /usr/local/lib/python3.7/dist-packages (from transformers==3.0.2) (2.23.0)\n",
            "Requirement already satisfied: pyparsing<3,>=2.0.2 in /usr/local/lib/python3.7/dist-packages (from packaging->transformers==3.0.2) (2.4.7)\n",
            "Requirement already satisfied: chardet<4,>=3.0.2 in /usr/local/lib/python3.7/dist-packages (from requests->transformers==3.0.2) (3.0.4)\n",
            "Requirement already satisfied: urllib3!=1.25.0,!=1.25.1,<1.26,>=1.21.1 in /usr/local/lib/python3.7/dist-packages (from requests->transformers==3.0.2) (1.24.3)\n",
            "Requirement already satisfied: certifi>=2017.4.17 in /usr/local/lib/python3.7/dist-packages (from requests->transformers==3.0.2) (2021.10.8)\n",
            "Requirement already satisfied: idna<3,>=2.5 in /usr/local/lib/python3.7/dist-packages (from requests->transformers==3.0.2) (2.10)\n",
            "Requirement already satisfied: joblib in /usr/local/lib/python3.7/dist-packages (from sacremoses->transformers==3.0.2) (1.1.0)\n",
            "Requirement already satisfied: six in /usr/local/lib/python3.7/dist-packages (from sacremoses->transformers==3.0.2) (1.15.0)\n",
            "Requirement already satisfied: click in /usr/local/lib/python3.7/dist-packages (from sacremoses->transformers==3.0.2) (7.1.2)\n",
            "Requirement already satisfied: sentencepiece in /usr/local/lib/python3.7/dist-packages (0.1.96)\n"
          ]
        }
      ]
    },
    {
      "cell_type": "code",
      "metadata": {
        "id": "C-FHX9tOK4pV"
      },
      "source": [
        "import numpy as np\n",
        "import pandas as pd\n",
        "import matplotlib.pyplot as plt\n",
        "\n",
        "from tqdm import tqdm\n",
        "\n",
        "from transformers import BertTokenizer\n",
        "from transformers import TFBertModel\n",
        "\n",
        "import tensorflow as tf"
      ],
      "execution_count": 1,
      "outputs": []
    },
    {
      "cell_type": "code",
      "metadata": {
        "id": "Ex8GjpDqK7Lm"
      },
      "source": [
        "#random seed 고정\n",
        "tf.random.set_seed(49)\n",
        "np.random.seed(49)\n",
        "\n",
        "SEQ_LENGTH = 128\n",
        "BERT_MODEL_NAME = 'bert-base-multilingual-cased'\n",
        "CUSTOM_VOCAB_FILE = 'custom_vocab.txt'"
      ],
      "execution_count": 28,
      "outputs": []
    },
    {
      "cell_type": "markdown",
      "metadata": {
        "id": "104nTDhQLQmP"
      },
      "source": [
        "# 데이터"
      ]
    },
    {
      "cell_type": "markdown",
      "metadata": {
        "id": "bobHiFxmBN01"
      },
      "source": [
        "## 데이터 다운로드"
      ]
    },
    {
      "cell_type": "code",
      "metadata": {
        "id": "2sVLtmvLPsnC",
        "colab": {
          "base_uri": "https://localhost:8080/"
        },
        "outputId": "c5cc07a2-5f56-49aa-9641-3b8fe7c182ac"
      },
      "source": [
        "!git clone https://github.com/kakaobrain/KorNLUDatasets"
      ],
      "execution_count": 3,
      "outputs": [
        {
          "output_type": "stream",
          "name": "stdout",
          "text": [
            "fatal: destination path 'KorNLUDatasets' already exists and is not an empty directory.\n"
          ]
        }
      ]
    },
    {
      "cell_type": "code",
      "metadata": {
        "id": "isfRmCyKPset",
        "colab": {
          "base_uri": "https://localhost:8080/"
        },
        "outputId": "8fb18e29-7724-467b-9a2e-b0cf9b015398"
      },
      "source": [
        "!wc ./KorNLUDatasets/KorNLI/snli_1.0_train.ko.tsv"
      ],
      "execution_count": 4,
      "outputs": [
        {
          "output_type": "stream",
          "name": "stdout",
          "text": [
            "  550153  8595590 78486224 ./KorNLUDatasets/KorNLI/snli_1.0_train.ko.tsv\n"
          ]
        }
      ]
    },
    {
      "cell_type": "markdown",
      "metadata": {
        "id": "QZu1lTyM28Rf"
      },
      "source": [
        "## 데이터 로딩"
      ]
    },
    {
      "cell_type": "code",
      "metadata": {
        "id": "lsyECR_ixL2t"
      },
      "source": [
        "df = pd.read_csv(\"KorNLUDatasets/KorNLI/snli_1.0_train.ko.tsv\", delimiter = '\\t', quoting = 3)"
      ],
      "execution_count": 29,
      "outputs": []
    },
    {
      "cell_type": "code",
      "metadata": {
        "colab": {
          "base_uri": "https://localhost:8080/",
          "height": 204
        },
        "id": "kVPkn52ZxbU8",
        "outputId": "a02a6f86-51b5-4f6c-965a-85a8df169bd2"
      },
      "source": [
        "df.head()"
      ],
      "execution_count": 30,
      "outputs": [
        {
          "output_type": "execute_result",
          "data": {
            "text/html": [
              "<div>\n",
              "<style scoped>\n",
              "    .dataframe tbody tr th:only-of-type {\n",
              "        vertical-align: middle;\n",
              "    }\n",
              "\n",
              "    .dataframe tbody tr th {\n",
              "        vertical-align: top;\n",
              "    }\n",
              "\n",
              "    .dataframe thead th {\n",
              "        text-align: right;\n",
              "    }\n",
              "</style>\n",
              "<table border=\"1\" class=\"dataframe\">\n",
              "  <thead>\n",
              "    <tr style=\"text-align: right;\">\n",
              "      <th></th>\n",
              "      <th>sentence1</th>\n",
              "      <th>sentence2</th>\n",
              "      <th>gold_label</th>\n",
              "    </tr>\n",
              "  </thead>\n",
              "  <tbody>\n",
              "    <tr>\n",
              "      <th>0</th>\n",
              "      <td>말을 탄 사람이 고장난 비행기 위로 뛰어오른다.</td>\n",
              "      <td>한 사람이 경쟁을 위해 말을 훈련시키고 있다.</td>\n",
              "      <td>neutral</td>\n",
              "    </tr>\n",
              "    <tr>\n",
              "      <th>1</th>\n",
              "      <td>말을 탄 사람이 고장난 비행기 위로 뛰어오른다.</td>\n",
              "      <td>한 사람이 식당에서 오믈렛을 주문하고 있다.</td>\n",
              "      <td>contradiction</td>\n",
              "    </tr>\n",
              "    <tr>\n",
              "      <th>2</th>\n",
              "      <td>말을 탄 사람이 고장난 비행기 위로 뛰어오른다.</td>\n",
              "      <td>사람은 야외에서 말을 타고 있다.</td>\n",
              "      <td>entailment</td>\n",
              "    </tr>\n",
              "    <tr>\n",
              "      <th>3</th>\n",
              "      <td>카메라에 웃고 손을 흔드는 아이들</td>\n",
              "      <td>그들은 부모님을 보고 웃고 있다</td>\n",
              "      <td>neutral</td>\n",
              "    </tr>\n",
              "    <tr>\n",
              "      <th>4</th>\n",
              "      <td>카메라에 웃고 손을 흔드는 아이들</td>\n",
              "      <td>아이들이 있다</td>\n",
              "      <td>entailment</td>\n",
              "    </tr>\n",
              "  </tbody>\n",
              "</table>\n",
              "</div>"
            ],
            "text/plain": [
              "                    sentence1                  sentence2     gold_label\n",
              "0  말을 탄 사람이 고장난 비행기 위로 뛰어오른다.  한 사람이 경쟁을 위해 말을 훈련시키고 있다.        neutral\n",
              "1  말을 탄 사람이 고장난 비행기 위로 뛰어오른다.   한 사람이 식당에서 오믈렛을 주문하고 있다.  contradiction\n",
              "2  말을 탄 사람이 고장난 비행기 위로 뛰어오른다.         사람은 야외에서 말을 타고 있다.     entailment\n",
              "3          카메라에 웃고 손을 흔드는 아이들          그들은 부모님을 보고 웃고 있다        neutral\n",
              "4          카메라에 웃고 손을 흔드는 아이들                    아이들이 있다     entailment"
            ]
          },
          "metadata": {},
          "execution_count": 30
        }
      ]
    },
    {
      "cell_type": "markdown",
      "metadata": {
        "id": "sGPoLVYuSGwV"
      },
      "source": [
        "## 카테고리 인덱스 만들기"
      ]
    },
    {
      "cell_type": "code",
      "metadata": {
        "id": "CEWxxJJySHNT"
      },
      "source": [
        "df.gold_label = df.gold_label.astype('category')"
      ],
      "execution_count": 31,
      "outputs": []
    },
    {
      "cell_type": "code",
      "metadata": {
        "id": "APH21ixGSHoK"
      },
      "source": [
        "df['category'] = df.gold_label.cat.codes"
      ],
      "execution_count": 32,
      "outputs": []
    },
    {
      "cell_type": "code",
      "metadata": {
        "colab": {
          "base_uri": "https://localhost:8080/",
          "height": 204
        },
        "id": "IGX4S1JXSHlj",
        "outputId": "a539b6c7-0b3a-4ab3-ce7c-13e4d22eb648"
      },
      "source": [
        "df.head()"
      ],
      "execution_count": 33,
      "outputs": [
        {
          "output_type": "execute_result",
          "data": {
            "text/html": [
              "<div>\n",
              "<style scoped>\n",
              "    .dataframe tbody tr th:only-of-type {\n",
              "        vertical-align: middle;\n",
              "    }\n",
              "\n",
              "    .dataframe tbody tr th {\n",
              "        vertical-align: top;\n",
              "    }\n",
              "\n",
              "    .dataframe thead th {\n",
              "        text-align: right;\n",
              "    }\n",
              "</style>\n",
              "<table border=\"1\" class=\"dataframe\">\n",
              "  <thead>\n",
              "    <tr style=\"text-align: right;\">\n",
              "      <th></th>\n",
              "      <th>sentence1</th>\n",
              "      <th>sentence2</th>\n",
              "      <th>gold_label</th>\n",
              "      <th>category</th>\n",
              "    </tr>\n",
              "  </thead>\n",
              "  <tbody>\n",
              "    <tr>\n",
              "      <th>0</th>\n",
              "      <td>말을 탄 사람이 고장난 비행기 위로 뛰어오른다.</td>\n",
              "      <td>한 사람이 경쟁을 위해 말을 훈련시키고 있다.</td>\n",
              "      <td>neutral</td>\n",
              "      <td>2</td>\n",
              "    </tr>\n",
              "    <tr>\n",
              "      <th>1</th>\n",
              "      <td>말을 탄 사람이 고장난 비행기 위로 뛰어오른다.</td>\n",
              "      <td>한 사람이 식당에서 오믈렛을 주문하고 있다.</td>\n",
              "      <td>contradiction</td>\n",
              "      <td>0</td>\n",
              "    </tr>\n",
              "    <tr>\n",
              "      <th>2</th>\n",
              "      <td>말을 탄 사람이 고장난 비행기 위로 뛰어오른다.</td>\n",
              "      <td>사람은 야외에서 말을 타고 있다.</td>\n",
              "      <td>entailment</td>\n",
              "      <td>1</td>\n",
              "    </tr>\n",
              "    <tr>\n",
              "      <th>3</th>\n",
              "      <td>카메라에 웃고 손을 흔드는 아이들</td>\n",
              "      <td>그들은 부모님을 보고 웃고 있다</td>\n",
              "      <td>neutral</td>\n",
              "      <td>2</td>\n",
              "    </tr>\n",
              "    <tr>\n",
              "      <th>4</th>\n",
              "      <td>카메라에 웃고 손을 흔드는 아이들</td>\n",
              "      <td>아이들이 있다</td>\n",
              "      <td>entailment</td>\n",
              "      <td>1</td>\n",
              "    </tr>\n",
              "  </tbody>\n",
              "</table>\n",
              "</div>"
            ],
            "text/plain": [
              "                    sentence1  ... category\n",
              "0  말을 탄 사람이 고장난 비행기 위로 뛰어오른다.  ...        2\n",
              "1  말을 탄 사람이 고장난 비행기 위로 뛰어오른다.  ...        0\n",
              "2  말을 탄 사람이 고장난 비행기 위로 뛰어오른다.  ...        1\n",
              "3          카메라에 웃고 손을 흔드는 아이들  ...        2\n",
              "4          카메라에 웃고 손을 흔드는 아이들  ...        1\n",
              "\n",
              "[5 rows x 4 columns]"
            ]
          },
          "metadata": {},
          "execution_count": 33
        }
      ]
    },
    {
      "cell_type": "code",
      "metadata": {
        "colab": {
          "base_uri": "https://localhost:8080/"
        },
        "id": "EM4kgqDVYapv",
        "outputId": "f643f103-1329-4633-a2a8-f6342a6397e4"
      },
      "source": [
        "category_names = list(df.gold_label.cat.categories)\n",
        "print(category_names)"
      ],
      "execution_count": 34,
      "outputs": [
        {
          "output_type": "stream",
          "name": "stdout",
          "text": [
            "['contradiction', 'entailment', 'neutral']\n"
          ]
        }
      ]
    },
    {
      "cell_type": "markdown",
      "metadata": {
        "id": "Satro0bK25CA"
      },
      "source": [
        "## 데이터 섞기"
      ]
    },
    {
      "cell_type": "code",
      "metadata": {
        "colab": {
          "base_uri": "https://localhost:8080/",
          "height": 204
        },
        "id": "Rj4fWpN523i8",
        "outputId": "f7725ccf-8b76-4c63-de82-4e983ff85ceb"
      },
      "source": [
        "df = df.sample(frac=1).reset_index(drop=True) \n",
        "\n",
        "df.head()"
      ],
      "execution_count": 35,
      "outputs": [
        {
          "output_type": "execute_result",
          "data": {
            "text/html": [
              "<div>\n",
              "<style scoped>\n",
              "    .dataframe tbody tr th:only-of-type {\n",
              "        vertical-align: middle;\n",
              "    }\n",
              "\n",
              "    .dataframe tbody tr th {\n",
              "        vertical-align: top;\n",
              "    }\n",
              "\n",
              "    .dataframe thead th {\n",
              "        text-align: right;\n",
              "    }\n",
              "</style>\n",
              "<table border=\"1\" class=\"dataframe\">\n",
              "  <thead>\n",
              "    <tr style=\"text-align: right;\">\n",
              "      <th></th>\n",
              "      <th>sentence1</th>\n",
              "      <th>sentence2</th>\n",
              "      <th>gold_label</th>\n",
              "      <th>category</th>\n",
              "    </tr>\n",
              "  </thead>\n",
              "  <tbody>\n",
              "    <tr>\n",
              "      <th>0</th>\n",
              "      <td>남자들이 축구 경기를 하고 있다.</td>\n",
              "      <td>대화를 나누는 남자들</td>\n",
              "      <td>neutral</td>\n",
              "      <td>2</td>\n",
              "    </tr>\n",
              "    <tr>\n",
              "      <th>1</th>\n",
              "      <td>두 명의 자전거 타는 사람들이 말을 하면서 거리를 지나간다.</td>\n",
              "      <td>누가 더 빠른지 주장하는 두 명의 자전거 타는 사람.</td>\n",
              "      <td>neutral</td>\n",
              "      <td>2</td>\n",
              "    </tr>\n",
              "    <tr>\n",
              "      <th>2</th>\n",
              "      <td>한 남자와 한 여자가 눈을 크게 뜨고 무언가를 바라보며 인도에 멈춰 섰다.</td>\n",
              "      <td>남자와 여자가 넓은 눈으로 무언가를 응시하고 있다.</td>\n",
              "      <td>entailment</td>\n",
              "      <td>1</td>\n",
              "    </tr>\n",
              "    <tr>\n",
              "      <th>3</th>\n",
              "      <td>한 무리의 아이들, 두 개의 분리된 팀, 녹색과 빨간색, 축구를 한다.</td>\n",
              "      <td>두 팀의 아이들이 플레이오프 경기를 하고 있다.</td>\n",
              "      <td>neutral</td>\n",
              "      <td>2</td>\n",
              "    </tr>\n",
              "    <tr>\n",
              "      <th>4</th>\n",
              "      <td>한 사려 깊은 여자가 대도시의 샛길을 걷고 있다.</td>\n",
              "      <td>한 여자가 길을 걷는다.</td>\n",
              "      <td>entailment</td>\n",
              "      <td>1</td>\n",
              "    </tr>\n",
              "  </tbody>\n",
              "</table>\n",
              "</div>"
            ],
            "text/plain": [
              "                                   sentence1  ... category\n",
              "0                         남자들이 축구 경기를 하고 있다.  ...        2\n",
              "1          두 명의 자전거 타는 사람들이 말을 하면서 거리를 지나간다.  ...        2\n",
              "2  한 남자와 한 여자가 눈을 크게 뜨고 무언가를 바라보며 인도에 멈춰 섰다.  ...        1\n",
              "3    한 무리의 아이들, 두 개의 분리된 팀, 녹색과 빨간색, 축구를 한다.  ...        2\n",
              "4                한 사려 깊은 여자가 대도시의 샛길을 걷고 있다.  ...        1\n",
              "\n",
              "[5 rows x 4 columns]"
            ]
          },
          "metadata": {},
          "execution_count": 35
        }
      ]
    },
    {
      "cell_type": "markdown",
      "metadata": {
        "id": "-ke8GRyV3AMJ"
      },
      "source": [
        "## 필요 입출력 값 준비"
      ]
    },
    {
      "cell_type": "code",
      "metadata": {
        "id": "qrebOR3Ixtah"
      },
      "source": [
        "sentences1 = df.sentence1.values.copy().astype(np.str)\n",
        "sentences2 = df.sentence2.values.copy().astype(np.str)\n",
        "labels = df.category.values.copy().astype(np.int)"
      ],
      "execution_count": 36,
      "outputs": []
    },
    {
      "cell_type": "code",
      "metadata": {
        "colab": {
          "base_uri": "https://localhost:8080/"
        },
        "id": "_pPRFEcJEfrU",
        "outputId": "0223c9fd-f6ab-4bf9-be3c-7fb66c864220"
      },
      "source": [
        "print(sentences1.shape)\n",
        "print(sentences2.shape)\n",
        "print(labels.shape)"
      ],
      "execution_count": 37,
      "outputs": [
        {
          "output_type": "stream",
          "name": "stdout",
          "text": [
            "(550152,)\n",
            "(550152,)\n",
            "(550152,)\n"
          ]
        }
      ]
    },
    {
      "cell_type": "markdown",
      "metadata": {
        "id": "4V2EOtoMdj3x"
      },
      "source": [
        "## Vocab 파일 만들기"
      ]
    },
    {
      "cell_type": "markdown",
      "metadata": {
        "id": "lncy2v1GdovL"
      },
      "source": [
        "### 전체 문장을 파일로 저장"
      ]
    },
    {
      "cell_type": "code",
      "metadata": {
        "id": "_D9e-x-fdh-R"
      },
      "source": [
        "all_sentence = []\n",
        "all_sentence.extend(sentences1)\n",
        "all_sentence.extend(sentences2)"
      ],
      "execution_count": 40,
      "outputs": []
    },
    {
      "cell_type": "code",
      "metadata": {
        "colab": {
          "base_uri": "https://localhost:8080/"
        },
        "id": "3ikgKaRKdh-S",
        "outputId": "62f5c767-817d-489f-eac8-2c317d032c72"
      },
      "source": [
        "print(all_sentence[0])\n",
        "print(len(all_sentence))"
      ],
      "execution_count": 42,
      "outputs": [
        {
          "output_type": "stream",
          "name": "stdout",
          "text": [
            "남자들이 축구 경기를 하고 있다.\n",
            "1100304\n"
          ]
        }
      ]
    },
    {
      "cell_type": "code",
      "metadata": {
        "id": "Xgz6GLhHdh-T"
      },
      "source": [
        "with open(\"all_sentence.txt\", 'w') as f:\n",
        "  for item in all_sentence:\n",
        "    f.write(\"%s\\n\" % item)"
      ],
      "execution_count": 43,
      "outputs": []
    },
    {
      "cell_type": "code",
      "metadata": {
        "colab": {
          "base_uri": "https://localhost:8080/"
        },
        "id": "uEStBn3Jdh-U",
        "outputId": "0554f529-19ce-41f4-aef9-d9d654d977f8"
      },
      "source": [
        "!wc all_sentence.txt"
      ],
      "execution_count": 44,
      "outputs": [
        {
          "output_type": "stream",
          "name": "stdout",
          "text": [
            " 1100304  8045435 72434521 all_sentence.txt\n"
          ]
        }
      ]
    },
    {
      "cell_type": "markdown",
      "metadata": {
        "id": "X6f1xwabduGX"
      },
      "source": [
        "### Tokenizer 생성"
      ]
    },
    {
      "cell_type": "markdown",
      "metadata": {
        "id": "G0uhxRcRdh-U"
      },
      "source": [
        "refer from https://gist.github.com/lovit/259bc1d236d78a77f044d638d0df300c"
      ]
    },
    {
      "cell_type": "code",
      "metadata": {
        "id": "51GIHxTDdh-V"
      },
      "source": [
        "from tokenizers import BertWordPieceTokenizer\n",
        "\n",
        "bert_wordpiece_tokenizer = BertWordPieceTokenizer(\n",
        "    # vocab_file=None,\n",
        "    # clean_text=True,\n",
        "    # handle_chinese_chars=True,\n",
        "    # strip_accents=False, # Must be False if cased model\n",
        "    # lowercase=False,\n",
        "    # wordpieces_prefix=\"##\"    \n",
        "    )\n",
        "bert_wordpiece_tokenizer.train(\n",
        "    files = 'all_sentence.txt',\n",
        "    vocab_size = 50000,\n",
        "    # min_frequency = 1,\n",
        "    # limit_alphabet = 1000,\n",
        "    # initial_alphabet = [],\n",
        "    # special_tokens = [\"[PAD]\", \"[UNK]\", \"[CLS]\", \"[SEP]\", \"[MASK]\"],\n",
        "    # show_progress = True,\n",
        "    # wordpieces_prefix = \"##\",\n",
        ")"
      ],
      "execution_count": 111,
      "outputs": []
    },
    {
      "cell_type": "markdown",
      "metadata": {
        "id": "T1TF6qknd2Mb"
      },
      "source": [
        "### 토크나이징 실행"
      ]
    },
    {
      "cell_type": "code",
      "metadata": {
        "colab": {
          "base_uri": "https://localhost:8080/"
        },
        "id": "kCDtp9_zdh-V",
        "outputId": "d690091e-8ea7-442d-e0dc-60ce353a5a3b"
      },
      "source": [
        "vocab = bert_wordpiece_tokenizer.get_vocab()\n",
        "# vocab = {'일부는': 5627, '돌다': 8717, '유연한': 17619, '나이든': 844, ... }\n",
        "\n",
        "vocab = sorted(vocab, key=lambda x: vocab[x])\n",
        "# vocab = ['[PAD]', '[UNK]', '[CLS]', '[SEP]', '[MASK]', '!', '\"', '#', ... ]\n",
        "\n",
        "from unicodedata import normalize\n",
        "# vocab = [..., '##ㅇㅜㅓ, 'ㅎㅐ', 'ㅌㅏㄱㅗ', 'ㄱㅕㅇ', 'ㅇㅑ', 'ㅇㅕㄴ', ... ]\n",
        "vocab = [normalize('NFKC', i) for i in vocab]  # 초중종성 분리된걸 묶는다 \n",
        "# vocab = [..., '##워', '해', '타고', '경', '야', '연', ... ]\n",
        "print(vocab[:20])\n",
        "print(vocab[400:420])"
      ],
      "execution_count": 112,
      "outputs": [
        {
          "output_type": "stream",
          "name": "stdout",
          "text": [
            "['[PAD]', '[UNK]', '[CLS]', '[SEP]', '[MASK]', '!', '\"', '#', '%', '&', \"'\", '(', ')', '+', ',', '-', '.', '/', '0', '1']\n",
            "['##워', '해', '타고', '경', '야', '연', '##비', '세', '##ᅡ른', '##는다', '##안', '##레', '희', '##리고', '무리의', '밖', '개가', '##ᆯ을', '흰', '건']\n"
          ]
        }
      ]
    },
    {
      "cell_type": "markdown",
      "metadata": {
        "id": "Pq5F4g-odzD-"
      },
      "source": [
        "### vocab 파일 저장"
      ]
    },
    {
      "cell_type": "code",
      "metadata": {
        "id": "rRcTb42jdh-W"
      },
      "source": [
        "with open(CUSTOM_VOCAB_FILE, 'w') as f:\n",
        "  for item in vocab:\n",
        "    f.write(\"%s\\n\" % item)"
      ],
      "execution_count": 113,
      "outputs": []
    },
    {
      "cell_type": "code",
      "metadata": {
        "colab": {
          "base_uri": "https://localhost:8080/"
        },
        "id": "9MXKm_4L-KFe",
        "outputId": "0dacf043-7dad-4a35-a98e-b331beef7c56"
      },
      "source": [
        "!wc {CUSTOM_VOCAB_FILE}"
      ],
      "execution_count": 114,
      "outputs": [
        {
          "output_type": "stream",
          "name": "stdout",
          "text": [
            " 50000  50000 534610 custom_vocab.txt\n"
          ]
        }
      ]
    },
    {
      "cell_type": "code",
      "metadata": {
        "colab": {
          "base_uri": "https://localhost:8080/"
        },
        "id": "GdK9m7MS-vvT",
        "outputId": "0c6c769a-6e17-4113-d592-cc79b3820cd1"
      },
      "source": [
        "!head {CUSTOM_VOCAB_FILE}"
      ],
      "execution_count": 115,
      "outputs": [
        {
          "output_type": "stream",
          "name": "stdout",
          "text": [
            "[PAD]\n",
            "[UNK]\n",
            "[CLS]\n",
            "[SEP]\n",
            "[MASK]\n",
            "!\n",
            "\"\n",
            "#\n",
            "%\n",
            "&\n"
          ]
        }
      ]
    },
    {
      "cell_type": "markdown",
      "metadata": {
        "id": "ACEb0EydeJK5"
      },
      "source": [
        "## 실 사용할 Tokenizer 생성"
      ]
    },
    {
      "cell_type": "code",
      "metadata": {
        "id": "astIVj9-dh-X"
      },
      "source": [
        "tokenizer = BertTokenizer(vocab_file=CUSTOM_VOCAB_FILE, do_lower_case=False, model_max_length=SEQ_LENGTH)"
      ],
      "execution_count": 116,
      "outputs": []
    },
    {
      "cell_type": "code",
      "metadata": {
        "colab": {
          "base_uri": "https://localhost:8080/"
        },
        "id": "jHKzG8c5dh-Y",
        "outputId": "fbddb20a-e0ac-447e-db34-cde97bad4a38"
      },
      "source": [
        "tokenized = tokenizer(\"남자들이 축구 경기를 하고 있다.\", text_pair=\"대화를 나누는 남자들\", max_length=20, padding='max_length')\n",
        "print(\"original sentence  :\", \"남자들이 축구 경기를 하고 있다.\", \"대화를 나누는 남자들\")\n",
        "print(\"tokens             :\", tokenizer.convert_ids_to_tokens(tokenized['input_ids']))\n",
        "print(\"token id           :\", tokenized['input_ids'])\n",
        "print(\"attention mask     :\", tokenized['attention_mask'])\n",
        "print(\"token type         :\", tokenized['token_type_ids'])"
      ],
      "execution_count": 117,
      "outputs": [
        {
          "output_type": "stream",
          "name": "stdout",
          "text": [
            "original sentence  : 남자들이 축구 경기를 하고 있다. 대화를 나누는 남자들\n",
            "tokens             : ['[CLS]', '남자들이', '축구', '경기를', '하고', '있다', '.', '[SEP]', '대화를', '나누는', '남자들', '[SEP]', '[PAD]', '[PAD]', '[PAD]', '[PAD]', '[PAD]', '[PAD]', '[PAD]', '[PAD]']\n",
            "token id           : [2, 685, 550, 1423, 328, 243, 16, 3, 1778, 4918, 1686, 3, 0, 0, 0, 0, 0, 0, 0, 0]\n",
            "attention mask     : [1, 1, 1, 1, 1, 1, 1, 1, 1, 1, 1, 1, 0, 0, 0, 0, 0, 0, 0, 0]\n",
            "token type         : [0, 0, 0, 0, 0, 0, 0, 0, 1, 1, 1, 1, 0, 0, 0, 0, 0, 0, 0, 0]\n"
          ]
        }
      ]
    },
    {
      "cell_type": "code",
      "metadata": {
        "colab": {
          "base_uri": "https://localhost:8080/"
        },
        "id": "gWmRE4XJqrTu",
        "outputId": "8fe4ac06-13da-46ac-ef62-06f2481552d9"
      },
      "source": [
        "for token in ['[CLS]', '남자들이', '축구', '경기를', '하고', '있다', '.', '[SEP]']:\n",
        "  print(token, \"\\t\\t: \", tokenizer.vocab[token])"
      ],
      "execution_count": 118,
      "outputs": [
        {
          "output_type": "stream",
          "name": "stdout",
          "text": [
            "[CLS] \t\t:  2\n",
            "남자들이 \t\t:  685\n",
            "축구 \t\t:  550\n",
            "경기를 \t\t:  1423\n",
            "하고 \t\t:  328\n",
            "있다 \t\t:  243\n",
            ". \t\t:  16\n",
            "[SEP] \t\t:  3\n"
          ]
        }
      ]
    },
    {
      "cell_type": "markdown",
      "metadata": {
        "id": "Kfn4wVkQhkx4"
      },
      "source": [
        "![bert_input_architecture](https://user-images.githubusercontent.com/1250095/50039788-8e4e8a00-007b-11e9-9747-8e29fbbea0b3.png)"
      ]
    },
    {
      "cell_type": "markdown",
      "metadata": {
        "id": "cEnAfwf_Vb1I"
      },
      "source": [
        "## x, y 생성"
      ]
    },
    {
      "cell_type": "markdown",
      "metadata": {
        "id": "k4SlXQh2LwfI"
      },
      "source": [
        "\n",
        "tokernizer 사용 중에 경고 메시지가 많이 뜬다. 억제한다.\n"
      ]
    },
    {
      "cell_type": "code",
      "metadata": {
        "id": "twrpGcuELwfS"
      },
      "source": [
        "import logging\n",
        "logging.basicConfig(level=logging.ERROR)"
      ],
      "execution_count": 119,
      "outputs": []
    },
    {
      "cell_type": "code",
      "metadata": {
        "id": "S7I3pUuBq7Ak"
      },
      "source": [
        "def build_model_input(sentences1, sentences2):\n",
        "  input_ids = []\n",
        "  attention_masks = []\n",
        "  token_type_ids = []\n",
        "\n",
        "  for sentence1, sentence2 in zip(sentences1, sentences2):\n",
        "    tokenized = tokenizer(sentence1, text_pair=sentence2, max_length=SEQ_LENGTH, padding='max_length')\n",
        "    # tokenized = {'input_ids': [101, ...], 'token_type_ids': [0, ...], 'attention_mask': [1, ...]}\n",
        "    input_ids.append(tokenized['input_ids'][:SEQ_LENGTH]) # 버그인지 몰라도 SEQ_LENGTH이상이어도 더 크게 나온다.\n",
        "    attention_masks.append(tokenized['attention_mask'][:SEQ_LENGTH])\n",
        "    token_type_ids.append(tokenized['token_type_ids'][:SEQ_LENGTH])\n",
        "\n",
        "  return (np.array(input_ids), np.array(attention_masks), np.array(token_type_ids))\n"
      ],
      "execution_count": 120,
      "outputs": []
    },
    {
      "cell_type": "code",
      "metadata": {
        "id": "DHtYY3r8LbJV"
      },
      "source": [
        "T = 10000\n",
        "x = build_model_input(sentences1[:T], sentences2[:T])\n",
        "y = labels[:T]"
      ],
      "execution_count": 121,
      "outputs": []
    },
    {
      "cell_type": "markdown",
      "metadata": {
        "id": "adDl0rD0sPCO"
      },
      "source": [
        "x는 다음과 같이 구성됨\n",
        "```\n",
        "x = (  token_ids,  attention_masks,  token_types   )\n",
        "       x[0],       x[1],             [2]\n",
        "```\n",
        "\n",
        "<br>\n",
        "\n",
        "첫번 째 데이터는 \n",
        "```\n",
        "   ( token_ids[0],  attention_masks[0], token_types[0] )\n",
        " = ( x[0][0],       x[1][0],            x[2][0]  )\n",
        "```\n"
      ]
    },
    {
      "cell_type": "markdown",
      "metadata": {
        "id": "2HfIzDjeY0d7"
      },
      "source": [
        "## train/test 분리"
      ]
    },
    {
      "cell_type": "code",
      "metadata": {
        "id": "xxqohOmDa72g"
      },
      "source": [
        "def split_bert_data(x, y, test_ratio):\n",
        "  split_index = int(len(y)*(1-test_ratio))\n",
        "  train_x = (x[0][:split_index], x[1][:split_index], x[2][:split_index])\n",
        "  test_x  = (x[0][split_index:], x[1][split_index:], x[2][split_index:])\n",
        "  train_y, test_y = y[:split_index], y[split_index:]\n",
        "\n",
        "  return (train_x, train_y), (test_x, test_y)\n",
        "\n",
        "(train_x, train_y), (test_x, test_y) = split_bert_data(x, y, test_ratio=0.2)"
      ],
      "execution_count": 122,
      "outputs": []
    },
    {
      "cell_type": "code",
      "metadata": {
        "colab": {
          "base_uri": "https://localhost:8080/"
        },
        "id": "-cUiOQOUhYcW",
        "outputId": "0b0479f3-a2cd-4dd0-8b0a-d6783a060014"
      },
      "source": [
        "print(sentences1[0], sentences2[0])\n",
        "print(tokenizer.decode(train_x[0][0][:30]))\n",
        "print(train_x[0][0][:30])\n",
        "print(train_x[1][0][:30])\n",
        "print(train_x[2][0][:30])"
      ],
      "execution_count": 123,
      "outputs": [
        {
          "output_type": "stream",
          "name": "stdout",
          "text": [
            "남자들이 축구 경기를 하고 있다. 대화를 나누는 남자들\n",
            "[CLS] 남자들이 축구 경기를 하고 있다. [SEP] 대화를 나누는 남자들 [SEP] [PAD] [PAD] [PAD] [PAD] [PAD] [PAD] [PAD] [PAD] [PAD] [PAD] [PAD] [PAD] [PAD] [PAD] [PAD] [PAD] [PAD] [PAD]\n",
            "[   2  685  550 1423  328  243   16    3 1778 4918 1686    3    0    0\n",
            "    0    0    0    0    0    0    0    0    0    0    0    0    0    0\n",
            "    0    0]\n",
            "[1 1 1 1 1 1 1 1 1 1 1 1 0 0 0 0 0 0 0 0 0 0 0 0 0 0 0 0 0 0]\n",
            "[0 0 0 0 0 0 0 0 1 1 1 1 0 0 0 0 0 0 0 0 0 0 0 0 0 0 0 0 0 0]\n"
          ]
        }
      ]
    },
    {
      "cell_type": "markdown",
      "metadata": {
        "id": "HWb-Ip8pYEQg"
      },
      "source": [
        "# 학습"
      ]
    },
    {
      "cell_type": "markdown",
      "metadata": {
        "id": "5Txqhf6XYFyP"
      },
      "source": [
        "## 모델 생성"
      ]
    },
    {
      "cell_type": "code",
      "metadata": {
        "id": "7-vXh3QmT5nu"
      },
      "source": [
        "from tensorflow.keras.initializers import TruncatedNormal\n",
        "from tensorflow.keras.layers import Dense, Dropout\n",
        "\n",
        "class TFBertClassifier(tf.keras.Model):\n",
        "  def __init__(self):\n",
        "    super(TFBertClassifier, self).__init__()\n",
        "\n",
        "    self.bert = TFBertModel.from_pretrained(BERT_MODEL_NAME, trainable=True)\n",
        "    self.dropout = Dropout(self.bert.config.hidden_dropout_prob)\n",
        "    self.classifier = Dense(3, kernel_initializer=TruncatedNormal(self.bert.config.initializer_range), \n",
        "                            name=\"classifier\", activation=\"softmax\")\n",
        "\n",
        "  def call(self, inputs, attention_mask=None, token_type_ids=None, training=True):\n",
        "\n",
        "    outputs = self.bert(inputs, attention_mask=attention_mask, token_type_ids=token_type_ids)\n",
        "    # outputs 값: # sequence_output, pooled_output, (hidden_states), (attentions)\n",
        "    pooled_output = outputs[1] \n",
        "    v = self.dropout(pooled_output, training=training)\n",
        "    out = self.classifier(v)\n",
        "\n",
        "    return out\n",
        "\n",
        "model = TFBertClassifier()\n"
      ],
      "execution_count": 124,
      "outputs": []
    },
    {
      "cell_type": "markdown",
      "metadata": {
        "id": "GfycyrGDYg51"
      },
      "source": [
        "참고로 Bert의 default 설정은 다음과 같다."
      ]
    },
    {
      "cell_type": "code",
      "metadata": {
        "colab": {
          "base_uri": "https://localhost:8080/"
        },
        "id": "6rFMC5hjYe93",
        "outputId": "7bf81795-af56-46d2-ff56-3acf05ccd246"
      },
      "source": [
        "print(model.bert.config)"
      ],
      "execution_count": 125,
      "outputs": [
        {
          "output_type": "stream",
          "name": "stdout",
          "text": [
            "BertConfig {\n",
            "  \"architectures\": [\n",
            "    \"BertForMaskedLM\"\n",
            "  ],\n",
            "  \"attention_probs_dropout_prob\": 0.1,\n",
            "  \"directionality\": \"bidi\",\n",
            "  \"gradient_checkpointing\": false,\n",
            "  \"hidden_act\": \"gelu\",\n",
            "  \"hidden_dropout_prob\": 0.1,\n",
            "  \"hidden_size\": 768,\n",
            "  \"initializer_range\": 0.02,\n",
            "  \"intermediate_size\": 3072,\n",
            "  \"layer_norm_eps\": 1e-12,\n",
            "  \"max_position_embeddings\": 512,\n",
            "  \"model_type\": \"bert\",\n",
            "  \"num_attention_heads\": 12,\n",
            "  \"num_hidden_layers\": 12,\n",
            "  \"pad_token_id\": 0,\n",
            "  \"pooler_fc_size\": 768,\n",
            "  \"pooler_num_attention_heads\": 12,\n",
            "  \"pooler_num_fc_layers\": 3,\n",
            "  \"pooler_size_per_head\": 128,\n",
            "  \"pooler_type\": \"first_token_transform\",\n",
            "  \"type_vocab_size\": 2,\n",
            "  \"vocab_size\": 119547\n",
            "}\n",
            "\n"
          ]
        }
      ]
    },
    {
      "cell_type": "code",
      "metadata": {
        "id": "3ZIUqxuBbfq4"
      },
      "source": [
        "from tensorflow.keras.optimizers import Adam\n",
        "from tensorflow.keras.losses import SparseCategoricalCrossentropy\n",
        "\n",
        "optimizer = Adam(3e-5)\n",
        "loss = SparseCategoricalCrossentropy()\n",
        "model.compile(optimizer=optimizer, loss=loss, metrics=[\"accuracy\"])\n"
      ],
      "execution_count": 126,
      "outputs": []
    },
    {
      "cell_type": "markdown",
      "metadata": {
        "id": "s5JdxQn-bNPp"
      },
      "source": [
        "## 학습 실행"
      ]
    },
    {
      "cell_type": "code",
      "metadata": {
        "colab": {
          "base_uri": "https://localhost:8080/"
        },
        "id": "6WU1NbHObNBY",
        "outputId": "277fab2e-a186-4a37-ee95-a2ea81436b36"
      },
      "source": [
        "history = model.fit(train_x, train_y, epochs=5, batch_size=32, validation_split=0.1)"
      ],
      "execution_count": 127,
      "outputs": [
        {
          "output_type": "stream",
          "name": "stdout",
          "text": [
            "Epoch 1/5\n",
            "12379/12379 [==============================] - 6197s 499ms/step - loss: 0.8007 - accuracy: 0.6428 - val_loss: 0.7197 - val_accuracy: 0.6989\n",
            "Epoch 2/5\n",
            "12379/12379 [==============================] - 6168s 498ms/step - loss: 0.6630 - accuracy: 0.7230 - val_loss: 0.6837 - val_accuracy: 0.7186\n",
            "Epoch 3/5\n",
            "12379/12379 [==============================] - 6173s 499ms/step - loss: 0.5709 - accuracy: 0.7700 - val_loss: 0.7010 - val_accuracy: 0.7288\n",
            "Epoch 4/5\n",
            "12379/12379 [==============================] - 6162s 498ms/step - loss: 0.4771 - accuracy: 0.8147 - val_loss: 0.6684 - val_accuracy: 0.7346\n",
            "Epoch 5/5\n",
            "12379/12379 [==============================] - 6169s 498ms/step - loss: 0.3813 - accuracy: 0.8560 - val_loss: 0.8119 - val_accuracy: 0.7281\n"
          ]
        }
      ]
    },
    {
      "cell_type": "code",
      "metadata": {
        "id": "9JlJLgKw0iHT",
        "colab": {
          "base_uri": "https://localhost:8080/"
        },
        "outputId": "6b5710f6-860f-49ed-fafa-94de90ca15d9"
      },
      "source": [
        "loss, acc = model.evaluate(test_x, test_y, batch_size=32)\n",
        "print(\"loss =\", loss)\n",
        "print(\"acc =\", acc)"
      ],
      "execution_count": 128,
      "outputs": [
        {
          "output_type": "stream",
          "name": "stdout",
          "text": [
            "3439/3439 [==============================] - 558s 162ms/step - loss: 0.8115 - accuracy: 0.7287\n",
            "loss = 0.8114949464797974\n",
            "acc = 0.7286855578422546\n"
          ]
        }
      ]
    },
    {
      "cell_type": "markdown",
      "metadata": {
        "id": "PvnNncG_3p87"
      },
      "source": [
        "## 분류 실행"
      ]
    },
    {
      "cell_type": "code",
      "metadata": {
        "id": "RNsQMfcjV5T8",
        "colab": {
          "base_uri": "https://localhost:8080/"
        },
        "outputId": "4f5cf43c-3a59-4e5d-912b-ff9fa89721fa"
      },
      "source": [
        "def do_classify(sentence1, sentence2):\n",
        "  model_input = build_model_input([sentence1], [sentence2])\n",
        "  y_ = model.predict(model_input)\n",
        "  predicted = np.argmax(y_, axis=-1)[0]\n",
        "  print(sentence1, sentence2, \"-->\", category_names[predicted], \",score :\",y_[0][predicted])\n",
        "\n",
        "do_classify(\"나는 왜 그런지 잘 모르겠다.\", \"나는 그 이유에 관해 확신한다.\")\n",
        "do_classify(\"나는 왜 그런지 잘 모르겠다.\", \"나는 그가 왜 학교를 전학했는지 모르겠다.\")\n",
        "do_classify(\"나는 왜 그런지 잘 모르겠다.\", \"나는 왜 그런 일이 일어났는지 모르겠어.\")"
      ],
      "execution_count": 129,
      "outputs": [
        {
          "output_type": "stream",
          "name": "stdout",
          "text": [
            "나는 왜 그런지 잘 모르겠다. 나는 그 이유에 관해 확신한다. --> neutral ,score : 0.60375\n",
            "나는 왜 그런지 잘 모르겠다. 나는 그가 왜 학교를 전학했는지 모르겠다. --> neutral ,score : 0.98842746\n",
            "나는 왜 그런지 잘 모르겠다. 나는 왜 그런 일이 일어났는지 모르겠어. --> entailment ,score : 0.5320901\n"
          ]
        }
      ]
    },
    {
      "cell_type": "code",
      "metadata": {
        "id": "Uqngphqe6jDo"
      },
      "source": [
        ""
      ],
      "execution_count": null,
      "outputs": []
    }
  ]
}