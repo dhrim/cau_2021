{
  "nbformat": 4,
  "nbformat_minor": 0,
  "metadata": {
    "colab": {
      "name": "template_attribute_data_regression.ipynb",
      "provenance": [],
      "collapsed_sections": []
    },
    "kernelspec": {
      "name": "python3",
      "display_name": "Python 3"
    },
    "accelerator": "GPU"
  },
  "cells": [
    {
      "cell_type": "markdown",
      "metadata": {
        "id": "giMgHzNY8861"
      },
      "source": [
        "# 속성 데이터 회귀 Template"
      ]
    },
    {
      "cell_type": "markdown",
      "metadata": {
        "id": "qDu8wpKXq7kV"
      },
      "source": [
        "# 데이터 준비"
      ]
    },
    {
      "cell_type": "code",
      "metadata": {
        "id": "ROMsisKxw8MC"
      },
      "source": [
        "import numpy as np\n",
        "import pandas as pd\n",
        "import matplotlib.pyplot as plt"
      ],
      "execution_count": 1,
      "outputs": []
    },
    {
      "cell_type": "code",
      "metadata": {
        "colab": {
          "base_uri": "https://localhost:8080/"
        },
        "id": "gwMz9NaYwx5e",
        "outputId": "d8e149f1-7eda-4236-a4ae-f6e7cc72ed71"
      },
      "source": [
        "!wget https://raw.githubusercontent.com/dhrim/cau_2021/master/material/deep_learning/car_regression.csv"
      ],
      "execution_count": 2,
      "outputs": [
        {
          "output_type": "stream",
          "text": [
            "--2021-08-25 13:07:10--  https://raw.githubusercontent.com/dhrim/cau_2021/master/material/deep_learning/car_regression.csv\n",
            "Resolving raw.githubusercontent.com (raw.githubusercontent.com)... 185.199.108.133, 185.199.109.133, 185.199.110.133, ...\n",
            "Connecting to raw.githubusercontent.com (raw.githubusercontent.com)|185.199.108.133|:443... connected.\n",
            "HTTP request sent, awaiting response... 200 OK\n",
            "Length: 58697 (57K) [text/plain]\n",
            "Saving to: ‘car_regression.csv’\n",
            "\n",
            "car_regression.csv  100%[===================>]  57.32K  --.-KB/s    in 0.008s  \n",
            "\n",
            "2021-08-25 13:07:11 (7.10 MB/s) - ‘car_regression.csv’ saved [58697/58697]\n",
            "\n"
          ],
          "name": "stdout"
        }
      ]
    },
    {
      "cell_type": "code",
      "metadata": {
        "id": "VckhCYiwxAZj"
      },
      "source": [
        "raw_data = pd.read_csv(\"car_regression.csv\")\n",
        "data = raw_data.to_numpy()\n",
        "np.random.shuffle(data)\n",
        "\n",
        "x = data[:,1:]\n",
        "y = data[:,:1]\n",
        "\n",
        "split_index = int(len(x)*0.8)\n",
        "train_x, test_x = x[:split_index], x[split_index:]\n",
        "train_y, test_y = y[:split_index], y[split_index:]"
      ],
      "execution_count": 3,
      "outputs": []
    },
    {
      "cell_type": "code",
      "metadata": {
        "colab": {
          "base_uri": "https://localhost:8080/"
        },
        "id": "JskspNe2Z5F5",
        "outputId": "6c51a3d9-151a-4687-e608-0cea700f5edb"
      },
      "source": [
        "print(train_x[:5])\n",
        "print(train_y[:5])"
      ],
      "execution_count": 9,
      "outputs": [
        {
          "output_type": "stream",
          "text": [
            "[[-0.86291079 -0.69198413 -0.22003462 -0.79771856 -0.01497955  0.27700357\n",
            "   1.          0.          0.        ]\n",
            " [ 1.48205303  1.18103289  1.05298495  1.3685099  -0.66742197  0.27700357\n",
            "   1.          0.          0.        ]\n",
            " [-0.86291079 -0.51997236 -0.37591457 -0.67057036  1.43489251 -1.08031391\n",
            "   1.          0.          0.        ]\n",
            " [ 1.48205303  2.49023356  3.13138426  1.70403986 -2.00855363 -1.6232409\n",
            "   1.          0.          0.        ]\n",
            " [-0.86291079 -0.56775341 -0.53179452 -0.57403192  0.05751406  1.36285755\n",
            "   1.          0.          0.        ]]\n",
            "[[ 0.26317484]\n",
            " [-1.01805391]\n",
            " [-0.44150097]\n",
            " [-1.21023822]\n",
            " [ 0.48098373]]\n"
          ],
          "name": "stdout"
        }
      ]
    },
    {
      "cell_type": "code",
      "metadata": {
        "colab": {
          "base_uri": "https://localhost:8080/"
        },
        "id": "XR8Ck1Er6HmY",
        "outputId": "db6f4e33-4b87-4596-a1c8-b963116c5141"
      },
      "source": [
        "print(train_x.shape)\n",
        "print(train_y.shape)\n",
        "print(test_x.shape)\n",
        "print(test_y.shape)"
      ],
      "execution_count": 10,
      "outputs": [
        {
          "output_type": "stream",
          "text": [
            "(313, 9)\n",
            "(313, 1)\n",
            "(79, 9)\n",
            "(79, 1)\n"
          ],
          "name": "stdout"
        }
      ]
    },
    {
      "cell_type": "markdown",
      "metadata": {
        "id": "PvaZhPiSq5Gc"
      },
      "source": [
        "# Template"
      ]
    },
    {
      "cell_type": "code",
      "metadata": {
        "id": "S-wBUWBH_mTQ",
        "colab": {
          "base_uri": "https://localhost:8080/",
          "height": 806
        },
        "outputId": "0b69cbcb-06a7-4015-be51-fa34fe6904f3"
      },
      "source": [
        "import numpy as np\n",
        "import pandas as pd\n",
        "import matplotlib.pyplot as plt\n",
        "\n",
        "import tensorflow as tf\n",
        "\n",
        "from tensorflow import keras\n",
        "from tensorflow.keras import optimizers\n",
        "from tensorflow.keras.layers import Dense\n",
        "\n",
        "model = keras.Sequential()\n",
        "model.add(Dense(10, activation='relu', input_shape=(9,)))\n",
        "model.add(Dense(10, activation='relu'))\n",
        "model.add(Dense(1))\n",
        "\n",
        "model.compile(optimizer=\"SGD\", loss=\"mse\", metrics=[\"mae\"])\n",
        "model.summary()\n",
        "\n",
        "history = model.fit(train_x, train_y, epochs=1000, verbose=0, batch_size=128, validation_split=0.1)\n",
        "\n",
        "plt.plot(history.history['loss'])\n",
        "plt.plot(history.history['val_loss'])\n",
        "plt.show()\n",
        "\n",
        "\n",
        "\n",
        "loss, mae = model.evaluate(test_x, test_y)\n",
        "print(\"loss=\", loss)\n",
        "print(\"mae=\", mae)\n",
        "\n",
        "\n",
        "plt.scatter(test_y, y_)\n",
        "plt.show()"
      ],
      "execution_count": 11,
      "outputs": [
        {
          "output_type": "stream",
          "text": [
            "Model: \"sequential_2\"\n",
            "_________________________________________________________________\n",
            "Layer (type)                 Output Shape              Param #   \n",
            "=================================================================\n",
            "dense_6 (Dense)              (None, 10)                100       \n",
            "_________________________________________________________________\n",
            "dense_7 (Dense)              (None, 10)                110       \n",
            "_________________________________________________________________\n",
            "dense_8 (Dense)              (None, 1)                 11        \n",
            "=================================================================\n",
            "Total params: 221\n",
            "Trainable params: 221\n",
            "Non-trainable params: 0\n",
            "_________________________________________________________________\n",
            "3/3 [==============================] - 0s 4ms/step - loss: 0.1480 - mae: 0.2612\n",
            "loss= 0.1479504108428955\n",
            "mae= 0.2612096667289734\n"
          ],
          "name": "stdout"
        },
        {
          "output_type": "display_data",
          "data": {
            "image/png": "[encoded data removed]",
            "text/plain": [
              "<Figure size 432x288 with 1 Axes>"
            ]
          },
          "metadata": {
            "needs_background": "light"
          }
        },
        {
          "output_type": "display_data",
          "data": {
            "image/png": "[encoded data removed]",
            "text/plain": [
              "<Figure size 432x288 with 1 Axes>"
            ]
          },
          "metadata": {
            "needs_background": "light"
          }
        }
      ]
    },
    {
      "cell_type": "code",
      "metadata": {
        "id": "-OlstKv7zLpI"
      },
      "source": [
        ""
      ],
      "execution_count": 6,
      "outputs": []
    }
  ]
}