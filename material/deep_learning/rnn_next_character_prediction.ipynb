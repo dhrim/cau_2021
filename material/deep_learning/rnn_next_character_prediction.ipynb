{
  "nbformat": 4,
  "nbformat_minor": 0,
  "metadata": {
    "colab": {
      "name": "rnn_next_character_prediction.ipynb",
      "provenance": [],
      "collapsed_sections": [],
      "toc_visible": true
    },
    "kernelspec": {
      "name": "python3",
      "display_name": "Python 3"
    },
    "language_info": {
      "name": "python"
    },
    "accelerator": "GPU"
  },
  "cells": [
    {
      "cell_type": "markdown",
      "metadata": {
        "id": "gv9nJ_bMt3uy"
      },
      "source": [
        "copy from https://machinelearningmastery.com/text-generation-lstm-recurrent-neural-networks-python-keras/"
      ]
    },
    {
      "cell_type": "code",
      "metadata": {
        "id": "m1NdSvZiy9pi"
      },
      "source": [
        "import numpy\n",
        "from tensorflow.keras.models import Sequential\n",
        "from tensorflow.keras.layers import Dense, Dropout, LSTM\n",
        "from tensorflow.keras.callbacks import ModelCheckpoint"
      ],
      "execution_count": 2,
      "outputs": []
    },
    {
      "cell_type": "markdown",
      "metadata": {
        "id": "swqyBux_9q15"
      },
      "source": [
        "# 데이터"
      ]
    },
    {
      "cell_type": "code",
      "metadata": {
        "id": "aklnTJzD7r78"
      },
      "source": [
        "import string\n",
        "\n",
        "all_char = string.ascii_lowercase + string.digits\n",
        "# all_char = 'abcdefghijklmnopqrstuvwxyz0123456789'\n",
        "# len(all_char) = 36\n",
        "\n",
        "raw_text = all_char*100\n",
        "# len(raw_text) = 3600\n",
        "\n",
        "SEQ_LENGTH = 10"
      ],
      "execution_count": 3,
      "outputs": []
    },
    {
      "cell_type": "markdown",
      "metadata": {
        "id": "0vkRiI88-nHf"
      },
      "source": [
        "## 문자 인덱스 <--> 문자 변환"
      ]
    },
    {
      "cell_type": "code",
      "metadata": {
        "id": "XD50z_lKy9kC"
      },
      "source": [
        "chars = sorted(list(set(raw_text)))\n",
        "# chars = ['\\n', ' ', '!', '\"', \"'\", '(', ')', '*', ',', '-', '.', '0', '3', ':', ';', '?', '[', ']', '_', '`', 'a', 'b', 'c', 'd', 'e', 'f', 'g', 'h', 'i', 'j', 'k', 'l', 'm', 'n', 'o', 'p', 'q', 'r', 's', 't', 'u', 'v', 'w', 'x', 'y', 'z']\n",
        "\n",
        "char_to_int = dict((c, i) for i, c in enumerate(chars))\n",
        "# char_to_int = {'\\n': 0, ' ': 1, '!': 2, '\"': 3, \"'\": 4, '(': 5, ')': 6, '*': 7, ',': 8, '-': 9, '.': 10, '0': 11, '3': 12, ':': 13, ';': 14, '?': 15, '[': 16, ']': 17, '_': 18, '`': 19, 'a': 20, 'b': 21, 'c': 22, 'd': 23, 'e': 24, 'f': 25, 'g': 26, 'h': 27, 'i': 28, 'j': 29, 'k': 30, 'l': 31, 'm': 32, 'n': 33, 'o': 34, 'p': 35, 'q': 36, 'r': 37, 's': 38, 't': 39, 'u': 40, 'v': 41, 'w': 42, 'x': 43, 'y': 44, 'z': 45}\n",
        "int_to_char = dict((i, c) for i, c in enumerate(chars))\n",
        "# int_to_char = {0: '\\n', 1: ' ', 2: '!', 3: '\"', 4: \"'\", 5: '(', 6: ')', 7: '*', 8: ',', 9: '-', 10: '.', 11: '0', 12: '3', 13: ':', 14: ';', 15: '?', 16: '[', 17: ']', 18: '_', 19: '`', 20: 'a', 21: 'b', 22: 'c', 23: 'd', 24: 'e', 25: 'f', 26: 'g', 27: 'h', 28: 'i', 29: 'j', 30: 'k', 31: 'l', 32: 'm', 33: 'n', 34: 'o', 35: 'p', 36: 'q', 37: 'r', 38: 's', 39: 't', 40: 'u', 41: 'v', 42: 'w', 43: 'x', 44: 'y', 45: 'z'}\n"
      ],
      "execution_count": 4,
      "outputs": []
    },
    {
      "cell_type": "markdown",
      "metadata": {
        "id": "3XBiD7uF-107"
      },
      "source": [
        "## text 길이, 문자 수"
      ]
    },
    {
      "cell_type": "code",
      "metadata": {
        "colab": {
          "base_uri": "https://localhost:8080/"
        },
        "id": "gwJSCX5Uy9g_",
        "outputId": "8d222b35-b43b-4dd3-e294-967e61703057"
      },
      "source": [
        "n_chars = len(raw_text)\n",
        "n_vocab = len(chars)\n",
        "print(\"Total Characters: \", n_chars)\n",
        "print(\"Total Vocab: \", n_vocab)"
      ],
      "execution_count": 5,
      "outputs": [
        {
          "output_type": "stream",
          "name": "stdout",
          "text": [
            "Total Characters:  3600\n",
            "Total Vocab:  36\n"
          ]
        }
      ]
    },
    {
      "cell_type": "markdown",
      "metadata": {
        "id": "kVrZBkCr-6EM"
      },
      "source": [
        "## 입출력 데이터 만들기"
      ]
    },
    {
      "cell_type": "markdown",
      "metadata": {
        "id": "eUNUvjdU0bc2"
      },
      "source": [
        "```\n",
        "# seq_length=20\n",
        "\n",
        "         1         2         3         4         5         6    \n",
        "123456789012345678901234567890123456789012345678901234567890\n",
        "alice's adventures in wonderland\n",
        "<----- seq_in------>\n",
        "                    ^\n",
        "                    |\n",
        "                seq_out\n",
        "```\n",
        "\n",
        "```\n",
        "seq_in = 'alice's adventures i'\n",
        "seq_out = 'n'\n",
        "```"
      ]
    },
    {
      "cell_type": "code",
      "metadata": {
        "colab": {
          "base_uri": "https://localhost:8080/"
        },
        "id": "YJzkgzsky9c-",
        "outputId": "626a5869-3068-4a56-b13c-09af24f9945b"
      },
      "source": [
        "seq_length = SEQ_LENGTH\n",
        "dataX = []\n",
        "dataY = []\n",
        "for i in range(0, n_chars - seq_length, 1):\n",
        "\tseq_in = raw_text[i:i + seq_length]\n",
        "\tseq_out = raw_text[i + seq_length]\n",
        "\tdataX.append([char_to_int[char] for char in seq_in])\n",
        "\tdataY.append(char_to_int[seq_out])\n",
        "n_patterns = len(dataX)\n",
        "print(\"Total Patterns: \", n_patterns)\n",
        "\n",
        "X = numpy.reshape(dataX, (n_patterns, seq_length, 1))\n",
        "# X.shape = (148474, 100, 1)   # 데이터 148,474개, 1개 데이터는 길이 100 \n",
        "\n",
        "# normalize\n",
        "X = X / float(n_vocab)\n",
        "y = numpy.array(dataY)\n",
        "# y = [1, 1, 1, 1, 1, 1, 1, 1, 1, 1, 31, 24, 42, 28, 38, 1, 22, 20, 37, 37 ... ]\n",
        "# y.shape = (148474, )  # 데이터 148,474개. "
      ],
      "execution_count": 6,
      "outputs": [
        {
          "output_type": "stream",
          "name": "stdout",
          "text": [
            "Total Patterns:  3590\n"
          ]
        }
      ]
    },
    {
      "cell_type": "code",
      "metadata": {
        "colab": {
          "base_uri": "https://localhost:8080/"
        },
        "id": "V7uVKU983Fbq",
        "outputId": "8687125f-a1e0-4de6-e1ed-098952f1bcdc"
      },
      "source": [
        "print(y.shape)"
      ],
      "execution_count": 7,
      "outputs": [
        {
          "output_type": "stream",
          "name": "stdout",
          "text": [
            "(3590,)\n"
          ]
        }
      ]
    },
    {
      "cell_type": "markdown",
      "metadata": {
        "id": "vN1VzhDg-9x_"
      },
      "source": [
        "# 학습"
      ]
    },
    {
      "cell_type": "markdown",
      "metadata": {
        "id": "KzeG6Rna--58"
      },
      "source": [
        "## 모델 정의"
      ]
    },
    {
      "cell_type": "code",
      "metadata": {
        "id": "BEBL8mb32mJV"
      },
      "source": [
        "\n",
        "# define the LSTM model\n",
        "model = Sequential()\n",
        "model.add(LSTM(256, input_shape=(X.shape[1], X.shape[2]), return_sequences=True))\n",
        "model.add(Dropout(0.2))\n",
        "model.add(LSTM(256))\n",
        "model.add(Dropout(0.2))\n",
        "model.add(Dense(n_vocab, activation='softmax'))\n",
        "\n",
        "model.compile(loss='sparse_categorical_crossentropy', optimizer='adam')"
      ],
      "execution_count": 8,
      "outputs": []
    },
    {
      "cell_type": "markdown",
      "metadata": {
        "id": "G6RsdFof_AIb"
      },
      "source": [
        "## 학습 실행"
      ]
    },
    {
      "cell_type": "code",
      "metadata": {
        "colab": {
          "base_uri": "https://localhost:8080/"
        },
        "id": "m8w06r4Rt0mX",
        "outputId": "7977678f-8947-4140-80dc-6431ff5ae3f9"
      },
      "source": [
        "model.fit(X, y, epochs=50, batch_size=256)"
      ],
      "execution_count": 9,
      "outputs": [
        {
          "output_type": "stream",
          "name": "stdout",
          "text": [
            "Epoch 1/50\n",
            "15/15 [==============================] - 6s 7ms/step - loss: 3.4850\n",
            "Epoch 2/50\n",
            "15/15 [==============================] - 0s 7ms/step - loss: 2.9863\n",
            "Epoch 3/50\n",
            "15/15 [==============================] - 0s 7ms/step - loss: 2.3485\n",
            "Epoch 4/50\n",
            "15/15 [==============================] - 0s 6ms/step - loss: 1.7994\n",
            "Epoch 5/50\n",
            "15/15 [==============================] - 0s 6ms/step - loss: 1.4265\n",
            "Epoch 6/50\n",
            "15/15 [==============================] - 0s 6ms/step - loss: 1.2351\n",
            "Epoch 7/50\n",
            "15/15 [==============================] - 0s 7ms/step - loss: 1.2970\n",
            "Epoch 8/50\n",
            "15/15 [==============================] - 0s 6ms/step - loss: 1.0383\n",
            "Epoch 9/50\n",
            "15/15 [==============================] - 0s 6ms/step - loss: 0.8521\n",
            "Epoch 10/50\n",
            "15/15 [==============================] - 0s 7ms/step - loss: 0.7382\n",
            "Epoch 11/50\n",
            "15/15 [==============================] - 0s 7ms/step - loss: 0.6529\n",
            "Epoch 12/50\n",
            "15/15 [==============================] - 0s 6ms/step - loss: 0.5695\n",
            "Epoch 13/50\n",
            "15/15 [==============================] - 0s 7ms/step - loss: 0.5455\n",
            "Epoch 14/50\n",
            "15/15 [==============================] - 0s 6ms/step - loss: 0.6338\n",
            "Epoch 15/50\n",
            "15/15 [==============================] - 0s 6ms/step - loss: 0.6202\n",
            "Epoch 16/50\n",
            "15/15 [==============================] - 0s 7ms/step - loss: 0.4644\n",
            "Epoch 17/50\n",
            "15/15 [==============================] - 0s 6ms/step - loss: 0.8067\n",
            "Epoch 18/50\n",
            "15/15 [==============================] - 0s 7ms/step - loss: 0.4758\n",
            "Epoch 19/50\n",
            "15/15 [==============================] - 0s 6ms/step - loss: 0.3762\n",
            "Epoch 20/50\n",
            "15/15 [==============================] - 0s 7ms/step - loss: 0.3240\n",
            "Epoch 21/50\n",
            "15/15 [==============================] - 0s 7ms/step - loss: 0.2927\n",
            "Epoch 22/50\n",
            "15/15 [==============================] - 0s 7ms/step - loss: 0.2982\n",
            "Epoch 23/50\n",
            "15/15 [==============================] - 0s 6ms/step - loss: 0.2832\n",
            "Epoch 24/50\n",
            "15/15 [==============================] - 0s 7ms/step - loss: 0.2406\n",
            "Epoch 25/50\n",
            "15/15 [==============================] - 0s 7ms/step - loss: 0.2285\n",
            "Epoch 26/50\n",
            "15/15 [==============================] - 0s 7ms/step - loss: 0.2112\n",
            "Epoch 27/50\n",
            "15/15 [==============================] - 0s 6ms/step - loss: 0.3498\n",
            "Epoch 28/50\n",
            "15/15 [==============================] - 0s 6ms/step - loss: 0.5173\n",
            "Epoch 29/50\n",
            "15/15 [==============================] - 0s 6ms/step - loss: 1.1692\n",
            "Epoch 30/50\n",
            "15/15 [==============================] - 0s 6ms/step - loss: 0.8220\n",
            "Epoch 31/50\n",
            "15/15 [==============================] - 0s 7ms/step - loss: 0.4386\n",
            "Epoch 32/50\n",
            "15/15 [==============================] - 0s 6ms/step - loss: 0.2974\n",
            "Epoch 33/50\n",
            "15/15 [==============================] - 0s 6ms/step - loss: 0.2369\n",
            "Epoch 34/50\n",
            "15/15 [==============================] - 0s 7ms/step - loss: 0.2145\n",
            "Epoch 35/50\n",
            "15/15 [==============================] - 0s 7ms/step - loss: 0.1951\n",
            "Epoch 36/50\n",
            "15/15 [==============================] - 0s 6ms/step - loss: 0.1826\n",
            "Epoch 37/50\n",
            "15/15 [==============================] - 0s 7ms/step - loss: 0.1707\n",
            "Epoch 38/50\n",
            "15/15 [==============================] - 0s 6ms/step - loss: 0.1650\n",
            "Epoch 39/50\n",
            "15/15 [==============================] - 0s 6ms/step - loss: 0.1483\n",
            "Epoch 40/50\n",
            "15/15 [==============================] - 0s 6ms/step - loss: 0.1586\n",
            "Epoch 41/50\n",
            "15/15 [==============================] - 0s 7ms/step - loss: 0.1379\n",
            "Epoch 42/50\n",
            "15/15 [==============================] - 0s 7ms/step - loss: 0.3417\n",
            "Epoch 43/50\n",
            "15/15 [==============================] - 0s 7ms/step - loss: 0.3946\n",
            "Epoch 44/50\n",
            "15/15 [==============================] - 0s 7ms/step - loss: 0.2214\n",
            "Epoch 45/50\n",
            "15/15 [==============================] - 0s 6ms/step - loss: 0.6228\n",
            "Epoch 46/50\n",
            "15/15 [==============================] - 0s 6ms/step - loss: 0.6583\n",
            "Epoch 47/50\n",
            "15/15 [==============================] - 0s 7ms/step - loss: 1.1271\n",
            "Epoch 48/50\n",
            "15/15 [==============================] - 0s 6ms/step - loss: 0.4524\n",
            "Epoch 49/50\n",
            "15/15 [==============================] - 0s 6ms/step - loss: 0.2564\n",
            "Epoch 50/50\n",
            "15/15 [==============================] - 0s 7ms/step - loss: 0.1763\n"
          ]
        },
        {
          "output_type": "execute_result",
          "data": {
            "text/plain": [
              "<keras.callbacks.History at 0x7f4cb027dd10>"
            ]
          },
          "metadata": {},
          "execution_count": 9
        }
      ]
    },
    {
      "cell_type": "markdown",
      "metadata": {
        "id": "JMMGAXnu_BuK"
      },
      "source": [
        "## 예측"
      ]
    },
    {
      "cell_type": "code",
      "metadata": {
        "colab": {
          "base_uri": "https://localhost:8080/"
        },
        "id": "uqeSToC93co5",
        "outputId": "3cebc858-d31c-4219-d245-f5bde48c9019"
      },
      "source": [
        "start = numpy.random.randint(0, len(dataX)-1)\n",
        "pattern = dataX[start]\n",
        "print(\"Seed:\")\n",
        "print(\"\\\"\", ''.join([int_to_char[value] for value in pattern]), \"\\\"\")\n",
        "\n",
        "# generate characters\n",
        "for i in range(100):\n",
        "\tx = numpy.reshape(pattern, (1, len(pattern), 1))\n",
        "\tx = x / float(n_vocab)\n",
        "\tprediction = model.predict(x, verbose=0)\n",
        "\tindex = numpy.argmax(prediction)\n",
        "\tresult = int_to_char[index]\n",
        "\tprint(result, end=\"\")\n",
        "\tpattern.append(index)\n",
        "\tpattern = pattern[1:len(pattern)]\n",
        "print(\"\\nDone.\")"
      ],
      "execution_count": 10,
      "outputs": [
        {
          "output_type": "stream",
          "name": "stdout",
          "text": [
            "Seed:\n",
            "\" abcdefghij \"\n",
            "klmnopqrstuvwxy0123456789abcdefghijklmnopqrstuvwxy0123456789abcdefghijklmnopqrstuvwxy0123456789abcde\n",
            "Done.\n"
          ]
        }
      ]
    },
    {
      "cell_type": "markdown",
      "metadata": {
        "id": "Jkx2qWMh_KDx"
      },
      "source": [
        "# GRU로\n"
      ]
    },
    {
      "cell_type": "code",
      "metadata": {
        "id": "Q7uRF1rD_M4d"
      },
      "source": [
        "from tensorflow.keras.layers import GRU\n",
        "\n",
        "# define the LSTM model\n",
        "model = Sequential()\n",
        "# model.add(LSTM(256, input_shape=(X.shape[1], X.shape[2]), return_sequences=True))\n",
        "model.add(GRU(256, input_shape=(X.shape[1], X.shape[2]), return_sequences=True))\n",
        "model.add(Dropout(0.2))\n",
        "# model.add(LSTM(256))\n",
        "model.add(GRU(256))\n",
        "model.add(Dropout(0.2))\n",
        "model.add(Dense(n_vocab, activation='softmax'))\n",
        "\n",
        "model.compile(loss='sparse_categorical_crossentropy', optimizer='adam')"
      ],
      "execution_count": 11,
      "outputs": []
    },
    {
      "cell_type": "code",
      "metadata": {
        "colab": {
          "base_uri": "https://localhost:8080/"
        },
        "id": "EiBh7NRm_UVw",
        "outputId": "9e6a103d-44d3-4da1-d11c-0fb62ccbc79a"
      },
      "source": [
        "model.fit(X, y, epochs=50, batch_size=256)"
      ],
      "execution_count": 12,
      "outputs": [
        {
          "output_type": "stream",
          "name": "stdout",
          "text": [
            "Epoch 1/50\n",
            "15/15 [==============================] - 3s 6ms/step - loss: 3.4841\n",
            "Epoch 2/50\n",
            "15/15 [==============================] - 0s 6ms/step - loss: 2.7317\n",
            "Epoch 3/50\n",
            "15/15 [==============================] - 0s 6ms/step - loss: 2.0706\n",
            "Epoch 4/50\n",
            "15/15 [==============================] - 0s 6ms/step - loss: 1.6820\n",
            "Epoch 5/50\n",
            "15/15 [==============================] - 0s 6ms/step - loss: 1.4387\n",
            "Epoch 6/50\n",
            "15/15 [==============================] - 0s 6ms/step - loss: 1.2141\n",
            "Epoch 7/50\n",
            "15/15 [==============================] - 0s 6ms/step - loss: 1.0592\n",
            "Epoch 8/50\n",
            "15/15 [==============================] - 0s 6ms/step - loss: 1.1264\n",
            "Epoch 9/50\n",
            "15/15 [==============================] - 0s 6ms/step - loss: 1.0305\n",
            "Epoch 10/50\n",
            "15/15 [==============================] - 0s 6ms/step - loss: 0.8324\n",
            "Epoch 11/50\n",
            "15/15 [==============================] - 0s 6ms/step - loss: 0.7032\n",
            "Epoch 12/50\n",
            "15/15 [==============================] - 0s 6ms/step - loss: 0.6047\n",
            "Epoch 13/50\n",
            "15/15 [==============================] - 0s 6ms/step - loss: 0.5384\n",
            "Epoch 14/50\n",
            "15/15 [==============================] - 0s 6ms/step - loss: 0.4881\n",
            "Epoch 15/50\n",
            "15/15 [==============================] - 0s 6ms/step - loss: 0.4502\n",
            "Epoch 16/50\n",
            "15/15 [==============================] - 0s 6ms/step - loss: 0.4726\n",
            "Epoch 17/50\n",
            "15/15 [==============================] - 0s 6ms/step - loss: 0.5241\n",
            "Epoch 18/50\n",
            "15/15 [==============================] - 0s 6ms/step - loss: 0.4904\n",
            "Epoch 19/50\n",
            "15/15 [==============================] - 0s 6ms/step - loss: 0.7090\n",
            "Epoch 20/50\n",
            "15/15 [==============================] - 0s 6ms/step - loss: 0.4452\n",
            "Epoch 21/50\n",
            "15/15 [==============================] - 0s 6ms/step - loss: 0.3106\n",
            "Epoch 22/50\n",
            "15/15 [==============================] - 0s 6ms/step - loss: 0.2722\n",
            "Epoch 23/50\n",
            "15/15 [==============================] - 0s 6ms/step - loss: 0.2415\n",
            "Epoch 24/50\n",
            "15/15 [==============================] - 0s 6ms/step - loss: 0.2260\n",
            "Epoch 25/50\n",
            "15/15 [==============================] - 0s 5ms/step - loss: 0.1953\n",
            "Epoch 26/50\n",
            "15/15 [==============================] - 0s 6ms/step - loss: 0.2063\n",
            "Epoch 27/50\n",
            "15/15 [==============================] - 0s 6ms/step - loss: 0.1893\n",
            "Epoch 28/50\n",
            "15/15 [==============================] - 0s 6ms/step - loss: 0.2067\n",
            "Epoch 29/50\n",
            "15/15 [==============================] - 0s 6ms/step - loss: 0.1438\n",
            "Epoch 30/50\n",
            "15/15 [==============================] - 0s 6ms/step - loss: 0.1335\n",
            "Epoch 31/50\n",
            "15/15 [==============================] - 0s 6ms/step - loss: 0.1226\n",
            "Epoch 32/50\n",
            "15/15 [==============================] - 0s 6ms/step - loss: 0.1111\n",
            "Epoch 33/50\n",
            "15/15 [==============================] - 0s 6ms/step - loss: 0.1048\n",
            "Epoch 34/50\n",
            "15/15 [==============================] - 0s 6ms/step - loss: 0.1361\n",
            "Epoch 35/50\n",
            "15/15 [==============================] - 0s 6ms/step - loss: 0.0921\n",
            "Epoch 36/50\n",
            "15/15 [==============================] - 0s 6ms/step - loss: 0.0970\n",
            "Epoch 37/50\n",
            "15/15 [==============================] - 0s 6ms/step - loss: 0.1396\n",
            "Epoch 38/50\n",
            "15/15 [==============================] - 0s 6ms/step - loss: 1.4886\n",
            "Epoch 39/50\n",
            "15/15 [==============================] - 0s 6ms/step - loss: 4.2691\n",
            "Epoch 40/50\n",
            "15/15 [==============================] - 0s 6ms/step - loss: 1.7398\n",
            "Epoch 41/50\n",
            "15/15 [==============================] - 0s 6ms/step - loss: 0.9879\n",
            "Epoch 42/50\n",
            "15/15 [==============================] - 0s 6ms/step - loss: 0.6657\n",
            "Epoch 43/50\n",
            "15/15 [==============================] - 0s 6ms/step - loss: 0.4963\n",
            "Epoch 44/50\n",
            "15/15 [==============================] - 0s 6ms/step - loss: 0.4035\n",
            "Epoch 45/50\n",
            "15/15 [==============================] - 0s 6ms/step - loss: 0.3362\n",
            "Epoch 46/50\n",
            "15/15 [==============================] - 0s 6ms/step - loss: 0.3242\n",
            "Epoch 47/50\n",
            "15/15 [==============================] - 0s 6ms/step - loss: 0.2888\n",
            "Epoch 48/50\n",
            "15/15 [==============================] - 0s 6ms/step - loss: 0.4256\n",
            "Epoch 49/50\n",
            "15/15 [==============================] - 0s 6ms/step - loss: 0.6789\n",
            "Epoch 50/50\n",
            "15/15 [==============================] - 0s 6ms/step - loss: 0.6088\n"
          ]
        },
        {
          "output_type": "execute_result",
          "data": {
            "text/plain": [
              "<keras.callbacks.History at 0x7f4cb0193750>"
            ]
          },
          "metadata": {},
          "execution_count": 12
        }
      ]
    },
    {
      "cell_type": "code",
      "metadata": {
        "colab": {
          "base_uri": "https://localhost:8080/"
        },
        "id": "Z-8Jb_4J_f9-",
        "outputId": "06c5e2e3-ec09-46b8-82ff-84c6eee29cce"
      },
      "source": [
        "start = numpy.random.randint(0, len(dataX)-1)\n",
        "pattern = dataX[start]\n",
        "print(\"Seed:\")\n",
        "print(\"\\\"\", ''.join([int_to_char[value] for value in pattern]), \"\\\"\")\n",
        "\n",
        "# generate characters\n",
        "for i in range(100):\n",
        "\tx = numpy.reshape(pattern, (1, len(pattern), 1))\n",
        "\tx = x / float(n_vocab)\n",
        "\tprediction = model.predict(x, verbose=0)\n",
        "\tindex = numpy.argmax(prediction)\n",
        "\tresult = int_to_char[index]\n",
        "\tprint(result, end=\"\")\n",
        "\tpattern.append(index)\n",
        "\tpattern = pattern[1:len(pattern)]\n",
        "print(\"\\nDone.\")"
      ],
      "execution_count": 13,
      "outputs": [
        {
          "output_type": "stream",
          "name": "stdout",
          "text": [
            "Seed:\n",
            "\" 3456789abc \"\n",
            "cdefghijklmnopqrstuvwwxzz0123455789aaacdefghijjkmnopqqrstuwwxyzz0123456789aaacdefghijjkmnopqqrstuwwx\n",
            "Done.\n"
          ]
        }
      ]
    },
    {
      "cell_type": "markdown",
      "metadata": {
        "id": "ZvT6nvam_o3t"
      },
      "source": [
        "# Bidirectional 로"
      ]
    },
    {
      "cell_type": "code",
      "metadata": {
        "id": "qiEqBaRd_uvp"
      },
      "source": [
        "from tensorflow.keras.layers import Bidirectional\n",
        "\n",
        "# define the LSTM model\n",
        "model = Sequential()\n",
        "# model.add(LSTM(256, input_shape=(X.shape[1], X.shape[2]), return_sequences=True))\n",
        "model.add(Bidirectional(LSTM(256, input_shape=(X.shape[1], X.shape[2]), return_sequences=True)))\n",
        "model.add(Dropout(0.2))\n",
        "# model.add(LSTM(256))\n",
        "model.add(Bidirectional(LSTM(256)))\n",
        "model.add(Dropout(0.2))\n",
        "model.add(Dense(n_vocab, activation='softmax'))\n",
        "\n",
        "model.compile(loss='sparse_categorical_crossentropy', optimizer='adam')"
      ],
      "execution_count": 14,
      "outputs": []
    },
    {
      "cell_type": "code",
      "metadata": {
        "colab": {
          "base_uri": "https://localhost:8080/"
        },
        "id": "GAaSO86R_uv1",
        "outputId": "b47c3e53-2135-4046-e3dc-221a9cef47fd"
      },
      "source": [
        "model.fit(X, y, epochs=50, batch_size=256)"
      ],
      "execution_count": 15,
      "outputs": [
        {
          "output_type": "stream",
          "name": "stdout",
          "text": [
            "Epoch 1/50\n",
            "15/15 [==============================] - 6s 13ms/step - loss: 3.4383\n",
            "Epoch 2/50\n",
            "15/15 [==============================] - 0s 13ms/step - loss: 2.4754\n",
            "Epoch 3/50\n",
            "15/15 [==============================] - 0s 13ms/step - loss: 1.5842\n",
            "Epoch 4/50\n",
            "15/15 [==============================] - 0s 13ms/step - loss: 1.1516\n",
            "Epoch 5/50\n",
            "15/15 [==============================] - 0s 13ms/step - loss: 0.8496\n",
            "Epoch 6/50\n",
            "15/15 [==============================] - 0s 13ms/step - loss: 0.7526\n",
            "Epoch 7/50\n",
            "15/15 [==============================] - 0s 13ms/step - loss: 0.6296\n",
            "Epoch 8/50\n",
            "15/15 [==============================] - 0s 13ms/step - loss: 0.5683\n",
            "Epoch 9/50\n",
            "15/15 [==============================] - 0s 13ms/step - loss: 0.4108\n",
            "Epoch 10/50\n",
            "15/15 [==============================] - 0s 13ms/step - loss: 0.4342\n",
            "Epoch 11/50\n",
            "15/15 [==============================] - 0s 13ms/step - loss: 0.3621\n",
            "Epoch 12/50\n",
            "15/15 [==============================] - 0s 13ms/step - loss: 0.3792\n",
            "Epoch 13/50\n",
            "15/15 [==============================] - 0s 14ms/step - loss: 0.2346\n",
            "Epoch 14/50\n",
            "15/15 [==============================] - 0s 13ms/step - loss: 0.1891\n",
            "Epoch 15/50\n",
            "15/15 [==============================] - 0s 13ms/step - loss: 0.1387\n",
            "Epoch 16/50\n",
            "15/15 [==============================] - 0s 13ms/step - loss: 0.1213\n",
            "Epoch 17/50\n",
            "15/15 [==============================] - 0s 13ms/step - loss: 0.0990\n",
            "Epoch 18/50\n",
            "15/15 [==============================] - 0s 13ms/step - loss: 0.2649\n",
            "Epoch 19/50\n",
            "15/15 [==============================] - 0s 13ms/step - loss: 1.3228\n",
            "Epoch 20/50\n",
            "15/15 [==============================] - 0s 13ms/step - loss: 0.6148\n",
            "Epoch 21/50\n",
            "15/15 [==============================] - 0s 13ms/step - loss: 0.3343\n",
            "Epoch 22/50\n",
            "15/15 [==============================] - 0s 13ms/step - loss: 0.2108\n",
            "Epoch 23/50\n",
            "15/15 [==============================] - 0s 14ms/step - loss: 0.1657\n",
            "Epoch 24/50\n",
            "15/15 [==============================] - 0s 13ms/step - loss: 0.3595\n",
            "Epoch 25/50\n",
            "15/15 [==============================] - 0s 13ms/step - loss: 0.3594\n",
            "Epoch 26/50\n",
            "15/15 [==============================] - 0s 13ms/step - loss: 0.6055\n",
            "Epoch 27/50\n",
            "15/15 [==============================] - 0s 13ms/step - loss: 0.4205\n",
            "Epoch 28/50\n",
            "15/15 [==============================] - 0s 13ms/step - loss: 0.2305\n",
            "Epoch 29/50\n",
            "15/15 [==============================] - 0s 13ms/step - loss: 0.1278\n",
            "Epoch 30/50\n",
            "15/15 [==============================] - 0s 13ms/step - loss: 0.0880\n",
            "Epoch 31/50\n",
            "15/15 [==============================] - 0s 13ms/step - loss: 0.0658\n",
            "Epoch 32/50\n",
            "15/15 [==============================] - 0s 13ms/step - loss: 0.0552\n",
            "Epoch 33/50\n",
            "15/15 [==============================] - 0s 13ms/step - loss: 0.0511\n",
            "Epoch 34/50\n",
            "15/15 [==============================] - 0s 13ms/step - loss: 0.0435\n",
            "Epoch 35/50\n",
            "15/15 [==============================] - 0s 13ms/step - loss: 0.0372\n",
            "Epoch 36/50\n",
            "15/15 [==============================] - 0s 13ms/step - loss: 0.0343\n",
            "Epoch 37/50\n",
            "15/15 [==============================] - 0s 13ms/step - loss: 0.0312\n",
            "Epoch 38/50\n",
            "15/15 [==============================] - 0s 13ms/step - loss: 0.0293\n",
            "Epoch 39/50\n",
            "15/15 [==============================] - 0s 13ms/step - loss: 0.0286\n",
            "Epoch 40/50\n",
            "15/15 [==============================] - 0s 13ms/step - loss: 0.0254\n",
            "Epoch 41/50\n",
            "15/15 [==============================] - 0s 13ms/step - loss: 0.0246\n",
            "Epoch 42/50\n",
            "15/15 [==============================] - 0s 13ms/step - loss: 0.0213\n",
            "Epoch 43/50\n",
            "15/15 [==============================] - 0s 13ms/step - loss: 0.0194\n",
            "Epoch 44/50\n",
            "15/15 [==============================] - 0s 13ms/step - loss: 0.0192\n",
            "Epoch 45/50\n",
            "15/15 [==============================] - 0s 13ms/step - loss: 0.0176\n",
            "Epoch 46/50\n",
            "15/15 [==============================] - 0s 13ms/step - loss: 0.0162\n",
            "Epoch 47/50\n",
            "15/15 [==============================] - 0s 13ms/step - loss: 0.0155\n",
            "Epoch 48/50\n",
            "15/15 [==============================] - 0s 13ms/step - loss: 0.0147\n",
            "Epoch 49/50\n",
            "15/15 [==============================] - 0s 13ms/step - loss: 0.0141\n",
            "Epoch 50/50\n",
            "15/15 [==============================] - 0s 13ms/step - loss: 0.0136\n"
          ]
        },
        {
          "output_type": "execute_result",
          "data": {
            "text/plain": [
              "<keras.callbacks.History at 0x7f4c29680410>"
            ]
          },
          "metadata": {},
          "execution_count": 15
        }
      ]
    },
    {
      "cell_type": "code",
      "metadata": {
        "id": "6L-SvFeOAK5z",
        "colab": {
          "base_uri": "https://localhost:8080/"
        },
        "outputId": "b991fa9b-95f5-4153-f655-f409868e84e5"
      },
      "source": [
        "start = numpy.random.randint(0, len(dataX)-1)\n",
        "pattern = dataX[start]\n",
        "print(\"Seed:\")\n",
        "print(\"\\\"\", ''.join([int_to_char[value] for value in pattern]), \"\\\"\")\n",
        "\n",
        "# generate characters\n",
        "for i in range(100):\n",
        "\tx = numpy.reshape(pattern, (1, len(pattern), 1))\n",
        "\tx = x / float(n_vocab)\n",
        "\tprediction = model.predict(x, verbose=0)\n",
        "\tindex = numpy.argmax(prediction)\n",
        "\tresult = int_to_char[index]\n",
        "\tprint(result, end=\"\")\n",
        "\tpattern.append(index)\n",
        "\tpattern = pattern[1:len(pattern)]\n",
        "print(\"\\nDone.\")"
      ],
      "execution_count": 16,
      "outputs": [
        {
          "output_type": "stream",
          "name": "stdout",
          "text": [
            "Seed:\n",
            "\" hijklmnopq \"\n",
            "rstuvwxyz0123456789abcdefghijklmnopqrstuvwxyz0123456789abcdefghijklmnopqrstuvwxyz0123456789abcdefghi\n",
            "Done.\n"
          ]
        }
      ]
    }
  ]
}