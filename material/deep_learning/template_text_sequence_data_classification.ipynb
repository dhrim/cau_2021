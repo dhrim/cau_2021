{
  "nbformat": 4,
  "nbformat_minor": 0,
  "metadata": {
    "colab": {
      "name": "template_text_sequence_data_classification.ipynb",
      "provenance": [],
      "collapsed_sections": [],
      "toc_visible": true
    },
    "kernelspec": {
      "name": "python3",
      "display_name": "Python 3"
    },
    "language_info": {
      "name": "python"
    },
    "accelerator": "GPU"
  },
  "cells": [
    {
      "cell_type": "markdown",
      "metadata": {
        "id": "mZAFnuGfwqy-"
      },
      "source": [
        "# 텍스트 순차열 데이터 분류 Template"
      ]
    },
    {
      "cell_type": "markdown",
      "metadata": {
        "id": "Hb0EOx6OyNIw"
      },
      "source": [
        "# 데이터 준비"
      ]
    },
    {
      "cell_type": "code",
      "metadata": {
        "id": "VBfCpbwh0h9R"
      },
      "source": [
        "import numpy as np\n",
        "import matplotlib.pyplot as plt\n"
      ],
      "execution_count": 10,
      "outputs": []
    },
    {
      "cell_type": "markdown",
      "metadata": {
        "id": "B5AtaEi6yPhX"
      },
      "source": [
        "## 기반 문자열 생성"
      ]
    },
    {
      "cell_type": "code",
      "metadata": {
        "id": "V6wKtOwFwqXM"
      },
      "source": [
        "BASE_STRING = \"abcde12345\"\n",
        "text_data = BASE_STRING*10\n",
        "CATEGORY_NUM = 2"
      ],
      "execution_count": 11,
      "outputs": []
    },
    {
      "cell_type": "code",
      "metadata": {
        "id": "6RAkHiJbxNfE"
      },
      "source": [
        "SEQUENCE_LENGTH = 5\n",
        "OFFSET = 1"
      ],
      "execution_count": 12,
      "outputs": []
    },
    {
      "cell_type": "markdown",
      "metadata": {
        "id": "f-z-YNfNDBn5"
      },
      "source": [
        "## 입출력 데이터 생성\n",
        "\n",
        "'abcde12345abcde12345'의 문자열로 다음의 입출력 데이터를 생성한다.\n",
        "```\n",
        "'abcde' -> T\n",
        "'bcde1' -> F\n",
        "'cde12' -> T\n",
        "'de123' -> F\n",
        "...\n",
        "'e1234' -> T\n",
        "```\n",
        "\n",
        "다음 문자열이 알파벳이면 1, 숫자이면 0을 출력으로 한다."
      ]
    },
    {
      "cell_type": "code",
      "metadata": {
        "id": "yYxpmUQtwqTY"
      },
      "source": [
        "raw_x = []\n",
        "raw_y = []\n",
        "\n",
        "for i in range(len(text_data)):\n",
        "  if i+SEQUENCE_LENGTH+OFFSET >= len(text_data): break\n",
        "  raw_x.append(text_data[i:i+SEQUENCE_LENGTH])\n",
        "  next_ch = text_data[i+SEQUENCE_LENGTH+OFFSET-1]\n",
        "  raw_y.append([ int(next_ch in 'abcde') ])\n",
        "#            0         1         2      \n",
        "#            012345678901234567890123456789\n",
        "# textdata = abcde12345abcde12345abcde12345\n",
        "#               i = 3\n",
        "#               <-x->   = [3:8] = 'de123'\n",
        "#                    y  = [8]   = '4' is alpahbe = False = 0\n"
      ],
      "execution_count": 13,
      "outputs": []
    },
    {
      "cell_type": "code",
      "metadata": {
        "colab": {
          "base_uri": "https://localhost:8080/"
        },
        "id": "15RBiNi9wqQU",
        "outputId": "e7503ed2-0bdc-4504-8fc0-d0acdcee4c02"
      },
      "source": [
        "print(len(raw_x))\n",
        "# len(raw_x) = 94 = len(text_data) - SEQUENCE_LENGTH - OFFSET = 100 - 5 - 1"
      ],
      "execution_count": 14,
      "outputs": [
        {
          "output_type": "stream",
          "text": [
            "94\n"
          ],
          "name": "stdout"
        }
      ]
    },
    {
      "cell_type": "markdown",
      "metadata": {
        "id": "S7eFX6jIyrnx"
      },
      "source": [
        "## 데이터를 2차원 벡터화 하기\n",
        "\n",
        "RNN은 2차원 데이터를 입력으로 받는다. 1차원 문자열의 각 문자를 one-hot 인코딩하여 2차원 데이터로 만드렁 준다.<br>\n",
        "입력 데이터와 출력 데이터를 다음의 형태로 준비한다.<br>\n",
        "입력 데이터\n",
        "```\n",
        "문자열 'abc12'을 인코딩한\n",
        "[[0. 0. 0. 0. 0. 1. 0. 0. 0. 0.]\n",
        " [0. 0. 0. 0. 0. 0. 1. 0. 0. 0.]\n",
        " [0. 0. 0. 0. 0. 0. 0. 1. 0. 0.]\n",
        " [1. 0. 0. 0. 0. 0. 0. 0. 0. 0.]\n",
        " [0. 1. 0. 0. 0. 0. 0. 0. 0. 0.]]\n",
        "```\n",
        "\n",
        "\n"
      ]
    },
    {
      "cell_type": "markdown",
      "metadata": {
        "id": "4jO8skDb7p3f"
      },
      "source": [
        "인코딩 디코딩을 위한 유틸 클래스 CharacterTable"
      ]
    },
    {
      "cell_type": "code",
      "metadata": {
        "id": "-atmjECTwqNi"
      },
      "source": [
        "class CharacterTable:\n",
        "\n",
        "    # '1', '2', '3', '4', '5', 'a', 'b', 'c', 'd', 'e'\n",
        "    #  0    1    2    3    4    5    6    7    8    9 \n",
        "\n",
        "    def __init__(self, chars):\n",
        "        self.chars = sorted(set(chars))\n",
        "        self.char_indices = dict((c, i) for i, c in enumerate(self.chars)) # '+' ->  1\n",
        "        self.indices_char = dict((i, c) for i, c in enumerate(self.chars)) #  1  -> '+'\n",
        "\n",
        "    def encode(self, C, num_rows=SEQUENCE_LENGTH):\n",
        "        x = np.zeros((num_rows, len(self.chars)))\n",
        "        for i, c in enumerate(C): # 각 자리 문자마다\n",
        "            x[i, self.char_indices[c]] = 1 # 각 줄의 index만 1로 만든다. one-hot encoding한다.\n",
        "        return x\n",
        "\n",
        "    def decode(self, x):\n",
        "        x = x.argmax(axis=-1)\n",
        "        return \"\".join(self.indices_char[x] for x in x)\n"
      ],
      "execution_count": 15,
      "outputs": []
    },
    {
      "cell_type": "code",
      "metadata": {
        "id": "MW8bFIwAwqKa"
      },
      "source": [
        "ctable = CharacterTable(BASE_STRING)"
      ],
      "execution_count": 16,
      "outputs": []
    },
    {
      "cell_type": "markdown",
      "metadata": {
        "id": "I_fJZA7b7Y-e"
      },
      "source": [
        "다음은 인코딩, 디코딩 예이다."
      ]
    },
    {
      "cell_type": "code",
      "metadata": {
        "id": "vwm40AA-r4tt",
        "colab": {
          "base_uri": "https://localhost:8080/"
        },
        "outputId": "9f8987a3-f8a6-40d3-d9ef-01a51d434246"
      },
      "source": [
        "# 원 문자열\n",
        "org_str = 'abc12'\n",
        "print(f\"org_str='{org_str}'\")\n",
        "\n",
        "# 인코딩된 값\n",
        "encoded = ctable.encode(org_str)\n",
        "# [[0. 0. 0. 0. 0. 1. 0. 0. 0. 0.]    <==== 'a'\n",
        "#  [0. 0. 0. 0. 0. 0. 1. 0. 0. 0.]    <==== 'b'\n",
        "#  [0. 0. 0. 0. 0. 0. 0. 1. 0. 0.]    <==== 'c'\n",
        "#  [1. 0. 0. 0. 0. 0. 0. 0. 0. 0.]    <==== '1'\n",
        "#  [0. 1. 0. 0. 0. 0. 0. 0. 0. 0.]]   <==== '2'\n",
        "print(f\"encoded=\\n{encoded}\")\n",
        "print(f\"encoded.shape={encoded.shape}\")\n",
        "\n",
        "# 다시 디코딩해서 원복한 값\n",
        "decoded = ctable.decode(encoded)\n",
        "print(f\"decoded='{decoded}'\")"
      ],
      "execution_count": 17,
      "outputs": [
        {
          "output_type": "stream",
          "text": [
            "org_str='abc12'\n",
            "encoded=\n",
            "[[0. 0. 0. 0. 0. 1. 0. 0. 0. 0.]\n",
            " [0. 0. 0. 0. 0. 0. 1. 0. 0. 0.]\n",
            " [0. 0. 0. 0. 0. 0. 0. 1. 0. 0.]\n",
            " [1. 0. 0. 0. 0. 0. 0. 0. 0. 0.]\n",
            " [0. 1. 0. 0. 0. 0. 0. 0. 0. 0.]]\n",
            "encoded.shape=(5, 10)\n",
            "decoded='abc12'\n"
          ],
          "name": "stdout"
        }
      ]
    },
    {
      "cell_type": "code",
      "metadata": {
        "colab": {
          "base_uri": "https://localhost:8080/"
        },
        "id": "4mg54AkZ3boa",
        "outputId": "23366423-3fc9-4066-cc40-5a5f4d87f89d"
      },
      "source": [
        "print(\"Vectorization...\")\n",
        "\n",
        "x = np.zeros((len(raw_x), len(raw_x[0]), len(BASE_STRING)), dtype=np.bool)\n",
        "for i, sentence in enumerate(raw_x):\n",
        "    x[i] = ctable.encode(sentence)\n",
        "y = np.array(raw_y).astype(np.int)\n",
        "\n",
        "print(x.shape)\n",
        "print(y.shape)\n",
        "\n",
        "split_at = int(len(x)*0.9)\n",
        "(train_x, test_x) = x[:split_at], x[split_at:]\n",
        "(train_y, test_y) = y[:split_at], y[split_at:]\n",
        "\n",
        "print(\"Training Data:\")\n",
        "print(train_x.shape)\n",
        "print(train_y.shape)\n",
        "\n",
        "print(\"Test Data:\")\n",
        "print(test_x.shape)\n",
        "print(test_y.shape)\n"
      ],
      "execution_count": 18,
      "outputs": [
        {
          "output_type": "stream",
          "text": [
            "Vectorization...\n",
            "(94, 5, 10)\n",
            "(94, 1)\n",
            "Training Data:\n",
            "(84, 5, 10)\n",
            "(84, 1)\n",
            "Test Data:\n",
            "(10, 5, 10)\n",
            "(10, 1)\n"
          ],
          "name": "stdout"
        }
      ]
    },
    {
      "cell_type": "markdown",
      "metadata": {
        "id": "lMq2Om3w8qNy"
      },
      "source": [
        "준비된 데이터는 다음과 같습니다."
      ]
    },
    {
      "cell_type": "code",
      "metadata": {
        "id": "41UcKyn-q5Ez",
        "colab": {
          "base_uri": "https://localhost:8080/"
        },
        "outputId": "98ed6a38-03d6-4016-b18f-bb76ea02789f"
      },
      "source": [
        "print(\"train_x[0]\\n\", train_x[0].astype(np.int))\n",
        "print()\n",
        "print(\"train_y[0]\\n\", train_y[0].astype(np.int))"
      ],
      "execution_count": 19,
      "outputs": [
        {
          "output_type": "stream",
          "text": [
            "train_x[0]\n",
            " [[0 0 0 0 0 1 0 0 0 0]\n",
            " [0 0 0 0 0 0 1 0 0 0]\n",
            " [0 0 0 0 0 0 0 1 0 0]\n",
            " [0 0 0 0 0 0 0 0 1 0]\n",
            " [0 0 0 0 0 0 0 0 0 1]]\n",
            "\n",
            "train_y[0]\n",
            " [0]\n"
          ],
          "name": "stdout"
        }
      ]
    },
    {
      "cell_type": "markdown",
      "metadata": {
        "id": "wa-gM3Nq84XK"
      },
      "source": [
        "준비된 데이터는 인코딩된 값들입니다. 디코딩에서 본 원 문자열은 다음과 같습니다."
      ]
    },
    {
      "cell_type": "code",
      "metadata": {
        "id": "zw_RFfJvrGFM",
        "colab": {
          "base_uri": "https://localhost:8080/"
        },
        "outputId": "ccc018cd-1168-4957-b649-a3f5f99ad984"
      },
      "source": [
        "for i in range(10):\n",
        "  print(\"'\"+ctable.decode(train_x[i])+\"' -> \"+str(train_y[i][0]))"
      ],
      "execution_count": 20,
      "outputs": [
        {
          "output_type": "stream",
          "text": [
            "'abcde' -> 0\n",
            "'bcde1' -> 0\n",
            "'cde12' -> 0\n",
            "'de123' -> 0\n",
            "'e1234' -> 0\n",
            "'12345' -> 1\n",
            "'2345a' -> 1\n",
            "'345ab' -> 1\n",
            "'45abc' -> 1\n",
            "'5abcd' -> 1\n"
          ],
          "name": "stdout"
        }
      ]
    },
    {
      "cell_type": "markdown",
      "metadata": {
        "id": "0-mHtIAk_qU9"
      },
      "source": [
        "# Template"
      ]
    },
    {
      "cell_type": "markdown",
      "metadata": {
        "id": "k3CG02lDAI73"
      },
      "source": [
        "## LSTM"
      ]
    },
    {
      "cell_type": "code",
      "metadata": {
        "colab": {
          "base_uri": "https://localhost:8080/",
          "height": 819
        },
        "id": "GEffW4RR3bgJ",
        "outputId": "30b1d04a-e8e3-4694-c173-1fc0c6819e05"
      },
      "source": [
        "from tensorflow import keras\n",
        "from tensorflow.keras.layers import Dense, RepeatVector, Flatten\n",
        "from tensorflow.keras.layers import Bidirectional, LSTM, GRU\n",
        "\n",
        "input_shape = train_x.shape[1:]\n",
        "# input_shape = (5,10)\n",
        "\n",
        "model = keras.Sequential()\n",
        "model.add(LSTM(128, input_shape=input_shape))\n",
        "model.add(Flatten())\n",
        "model.add(Dense(CATEGORY_NUM, activation=\"softmax\"))\n",
        "model.compile(loss=\"sparse_categorical_crossentropy\", optimizer=\"adam\", metrics=[\"accuracy\"])\n",
        "model.summary()\n",
        "\n",
        "history = model.fit(train_x, train_y, epochs=100, verbose=0, validation_split=0.1, batch_size=128)\n",
        "\n",
        "\n",
        "plt.plot(history.history['loss'])\n",
        "plt.plot(history.history['val_loss'])\n",
        "plt.show()\n",
        "\n",
        "\n",
        "\n",
        "loss, acc = model.evaluate(test_x, test_y)\n",
        "print(\"loss=\", loss)\n",
        "print(\"acc=\", acc)\n",
        "\n",
        "\n",
        "\n",
        "y_ = model.predict(test_x)\n",
        "predicted = np.argmax(y_, axis=-1)\n",
        "\n",
        "plt.plot(test_y, \"o\")\n",
        "plt.plot(predicted, \".\")\n",
        "plt.show()"
      ],
      "execution_count": 21,
      "outputs": [
        {
          "output_type": "stream",
          "text": [
            "Model: \"sequential\"\n",
            "_________________________________________________________________\n",
            "Layer (type)                 Output Shape              Param #   \n",
            "=================================================================\n",
            "lstm (LSTM)                  (None, 128)               71168     \n",
            "_________________________________________________________________\n",
            "flatten (Flatten)            (None, 128)               0         \n",
            "_________________________________________________________________\n",
            "dense (Dense)                (None, 2)                 258       \n",
            "=================================================================\n",
            "Total params: 71,426\n",
            "Trainable params: 71,426\n",
            "Non-trainable params: 0\n",
            "_________________________________________________________________\n"
          ],
          "name": "stdout"
        },
        {
          "output_type": "display_data",
          "data": {
            "image/png": "[encoded data removed]",
            "text/plain": [
              "<Figure size 432x288 with 1 Axes>"
            ]
          },
          "metadata": {
            "needs_background": "light"
          }
        },
        {
          "output_type": "stream",
          "text": [
            "1/1 [==============================] - 0s 16ms/step - loss: 8.1507e-05 - accuracy: 1.0000\n",
            "loss= 8.150665235007182e-05\n",
            "acc= 1.0\n"
          ],
          "name": "stdout"
        },
        {
          "output_type": "display_data",
          "data": {
            "image/png": "[encoded data removed]",
            "text/plain": [
              "<Figure size 432x288 with 1 Axes>"
            ]
          },
          "metadata": {
            "needs_background": "light"
          }
        }
      ]
    },
    {
      "cell_type": "markdown",
      "metadata": {
        "id": "M1sV7tBtAWEz"
      },
      "source": [
        "## GRU"
      ]
    },
    {
      "cell_type": "code",
      "metadata": {
        "colab": {
          "base_uri": "https://localhost:8080/",
          "height": 819
        },
        "id": "usltj8hI3bdL",
        "outputId": "d19d47fc-a4e4-42a0-ca1f-4e8a68040894"
      },
      "source": [
        "from tensorflow import keras\n",
        "from tensorflow.keras.layers import Dense, RepeatVector, Flatten\n",
        "from tensorflow.keras.layers import Bidirectional, LSTM, GRU\n",
        "\n",
        "input_shape = train_x.shape[1:]\n",
        "# input_shape = (5,10)\n",
        "\n",
        "model = keras.Sequential()\n",
        "model.add(GRU(128, input_shape=input_shape))\n",
        "model.add(Flatten())\n",
        "model.add(Dense(CATEGORY_NUM, activation=\"softmax\"))\n",
        "model.compile(loss=\"sparse_categorical_crossentropy\", optimizer=\"adam\", metrics=[\"accuracy\"])\n",
        "model.summary()\n",
        "\n",
        "history = model.fit(train_x, train_y, epochs=100, verbose=0, validation_split=0.1, batch_size=128)\n",
        "\n",
        "\n",
        "plt.plot(history.history['loss'])\n",
        "plt.plot(history.history['val_loss'])\n",
        "plt.show()\n",
        "\n",
        "\n",
        "\n",
        "loss, acc = model.evaluate(test_x, test_y)\n",
        "print(\"loss=\", loss)\n",
        "print(\"acc=\", acc)\n",
        "\n",
        "\n",
        "\n",
        "y_ = model.predict(test_x)\n",
        "predicted = np.argmax(y_, axis=-1)\n",
        "\n",
        "plt.plot(test_y, \"o\")\n",
        "plt.plot(predicted, \".\")\n",
        "plt.show()"
      ],
      "execution_count": 22,
      "outputs": [
        {
          "output_type": "stream",
          "text": [
            "Model: \"sequential_1\"\n",
            "_________________________________________________________________\n",
            "Layer (type)                 Output Shape              Param #   \n",
            "=================================================================\n",
            "gru (GRU)                    (None, 128)               53760     \n",
            "_________________________________________________________________\n",
            "flatten_1 (Flatten)          (None, 128)               0         \n",
            "_________________________________________________________________\n",
            "dense_1 (Dense)              (None, 2)                 258       \n",
            "=================================================================\n",
            "Total params: 54,018\n",
            "Trainable params: 54,018\n",
            "Non-trainable params: 0\n",
            "_________________________________________________________________\n"
          ],
          "name": "stdout"
        },
        {
          "output_type": "display_data",
          "data": {
            "image/png": "[encoded data removed]",
            "text/plain": [
              "<Figure size 432x288 with 1 Axes>"
            ]
          },
          "metadata": {
            "needs_background": "light"
          }
        },
        {
          "output_type": "stream",
          "text": [
            "1/1 [==============================] - 0s 14ms/step - loss: 5.2615e-05 - accuracy: 1.0000\n",
            "loss= 5.26148833159823e-05\n",
            "acc= 1.0\n"
          ],
          "name": "stdout"
        },
        {
          "output_type": "display_data",
          "data": {
            "image/png": "[encoded data removed]",
            "text/plain": [
              "<Figure size 432x288 with 1 Axes>"
            ]
          },
          "metadata": {
            "needs_background": "light"
          }
        }
      ]
    },
    {
      "cell_type": "markdown",
      "metadata": {
        "id": "jCBiKCg9AeHT"
      },
      "source": [
        "## Bidirectional + LSTM"
      ]
    },
    {
      "cell_type": "code",
      "metadata": {
        "id": "azGH_FDbwqHT",
        "colab": {
          "base_uri": "https://localhost:8080/",
          "height": 819
        },
        "outputId": "f3237175-e8dd-4c6e-f260-2ea1696ed48e"
      },
      "source": [
        "from tensorflow import keras\n",
        "from tensorflow.keras.layers import Dense, RepeatVector, Flatten\n",
        "from tensorflow.keras.layers import Bidirectional, LSTM, GRU\n",
        "\n",
        "input_shape = train_x.shape[1:]\n",
        "# input_shape = (5,10)\n",
        "\n",
        "model = keras.Sequential()\n",
        "model.add(Bidirectional(LSTM(128), input_shape=input_shape))\n",
        "model.add(Flatten())\n",
        "model.add(Dense(CATEGORY_NUM, activation=\"softmax\"))\n",
        "model.compile(loss=\"sparse_categorical_crossentropy\", optimizer=\"adam\", metrics=[\"accuracy\"])\n",
        "model.summary()\n",
        "\n",
        "history = model.fit(train_x, train_y, epochs=100, verbose=0, validation_split=0.1, batch_size=128)\n",
        "\n",
        "\n",
        "plt.plot(history.history['loss'])\n",
        "plt.plot(history.history['val_loss'])\n",
        "plt.show()\n",
        "\n",
        "\n",
        "\n",
        "loss, acc = model.evaluate(test_x, test_y)\n",
        "print(\"loss=\", loss)\n",
        "print(\"acc=\", acc)\n",
        "\n",
        "\n",
        "\n",
        "y_ = model.predict(test_x)\n",
        "predicted = np.argmax(y_, axis=-1)\n",
        "\n",
        "plt.plot(test_y, \"o\")\n",
        "plt.plot(predicted, \".\")\n",
        "plt.show()"
      ],
      "execution_count": 23,
      "outputs": [
        {
          "output_type": "stream",
          "text": [
            "Model: \"sequential_2\"\n",
            "_________________________________________________________________\n",
            "Layer (type)                 Output Shape              Param #   \n",
            "=================================================================\n",
            "bidirectional (Bidirectional (None, 256)               142336    \n",
            "_________________________________________________________________\n",
            "flatten_2 (Flatten)          (None, 256)               0         \n",
            "_________________________________________________________________\n",
            "dense_2 (Dense)              (None, 2)                 514       \n",
            "=================================================================\n",
            "Total params: 142,850\n",
            "Trainable params: 142,850\n",
            "Non-trainable params: 0\n",
            "_________________________________________________________________\n"
          ],
          "name": "stdout"
        },
        {
          "output_type": "display_data",
          "data": {
            "image/png": "[encoded data removed]",
            "text/plain": [
              "<Figure size 432x288 with 1 Axes>"
            ]
          },
          "metadata": {
            "needs_background": "light"
          }
        },
        {
          "output_type": "stream",
          "text": [
            "1/1 [==============================] - 0s 14ms/step - loss: 4.6560e-05 - accuracy: 1.0000\n",
            "loss= 4.6560388000216335e-05\n",
            "acc= 1.0\n"
          ],
          "name": "stdout"
        },
        {
          "output_type": "display_data",
          "data": {
            "image/png": "[encoded data removed]",
            "text/plain": [
              "<Figure size 432x288 with 1 Axes>"
            ]
          },
          "metadata": {
            "needs_background": "light"
          }
        }
      ]
    },
    {
      "cell_type": "markdown",
      "metadata": {
        "id": "TfY_p_SJA5Rf"
      },
      "source": [
        "## Bidirectional + GRU"
      ]
    },
    {
      "cell_type": "code",
      "metadata": {
        "id": "OcjycCe8wqEH",
        "colab": {
          "base_uri": "https://localhost:8080/",
          "height": 819
        },
        "outputId": "2dcbbd85-26c8-4b49-c52d-7db43dc14ca1"
      },
      "source": [
        "from tensorflow import keras\n",
        "from tensorflow.keras.layers import Dense, RepeatVector, Flatten\n",
        "from tensorflow.keras.layers import Bidirectional, LSTM, GRU\n",
        "\n",
        "input_shape = train_x.shape[1:]\n",
        "# input_shape = (5,10)\n",
        "\n",
        "model = keras.Sequential()\n",
        "model.add(Bidirectional(GRU(128), input_shape=input_shape))\n",
        "model.add(Flatten())\n",
        "model.add(Dense(CATEGORY_NUM, activation=\"softmax\"))\n",
        "model.compile(loss=\"sparse_categorical_crossentropy\", optimizer=\"adam\", metrics=[\"accuracy\"])\n",
        "model.summary()\n",
        "\n",
        "history = model.fit(train_x, train_y, epochs=100, verbose=0, validation_split=0.1, batch_size=128)\n",
        "\n",
        "\n",
        "plt.plot(history.history['loss'])\n",
        "plt.plot(history.history['val_loss'])\n",
        "plt.show()\n",
        "\n",
        "\n",
        "\n",
        "loss, acc = model.evaluate(test_x, test_y)\n",
        "print(\"loss=\", loss)\n",
        "print(\"acc=\", acc)\n",
        "\n",
        "\n",
        "\n",
        "y_ = model.predict(test_x)\n",
        "predicted = np.argmax(y_, axis=-1)\n",
        "\n",
        "plt.plot(test_y, \"o\")\n",
        "plt.plot(predicted, \".\")\n",
        "plt.show()"
      ],
      "execution_count": 24,
      "outputs": [
        {
          "output_type": "stream",
          "text": [
            "Model: \"sequential_3\"\n",
            "_________________________________________________________________\n",
            "Layer (type)                 Output Shape              Param #   \n",
            "=================================================================\n",
            "bidirectional_1 (Bidirection (None, 256)               107520    \n",
            "_________________________________________________________________\n",
            "flatten_3 (Flatten)          (None, 256)               0         \n",
            "_________________________________________________________________\n",
            "dense_3 (Dense)              (None, 2)                 514       \n",
            "=================================================================\n",
            "Total params: 108,034\n",
            "Trainable params: 108,034\n",
            "Non-trainable params: 0\n",
            "_________________________________________________________________\n"
          ],
          "name": "stdout"
        },
        {
          "output_type": "display_data",
          "data": {
            "image/png": "[encoded data removed]",
            "text/plain": [
              "<Figure size 432x288 with 1 Axes>"
            ]
          },
          "metadata": {
            "needs_background": "light"
          }
        },
        {
          "output_type": "stream",
          "text": [
            "1/1 [==============================] - 0s 15ms/step - loss: 7.0089e-05 - accuracy: 1.0000\n",
            "loss= 7.008880493231118e-05\n",
            "acc= 1.0\n"
          ],
          "name": "stdout"
        },
        {
          "output_type": "display_data",
          "data": {
            "image/png": "[encoded data removed]",
            "text/plain": [
              "<Figure size 432x288 with 1 Axes>"
            ]
          },
          "metadata": {
            "needs_background": "light"
          }
        }
      ]
    },
    {
      "cell_type": "markdown",
      "metadata": {
        "id": "P3aO3WEwA-lR"
      },
      "source": [
        "## stacked"
      ]
    },
    {
      "cell_type": "code",
      "metadata": {
        "id": "xIYi9GUDwqA6",
        "colab": {
          "base_uri": "https://localhost:8080/",
          "height": 893
        },
        "outputId": "cde4289d-0e68-4310-efcc-6aafc95896a1"
      },
      "source": [
        "from tensorflow import keras\n",
        "from tensorflow.keras.layers import Dense, RepeatVector, Flatten\n",
        "from tensorflow.keras.layers import Bidirectional, LSTM, GRU\n",
        "\n",
        "input_shape = train_x.shape[1:]\n",
        "# input_shape = (5,10)\n",
        "\n",
        "model = keras.Sequential()\n",
        "model.add(LSTM(128, input_shape=input_shape, return_sequences=True))\n",
        "model.add(LSTM(128))\n",
        "model.add(Flatten())\n",
        "model.add(Dense(CATEGORY_NUM, activation=\"softmax\"))\n",
        "model.compile(loss=\"sparse_categorical_crossentropy\", optimizer=\"adam\", metrics=[\"accuracy\"])\n",
        "model.summary()\n",
        "\n",
        "history = model.fit(train_x, train_y, epochs=100, verbose=0, validation_split=0.1, batch_size=128)\n",
        "\n",
        "\n",
        "plt.plot(history.history['loss'])\n",
        "plt.plot(history.history['val_loss'])\n",
        "plt.show()\n",
        "\n",
        "\n",
        "\n",
        "loss, acc = model.evaluate(test_x, test_y)\n",
        "print(\"loss=\", loss)\n",
        "print(\"acc=\", acc)\n",
        "\n",
        "\n",
        "\n",
        "y_ = model.predict(test_x)\n",
        "predicted = np.argmax(y_, axis=-1)\n",
        "\n",
        "plt.plot(test_y, \"o\")\n",
        "plt.plot(predicted, \".\")\n",
        "plt.show()"
      ],
      "execution_count": 25,
      "outputs": [
        {
          "output_type": "stream",
          "text": [
            "Model: \"sequential_4\"\n",
            "_________________________________________________________________\n",
            "Layer (type)                 Output Shape              Param #   \n",
            "=================================================================\n",
            "lstm_2 (LSTM)                (None, 5, 128)            71168     \n",
            "_________________________________________________________________\n",
            "lstm_3 (LSTM)                (None, 128)               131584    \n",
            "_________________________________________________________________\n",
            "flatten_4 (Flatten)          (None, 128)               0         \n",
            "_________________________________________________________________\n",
            "dense_4 (Dense)              (None, 2)                 258       \n",
            "=================================================================\n",
            "Total params: 203,010\n",
            "Trainable params: 203,010\n",
            "Non-trainable params: 0\n",
            "_________________________________________________________________\n"
          ],
          "name": "stdout"
        },
        {
          "output_type": "display_data",
          "data": {
            "image/png": "[encoded data removed]",
            "text/plain": [
              "<Figure size 432x288 with 1 Axes>"
            ]
          },
          "metadata": {
            "needs_background": "light"
          }
        },
        {
          "output_type": "stream",
          "text": [
            "1/1 [==============================] - 0s 15ms/step - loss: 8.2850e-06 - accuracy: 1.0000\n",
            "loss= 8.284978321171366e-06\n",
            "acc= 1.0\n",
            "WARNING:tensorflow:5 out of the last 5 calls to <function Model.make_predict_function.<locals>.predict_function at 0x7f1aa01c1050> triggered tf.function retracing. Tracing is expensive and the excessive number of tracings could be due to (1) creating @tf.function repeatedly in a loop, (2) passing tensors with different shapes, (3) passing Python objects instead of tensors. For (1), please define your @tf.function outside of the loop. For (2), @tf.function has experimental_relax_shapes=True option that relaxes argument shapes that can avoid unnecessary retracing. For (3), please refer to https://www.tensorflow.org/guide/function#controlling_retracing and https://www.tensorflow.org/api_docs/python/tf/function for  more details.\n"
          ],
          "name": "stdout"
        },
        {
          "output_type": "display_data",
          "data": {
            "image/png": "[encoded data removed]",
            "text/plain": [
              "<Figure size 432x288 with 1 Axes>"
            ]
          },
          "metadata": {
            "needs_background": "light"
          }
        }
      ]
    },
    {
      "cell_type": "markdown",
      "metadata": {
        "id": "kDUU5YAZksVp"
      },
      "source": [
        "## CNN"
      ]
    },
    {
      "cell_type": "code",
      "metadata": {
        "id": "1D1n9lG9k2ID",
        "colab": {
          "base_uri": "https://localhost:8080/",
          "height": 1000
        },
        "outputId": "99d80df4-bf4f-4c21-f137-04876fa92e2d"
      },
      "source": [
        "from tensorflow import keras\n",
        "from tensorflow.keras.layers import Dense, RepeatVector, Flatten\n",
        "from tensorflow.keras.layers import Bidirectional, LSTM, GRU\n",
        "from tensorflow.keras.layers import Conv2D, MaxPooling2D, Conv1D, MaxPooling1D, Input, Reshape\n",
        "\n",
        "input_shape = train_x.shape[1:]\n",
        "# input_shape = (5,10)\n",
        "\n",
        "model = keras.Sequential()\n",
        "model.add(Conv1D(32, 3, padding=\"same\", input_shape=input_shape))\n",
        "model.add(Conv1D(32, 3, padding=\"same\"))\n",
        "model.add(MaxPooling1D())\n",
        "model.add(Conv1D(32, 3, padding=\"same\"))\n",
        "model.add(Conv1D(32, 3, padding=\"same\"))\n",
        "model.add(MaxPooling1D())\n",
        "model.add(Flatten())\n",
        "model.add(Dense(CATEGORY_NUM, activation=\"softmax\"))\n",
        "model.compile(loss=\"sparse_categorical_crossentropy\", optimizer=\"adam\", metrics=[\"accuracy\"])\n",
        "model.summary()\n",
        "\n",
        "history = model.fit(train_x, train_y, epochs=100, verbose=0, validation_split=0.1, batch_size=128)\n",
        "\n",
        "\n",
        "plt.plot(history.history['loss'])\n",
        "plt.plot(history.history['val_loss'])\n",
        "plt.show()\n",
        "\n",
        "\n",
        "\n",
        "loss, acc = model.evaluate(test_x, test_y)\n",
        "print(\"loss=\", loss)\n",
        "print(\"acc=\", acc)\n",
        "\n",
        "\n",
        "\n",
        "y_ = model.predict(test_x)\n",
        "predicted = np.argmax(y_, axis=-1)\n",
        "\n",
        "plt.plot(test_y, \"o\")\n",
        "plt.plot(predicted, \".\")\n",
        "plt.show()"
      ],
      "execution_count": 26,
      "outputs": [
        {
          "output_type": "stream",
          "text": [
            "Model: \"sequential_5\"\n",
            "_________________________________________________________________\n",
            "Layer (type)                 Output Shape              Param #   \n",
            "=================================================================\n",
            "conv1d (Conv1D)              (None, 5, 32)             992       \n",
            "_________________________________________________________________\n",
            "conv1d_1 (Conv1D)            (None, 5, 32)             3104      \n",
            "_________________________________________________________________\n",
            "max_pooling1d (MaxPooling1D) (None, 2, 32)             0         \n",
            "_________________________________________________________________\n",
            "conv1d_2 (Conv1D)            (None, 2, 32)             3104      \n",
            "_________________________________________________________________\n",
            "conv1d_3 (Conv1D)            (None, 2, 32)             3104      \n",
            "_________________________________________________________________\n",
            "max_pooling1d_1 (MaxPooling1 (None, 1, 32)             0         \n",
            "_________________________________________________________________\n",
            "flatten_5 (Flatten)          (None, 32)                0         \n",
            "_________________________________________________________________\n",
            "dense_5 (Dense)              (None, 2)                 66        \n",
            "=================================================================\n",
            "Total params: 10,370\n",
            "Trainable params: 10,370\n",
            "Non-trainable params: 0\n",
            "_________________________________________________________________\n"
          ],
          "name": "stdout"
        },
        {
          "output_type": "display_data",
          "data": {
            "image/png": "[encoded data removed]",
            "text/plain": [
              "<Figure size 432x288 with 1 Axes>"
            ]
          },
          "metadata": {
            "needs_background": "light"
          }
        },
        {
          "output_type": "stream",
          "text": [
            "1/1 [==============================] - 0s 22ms/step - loss: 2.9328e-04 - accuracy: 1.0000\n",
            "loss= 0.00029327557422220707\n",
            "acc= 1.0\n",
            "WARNING:tensorflow:6 out of the last 6 calls to <function Model.make_predict_function.<locals>.predict_function at 0x7f1ab619e9e0> triggered tf.function retracing. Tracing is expensive and the excessive number of tracings could be due to (1) creating @tf.function repeatedly in a loop, (2) passing tensors with different shapes, (3) passing Python objects instead of tensors. For (1), please define your @tf.function outside of the loop. For (2), @tf.function has experimental_relax_shapes=True option that relaxes argument shapes that can avoid unnecessary retracing. For (3), please refer to https://www.tensorflow.org/guide/function#controlling_retracing and https://www.tensorflow.org/api_docs/python/tf/function for  more details.\n"
          ],
          "name": "stdout"
        },
        {
          "output_type": "display_data",
          "data": {
            "image/png": "[encoded data removed]",
            "text/plain": [
              "<Figure size 432x288 with 1 Axes>"
            ]
          },
          "metadata": {
            "needs_background": "light"
          }
        }
      ]
    },
    {
      "cell_type": "markdown",
      "metadata": {
        "id": "FUjeezafksMt"
      },
      "source": [
        "## CNN + LSTM"
      ]
    },
    {
      "cell_type": "code",
      "metadata": {
        "id": "emE8KhR9BF-Z",
        "colab": {
          "base_uri": "https://localhost:8080/",
          "height": 891
        },
        "outputId": "83dd0b1e-d927-45ba-d951-00dd4bb6d7ff"
      },
      "source": [
        "from tensorflow import keras\n",
        "from tensorflow.keras.layers import Dense, RepeatVector, Flatten\n",
        "from tensorflow.keras.layers import Bidirectional, LSTM, GRU\n",
        "from tensorflow.keras.layers import Conv2D, MaxPooling2D, Conv1D, MaxPooling1D, Input, Reshape\n",
        "\n",
        "input_shape = train_x.shape[1:]\n",
        "# input_shape = (5,10)\n",
        "\n",
        "model = keras.Sequential()\n",
        "model.add(Conv1D(32, 3, padding=\"same\", input_shape=input_shape))\n",
        "model.add(Conv1D(32, 3, padding=\"same\"))\n",
        "model.add(LSTM(128))\n",
        "model.add(Flatten())\n",
        "model.add(Dense(CATEGORY_NUM, activation=\"softmax\"))\n",
        "model.compile(loss=\"sparse_categorical_crossentropy\", optimizer=\"adam\", metrics=[\"accuracy\"])\n",
        "model.summary()\n",
        "\n",
        "history = model.fit(train_x, train_y, epochs=100, verbose=0, validation_split=0.1, batch_size=128)\n",
        "\n",
        "\n",
        "plt.plot(history.history['loss'])\n",
        "plt.plot(history.history['val_loss'])\n",
        "plt.show()\n",
        "\n",
        "\n",
        "\n",
        "loss, acc = model.evaluate(test_x, test_y)\n",
        "print(\"loss=\", loss)\n",
        "print(\"acc=\", acc)\n",
        "\n",
        "\n",
        "\n",
        "y_ = model.predict(test_x)\n",
        "predicted = np.argmax(y_, axis=-1)\n",
        "\n",
        "plt.plot(test_y, \"o\")\n",
        "plt.plot(predicted, \".\")\n",
        "plt.show()"
      ],
      "execution_count": 27,
      "outputs": [
        {
          "output_type": "stream",
          "text": [
            "Model: \"sequential_6\"\n",
            "_________________________________________________________________\n",
            "Layer (type)                 Output Shape              Param #   \n",
            "=================================================================\n",
            "conv1d_4 (Conv1D)            (None, 5, 32)             992       \n",
            "_________________________________________________________________\n",
            "conv1d_5 (Conv1D)            (None, 5, 32)             3104      \n",
            "_________________________________________________________________\n",
            "lstm_4 (LSTM)                (None, 128)               82432     \n",
            "_________________________________________________________________\n",
            "flatten_6 (Flatten)          (None, 128)               0         \n",
            "_________________________________________________________________\n",
            "dense_6 (Dense)              (None, 2)                 258       \n",
            "=================================================================\n",
            "Total params: 86,786\n",
            "Trainable params: 86,786\n",
            "Non-trainable params: 0\n",
            "_________________________________________________________________\n"
          ],
          "name": "stdout"
        },
        {
          "output_type": "display_data",
          "data": {
            "image/png": "[encoded data removed]",
            "text/plain": [
              "<Figure size 432x288 with 1 Axes>"
            ]
          },
          "metadata": {
            "needs_background": "light"
          }
        },
        {
          "output_type": "stream",
          "text": [
            "1/1 [==============================] - 0s 15ms/step - loss: 1.8739e-05 - accuracy: 1.0000\n",
            "loss= 1.8739126971922815e-05\n",
            "acc= 1.0\n"
          ],
          "name": "stdout"
        },
        {
          "output_type": "display_data",
          "data": {
            "image/png": "[encoded data removed]",
            "text/plain": [
              "<Figure size 432x288 with 1 Axes>"
            ]
          },
          "metadata": {
            "needs_background": "light"
          }
        }
      ]
    },
    {
      "cell_type": "code",
      "metadata": {
        "id": "BFJ-cQY9l62C"
      },
      "source": [
        ""
      ],
      "execution_count": 27,
      "outputs": []
    }
  ]
}