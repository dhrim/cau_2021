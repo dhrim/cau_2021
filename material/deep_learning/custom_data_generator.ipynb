{
  "nbformat": 4,
  "nbformat_minor": 0,
  "metadata": {
    "colab": {
      "name": "custom_data_generator.ipynb",
      "provenance": [],
      "collapsed_sections": [],
      "toc_visible": true
    },
    "kernelspec": {
      "name": "python3",
      "display_name": "Python 3"
    },
    "accelerator": "GPU"
  },
  "cells": [
    {
      "cell_type": "code",
      "metadata": {
        "id": "pH--ADDvhXQM"
      },
      "source": [
        "import numpy as np\n",
        "import matplotlib.pyplot as plt\n",
        "\n",
        "import tensorflow as tf\n",
        "from tensorflow import keras\n",
        "from tensorflow.keras import optimizers\n",
        "from tensorflow.keras.layers import Input, Dense, Flatten\n",
        "\n",
        "import time"
      ],
      "execution_count": 1,
      "outputs": []
    },
    {
      "cell_type": "markdown",
      "metadata": {
        "id": "iY37KleXmoaY"
      },
      "source": [
        "# 데이터 준비"
      ]
    },
    {
      "cell_type": "markdown",
      "metadata": {
        "id": "5BEmcWKsmj6V"
      },
      "source": [
        "## 데이터 다운로드"
      ]
    },
    {
      "cell_type": "code",
      "metadata": {
        "id": "46F5aLlSlz6G",
        "colab": {
          "base_uri": "https://localhost:8080/"
        },
        "outputId": "4c0a6a8e-463b-4790-e32e-947dcb49ff1d"
      },
      "source": [
        "(raw_train_x, raw_train_y), (raw_test_x, raw_test_y) = tf.keras.datasets.mnist.load_data()"
      ],
      "execution_count": 2,
      "outputs": [
        {
          "output_type": "stream",
          "name": "stdout",
          "text": [
            "Downloading data from https://storage.googleapis.com/tensorflow/tf-keras-datasets/mnist.npz\n",
            "11493376/11490434 [==============================] - 0s 0us/step\n",
            "11501568/11490434 [==============================] - 0s 0us/step\n"
          ]
        }
      ]
    },
    {
      "cell_type": "code",
      "metadata": {
        "id": "ZGtQOq_Pl_Hp",
        "colab": {
          "base_uri": "https://localhost:8080/"
        },
        "outputId": "fc50b520-f926-42c4-af88-7613de4d5d8e"
      },
      "source": [
        "print(raw_train_x.shape)\n",
        "print(raw_train_y.shape)\n",
        "print(raw_test_x.shape)\n",
        "print(raw_test_y.shape)"
      ],
      "execution_count": 3,
      "outputs": [
        {
          "output_type": "stream",
          "name": "stdout",
          "text": [
            "(60000, 28, 28)\n",
            "(60000,)\n",
            "(10000, 28, 28)\n",
            "(10000,)\n"
          ]
        }
      ]
    },
    {
      "cell_type": "code",
      "source": [
        "i = int(len(raw_train_x)*0.8)\n",
        "raw_train_x, raw_valid_x = raw_train_x[:i], raw_train_x[i:]\n",
        "raw_train_y, raw_valid_y = raw_train_y[:i], raw_train_y[i:]"
      ],
      "metadata": {
        "id": "Ju9LaPD4IE2v"
      },
      "execution_count": 4,
      "outputs": []
    },
    {
      "cell_type": "code",
      "source": [
        "print(raw_train_x.shape)\n",
        "print(raw_train_y.shape)\n",
        "print(raw_valid_x.shape)\n",
        "print(raw_valid_y.shape)\n",
        "print(raw_test_x.shape)\n",
        "print(raw_test_y.shape)"
      ],
      "metadata": {
        "colab": {
          "base_uri": "https://localhost:8080/"
        },
        "id": "XQxpNbaXIU47",
        "outputId": "734c4df7-59ea-4d57-a88f-5c056d34b3fa"
      },
      "execution_count": 5,
      "outputs": [
        {
          "output_type": "stream",
          "name": "stdout",
          "text": [
            "(48000, 28, 28)\n",
            "(48000,)\n",
            "(12000, 28, 28)\n",
            "(12000,)\n",
            "(10000, 28, 28)\n",
            "(10000,)\n"
          ]
        }
      ]
    },
    {
      "cell_type": "code",
      "source": [
        "BATCH_SIZE = 32"
      ],
      "metadata": {
        "id": "Ibz0ZxDoIbUe"
      },
      "execution_count": 7,
      "outputs": []
    },
    {
      "cell_type": "code",
      "source": [
        "import numpy as np\n",
        "import math\n",
        "from tensorflow.keras.utils import Sequence\n",
        "from abc import *\n",
        "import traceback\n",
        "\n",
        "class DataGenerator(Sequence):\n",
        "\n",
        "  def __init__(self, org_image, org_label, batch_size=BATCH_SIZE, shuffle=True):\n",
        "    self.org_image = org_image/255.\n",
        "    self.org_label = org_label\n",
        "    self.batch_size = batch_size\n",
        "    self.shuffle=shuffle\n",
        "    self.on_epoch_end()\n",
        "\n",
        "  def __len__(self):\n",
        "    return math.ceil(len(self.org_image) / self.batch_size)\n",
        "\n",
        "  def __getitem__(self, idx):\n",
        "    indices = self.indices[idx*self.batch_size:(idx+1)*self.batch_size]\n",
        "    batch_x = [self.org_image[i] for i in indices]\n",
        "    batch_y = [self.org_label[i] for i in indices]\n",
        "    return np.array(batch_x), np.array(batch_y)\n",
        "\n",
        "  def on_epoch_end(self):\n",
        "    self.indices = np.arange(len(self.org_image))\n",
        "    if self.shuffle == True:\n",
        "      np.random.shuffle(self.indices)"
      ],
      "metadata": {
        "id": "ublVbb0_HX-5"
      },
      "execution_count": 10,
      "outputs": []
    },
    {
      "cell_type": "code",
      "source": [
        "train_data_generator = DataGenerator(raw_train_x, raw_train_y)\n",
        "valid_data_generator = DataGenerator(raw_valid_x, raw_valid_y)\n",
        "test_data_generator = DataGenerator(raw_test_x, raw_test_y)"
      ],
      "metadata": {
        "id": "ILA7A9fLH1gC"
      },
      "execution_count": 11,
      "outputs": []
    },
    {
      "cell_type": "code",
      "metadata": {
        "id": "CoIUBiMQNt7J",
        "colab": {
          "base_uri": "https://localhost:8080/",
          "height": 282
        },
        "outputId": "cb0e7d60-802d-4d8f-990b-b0c7d837dd22"
      },
      "source": [
        "batch_x, batch_y = train_data_generator.__getitem__(0)\n",
        "\n",
        "plt.imshow(batch_x[0], cmap=plt.cm.binary)\n",
        "print(batch_y[0])"
      ],
      "execution_count": 14,
      "outputs": [
        {
          "output_type": "stream",
          "name": "stdout",
          "text": [
            "2\n"
          ]
        },
        {
          "output_type": "display_data",
          "data": {
            "image/png": "[encoded data removed]",
            "text/plain": [
              "<Figure size 432x288 with 1 Axes>"
            ]
          },
          "metadata": {
            "needs_background": "light"
          }
        }
      ]
    },
    {
      "cell_type": "code",
      "metadata": {
        "id": "gZ-hK0S5xIl7",
        "colab": {
          "base_uri": "https://localhost:8080/"
        },
        "outputId": "f0e169bc-6d93-4ef7-b197-02e23bf3e4e1"
      },
      "source": [
        "\n",
        "model = keras.Sequential()\n",
        "# model.add(Input(28*28))\n",
        "model.add(Input((28,28)))  # ADD\n",
        "model.add(Flatten())       # ADD\n",
        "model.add(Dense(10, activation='relu'))\n",
        "model.add(Dense(10, activation='relu'))\n",
        "model.add(Dense(10, activation='softmax'))\n",
        "\n",
        "model.compile(optimizer=\"adam\", loss=\"sparse_categorical_crossentropy\", metrics=[\"accuracy\"])\n",
        "model.summary()\n",
        "\n",
        "\n",
        "model.fit(train_data_generator, validation_data=valid_data_generator, epochs=5, verbose=1, batch_size=128)\n",
        "\n",
        "\n",
        "loss, acc = model.evaluate(test_data_generator)\n",
        "print(\"loss=\",loss)\n",
        "print(\"acc=\",acc)\n",
        "\n",
        "batch_x, batch_y = test_data_generator.__getitem__(0)\n",
        "y_ = model.predict(batch_x)\n",
        "predicted = np.argmax(y_, axis=1)\n",
        "\n",
        "print(predicted)"
      ],
      "execution_count": 18,
      "outputs": [
        {
          "output_type": "stream",
          "name": "stdout",
          "text": [
            "Model: \"sequential_3\"\n",
            "_________________________________________________________________\n",
            " Layer (type)                Output Shape              Param #   \n",
            "=================================================================\n",
            " flatten_2 (Flatten)         (None, 784)               0         \n",
            "                                                                 \n",
            " dense_9 (Dense)             (None, 10)                7850      \n",
            "                                                                 \n",
            " dense_10 (Dense)            (None, 10)                110       \n",
            "                                                                 \n",
            " dense_11 (Dense)            (None, 10)                110       \n",
            "                                                                 \n",
            "=================================================================\n",
            "Total params: 8,070\n",
            "Trainable params: 8,070\n",
            "Non-trainable params: 0\n",
            "_________________________________________________________________\n",
            "Epoch 1/5\n",
            "1500/1500 [==============================] - 5s 3ms/step - loss: 0.6466 - accuracy: 0.7952 - val_loss: 0.3179 - val_accuracy: 0.9057\n",
            "Epoch 2/5\n",
            "1500/1500 [==============================] - 5s 3ms/step - loss: 0.3093 - accuracy: 0.9090 - val_loss: 0.2733 - val_accuracy: 0.9190\n",
            "Epoch 3/5\n",
            "1500/1500 [==============================] - 5s 3ms/step - loss: 0.2631 - accuracy: 0.9223 - val_loss: 0.2389 - val_accuracy: 0.9296\n",
            "Epoch 4/5\n",
            "1500/1500 [==============================] - 5s 3ms/step - loss: 0.2405 - accuracy: 0.9296 - val_loss: 0.2370 - val_accuracy: 0.9271\n",
            "Epoch 5/5\n",
            "1500/1500 [==============================] - 5s 3ms/step - loss: 0.2260 - accuracy: 0.9329 - val_loss: 0.2193 - val_accuracy: 0.9367\n",
            "313/313 [==============================] - 1s 2ms/step - loss: 0.2227 - accuracy: 0.9334\n",
            "loss= 0.2227308601140976\n",
            "acc= 0.9333999752998352\n",
            "[6 1 5 9 6 5 6 0 4 1 6 8 9 7 2 9 5 8 2 0 3 5 8 3 4 9 3 2 8 6 6 0]\n"
          ]
        }
      ]
    },
    {
      "cell_type": "code",
      "metadata": {
        "id": "qtntCeHWW42I"
      },
      "source": [
        ""
      ],
      "execution_count": null,
      "outputs": []
    }
  ]
}